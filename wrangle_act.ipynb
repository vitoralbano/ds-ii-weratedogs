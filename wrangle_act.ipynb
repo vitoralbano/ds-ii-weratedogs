{
 "cells": [
  {
   "cell_type": "code",
   "execution_count": 1,
   "metadata": {},
   "outputs": [],
   "source": [
    "import pandas as pd\n",
    "import numpy as np\n",
    "import requests\n",
    "import tweepy\n",
    "import json\n",
    "import os\n",
    "import re\n",
    "from IPython.display import clear_output"
   ]
  },
  {
   "cell_type": "markdown",
   "metadata": {},
   "source": [
    "------\n",
    "<a id=\"indice\"></a>\n",
    "\n",
    "# Índice"
   ]
  },
  {
   "cell_type": "markdown",
   "metadata": {},
   "source": [
    "1. **[Coleta](#coleta)**\n",
    "    * [Twitter Archive](#coleta:twitter-archive)\n",
    "    * [Image Prediction](#coleta:image-prediction)\n",
    "    * [Twitter API](#coleta:twitter-api)\n",
    "    \n",
    "    \n",
    "2. **[Avaliação](#avaliacao)**\n",
    "    * [Twitter Archive](#avaliacao:twitter-archive)\n",
    "    * [Image Prediction](#avaliacao:image-prediction)\n",
    "    * [Twitter API](#avaliacao:twitter-api)\n",
    "    * [Notas da avaliação](#avaliacao:anotacoes)\n",
    "    \n",
    "    \n",
    "3. **[Limpeza](#limpeza)**\n",
    "    * [Definição](#limpeza:definicao)\n",
    "    * [Twitter Archive](#limpeza:twitter-archive)\n",
    "    * [Image Prediction](#limpeza:image-prediction)\n",
    "    * [Twitter API](#limpeza:twitter-api)\n",
    "\n",
    "\n",
    "4. **[Armazenamento](#armazenamento)**"
   ]
  },
  {
   "cell_type": "markdown",
   "metadata": {},
   "source": [
    "------\n",
    "<a id=\"coleta\"></a>"
   ]
  },
  {
   "cell_type": "markdown",
   "metadata": {},
   "source": [
    "# Coleta"
   ]
  },
  {
   "cell_type": "markdown",
   "metadata": {},
   "source": [
    "<a id=\"coleta:twitter-archive\"></a>"
   ]
  },
  {
   "cell_type": "markdown",
   "metadata": {},
   "source": [
    "## Coleta: Twitter archive"
   ]
  },
  {
   "cell_type": "code",
   "execution_count": 2,
   "metadata": {},
   "outputs": [
    {
     "data": {
      "text/html": [
       "<div>\n",
       "<style scoped>\n",
       "    .dataframe tbody tr th:only-of-type {\n",
       "        vertical-align: middle;\n",
       "    }\n",
       "\n",
       "    .dataframe tbody tr th {\n",
       "        vertical-align: top;\n",
       "    }\n",
       "\n",
       "    .dataframe thead th {\n",
       "        text-align: right;\n",
       "    }\n",
       "</style>\n",
       "<table border=\"1\" class=\"dataframe\">\n",
       "  <thead>\n",
       "    <tr style=\"text-align: right;\">\n",
       "      <th></th>\n",
       "      <th>tweet_id</th>\n",
       "      <th>in_reply_to_status_id</th>\n",
       "      <th>in_reply_to_user_id</th>\n",
       "      <th>timestamp</th>\n",
       "      <th>source</th>\n",
       "      <th>text</th>\n",
       "      <th>retweeted_status_id</th>\n",
       "      <th>retweeted_status_user_id</th>\n",
       "      <th>retweeted_status_timestamp</th>\n",
       "      <th>expanded_urls</th>\n",
       "      <th>rating_numerator</th>\n",
       "      <th>rating_denominator</th>\n",
       "      <th>name</th>\n",
       "      <th>doggo</th>\n",
       "      <th>floofer</th>\n",
       "      <th>pupper</th>\n",
       "      <th>puppo</th>\n",
       "    </tr>\n",
       "  </thead>\n",
       "  <tbody>\n",
       "    <tr>\n",
       "      <th>1018</th>\n",
       "      <td>746818907684614144</td>\n",
       "      <td>6.914169e+17</td>\n",
       "      <td>4.196984e+09</td>\n",
       "      <td>2016-06-25 21:34:37 +0000</td>\n",
       "      <td>&lt;a href=\"http://twitter.com/download/iphone\" r...</td>\n",
       "      <td>Guys... Dog Jesus 2.0\\n13/10 buoyant af https:...</td>\n",
       "      <td>NaN</td>\n",
       "      <td>NaN</td>\n",
       "      <td>NaN</td>\n",
       "      <td>https://twitter.com/dog_rates/status/746818907...</td>\n",
       "      <td>13</td>\n",
       "      <td>10</td>\n",
       "      <td>None</td>\n",
       "      <td>None</td>\n",
       "      <td>None</td>\n",
       "      <td>None</td>\n",
       "      <td>None</td>\n",
       "    </tr>\n",
       "    <tr>\n",
       "      <th>1865</th>\n",
       "      <td>675354435921575936</td>\n",
       "      <td>NaN</td>\n",
       "      <td>NaN</td>\n",
       "      <td>2015-12-11 16:40:19 +0000</td>\n",
       "      <td>&lt;a href=\"http://twitter.com\" rel=\"nofollow\"&gt;Tw...</td>\n",
       "      <td>Everyone needs to watch this. 13/10 https://t....</td>\n",
       "      <td>NaN</td>\n",
       "      <td>NaN</td>\n",
       "      <td>NaN</td>\n",
       "      <td>https://twitter.com/dog_rates/status/675354435...</td>\n",
       "      <td>13</td>\n",
       "      <td>10</td>\n",
       "      <td>None</td>\n",
       "      <td>None</td>\n",
       "      <td>None</td>\n",
       "      <td>None</td>\n",
       "      <td>None</td>\n",
       "    </tr>\n",
       "  </tbody>\n",
       "</table>\n",
       "</div>"
      ],
      "text/plain": [
       "                tweet_id  in_reply_to_status_id  in_reply_to_user_id  \\\n",
       "1018  746818907684614144           6.914169e+17         4.196984e+09   \n",
       "1865  675354435921575936                    NaN                  NaN   \n",
       "\n",
       "                      timestamp  \\\n",
       "1018  2016-06-25 21:34:37 +0000   \n",
       "1865  2015-12-11 16:40:19 +0000   \n",
       "\n",
       "                                                 source  \\\n",
       "1018  <a href=\"http://twitter.com/download/iphone\" r...   \n",
       "1865  <a href=\"http://twitter.com\" rel=\"nofollow\">Tw...   \n",
       "\n",
       "                                                   text  retweeted_status_id  \\\n",
       "1018  Guys... Dog Jesus 2.0\\n13/10 buoyant af https:...                  NaN   \n",
       "1865  Everyone needs to watch this. 13/10 https://t....                  NaN   \n",
       "\n",
       "      retweeted_status_user_id retweeted_status_timestamp  \\\n",
       "1018                       NaN                        NaN   \n",
       "1865                       NaN                        NaN   \n",
       "\n",
       "                                          expanded_urls  rating_numerator  \\\n",
       "1018  https://twitter.com/dog_rates/status/746818907...                13   \n",
       "1865  https://twitter.com/dog_rates/status/675354435...                13   \n",
       "\n",
       "      rating_denominator  name doggo floofer pupper puppo  \n",
       "1018                  10  None  None    None   None  None  \n",
       "1865                  10  None  None    None   None  None  "
      ]
     },
     "execution_count": 2,
     "metadata": {},
     "output_type": "execute_result"
    }
   ],
   "source": [
    "df_twitter_arc = pd.read_csv('data/twitter-archive-enhanced.csv')\n",
    "df_twitter_arc.sample(2)"
   ]
  },
  {
   "cell_type": "markdown",
   "metadata": {},
   "source": [
    "<a id=\"coleta:image-prediction\"></a>"
   ]
  },
  {
   "cell_type": "markdown",
   "metadata": {},
   "source": [
    "## Coleta: Image prediction"
   ]
  },
  {
   "cell_type": "code",
   "execution_count": 3,
   "metadata": {},
   "outputs": [],
   "source": [
    "df_prediction = None\n",
    "\n",
    "r = requests.get('https://d17h27t6h515a5.cloudfront.net/topher/2017/August/599fd2ad_image-predictions/image-predictions.tsv')\n",
    "\n",
    "if r.status_code is 200:\n",
    "    df_prediction = pd.read_csv(pd.compat.StringIO(r.text), sep='\\t')    \n",
    "else:    \n",
    "    print('ERROR: Image prediction request returned {status_code} status code.'.format(status_code = r.status_code))"
   ]
  },
  {
   "cell_type": "code",
   "execution_count": 4,
   "metadata": {},
   "outputs": [
    {
     "data": {
      "text/html": [
       "<div>\n",
       "<style scoped>\n",
       "    .dataframe tbody tr th:only-of-type {\n",
       "        vertical-align: middle;\n",
       "    }\n",
       "\n",
       "    .dataframe tbody tr th {\n",
       "        vertical-align: top;\n",
       "    }\n",
       "\n",
       "    .dataframe thead th {\n",
       "        text-align: right;\n",
       "    }\n",
       "</style>\n",
       "<table border=\"1\" class=\"dataframe\">\n",
       "  <thead>\n",
       "    <tr style=\"text-align: right;\">\n",
       "      <th></th>\n",
       "      <th>tweet_id</th>\n",
       "      <th>jpg_url</th>\n",
       "      <th>img_num</th>\n",
       "      <th>p1</th>\n",
       "      <th>p1_conf</th>\n",
       "      <th>p1_dog</th>\n",
       "      <th>p2</th>\n",
       "      <th>p2_conf</th>\n",
       "      <th>p2_dog</th>\n",
       "      <th>p3</th>\n",
       "      <th>p3_conf</th>\n",
       "      <th>p3_dog</th>\n",
       "    </tr>\n",
       "  </thead>\n",
       "  <tbody>\n",
       "    <tr>\n",
       "      <th>863</th>\n",
       "      <td>697259378236399616</td>\n",
       "      <td>https://pbs.twimg.com/media/Ca0ps3AXEAAnp9m.jpg</td>\n",
       "      <td>1</td>\n",
       "      <td>Great_Dane</td>\n",
       "      <td>0.999223</td>\n",
       "      <td>True</td>\n",
       "      <td>boxer</td>\n",
       "      <td>0.000187</td>\n",
       "      <td>True</td>\n",
       "      <td>whippet</td>\n",
       "      <td>0.000151</td>\n",
       "      <td>True</td>\n",
       "    </tr>\n",
       "    <tr>\n",
       "      <th>390</th>\n",
       "      <td>673363615379013632</td>\n",
       "      <td>https://pbs.twimg.com/media/CVhEoq4WcAE8pBm.jpg</td>\n",
       "      <td>1</td>\n",
       "      <td>ox</td>\n",
       "      <td>0.193431</td>\n",
       "      <td>False</td>\n",
       "      <td>warthog</td>\n",
       "      <td>0.123827</td>\n",
       "      <td>False</td>\n",
       "      <td>bison</td>\n",
       "      <td>0.111177</td>\n",
       "      <td>False</td>\n",
       "    </tr>\n",
       "  </tbody>\n",
       "</table>\n",
       "</div>"
      ],
      "text/plain": [
       "               tweet_id                                          jpg_url  \\\n",
       "863  697259378236399616  https://pbs.twimg.com/media/Ca0ps3AXEAAnp9m.jpg   \n",
       "390  673363615379013632  https://pbs.twimg.com/media/CVhEoq4WcAE8pBm.jpg   \n",
       "\n",
       "     img_num          p1   p1_conf  p1_dog       p2   p2_conf  p2_dog  \\\n",
       "863        1  Great_Dane  0.999223    True    boxer  0.000187    True   \n",
       "390        1          ox  0.193431   False  warthog  0.123827   False   \n",
       "\n",
       "          p3   p3_conf  p3_dog  \n",
       "863  whippet  0.000151    True  \n",
       "390    bison  0.111177   False  "
      ]
     },
     "execution_count": 4,
     "metadata": {},
     "output_type": "execute_result"
    }
   ],
   "source": [
    "df_prediction.sample(2)"
   ]
  },
  {
   "cell_type": "markdown",
   "metadata": {},
   "source": [
    "<a id=\"coleta:twitter-api\"></a>"
   ]
  },
  {
   "cell_type": "markdown",
   "metadata": {},
   "source": [
    "## Coleta: Twitter API"
   ]
  },
  {
   "cell_type": "code",
   "execution_count": 5,
   "metadata": {},
   "outputs": [],
   "source": [
    "# Carregar configuração do Twitter App\n",
    "with open('twitter_config.json', 'r', encoding='utf-8') as file:\n",
    "    app_config = json.load(file)"
   ]
  },
  {
   "cell_type": "code",
   "execution_count": 6,
   "metadata": {},
   "outputs": [],
   "source": [
    "# Atribuição da configurações a variaveis locais\n",
    "api_key = app_config['api_key']\n",
    "api_secret = app_config['api_secret']\n",
    "access_token = app_config['access_token']\n",
    "access_secret = app_config['access_secret']"
   ]
  },
  {
   "cell_type": "code",
   "execution_count": 7,
   "metadata": {},
   "outputs": [],
   "source": [
    "# Autentificação ao Twitter App\n",
    "auth = tweepy.OAuthHandler(api_key, api_secret)\n",
    "auth.set_access_token(access_token, access_secret)\n",
    "\n",
    "api = tweepy.API(auth, wait_on_rate_limit=True, wait_on_rate_limit_notify=True)"
   ]
  },
  {
   "cell_type": "markdown",
   "metadata": {},
   "source": [
    "Buscar dados do histórico de Tweets na API"
   ]
  },
  {
   "cell_type": "code",
   "execution_count": 8,
   "metadata": {},
   "outputs": [
    {
     "name": "stdout",
     "output_type": "stream",
     "text": [
      "Dados já salvos em disco, não serão executadas novas requisições à API do Twitter.\n"
     ]
    }
   ],
   "source": [
    "json_path = 'data/tweet_json.txt'\n",
    "error_log = 'data/tweet_error.log'\n",
    "\n",
    "# Salvar Tweets localmente\n",
    "if(not os.path.isfile(json_path)):\n",
    "    print('Aguarde. Dado o volume de requisições, a coleta de tweets pode demorar alguns minutos.')\n",
    "    tweet_count = 0\n",
    "    for tweet_id in df_twitter_arc.tweet_id:\n",
    "        print('{percent}%'.format(percent=int((++tweet_count/df_twitter_arc.tweet_id.size)*100)))\n",
    "        try:\n",
    "            status = api.get_status(tweet_id)\n",
    "            with open(json_path, 'a', newline='\\n') as file:\n",
    "                file.write(f'{json.dumps(status._json)}\\n')\n",
    "\n",
    "        except Exception as err:\n",
    "            with open(error_log, 'a', newline='\\n') as log:\n",
    "                log.write(f'{str(tweet_id)}: {str(err.args[0])}\\n')\n",
    "            print(f'{str(tweet_id)}: {str(err.args[0])}')\n",
    "        \n",
    "        clear_output(wait=True)\n",
    "else:\n",
    "    print('Dados já salvos em disco, não serão executadas novas requisições à API do Twitter.')\n",
    "        "
   ]
  },
  {
   "cell_type": "code",
   "execution_count": 9,
   "metadata": {},
   "outputs": [],
   "source": [
    "# Criar uma lista de Dictionaries com os Tweets carregados\n",
    "tweets = []\n",
    "\n",
    "with open(json_path, 'r') as file:\n",
    "    for line in file:\n",
    "        try:\n",
    "            tweet = json.loads(line)\n",
    "            \n",
    "            if(tweet.get('entities', False)):\n",
    "                if(tweet['entities'].get('media', False) and tweet['entities']['media'][0].get('media_url', False)):\n",
    "                    tweets.append({\n",
    "                        'id': tweet['id'],\n",
    "                        'created_at': tweet['created_at'],\n",
    "                        'in_reply_to_status_id': tweet['in_reply_to_status_id'],\n",
    "                        'in_reply_to_user_id': tweet['in_reply_to_user_id'],\n",
    "                        'is_quote_status': tweet['is_quote_status'],\n",
    "                        'retweet_count': tweet['retweet_count'],\n",
    "                        'favorite_count': tweet['favorite_count'],\n",
    "                        'media_url': tweet['entities']['media'][0]['media_url'],\n",
    "                        'retweeted': tweet['retweeted'],\n",
    "                        'favorited': tweet['favorited']\n",
    "                    })\n",
    "            \n",
    "            \n",
    "        except Exception as e:\n",
    "            print(e) \n",
    "            \n",
    "        "
   ]
  },
  {
   "cell_type": "code",
   "execution_count": 10,
   "metadata": {},
   "outputs": [],
   "source": [
    "# Criar dataframe de Tweets consultados na API\n",
    "columns = tweets[0].keys()\n",
    "df_tweets_api = pd.DataFrame(tweets, columns = columns)"
   ]
  },
  {
   "cell_type": "markdown",
   "metadata": {},
   "source": [
    "------\n",
    "<a id=\"avaliacao\"></a>\n",
    "\n",
    "# Avaliação"
   ]
  },
  {
   "cell_type": "markdown",
   "metadata": {},
   "source": [
    "<a id=\"avaliacao:twitter-archive\"></a>\n",
    "\n",
    "## Avaliação: Twitter data archive"
   ]
  },
  {
   "cell_type": "code",
   "execution_count": 11,
   "metadata": {},
   "outputs": [
    {
     "data": {
      "text/html": [
       "<div>\n",
       "<style scoped>\n",
       "    .dataframe tbody tr th:only-of-type {\n",
       "        vertical-align: middle;\n",
       "    }\n",
       "\n",
       "    .dataframe tbody tr th {\n",
       "        vertical-align: top;\n",
       "    }\n",
       "\n",
       "    .dataframe thead th {\n",
       "        text-align: right;\n",
       "    }\n",
       "</style>\n",
       "<table border=\"1\" class=\"dataframe\">\n",
       "  <thead>\n",
       "    <tr style=\"text-align: right;\">\n",
       "      <th></th>\n",
       "      <th>tweet_id</th>\n",
       "      <th>in_reply_to_status_id</th>\n",
       "      <th>in_reply_to_user_id</th>\n",
       "      <th>timestamp</th>\n",
       "      <th>source</th>\n",
       "      <th>text</th>\n",
       "      <th>retweeted_status_id</th>\n",
       "      <th>retweeted_status_user_id</th>\n",
       "      <th>retweeted_status_timestamp</th>\n",
       "      <th>expanded_urls</th>\n",
       "      <th>rating_numerator</th>\n",
       "      <th>rating_denominator</th>\n",
       "      <th>name</th>\n",
       "      <th>doggo</th>\n",
       "      <th>floofer</th>\n",
       "      <th>pupper</th>\n",
       "      <th>puppo</th>\n",
       "    </tr>\n",
       "  </thead>\n",
       "  <tbody>\n",
       "    <tr>\n",
       "      <th>248</th>\n",
       "      <td>845397057150107648</td>\n",
       "      <td>NaN</td>\n",
       "      <td>NaN</td>\n",
       "      <td>2017-03-24 22:08:59 +0000</td>\n",
       "      <td>&lt;a href=\"http://twitter.com/download/iphone\" r...</td>\n",
       "      <td>Say hello to Mimosa. She's an emotional suppor...</td>\n",
       "      <td>NaN</td>\n",
       "      <td>NaN</td>\n",
       "      <td>NaN</td>\n",
       "      <td>https://www.gofundme.com/help-save-a-pup,https...</td>\n",
       "      <td>13</td>\n",
       "      <td>10</td>\n",
       "      <td>Mimosa</td>\n",
       "      <td>doggo</td>\n",
       "      <td>None</td>\n",
       "      <td>None</td>\n",
       "      <td>None</td>\n",
       "    </tr>\n",
       "    <tr>\n",
       "      <th>849</th>\n",
       "      <td>766008592277377025</td>\n",
       "      <td>NaN</td>\n",
       "      <td>NaN</td>\n",
       "      <td>2016-08-17 20:27:34 +0000</td>\n",
       "      <td>&lt;a href=\"http://twitter.com/download/iphone\" r...</td>\n",
       "      <td>This is Angel. She stole the @ShopWeRateDogs s...</td>\n",
       "      <td>NaN</td>\n",
       "      <td>NaN</td>\n",
       "      <td>NaN</td>\n",
       "      <td>https://twitter.com/dog_rates/status/766008592...</td>\n",
       "      <td>11</td>\n",
       "      <td>10</td>\n",
       "      <td>Angel</td>\n",
       "      <td>None</td>\n",
       "      <td>None</td>\n",
       "      <td>None</td>\n",
       "      <td>None</td>\n",
       "    </tr>\n",
       "    <tr>\n",
       "      <th>1926</th>\n",
       "      <td>674053186244734976</td>\n",
       "      <td>NaN</td>\n",
       "      <td>NaN</td>\n",
       "      <td>2015-12-08 02:29:37 +0000</td>\n",
       "      <td>&lt;a href=\"http://twitter.com/download/iphone\" r...</td>\n",
       "      <td>This is Stanley. Yes he is aware of the spoon'...</td>\n",
       "      <td>NaN</td>\n",
       "      <td>NaN</td>\n",
       "      <td>NaN</td>\n",
       "      <td>https://twitter.com/dog_rates/status/674053186...</td>\n",
       "      <td>10</td>\n",
       "      <td>10</td>\n",
       "      <td>Stanley</td>\n",
       "      <td>None</td>\n",
       "      <td>None</td>\n",
       "      <td>None</td>\n",
       "      <td>None</td>\n",
       "    </tr>\n",
       "    <tr>\n",
       "      <th>464</th>\n",
       "      <td>817415592588222464</td>\n",
       "      <td>NaN</td>\n",
       "      <td>NaN</td>\n",
       "      <td>2017-01-06 17:00:38 +0000</td>\n",
       "      <td>&lt;a href=\"http://twitter.com/download/iphone\" r...</td>\n",
       "      <td>Meet Strudel. He's rather h*ckin pupset that y...</td>\n",
       "      <td>NaN</td>\n",
       "      <td>NaN</td>\n",
       "      <td>NaN</td>\n",
       "      <td>https://www.gofundme.com/help-strudel-walk-aga...</td>\n",
       "      <td>11</td>\n",
       "      <td>10</td>\n",
       "      <td>Strudel</td>\n",
       "      <td>None</td>\n",
       "      <td>None</td>\n",
       "      <td>None</td>\n",
       "      <td>None</td>\n",
       "    </tr>\n",
       "    <tr>\n",
       "      <th>1794</th>\n",
       "      <td>677328882937298944</td>\n",
       "      <td>NaN</td>\n",
       "      <td>NaN</td>\n",
       "      <td>2015-12-17 03:26:04 +0000</td>\n",
       "      <td>&lt;a href=\"http://twitter.com/download/iphone\" r...</td>\n",
       "      <td>This is Derek. All the dogs adore Derek. He's ...</td>\n",
       "      <td>NaN</td>\n",
       "      <td>NaN</td>\n",
       "      <td>NaN</td>\n",
       "      <td>https://twitter.com/dog_rates/status/677328882...</td>\n",
       "      <td>10</td>\n",
       "      <td>10</td>\n",
       "      <td>Derek</td>\n",
       "      <td>None</td>\n",
       "      <td>None</td>\n",
       "      <td>None</td>\n",
       "      <td>None</td>\n",
       "    </tr>\n",
       "  </tbody>\n",
       "</table>\n",
       "</div>"
      ],
      "text/plain": [
       "                tweet_id  in_reply_to_status_id  in_reply_to_user_id  \\\n",
       "248   845397057150107648                    NaN                  NaN   \n",
       "849   766008592277377025                    NaN                  NaN   \n",
       "1926  674053186244734976                    NaN                  NaN   \n",
       "464   817415592588222464                    NaN                  NaN   \n",
       "1794  677328882937298944                    NaN                  NaN   \n",
       "\n",
       "                      timestamp  \\\n",
       "248   2017-03-24 22:08:59 +0000   \n",
       "849   2016-08-17 20:27:34 +0000   \n",
       "1926  2015-12-08 02:29:37 +0000   \n",
       "464   2017-01-06 17:00:38 +0000   \n",
       "1794  2015-12-17 03:26:04 +0000   \n",
       "\n",
       "                                                 source  \\\n",
       "248   <a href=\"http://twitter.com/download/iphone\" r...   \n",
       "849   <a href=\"http://twitter.com/download/iphone\" r...   \n",
       "1926  <a href=\"http://twitter.com/download/iphone\" r...   \n",
       "464   <a href=\"http://twitter.com/download/iphone\" r...   \n",
       "1794  <a href=\"http://twitter.com/download/iphone\" r...   \n",
       "\n",
       "                                                   text  retweeted_status_id  \\\n",
       "248   Say hello to Mimosa. She's an emotional suppor...                  NaN   \n",
       "849   This is Angel. She stole the @ShopWeRateDogs s...                  NaN   \n",
       "1926  This is Stanley. Yes he is aware of the spoon'...                  NaN   \n",
       "464   Meet Strudel. He's rather h*ckin pupset that y...                  NaN   \n",
       "1794  This is Derek. All the dogs adore Derek. He's ...                  NaN   \n",
       "\n",
       "      retweeted_status_user_id retweeted_status_timestamp  \\\n",
       "248                        NaN                        NaN   \n",
       "849                        NaN                        NaN   \n",
       "1926                       NaN                        NaN   \n",
       "464                        NaN                        NaN   \n",
       "1794                       NaN                        NaN   \n",
       "\n",
       "                                          expanded_urls  rating_numerator  \\\n",
       "248   https://www.gofundme.com/help-save-a-pup,https...                13   \n",
       "849   https://twitter.com/dog_rates/status/766008592...                11   \n",
       "1926  https://twitter.com/dog_rates/status/674053186...                10   \n",
       "464   https://www.gofundme.com/help-strudel-walk-aga...                11   \n",
       "1794  https://twitter.com/dog_rates/status/677328882...                10   \n",
       "\n",
       "      rating_denominator     name  doggo floofer pupper puppo  \n",
       "248                   10   Mimosa  doggo    None   None  None  \n",
       "849                   10    Angel   None    None   None  None  \n",
       "1926                  10  Stanley   None    None   None  None  \n",
       "464                   10  Strudel   None    None   None  None  \n",
       "1794                  10    Derek   None    None   None  None  "
      ]
     },
     "execution_count": 11,
     "metadata": {},
     "output_type": "execute_result"
    }
   ],
   "source": [
    " df_twitter_arc.sample(5)"
   ]
  },
  {
   "cell_type": "code",
   "execution_count": 12,
   "metadata": {},
   "outputs": [
    {
     "data": {
      "text/html": [
       "<div>\n",
       "<style scoped>\n",
       "    .dataframe tbody tr th:only-of-type {\n",
       "        vertical-align: middle;\n",
       "    }\n",
       "\n",
       "    .dataframe tbody tr th {\n",
       "        vertical-align: top;\n",
       "    }\n",
       "\n",
       "    .dataframe thead th {\n",
       "        text-align: right;\n",
       "    }\n",
       "</style>\n",
       "<table border=\"1\" class=\"dataframe\">\n",
       "  <thead>\n",
       "    <tr style=\"text-align: right;\">\n",
       "      <th></th>\n",
       "      <th>tweet_id</th>\n",
       "      <th>in_reply_to_status_id</th>\n",
       "      <th>in_reply_to_user_id</th>\n",
       "      <th>retweeted_status_id</th>\n",
       "      <th>retweeted_status_user_id</th>\n",
       "      <th>rating_numerator</th>\n",
       "      <th>rating_denominator</th>\n",
       "    </tr>\n",
       "  </thead>\n",
       "  <tbody>\n",
       "    <tr>\n",
       "      <th>count</th>\n",
       "      <td>2.356000e+03</td>\n",
       "      <td>7.800000e+01</td>\n",
       "      <td>7.800000e+01</td>\n",
       "      <td>1.810000e+02</td>\n",
       "      <td>1.810000e+02</td>\n",
       "      <td>2356.000000</td>\n",
       "      <td>2356.000000</td>\n",
       "    </tr>\n",
       "    <tr>\n",
       "      <th>mean</th>\n",
       "      <td>7.427716e+17</td>\n",
       "      <td>7.455079e+17</td>\n",
       "      <td>2.014171e+16</td>\n",
       "      <td>7.720400e+17</td>\n",
       "      <td>1.241698e+16</td>\n",
       "      <td>13.126486</td>\n",
       "      <td>10.455433</td>\n",
       "    </tr>\n",
       "    <tr>\n",
       "      <th>std</th>\n",
       "      <td>6.856705e+16</td>\n",
       "      <td>7.582492e+16</td>\n",
       "      <td>1.252797e+17</td>\n",
       "      <td>6.236928e+16</td>\n",
       "      <td>9.599254e+16</td>\n",
       "      <td>45.876648</td>\n",
       "      <td>6.745237</td>\n",
       "    </tr>\n",
       "    <tr>\n",
       "      <th>min</th>\n",
       "      <td>6.660209e+17</td>\n",
       "      <td>6.658147e+17</td>\n",
       "      <td>1.185634e+07</td>\n",
       "      <td>6.661041e+17</td>\n",
       "      <td>7.832140e+05</td>\n",
       "      <td>0.000000</td>\n",
       "      <td>0.000000</td>\n",
       "    </tr>\n",
       "    <tr>\n",
       "      <th>25%</th>\n",
       "      <td>6.783989e+17</td>\n",
       "      <td>6.757419e+17</td>\n",
       "      <td>3.086374e+08</td>\n",
       "      <td>7.186315e+17</td>\n",
       "      <td>4.196984e+09</td>\n",
       "      <td>10.000000</td>\n",
       "      <td>10.000000</td>\n",
       "    </tr>\n",
       "    <tr>\n",
       "      <th>50%</th>\n",
       "      <td>7.196279e+17</td>\n",
       "      <td>7.038708e+17</td>\n",
       "      <td>4.196984e+09</td>\n",
       "      <td>7.804657e+17</td>\n",
       "      <td>4.196984e+09</td>\n",
       "      <td>11.000000</td>\n",
       "      <td>10.000000</td>\n",
       "    </tr>\n",
       "    <tr>\n",
       "      <th>75%</th>\n",
       "      <td>7.993373e+17</td>\n",
       "      <td>8.257804e+17</td>\n",
       "      <td>4.196984e+09</td>\n",
       "      <td>8.203146e+17</td>\n",
       "      <td>4.196984e+09</td>\n",
       "      <td>12.000000</td>\n",
       "      <td>10.000000</td>\n",
       "    </tr>\n",
       "    <tr>\n",
       "      <th>max</th>\n",
       "      <td>8.924206e+17</td>\n",
       "      <td>8.862664e+17</td>\n",
       "      <td>8.405479e+17</td>\n",
       "      <td>8.874740e+17</td>\n",
       "      <td>7.874618e+17</td>\n",
       "      <td>1776.000000</td>\n",
       "      <td>170.000000</td>\n",
       "    </tr>\n",
       "  </tbody>\n",
       "</table>\n",
       "</div>"
      ],
      "text/plain": [
       "           tweet_id  in_reply_to_status_id  in_reply_to_user_id  \\\n",
       "count  2.356000e+03           7.800000e+01         7.800000e+01   \n",
       "mean   7.427716e+17           7.455079e+17         2.014171e+16   \n",
       "std    6.856705e+16           7.582492e+16         1.252797e+17   \n",
       "min    6.660209e+17           6.658147e+17         1.185634e+07   \n",
       "25%    6.783989e+17           6.757419e+17         3.086374e+08   \n",
       "50%    7.196279e+17           7.038708e+17         4.196984e+09   \n",
       "75%    7.993373e+17           8.257804e+17         4.196984e+09   \n",
       "max    8.924206e+17           8.862664e+17         8.405479e+17   \n",
       "\n",
       "       retweeted_status_id  retweeted_status_user_id  rating_numerator  \\\n",
       "count         1.810000e+02              1.810000e+02       2356.000000   \n",
       "mean          7.720400e+17              1.241698e+16         13.126486   \n",
       "std           6.236928e+16              9.599254e+16         45.876648   \n",
       "min           6.661041e+17              7.832140e+05          0.000000   \n",
       "25%           7.186315e+17              4.196984e+09         10.000000   \n",
       "50%           7.804657e+17              4.196984e+09         11.000000   \n",
       "75%           8.203146e+17              4.196984e+09         12.000000   \n",
       "max           8.874740e+17              7.874618e+17       1776.000000   \n",
       "\n",
       "       rating_denominator  \n",
       "count         2356.000000  \n",
       "mean            10.455433  \n",
       "std              6.745237  \n",
       "min              0.000000  \n",
       "25%             10.000000  \n",
       "50%             10.000000  \n",
       "75%             10.000000  \n",
       "max            170.000000  "
      ]
     },
     "execution_count": 12,
     "metadata": {},
     "output_type": "execute_result"
    }
   ],
   "source": [
    "df_twitter_arc.describe()"
   ]
  },
  {
   "cell_type": "code",
   "execution_count": 13,
   "metadata": {},
   "outputs": [
    {
     "name": "stdout",
     "output_type": "stream",
     "text": [
      "<class 'pandas.core.frame.DataFrame'>\n",
      "RangeIndex: 2356 entries, 0 to 2355\n",
      "Data columns (total 17 columns):\n",
      "tweet_id                      2356 non-null int64\n",
      "in_reply_to_status_id         78 non-null float64\n",
      "in_reply_to_user_id           78 non-null float64\n",
      "timestamp                     2356 non-null object\n",
      "source                        2356 non-null object\n",
      "text                          2356 non-null object\n",
      "retweeted_status_id           181 non-null float64\n",
      "retweeted_status_user_id      181 non-null float64\n",
      "retweeted_status_timestamp    181 non-null object\n",
      "expanded_urls                 2297 non-null object\n",
      "rating_numerator              2356 non-null int64\n",
      "rating_denominator            2356 non-null int64\n",
      "name                          2356 non-null object\n",
      "doggo                         2356 non-null object\n",
      "floofer                       2356 non-null object\n",
      "pupper                        2356 non-null object\n",
      "puppo                         2356 non-null object\n",
      "dtypes: float64(4), int64(3), object(10)\n",
      "memory usage: 313.0+ KB\n"
     ]
    }
   ],
   "source": [
    "df_twitter_arc.info()"
   ]
  },
  {
   "cell_type": "markdown",
   "metadata": {},
   "source": [
    "<a id=\"twitter-arc:info\"></a>\n",
    "* Dados incompletos, contém apenas 2356 registros dos 5000 anunciados\n",
    "* `in_reply_to_status_id`, `in_reply_to_user_id`, `retweeted_status_id` e `retweeted_status_user_id` em `float`\n",
    "* `timestamp` e `retweeted_status_timestamp` em `string`"
   ]
  },
  {
   "cell_type": "code",
   "execution_count": 14,
   "metadata": {},
   "outputs": [
    {
     "data": {
      "text/html": [
       "<div>\n",
       "<style scoped>\n",
       "    .dataframe tbody tr th:only-of-type {\n",
       "        vertical-align: middle;\n",
       "    }\n",
       "\n",
       "    .dataframe tbody tr th {\n",
       "        vertical-align: top;\n",
       "    }\n",
       "\n",
       "    .dataframe thead th {\n",
       "        text-align: right;\n",
       "    }\n",
       "</style>\n",
       "<table border=\"1\" class=\"dataframe\">\n",
       "  <thead>\n",
       "    <tr style=\"text-align: right;\">\n",
       "      <th></th>\n",
       "      <th>tweet_id</th>\n",
       "      <th>in_reply_to_status_id</th>\n",
       "      <th>in_reply_to_user_id</th>\n",
       "      <th>timestamp</th>\n",
       "      <th>source</th>\n",
       "      <th>text</th>\n",
       "      <th>retweeted_status_id</th>\n",
       "      <th>retweeted_status_user_id</th>\n",
       "      <th>retweeted_status_timestamp</th>\n",
       "      <th>expanded_urls</th>\n",
       "      <th>rating_numerator</th>\n",
       "      <th>rating_denominator</th>\n",
       "      <th>name</th>\n",
       "      <th>doggo</th>\n",
       "      <th>floofer</th>\n",
       "      <th>pupper</th>\n",
       "      <th>puppo</th>\n",
       "    </tr>\n",
       "  </thead>\n",
       "  <tbody>\n",
       "  </tbody>\n",
       "</table>\n",
       "</div>"
      ],
      "text/plain": [
       "Empty DataFrame\n",
       "Columns: [tweet_id, in_reply_to_status_id, in_reply_to_user_id, timestamp, source, text, retweeted_status_id, retweeted_status_user_id, retweeted_status_timestamp, expanded_urls, rating_numerator, rating_denominator, name, doggo, floofer, pupper, puppo]\n",
       "Index: []"
      ]
     },
     "execution_count": 14,
     "metadata": {},
     "output_type": "execute_result"
    }
   ],
   "source": [
    "# Verificar se há IDs duplicados\n",
    "df_twitter_arc[df_twitter_arc.tweet_id.duplicated()]"
   ]
  },
  {
   "cell_type": "markdown",
   "metadata": {},
   "source": [
    "<a id=\"twitter-arc:source\"></a>"
   ]
  },
  {
   "cell_type": "code",
   "execution_count": 15,
   "metadata": {},
   "outputs": [
    {
     "data": {
      "text/plain": [
       "974     <a href=\"https://about.twitter.com/products/tw...\n",
       "2133    <a href=\"http://twitter.com/download/iphone\" r...\n",
       "1593    <a href=\"http://twitter.com/download/iphone\" r...\n",
       "1201    <a href=\"http://vine.co\" rel=\"nofollow\">Vine -...\n",
       "1112    <a href=\"http://twitter.com/download/iphone\" r...\n",
       "604     <a href=\"http://twitter.com/download/iphone\" r...\n",
       "1357    <a href=\"http://twitter.com/download/iphone\" r...\n",
       "1876    <a href=\"http://twitter.com/download/iphone\" r...\n",
       "1455    <a href=\"http://twitter.com/download/iphone\" r...\n",
       "1862    <a href=\"http://twitter.com/download/iphone\" r...\n",
       "Name: source, dtype: object"
      ]
     },
     "execution_count": 15,
     "metadata": {},
     "output_type": "execute_result"
    }
   ],
   "source": [
    "# Visualizar exemplos de dados da coluna `source`\n",
    "df_twitter_arc.loc[:, 'source'].sample(10)"
   ]
  },
  {
   "cell_type": "markdown",
   "metadata": {},
   "source": [
    "Variável `source` é uma URL para a Aplicação utilizada no tweet, sem valor para a unidade de observação"
   ]
  },
  {
   "cell_type": "markdown",
   "metadata": {},
   "source": [
    "<a id=\"twitter-arc:name\"></a>"
   ]
  },
  {
   "cell_type": "code",
   "execution_count": 16,
   "metadata": {},
   "outputs": [
    {
     "data": {
      "text/plain": [
       "286      Riley\n",
       "2036      None\n",
       "386       None\n",
       "763     Sophie\n",
       "1311    Tucker\n",
       "831        Lou\n",
       "2096       Gin\n",
       "137       None\n",
       "1464      None\n",
       "1083    Bayley\n",
       "Name: name, dtype: object"
      ]
     },
     "execution_count": 16,
     "metadata": {},
     "output_type": "execute_result"
    }
   ],
   "source": [
    "# Visualizar exemplos da coluna `name`\n",
    "df_twitter_arc.name.sample(10)"
   ]
  },
  {
   "cell_type": "code",
   "execution_count": 17,
   "metadata": {},
   "outputs": [
    {
     "data": {
      "text/plain": [
       "745"
      ]
     },
     "execution_count": 17,
     "metadata": {},
     "output_type": "execute_result"
    }
   ],
   "source": [
    "df_twitter_arc[df_twitter_arc.name == 'None'].name.count()"
   ]
  },
  {
   "cell_type": "markdown",
   "metadata": {},
   "source": [
    "* Nomes (`name`) preenchidos com valor literal igual a `'None'`, supostamente um valor não preenchido, vazio"
   ]
  },
  {
   "cell_type": "markdown",
   "metadata": {},
   "source": [
    "<a id=\"twitter-arc:category\"></id>"
   ]
  },
  {
   "cell_type": "code",
   "execution_count": 18,
   "metadata": {},
   "outputs": [
    {
     "data": {
      "text/html": [
       "<div>\n",
       "<style scoped>\n",
       "    .dataframe tbody tr th:only-of-type {\n",
       "        vertical-align: middle;\n",
       "    }\n",
       "\n",
       "    .dataframe tbody tr th {\n",
       "        vertical-align: top;\n",
       "    }\n",
       "\n",
       "    .dataframe thead th {\n",
       "        text-align: right;\n",
       "    }\n",
       "</style>\n",
       "<table border=\"1\" class=\"dataframe\">\n",
       "  <thead>\n",
       "    <tr style=\"text-align: right;\">\n",
       "      <th></th>\n",
       "      <th>doggo</th>\n",
       "      <th>floofer</th>\n",
       "      <th>pupper</th>\n",
       "      <th>puppo</th>\n",
       "    </tr>\n",
       "  </thead>\n",
       "  <tbody>\n",
       "    <tr>\n",
       "      <th>539</th>\n",
       "      <td>None</td>\n",
       "      <td>None</td>\n",
       "      <td>None</td>\n",
       "      <td>None</td>\n",
       "    </tr>\n",
       "    <tr>\n",
       "      <th>1840</th>\n",
       "      <td>None</td>\n",
       "      <td>None</td>\n",
       "      <td>None</td>\n",
       "      <td>None</td>\n",
       "    </tr>\n",
       "    <tr>\n",
       "      <th>446</th>\n",
       "      <td>doggo</td>\n",
       "      <td>None</td>\n",
       "      <td>None</td>\n",
       "      <td>None</td>\n",
       "    </tr>\n",
       "    <tr>\n",
       "      <th>413</th>\n",
       "      <td>None</td>\n",
       "      <td>None</td>\n",
       "      <td>None</td>\n",
       "      <td>puppo</td>\n",
       "    </tr>\n",
       "    <tr>\n",
       "      <th>1847</th>\n",
       "      <td>None</td>\n",
       "      <td>None</td>\n",
       "      <td>None</td>\n",
       "      <td>None</td>\n",
       "    </tr>\n",
       "    <tr>\n",
       "      <th>1309</th>\n",
       "      <td>None</td>\n",
       "      <td>None</td>\n",
       "      <td>None</td>\n",
       "      <td>None</td>\n",
       "    </tr>\n",
       "    <tr>\n",
       "      <th>1772</th>\n",
       "      <td>None</td>\n",
       "      <td>None</td>\n",
       "      <td>pupper</td>\n",
       "      <td>None</td>\n",
       "    </tr>\n",
       "    <tr>\n",
       "      <th>166</th>\n",
       "      <td>None</td>\n",
       "      <td>None</td>\n",
       "      <td>None</td>\n",
       "      <td>None</td>\n",
       "    </tr>\n",
       "    <tr>\n",
       "      <th>624</th>\n",
       "      <td>doggo</td>\n",
       "      <td>None</td>\n",
       "      <td>None</td>\n",
       "      <td>None</td>\n",
       "    </tr>\n",
       "    <tr>\n",
       "      <th>1306</th>\n",
       "      <td>None</td>\n",
       "      <td>None</td>\n",
       "      <td>None</td>\n",
       "      <td>None</td>\n",
       "    </tr>\n",
       "  </tbody>\n",
       "</table>\n",
       "</div>"
      ],
      "text/plain": [
       "      doggo floofer  pupper  puppo\n",
       "539    None    None    None   None\n",
       "1840   None    None    None   None\n",
       "446   doggo    None    None   None\n",
       "413    None    None    None  puppo\n",
       "1847   None    None    None   None\n",
       "1309   None    None    None   None\n",
       "1772   None    None  pupper   None\n",
       "166    None    None    None   None\n",
       "624   doggo    None    None   None\n",
       "1306   None    None    None   None"
      ]
     },
     "execution_count": 18,
     "metadata": {},
     "output_type": "execute_result"
    }
   ],
   "source": [
    "# Visualizar exemplo de dados das colunas 'doggo' a 'puppo'\n",
    "df_twitter_arc.loc[:,'doggo':].sample(10)"
   ]
  },
  {
   "cell_type": "markdown",
   "metadata": {},
   "source": [
    "* Valores não preenchidos como 'None' literal"
   ]
  },
  {
   "cell_type": "markdown",
   "metadata": {},
   "source": [
    "Uma variável em várias colunas"
   ]
  },
  {
   "cell_type": "code",
   "execution_count": 19,
   "metadata": {},
   "outputs": [
    {
     "data": {
      "text/plain": [
       "doggo      2\n",
       "floofer    2\n",
       "pupper     2\n",
       "puppo      2\n",
       "dtype: int64"
      ]
     },
     "execution_count": 19,
     "metadata": {},
     "output_type": "execute_result"
    }
   ],
   "source": [
    "# Verificar padrão no preenchimento das classificações\n",
    "df_twitter_arc.loc[:,'doggo':].nunique()"
   ]
  },
  {
   "cell_type": "code",
   "execution_count": 20,
   "metadata": {},
   "outputs": [
    {
     "data": {
      "text/plain": [
       "doggo      0\n",
       "floofer    0\n",
       "pupper     0\n",
       "puppo      0\n",
       "dtype: int64"
      ]
     },
     "execution_count": 20,
     "metadata": {},
     "output_type": "execute_result"
    }
   ],
   "source": [
    "df_twitter_arc.loc[:, 'doggo':'puppo'].isna().sum()"
   ]
  },
  {
   "cell_type": "markdown",
   "metadata": {},
   "source": [
    "<a id=\"twitter-arc:expanded_urls\"></a>\n",
    "\n",
    "Exemplos da coluna `expanded_urls`"
   ]
  },
  {
   "cell_type": "code",
   "execution_count": 21,
   "metadata": {},
   "outputs": [
    {
     "data": {
      "text/plain": [
       "1119    https://twitter.com/dog_rates/status/731285275...\n",
       "445     https://twitter.com/dog_rates/status/819227688...\n",
       "1292    https://twitter.com/dog_rates/status/708109389...\n",
       "1656    https://twitter.com/dog_rates/status/683357973...\n",
       "988     https://twitter.com/dog_rates/status/748977405...\n",
       "1570                        https://vine.co/v/iOuMphL5DBY\n",
       "1355    https://twitter.com/dog_rates/status/703611486...\n",
       "2074    https://twitter.com/dog_rates/status/670842764...\n",
       "1014    https://twitter.com/dog_rates/status/747204161...\n",
       "1655    https://twitter.com/dog_rates/status/683391852...\n",
       "289     https://twitter.com/dog_rates/status/820749716...\n",
       "1266    https://twitter.com/dog_rates/status/709852847...\n",
       "804     https://twitter.com/dog_rates/status/772117678...\n",
       "335     http://us.blastingnews.com/news/2017/02/jfk-an...\n",
       "820     https://twitter.com/dog_rates/status/770414278...\n",
       "1900    https://twitter.com/dog_rates/status/674664755...\n",
       "125     https://twitter.com/dog_rates/status/868622495...\n",
       "1843    https://twitter.com/dog_rates/status/675853064...\n",
       "830     https://twitter.com/dog_rates/status/768855141...\n",
       "1751    https://twitter.com/dog_rates/status/678991772...\n",
       "Name: expanded_urls, dtype: object"
      ]
     },
     "execution_count": 21,
     "metadata": {},
     "output_type": "execute_result"
    }
   ],
   "source": [
    "df_twitter_arc.loc[:, 'expanded_urls'].sample(20)"
   ]
  },
  {
   "cell_type": "code",
   "execution_count": 22,
   "metadata": {},
   "outputs": [
    {
     "data": {
      "text/plain": [
       "False    2297\n",
       "True       59\n",
       "Name: expanded_urls, dtype: int64"
      ]
     },
     "execution_count": 22,
     "metadata": {},
     "output_type": "execute_result"
    }
   ],
   "source": [
    "df_twitter_arc.loc[:, 'expanded_urls'].isna().value_counts()"
   ]
  },
  {
   "cell_type": "markdown",
   "metadata": {},
   "source": [
    "* Registros de `expanded_urls` com URLs para os twittes originais. Não apresenta valor a unidade em observacão"
   ]
  },
  {
   "cell_type": "markdown",
   "metadata": {},
   "source": [
    "------\n",
    "<a id=\"avaliacao:image-prediction\"></a>\n",
    "\n",
    "## Avaliação: Image prediction"
   ]
  },
  {
   "cell_type": "code",
   "execution_count": 23,
   "metadata": {},
   "outputs": [
    {
     "data": {
      "text/html": [
       "<div>\n",
       "<style scoped>\n",
       "    .dataframe tbody tr th:only-of-type {\n",
       "        vertical-align: middle;\n",
       "    }\n",
       "\n",
       "    .dataframe tbody tr th {\n",
       "        vertical-align: top;\n",
       "    }\n",
       "\n",
       "    .dataframe thead th {\n",
       "        text-align: right;\n",
       "    }\n",
       "</style>\n",
       "<table border=\"1\" class=\"dataframe\">\n",
       "  <thead>\n",
       "    <tr style=\"text-align: right;\">\n",
       "      <th></th>\n",
       "      <th>tweet_id</th>\n",
       "      <th>img_num</th>\n",
       "      <th>p1_conf</th>\n",
       "      <th>p2_conf</th>\n",
       "      <th>p3_conf</th>\n",
       "    </tr>\n",
       "  </thead>\n",
       "  <tbody>\n",
       "    <tr>\n",
       "      <th>count</th>\n",
       "      <td>2.075000e+03</td>\n",
       "      <td>2075.000000</td>\n",
       "      <td>2075.000000</td>\n",
       "      <td>2.075000e+03</td>\n",
       "      <td>2.075000e+03</td>\n",
       "    </tr>\n",
       "    <tr>\n",
       "      <th>mean</th>\n",
       "      <td>7.384514e+17</td>\n",
       "      <td>1.203855</td>\n",
       "      <td>0.594548</td>\n",
       "      <td>1.345886e-01</td>\n",
       "      <td>6.032417e-02</td>\n",
       "    </tr>\n",
       "    <tr>\n",
       "      <th>std</th>\n",
       "      <td>6.785203e+16</td>\n",
       "      <td>0.561875</td>\n",
       "      <td>0.271174</td>\n",
       "      <td>1.006657e-01</td>\n",
       "      <td>5.090593e-02</td>\n",
       "    </tr>\n",
       "    <tr>\n",
       "      <th>min</th>\n",
       "      <td>6.660209e+17</td>\n",
       "      <td>1.000000</td>\n",
       "      <td>0.044333</td>\n",
       "      <td>1.011300e-08</td>\n",
       "      <td>1.740170e-10</td>\n",
       "    </tr>\n",
       "    <tr>\n",
       "      <th>25%</th>\n",
       "      <td>6.764835e+17</td>\n",
       "      <td>1.000000</td>\n",
       "      <td>0.364412</td>\n",
       "      <td>5.388625e-02</td>\n",
       "      <td>1.622240e-02</td>\n",
       "    </tr>\n",
       "    <tr>\n",
       "      <th>50%</th>\n",
       "      <td>7.119988e+17</td>\n",
       "      <td>1.000000</td>\n",
       "      <td>0.588230</td>\n",
       "      <td>1.181810e-01</td>\n",
       "      <td>4.944380e-02</td>\n",
       "    </tr>\n",
       "    <tr>\n",
       "      <th>75%</th>\n",
       "      <td>7.932034e+17</td>\n",
       "      <td>1.000000</td>\n",
       "      <td>0.843855</td>\n",
       "      <td>1.955655e-01</td>\n",
       "      <td>9.180755e-02</td>\n",
       "    </tr>\n",
       "    <tr>\n",
       "      <th>max</th>\n",
       "      <td>8.924206e+17</td>\n",
       "      <td>4.000000</td>\n",
       "      <td>1.000000</td>\n",
       "      <td>4.880140e-01</td>\n",
       "      <td>2.734190e-01</td>\n",
       "    </tr>\n",
       "  </tbody>\n",
       "</table>\n",
       "</div>"
      ],
      "text/plain": [
       "           tweet_id      img_num      p1_conf       p2_conf       p3_conf\n",
       "count  2.075000e+03  2075.000000  2075.000000  2.075000e+03  2.075000e+03\n",
       "mean   7.384514e+17     1.203855     0.594548  1.345886e-01  6.032417e-02\n",
       "std    6.785203e+16     0.561875     0.271174  1.006657e-01  5.090593e-02\n",
       "min    6.660209e+17     1.000000     0.044333  1.011300e-08  1.740170e-10\n",
       "25%    6.764835e+17     1.000000     0.364412  5.388625e-02  1.622240e-02\n",
       "50%    7.119988e+17     1.000000     0.588230  1.181810e-01  4.944380e-02\n",
       "75%    7.932034e+17     1.000000     0.843855  1.955655e-01  9.180755e-02\n",
       "max    8.924206e+17     4.000000     1.000000  4.880140e-01  2.734190e-01"
      ]
     },
     "execution_count": 23,
     "metadata": {},
     "output_type": "execute_result"
    }
   ],
   "source": [
    "df_prediction.describe()"
   ]
  },
  {
   "cell_type": "markdown",
   "metadata": {},
   "source": [
    "<a id=\"image-prediction:info\"></info>"
   ]
  },
  {
   "cell_type": "code",
   "execution_count": 24,
   "metadata": {},
   "outputs": [
    {
     "name": "stdout",
     "output_type": "stream",
     "text": [
      "<class 'pandas.core.frame.DataFrame'>\n",
      "RangeIndex: 2075 entries, 0 to 2074\n",
      "Data columns (total 12 columns):\n",
      "tweet_id    2075 non-null int64\n",
      "jpg_url     2075 non-null object\n",
      "img_num     2075 non-null int64\n",
      "p1          2075 non-null object\n",
      "p1_conf     2075 non-null float64\n",
      "p1_dog      2075 non-null bool\n",
      "p2          2075 non-null object\n",
      "p2_conf     2075 non-null float64\n",
      "p2_dog      2075 non-null bool\n",
      "p3          2075 non-null object\n",
      "p3_conf     2075 non-null float64\n",
      "p3_dog      2075 non-null bool\n",
      "dtypes: bool(3), float64(3), int64(2), object(4)\n",
      "memory usage: 152.1+ KB\n"
     ]
    }
   ],
   "source": [
    "df_prediction.info()"
   ]
  },
  {
   "cell_type": "code",
   "execution_count": 25,
   "metadata": {},
   "outputs": [
    {
     "data": {
      "text/html": [
       "<div>\n",
       "<style scoped>\n",
       "    .dataframe tbody tr th:only-of-type {\n",
       "        vertical-align: middle;\n",
       "    }\n",
       "\n",
       "    .dataframe tbody tr th {\n",
       "        vertical-align: top;\n",
       "    }\n",
       "\n",
       "    .dataframe thead th {\n",
       "        text-align: right;\n",
       "    }\n",
       "</style>\n",
       "<table border=\"1\" class=\"dataframe\">\n",
       "  <thead>\n",
       "    <tr style=\"text-align: right;\">\n",
       "      <th></th>\n",
       "      <th>tweet_id</th>\n",
       "      <th>jpg_url</th>\n",
       "      <th>img_num</th>\n",
       "      <th>p1</th>\n",
       "      <th>p1_conf</th>\n",
       "      <th>p1_dog</th>\n",
       "      <th>p2</th>\n",
       "      <th>p2_conf</th>\n",
       "      <th>p2_dog</th>\n",
       "      <th>p3</th>\n",
       "      <th>p3_conf</th>\n",
       "      <th>p3_dog</th>\n",
       "    </tr>\n",
       "  </thead>\n",
       "  <tbody>\n",
       "    <tr>\n",
       "      <th>437</th>\n",
       "      <td>674416750885273600</td>\n",
       "      <td>https://pbs.twimg.com/media/CVwCdCFW4AUHY4D.jpg</td>\n",
       "      <td>1</td>\n",
       "      <td>Chihuahua</td>\n",
       "      <td>0.287201</td>\n",
       "      <td>True</td>\n",
       "      <td>Boston_bull</td>\n",
       "      <td>0.250920</td>\n",
       "      <td>True</td>\n",
       "      <td>whippet</td>\n",
       "      <td>0.141012</td>\n",
       "      <td>True</td>\n",
       "    </tr>\n",
       "    <tr>\n",
       "      <th>1107</th>\n",
       "      <td>723673163800948736</td>\n",
       "      <td>https://pbs.twimg.com/media/CgsA5eFWgAAu0qn.jpg</td>\n",
       "      <td>1</td>\n",
       "      <td>golden_retriever</td>\n",
       "      <td>0.839390</td>\n",
       "      <td>True</td>\n",
       "      <td>Labrador_retriever</td>\n",
       "      <td>0.065706</td>\n",
       "      <td>True</td>\n",
       "      <td>hand_blower</td>\n",
       "      <td>0.012941</td>\n",
       "      <td>False</td>\n",
       "    </tr>\n",
       "    <tr>\n",
       "      <th>122</th>\n",
       "      <td>668221241640230912</td>\n",
       "      <td>https://pbs.twimg.com/media/CUX_rAyWsAYZOQ5.jpg</td>\n",
       "      <td>1</td>\n",
       "      <td>chow</td>\n",
       "      <td>0.395101</td>\n",
       "      <td>True</td>\n",
       "      <td>golden_retriever</td>\n",
       "      <td>0.372115</td>\n",
       "      <td>True</td>\n",
       "      <td>Labrador_retriever</td>\n",
       "      <td>0.148785</td>\n",
       "      <td>True</td>\n",
       "    </tr>\n",
       "    <tr>\n",
       "      <th>1709</th>\n",
       "      <td>818145370475810820</td>\n",
       "      <td>https://pbs.twimg.com/media/C1qi26rW8AMaj9K.jpg</td>\n",
       "      <td>1</td>\n",
       "      <td>golden_retriever</td>\n",
       "      <td>0.621931</td>\n",
       "      <td>True</td>\n",
       "      <td>Labrador_retriever</td>\n",
       "      <td>0.364997</td>\n",
       "      <td>True</td>\n",
       "      <td>redbone</td>\n",
       "      <td>0.003971</td>\n",
       "      <td>True</td>\n",
       "    </tr>\n",
       "    <tr>\n",
       "      <th>2031</th>\n",
       "      <td>883117836046086144</td>\n",
       "      <td>https://pbs.twimg.com/media/DEF2-_hXoAAs62q.jpg</td>\n",
       "      <td>2</td>\n",
       "      <td>golden_retriever</td>\n",
       "      <td>0.949562</td>\n",
       "      <td>True</td>\n",
       "      <td>Labrador_retriever</td>\n",
       "      <td>0.045948</td>\n",
       "      <td>True</td>\n",
       "      <td>kuvasz</td>\n",
       "      <td>0.002471</td>\n",
       "      <td>True</td>\n",
       "    </tr>\n",
       "    <tr>\n",
       "      <th>605</th>\n",
       "      <td>679862121895714818</td>\n",
       "      <td>https://pbs.twimg.com/media/CW9a_h1WwAApmAy.jpg</td>\n",
       "      <td>1</td>\n",
       "      <td>EntleBucher</td>\n",
       "      <td>0.523206</td>\n",
       "      <td>True</td>\n",
       "      <td>Greater_Swiss_Mountain_dog</td>\n",
       "      <td>0.431657</td>\n",
       "      <td>True</td>\n",
       "      <td>Appenzeller</td>\n",
       "      <td>0.044208</td>\n",
       "      <td>True</td>\n",
       "    </tr>\n",
       "    <tr>\n",
       "      <th>2007</th>\n",
       "      <td>877736472329191424</td>\n",
       "      <td>https://pbs.twimg.com/media/DC5YqoQW0AArOLH.jpg</td>\n",
       "      <td>2</td>\n",
       "      <td>Chesapeake_Bay_retriever</td>\n",
       "      <td>0.837956</td>\n",
       "      <td>True</td>\n",
       "      <td>Labrador_retriever</td>\n",
       "      <td>0.062034</td>\n",
       "      <td>True</td>\n",
       "      <td>Weimaraner</td>\n",
       "      <td>0.040599</td>\n",
       "      <td>True</td>\n",
       "    </tr>\n",
       "    <tr>\n",
       "      <th>381</th>\n",
       "      <td>673317986296586240</td>\n",
       "      <td>https://pbs.twimg.com/media/CVgbIobUYAEaeI3.jpg</td>\n",
       "      <td>2</td>\n",
       "      <td>miniature_pinscher</td>\n",
       "      <td>0.384099</td>\n",
       "      <td>True</td>\n",
       "      <td>bloodhound</td>\n",
       "      <td>0.079923</td>\n",
       "      <td>True</td>\n",
       "      <td>Rottweiler</td>\n",
       "      <td>0.068594</td>\n",
       "      <td>True</td>\n",
       "    </tr>\n",
       "    <tr>\n",
       "      <th>827</th>\n",
       "      <td>693486665285931008</td>\n",
       "      <td>https://pbs.twimg.com/ext_tw_video_thumb/69348...</td>\n",
       "      <td>1</td>\n",
       "      <td>sea_lion</td>\n",
       "      <td>0.519811</td>\n",
       "      <td>False</td>\n",
       "      <td>Siamese_cat</td>\n",
       "      <td>0.290971</td>\n",
       "      <td>False</td>\n",
       "      <td>black-footed_ferret</td>\n",
       "      <td>0.039967</td>\n",
       "      <td>False</td>\n",
       "    </tr>\n",
       "    <tr>\n",
       "      <th>1455</th>\n",
       "      <td>777621514455814149</td>\n",
       "      <td>https://pbs.twimg.com/media/Csqqoo5WEAAMTVW.jpg</td>\n",
       "      <td>1</td>\n",
       "      <td>chow</td>\n",
       "      <td>0.999823</td>\n",
       "      <td>True</td>\n",
       "      <td>Norwich_terrier</td>\n",
       "      <td>0.000056</td>\n",
       "      <td>True</td>\n",
       "      <td>Pomeranian</td>\n",
       "      <td>0.000028</td>\n",
       "      <td>True</td>\n",
       "    </tr>\n",
       "  </tbody>\n",
       "</table>\n",
       "</div>"
      ],
      "text/plain": [
       "                tweet_id                                            jpg_url  \\\n",
       "437   674416750885273600    https://pbs.twimg.com/media/CVwCdCFW4AUHY4D.jpg   \n",
       "1107  723673163800948736    https://pbs.twimg.com/media/CgsA5eFWgAAu0qn.jpg   \n",
       "122   668221241640230912    https://pbs.twimg.com/media/CUX_rAyWsAYZOQ5.jpg   \n",
       "1709  818145370475810820    https://pbs.twimg.com/media/C1qi26rW8AMaj9K.jpg   \n",
       "2031  883117836046086144    https://pbs.twimg.com/media/DEF2-_hXoAAs62q.jpg   \n",
       "605   679862121895714818    https://pbs.twimg.com/media/CW9a_h1WwAApmAy.jpg   \n",
       "2007  877736472329191424    https://pbs.twimg.com/media/DC5YqoQW0AArOLH.jpg   \n",
       "381   673317986296586240    https://pbs.twimg.com/media/CVgbIobUYAEaeI3.jpg   \n",
       "827   693486665285931008  https://pbs.twimg.com/ext_tw_video_thumb/69348...   \n",
       "1455  777621514455814149    https://pbs.twimg.com/media/Csqqoo5WEAAMTVW.jpg   \n",
       "\n",
       "      img_num                        p1   p1_conf  p1_dog  \\\n",
       "437         1                 Chihuahua  0.287201    True   \n",
       "1107        1          golden_retriever  0.839390    True   \n",
       "122         1                      chow  0.395101    True   \n",
       "1709        1          golden_retriever  0.621931    True   \n",
       "2031        2          golden_retriever  0.949562    True   \n",
       "605         1               EntleBucher  0.523206    True   \n",
       "2007        2  Chesapeake_Bay_retriever  0.837956    True   \n",
       "381         2        miniature_pinscher  0.384099    True   \n",
       "827         1                  sea_lion  0.519811   False   \n",
       "1455        1                      chow  0.999823    True   \n",
       "\n",
       "                              p2   p2_conf  p2_dog                   p3  \\\n",
       "437                  Boston_bull  0.250920    True              whippet   \n",
       "1107          Labrador_retriever  0.065706    True          hand_blower   \n",
       "122             golden_retriever  0.372115    True   Labrador_retriever   \n",
       "1709          Labrador_retriever  0.364997    True              redbone   \n",
       "2031          Labrador_retriever  0.045948    True               kuvasz   \n",
       "605   Greater_Swiss_Mountain_dog  0.431657    True          Appenzeller   \n",
       "2007          Labrador_retriever  0.062034    True           Weimaraner   \n",
       "381                   bloodhound  0.079923    True           Rottweiler   \n",
       "827                  Siamese_cat  0.290971   False  black-footed_ferret   \n",
       "1455             Norwich_terrier  0.000056    True           Pomeranian   \n",
       "\n",
       "       p3_conf  p3_dog  \n",
       "437   0.141012    True  \n",
       "1107  0.012941   False  \n",
       "122   0.148785    True  \n",
       "1709  0.003971    True  \n",
       "2031  0.002471    True  \n",
       "605   0.044208    True  \n",
       "2007  0.040599    True  \n",
       "381   0.068594    True  \n",
       "827   0.039967   False  \n",
       "1455  0.000028    True  "
      ]
     },
     "execution_count": 25,
     "metadata": {},
     "output_type": "execute_result"
    }
   ],
   "source": [
    "df_prediction.sample(10)"
   ]
  },
  {
   "cell_type": "markdown",
   "metadata": {},
   "source": [
    "<a id=\"image-prediction:p-values\"></a>\n",
    "\n",
    "Valores não padronizados para as variáveis `p1`, `p2` e `p3`"
   ]
  },
  {
   "cell_type": "code",
   "execution_count": 26,
   "metadata": {},
   "outputs": [
    {
     "data": {
      "text/html": [
       "<div>\n",
       "<style scoped>\n",
       "    .dataframe tbody tr th:only-of-type {\n",
       "        vertical-align: middle;\n",
       "    }\n",
       "\n",
       "    .dataframe tbody tr th {\n",
       "        vertical-align: top;\n",
       "    }\n",
       "\n",
       "    .dataframe thead th {\n",
       "        text-align: right;\n",
       "    }\n",
       "</style>\n",
       "<table border=\"1\" class=\"dataframe\">\n",
       "  <thead>\n",
       "    <tr style=\"text-align: right;\">\n",
       "      <th></th>\n",
       "      <th>p1</th>\n",
       "      <th>p2</th>\n",
       "      <th>p3</th>\n",
       "    </tr>\n",
       "  </thead>\n",
       "  <tbody>\n",
       "    <tr>\n",
       "      <th>351</th>\n",
       "      <td>golden_retriever</td>\n",
       "      <td>chow</td>\n",
       "      <td>Irish_terrier</td>\n",
       "    </tr>\n",
       "    <tr>\n",
       "      <th>163</th>\n",
       "      <td>shower_curtain</td>\n",
       "      <td>Chesapeake_Bay_retriever</td>\n",
       "      <td>bathtub</td>\n",
       "    </tr>\n",
       "    <tr>\n",
       "      <th>62</th>\n",
       "      <td>golden_retriever</td>\n",
       "      <td>miniature_poodle</td>\n",
       "      <td>standard_poodle</td>\n",
       "    </tr>\n",
       "    <tr>\n",
       "      <th>655</th>\n",
       "      <td>snorkel</td>\n",
       "      <td>loggerhead</td>\n",
       "      <td>scuba_diver</td>\n",
       "    </tr>\n",
       "    <tr>\n",
       "      <th>1590</th>\n",
       "      <td>English_springer</td>\n",
       "      <td>Brittany_spaniel</td>\n",
       "      <td>Welsh_springer_spaniel</td>\n",
       "    </tr>\n",
       "  </tbody>\n",
       "</table>\n",
       "</div>"
      ],
      "text/plain": [
       "                    p1                        p2                      p3\n",
       "351   golden_retriever                      chow           Irish_terrier\n",
       "163     shower_curtain  Chesapeake_Bay_retriever                 bathtub\n",
       "62    golden_retriever          miniature_poodle         standard_poodle\n",
       "655            snorkel                loggerhead             scuba_diver\n",
       "1590  English_springer          Brittany_spaniel  Welsh_springer_spaniel"
      ]
     },
     "execution_count": 26,
     "metadata": {},
     "output_type": "execute_result"
    }
   ],
   "source": [
    "# Visualização de exemplos de valores nas colunas `p1`, `p2` e `p3`\n",
    "df_prediction.loc[:, ['p1', 'p2', 'p3']].sample(5)"
   ]
  },
  {
   "cell_type": "markdown",
   "metadata": {},
   "source": [
    "<a id=\"image-prediction:duplicated-urls\"></a>\n",
    "\n",
    "Verificar a duplicidade de Tweet ID (`tweet_id`) e Imagens (`jpg_url`)"
   ]
  },
  {
   "cell_type": "code",
   "execution_count": 27,
   "metadata": {},
   "outputs": [
    {
     "data": {
      "text/plain": [
       "2075"
      ]
     },
     "execution_count": 27,
     "metadata": {},
     "output_type": "execute_result"
    }
   ],
   "source": [
    "# Verificar a duplicidade de IDs\n",
    "df_prediction.tweet_id.nunique()"
   ]
  },
  {
   "cell_type": "markdown",
   "metadata": {},
   "source": [
    "Verificar a duplicidade na coluna `jpg_url`"
   ]
  },
  {
   "cell_type": "code",
   "execution_count": 28,
   "metadata": {},
   "outputs": [
    {
     "data": {
      "text/plain": [
       "False    2009\n",
       "True       66\n",
       "Name: jpg_url, dtype: int64"
      ]
     },
     "execution_count": 28,
     "metadata": {},
     "output_type": "execute_result"
    }
   ],
   "source": [
    "df_prediction.jpg_url.duplicated().value_counts()"
   ]
  },
  {
   "cell_type": "markdown",
   "metadata": {},
   "source": [
    "Há 66 imagens duplicadas"
   ]
  },
  {
   "cell_type": "code",
   "execution_count": 29,
   "metadata": {},
   "outputs": [
    {
     "data": {
      "text/plain": [
       "p1_conf    1.000000\n",
       "p2_conf    0.488014\n",
       "p3_conf    0.273419\n",
       "dtype: float64"
      ]
     },
     "execution_count": 29,
     "metadata": {},
     "output_type": "execute_result"
    }
   ],
   "source": [
    "# Validar indicadores de confiabiliade da predição\n",
    "df_prediction.loc[:, ['p1_conf', 'p2_conf', 'p3_conf']].max()"
   ]
  },
  {
   "cell_type": "code",
   "execution_count": null,
   "metadata": {},
   "outputs": [],
   "source": []
  },
  {
   "cell_type": "markdown",
   "metadata": {},
   "source": [
    "------\n",
    "<a id=\"avaliacao:twitter-api\"></a>\n",
    "\n",
    "## Avaliação: Twitter API Requests"
   ]
  },
  {
   "cell_type": "code",
   "execution_count": 30,
   "metadata": {},
   "outputs": [
    {
     "data": {
      "text/html": [
       "<div>\n",
       "<style scoped>\n",
       "    .dataframe tbody tr th:only-of-type {\n",
       "        vertical-align: middle;\n",
       "    }\n",
       "\n",
       "    .dataframe tbody tr th {\n",
       "        vertical-align: top;\n",
       "    }\n",
       "\n",
       "    .dataframe thead th {\n",
       "        text-align: right;\n",
       "    }\n",
       "</style>\n",
       "<table border=\"1\" class=\"dataframe\">\n",
       "  <thead>\n",
       "    <tr style=\"text-align: right;\">\n",
       "      <th></th>\n",
       "      <th>id</th>\n",
       "      <th>in_reply_to_status_id</th>\n",
       "      <th>in_reply_to_user_id</th>\n",
       "      <th>retweet_count</th>\n",
       "      <th>favorite_count</th>\n",
       "    </tr>\n",
       "  </thead>\n",
       "  <tbody>\n",
       "    <tr>\n",
       "      <th>count</th>\n",
       "      <td>1.820000e+03</td>\n",
       "      <td>2.200000e+01</td>\n",
       "      <td>2.200000e+01</td>\n",
       "      <td>1820.000000</td>\n",
       "      <td>1820.000000</td>\n",
       "    </tr>\n",
       "    <tr>\n",
       "      <th>mean</th>\n",
       "      <td>7.237270e+17</td>\n",
       "      <td>6.992047e+17</td>\n",
       "      <td>4.196984e+09</td>\n",
       "      <td>2512.144505</td>\n",
       "      <td>6820.872527</td>\n",
       "    </tr>\n",
       "    <tr>\n",
       "      <th>std</th>\n",
       "      <td>5.777841e+16</td>\n",
       "      <td>4.409222e+16</td>\n",
       "      <td>0.000000e+00</td>\n",
       "      <td>4891.076169</td>\n",
       "      <td>11900.984651</td>\n",
       "    </tr>\n",
       "    <tr>\n",
       "      <th>min</th>\n",
       "      <td>6.660209e+17</td>\n",
       "      <td>6.671522e+17</td>\n",
       "      <td>4.196984e+09</td>\n",
       "      <td>11.000000</td>\n",
       "      <td>0.000000</td>\n",
       "    </tr>\n",
       "    <tr>\n",
       "      <th>25%</th>\n",
       "      <td>6.747671e+17</td>\n",
       "      <td>6.747625e+17</td>\n",
       "      <td>4.196984e+09</td>\n",
       "      <td>536.000000</td>\n",
       "      <td>1363.500000</td>\n",
       "    </tr>\n",
       "    <tr>\n",
       "      <th>50%</th>\n",
       "      <td>7.008223e+17</td>\n",
       "      <td>6.799651e+17</td>\n",
       "      <td>4.196984e+09</td>\n",
       "      <td>1118.000000</td>\n",
       "      <td>3153.000000</td>\n",
       "    </tr>\n",
       "    <tr>\n",
       "      <th>75%</th>\n",
       "      <td>7.617466e+17</td>\n",
       "      <td>7.032024e+17</td>\n",
       "      <td>4.196984e+09</td>\n",
       "      <td>2526.250000</td>\n",
       "      <td>7463.250000</td>\n",
       "    </tr>\n",
       "    <tr>\n",
       "      <th>max</th>\n",
       "      <td>8.924206e+17</td>\n",
       "      <td>8.558181e+17</td>\n",
       "      <td>4.196984e+09</td>\n",
       "      <td>82905.000000</td>\n",
       "      <td>163034.000000</td>\n",
       "    </tr>\n",
       "  </tbody>\n",
       "</table>\n",
       "</div>"
      ],
      "text/plain": [
       "                 id  in_reply_to_status_id  in_reply_to_user_id  \\\n",
       "count  1.820000e+03           2.200000e+01         2.200000e+01   \n",
       "mean   7.237270e+17           6.992047e+17         4.196984e+09   \n",
       "std    5.777841e+16           4.409222e+16         0.000000e+00   \n",
       "min    6.660209e+17           6.671522e+17         4.196984e+09   \n",
       "25%    6.747671e+17           6.747625e+17         4.196984e+09   \n",
       "50%    7.008223e+17           6.799651e+17         4.196984e+09   \n",
       "75%    7.617466e+17           7.032024e+17         4.196984e+09   \n",
       "max    8.924206e+17           8.558181e+17         4.196984e+09   \n",
       "\n",
       "       retweet_count  favorite_count  \n",
       "count    1820.000000     1820.000000  \n",
       "mean     2512.144505     6820.872527  \n",
       "std      4891.076169    11900.984651  \n",
       "min        11.000000        0.000000  \n",
       "25%       536.000000     1363.500000  \n",
       "50%      1118.000000     3153.000000  \n",
       "75%      2526.250000     7463.250000  \n",
       "max     82905.000000   163034.000000  "
      ]
     },
     "execution_count": 30,
     "metadata": {},
     "output_type": "execute_result"
    }
   ],
   "source": [
    "df_tweets_api.describe()"
   ]
  },
  {
   "cell_type": "markdown",
   "metadata": {},
   "source": [
    "<a id=\"tweets-api:info\"></a>"
   ]
  },
  {
   "cell_type": "code",
   "execution_count": 31,
   "metadata": {},
   "outputs": [
    {
     "name": "stdout",
     "output_type": "stream",
     "text": [
      "<class 'pandas.core.frame.DataFrame'>\n",
      "RangeIndex: 1820 entries, 0 to 1819\n",
      "Data columns (total 10 columns):\n",
      "id                       1820 non-null int64\n",
      "created_at               1820 non-null object\n",
      "in_reply_to_status_id    22 non-null float64\n",
      "in_reply_to_user_id      22 non-null float64\n",
      "is_quote_status          1820 non-null bool\n",
      "retweet_count            1820 non-null int64\n",
      "favorite_count           1820 non-null int64\n",
      "media_url                1820 non-null object\n",
      "retweeted                1820 non-null bool\n",
      "favorited                1820 non-null bool\n",
      "dtypes: bool(3), float64(2), int64(3), object(2)\n",
      "memory usage: 104.9+ KB\n"
     ]
    }
   ],
   "source": [
    "df_tweets_api.info()"
   ]
  },
  {
   "cell_type": "code",
   "execution_count": 32,
   "metadata": {},
   "outputs": [
    {
     "data": {
      "text/html": [
       "<div>\n",
       "<style scoped>\n",
       "    .dataframe tbody tr th:only-of-type {\n",
       "        vertical-align: middle;\n",
       "    }\n",
       "\n",
       "    .dataframe tbody tr th {\n",
       "        vertical-align: top;\n",
       "    }\n",
       "\n",
       "    .dataframe thead th {\n",
       "        text-align: right;\n",
       "    }\n",
       "</style>\n",
       "<table border=\"1\" class=\"dataframe\">\n",
       "  <thead>\n",
       "    <tr style=\"text-align: right;\">\n",
       "      <th></th>\n",
       "      <th>id</th>\n",
       "      <th>created_at</th>\n",
       "      <th>in_reply_to_status_id</th>\n",
       "      <th>in_reply_to_user_id</th>\n",
       "      <th>is_quote_status</th>\n",
       "      <th>retweet_count</th>\n",
       "      <th>favorite_count</th>\n",
       "      <th>media_url</th>\n",
       "      <th>retweeted</th>\n",
       "      <th>favorited</th>\n",
       "    </tr>\n",
       "  </thead>\n",
       "  <tbody>\n",
       "    <tr>\n",
       "      <th>780</th>\n",
       "      <td>712097430750289920</td>\n",
       "      <td>Tue Mar 22 02:03:52 +0000 2016</td>\n",
       "      <td>NaN</td>\n",
       "      <td>NaN</td>\n",
       "      <td>False</td>\n",
       "      <td>1091</td>\n",
       "      <td>3932</td>\n",
       "      <td>http://pbs.twimg.com/media/CeHg1klW8AE4YOB.jpg</td>\n",
       "      <td>False</td>\n",
       "      <td>False</td>\n",
       "    </tr>\n",
       "    <tr>\n",
       "      <th>767</th>\n",
       "      <td>714251586676113411</td>\n",
       "      <td>Mon Mar 28 00:43:43 +0000 2016</td>\n",
       "      <td>NaN</td>\n",
       "      <td>NaN</td>\n",
       "      <td>False</td>\n",
       "      <td>880</td>\n",
       "      <td>3385</td>\n",
       "      <td>http://pbs.twimg.com/media/CemIBpfWEAA-TV9.jpg</td>\n",
       "      <td>False</td>\n",
       "      <td>False</td>\n",
       "    </tr>\n",
       "    <tr>\n",
       "      <th>179</th>\n",
       "      <td>813910438903693312</td>\n",
       "      <td>Wed Dec 28 00:52:25 +0000 2016</td>\n",
       "      <td>NaN</td>\n",
       "      <td>NaN</td>\n",
       "      <td>False</td>\n",
       "      <td>2034</td>\n",
       "      <td>9842</td>\n",
       "      <td>http://pbs.twimg.com/media/C0uXObSXUAAIzmV.jpg</td>\n",
       "      <td>False</td>\n",
       "      <td>False</td>\n",
       "    </tr>\n",
       "    <tr>\n",
       "      <th>1432</th>\n",
       "      <td>673352124999274496</td>\n",
       "      <td>Sun Dec 06 04:03:51 +0000 2015</td>\n",
       "      <td>NaN</td>\n",
       "      <td>NaN</td>\n",
       "      <td>False</td>\n",
       "      <td>548</td>\n",
       "      <td>1669</td>\n",
       "      <td>http://pbs.twimg.com/media/CVg6L2hWIAAYuEb.jpg</td>\n",
       "      <td>False</td>\n",
       "      <td>False</td>\n",
       "    </tr>\n",
       "    <tr>\n",
       "      <th>285</th>\n",
       "      <td>792913359805018113</td>\n",
       "      <td>Mon Oct 31 02:17:31 +0000 2016</td>\n",
       "      <td>NaN</td>\n",
       "      <td>NaN</td>\n",
       "      <td>False</td>\n",
       "      <td>4370</td>\n",
       "      <td>15246</td>\n",
       "      <td>http://pbs.twimg.com/media/CwD-eCFWEAAAJox.jpg</td>\n",
       "      <td>False</td>\n",
       "      <td>False</td>\n",
       "    </tr>\n",
       "  </tbody>\n",
       "</table>\n",
       "</div>"
      ],
      "text/plain": [
       "                      id                      created_at  \\\n",
       "780   712097430750289920  Tue Mar 22 02:03:52 +0000 2016   \n",
       "767   714251586676113411  Mon Mar 28 00:43:43 +0000 2016   \n",
       "179   813910438903693312  Wed Dec 28 00:52:25 +0000 2016   \n",
       "1432  673352124999274496  Sun Dec 06 04:03:51 +0000 2015   \n",
       "285   792913359805018113  Mon Oct 31 02:17:31 +0000 2016   \n",
       "\n",
       "      in_reply_to_status_id  in_reply_to_user_id  is_quote_status  \\\n",
       "780                     NaN                  NaN            False   \n",
       "767                     NaN                  NaN            False   \n",
       "179                     NaN                  NaN            False   \n",
       "1432                    NaN                  NaN            False   \n",
       "285                     NaN                  NaN            False   \n",
       "\n",
       "      retweet_count  favorite_count  \\\n",
       "780            1091            3932   \n",
       "767             880            3385   \n",
       "179            2034            9842   \n",
       "1432            548            1669   \n",
       "285            4370           15246   \n",
       "\n",
       "                                           media_url  retweeted  favorited  \n",
       "780   http://pbs.twimg.com/media/CeHg1klW8AE4YOB.jpg      False      False  \n",
       "767   http://pbs.twimg.com/media/CemIBpfWEAA-TV9.jpg      False      False  \n",
       "179   http://pbs.twimg.com/media/C0uXObSXUAAIzmV.jpg      False      False  \n",
       "1432  http://pbs.twimg.com/media/CVg6L2hWIAAYuEb.jpg      False      False  \n",
       "285   http://pbs.twimg.com/media/CwD-eCFWEAAAJox.jpg      False      False  "
      ]
     },
     "execution_count": 32,
     "metadata": {},
     "output_type": "execute_result"
    }
   ],
   "source": [
    "df_tweets_api.sample(5)"
   ]
  },
  {
   "cell_type": "markdown",
   "metadata": {},
   "source": [
    "* `created_at` como `string`\n",
    "* `in_reply_to_status_id` e `in_reply_to_userid` como `Float`"
   ]
  },
  {
   "cell_type": "markdown",
   "metadata": {},
   "source": [
    "<a id=\"tweets-api:duplicated\"></a>\n",
    "Verificar a duplicidade de valores"
   ]
  },
  {
   "cell_type": "code",
   "execution_count": 33,
   "metadata": {},
   "outputs": [
    {
     "data": {
      "text/plain": [
       "False    1820\n",
       "Name: id, dtype: int64"
      ]
     },
     "execution_count": 33,
     "metadata": {},
     "output_type": "execute_result"
    }
   ],
   "source": [
    "# Verificar se há IDs duplicados\n",
    "df_tweets_api.id.duplicated().value_counts()"
   ]
  },
  {
   "cell_type": "code",
   "execution_count": 34,
   "metadata": {},
   "outputs": [
    {
     "data": {
      "text/plain": [
       "False    1759\n",
       "True       61\n",
       "Name: media_url, dtype: int64"
      ]
     },
     "execution_count": 34,
     "metadata": {},
     "output_type": "execute_result"
    }
   ],
   "source": [
    "# Verificar se há imagens duplicadas\n",
    "df_tweets_api.media_url.duplicated().value_counts()"
   ]
  },
  {
   "cell_type": "markdown",
   "metadata": {},
   "source": [
    "Há tweets referenciando a mesma imagem"
   ]
  },
  {
   "cell_type": "markdown",
   "metadata": {},
   "source": [
    "------"
   ]
  },
  {
   "cell_type": "markdown",
   "metadata": {},
   "source": [
    "<a id=\"avaliacao:anotacoes\"></a>\n",
    "\n",
    "## Notas da avaliação\n",
    "### Qualidade\n",
    "\n",
    "#### `df_twitter_arc` - Twitter archive\n",
    "1. [Base incompleta, contém apenas **2356** registros dos **5000** anunciados](#twitter-arc:info)\n",
    "* [Coluna `source` sem valor à unidade de obsevação](#twitter-arc:source)\n",
    "* [Nomes (`name`) preenchidos com valor literal igual a `'None'`, vazio](#twitter-arc:name)\n",
    "* [Coluna `expanded_urls` sem valor à unidade de observação](#twitter-arc:expanded_urls)\n",
    "* [Categorias \\[`doggo`, `floofer`, `pupper`, `puppo`\\] com literal `'None'`](#twitter-arc:category)\n",
    "\n",
    "\n",
    "#### `df_prediction` - Image prediction\n",
    "1. [Previsões \\[`p1`, `p2`, `p3`\\] com nomes não padronizados](#image-prediction:p-values)\n",
    "* [Duplicidade na coluna `jgp_url`](#image-prediction:duplicated-urls)\n",
    "\n",
    "\n",
    "#### `df_tweets_api` - Twitter API\n",
    "* [Diferentes Tweets referenciando a mesma imagem, duplicidade](#tweets-api:duplicated)\n",
    "\n",
    "\n",
    "### Organização\n",
    "\n",
    "#### `df_twitter_arc` - Twitter archive\n",
    "1. [As colunas `in_reply_to_status_id`, `in_reply_to_user_id`, `retweeted_status_id`, `retweeted_status_user_id` estão em `float64`](#twitter-arc:info)\n",
    "* [As colunas `timestamp` e `retweet_status_timestamp` estão em `string`](#twitter-arc:info)\n",
    "* [Uma variável em várias colunas, `doggo`, `floofer`, `pupper` e `puppo`](#twitter-arc:category)\n",
    "\n",
    "\n",
    "#### `df_prediction` - Image prediction\n",
    "1. [Colunas como variáveis na identificação das predições](#image-prediction:info)\n",
    "\n",
    "\n",
    "#### `df_tweets_api` - Twitter API\n",
    "1. [Data de criação (`created_at`) como `string`](#tweets-api:info)\n",
    "* [Valor do id na coluna `in_reply_to_status_id` como `float`](#tweets-api:info)\n",
    "* [As colunas `in_reply_to_status_id`, `in_reply_to_user_id`, `retweeted_status_id`, `retweeted_status_user_id` estão em `float64`](#tweets-api:info)"
   ]
  },
  {
   "cell_type": "markdown",
   "metadata": {},
   "source": [
    "------"
   ]
  },
  {
   "cell_type": "markdown",
   "metadata": {},
   "source": [
    "<a id=\"limpeza\"></a>\n",
    "\n",
    "# Limpeza"
   ]
  },
  {
   "cell_type": "markdown",
   "metadata": {},
   "source": [
    "<a id=\"limpeza:definicao\"></a>\n",
    "\n",
    "## Limpeza: Definição \n",
    "\n",
    "#### `df_twitter_arc` - Twitter archive\n",
    "1. [Base incompleta, de **5000**, apenas **2356** estão disponíveis](#limpeza:twitter-arc:completeness)\n",
    "    * OK - Nada a ser feito\n",
    "* [Coluna `source` sem valor à unidade de observação](#limpeza:twitter-arc:source)\n",
    "    * O conteúdo apresenta um link para download do App Twitter, portanto não agrega valor à unidade de observação, a coluna pode ser removida\n",
    "* [Nomes (`name`) não preenchidos com valor literal igual a `'None'`](#limpeza:twitter-arc:name)\n",
    "    * Alterar valores como 'None' para `np.nan`\n",
    "* [Coluna `expanded_urls` sem valor à unidade de observação](#limpeza:twitter-arc:expanded_urls)(#twitter-arc:expanded_urls)\n",
    "    * Não apresentam valor à unidade de observação, são URLs para os tweets em questão. Remover a coluna `expanded_urls`.\n",
    "* [Categorias \\[doggo, floofer, pupper, puppo\\] com literal `'None'`](#limpeza:twitter-arc:category)\n",
    "    * Aplicar valor `np.nan` para nomes iguais a 'None'   \n",
    "* [As colunas `in_reply_to_status_id`, `in_reply_to_user_id`, `retweeted_status_id`, `retweeted_status_user_id` estão em `float64`](#limpeza:twitter-arc:info)\n",
    "    * A coluna, `retweeted_status_id` ou `retweeted_status_user_id`, podem ser convertidas para `Boolean` como auxílio a identificação de tweets originais\n",
    "    * Após a criação de uma coluna indicando se o tweet é um retweet, as colunas de retweet, `retweeted_status_id`, `retweeted_status_user_id`, `retweeted_status_timestamp`, podem ser descartadas\n",
    "    * As colunas `in_reply_to_status_id` e `in_reply_to_user_id` serão retratadas no dataframe `df_tweets_api`\n",
    "* [As colunas `timestamp` e `retweet_status_timestamp` estão em `string` e deveriam ser do tipo `datetime`](#limpeza:twitter-arc:datetime)\n",
    "    * Converter valores para `datetime`\n",
    "* [Uma variável em várias colunas, `doggo`, `floofer`, `pupper` e `puppo`](#limpeza:twitter-arc:category-merge)\n",
    "    * Reduzir a variável para uma coluna, `category`\n",
    "\n",
    "\n",
    "#### `df_prediction` - Image prediction\n",
    "1. [Previsões \\[`p1`, `p2`, `p3`\\] com nomes não padronizados](#limpeza:image-prediction:names)\n",
    "    * Converter os valores para 'lower case' e substituir '_' por espaços\n",
    "* [Previsões repetidas sobre a mesma imagem](#limpeza:image-prediction:duplicated-urls)\n",
    "    * Descartar predições sobre imagens repetidas\n",
    "* [Colunas como variáveis na identificação das predições](#limpeza:image-prediction:info)\n",
    "    * Transpor as variáveis nas colunas para linhas\n",
    "\n",
    "\n",
    "#### `df_tweets_api` - Twitter API\n",
    "1. [Data de criação (`created_at`) como `string`](#tweets-api:info)\n",
    "    * Converter datas em string para o formato `datetime`\n",
    "* [Valor do id na coluna `in_reply_to_status_id` e `in_reply_to_user_id` como `float`](#tweets-api:info)\n",
    "    * Converter para Inteiro as colunas `in_reply_to_status_id` e `in_reply_to_user_id` e atribuir 0 as que estiverem sem valor\n"
   ]
  },
  {
   "cell_type": "markdown",
   "metadata": {},
   "source": [
    "<a id=\"limpeza:twitter-archive\"></a>\n",
    "\n",
    "## Limpeza: Twitter archive"
   ]
  },
  {
   "cell_type": "code",
   "execution_count": 35,
   "metadata": {},
   "outputs": [],
   "source": [
    "# Criar cópia do dataframe para a limpeza\n",
    "df_arch_clean = df_twitter_arc.copy()"
   ]
  },
  {
   "cell_type": "markdown",
   "metadata": {},
   "source": [
    "<a id=\"limpeza:twitter-arc:completeness\"></a>\n",
    "\n",
    "### 1. [Base incompleta, de 5000, apenas 2356 estão disponíveis](#limpeza:twitter-arc:completeness)\n",
    "Nada a ser feito"
   ]
  },
  {
   "cell_type": "code",
   "execution_count": 36,
   "metadata": {},
   "outputs": [
    {
     "data": {
      "text/plain": [
       "(2356, 17)"
      ]
     },
     "execution_count": 36,
     "metadata": {},
     "output_type": "execute_result"
    }
   ],
   "source": [
    "df_arch_clean.shape"
   ]
  },
  {
   "cell_type": "markdown",
   "metadata": {},
   "source": [
    "<a id=\"limpeza:twitter-arc:source\"></a>\n",
    "\n",
    "### 2. [Coluna `source` sem valor à unidade de observação](#limpeza:twitter-arc:source)\n",
    "* O conteúdo apresenta um link para download do App Twitter, portanto não agrega valor à unidade de observação, a coluna pode ser removida"
   ]
  },
  {
   "cell_type": "code",
   "execution_count": 37,
   "metadata": {},
   "outputs": [],
   "source": [
    "# Remoção da coluna `source`\n",
    "df_arch_clean.drop('source', axis='columns', inplace=True)"
   ]
  },
  {
   "cell_type": "markdown",
   "metadata": {},
   "source": [
    "#### Teste: Remoção coluna `source`"
   ]
  },
  {
   "cell_type": "code",
   "execution_count": 38,
   "metadata": {},
   "outputs": [
    {
     "data": {
      "text/plain": [
       "Index(['tweet_id', 'in_reply_to_status_id', 'in_reply_to_user_id', 'timestamp',\n",
       "       'text', 'retweeted_status_id', 'retweeted_status_user_id',\n",
       "       'retweeted_status_timestamp', 'expanded_urls', 'rating_numerator',\n",
       "       'rating_denominator', 'name', 'doggo', 'floofer', 'pupper', 'puppo'],\n",
       "      dtype='object')"
      ]
     },
     "execution_count": 38,
     "metadata": {},
     "output_type": "execute_result"
    }
   ],
   "source": [
    "# Conferir que a coluna `source` foi removida\n",
    "df_arch_clean.columns"
   ]
  },
  {
   "cell_type": "markdown",
   "metadata": {},
   "source": [
    "<a id=\"limpeza:twitter-arc:name\"></a>\n",
    "\n",
    "### 3. [Nomes (`name`) não preenchidos com valor literal igual a `'None'`](#limpeza:twitter-arc:name)\n",
    "    * Alterar valores como 'None' para `np.nan`"
   ]
  },
  {
   "cell_type": "code",
   "execution_count": 39,
   "metadata": {},
   "outputs": [
    {
     "data": {
      "text/plain": [
       "745"
      ]
     },
     "execution_count": 39,
     "metadata": {},
     "output_type": "execute_result"
    }
   ],
   "source": [
    "# Contagem de nomes iguais a 'None'\n",
    "df_arch_clean[df_arch_clean.name.str.lower() == 'none'].name.count()"
   ]
  },
  {
   "cell_type": "code",
   "execution_count": 40,
   "metadata": {},
   "outputs": [],
   "source": [
    "# Função para substituição de valores literais 'None' por np.nan\n",
    "def set_nan_at_none(value):\n",
    "    if str(value).lower() == 'none':\n",
    "        return np.nan\n",
    "    else:\n",
    "        return value"
   ]
  },
  {
   "cell_type": "code",
   "execution_count": 41,
   "metadata": {},
   "outputs": [],
   "source": [
    "# Aplicar `np.nan` aos nomes iguais a 'None'\n",
    "df_arch_clean.name = df_arch_clean.name.apply(set_nan_at_none)"
   ]
  },
  {
   "cell_type": "markdown",
   "metadata": {},
   "source": [
    "#### Teste: Aplicação de `np.nan` aos nomes como 'None'"
   ]
  },
  {
   "cell_type": "code",
   "execution_count": 42,
   "metadata": {},
   "outputs": [
    {
     "data": {
      "text/plain": [
       "745"
      ]
     },
     "execution_count": 42,
     "metadata": {},
     "output_type": "execute_result"
    }
   ],
   "source": [
    "df_arch_clean.name.isnull().sum()"
   ]
  },
  {
   "cell_type": "code",
   "execution_count": 43,
   "metadata": {},
   "outputs": [
    {
     "data": {
      "text/plain": [
       "0"
      ]
     },
     "execution_count": 43,
     "metadata": {},
     "output_type": "execute_result"
    }
   ],
   "source": [
    "df_arch_clean[df_arch_clean.name.str.lower() == 'none'].name.count()"
   ]
  },
  {
   "cell_type": "code",
   "execution_count": 44,
   "metadata": {},
   "outputs": [
    {
     "data": {
      "text/plain": [
       "429        NaN\n",
       "14      Stuart\n",
       "296       Lucy\n",
       "969     Stewie\n",
       "1573      Marq\n",
       "751        NaN\n",
       "879       Theo\n",
       "480      Akumi\n",
       "1664       NaN\n",
       "1508       NaN\n",
       "Name: name, dtype: object"
      ]
     },
     "execution_count": 44,
     "metadata": {},
     "output_type": "execute_result"
    }
   ],
   "source": [
    "df_arch_clean.name.sample(10)"
   ]
  },
  {
   "cell_type": "markdown",
   "metadata": {},
   "source": [
    "<a id=\"limpeza:twitter-arc:expanded_urls\"></a>\n",
    "\n",
    "### 4. [Coluna `expanded_urls` sem valor à unidade de observação](#limpeza:twitter-arc:expanded_urls)\n",
    "* Não apresentam valor à unidade de observação, são URLs para os tweets em questão. Remover a coluna `expanded_urls`"
   ]
  },
  {
   "cell_type": "code",
   "execution_count": 45,
   "metadata": {},
   "outputs": [],
   "source": [
    "df_arch_clean.drop('expanded_urls', axis='columns', inplace=True)"
   ]
  },
  {
   "cell_type": "markdown",
   "metadata": {},
   "source": [
    "#### Teste: Remoção da coluna `expanded_urls`"
   ]
  },
  {
   "cell_type": "code",
   "execution_count": 46,
   "metadata": {},
   "outputs": [
    {
     "data": {
      "text/plain": [
       "Index(['tweet_id', 'in_reply_to_status_id', 'in_reply_to_user_id', 'timestamp',\n",
       "       'text', 'retweeted_status_id', 'retweeted_status_user_id',\n",
       "       'retweeted_status_timestamp', 'rating_numerator', 'rating_denominator',\n",
       "       'name', 'doggo', 'floofer', 'pupper', 'puppo'],\n",
       "      dtype='object')"
      ]
     },
     "execution_count": 46,
     "metadata": {},
     "output_type": "execute_result"
    }
   ],
   "source": [
    "df_arch_clean.columns"
   ]
  },
  {
   "cell_type": "markdown",
   "metadata": {},
   "source": [
    "<a id=\"limpeza:twitter-arc:category\"></a>\n",
    "\n",
    "### 5. [Categorias \\[`doggo`, `floofer`, `pupper`, `puppo`\\] com literal `'None'`](#limpeza:twitter-arc:category)\n",
    "* Aplicar valor `np.nan` para nomes iguais a 'None'   "
   ]
  },
  {
   "cell_type": "code",
   "execution_count": 47,
   "metadata": {},
   "outputs": [
    {
     "data": {
      "text/plain": [
       "True     2259\n",
       "False      97\n",
       "Name: doggo, dtype: int64"
      ]
     },
     "execution_count": 47,
     "metadata": {},
     "output_type": "execute_result"
    }
   ],
   "source": [
    "# Trocar valores 'None' para np.nan nas colunas `doggo`, `floofer`, `pupper`, `puppo`\n",
    "df_arch_clean.doggo = df_arch_clean.doggo.apply(set_nan_at_none)\n",
    "df_arch_clean.doggo.isna().value_counts()"
   ]
  },
  {
   "cell_type": "code",
   "execution_count": 48,
   "metadata": {},
   "outputs": [
    {
     "data": {
      "text/plain": [
       "True     2346\n",
       "False      10\n",
       "Name: floofer, dtype: int64"
      ]
     },
     "execution_count": 48,
     "metadata": {},
     "output_type": "execute_result"
    }
   ],
   "source": [
    "df_arch_clean.floofer = df_arch_clean.floofer.apply(set_nan_at_none)\n",
    "df_arch_clean.floofer.isna().value_counts()"
   ]
  },
  {
   "cell_type": "code",
   "execution_count": 49,
   "metadata": {},
   "outputs": [
    {
     "data": {
      "text/plain": [
       "True     2099\n",
       "False     257\n",
       "Name: pupper, dtype: int64"
      ]
     },
     "execution_count": 49,
     "metadata": {},
     "output_type": "execute_result"
    }
   ],
   "source": [
    "df_arch_clean.pupper = df_arch_clean.pupper.apply(set_nan_at_none)\n",
    "df_arch_clean.pupper.isna().value_counts()"
   ]
  },
  {
   "cell_type": "code",
   "execution_count": 50,
   "metadata": {},
   "outputs": [
    {
     "data": {
      "text/plain": [
       "True     2326\n",
       "False      30\n",
       "Name: puppo, dtype: int64"
      ]
     },
     "execution_count": 50,
     "metadata": {},
     "output_type": "execute_result"
    }
   ],
   "source": [
    "df_arch_clean.puppo = df_arch_clean.puppo.apply(set_nan_at_none)\n",
    "df_arch_clean.puppo.isna().value_counts()"
   ]
  },
  {
   "cell_type": "code",
   "execution_count": 51,
   "metadata": {},
   "outputs": [
    {
     "data": {
      "text/plain": [
       "394"
      ]
     },
     "execution_count": 51,
     "metadata": {},
     "output_type": "execute_result"
    }
   ],
   "source": [
    "# Soma de valores preenchidos nas classificações\n",
    "sum_categories = 0\n",
    "sum_categories += df_arch_clean.doggo.notna().sum()\n",
    "sum_categories += df_arch_clean.floofer.notna().sum()\n",
    "sum_categories += df_arch_clean.pupper.notna().sum()\n",
    "sum_categories += df_arch_clean.puppo.notna().sum()\n",
    "\n",
    "sum_categories"
   ]
  },
  {
   "cell_type": "markdown",
   "metadata": {},
   "source": [
    "Apenas 394 dos 2346 registros foram classificados"
   ]
  },
  {
   "cell_type": "markdown",
   "metadata": {},
   "source": [
    "<a id=\"limpeza:twitter-arc:info\"></a>\n",
    "\n",
    "### 6. [As colunas `in_reply_to_status_id`, `in_reply_to_user_id`, `retweeted_status_id`, `retweeted_status_user_id` estão em `float64`](#limpeza:twitter-arc:info)\n",
    "* Linhas com algum valor para as colunas `retweeted_status_id` ou `retweeted_status_user_id` podem ser descartadas por indicarem retweet, e o objetivo é analisar somente tweets originais\n",
    "* Após a remoção retweets, as colunas `retweeted_status_id`, `retweeted_status_user_id`, `retweeted_status_timestamp`, podem ser descartadas\n",
    "* As colunas `in_reply_to_status_id` e `in_reply_to_user_id` serão retratadas no dataframe `df_tweets_api`"
   ]
  },
  {
   "cell_type": "markdown",
   "metadata": {},
   "source": [
    "#### Identificação dos tweets originais\n",
    "df_arch_clean.loc[:,'retweeted_status_id'].isna().value_counts()"
   ]
  },
  {
   "cell_type": "code",
   "execution_count": 52,
   "metadata": {},
   "outputs": [
    {
     "data": {
      "text/plain": [
       "2356"
      ]
     },
     "execution_count": 52,
     "metadata": {},
     "output_type": "execute_result"
    }
   ],
   "source": [
    "df_arch_clean.retweeted_status_id.size"
   ]
  },
  {
   "cell_type": "code",
   "execution_count": 53,
   "metadata": {},
   "outputs": [
    {
     "data": {
      "text/plain": [
       "True     2175\n",
       "False     181\n",
       "Name: retweeted_status_id, dtype: int64"
      ]
     },
     "execution_count": 53,
     "metadata": {},
     "output_type": "execute_result"
    }
   ],
   "source": [
    "df_arch_clean.loc[:,'retweeted_status_id'].isna().value_counts()"
   ]
  },
  {
   "cell_type": "markdown",
   "metadata": {},
   "source": [
    "Dos 2356 registros, 181 são retweets"
   ]
  },
  {
   "cell_type": "code",
   "execution_count": 54,
   "metadata": {},
   "outputs": [],
   "source": [
    "# Remoção dos retweets\n",
    "df_arch_clean.drop(df_arch_clean[df_arch_clean.retweeted_status_id.notna()].index, axis=0, inplace=True)"
   ]
  },
  {
   "cell_type": "markdown",
   "metadata": {},
   "source": [
    "#### Teste: Remoção de Retweets"
   ]
  },
  {
   "cell_type": "code",
   "execution_count": 55,
   "metadata": {},
   "outputs": [
    {
     "data": {
      "text/plain": [
       "True    2175\n",
       "Name: retweeted_status_id, dtype: int64"
      ]
     },
     "execution_count": 55,
     "metadata": {},
     "output_type": "execute_result"
    }
   ],
   "source": [
    "# Consultar a existência de colunas com retweet_status_preenchido\n",
    "df_arch_clean.loc[:,'retweeted_status_id'].isna().value_counts()"
   ]
  },
  {
   "cell_type": "markdown",
   "metadata": {},
   "source": [
    "Remoção das colunas referentes a retweets"
   ]
  },
  {
   "cell_type": "code",
   "execution_count": 56,
   "metadata": {},
   "outputs": [],
   "source": [
    "df_arch_clean.drop(['retweeted_status_id', 'retweeted_status_user_id', 'retweeted_status_timestamp'], axis='columns', inplace=True)"
   ]
  },
  {
   "cell_type": "markdown",
   "metadata": {},
   "source": [
    "#### Teste: Verificação da remoção das colunas referentes a retweets"
   ]
  },
  {
   "cell_type": "code",
   "execution_count": 57,
   "metadata": {},
   "outputs": [
    {
     "data": {
      "text/plain": [
       "Index(['tweet_id', 'in_reply_to_status_id', 'in_reply_to_user_id', 'timestamp',\n",
       "       'text', 'rating_numerator', 'rating_denominator', 'name', 'doggo',\n",
       "       'floofer', 'pupper', 'puppo'],\n",
       "      dtype='object')"
      ]
     },
     "execution_count": 57,
     "metadata": {},
     "output_type": "execute_result"
    }
   ],
   "source": [
    "df_arch_clean.columns"
   ]
  },
  {
   "cell_type": "markdown",
   "metadata": {},
   "source": [
    "<a id=\"limpeza:twitter-arc:datetime\"></a>\n",
    "\n",
    "### 7. [As colunas `timestamp` e `retweet_status_timestamp` estão em `string` e deveriam ser do tipo `datetime`](#limpeza:twitter-arc:datetime)\n",
    "* Converter valores para `datetime`\n",
    "\n",
    "Haja vista que a coluna `retweet_status_timestamp` foi removida no passo anterior, não será necessária a sua conversão"
   ]
  },
  {
   "cell_type": "code",
   "execution_count": 58,
   "metadata": {},
   "outputs": [
    {
     "name": "stdout",
     "output_type": "stream",
     "text": [
      "<class 'pandas.core.frame.DataFrame'>\n",
      "Int64Index: 2175 entries, 0 to 2355\n",
      "Data columns (total 1 columns):\n",
      "timestamp    2175 non-null object\n",
      "dtypes: object(1)\n",
      "memory usage: 34.0+ KB\n"
     ]
    }
   ],
   "source": [
    "df_arch_clean.loc[:, ['timestamp']].info()"
   ]
  },
  {
   "cell_type": "code",
   "execution_count": 59,
   "metadata": {},
   "outputs": [],
   "source": [
    "df_arch_clean.timestamp = pd.to_datetime(df_arch_clean.timestamp)"
   ]
  },
  {
   "cell_type": "markdown",
   "metadata": {},
   "source": [
    "#### Teste: Veriificação da conversão de `string` para `datetime`"
   ]
  },
  {
   "cell_type": "code",
   "execution_count": 60,
   "metadata": {},
   "outputs": [
    {
     "name": "stdout",
     "output_type": "stream",
     "text": [
      "<class 'pandas.core.frame.DataFrame'>\n",
      "Int64Index: 2175 entries, 0 to 2355\n",
      "Data columns (total 1 columns):\n",
      "timestamp    2175 non-null datetime64[ns, UTC]\n",
      "dtypes: datetime64[ns, UTC](1)\n",
      "memory usage: 34.0 KB\n"
     ]
    }
   ],
   "source": [
    "df_arch_clean.loc[:, ['timestamp']].info()"
   ]
  },
  {
   "cell_type": "markdown",
   "metadata": {},
   "source": [
    "<a id=\"limpeza:twitter-arc:category-merge\"></a>\n",
    "\n",
    "### 8. [Uma variável em várias colunas, `doggo`, `floofer`, `pupper` e `puppo`](#limpeza:twitter-arc:category-merge)\n",
    "* Reduzir a variável para uma coluna, `category`"
   ]
  },
  {
   "cell_type": "code",
   "execution_count": 61,
   "metadata": {},
   "outputs": [
    {
     "name": "stdout",
     "output_type": "stream",
     "text": [
      "<class 'pandas.core.frame.DataFrame'>\n",
      "Int64Index: 2175 entries, 0 to 2355\n",
      "Data columns (total 12 columns):\n",
      "tweet_id                 2175 non-null int64\n",
      "in_reply_to_status_id    78 non-null float64\n",
      "in_reply_to_user_id      78 non-null float64\n",
      "timestamp                2175 non-null datetime64[ns, UTC]\n",
      "text                     2175 non-null object\n",
      "rating_numerator         2175 non-null int64\n",
      "rating_denominator       2175 non-null int64\n",
      "name                     1495 non-null object\n",
      "doggo                    87 non-null object\n",
      "floofer                  10 non-null object\n",
      "pupper                   234 non-null object\n",
      "puppo                    25 non-null object\n",
      "dtypes: datetime64[ns, UTC](1), float64(2), int64(3), object(6)\n",
      "memory usage: 220.9+ KB\n"
     ]
    }
   ],
   "source": [
    "df_arch_clean.info()"
   ]
  },
  {
   "cell_type": "code",
   "execution_count": 62,
   "metadata": {},
   "outputs": [
    {
     "data": {
      "text/plain": [
       "doggo       87\n",
       "floofer     10\n",
       "pupper     234\n",
       "puppo       25\n",
       "dtype: int64"
      ]
     },
     "execution_count": 62,
     "metadata": {},
     "output_type": "execute_result"
    }
   ],
   "source": [
    "df_arch_clean.loc[:, 'doggo':].notna().sum()"
   ]
  },
  {
   "cell_type": "code",
   "execution_count": 63,
   "metadata": {},
   "outputs": [
    {
     "data": {
      "text/plain": [
       "356"
      ]
     },
     "execution_count": 63,
     "metadata": {},
     "output_type": "execute_result"
    }
   ],
   "source": [
    "df_arch_clean.loc[:, 'doggo':].notna().sum().sum()"
   ]
  },
  {
   "cell_type": "markdown",
   "metadata": {},
   "source": [
    "De **2175** registros, apenas **356** estão classificados"
   ]
  },
  {
   "cell_type": "markdown",
   "metadata": {},
   "source": [
    "Criar uma lista das categorias para mesclar as colunas, considerando a coluna a esquerda como prioritaria sobre valores nulos a direita."
   ]
  },
  {
   "cell_type": "code",
   "execution_count": 64,
   "metadata": {},
   "outputs": [],
   "source": [
    "category = df_arch_clean.doggo\n",
    "category = category.combine_first(df_arch_clean.floofer)\n",
    "category = category.combine_first(df_arch_clean.pupper)\n",
    "category = category.combine_first(df_arch_clean.puppo)\n",
    "\n",
    "df_arch_clean['category'] = category"
   ]
  },
  {
   "cell_type": "code",
   "execution_count": 65,
   "metadata": {},
   "outputs": [
    {
     "data": {
      "text/plain": [
       "344"
      ]
     },
     "execution_count": 65,
     "metadata": {},
     "output_type": "execute_result"
    }
   ],
   "source": [
    "df_arch_clean.category.notna().sum()"
   ]
  },
  {
   "cell_type": "markdown",
   "metadata": {},
   "source": [
    "Após a unificação das colunas de classificação, pode-se ver que resultou em apenas **344** registros, diferente dos **356** iniciais. O que indica que haviam registros com mais de uma classificação."
   ]
  },
  {
   "cell_type": "code",
   "execution_count": 66,
   "metadata": {},
   "outputs": [],
   "source": [
    "df_arch_clean.drop(['doggo', 'floofer', 'pupper', 'puppo'], axis='columns', inplace=True)"
   ]
  },
  {
   "cell_type": "markdown",
   "metadata": {},
   "source": [
    "#### Teste: Verificar a criação da coluna `category` a remoção das colunas `doggo`, `floofer`, `pupper` e `puppo`. "
   ]
  },
  {
   "cell_type": "code",
   "execution_count": 67,
   "metadata": {},
   "outputs": [
    {
     "name": "stdout",
     "output_type": "stream",
     "text": [
      "<class 'pandas.core.frame.DataFrame'>\n",
      "Int64Index: 2175 entries, 0 to 2355\n",
      "Data columns (total 9 columns):\n",
      "tweet_id                 2175 non-null int64\n",
      "in_reply_to_status_id    78 non-null float64\n",
      "in_reply_to_user_id      78 non-null float64\n",
      "timestamp                2175 non-null datetime64[ns, UTC]\n",
      "text                     2175 non-null object\n",
      "rating_numerator         2175 non-null int64\n",
      "rating_denominator       2175 non-null int64\n",
      "name                     1495 non-null object\n",
      "category                 344 non-null object\n",
      "dtypes: datetime64[ns, UTC](1), float64(2), int64(3), object(3)\n",
      "memory usage: 169.9+ KB\n"
     ]
    }
   ],
   "source": [
    "df_arch_clean.info()"
   ]
  },
  {
   "cell_type": "markdown",
   "metadata": {},
   "source": [
    "------\n",
    "<a id=\"limpeza:image-prediction\"></a>\n",
    "\n",
    "## Limpeza: Image prediction "
   ]
  },
  {
   "cell_type": "code",
   "execution_count": 68,
   "metadata": {},
   "outputs": [],
   "source": [
    "# Cópia do dataframe para limpeza\n",
    "df_predict_clean = df_prediction.copy()"
   ]
  },
  {
   "cell_type": "markdown",
   "metadata": {},
   "source": [
    "<a id=\"limpeza:image-prediction:names\"></a>\n",
    "\n",
    "### 1. [Previsões \\[`p1`, `p2`, `p3`\\] com nomes não padronizados](#limpeza:image-prediction:names)\n",
    "* Converter os valores para 'lower case' e substituir '_' por espaços"
   ]
  },
  {
   "cell_type": "code",
   "execution_count": 69,
   "metadata": {},
   "outputs": [],
   "source": [
    "clean_prediction_name = lambda value: str(value).lower().replace('_', ' ')"
   ]
  },
  {
   "cell_type": "code",
   "execution_count": 70,
   "metadata": {},
   "outputs": [
    {
     "data": {
      "text/html": [
       "<div>\n",
       "<style scoped>\n",
       "    .dataframe tbody tr th:only-of-type {\n",
       "        vertical-align: middle;\n",
       "    }\n",
       "\n",
       "    .dataframe tbody tr th {\n",
       "        vertical-align: top;\n",
       "    }\n",
       "\n",
       "    .dataframe thead th {\n",
       "        text-align: right;\n",
       "    }\n",
       "</style>\n",
       "<table border=\"1\" class=\"dataframe\">\n",
       "  <thead>\n",
       "    <tr style=\"text-align: right;\">\n",
       "      <th></th>\n",
       "      <th>p1</th>\n",
       "      <th>p2</th>\n",
       "      <th>p3</th>\n",
       "    </tr>\n",
       "  </thead>\n",
       "  <tbody>\n",
       "    <tr>\n",
       "      <th>182</th>\n",
       "      <td>cuirass</td>\n",
       "      <td>breastplate</td>\n",
       "      <td>bulletproof_vest</td>\n",
       "    </tr>\n",
       "    <tr>\n",
       "      <th>1919</th>\n",
       "      <td>flat-coated_retriever</td>\n",
       "      <td>Labrador_retriever</td>\n",
       "      <td>groenendael</td>\n",
       "    </tr>\n",
       "    <tr>\n",
       "      <th>234</th>\n",
       "      <td>Chihuahua</td>\n",
       "      <td>corn</td>\n",
       "      <td>bolete</td>\n",
       "    </tr>\n",
       "    <tr>\n",
       "      <th>1889</th>\n",
       "      <td>malamute</td>\n",
       "      <td>Siberian_husky</td>\n",
       "      <td>Eskimo_dog</td>\n",
       "    </tr>\n",
       "    <tr>\n",
       "      <th>1752</th>\n",
       "      <td>Pembroke</td>\n",
       "      <td>Cardigan</td>\n",
       "      <td>basenji</td>\n",
       "    </tr>\n",
       "  </tbody>\n",
       "</table>\n",
       "</div>"
      ],
      "text/plain": [
       "                         p1                  p2                p3\n",
       "182                 cuirass         breastplate  bulletproof_vest\n",
       "1919  flat-coated_retriever  Labrador_retriever       groenendael\n",
       "234               Chihuahua                corn            bolete\n",
       "1889               malamute      Siberian_husky        Eskimo_dog\n",
       "1752               Pembroke            Cardigan           basenji"
      ]
     },
     "execution_count": 70,
     "metadata": {},
     "output_type": "execute_result"
    }
   ],
   "source": [
    "df_predict_clean.loc[:, ['p1', 'p2', 'p3']].sample(5)"
   ]
  },
  {
   "cell_type": "markdown",
   "metadata": {},
   "source": [
    "Aplicar a padronização dos nomes em cada uma das colunas de predição"
   ]
  },
  {
   "cell_type": "code",
   "execution_count": 71,
   "metadata": {},
   "outputs": [],
   "source": [
    "df_predict_clean.p1 = df_predict_clean.p1.apply(clean_prediction_name)"
   ]
  },
  {
   "cell_type": "code",
   "execution_count": 72,
   "metadata": {},
   "outputs": [],
   "source": [
    "df_predict_clean.p2 = df_predict_clean.p2.apply(clean_prediction_name)"
   ]
  },
  {
   "cell_type": "code",
   "execution_count": 73,
   "metadata": {},
   "outputs": [],
   "source": [
    "df_predict_clean.p3 = df_predict_clean.p3.apply(clean_prediction_name)"
   ]
  },
  {
   "cell_type": "markdown",
   "metadata": {},
   "source": [
    "#### Teste: Verificar padronização dos nomes das predições"
   ]
  },
  {
   "cell_type": "code",
   "execution_count": 74,
   "metadata": {},
   "outputs": [
    {
     "data": {
      "text/html": [
       "<div>\n",
       "<style scoped>\n",
       "    .dataframe tbody tr th:only-of-type {\n",
       "        vertical-align: middle;\n",
       "    }\n",
       "\n",
       "    .dataframe tbody tr th {\n",
       "        vertical-align: top;\n",
       "    }\n",
       "\n",
       "    .dataframe thead th {\n",
       "        text-align: right;\n",
       "    }\n",
       "</style>\n",
       "<table border=\"1\" class=\"dataframe\">\n",
       "  <thead>\n",
       "    <tr style=\"text-align: right;\">\n",
       "      <th></th>\n",
       "      <th>p1</th>\n",
       "      <th>p2</th>\n",
       "      <th>p3</th>\n",
       "    </tr>\n",
       "  </thead>\n",
       "  <tbody>\n",
       "    <tr>\n",
       "      <th>1629</th>\n",
       "      <td>pembroke</td>\n",
       "      <td>rhodesian ridgeback</td>\n",
       "      <td>cardigan</td>\n",
       "    </tr>\n",
       "    <tr>\n",
       "      <th>1028</th>\n",
       "      <td>malamute</td>\n",
       "      <td>eskimo dog</td>\n",
       "      <td>pembroke</td>\n",
       "    </tr>\n",
       "    <tr>\n",
       "      <th>1632</th>\n",
       "      <td>siberian husky</td>\n",
       "      <td>american staffordshire terrier</td>\n",
       "      <td>eskimo dog</td>\n",
       "    </tr>\n",
       "    <tr>\n",
       "      <th>979</th>\n",
       "      <td>blenheim spaniel</td>\n",
       "      <td>shih-tzu</td>\n",
       "      <td>black-footed ferret</td>\n",
       "    </tr>\n",
       "    <tr>\n",
       "      <th>759</th>\n",
       "      <td>malinois</td>\n",
       "      <td>german shepherd</td>\n",
       "      <td>saluki</td>\n",
       "    </tr>\n",
       "  </tbody>\n",
       "</table>\n",
       "</div>"
      ],
      "text/plain": [
       "                    p1                              p2                   p3\n",
       "1629          pembroke             rhodesian ridgeback             cardigan\n",
       "1028          malamute                      eskimo dog             pembroke\n",
       "1632    siberian husky  american staffordshire terrier           eskimo dog\n",
       "979   blenheim spaniel                        shih-tzu  black-footed ferret\n",
       "759           malinois                 german shepherd               saluki"
      ]
     },
     "execution_count": 74,
     "metadata": {},
     "output_type": "execute_result"
    }
   ],
   "source": [
    "df_predict_clean.loc[:, ['p1', 'p2', 'p3']].sample(5)"
   ]
  },
  {
   "cell_type": "markdown",
   "metadata": {},
   "source": [
    "<a id=\"limpeza:image-prediction:duplicated-urls\"></a>\n",
    "\n",
    "### 2. [Predições repetidas sobre a mesma imagem](#limpeza:image-prediction:duplicated-urls)\n",
    "* Descartar predições sobre imagens repetidas"
   ]
  },
  {
   "cell_type": "code",
   "execution_count": 75,
   "metadata": {},
   "outputs": [
    {
     "name": "stdout",
     "output_type": "stream",
     "text": [
      "<class 'pandas.core.frame.DataFrame'>\n",
      "RangeIndex: 2075 entries, 0 to 2074\n",
      "Data columns (total 12 columns):\n",
      "tweet_id    2075 non-null int64\n",
      "jpg_url     2075 non-null object\n",
      "img_num     2075 non-null int64\n",
      "p1          2075 non-null object\n",
      "p1_conf     2075 non-null float64\n",
      "p1_dog      2075 non-null bool\n",
      "p2          2075 non-null object\n",
      "p2_conf     2075 non-null float64\n",
      "p2_dog      2075 non-null bool\n",
      "p3          2075 non-null object\n",
      "p3_conf     2075 non-null float64\n",
      "p3_dog      2075 non-null bool\n",
      "dtypes: bool(3), float64(3), int64(2), object(4)\n",
      "memory usage: 152.1+ KB\n"
     ]
    }
   ],
   "source": [
    "df_predict_clean.info()"
   ]
  },
  {
   "cell_type": "code",
   "execution_count": 76,
   "metadata": {},
   "outputs": [
    {
     "data": {
      "text/plain": [
       "False    2009\n",
       "True       66\n",
       "dtype: int64"
      ]
     },
     "execution_count": 76,
     "metadata": {},
     "output_type": "execute_result"
    }
   ],
   "source": [
    "df_predict_clean.loc[:, ['jpg_url', 'p1', 'p2', 'p3']].duplicated().value_counts()"
   ]
  },
  {
   "cell_type": "markdown",
   "metadata": {},
   "source": [
    "Dos **2075** registros, **66** são sobre a mesma imagem. Entretanto, seguindo o objetivo de trabalhar com apenas Tweets originais, além de descartar duplicidade é interessante também descartar as refêrencias a Retweets. Para isso, será feita uma consulta a seleção de Tweets originais, que foi efetuada no passo [6 da limpeza do Twitter Archive](#limpeza:twitter-arc:info)"
   ]
  },
  {
   "cell_type": "code",
   "execution_count": 77,
   "metadata": {},
   "outputs": [],
   "source": [
    "df_predict_clean = df_predict_clean.loc[df_predict_clean.tweet_id.isin(df_arch_clean.tweet_id)]"
   ]
  },
  {
   "cell_type": "markdown",
   "metadata": {},
   "source": [
    "#### Teste: Seleção de Tweets originais"
   ]
  },
  {
   "cell_type": "code",
   "execution_count": 78,
   "metadata": {},
   "outputs": [
    {
     "data": {
      "text/plain": [
       "True    1994\n",
       "Name: tweet_id, dtype: int64"
      ]
     },
     "execution_count": 78,
     "metadata": {},
     "output_type": "execute_result"
    }
   ],
   "source": [
    "df_predict_clean.tweet_id.isin(df_arch_clean.tweet_id).value_counts()"
   ]
  },
  {
   "cell_type": "markdown",
   "metadata": {},
   "source": [
    "Apenas dos **2075**, **1994** são de Tweets originais\n",
    "\n",
    "------"
   ]
  },
  {
   "cell_type": "markdown",
   "metadata": {},
   "source": [
    "Dos Tweets originai ainda é necessário verificar a existência de duplicidade de predições."
   ]
  },
  {
   "cell_type": "code",
   "execution_count": 79,
   "metadata": {},
   "outputs": [
    {
     "data": {
      "text/plain": [
       "False    1994\n",
       "dtype: int64"
      ]
     },
     "execution_count": 79,
     "metadata": {},
     "output_type": "execute_result"
    }
   ],
   "source": [
    "df_predict_clean.loc[:, ['jpg_url']].duplicated().value_counts()"
   ]
  },
  {
   "cell_type": "markdown",
   "metadata": {},
   "source": [
    "Nenhuma duplicidade foi encontrada após a remoção das referências de Retweets"
   ]
  },
  {
   "cell_type": "code",
   "execution_count": 80,
   "metadata": {},
   "outputs": [
    {
     "name": "stdout",
     "output_type": "stream",
     "text": [
      "<class 'pandas.core.frame.DataFrame'>\n",
      "Int64Index: 1994 entries, 0 to 2074\n",
      "Data columns (total 12 columns):\n",
      "tweet_id    1994 non-null int64\n",
      "jpg_url     1994 non-null object\n",
      "img_num     1994 non-null int64\n",
      "p1          1994 non-null object\n",
      "p1_conf     1994 non-null float64\n",
      "p1_dog      1994 non-null bool\n",
      "p2          1994 non-null object\n",
      "p2_conf     1994 non-null float64\n",
      "p2_dog      1994 non-null bool\n",
      "p3          1994 non-null object\n",
      "p3_conf     1994 non-null float64\n",
      "p3_dog      1994 non-null bool\n",
      "dtypes: bool(3), float64(3), int64(2), object(4)\n",
      "memory usage: 161.6+ KB\n"
     ]
    }
   ],
   "source": [
    "df_predict_clean.info()"
   ]
  },
  {
   "cell_type": "markdown",
   "metadata": {},
   "source": [
    "<a id=\"limpeza:image-prediction:info\"></a>\n",
    "\n",
    "### 3. [Colunas como variáveis na identificação das predições](#limpeza:image-prediction:info)\n",
    "* 3.1. Transpor as variáveis nas colunas para linhas:\n",
    "    * 3.1.1. [`[p1, p2, p3]`, para `prediction_try`](#limpeza:image-prediction:try)\n",
    "    * 3.1.2. [`[p1_conf, p2_conf, p3_conf]`, para `confidence`](#limpeza:image-prediction:conf)\n",
    "    * 3.1.3. [`[p1_dog, p2_dog, p3_dog]`, para `is_a_dog`](#limpeza:image-prediction:dog)\n",
    "* 3.2. [Unir os dataframes de prediction](#limpeza:image-prediction:merge)"
   ]
  },
  {
   "cell_type": "code",
   "execution_count": 81,
   "metadata": {},
   "outputs": [
    {
     "data": {
      "text/html": [
       "<div>\n",
       "<style scoped>\n",
       "    .dataframe tbody tr th:only-of-type {\n",
       "        vertical-align: middle;\n",
       "    }\n",
       "\n",
       "    .dataframe tbody tr th {\n",
       "        vertical-align: top;\n",
       "    }\n",
       "\n",
       "    .dataframe thead th {\n",
       "        text-align: right;\n",
       "    }\n",
       "</style>\n",
       "<table border=\"1\" class=\"dataframe\">\n",
       "  <thead>\n",
       "    <tr style=\"text-align: right;\">\n",
       "      <th></th>\n",
       "      <th>tweet_id</th>\n",
       "      <th>jpg_url</th>\n",
       "      <th>img_num</th>\n",
       "      <th>p1</th>\n",
       "      <th>p1_conf</th>\n",
       "      <th>p1_dog</th>\n",
       "      <th>p2</th>\n",
       "      <th>p2_conf</th>\n",
       "      <th>p2_dog</th>\n",
       "      <th>p3</th>\n",
       "      <th>p3_conf</th>\n",
       "      <th>p3_dog</th>\n",
       "    </tr>\n",
       "  </thead>\n",
       "  <tbody>\n",
       "    <tr>\n",
       "      <th>2059</th>\n",
       "      <td>889278841981685760</td>\n",
       "      <td>https://pbs.twimg.com/ext_tw_video_thumb/88927...</td>\n",
       "      <td>1</td>\n",
       "      <td>whippet</td>\n",
       "      <td>0.626152</td>\n",
       "      <td>True</td>\n",
       "      <td>borzoi</td>\n",
       "      <td>0.194742</td>\n",
       "      <td>True</td>\n",
       "      <td>saluki</td>\n",
       "      <td>0.027351</td>\n",
       "      <td>True</td>\n",
       "    </tr>\n",
       "    <tr>\n",
       "      <th>1474</th>\n",
       "      <td>780459368902959104</td>\n",
       "      <td>https://pbs.twimg.com/media/CtS_p9kXEAE2nh8.jpg</td>\n",
       "      <td>1</td>\n",
       "      <td>great dane</td>\n",
       "      <td>0.382491</td>\n",
       "      <td>True</td>\n",
       "      <td>german shepherd</td>\n",
       "      <td>0.312026</td>\n",
       "      <td>True</td>\n",
       "      <td>bull mastiff</td>\n",
       "      <td>0.033272</td>\n",
       "      <td>True</td>\n",
       "    </tr>\n",
       "    <tr>\n",
       "      <th>1111</th>\n",
       "      <td>724046343203856385</td>\n",
       "      <td>https://pbs.twimg.com/media/CgxUTS_XEAAC0pv.jpg</td>\n",
       "      <td>1</td>\n",
       "      <td>boxer</td>\n",
       "      <td>0.826272</td>\n",
       "      <td>True</td>\n",
       "      <td>bull mastiff</td>\n",
       "      <td>0.158595</td>\n",
       "      <td>True</td>\n",
       "      <td>great dane</td>\n",
       "      <td>0.011859</td>\n",
       "      <td>True</td>\n",
       "    </tr>\n",
       "    <tr>\n",
       "      <th>1046</th>\n",
       "      <td>713175907180089344</td>\n",
       "      <td>https://pbs.twimg.com/media/CeW1tERWAAAA9Q2.jpg</td>\n",
       "      <td>1</td>\n",
       "      <td>timber wolf</td>\n",
       "      <td>0.503788</td>\n",
       "      <td>False</td>\n",
       "      <td>malamute</td>\n",
       "      <td>0.430624</td>\n",
       "      <td>True</td>\n",
       "      <td>siberian husky</td>\n",
       "      <td>0.028454</td>\n",
       "      <td>True</td>\n",
       "    </tr>\n",
       "    <tr>\n",
       "      <th>389</th>\n",
       "      <td>673359818736984064</td>\n",
       "      <td>https://pbs.twimg.com/media/CVhBLohWEAAXtYl.jpg</td>\n",
       "      <td>1</td>\n",
       "      <td>english setter</td>\n",
       "      <td>0.696568</td>\n",
       "      <td>True</td>\n",
       "      <td>brittany spaniel</td>\n",
       "      <td>0.104046</td>\n",
       "      <td>True</td>\n",
       "      <td>ibizan hound</td>\n",
       "      <td>0.034832</td>\n",
       "      <td>True</td>\n",
       "    </tr>\n",
       "  </tbody>\n",
       "</table>\n",
       "</div>"
      ],
      "text/plain": [
       "                tweet_id                                            jpg_url  \\\n",
       "2059  889278841981685760  https://pbs.twimg.com/ext_tw_video_thumb/88927...   \n",
       "1474  780459368902959104    https://pbs.twimg.com/media/CtS_p9kXEAE2nh8.jpg   \n",
       "1111  724046343203856385    https://pbs.twimg.com/media/CgxUTS_XEAAC0pv.jpg   \n",
       "1046  713175907180089344    https://pbs.twimg.com/media/CeW1tERWAAAA9Q2.jpg   \n",
       "389   673359818736984064    https://pbs.twimg.com/media/CVhBLohWEAAXtYl.jpg   \n",
       "\n",
       "      img_num              p1   p1_conf  p1_dog                p2   p2_conf  \\\n",
       "2059        1         whippet  0.626152    True            borzoi  0.194742   \n",
       "1474        1      great dane  0.382491    True   german shepherd  0.312026   \n",
       "1111        1           boxer  0.826272    True      bull mastiff  0.158595   \n",
       "1046        1     timber wolf  0.503788   False          malamute  0.430624   \n",
       "389         1  english setter  0.696568    True  brittany spaniel  0.104046   \n",
       "\n",
       "      p2_dog              p3   p3_conf  p3_dog  \n",
       "2059    True          saluki  0.027351    True  \n",
       "1474    True    bull mastiff  0.033272    True  \n",
       "1111    True      great dane  0.011859    True  \n",
       "1046    True  siberian husky  0.028454    True  \n",
       "389     True    ibizan hound  0.034832    True  "
      ]
     },
     "execution_count": 81,
     "metadata": {},
     "output_type": "execute_result"
    }
   ],
   "source": [
    "df_predict_clean.sample(5)"
   ]
  },
  {
   "cell_type": "markdown",
   "metadata": {},
   "source": [
    "<a id=\"limpeza:image-prediction:try\"></a>\n",
    "\n",
    "#### 3.1.1. [`[p1, p2, p3]`, para `prediction_try`](#limpeza:image-prediction:try)"
   ]
  },
  {
   "cell_type": "code",
   "execution_count": 82,
   "metadata": {},
   "outputs": [],
   "source": [
    "# Organizando as variáveis de tentativa de predição e seu palpite\n",
    "df_predict_guess = pd.melt(df_predict_clean,\n",
    "        id_vars=['tweet_id', 'jpg_url'],\n",
    "        value_vars=['p1', 'p2', 'p3'],\n",
    "        var_name=['prediction_try'],\n",
    "        value_name='prediction'\n",
    "       )"
   ]
  },
  {
   "cell_type": "code",
   "execution_count": 83,
   "metadata": {},
   "outputs": [
    {
     "data": {
      "text/html": [
       "<div>\n",
       "<style scoped>\n",
       "    .dataframe tbody tr th:only-of-type {\n",
       "        vertical-align: middle;\n",
       "    }\n",
       "\n",
       "    .dataframe tbody tr th {\n",
       "        vertical-align: top;\n",
       "    }\n",
       "\n",
       "    .dataframe thead th {\n",
       "        text-align: right;\n",
       "    }\n",
       "</style>\n",
       "<table border=\"1\" class=\"dataframe\">\n",
       "  <thead>\n",
       "    <tr style=\"text-align: right;\">\n",
       "      <th></th>\n",
       "      <th>tweet_id</th>\n",
       "      <th>jpg_url</th>\n",
       "      <th>prediction_try</th>\n",
       "      <th>prediction</th>\n",
       "    </tr>\n",
       "  </thead>\n",
       "  <tbody>\n",
       "    <tr>\n",
       "      <th>5319</th>\n",
       "      <td>758467244762497024</td>\n",
       "      <td>https://pbs.twimg.com/ext_tw_video_thumb/75846...</td>\n",
       "      <td>p3</td>\n",
       "      <td>american staffordshire terrier</td>\n",
       "    </tr>\n",
       "    <tr>\n",
       "      <th>3499</th>\n",
       "      <td>789599242079838210</td>\n",
       "      <td>https://pbs.twimg.com/media/CvU4UZpXgAE1pAV.jpg</td>\n",
       "      <td>p2</td>\n",
       "      <td>beagle</td>\n",
       "    </tr>\n",
       "    <tr>\n",
       "      <th>3221</th>\n",
       "      <td>745712589599014916</td>\n",
       "      <td>https://pbs.twimg.com/media/CllNnkWWMAEDIAR.jpg</td>\n",
       "      <td>p2</td>\n",
       "      <td>chow</td>\n",
       "    </tr>\n",
       "    <tr>\n",
       "      <th>1894</th>\n",
       "      <td>869227993411051520</td>\n",
       "      <td>https://pbs.twimg.com/media/DBAePiVXcAAqHSR.jpg</td>\n",
       "      <td>p1</td>\n",
       "      <td>pembroke</td>\n",
       "    </tr>\n",
       "    <tr>\n",
       "      <th>2026</th>\n",
       "      <td>666428276349472768</td>\n",
       "      <td>https://pbs.twimg.com/media/CT-g-0DUwAEQdSn.jpg</td>\n",
       "      <td>p2</td>\n",
       "      <td>chow</td>\n",
       "    </tr>\n",
       "  </tbody>\n",
       "</table>\n",
       "</div>"
      ],
      "text/plain": [
       "                tweet_id                                            jpg_url  \\\n",
       "5319  758467244762497024  https://pbs.twimg.com/ext_tw_video_thumb/75846...   \n",
       "3499  789599242079838210    https://pbs.twimg.com/media/CvU4UZpXgAE1pAV.jpg   \n",
       "3221  745712589599014916    https://pbs.twimg.com/media/CllNnkWWMAEDIAR.jpg   \n",
       "1894  869227993411051520    https://pbs.twimg.com/media/DBAePiVXcAAqHSR.jpg   \n",
       "2026  666428276349472768    https://pbs.twimg.com/media/CT-g-0DUwAEQdSn.jpg   \n",
       "\n",
       "     prediction_try                      prediction  \n",
       "5319             p3  american staffordshire terrier  \n",
       "3499             p2                          beagle  \n",
       "3221             p2                            chow  \n",
       "1894             p1                        pembroke  \n",
       "2026             p2                            chow  "
      ]
     },
     "execution_count": 83,
     "metadata": {},
     "output_type": "execute_result"
    }
   ],
   "source": [
    "df_predict_try.sample(5)"
   ]
  },
  {
   "cell_type": "markdown",
   "metadata": {},
   "source": [
    "Conversão dos valores da tentativa para número inteiro"
   ]
  },
  {
   "cell_type": "code",
   "execution_count": 84,
   "metadata": {},
   "outputs": [],
   "source": [
    "# Metodo para retirar o índice da tentativa dos nomes das colunas\n",
    "get_prediction_index = lambda value: int(re.sub(r'[^\\d]', '', str(value)))"
   ]
  },
  {
   "cell_type": "code",
   "execution_count": 85,
   "metadata": {},
   "outputs": [],
   "source": [
    "df_predict_try.prediction_try = df_predict_try.prediction_try.apply(get_prediction_index)"
   ]
  },
  {
   "cell_type": "code",
   "execution_count": 86,
   "metadata": {},
   "outputs": [
    {
     "name": "stdout",
     "output_type": "stream",
     "text": [
      "<class 'pandas.core.frame.DataFrame'>\n",
      "RangeIndex: 5982 entries, 0 to 5981\n",
      "Data columns (total 4 columns):\n",
      "tweet_id          5982 non-null int64\n",
      "jpg_url           5982 non-null object\n",
      "prediction_try    5982 non-null int64\n",
      "prediction        5982 non-null object\n",
      "dtypes: int64(2), object(2)\n",
      "memory usage: 187.0+ KB\n"
     ]
    }
   ],
   "source": [
    "df_predict_try.info()"
   ]
  },
  {
   "cell_type": "code",
   "execution_count": 87,
   "metadata": {},
   "outputs": [
    {
     "data": {
      "text/html": [
       "<div>\n",
       "<style scoped>\n",
       "    .dataframe tbody tr th:only-of-type {\n",
       "        vertical-align: middle;\n",
       "    }\n",
       "\n",
       "    .dataframe tbody tr th {\n",
       "        vertical-align: top;\n",
       "    }\n",
       "\n",
       "    .dataframe thead th {\n",
       "        text-align: right;\n",
       "    }\n",
       "</style>\n",
       "<table border=\"1\" class=\"dataframe\">\n",
       "  <thead>\n",
       "    <tr style=\"text-align: right;\">\n",
       "      <th></th>\n",
       "      <th>tweet_id</th>\n",
       "      <th>jpg_url</th>\n",
       "      <th>prediction_try</th>\n",
       "      <th>prediction</th>\n",
       "    </tr>\n",
       "  </thead>\n",
       "  <tbody>\n",
       "    <tr>\n",
       "      <th>3397</th>\n",
       "      <td>771380798096281600</td>\n",
       "      <td>https://pbs.twimg.com/media/CrR-vVfXEAAk6Gg.jpg</td>\n",
       "      <td>2</td>\n",
       "      <td>border collie</td>\n",
       "    </tr>\n",
       "    <tr>\n",
       "      <th>5791</th>\n",
       "      <td>845397057150107648</td>\n",
       "      <td>https://pbs.twimg.com/media/C7t0IzLWkAINoft.jpg</td>\n",
       "      <td>3</td>\n",
       "      <td>west highland white terrier</td>\n",
       "    </tr>\n",
       "    <tr>\n",
       "      <th>4999</th>\n",
       "      <td>709556954897764353</td>\n",
       "      <td>https://pbs.twimg.com/media/CdjaSFCWAAAJZh3.jpg</td>\n",
       "      <td>3</td>\n",
       "      <td>labrador retriever</td>\n",
       "    </tr>\n",
       "    <tr>\n",
       "      <th>813</th>\n",
       "      <td>692752401762250755</td>\n",
       "      <td>https://pbs.twimg.com/tweet_video_thumb/CZ0mhd...</td>\n",
       "      <td>1</td>\n",
       "      <td>samoyed</td>\n",
       "    </tr>\n",
       "    <tr>\n",
       "      <th>1181</th>\n",
       "      <td>738883359779196928</td>\n",
       "      <td>https://pbs.twimg.com/media/CkEKe3QWYAAwoDy.jpg</td>\n",
       "      <td>1</td>\n",
       "      <td>labrador retriever</td>\n",
       "    </tr>\n",
       "  </tbody>\n",
       "</table>\n",
       "</div>"
      ],
      "text/plain": [
       "                tweet_id                                            jpg_url  \\\n",
       "3397  771380798096281600    https://pbs.twimg.com/media/CrR-vVfXEAAk6Gg.jpg   \n",
       "5791  845397057150107648    https://pbs.twimg.com/media/C7t0IzLWkAINoft.jpg   \n",
       "4999  709556954897764353    https://pbs.twimg.com/media/CdjaSFCWAAAJZh3.jpg   \n",
       "813   692752401762250755  https://pbs.twimg.com/tweet_video_thumb/CZ0mhd...   \n",
       "1181  738883359779196928    https://pbs.twimg.com/media/CkEKe3QWYAAwoDy.jpg   \n",
       "\n",
       "      prediction_try                   prediction  \n",
       "3397               2                border collie  \n",
       "5791               3  west highland white terrier  \n",
       "4999               3           labrador retriever  \n",
       "813                1                      samoyed  \n",
       "1181               1           labrador retriever  "
      ]
     },
     "execution_count": 87,
     "metadata": {},
     "output_type": "execute_result"
    }
   ],
   "source": [
    "df_predict_try.sample(5)"
   ]
  },
  {
   "cell_type": "markdown",
   "metadata": {},
   "source": [
    "<a id=\"limpeza:image-prediction:conf\"></a>\n",
    "\n",
    "#### 3.1.2. [`[p1_conf, p2_conf, p3_conf]`, para `confidence`](#limpeza:image-prediction:conf)"
   ]
  },
  {
   "cell_type": "code",
   "execution_count": 88,
   "metadata": {},
   "outputs": [],
   "source": [
    "# Movendo o nível de confiança das predições para uma coluna apenas\n",
    "df_predict_conf = pd.melt(df_predict_clean,\n",
    "                         id_vars=['tweet_id', 'jpg_url'],\n",
    "                         value_vars=['p1_conf', 'p2_conf', 'p3_conf'],\n",
    "                         var_name=['prediction_try'],\n",
    "                         value_name='confidence'\n",
    "                        )"
   ]
  },
  {
   "cell_type": "code",
   "execution_count": 89,
   "metadata": {},
   "outputs": [
    {
     "data": {
      "text/html": [
       "<div>\n",
       "<style scoped>\n",
       "    .dataframe tbody tr th:only-of-type {\n",
       "        vertical-align: middle;\n",
       "    }\n",
       "\n",
       "    .dataframe tbody tr th {\n",
       "        vertical-align: top;\n",
       "    }\n",
       "\n",
       "    .dataframe thead th {\n",
       "        text-align: right;\n",
       "    }\n",
       "</style>\n",
       "<table border=\"1\" class=\"dataframe\">\n",
       "  <thead>\n",
       "    <tr style=\"text-align: right;\">\n",
       "      <th></th>\n",
       "      <th>tweet_id</th>\n",
       "      <th>jpg_url</th>\n",
       "      <th>prediction_try</th>\n",
       "      <th>confidence</th>\n",
       "    </tr>\n",
       "  </thead>\n",
       "  <tbody>\n",
       "    <tr>\n",
       "      <th>1983</th>\n",
       "      <td>890006608113172480</td>\n",
       "      <td>https://pbs.twimg.com/media/DFnwSY4WAAAMliS.jpg</td>\n",
       "      <td>p1_conf</td>\n",
       "      <td>0.957979</td>\n",
       "    </tr>\n",
       "    <tr>\n",
       "      <th>1878</th>\n",
       "      <td>864197398364647424</td>\n",
       "      <td>https://pbs.twimg.com/media/C_4-8iPV0AA1Twg.jpg</td>\n",
       "      <td>p1_conf</td>\n",
       "      <td>0.945905</td>\n",
       "    </tr>\n",
       "    <tr>\n",
       "      <th>2283</th>\n",
       "      <td>671182547775299584</td>\n",
       "      <td>https://pbs.twimg.com/media/CVCE9uYXIAEtSzR.jpg</td>\n",
       "      <td>p2_conf</td>\n",
       "      <td>0.218601</td>\n",
       "    </tr>\n",
       "    <tr>\n",
       "      <th>3169</th>\n",
       "      <td>737826014890496000</td>\n",
       "      <td>https://pbs.twimg.com/media/Cj1I1fbWYAAOwff.jpg</td>\n",
       "      <td>p2_conf</td>\n",
       "      <td>0.005605</td>\n",
       "    </tr>\n",
       "    <tr>\n",
       "      <th>1596</th>\n",
       "      <td>808106460588765185</td>\n",
       "      <td>https://pbs.twimg.com/media/Czb4iFRXgAIUMiN.jpg</td>\n",
       "      <td>p1_conf</td>\n",
       "      <td>0.426183</td>\n",
       "    </tr>\n",
       "  </tbody>\n",
       "</table>\n",
       "</div>"
      ],
      "text/plain": [
       "                tweet_id                                          jpg_url  \\\n",
       "1983  890006608113172480  https://pbs.twimg.com/media/DFnwSY4WAAAMliS.jpg   \n",
       "1878  864197398364647424  https://pbs.twimg.com/media/C_4-8iPV0AA1Twg.jpg   \n",
       "2283  671182547775299584  https://pbs.twimg.com/media/CVCE9uYXIAEtSzR.jpg   \n",
       "3169  737826014890496000  https://pbs.twimg.com/media/Cj1I1fbWYAAOwff.jpg   \n",
       "1596  808106460588765185  https://pbs.twimg.com/media/Czb4iFRXgAIUMiN.jpg   \n",
       "\n",
       "     prediction_try  confidence  \n",
       "1983        p1_conf    0.957979  \n",
       "1878        p1_conf    0.945905  \n",
       "2283        p2_conf    0.218601  \n",
       "3169        p2_conf    0.005605  \n",
       "1596        p1_conf    0.426183  "
      ]
     },
     "execution_count": 89,
     "metadata": {},
     "output_type": "execute_result"
    }
   ],
   "source": [
    "df_predict_conf.sample(5)"
   ]
  },
  {
   "cell_type": "code",
   "execution_count": 90,
   "metadata": {},
   "outputs": [],
   "source": [
    "# Atribuir apenas valores inteiros aos indicadores de tentativas\n",
    "df_predict_conf.prediction_try = df_predict_conf.prediction_try.apply(get_prediction_index)"
   ]
  },
  {
   "cell_type": "code",
   "execution_count": 91,
   "metadata": {},
   "outputs": [
    {
     "data": {
      "text/html": [
       "<div>\n",
       "<style scoped>\n",
       "    .dataframe tbody tr th:only-of-type {\n",
       "        vertical-align: middle;\n",
       "    }\n",
       "\n",
       "    .dataframe tbody tr th {\n",
       "        vertical-align: top;\n",
       "    }\n",
       "\n",
       "    .dataframe thead th {\n",
       "        text-align: right;\n",
       "    }\n",
       "</style>\n",
       "<table border=\"1\" class=\"dataframe\">\n",
       "  <thead>\n",
       "    <tr style=\"text-align: right;\">\n",
       "      <th></th>\n",
       "      <th>tweet_id</th>\n",
       "      <th>jpg_url</th>\n",
       "      <th>prediction_try</th>\n",
       "      <th>confidence</th>\n",
       "    </tr>\n",
       "  </thead>\n",
       "  <tbody>\n",
       "    <tr>\n",
       "      <th>4377</th>\n",
       "      <td>673576835670777856</td>\n",
       "      <td>https://pbs.twimg.com/media/CVkGjsxU8AA5OYX.jpg</td>\n",
       "      <td>3</td>\n",
       "      <td>0.072735</td>\n",
       "    </tr>\n",
       "    <tr>\n",
       "      <th>2996</th>\n",
       "      <td>708845821941387268</td>\n",
       "      <td>https://pbs.twimg.com/media/CdZTgynWwAATZcx.jpg</td>\n",
       "      <td>2</td>\n",
       "      <td>0.167853</td>\n",
       "    </tr>\n",
       "    <tr>\n",
       "      <th>5625</th>\n",
       "      <td>815390420867969024</td>\n",
       "      <td>https://pbs.twimg.com/media/C1DZQiTXgAUqgRI.jpg</td>\n",
       "      <td>3</td>\n",
       "      <td>0.046147</td>\n",
       "    </tr>\n",
       "    <tr>\n",
       "      <th>3018</th>\n",
       "      <td>710833117892898816</td>\n",
       "      <td>https://pbs.twimg.com/media/Cd1i8qvUkAE-Jlr.jpg</td>\n",
       "      <td>2</td>\n",
       "      <td>0.189712</td>\n",
       "    </tr>\n",
       "    <tr>\n",
       "      <th>5596</th>\n",
       "      <td>810984652412424192</td>\n",
       "      <td>https://pbs.twimg.com/media/C0EyPZbXAAAceSc.jpg</td>\n",
       "      <td>3</td>\n",
       "      <td>0.025823</td>\n",
       "    </tr>\n",
       "  </tbody>\n",
       "</table>\n",
       "</div>"
      ],
      "text/plain": [
       "                tweet_id                                          jpg_url  \\\n",
       "4377  673576835670777856  https://pbs.twimg.com/media/CVkGjsxU8AA5OYX.jpg   \n",
       "2996  708845821941387268  https://pbs.twimg.com/media/CdZTgynWwAATZcx.jpg   \n",
       "5625  815390420867969024  https://pbs.twimg.com/media/C1DZQiTXgAUqgRI.jpg   \n",
       "3018  710833117892898816  https://pbs.twimg.com/media/Cd1i8qvUkAE-Jlr.jpg   \n",
       "5596  810984652412424192  https://pbs.twimg.com/media/C0EyPZbXAAAceSc.jpg   \n",
       "\n",
       "      prediction_try  confidence  \n",
       "4377               3    0.072735  \n",
       "2996               2    0.167853  \n",
       "5625               3    0.046147  \n",
       "3018               2    0.189712  \n",
       "5596               3    0.025823  "
      ]
     },
     "execution_count": 91,
     "metadata": {},
     "output_type": "execute_result"
    }
   ],
   "source": [
    "df_predict_conf.sample(5)"
   ]
  },
  {
   "cell_type": "code",
   "execution_count": 92,
   "metadata": {},
   "outputs": [
    {
     "data": {
      "text/plain": [
       "(5982, 4)"
      ]
     },
     "execution_count": 92,
     "metadata": {},
     "output_type": "execute_result"
    }
   ],
   "source": [
    "df_predict_conf.shape"
   ]
  },
  {
   "cell_type": "markdown",
   "metadata": {},
   "source": [
    "<a id=\"limpeza:image-prediction:dog\"></a>\n",
    "\n",
    "#### 3.1.3. [`[p1_dog, p2_dog, p3_dog]`, para `is_a_dog`](#limpeza:image-prediction:dog)"
   ]
  },
  {
   "cell_type": "code",
   "execution_count": 93,
   "metadata": {},
   "outputs": [],
   "source": [
    "# Movendo o resultado da predição, `p#_dog` para `is_a_dog`\n",
    "df_predict_dog = pd.melt(df_predict_clean,\n",
    "                        id_vars=['tweet_id', 'jpg_url'],\n",
    "                        value_vars=['p1_dog', 'p2_dog', 'p3_dog'],\n",
    "                        var_name=['prediction_try'],\n",
    "                        value_name='is_a_dog')"
   ]
  },
  {
   "cell_type": "code",
   "execution_count": 94,
   "metadata": {},
   "outputs": [
    {
     "data": {
      "text/html": [
       "<div>\n",
       "<style scoped>\n",
       "    .dataframe tbody tr th:only-of-type {\n",
       "        vertical-align: middle;\n",
       "    }\n",
       "\n",
       "    .dataframe tbody tr th {\n",
       "        vertical-align: top;\n",
       "    }\n",
       "\n",
       "    .dataframe thead th {\n",
       "        text-align: right;\n",
       "    }\n",
       "</style>\n",
       "<table border=\"1\" class=\"dataframe\">\n",
       "  <thead>\n",
       "    <tr style=\"text-align: right;\">\n",
       "      <th></th>\n",
       "      <th>tweet_id</th>\n",
       "      <th>jpg_url</th>\n",
       "      <th>prediction_try</th>\n",
       "      <th>is_a_dog</th>\n",
       "    </tr>\n",
       "  </thead>\n",
       "  <tbody>\n",
       "    <tr>\n",
       "      <th>423</th>\n",
       "      <td>674075285688614912</td>\n",
       "      <td>https://pbs.twimg.com/media/CVrL5YBWoAA_uPD.jpg</td>\n",
       "      <td>p1_dog</td>\n",
       "      <td>True</td>\n",
       "    </tr>\n",
       "    <tr>\n",
       "      <th>2816</th>\n",
       "      <td>693231807727280129</td>\n",
       "      <td>https://pbs.twimg.com/media/CZ7aplIUsAAq-8s.jpg</td>\n",
       "      <td>p2_dog</td>\n",
       "      <td>True</td>\n",
       "    </tr>\n",
       "    <tr>\n",
       "      <th>1687</th>\n",
       "      <td>823581115634085888</td>\n",
       "      <td>https://pbs.twimg.com/media/C23ypm6VQAAO31l.jpg</td>\n",
       "      <td>p1_dog</td>\n",
       "      <td>False</td>\n",
       "    </tr>\n",
       "    <tr>\n",
       "      <th>3264</th>\n",
       "      <td>750026558547456000</td>\n",
       "      <td>https://pbs.twimg.com/media/CmieRQRXgAA8MV3.jpg</td>\n",
       "      <td>p2_dog</td>\n",
       "      <td>False</td>\n",
       "    </tr>\n",
       "    <tr>\n",
       "      <th>1429</th>\n",
       "      <td>775842724423557120</td>\n",
       "      <td>https://pbs.twimg.com/media/CsRY1jAWYAUOx55.jpg</td>\n",
       "      <td>p1_dog</td>\n",
       "      <td>True</td>\n",
       "    </tr>\n",
       "  </tbody>\n",
       "</table>\n",
       "</div>"
      ],
      "text/plain": [
       "                tweet_id                                          jpg_url  \\\n",
       "423   674075285688614912  https://pbs.twimg.com/media/CVrL5YBWoAA_uPD.jpg   \n",
       "2816  693231807727280129  https://pbs.twimg.com/media/CZ7aplIUsAAq-8s.jpg   \n",
       "1687  823581115634085888  https://pbs.twimg.com/media/C23ypm6VQAAO31l.jpg   \n",
       "3264  750026558547456000  https://pbs.twimg.com/media/CmieRQRXgAA8MV3.jpg   \n",
       "1429  775842724423557120  https://pbs.twimg.com/media/CsRY1jAWYAUOx55.jpg   \n",
       "\n",
       "     prediction_try  is_a_dog  \n",
       "423          p1_dog      True  \n",
       "2816         p2_dog      True  \n",
       "1687         p1_dog     False  \n",
       "3264         p2_dog     False  \n",
       "1429         p1_dog      True  "
      ]
     },
     "execution_count": 94,
     "metadata": {},
     "output_type": "execute_result"
    }
   ],
   "source": [
    "df_predict_dog.sample(5)"
   ]
  },
  {
   "cell_type": "code",
   "execution_count": 95,
   "metadata": {},
   "outputs": [],
   "source": [
    "# Atribuir apenas valores inteiros aos indicadores de tentativas\n",
    "df_predict_dog.prediction_try = df_predict_dog.prediction_try.apply(get_prediction_index)"
   ]
  },
  {
   "cell_type": "code",
   "execution_count": 96,
   "metadata": {},
   "outputs": [
    {
     "data": {
      "text/html": [
       "<div>\n",
       "<style scoped>\n",
       "    .dataframe tbody tr th:only-of-type {\n",
       "        vertical-align: middle;\n",
       "    }\n",
       "\n",
       "    .dataframe tbody tr th {\n",
       "        vertical-align: top;\n",
       "    }\n",
       "\n",
       "    .dataframe thead th {\n",
       "        text-align: right;\n",
       "    }\n",
       "</style>\n",
       "<table border=\"1\" class=\"dataframe\">\n",
       "  <thead>\n",
       "    <tr style=\"text-align: right;\">\n",
       "      <th></th>\n",
       "      <th>tweet_id</th>\n",
       "      <th>jpg_url</th>\n",
       "      <th>prediction_try</th>\n",
       "      <th>is_a_dog</th>\n",
       "    </tr>\n",
       "  </thead>\n",
       "  <tbody>\n",
       "    <tr>\n",
       "      <th>5617</th>\n",
       "      <td>813217897535406080</td>\n",
       "      <td>https://pbs.twimg.com/media/C0khWkVXEAI389B.jpg</td>\n",
       "      <td>3</td>\n",
       "      <td>True</td>\n",
       "    </tr>\n",
       "    <tr>\n",
       "      <th>1731</th>\n",
       "      <td>831309418084069378</td>\n",
       "      <td>https://pbs.twimg.com/media/C4lngK5VUAEVrNO.jpg</td>\n",
       "      <td>1</td>\n",
       "      <td>True</td>\n",
       "    </tr>\n",
       "    <tr>\n",
       "      <th>4302</th>\n",
       "      <td>671743150407421952</td>\n",
       "      <td>https://pbs.twimg.com/media/CVKC1IfWIAAsQks.jpg</td>\n",
       "      <td>3</td>\n",
       "      <td>False</td>\n",
       "    </tr>\n",
       "    <tr>\n",
       "      <th>2628</th>\n",
       "      <td>681242418453299201</td>\n",
       "      <td>https://pbs.twimg.com/media/CXRCXesVAAArSXt.jpg</td>\n",
       "      <td>2</td>\n",
       "      <td>False</td>\n",
       "    </tr>\n",
       "    <tr>\n",
       "      <th>4018</th>\n",
       "      <td>666418789513326592</td>\n",
       "      <td>https://pbs.twimg.com/media/CT-YWb7U8AA7QnN.jpg</td>\n",
       "      <td>3</td>\n",
       "      <td>True</td>\n",
       "    </tr>\n",
       "  </tbody>\n",
       "</table>\n",
       "</div>"
      ],
      "text/plain": [
       "                tweet_id                                          jpg_url  \\\n",
       "5617  813217897535406080  https://pbs.twimg.com/media/C0khWkVXEAI389B.jpg   \n",
       "1731  831309418084069378  https://pbs.twimg.com/media/C4lngK5VUAEVrNO.jpg   \n",
       "4302  671743150407421952  https://pbs.twimg.com/media/CVKC1IfWIAAsQks.jpg   \n",
       "2628  681242418453299201  https://pbs.twimg.com/media/CXRCXesVAAArSXt.jpg   \n",
       "4018  666418789513326592  https://pbs.twimg.com/media/CT-YWb7U8AA7QnN.jpg   \n",
       "\n",
       "      prediction_try  is_a_dog  \n",
       "5617               3      True  \n",
       "1731               1      True  \n",
       "4302               3     False  \n",
       "2628               2     False  \n",
       "4018               3      True  "
      ]
     },
     "execution_count": 96,
     "metadata": {},
     "output_type": "execute_result"
    }
   ],
   "source": [
    "df_predict_dog.sample(5)"
   ]
  },
  {
   "cell_type": "code",
   "execution_count": 97,
   "metadata": {},
   "outputs": [
    {
     "name": "stdout",
     "output_type": "stream",
     "text": [
      "<class 'pandas.core.frame.DataFrame'>\n",
      "RangeIndex: 5982 entries, 0 to 5981\n",
      "Data columns (total 4 columns):\n",
      "tweet_id          5982 non-null int64\n",
      "jpg_url           5982 non-null object\n",
      "prediction_try    5982 non-null int64\n",
      "is_a_dog          5982 non-null bool\n",
      "dtypes: bool(1), int64(2), object(1)\n",
      "memory usage: 146.1+ KB\n"
     ]
    }
   ],
   "source": [
    "df_predict_dog.info()"
   ]
  },
  {
   "cell_type": "markdown",
   "metadata": {},
   "source": [
    "<a id=\"limpeza:image-prediction:merge\"></a>\n",
    "\n",
    "#### 3.2. [Unir os dataframes de prediction](#limpeza:image-prediction:merge)"
   ]
  },
  {
   "cell_type": "code",
   "execution_count": 100,
   "metadata": {},
   "outputs": [],
   "source": [
    "# Lista de dataframes para merge\n",
    "predictions = [\n",
    "    df_predict_try,\n",
    "    df_predict_conf,\n",
    "    df_predict_dog\n",
    "]"
   ]
  },
  {
   "cell_type": "code",
   "execution_count": null,
   "metadata": {},
   "outputs": [],
   "source": [
    "# Merge\n",
    "df_predict_clean = pd.merge(prediction)"
   ]
  },
  {
   "cell_type": "markdown",
   "metadata": {},
   "source": [
    "------\n",
    "<a id=\"limpeza:twitter-api\"></a>\n",
    "\n",
    "## Limpeza: Twitter API"
   ]
  },
  {
   "cell_type": "markdown",
   "metadata": {},
   "source": [
    "------\n",
    "<a id=\"armazenamento\"></a>\n",
    "\n",
    "# Armazenamento"
   ]
  },
  {
   "cell_type": "markdown",
   "metadata": {},
   "source": [
    "# Relatórios"
   ]
  },
  {
   "cell_type": "markdown",
   "metadata": {},
   "source": [
    "* Data wrangling efforts\n",
    "* Analyses and visualizations"
   ]
  }
 ],
 "metadata": {
  "kernelspec": {
   "display_name": "Python 3",
   "language": "python",
   "name": "python3"
  },
  "language_info": {
   "codemirror_mode": {
    "name": "ipython",
    "version": 3
   },
   "file_extension": ".py",
   "mimetype": "text/x-python",
   "name": "python",
   "nbconvert_exporter": "python",
   "pygments_lexer": "ipython3",
   "version": "3.6.8"
  }
 },
 "nbformat": 4,
 "nbformat_minor": 2
}
