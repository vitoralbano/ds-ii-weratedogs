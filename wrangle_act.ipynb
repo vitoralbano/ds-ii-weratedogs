{
 "cells": [
  {
   "cell_type": "code",
   "execution_count": 1,
   "metadata": {},
   "outputs": [],
   "source": [
    "import pandas as pd\n",
    "import numpy as np\n",
    "import requests\n",
    "import tweepy\n",
    "import json\n",
    "import os\n",
    "import re\n",
    "from IPython.display import clear_output"
   ]
  },
  {
   "cell_type": "markdown",
   "metadata": {},
   "source": [
    "------\n",
    "<a id=\"indice\"></a>\n",
    "\n",
    "# Índice"
   ]
  },
  {
   "cell_type": "markdown",
   "metadata": {},
   "source": [
    "1. **[Coleta](#coleta)**\n",
    "    * [Twitter Archive](#coleta:twitter-archive)\n",
    "    * [Image Prediction](#coleta:image-prediction)\n",
    "    * [Twitter API](#coleta:twitter-api)\n",
    "    \n",
    "    \n",
    "2. **[Avaliação](#avaliacao)**\n",
    "    * [Twitter Archive](#avaliacao:twitter-archive)\n",
    "    * [Image Prediction](#avaliacao:image-prediction)\n",
    "    * [Twitter API](#avaliacao:twitter-api)\n",
    "    * [Notas da avaliação](#avaliacao:anotacoes)\n",
    "    \n",
    "    \n",
    "3. **[Limpeza](#limpeza)**\n",
    "    * [Definição](#limpeza:definicao)\n",
    "    * [Twitter Archive](#limpeza:twitter-archive)\n",
    "    * [Image Prediction](#limpeza:image-prediction)\n",
    "    * [Twitter API](#limpeza:twitter-api)\n",
    "\n",
    "\n",
    "4. **[Armazenamento](#armazenamento)**"
   ]
  },
  {
   "cell_type": "markdown",
   "metadata": {},
   "source": [
    "------\n",
    "<a id=\"coleta\"></a>"
   ]
  },
  {
   "cell_type": "markdown",
   "metadata": {},
   "source": [
    "# Coleta"
   ]
  },
  {
   "cell_type": "markdown",
   "metadata": {},
   "source": [
    "<a id=\"coleta:twitter-archive\"></a>"
   ]
  },
  {
   "cell_type": "markdown",
   "metadata": {},
   "source": [
    "## Coleta: Twitter archive"
   ]
  },
  {
   "cell_type": "code",
   "execution_count": 2,
   "metadata": {},
   "outputs": [
    {
     "data": {
      "text/html": [
       "<div>\n",
       "<style scoped>\n",
       "    .dataframe tbody tr th:only-of-type {\n",
       "        vertical-align: middle;\n",
       "    }\n",
       "\n",
       "    .dataframe tbody tr th {\n",
       "        vertical-align: top;\n",
       "    }\n",
       "\n",
       "    .dataframe thead th {\n",
       "        text-align: right;\n",
       "    }\n",
       "</style>\n",
       "<table border=\"1\" class=\"dataframe\">\n",
       "  <thead>\n",
       "    <tr style=\"text-align: right;\">\n",
       "      <th></th>\n",
       "      <th>tweet_id</th>\n",
       "      <th>in_reply_to_status_id</th>\n",
       "      <th>in_reply_to_user_id</th>\n",
       "      <th>timestamp</th>\n",
       "      <th>source</th>\n",
       "      <th>text</th>\n",
       "      <th>retweeted_status_id</th>\n",
       "      <th>retweeted_status_user_id</th>\n",
       "      <th>retweeted_status_timestamp</th>\n",
       "      <th>expanded_urls</th>\n",
       "      <th>rating_numerator</th>\n",
       "      <th>rating_denominator</th>\n",
       "      <th>name</th>\n",
       "      <th>doggo</th>\n",
       "      <th>floofer</th>\n",
       "      <th>pupper</th>\n",
       "      <th>puppo</th>\n",
       "    </tr>\n",
       "  </thead>\n",
       "  <tbody>\n",
       "    <tr>\n",
       "      <th>790</th>\n",
       "      <td>773922284943896577</td>\n",
       "      <td>NaN</td>\n",
       "      <td>NaN</td>\n",
       "      <td>2016-09-08 16:33:46 +0000</td>\n",
       "      <td>&lt;a href=\"http://twitter.com/download/iphone\" r...</td>\n",
       "      <td>This is Heinrich (pronounced \"Pat\"). He's a Bo...</td>\n",
       "      <td>NaN</td>\n",
       "      <td>NaN</td>\n",
       "      <td>NaN</td>\n",
       "      <td>https://twitter.com/dog_rates/status/773922284...</td>\n",
       "      <td>12</td>\n",
       "      <td>10</td>\n",
       "      <td>Heinrich</td>\n",
       "      <td>None</td>\n",
       "      <td>None</td>\n",
       "      <td>None</td>\n",
       "      <td>None</td>\n",
       "    </tr>\n",
       "    <tr>\n",
       "      <th>1086</th>\n",
       "      <td>738166403467907072</td>\n",
       "      <td>NaN</td>\n",
       "      <td>NaN</td>\n",
       "      <td>2016-06-02 00:32:39 +0000</td>\n",
       "      <td>&lt;a href=\"http://twitter.com/download/iphone\" r...</td>\n",
       "      <td>This is Axel. He's a professional leaf catcher...</td>\n",
       "      <td>NaN</td>\n",
       "      <td>NaN</td>\n",
       "      <td>NaN</td>\n",
       "      <td>https://twitter.com/dog_rates/status/738166403...</td>\n",
       "      <td>12</td>\n",
       "      <td>10</td>\n",
       "      <td>Axel</td>\n",
       "      <td>None</td>\n",
       "      <td>None</td>\n",
       "      <td>None</td>\n",
       "      <td>None</td>\n",
       "    </tr>\n",
       "  </tbody>\n",
       "</table>\n",
       "</div>"
      ],
      "text/plain": [
       "                tweet_id  in_reply_to_status_id  in_reply_to_user_id  \\\n",
       "790   773922284943896577                    NaN                  NaN   \n",
       "1086  738166403467907072                    NaN                  NaN   \n",
       "\n",
       "                      timestamp  \\\n",
       "790   2016-09-08 16:33:46 +0000   \n",
       "1086  2016-06-02 00:32:39 +0000   \n",
       "\n",
       "                                                 source  \\\n",
       "790   <a href=\"http://twitter.com/download/iphone\" r...   \n",
       "1086  <a href=\"http://twitter.com/download/iphone\" r...   \n",
       "\n",
       "                                                   text  retweeted_status_id  \\\n",
       "790   This is Heinrich (pronounced \"Pat\"). He's a Bo...                  NaN   \n",
       "1086  This is Axel. He's a professional leaf catcher...                  NaN   \n",
       "\n",
       "      retweeted_status_user_id retweeted_status_timestamp  \\\n",
       "790                        NaN                        NaN   \n",
       "1086                       NaN                        NaN   \n",
       "\n",
       "                                          expanded_urls  rating_numerator  \\\n",
       "790   https://twitter.com/dog_rates/status/773922284...                12   \n",
       "1086  https://twitter.com/dog_rates/status/738166403...                12   \n",
       "\n",
       "      rating_denominator      name doggo floofer pupper puppo  \n",
       "790                   10  Heinrich  None    None   None  None  \n",
       "1086                  10      Axel  None    None   None  None  "
      ]
     },
     "execution_count": 2,
     "metadata": {},
     "output_type": "execute_result"
    }
   ],
   "source": [
    "df_twitter_arc = pd.read_csv('data/twitter-archive-enhanced.csv')\n",
    "df_twitter_arc.sample(2)"
   ]
  },
  {
   "cell_type": "markdown",
   "metadata": {},
   "source": [
    "<a id=\"coleta:image-prediction\"></a>"
   ]
  },
  {
   "cell_type": "markdown",
   "metadata": {},
   "source": [
    "## Coleta: Image prediction"
   ]
  },
  {
   "cell_type": "code",
   "execution_count": 3,
   "metadata": {},
   "outputs": [],
   "source": [
    "df_prediction = None\n",
    "\n",
    "r = requests.get('https://d17h27t6h515a5.cloudfront.net/topher/2017/August/599fd2ad_image-predictions/image-predictions.tsv')\n",
    "\n",
    "if r.status_code is 200:\n",
    "    df_prediction = pd.read_csv(pd.compat.StringIO(r.text), sep='\\t')    \n",
    "else:    \n",
    "    print('ERROR: Image prediction request returned {status_code} status code.'.format(status_code = r.status_code))"
   ]
  },
  {
   "cell_type": "code",
   "execution_count": 4,
   "metadata": {},
   "outputs": [
    {
     "data": {
      "text/html": [
       "<div>\n",
       "<style scoped>\n",
       "    .dataframe tbody tr th:only-of-type {\n",
       "        vertical-align: middle;\n",
       "    }\n",
       "\n",
       "    .dataframe tbody tr th {\n",
       "        vertical-align: top;\n",
       "    }\n",
       "\n",
       "    .dataframe thead th {\n",
       "        text-align: right;\n",
       "    }\n",
       "</style>\n",
       "<table border=\"1\" class=\"dataframe\">\n",
       "  <thead>\n",
       "    <tr style=\"text-align: right;\">\n",
       "      <th></th>\n",
       "      <th>tweet_id</th>\n",
       "      <th>jpg_url</th>\n",
       "      <th>img_num</th>\n",
       "      <th>p1</th>\n",
       "      <th>p1_conf</th>\n",
       "      <th>p1_dog</th>\n",
       "      <th>p2</th>\n",
       "      <th>p2_conf</th>\n",
       "      <th>p2_dog</th>\n",
       "      <th>p3</th>\n",
       "      <th>p3_conf</th>\n",
       "      <th>p3_dog</th>\n",
       "    </tr>\n",
       "  </thead>\n",
       "  <tbody>\n",
       "    <tr>\n",
       "      <th>123</th>\n",
       "      <td>668226093875376128</td>\n",
       "      <td>https://pbs.twimg.com/media/CUYEFlQXAAUkPGm.jpg</td>\n",
       "      <td>1</td>\n",
       "      <td>trombone</td>\n",
       "      <td>0.390339</td>\n",
       "      <td>False</td>\n",
       "      <td>cornet</td>\n",
       "      <td>0.314149</td>\n",
       "      <td>False</td>\n",
       "      <td>French_horn</td>\n",
       "      <td>0.255182</td>\n",
       "      <td>False</td>\n",
       "    </tr>\n",
       "    <tr>\n",
       "      <th>1003</th>\n",
       "      <td>708834316713893888</td>\n",
       "      <td>https://pbs.twimg.com/media/CdZI_bpWEAAm1fs.jpg</td>\n",
       "      <td>1</td>\n",
       "      <td>Eskimo_dog</td>\n",
       "      <td>0.283945</td>\n",
       "      <td>True</td>\n",
       "      <td>giant_panda</td>\n",
       "      <td>0.218252</td>\n",
       "      <td>False</td>\n",
       "      <td>malamute</td>\n",
       "      <td>0.180401</td>\n",
       "      <td>True</td>\n",
       "    </tr>\n",
       "  </tbody>\n",
       "</table>\n",
       "</div>"
      ],
      "text/plain": [
       "                tweet_id                                          jpg_url  \\\n",
       "123   668226093875376128  https://pbs.twimg.com/media/CUYEFlQXAAUkPGm.jpg   \n",
       "1003  708834316713893888  https://pbs.twimg.com/media/CdZI_bpWEAAm1fs.jpg   \n",
       "\n",
       "      img_num          p1   p1_conf  p1_dog           p2   p2_conf  p2_dog  \\\n",
       "123         1    trombone  0.390339   False       cornet  0.314149   False   \n",
       "1003        1  Eskimo_dog  0.283945    True  giant_panda  0.218252   False   \n",
       "\n",
       "               p3   p3_conf  p3_dog  \n",
       "123   French_horn  0.255182   False  \n",
       "1003     malamute  0.180401    True  "
      ]
     },
     "execution_count": 4,
     "metadata": {},
     "output_type": "execute_result"
    }
   ],
   "source": [
    "df_prediction.sample(2)"
   ]
  },
  {
   "cell_type": "markdown",
   "metadata": {},
   "source": [
    "<a id=\"coleta:twitter-api\"></a>"
   ]
  },
  {
   "cell_type": "markdown",
   "metadata": {},
   "source": [
    "## Coleta: Twitter API"
   ]
  },
  {
   "cell_type": "code",
   "execution_count": 5,
   "metadata": {},
   "outputs": [],
   "source": [
    "# Carregar configuração do Twitter App\n",
    "with open('twitter_config.json', 'r', encoding='utf-8') as file:\n",
    "    app_config = json.load(file)"
   ]
  },
  {
   "cell_type": "code",
   "execution_count": 6,
   "metadata": {},
   "outputs": [],
   "source": [
    "# Atribuição da configurações a variaveis locais\n",
    "api_key = app_config['api_key']\n",
    "api_secret = app_config['api_secret']\n",
    "access_token = app_config['access_token']\n",
    "access_secret = app_config['access_secret']"
   ]
  },
  {
   "cell_type": "code",
   "execution_count": 7,
   "metadata": {},
   "outputs": [],
   "source": [
    "# Autentificação ao Twitter App\n",
    "auth = tweepy.OAuthHandler(api_key, api_secret)\n",
    "auth.set_access_token(access_token, access_secret)\n",
    "\n",
    "api = tweepy.API(auth, wait_on_rate_limit=True, wait_on_rate_limit_notify=True)"
   ]
  },
  {
   "cell_type": "markdown",
   "metadata": {},
   "source": [
    "Buscar dados do histórico de Tweets na API"
   ]
  },
  {
   "cell_type": "code",
   "execution_count": 8,
   "metadata": {},
   "outputs": [
    {
     "name": "stdout",
     "output_type": "stream",
     "text": [
      "Dados já salvos em disco, não serão executadas novas requisições à API do Twitter.\n"
     ]
    }
   ],
   "source": [
    "json_path = 'data/tweet_json.txt'\n",
    "error_log = 'data/tweet_error.log'\n",
    "\n",
    "# Salvar Tweets localmente\n",
    "if(not os.path.isfile(json_path)):\n",
    "    print('Aguarde. Dado o volume de requisições, a coleta de tweets pode demorar alguns minutos.')\n",
    "    tweet_count = 0\n",
    "    for tweet_id in df_twitter_arc.tweet_id:\n",
    "        print('{percent}%'.format(percent=int((++tweet_count/df_twitter_arc.tweet_id.size)*100)))\n",
    "        try:\n",
    "            status = api.get_status(tweet_id)\n",
    "            with open(json_path, 'a', newline='\\n') as file:\n",
    "                file.write(f'{json.dumps(status._json)}\\n')\n",
    "\n",
    "        except Exception as err:\n",
    "            with open(error_log, 'a', newline='\\n') as log:\n",
    "                log.write(f'{str(tweet_id)}: {str(err.args[0])}\\n')\n",
    "            print(f'{str(tweet_id)}: {str(err.args[0])}')\n",
    "        \n",
    "        clear_output(wait=True)\n",
    "else:\n",
    "    print('Dados já salvos em disco, não serão executadas novas requisições à API do Twitter.')\n",
    "        "
   ]
  },
  {
   "cell_type": "code",
   "execution_count": 9,
   "metadata": {},
   "outputs": [],
   "source": [
    "# Criar uma lista de Dictionaries com os Tweets carregados\n",
    "tweets = []\n",
    "\n",
    "with open(json_path, 'r') as file:\n",
    "    for line in file:\n",
    "        try:\n",
    "            tweet = json.loads(line)\n",
    "            \n",
    "            if(tweet.get('entities', False)):\n",
    "                if(tweet['entities'].get('media', False) and tweet['entities']['media'][0].get('media_url', False)):\n",
    "                    tweets.append({\n",
    "                        'id': tweet['id'],\n",
    "                        'created_at': tweet['created_at'],\n",
    "                        'in_reply_to_status_id': tweet['in_reply_to_status_id'],\n",
    "                        'in_reply_to_user_id': tweet['in_reply_to_user_id'],\n",
    "                        'is_quote_status': tweet['is_quote_status'],\n",
    "                        'retweet_count': tweet['retweet_count'],\n",
    "                        'favorite_count': tweet['favorite_count'],\n",
    "                        'media_url': tweet['entities']['media'][0]['media_url'],\n",
    "                        'retweeted': tweet['retweeted'],\n",
    "                        'favorited': tweet['favorited']\n",
    "                    })\n",
    "            \n",
    "            \n",
    "        except Exception as e:\n",
    "            print(e) \n",
    "            \n",
    "        "
   ]
  },
  {
   "cell_type": "code",
   "execution_count": 10,
   "metadata": {},
   "outputs": [],
   "source": [
    "# Criar dataframe de Tweets consultados na API\n",
    "columns = tweets[0].keys()\n",
    "df_tweets_api = pd.DataFrame(tweets, columns = columns)"
   ]
  },
  {
   "cell_type": "markdown",
   "metadata": {},
   "source": [
    "------\n",
    "<a id=\"avaliacao\"></a>\n",
    "\n",
    "# Avaliação"
   ]
  },
  {
   "cell_type": "markdown",
   "metadata": {},
   "source": [
    "<a id=\"avaliacao:twitter-archive\"></a>\n",
    "\n",
    "## Avaliação: Twitter data archive"
   ]
  },
  {
   "cell_type": "code",
   "execution_count": 11,
   "metadata": {},
   "outputs": [
    {
     "data": {
      "text/html": [
       "<div>\n",
       "<style scoped>\n",
       "    .dataframe tbody tr th:only-of-type {\n",
       "        vertical-align: middle;\n",
       "    }\n",
       "\n",
       "    .dataframe tbody tr th {\n",
       "        vertical-align: top;\n",
       "    }\n",
       "\n",
       "    .dataframe thead th {\n",
       "        text-align: right;\n",
       "    }\n",
       "</style>\n",
       "<table border=\"1\" class=\"dataframe\">\n",
       "  <thead>\n",
       "    <tr style=\"text-align: right;\">\n",
       "      <th></th>\n",
       "      <th>tweet_id</th>\n",
       "      <th>in_reply_to_status_id</th>\n",
       "      <th>in_reply_to_user_id</th>\n",
       "      <th>timestamp</th>\n",
       "      <th>source</th>\n",
       "      <th>text</th>\n",
       "      <th>retweeted_status_id</th>\n",
       "      <th>retweeted_status_user_id</th>\n",
       "      <th>retweeted_status_timestamp</th>\n",
       "      <th>expanded_urls</th>\n",
       "      <th>rating_numerator</th>\n",
       "      <th>rating_denominator</th>\n",
       "      <th>name</th>\n",
       "      <th>doggo</th>\n",
       "      <th>floofer</th>\n",
       "      <th>pupper</th>\n",
       "      <th>puppo</th>\n",
       "    </tr>\n",
       "  </thead>\n",
       "  <tbody>\n",
       "    <tr>\n",
       "      <th>1163</th>\n",
       "      <td>723673163800948736</td>\n",
       "      <td>NaN</td>\n",
       "      <td>NaN</td>\n",
       "      <td>2016-04-23 00:41:42 +0000</td>\n",
       "      <td>&lt;a href=\"http://twitter.com/download/iphone\" r...</td>\n",
       "      <td>This is Ivar. She is a badass Viking warrior. ...</td>\n",
       "      <td>NaN</td>\n",
       "      <td>NaN</td>\n",
       "      <td>NaN</td>\n",
       "      <td>https://twitter.com/dog_rates/status/723673163...</td>\n",
       "      <td>10</td>\n",
       "      <td>10</td>\n",
       "      <td>Ivar</td>\n",
       "      <td>None</td>\n",
       "      <td>None</td>\n",
       "      <td>None</td>\n",
       "      <td>None</td>\n",
       "    </tr>\n",
       "    <tr>\n",
       "      <th>1027</th>\n",
       "      <td>746056683365994496</td>\n",
       "      <td>NaN</td>\n",
       "      <td>NaN</td>\n",
       "      <td>2016-06-23 19:05:49 +0000</td>\n",
       "      <td>&lt;a href=\"http://twitter.com/download/iphone\" r...</td>\n",
       "      <td>This is Arlen and Thumpelina. They are best pa...</td>\n",
       "      <td>NaN</td>\n",
       "      <td>NaN</td>\n",
       "      <td>NaN</td>\n",
       "      <td>https://twitter.com/dog_rates/status/746056683...</td>\n",
       "      <td>11</td>\n",
       "      <td>10</td>\n",
       "      <td>Arlen</td>\n",
       "      <td>None</td>\n",
       "      <td>None</td>\n",
       "      <td>None</td>\n",
       "      <td>None</td>\n",
       "    </tr>\n",
       "    <tr>\n",
       "      <th>1465</th>\n",
       "      <td>694352839993344000</td>\n",
       "      <td>NaN</td>\n",
       "      <td>NaN</td>\n",
       "      <td>2016-02-02 02:53:12 +0000</td>\n",
       "      <td>&lt;a href=\"http://twitter.com/download/iphone\" r...</td>\n",
       "      <td>Meet Oliviér. He takes killer selfies. Has a d...</td>\n",
       "      <td>NaN</td>\n",
       "      <td>NaN</td>\n",
       "      <td>NaN</td>\n",
       "      <td>https://twitter.com/dog_rates/status/694352839...</td>\n",
       "      <td>10</td>\n",
       "      <td>10</td>\n",
       "      <td>Oliviér</td>\n",
       "      <td>None</td>\n",
       "      <td>None</td>\n",
       "      <td>None</td>\n",
       "      <td>None</td>\n",
       "    </tr>\n",
       "    <tr>\n",
       "      <th>936</th>\n",
       "      <td>753375668877008896</td>\n",
       "      <td>NaN</td>\n",
       "      <td>NaN</td>\n",
       "      <td>2016-07-13 23:48:51 +0000</td>\n",
       "      <td>&lt;a href=\"http://twitter.com/download/iphone\" r...</td>\n",
       "      <td>This is Hank. He's mischievous af. Doesn't eve...</td>\n",
       "      <td>NaN</td>\n",
       "      <td>NaN</td>\n",
       "      <td>NaN</td>\n",
       "      <td>https://twitter.com/dog_rates/status/753375668...</td>\n",
       "      <td>8</td>\n",
       "      <td>10</td>\n",
       "      <td>Hank</td>\n",
       "      <td>None</td>\n",
       "      <td>None</td>\n",
       "      <td>None</td>\n",
       "      <td>None</td>\n",
       "    </tr>\n",
       "    <tr>\n",
       "      <th>1553</th>\n",
       "      <td>688908934925697024</td>\n",
       "      <td>NaN</td>\n",
       "      <td>NaN</td>\n",
       "      <td>2016-01-18 02:21:04 +0000</td>\n",
       "      <td>&lt;a href=\"http://twitter.com/download/iphone\" r...</td>\n",
       "      <td>Meet Clarence. He does parkour. 8/10 very tale...</td>\n",
       "      <td>NaN</td>\n",
       "      <td>NaN</td>\n",
       "      <td>NaN</td>\n",
       "      <td>https://twitter.com/dog_rates/status/688908934...</td>\n",
       "      <td>8</td>\n",
       "      <td>10</td>\n",
       "      <td>Clarence</td>\n",
       "      <td>None</td>\n",
       "      <td>None</td>\n",
       "      <td>None</td>\n",
       "      <td>None</td>\n",
       "    </tr>\n",
       "  </tbody>\n",
       "</table>\n",
       "</div>"
      ],
      "text/plain": [
       "                tweet_id  in_reply_to_status_id  in_reply_to_user_id  \\\n",
       "1163  723673163800948736                    NaN                  NaN   \n",
       "1027  746056683365994496                    NaN                  NaN   \n",
       "1465  694352839993344000                    NaN                  NaN   \n",
       "936   753375668877008896                    NaN                  NaN   \n",
       "1553  688908934925697024                    NaN                  NaN   \n",
       "\n",
       "                      timestamp  \\\n",
       "1163  2016-04-23 00:41:42 +0000   \n",
       "1027  2016-06-23 19:05:49 +0000   \n",
       "1465  2016-02-02 02:53:12 +0000   \n",
       "936   2016-07-13 23:48:51 +0000   \n",
       "1553  2016-01-18 02:21:04 +0000   \n",
       "\n",
       "                                                 source  \\\n",
       "1163  <a href=\"http://twitter.com/download/iphone\" r...   \n",
       "1027  <a href=\"http://twitter.com/download/iphone\" r...   \n",
       "1465  <a href=\"http://twitter.com/download/iphone\" r...   \n",
       "936   <a href=\"http://twitter.com/download/iphone\" r...   \n",
       "1553  <a href=\"http://twitter.com/download/iphone\" r...   \n",
       "\n",
       "                                                   text  retweeted_status_id  \\\n",
       "1163  This is Ivar. She is a badass Viking warrior. ...                  NaN   \n",
       "1027  This is Arlen and Thumpelina. They are best pa...                  NaN   \n",
       "1465  Meet Oliviér. He takes killer selfies. Has a d...                  NaN   \n",
       "936   This is Hank. He's mischievous af. Doesn't eve...                  NaN   \n",
       "1553  Meet Clarence. He does parkour. 8/10 very tale...                  NaN   \n",
       "\n",
       "      retweeted_status_user_id retweeted_status_timestamp  \\\n",
       "1163                       NaN                        NaN   \n",
       "1027                       NaN                        NaN   \n",
       "1465                       NaN                        NaN   \n",
       "936                        NaN                        NaN   \n",
       "1553                       NaN                        NaN   \n",
       "\n",
       "                                          expanded_urls  rating_numerator  \\\n",
       "1163  https://twitter.com/dog_rates/status/723673163...                10   \n",
       "1027  https://twitter.com/dog_rates/status/746056683...                11   \n",
       "1465  https://twitter.com/dog_rates/status/694352839...                10   \n",
       "936   https://twitter.com/dog_rates/status/753375668...                 8   \n",
       "1553  https://twitter.com/dog_rates/status/688908934...                 8   \n",
       "\n",
       "      rating_denominator      name doggo floofer pupper puppo  \n",
       "1163                  10      Ivar  None    None   None  None  \n",
       "1027                  10     Arlen  None    None   None  None  \n",
       "1465                  10   Oliviér  None    None   None  None  \n",
       "936                   10      Hank  None    None   None  None  \n",
       "1553                  10  Clarence  None    None   None  None  "
      ]
     },
     "execution_count": 11,
     "metadata": {},
     "output_type": "execute_result"
    }
   ],
   "source": [
    " df_twitter_arc.sample(5)"
   ]
  },
  {
   "cell_type": "code",
   "execution_count": 12,
   "metadata": {},
   "outputs": [
    {
     "data": {
      "text/html": [
       "<div>\n",
       "<style scoped>\n",
       "    .dataframe tbody tr th:only-of-type {\n",
       "        vertical-align: middle;\n",
       "    }\n",
       "\n",
       "    .dataframe tbody tr th {\n",
       "        vertical-align: top;\n",
       "    }\n",
       "\n",
       "    .dataframe thead th {\n",
       "        text-align: right;\n",
       "    }\n",
       "</style>\n",
       "<table border=\"1\" class=\"dataframe\">\n",
       "  <thead>\n",
       "    <tr style=\"text-align: right;\">\n",
       "      <th></th>\n",
       "      <th>tweet_id</th>\n",
       "      <th>in_reply_to_status_id</th>\n",
       "      <th>in_reply_to_user_id</th>\n",
       "      <th>retweeted_status_id</th>\n",
       "      <th>retweeted_status_user_id</th>\n",
       "      <th>rating_numerator</th>\n",
       "      <th>rating_denominator</th>\n",
       "    </tr>\n",
       "  </thead>\n",
       "  <tbody>\n",
       "    <tr>\n",
       "      <th>count</th>\n",
       "      <td>2.356000e+03</td>\n",
       "      <td>7.800000e+01</td>\n",
       "      <td>7.800000e+01</td>\n",
       "      <td>1.810000e+02</td>\n",
       "      <td>1.810000e+02</td>\n",
       "      <td>2356.000000</td>\n",
       "      <td>2356.000000</td>\n",
       "    </tr>\n",
       "    <tr>\n",
       "      <th>mean</th>\n",
       "      <td>7.427716e+17</td>\n",
       "      <td>7.455079e+17</td>\n",
       "      <td>2.014171e+16</td>\n",
       "      <td>7.720400e+17</td>\n",
       "      <td>1.241698e+16</td>\n",
       "      <td>13.126486</td>\n",
       "      <td>10.455433</td>\n",
       "    </tr>\n",
       "    <tr>\n",
       "      <th>std</th>\n",
       "      <td>6.856705e+16</td>\n",
       "      <td>7.582492e+16</td>\n",
       "      <td>1.252797e+17</td>\n",
       "      <td>6.236928e+16</td>\n",
       "      <td>9.599254e+16</td>\n",
       "      <td>45.876648</td>\n",
       "      <td>6.745237</td>\n",
       "    </tr>\n",
       "    <tr>\n",
       "      <th>min</th>\n",
       "      <td>6.660209e+17</td>\n",
       "      <td>6.658147e+17</td>\n",
       "      <td>1.185634e+07</td>\n",
       "      <td>6.661041e+17</td>\n",
       "      <td>7.832140e+05</td>\n",
       "      <td>0.000000</td>\n",
       "      <td>0.000000</td>\n",
       "    </tr>\n",
       "    <tr>\n",
       "      <th>25%</th>\n",
       "      <td>6.783989e+17</td>\n",
       "      <td>6.757419e+17</td>\n",
       "      <td>3.086374e+08</td>\n",
       "      <td>7.186315e+17</td>\n",
       "      <td>4.196984e+09</td>\n",
       "      <td>10.000000</td>\n",
       "      <td>10.000000</td>\n",
       "    </tr>\n",
       "    <tr>\n",
       "      <th>50%</th>\n",
       "      <td>7.196279e+17</td>\n",
       "      <td>7.038708e+17</td>\n",
       "      <td>4.196984e+09</td>\n",
       "      <td>7.804657e+17</td>\n",
       "      <td>4.196984e+09</td>\n",
       "      <td>11.000000</td>\n",
       "      <td>10.000000</td>\n",
       "    </tr>\n",
       "    <tr>\n",
       "      <th>75%</th>\n",
       "      <td>7.993373e+17</td>\n",
       "      <td>8.257804e+17</td>\n",
       "      <td>4.196984e+09</td>\n",
       "      <td>8.203146e+17</td>\n",
       "      <td>4.196984e+09</td>\n",
       "      <td>12.000000</td>\n",
       "      <td>10.000000</td>\n",
       "    </tr>\n",
       "    <tr>\n",
       "      <th>max</th>\n",
       "      <td>8.924206e+17</td>\n",
       "      <td>8.862664e+17</td>\n",
       "      <td>8.405479e+17</td>\n",
       "      <td>8.874740e+17</td>\n",
       "      <td>7.874618e+17</td>\n",
       "      <td>1776.000000</td>\n",
       "      <td>170.000000</td>\n",
       "    </tr>\n",
       "  </tbody>\n",
       "</table>\n",
       "</div>"
      ],
      "text/plain": [
       "           tweet_id  in_reply_to_status_id  in_reply_to_user_id  \\\n",
       "count  2.356000e+03           7.800000e+01         7.800000e+01   \n",
       "mean   7.427716e+17           7.455079e+17         2.014171e+16   \n",
       "std    6.856705e+16           7.582492e+16         1.252797e+17   \n",
       "min    6.660209e+17           6.658147e+17         1.185634e+07   \n",
       "25%    6.783989e+17           6.757419e+17         3.086374e+08   \n",
       "50%    7.196279e+17           7.038708e+17         4.196984e+09   \n",
       "75%    7.993373e+17           8.257804e+17         4.196984e+09   \n",
       "max    8.924206e+17           8.862664e+17         8.405479e+17   \n",
       "\n",
       "       retweeted_status_id  retweeted_status_user_id  rating_numerator  \\\n",
       "count         1.810000e+02              1.810000e+02       2356.000000   \n",
       "mean          7.720400e+17              1.241698e+16         13.126486   \n",
       "std           6.236928e+16              9.599254e+16         45.876648   \n",
       "min           6.661041e+17              7.832140e+05          0.000000   \n",
       "25%           7.186315e+17              4.196984e+09         10.000000   \n",
       "50%           7.804657e+17              4.196984e+09         11.000000   \n",
       "75%           8.203146e+17              4.196984e+09         12.000000   \n",
       "max           8.874740e+17              7.874618e+17       1776.000000   \n",
       "\n",
       "       rating_denominator  \n",
       "count         2356.000000  \n",
       "mean            10.455433  \n",
       "std              6.745237  \n",
       "min              0.000000  \n",
       "25%             10.000000  \n",
       "50%             10.000000  \n",
       "75%             10.000000  \n",
       "max            170.000000  "
      ]
     },
     "execution_count": 12,
     "metadata": {},
     "output_type": "execute_result"
    }
   ],
   "source": [
    "df_twitter_arc.describe()"
   ]
  },
  {
   "cell_type": "code",
   "execution_count": 13,
   "metadata": {},
   "outputs": [
    {
     "name": "stdout",
     "output_type": "stream",
     "text": [
      "<class 'pandas.core.frame.DataFrame'>\n",
      "RangeIndex: 2356 entries, 0 to 2355\n",
      "Data columns (total 17 columns):\n",
      "tweet_id                      2356 non-null int64\n",
      "in_reply_to_status_id         78 non-null float64\n",
      "in_reply_to_user_id           78 non-null float64\n",
      "timestamp                     2356 non-null object\n",
      "source                        2356 non-null object\n",
      "text                          2356 non-null object\n",
      "retweeted_status_id           181 non-null float64\n",
      "retweeted_status_user_id      181 non-null float64\n",
      "retweeted_status_timestamp    181 non-null object\n",
      "expanded_urls                 2297 non-null object\n",
      "rating_numerator              2356 non-null int64\n",
      "rating_denominator            2356 non-null int64\n",
      "name                          2356 non-null object\n",
      "doggo                         2356 non-null object\n",
      "floofer                       2356 non-null object\n",
      "pupper                        2356 non-null object\n",
      "puppo                         2356 non-null object\n",
      "dtypes: float64(4), int64(3), object(10)\n",
      "memory usage: 313.0+ KB\n"
     ]
    }
   ],
   "source": [
    "df_twitter_arc.info()"
   ]
  },
  {
   "cell_type": "markdown",
   "metadata": {},
   "source": [
    "<a id=\"twitter-arc:info\"></a>\n",
    "* Dados incompletos, contém apenas 2356 registros dos 5000 anunciados\n",
    "* `in_reply_to_status_id`, `in_reply_to_user_id`, `retweeted_status_id` e `retweeted_status_user_id` em `float`\n",
    "* `timestamp` e `retweeted_status_timestamp` em `string`"
   ]
  },
  {
   "cell_type": "code",
   "execution_count": 14,
   "metadata": {},
   "outputs": [
    {
     "data": {
      "text/html": [
       "<div>\n",
       "<style scoped>\n",
       "    .dataframe tbody tr th:only-of-type {\n",
       "        vertical-align: middle;\n",
       "    }\n",
       "\n",
       "    .dataframe tbody tr th {\n",
       "        vertical-align: top;\n",
       "    }\n",
       "\n",
       "    .dataframe thead th {\n",
       "        text-align: right;\n",
       "    }\n",
       "</style>\n",
       "<table border=\"1\" class=\"dataframe\">\n",
       "  <thead>\n",
       "    <tr style=\"text-align: right;\">\n",
       "      <th></th>\n",
       "      <th>tweet_id</th>\n",
       "      <th>in_reply_to_status_id</th>\n",
       "      <th>in_reply_to_user_id</th>\n",
       "      <th>timestamp</th>\n",
       "      <th>source</th>\n",
       "      <th>text</th>\n",
       "      <th>retweeted_status_id</th>\n",
       "      <th>retweeted_status_user_id</th>\n",
       "      <th>retweeted_status_timestamp</th>\n",
       "      <th>expanded_urls</th>\n",
       "      <th>rating_numerator</th>\n",
       "      <th>rating_denominator</th>\n",
       "      <th>name</th>\n",
       "      <th>doggo</th>\n",
       "      <th>floofer</th>\n",
       "      <th>pupper</th>\n",
       "      <th>puppo</th>\n",
       "    </tr>\n",
       "  </thead>\n",
       "  <tbody>\n",
       "  </tbody>\n",
       "</table>\n",
       "</div>"
      ],
      "text/plain": [
       "Empty DataFrame\n",
       "Columns: [tweet_id, in_reply_to_status_id, in_reply_to_user_id, timestamp, source, text, retweeted_status_id, retweeted_status_user_id, retweeted_status_timestamp, expanded_urls, rating_numerator, rating_denominator, name, doggo, floofer, pupper, puppo]\n",
       "Index: []"
      ]
     },
     "execution_count": 14,
     "metadata": {},
     "output_type": "execute_result"
    }
   ],
   "source": [
    "# Verificar se há IDs duplicados\n",
    "df_twitter_arc[df_twitter_arc.tweet_id.duplicated()]"
   ]
  },
  {
   "cell_type": "markdown",
   "metadata": {},
   "source": [
    "<a id=\"twitter-arc:source\"></a>"
   ]
  },
  {
   "cell_type": "code",
   "execution_count": 15,
   "metadata": {},
   "outputs": [
    {
     "data": {
      "text/plain": [
       "2105    <a href=\"http://twitter.com/download/iphone\" r...\n",
       "1285    <a href=\"http://twitter.com/download/iphone\" r...\n",
       "1283    <a href=\"http://twitter.com/download/iphone\" r...\n",
       "269     <a href=\"http://twitter.com/download/iphone\" r...\n",
       "1516    <a href=\"http://twitter.com/download/iphone\" r...\n",
       "558     <a href=\"http://twitter.com/download/iphone\" r...\n",
       "493     <a href=\"http://twitter.com/download/iphone\" r...\n",
       "1389    <a href=\"http://twitter.com/download/iphone\" r...\n",
       "2091    <a href=\"http://twitter.com/download/iphone\" r...\n",
       "1858    <a href=\"http://twitter.com/download/iphone\" r...\n",
       "Name: source, dtype: object"
      ]
     },
     "execution_count": 15,
     "metadata": {},
     "output_type": "execute_result"
    }
   ],
   "source": [
    "# Visualizar exemplos de dados da coluna `source`\n",
    "df_twitter_arc.loc[:, 'source'].sample(10)"
   ]
  },
  {
   "cell_type": "markdown",
   "metadata": {},
   "source": [
    "Variável `source` é uma URL para a Aplicação utilizada no tweet, sem valor para a unidade de observação"
   ]
  },
  {
   "cell_type": "markdown",
   "metadata": {},
   "source": [
    "<a id=\"twitter-arc:name\"></a>"
   ]
  },
  {
   "cell_type": "code",
   "execution_count": 16,
   "metadata": {},
   "outputs": [
    {
     "data": {
      "text/plain": [
       "1228         None\n",
       "1617      Gerbald\n",
       "2304            a\n",
       "676          None\n",
       "1218       Curtis\n",
       "390          None\n",
       "1126        Ollie\n",
       "45          Bella\n",
       "799     Roosevelt\n",
       "294       Waffles\n",
       "Name: name, dtype: object"
      ]
     },
     "execution_count": 16,
     "metadata": {},
     "output_type": "execute_result"
    }
   ],
   "source": [
    "# Visualizar exemplos da coluna `name`\n",
    "df_twitter_arc.name.sample(10)"
   ]
  },
  {
   "cell_type": "code",
   "execution_count": 17,
   "metadata": {},
   "outputs": [
    {
     "data": {
      "text/plain": [
       "745"
      ]
     },
     "execution_count": 17,
     "metadata": {},
     "output_type": "execute_result"
    }
   ],
   "source": [
    "df_twitter_arc[df_twitter_arc.name == 'None'].name.count()"
   ]
  },
  {
   "cell_type": "markdown",
   "metadata": {},
   "source": [
    "* Nomes (`name`) preenchidos com valor literal igual a `'None'`, supostamente um valor não preenchido, vazio"
   ]
  },
  {
   "cell_type": "markdown",
   "metadata": {},
   "source": [
    "<a id=\"twitter-arc:category\"></id>"
   ]
  },
  {
   "cell_type": "code",
   "execution_count": 18,
   "metadata": {},
   "outputs": [
    {
     "data": {
      "text/html": [
       "<div>\n",
       "<style scoped>\n",
       "    .dataframe tbody tr th:only-of-type {\n",
       "        vertical-align: middle;\n",
       "    }\n",
       "\n",
       "    .dataframe tbody tr th {\n",
       "        vertical-align: top;\n",
       "    }\n",
       "\n",
       "    .dataframe thead th {\n",
       "        text-align: right;\n",
       "    }\n",
       "</style>\n",
       "<table border=\"1\" class=\"dataframe\">\n",
       "  <thead>\n",
       "    <tr style=\"text-align: right;\">\n",
       "      <th></th>\n",
       "      <th>doggo</th>\n",
       "      <th>floofer</th>\n",
       "      <th>pupper</th>\n",
       "      <th>puppo</th>\n",
       "    </tr>\n",
       "  </thead>\n",
       "  <tbody>\n",
       "    <tr>\n",
       "      <th>1643</th>\n",
       "      <td>None</td>\n",
       "      <td>None</td>\n",
       "      <td>None</td>\n",
       "      <td>None</td>\n",
       "    </tr>\n",
       "    <tr>\n",
       "      <th>643</th>\n",
       "      <td>None</td>\n",
       "      <td>None</td>\n",
       "      <td>None</td>\n",
       "      <td>puppo</td>\n",
       "    </tr>\n",
       "    <tr>\n",
       "      <th>1468</th>\n",
       "      <td>None</td>\n",
       "      <td>None</td>\n",
       "      <td>None</td>\n",
       "      <td>None</td>\n",
       "    </tr>\n",
       "    <tr>\n",
       "      <th>823</th>\n",
       "      <td>None</td>\n",
       "      <td>None</td>\n",
       "      <td>None</td>\n",
       "      <td>None</td>\n",
       "    </tr>\n",
       "    <tr>\n",
       "      <th>1799</th>\n",
       "      <td>None</td>\n",
       "      <td>None</td>\n",
       "      <td>None</td>\n",
       "      <td>None</td>\n",
       "    </tr>\n",
       "    <tr>\n",
       "      <th>1947</th>\n",
       "      <td>None</td>\n",
       "      <td>None</td>\n",
       "      <td>None</td>\n",
       "      <td>None</td>\n",
       "    </tr>\n",
       "    <tr>\n",
       "      <th>2262</th>\n",
       "      <td>None</td>\n",
       "      <td>None</td>\n",
       "      <td>None</td>\n",
       "      <td>None</td>\n",
       "    </tr>\n",
       "    <tr>\n",
       "      <th>155</th>\n",
       "      <td>None</td>\n",
       "      <td>None</td>\n",
       "      <td>None</td>\n",
       "      <td>None</td>\n",
       "    </tr>\n",
       "    <tr>\n",
       "      <th>1019</th>\n",
       "      <td>None</td>\n",
       "      <td>None</td>\n",
       "      <td>None</td>\n",
       "      <td>None</td>\n",
       "    </tr>\n",
       "    <tr>\n",
       "      <th>2103</th>\n",
       "      <td>None</td>\n",
       "      <td>None</td>\n",
       "      <td>None</td>\n",
       "      <td>None</td>\n",
       "    </tr>\n",
       "  </tbody>\n",
       "</table>\n",
       "</div>"
      ],
      "text/plain": [
       "     doggo floofer pupper  puppo\n",
       "1643  None    None   None   None\n",
       "643   None    None   None  puppo\n",
       "1468  None    None   None   None\n",
       "823   None    None   None   None\n",
       "1799  None    None   None   None\n",
       "1947  None    None   None   None\n",
       "2262  None    None   None   None\n",
       "155   None    None   None   None\n",
       "1019  None    None   None   None\n",
       "2103  None    None   None   None"
      ]
     },
     "execution_count": 18,
     "metadata": {},
     "output_type": "execute_result"
    }
   ],
   "source": [
    "# Visualizar exemplo de dados das colunas 'doggo' a 'puppo'\n",
    "df_twitter_arc.loc[:,'doggo':].sample(10)"
   ]
  },
  {
   "cell_type": "markdown",
   "metadata": {},
   "source": [
    "* Valores não preenchidos como 'None' literal"
   ]
  },
  {
   "cell_type": "markdown",
   "metadata": {},
   "source": [
    "Uma variável em várias colunas"
   ]
  },
  {
   "cell_type": "code",
   "execution_count": 19,
   "metadata": {},
   "outputs": [
    {
     "data": {
      "text/plain": [
       "doggo      2\n",
       "floofer    2\n",
       "pupper     2\n",
       "puppo      2\n",
       "dtype: int64"
      ]
     },
     "execution_count": 19,
     "metadata": {},
     "output_type": "execute_result"
    }
   ],
   "source": [
    "# Verificar padrão no preenchimento das classificações\n",
    "df_twitter_arc.loc[:,'doggo':].nunique()"
   ]
  },
  {
   "cell_type": "code",
   "execution_count": 20,
   "metadata": {},
   "outputs": [
    {
     "data": {
      "text/plain": [
       "doggo      0\n",
       "floofer    0\n",
       "pupper     0\n",
       "puppo      0\n",
       "dtype: int64"
      ]
     },
     "execution_count": 20,
     "metadata": {},
     "output_type": "execute_result"
    }
   ],
   "source": [
    "df_twitter_arc.loc[:, 'doggo':'puppo'].isna().sum()"
   ]
  },
  {
   "cell_type": "markdown",
   "metadata": {},
   "source": [
    "<a id=\"twitter-arc:expanded_urls\"></a>\n",
    "\n",
    "Exemplos da coluna `expanded_urls`"
   ]
  },
  {
   "cell_type": "code",
   "execution_count": 21,
   "metadata": {},
   "outputs": [
    {
     "data": {
      "text/plain": [
       "276     https://www.gofundme.com/3hgsuu0,https://twitt...\n",
       "466     https://twitter.com/dog_rates/status/817171292...\n",
       "1361    https://twitter.com/dog_rates/status/703079050...\n",
       "2259    https://twitter.com/dogratingrating/status/667...\n",
       "1312    https://twitter.com/dog_rates/status/707014260...\n",
       "503     https://twitter.com/dog_rates/status/813066809...\n",
       "2019    https://twitter.com/dog_rates/status/672125275...\n",
       "1836    https://twitter.com/dog_rates/status/676098748...\n",
       "156     https://twitter.com/dog_rates/status/861383897...\n",
       "402     https://twitter.com/dog_rates/status/824325613...\n",
       "2213    https://twitter.com/dog_rates/status/668567822...\n",
       "925     https://twitter.com/dog_rates/status/755110668...\n",
       "2335    https://twitter.com/dog_rates/status/666287406...\n",
       "2252    https://twitter.com/dog_rates/status/667801013...\n",
       "2080    https://twitter.com/dog_rates/status/670823764...\n",
       "809     https://twitter.com/dog_rates/status/771500966...\n",
       "1219    https://twitter.com/dog_rates/status/714631576...\n",
       "2110    https://twitter.com/dog_rates/status/670444955...\n",
       "215     https://twitter.com/dog_rates/status/851224888...\n",
       "711     https://twitter.com/dog_rates/status/784517518...\n",
       "Name: expanded_urls, dtype: object"
      ]
     },
     "execution_count": 21,
     "metadata": {},
     "output_type": "execute_result"
    }
   ],
   "source": [
    "df_twitter_arc.loc[:, 'expanded_urls'].sample(20)"
   ]
  },
  {
   "cell_type": "code",
   "execution_count": 22,
   "metadata": {},
   "outputs": [
    {
     "data": {
      "text/plain": [
       "False    2297\n",
       "True       59\n",
       "Name: expanded_urls, dtype: int64"
      ]
     },
     "execution_count": 22,
     "metadata": {},
     "output_type": "execute_result"
    }
   ],
   "source": [
    "df_twitter_arc.loc[:, 'expanded_urls'].isna().value_counts()"
   ]
  },
  {
   "cell_type": "markdown",
   "metadata": {},
   "source": [
    "* Registros de `expanded_urls` com URLs para os twittes originais. Não apresenta valor a unidade em observacão"
   ]
  },
  {
   "cell_type": "markdown",
   "metadata": {},
   "source": [
    "------\n",
    "<a id=\"avaliacao:image-prediction\"></a>\n",
    "\n",
    "## Avaliação: Image prediction"
   ]
  },
  {
   "cell_type": "code",
   "execution_count": 23,
   "metadata": {},
   "outputs": [
    {
     "data": {
      "text/html": [
       "<div>\n",
       "<style scoped>\n",
       "    .dataframe tbody tr th:only-of-type {\n",
       "        vertical-align: middle;\n",
       "    }\n",
       "\n",
       "    .dataframe tbody tr th {\n",
       "        vertical-align: top;\n",
       "    }\n",
       "\n",
       "    .dataframe thead th {\n",
       "        text-align: right;\n",
       "    }\n",
       "</style>\n",
       "<table border=\"1\" class=\"dataframe\">\n",
       "  <thead>\n",
       "    <tr style=\"text-align: right;\">\n",
       "      <th></th>\n",
       "      <th>tweet_id</th>\n",
       "      <th>img_num</th>\n",
       "      <th>p1_conf</th>\n",
       "      <th>p2_conf</th>\n",
       "      <th>p3_conf</th>\n",
       "    </tr>\n",
       "  </thead>\n",
       "  <tbody>\n",
       "    <tr>\n",
       "      <th>count</th>\n",
       "      <td>2.075000e+03</td>\n",
       "      <td>2075.000000</td>\n",
       "      <td>2075.000000</td>\n",
       "      <td>2.075000e+03</td>\n",
       "      <td>2.075000e+03</td>\n",
       "    </tr>\n",
       "    <tr>\n",
       "      <th>mean</th>\n",
       "      <td>7.384514e+17</td>\n",
       "      <td>1.203855</td>\n",
       "      <td>0.594548</td>\n",
       "      <td>1.345886e-01</td>\n",
       "      <td>6.032417e-02</td>\n",
       "    </tr>\n",
       "    <tr>\n",
       "      <th>std</th>\n",
       "      <td>6.785203e+16</td>\n",
       "      <td>0.561875</td>\n",
       "      <td>0.271174</td>\n",
       "      <td>1.006657e-01</td>\n",
       "      <td>5.090593e-02</td>\n",
       "    </tr>\n",
       "    <tr>\n",
       "      <th>min</th>\n",
       "      <td>6.660209e+17</td>\n",
       "      <td>1.000000</td>\n",
       "      <td>0.044333</td>\n",
       "      <td>1.011300e-08</td>\n",
       "      <td>1.740170e-10</td>\n",
       "    </tr>\n",
       "    <tr>\n",
       "      <th>25%</th>\n",
       "      <td>6.764835e+17</td>\n",
       "      <td>1.000000</td>\n",
       "      <td>0.364412</td>\n",
       "      <td>5.388625e-02</td>\n",
       "      <td>1.622240e-02</td>\n",
       "    </tr>\n",
       "    <tr>\n",
       "      <th>50%</th>\n",
       "      <td>7.119988e+17</td>\n",
       "      <td>1.000000</td>\n",
       "      <td>0.588230</td>\n",
       "      <td>1.181810e-01</td>\n",
       "      <td>4.944380e-02</td>\n",
       "    </tr>\n",
       "    <tr>\n",
       "      <th>75%</th>\n",
       "      <td>7.932034e+17</td>\n",
       "      <td>1.000000</td>\n",
       "      <td>0.843855</td>\n",
       "      <td>1.955655e-01</td>\n",
       "      <td>9.180755e-02</td>\n",
       "    </tr>\n",
       "    <tr>\n",
       "      <th>max</th>\n",
       "      <td>8.924206e+17</td>\n",
       "      <td>4.000000</td>\n",
       "      <td>1.000000</td>\n",
       "      <td>4.880140e-01</td>\n",
       "      <td>2.734190e-01</td>\n",
       "    </tr>\n",
       "  </tbody>\n",
       "</table>\n",
       "</div>"
      ],
      "text/plain": [
       "           tweet_id      img_num      p1_conf       p2_conf       p3_conf\n",
       "count  2.075000e+03  2075.000000  2075.000000  2.075000e+03  2.075000e+03\n",
       "mean   7.384514e+17     1.203855     0.594548  1.345886e-01  6.032417e-02\n",
       "std    6.785203e+16     0.561875     0.271174  1.006657e-01  5.090593e-02\n",
       "min    6.660209e+17     1.000000     0.044333  1.011300e-08  1.740170e-10\n",
       "25%    6.764835e+17     1.000000     0.364412  5.388625e-02  1.622240e-02\n",
       "50%    7.119988e+17     1.000000     0.588230  1.181810e-01  4.944380e-02\n",
       "75%    7.932034e+17     1.000000     0.843855  1.955655e-01  9.180755e-02\n",
       "max    8.924206e+17     4.000000     1.000000  4.880140e-01  2.734190e-01"
      ]
     },
     "execution_count": 23,
     "metadata": {},
     "output_type": "execute_result"
    }
   ],
   "source": [
    "df_prediction.describe()"
   ]
  },
  {
   "cell_type": "markdown",
   "metadata": {},
   "source": [
    "<a id=\"image-prediction:info\"></info>"
   ]
  },
  {
   "cell_type": "code",
   "execution_count": 24,
   "metadata": {},
   "outputs": [
    {
     "name": "stdout",
     "output_type": "stream",
     "text": [
      "<class 'pandas.core.frame.DataFrame'>\n",
      "RangeIndex: 2075 entries, 0 to 2074\n",
      "Data columns (total 12 columns):\n",
      "tweet_id    2075 non-null int64\n",
      "jpg_url     2075 non-null object\n",
      "img_num     2075 non-null int64\n",
      "p1          2075 non-null object\n",
      "p1_conf     2075 non-null float64\n",
      "p1_dog      2075 non-null bool\n",
      "p2          2075 non-null object\n",
      "p2_conf     2075 non-null float64\n",
      "p2_dog      2075 non-null bool\n",
      "p3          2075 non-null object\n",
      "p3_conf     2075 non-null float64\n",
      "p3_dog      2075 non-null bool\n",
      "dtypes: bool(3), float64(3), int64(2), object(4)\n",
      "memory usage: 152.1+ KB\n"
     ]
    }
   ],
   "source": [
    "df_prediction.info()"
   ]
  },
  {
   "cell_type": "code",
   "execution_count": 25,
   "metadata": {},
   "outputs": [
    {
     "data": {
      "text/html": [
       "<div>\n",
       "<style scoped>\n",
       "    .dataframe tbody tr th:only-of-type {\n",
       "        vertical-align: middle;\n",
       "    }\n",
       "\n",
       "    .dataframe tbody tr th {\n",
       "        vertical-align: top;\n",
       "    }\n",
       "\n",
       "    .dataframe thead th {\n",
       "        text-align: right;\n",
       "    }\n",
       "</style>\n",
       "<table border=\"1\" class=\"dataframe\">\n",
       "  <thead>\n",
       "    <tr style=\"text-align: right;\">\n",
       "      <th></th>\n",
       "      <th>tweet_id</th>\n",
       "      <th>jpg_url</th>\n",
       "      <th>img_num</th>\n",
       "      <th>p1</th>\n",
       "      <th>p1_conf</th>\n",
       "      <th>p1_dog</th>\n",
       "      <th>p2</th>\n",
       "      <th>p2_conf</th>\n",
       "      <th>p2_dog</th>\n",
       "      <th>p3</th>\n",
       "      <th>p3_conf</th>\n",
       "      <th>p3_dog</th>\n",
       "    </tr>\n",
       "  </thead>\n",
       "  <tbody>\n",
       "    <tr>\n",
       "      <th>1810</th>\n",
       "      <td>832769181346996225</td>\n",
       "      <td>https://pbs.twimg.com/media/C46UmzSVMAAqBug.jpg</td>\n",
       "      <td>1</td>\n",
       "      <td>jersey</td>\n",
       "      <td>0.895698</td>\n",
       "      <td>False</td>\n",
       "      <td>sweatshirt</td>\n",
       "      <td>0.089085</td>\n",
       "      <td>False</td>\n",
       "      <td>poncho</td>\n",
       "      <td>0.002975</td>\n",
       "      <td>False</td>\n",
       "    </tr>\n",
       "    <tr>\n",
       "      <th>420</th>\n",
       "      <td>674042553264685056</td>\n",
       "      <td>https://pbs.twimg.com/media/CVquIDRW4AEJrPk.jpg</td>\n",
       "      <td>1</td>\n",
       "      <td>toy_poodle</td>\n",
       "      <td>0.927975</td>\n",
       "      <td>True</td>\n",
       "      <td>miniature_poodle</td>\n",
       "      <td>0.068946</td>\n",
       "      <td>True</td>\n",
       "      <td>standard_poodle</td>\n",
       "      <td>0.001316</td>\n",
       "      <td>True</td>\n",
       "    </tr>\n",
       "    <tr>\n",
       "      <th>567</th>\n",
       "      <td>678341075375947776</td>\n",
       "      <td>https://pbs.twimg.com/media/CWnznDTU4AAa-6P.jpg</td>\n",
       "      <td>1</td>\n",
       "      <td>golden_retriever</td>\n",
       "      <td>0.853284</td>\n",
       "      <td>True</td>\n",
       "      <td>cocker_spaniel</td>\n",
       "      <td>0.026230</td>\n",
       "      <td>True</td>\n",
       "      <td>Labrador_retriever</td>\n",
       "      <td>0.024123</td>\n",
       "      <td>True</td>\n",
       "    </tr>\n",
       "    <tr>\n",
       "      <th>360</th>\n",
       "      <td>672640509974827008</td>\n",
       "      <td>https://pbs.twimg.com/media/CVWy9v-VAAALSoE.jpg</td>\n",
       "      <td>1</td>\n",
       "      <td>Chesapeake_Bay_retriever</td>\n",
       "      <td>0.420155</td>\n",
       "      <td>True</td>\n",
       "      <td>Cardigan</td>\n",
       "      <td>0.266030</td>\n",
       "      <td>True</td>\n",
       "      <td>Labrador_retriever</td>\n",
       "      <td>0.042514</td>\n",
       "      <td>True</td>\n",
       "    </tr>\n",
       "    <tr>\n",
       "      <th>1125</th>\n",
       "      <td>727314416056803329</td>\n",
       "      <td>https://pbs.twimg.com/media/Chfwmd9U4AQTf1b.jpg</td>\n",
       "      <td>2</td>\n",
       "      <td>toy_poodle</td>\n",
       "      <td>0.827469</td>\n",
       "      <td>True</td>\n",
       "      <td>miniature_poodle</td>\n",
       "      <td>0.160760</td>\n",
       "      <td>True</td>\n",
       "      <td>Tibetan_terrier</td>\n",
       "      <td>0.001731</td>\n",
       "      <td>True</td>\n",
       "    </tr>\n",
       "    <tr>\n",
       "      <th>1202</th>\n",
       "      <td>741303864243200000</td>\n",
       "      <td>https://pbs.twimg.com/media/Ckmj7mNWYAA4NzZ.jpg</td>\n",
       "      <td>1</td>\n",
       "      <td>Chihuahua</td>\n",
       "      <td>0.768156</td>\n",
       "      <td>True</td>\n",
       "      <td>pug</td>\n",
       "      <td>0.014902</td>\n",
       "      <td>True</td>\n",
       "      <td>Pekinese</td>\n",
       "      <td>0.012816</td>\n",
       "      <td>True</td>\n",
       "    </tr>\n",
       "    <tr>\n",
       "      <th>1160</th>\n",
       "      <td>734776360183431168</td>\n",
       "      <td>https://pbs.twimg.com/media/CjJzMlBUoAADMLx.jpg</td>\n",
       "      <td>1</td>\n",
       "      <td>Siberian_husky</td>\n",
       "      <td>0.304902</td>\n",
       "      <td>True</td>\n",
       "      <td>Eskimo_dog</td>\n",
       "      <td>0.155147</td>\n",
       "      <td>True</td>\n",
       "      <td>malamute</td>\n",
       "      <td>0.050942</td>\n",
       "      <td>True</td>\n",
       "    </tr>\n",
       "    <tr>\n",
       "      <th>280</th>\n",
       "      <td>671115716440031232</td>\n",
       "      <td>https://pbs.twimg.com/media/CVBILUgVAAA1ZUr.jpg</td>\n",
       "      <td>1</td>\n",
       "      <td>malinois</td>\n",
       "      <td>0.406341</td>\n",
       "      <td>True</td>\n",
       "      <td>kelpie</td>\n",
       "      <td>0.143366</td>\n",
       "      <td>True</td>\n",
       "      <td>dingo</td>\n",
       "      <td>0.129802</td>\n",
       "      <td>False</td>\n",
       "    </tr>\n",
       "    <tr>\n",
       "      <th>741</th>\n",
       "      <td>687317306314240000</td>\n",
       "      <td>https://pbs.twimg.com/media/CYnXcLEUkAAIQOM.jpg</td>\n",
       "      <td>1</td>\n",
       "      <td>Shih-Tzu</td>\n",
       "      <td>0.747208</td>\n",
       "      <td>True</td>\n",
       "      <td>Maltese_dog</td>\n",
       "      <td>0.091025</td>\n",
       "      <td>True</td>\n",
       "      <td>Lhasa</td>\n",
       "      <td>0.035788</td>\n",
       "      <td>True</td>\n",
       "    </tr>\n",
       "    <tr>\n",
       "      <th>961</th>\n",
       "      <td>705898680587526145</td>\n",
       "      <td>https://pbs.twimg.com/media/CcvbGj5W8AARjB6.jpg</td>\n",
       "      <td>1</td>\n",
       "      <td>collie</td>\n",
       "      <td>0.808276</td>\n",
       "      <td>True</td>\n",
       "      <td>Border_collie</td>\n",
       "      <td>0.059437</td>\n",
       "      <td>True</td>\n",
       "      <td>groenendael</td>\n",
       "      <td>0.026720</td>\n",
       "      <td>True</td>\n",
       "    </tr>\n",
       "  </tbody>\n",
       "</table>\n",
       "</div>"
      ],
      "text/plain": [
       "                tweet_id                                          jpg_url  \\\n",
       "1810  832769181346996225  https://pbs.twimg.com/media/C46UmzSVMAAqBug.jpg   \n",
       "420   674042553264685056  https://pbs.twimg.com/media/CVquIDRW4AEJrPk.jpg   \n",
       "567   678341075375947776  https://pbs.twimg.com/media/CWnznDTU4AAa-6P.jpg   \n",
       "360   672640509974827008  https://pbs.twimg.com/media/CVWy9v-VAAALSoE.jpg   \n",
       "1125  727314416056803329  https://pbs.twimg.com/media/Chfwmd9U4AQTf1b.jpg   \n",
       "1202  741303864243200000  https://pbs.twimg.com/media/Ckmj7mNWYAA4NzZ.jpg   \n",
       "1160  734776360183431168  https://pbs.twimg.com/media/CjJzMlBUoAADMLx.jpg   \n",
       "280   671115716440031232  https://pbs.twimg.com/media/CVBILUgVAAA1ZUr.jpg   \n",
       "741   687317306314240000  https://pbs.twimg.com/media/CYnXcLEUkAAIQOM.jpg   \n",
       "961   705898680587526145  https://pbs.twimg.com/media/CcvbGj5W8AARjB6.jpg   \n",
       "\n",
       "      img_num                        p1   p1_conf  p1_dog                p2  \\\n",
       "1810        1                    jersey  0.895698   False        sweatshirt   \n",
       "420         1                toy_poodle  0.927975    True  miniature_poodle   \n",
       "567         1          golden_retriever  0.853284    True    cocker_spaniel   \n",
       "360         1  Chesapeake_Bay_retriever  0.420155    True          Cardigan   \n",
       "1125        2                toy_poodle  0.827469    True  miniature_poodle   \n",
       "1202        1                 Chihuahua  0.768156    True               pug   \n",
       "1160        1            Siberian_husky  0.304902    True        Eskimo_dog   \n",
       "280         1                  malinois  0.406341    True            kelpie   \n",
       "741         1                  Shih-Tzu  0.747208    True       Maltese_dog   \n",
       "961         1                    collie  0.808276    True     Border_collie   \n",
       "\n",
       "       p2_conf  p2_dog                  p3   p3_conf  p3_dog  \n",
       "1810  0.089085   False              poncho  0.002975   False  \n",
       "420   0.068946    True     standard_poodle  0.001316    True  \n",
       "567   0.026230    True  Labrador_retriever  0.024123    True  \n",
       "360   0.266030    True  Labrador_retriever  0.042514    True  \n",
       "1125  0.160760    True     Tibetan_terrier  0.001731    True  \n",
       "1202  0.014902    True            Pekinese  0.012816    True  \n",
       "1160  0.155147    True            malamute  0.050942    True  \n",
       "280   0.143366    True               dingo  0.129802   False  \n",
       "741   0.091025    True               Lhasa  0.035788    True  \n",
       "961   0.059437    True         groenendael  0.026720    True  "
      ]
     },
     "execution_count": 25,
     "metadata": {},
     "output_type": "execute_result"
    }
   ],
   "source": [
    "df_prediction.sample(10)"
   ]
  },
  {
   "cell_type": "markdown",
   "metadata": {},
   "source": [
    "<a id=\"image-prediction:p-values\"></a>\n",
    "\n",
    "Valores não padronizados para as variáveis `p1`, `p2` e `p3`"
   ]
  },
  {
   "cell_type": "code",
   "execution_count": 26,
   "metadata": {},
   "outputs": [
    {
     "data": {
      "text/html": [
       "<div>\n",
       "<style scoped>\n",
       "    .dataframe tbody tr th:only-of-type {\n",
       "        vertical-align: middle;\n",
       "    }\n",
       "\n",
       "    .dataframe tbody tr th {\n",
       "        vertical-align: top;\n",
       "    }\n",
       "\n",
       "    .dataframe thead th {\n",
       "        text-align: right;\n",
       "    }\n",
       "</style>\n",
       "<table border=\"1\" class=\"dataframe\">\n",
       "  <thead>\n",
       "    <tr style=\"text-align: right;\">\n",
       "      <th></th>\n",
       "      <th>p1</th>\n",
       "      <th>p2</th>\n",
       "      <th>p3</th>\n",
       "    </tr>\n",
       "  </thead>\n",
       "  <tbody>\n",
       "    <tr>\n",
       "      <th>1446</th>\n",
       "      <td>golden_retriever</td>\n",
       "      <td>Labrador_retriever</td>\n",
       "      <td>doormat</td>\n",
       "    </tr>\n",
       "    <tr>\n",
       "      <th>1328</th>\n",
       "      <td>seat_belt</td>\n",
       "      <td>golden_retriever</td>\n",
       "      <td>Tibetan_mastiff</td>\n",
       "    </tr>\n",
       "    <tr>\n",
       "      <th>1703</th>\n",
       "      <td>Tibetan_mastiff</td>\n",
       "      <td>Tibetan_terrier</td>\n",
       "      <td>otterhound</td>\n",
       "    </tr>\n",
       "    <tr>\n",
       "      <th>1615</th>\n",
       "      <td>Chihuahua</td>\n",
       "      <td>toy_terrier</td>\n",
       "      <td>kelpie</td>\n",
       "    </tr>\n",
       "    <tr>\n",
       "      <th>121</th>\n",
       "      <td>Labrador_retriever</td>\n",
       "      <td>golden_retriever</td>\n",
       "      <td>Chesapeake_Bay_retriever</td>\n",
       "    </tr>\n",
       "  </tbody>\n",
       "</table>\n",
       "</div>"
      ],
      "text/plain": [
       "                      p1                  p2                        p3\n",
       "1446    golden_retriever  Labrador_retriever                   doormat\n",
       "1328           seat_belt    golden_retriever           Tibetan_mastiff\n",
       "1703     Tibetan_mastiff     Tibetan_terrier                otterhound\n",
       "1615           Chihuahua         toy_terrier                    kelpie\n",
       "121   Labrador_retriever    golden_retriever  Chesapeake_Bay_retriever"
      ]
     },
     "execution_count": 26,
     "metadata": {},
     "output_type": "execute_result"
    }
   ],
   "source": [
    "# Visualização de exemplos de valores nas colunas `p1`, `p2` e `p3`\n",
    "df_prediction.loc[:, ['p1', 'p2', 'p3']].sample(5)"
   ]
  },
  {
   "cell_type": "markdown",
   "metadata": {},
   "source": [
    "<a id=\"image-prediction:duplicated-urls\"></a>\n",
    "\n",
    "Verificar a duplicidade de Tweet ID (`tweet_id`) e Imagens (`jpg_url`)"
   ]
  },
  {
   "cell_type": "code",
   "execution_count": 27,
   "metadata": {},
   "outputs": [
    {
     "data": {
      "text/plain": [
       "2075"
      ]
     },
     "execution_count": 27,
     "metadata": {},
     "output_type": "execute_result"
    }
   ],
   "source": [
    "# Verificar a duplicidade de IDs\n",
    "df_prediction.tweet_id.nunique()"
   ]
  },
  {
   "cell_type": "markdown",
   "metadata": {},
   "source": [
    "Verificar a duplicidade na coluna `jpg_url`"
   ]
  },
  {
   "cell_type": "code",
   "execution_count": 28,
   "metadata": {},
   "outputs": [
    {
     "data": {
      "text/plain": [
       "False    2009\n",
       "True       66\n",
       "Name: jpg_url, dtype: int64"
      ]
     },
     "execution_count": 28,
     "metadata": {},
     "output_type": "execute_result"
    }
   ],
   "source": [
    "df_prediction.jpg_url.duplicated().value_counts()"
   ]
  },
  {
   "cell_type": "markdown",
   "metadata": {},
   "source": [
    "Há 66 imagens duplicadas"
   ]
  },
  {
   "cell_type": "code",
   "execution_count": 29,
   "metadata": {},
   "outputs": [
    {
     "data": {
      "text/plain": [
       "p1_conf    1.000000\n",
       "p2_conf    0.488014\n",
       "p3_conf    0.273419\n",
       "dtype: float64"
      ]
     },
     "execution_count": 29,
     "metadata": {},
     "output_type": "execute_result"
    }
   ],
   "source": [
    "# Validar indicadores de confiabiliade da predição\n",
    "df_prediction.loc[:, ['p1_conf', 'p2_conf', 'p3_conf']].max()"
   ]
  },
  {
   "cell_type": "markdown",
   "metadata": {},
   "source": [
    "------\n",
    "<a id=\"avaliacao:twitter-api\"></a>\n",
    "\n",
    "## Avaliação: Twitter API Requests"
   ]
  },
  {
   "cell_type": "code",
   "execution_count": 30,
   "metadata": {},
   "outputs": [
    {
     "data": {
      "text/html": [
       "<div>\n",
       "<style scoped>\n",
       "    .dataframe tbody tr th:only-of-type {\n",
       "        vertical-align: middle;\n",
       "    }\n",
       "\n",
       "    .dataframe tbody tr th {\n",
       "        vertical-align: top;\n",
       "    }\n",
       "\n",
       "    .dataframe thead th {\n",
       "        text-align: right;\n",
       "    }\n",
       "</style>\n",
       "<table border=\"1\" class=\"dataframe\">\n",
       "  <thead>\n",
       "    <tr style=\"text-align: right;\">\n",
       "      <th></th>\n",
       "      <th>id</th>\n",
       "      <th>in_reply_to_status_id</th>\n",
       "      <th>in_reply_to_user_id</th>\n",
       "      <th>retweet_count</th>\n",
       "      <th>favorite_count</th>\n",
       "    </tr>\n",
       "  </thead>\n",
       "  <tbody>\n",
       "    <tr>\n",
       "      <th>count</th>\n",
       "      <td>1.820000e+03</td>\n",
       "      <td>2.200000e+01</td>\n",
       "      <td>2.200000e+01</td>\n",
       "      <td>1820.000000</td>\n",
       "      <td>1820.000000</td>\n",
       "    </tr>\n",
       "    <tr>\n",
       "      <th>mean</th>\n",
       "      <td>7.237270e+17</td>\n",
       "      <td>6.992047e+17</td>\n",
       "      <td>4.196984e+09</td>\n",
       "      <td>2512.144505</td>\n",
       "      <td>6820.872527</td>\n",
       "    </tr>\n",
       "    <tr>\n",
       "      <th>std</th>\n",
       "      <td>5.777841e+16</td>\n",
       "      <td>4.409222e+16</td>\n",
       "      <td>0.000000e+00</td>\n",
       "      <td>4891.076169</td>\n",
       "      <td>11900.984651</td>\n",
       "    </tr>\n",
       "    <tr>\n",
       "      <th>min</th>\n",
       "      <td>6.660209e+17</td>\n",
       "      <td>6.671522e+17</td>\n",
       "      <td>4.196984e+09</td>\n",
       "      <td>11.000000</td>\n",
       "      <td>0.000000</td>\n",
       "    </tr>\n",
       "    <tr>\n",
       "      <th>25%</th>\n",
       "      <td>6.747671e+17</td>\n",
       "      <td>6.747625e+17</td>\n",
       "      <td>4.196984e+09</td>\n",
       "      <td>536.000000</td>\n",
       "      <td>1363.500000</td>\n",
       "    </tr>\n",
       "    <tr>\n",
       "      <th>50%</th>\n",
       "      <td>7.008223e+17</td>\n",
       "      <td>6.799651e+17</td>\n",
       "      <td>4.196984e+09</td>\n",
       "      <td>1118.000000</td>\n",
       "      <td>3153.000000</td>\n",
       "    </tr>\n",
       "    <tr>\n",
       "      <th>75%</th>\n",
       "      <td>7.617466e+17</td>\n",
       "      <td>7.032024e+17</td>\n",
       "      <td>4.196984e+09</td>\n",
       "      <td>2526.250000</td>\n",
       "      <td>7463.250000</td>\n",
       "    </tr>\n",
       "    <tr>\n",
       "      <th>max</th>\n",
       "      <td>8.924206e+17</td>\n",
       "      <td>8.558181e+17</td>\n",
       "      <td>4.196984e+09</td>\n",
       "      <td>82905.000000</td>\n",
       "      <td>163034.000000</td>\n",
       "    </tr>\n",
       "  </tbody>\n",
       "</table>\n",
       "</div>"
      ],
      "text/plain": [
       "                 id  in_reply_to_status_id  in_reply_to_user_id  \\\n",
       "count  1.820000e+03           2.200000e+01         2.200000e+01   \n",
       "mean   7.237270e+17           6.992047e+17         4.196984e+09   \n",
       "std    5.777841e+16           4.409222e+16         0.000000e+00   \n",
       "min    6.660209e+17           6.671522e+17         4.196984e+09   \n",
       "25%    6.747671e+17           6.747625e+17         4.196984e+09   \n",
       "50%    7.008223e+17           6.799651e+17         4.196984e+09   \n",
       "75%    7.617466e+17           7.032024e+17         4.196984e+09   \n",
       "max    8.924206e+17           8.558181e+17         4.196984e+09   \n",
       "\n",
       "       retweet_count  favorite_count  \n",
       "count    1820.000000     1820.000000  \n",
       "mean     2512.144505     6820.872527  \n",
       "std      4891.076169    11900.984651  \n",
       "min        11.000000        0.000000  \n",
       "25%       536.000000     1363.500000  \n",
       "50%      1118.000000     3153.000000  \n",
       "75%      2526.250000     7463.250000  \n",
       "max     82905.000000   163034.000000  "
      ]
     },
     "execution_count": 30,
     "metadata": {},
     "output_type": "execute_result"
    }
   ],
   "source": [
    "df_tweets_api.describe()"
   ]
  },
  {
   "cell_type": "markdown",
   "metadata": {},
   "source": [
    "<a id=\"tweets-api:info\"></a>"
   ]
  },
  {
   "cell_type": "code",
   "execution_count": 31,
   "metadata": {},
   "outputs": [
    {
     "name": "stdout",
     "output_type": "stream",
     "text": [
      "<class 'pandas.core.frame.DataFrame'>\n",
      "RangeIndex: 1820 entries, 0 to 1819\n",
      "Data columns (total 10 columns):\n",
      "id                       1820 non-null int64\n",
      "created_at               1820 non-null object\n",
      "in_reply_to_status_id    22 non-null float64\n",
      "in_reply_to_user_id      22 non-null float64\n",
      "is_quote_status          1820 non-null bool\n",
      "retweet_count            1820 non-null int64\n",
      "favorite_count           1820 non-null int64\n",
      "media_url                1820 non-null object\n",
      "retweeted                1820 non-null bool\n",
      "favorited                1820 non-null bool\n",
      "dtypes: bool(3), float64(2), int64(3), object(2)\n",
      "memory usage: 104.9+ KB\n"
     ]
    }
   ],
   "source": [
    "df_tweets_api.info()"
   ]
  },
  {
   "cell_type": "markdown",
   "metadata": {},
   "source": [
    "Os nomes das colunas `id` e `media_url` estão fora do padrão dos demais dataframes, respectivamente `tweet_id` e `jpg_url` "
   ]
  },
  {
   "cell_type": "code",
   "execution_count": 32,
   "metadata": {},
   "outputs": [
    {
     "data": {
      "text/html": [
       "<div>\n",
       "<style scoped>\n",
       "    .dataframe tbody tr th:only-of-type {\n",
       "        vertical-align: middle;\n",
       "    }\n",
       "\n",
       "    .dataframe tbody tr th {\n",
       "        vertical-align: top;\n",
       "    }\n",
       "\n",
       "    .dataframe thead th {\n",
       "        text-align: right;\n",
       "    }\n",
       "</style>\n",
       "<table border=\"1\" class=\"dataframe\">\n",
       "  <thead>\n",
       "    <tr style=\"text-align: right;\">\n",
       "      <th></th>\n",
       "      <th>id</th>\n",
       "      <th>created_at</th>\n",
       "      <th>in_reply_to_status_id</th>\n",
       "      <th>in_reply_to_user_id</th>\n",
       "      <th>is_quote_status</th>\n",
       "      <th>retweet_count</th>\n",
       "      <th>favorite_count</th>\n",
       "      <th>media_url</th>\n",
       "      <th>retweeted</th>\n",
       "      <th>favorited</th>\n",
       "    </tr>\n",
       "  </thead>\n",
       "  <tbody>\n",
       "    <tr>\n",
       "      <th>1102</th>\n",
       "      <td>685667379192414208</td>\n",
       "      <td>Sat Jan 09 03:40:16 +0000 2016</td>\n",
       "      <td>NaN</td>\n",
       "      <td>NaN</td>\n",
       "      <td>False</td>\n",
       "      <td>603</td>\n",
       "      <td>2441</td>\n",
       "      <td>http://pbs.twimg.com/media/CYP62A6WkAAOnL4.jpg</td>\n",
       "      <td>False</td>\n",
       "      <td>False</td>\n",
       "    </tr>\n",
       "    <tr>\n",
       "      <th>897</th>\n",
       "      <td>702321140488925184</td>\n",
       "      <td>Wed Feb 24 02:36:23 +0000 2016</td>\n",
       "      <td>NaN</td>\n",
       "      <td>NaN</td>\n",
       "      <td>False</td>\n",
       "      <td>1087</td>\n",
       "      <td>3410</td>\n",
       "      <td>http://pbs.twimg.com/media/Cb8lWajW0AEDOsY.jpg</td>\n",
       "      <td>False</td>\n",
       "      <td>False</td>\n",
       "    </tr>\n",
       "    <tr>\n",
       "      <th>517</th>\n",
       "      <td>753294487569522689</td>\n",
       "      <td>Wed Jul 13 18:26:16 +0000 2016</td>\n",
       "      <td>NaN</td>\n",
       "      <td>NaN</td>\n",
       "      <td>False</td>\n",
       "      <td>1116</td>\n",
       "      <td>3551</td>\n",
       "      <td>http://pbs.twimg.com/media/CnQ9Vq1WEAEYP01.jpg</td>\n",
       "      <td>False</td>\n",
       "      <td>False</td>\n",
       "    </tr>\n",
       "    <tr>\n",
       "      <th>1173</th>\n",
       "      <td>681679526984871937</td>\n",
       "      <td>Tue Dec 29 03:33:58 +0000 2015</td>\n",
       "      <td>NaN</td>\n",
       "      <td>NaN</td>\n",
       "      <td>False</td>\n",
       "      <td>476</td>\n",
       "      <td>1838</td>\n",
       "      <td>http://pbs.twimg.com/media/CXXP5O4WEAA4dgS.jpg</td>\n",
       "      <td>False</td>\n",
       "      <td>False</td>\n",
       "    </tr>\n",
       "    <tr>\n",
       "      <th>1311</th>\n",
       "      <td>676098748976615425</td>\n",
       "      <td>Sun Dec 13 17:57:57 +0000 2015</td>\n",
       "      <td>NaN</td>\n",
       "      <td>NaN</td>\n",
       "      <td>False</td>\n",
       "      <td>1499</td>\n",
       "      <td>3078</td>\n",
       "      <td>http://pbs.twimg.com/media/CWH8L72UkAAvjql.jpg</td>\n",
       "      <td>False</td>\n",
       "      <td>False</td>\n",
       "    </tr>\n",
       "  </tbody>\n",
       "</table>\n",
       "</div>"
      ],
      "text/plain": [
       "                      id                      created_at  \\\n",
       "1102  685667379192414208  Sat Jan 09 03:40:16 +0000 2016   \n",
       "897   702321140488925184  Wed Feb 24 02:36:23 +0000 2016   \n",
       "517   753294487569522689  Wed Jul 13 18:26:16 +0000 2016   \n",
       "1173  681679526984871937  Tue Dec 29 03:33:58 +0000 2015   \n",
       "1311  676098748976615425  Sun Dec 13 17:57:57 +0000 2015   \n",
       "\n",
       "      in_reply_to_status_id  in_reply_to_user_id  is_quote_status  \\\n",
       "1102                    NaN                  NaN            False   \n",
       "897                     NaN                  NaN            False   \n",
       "517                     NaN                  NaN            False   \n",
       "1173                    NaN                  NaN            False   \n",
       "1311                    NaN                  NaN            False   \n",
       "\n",
       "      retweet_count  favorite_count  \\\n",
       "1102            603            2441   \n",
       "897            1087            3410   \n",
       "517            1116            3551   \n",
       "1173            476            1838   \n",
       "1311           1499            3078   \n",
       "\n",
       "                                           media_url  retweeted  favorited  \n",
       "1102  http://pbs.twimg.com/media/CYP62A6WkAAOnL4.jpg      False      False  \n",
       "897   http://pbs.twimg.com/media/Cb8lWajW0AEDOsY.jpg      False      False  \n",
       "517   http://pbs.twimg.com/media/CnQ9Vq1WEAEYP01.jpg      False      False  \n",
       "1173  http://pbs.twimg.com/media/CXXP5O4WEAA4dgS.jpg      False      False  \n",
       "1311  http://pbs.twimg.com/media/CWH8L72UkAAvjql.jpg      False      False  "
      ]
     },
     "execution_count": 32,
     "metadata": {},
     "output_type": "execute_result"
    }
   ],
   "source": [
    "df_tweets_api.sample(5)"
   ]
  },
  {
   "cell_type": "markdown",
   "metadata": {},
   "source": [
    "* `created_at` como `string`\n",
    "* `in_reply_to_status_id` e `in_reply_to_userid` como `Float`"
   ]
  },
  {
   "cell_type": "markdown",
   "metadata": {},
   "source": [
    "<a id=\"tweets-api:duplicated\"></a>\n",
    "Verificar a duplicidade de valores"
   ]
  },
  {
   "cell_type": "code",
   "execution_count": 33,
   "metadata": {},
   "outputs": [
    {
     "data": {
      "text/plain": [
       "False    1820\n",
       "Name: id, dtype: int64"
      ]
     },
     "execution_count": 33,
     "metadata": {},
     "output_type": "execute_result"
    }
   ],
   "source": [
    "# Verificar se há IDs duplicados\n",
    "df_tweets_api.id.duplicated().value_counts()"
   ]
  },
  {
   "cell_type": "code",
   "execution_count": 34,
   "metadata": {},
   "outputs": [
    {
     "data": {
      "text/plain": [
       "False    1759\n",
       "True       61\n",
       "Name: media_url, dtype: int64"
      ]
     },
     "execution_count": 34,
     "metadata": {},
     "output_type": "execute_result"
    }
   ],
   "source": [
    "# Verificar se há imagens duplicadas\n",
    "df_tweets_api.media_url.duplicated().value_counts()"
   ]
  },
  {
   "cell_type": "markdown",
   "metadata": {},
   "source": [
    "Há tweets referenciando a mesma imagem"
   ]
  },
  {
   "cell_type": "markdown",
   "metadata": {},
   "source": [
    "------"
   ]
  },
  {
   "cell_type": "markdown",
   "metadata": {},
   "source": [
    "<a id=\"avaliacao:anotacoes\"></a>\n",
    "\n",
    "## Notas da avaliação\n",
    "### Qualidade\n",
    "\n",
    "#### `df_twitter_arc` - Twitter archive\n",
    "1. [Base incompleta, contém apenas **2356** registros dos **5000** anunciados](#twitter-arc:info)\n",
    "* [Coluna `source` sem valor à unidade de obsevação](#twitter-arc:source)\n",
    "* [Nomes (`name`) preenchidos com valor literal igual a `'None'`, vazio](#twitter-arc:name)\n",
    "* [Coluna `expanded_urls` sem valor à unidade de observação](#twitter-arc:expanded_urls)\n",
    "* [Categorias \\[`doggo`, `floofer`, `pupper`, `puppo`\\] com literal `'None'`](#twitter-arc:category)\n",
    "\n",
    "\n",
    "#### `df_prediction` - Image prediction\n",
    "1. [Previsões \\[`p1`, `p2`, `p3`\\] com nomes não padronizados](#image-prediction:p-values)\n",
    "* [Duplicidade na coluna `jgp_url`](#image-prediction:duplicated-urls)\n",
    "\n",
    "\n",
    "#### `df_tweets_api` - Twitter API\n",
    "* [Diferentes Tweets referenciando a mesma imagem, duplicidade](#tweets-api:duplicated)\n",
    "\n",
    "\n",
    "### Organização\n",
    "\n",
    "#### `df_twitter_arc` - Twitter archive\n",
    "1. [As colunas `in_reply_to_status_id`, `in_reply_to_user_id`, `retweeted_status_id`, `retweeted_status_user_id` estão em `float64`](#twitter-arc:info)\n",
    "* [As colunas `timestamp` e `retweet_status_timestamp` estão em `string`](#twitter-arc:info)\n",
    "* [Uma variável em várias colunas, `doggo`, `floofer`, `pupper` e `puppo`](#twitter-arc:category)\n",
    "\n",
    "\n",
    "#### `df_prediction` - Image prediction\n",
    "1. [Colunas como variáveis na identificação das predições](#image-prediction:info)\n",
    "\n",
    "\n",
    "#### `df_tweets_api` - Twitter API\n",
    "1. [Os nomes das colunas `id` e `media_url` estão fora do padrão dos demais dataframes, respectivamente `tweet_id` e `jpg_url` ](#tweets-api:info)\n",
    "* [Data de criação (`created_at`) como `string`](#tweets-api:info)\n",
    "* [Valor do id na coluna `in_reply_to_status_id` como `float`](#tweets-api:info)\n",
    "* [As colunas `in_reply_to_status_id`, `in_reply_to_user_id`, `retweeted_status_id`, `retweeted_status_user_id` estão em `float64`](#tweets-api:info)"
   ]
  },
  {
   "cell_type": "markdown",
   "metadata": {},
   "source": [
    "------"
   ]
  },
  {
   "cell_type": "markdown",
   "metadata": {},
   "source": [
    "<a id=\"limpeza\"></a>\n",
    "\n",
    "# Limpeza"
   ]
  },
  {
   "cell_type": "markdown",
   "metadata": {},
   "source": [
    "<a id=\"limpeza:definicao\"></a>\n",
    "\n",
    "## Limpeza: Definição \n",
    "\n",
    "#### `df_twitter_arc` - Twitter archive\n",
    "1. [Base incompleta, de **5000**, apenas **2356** estão disponíveis](#limpeza:twitter-arc:completeness)\n",
    "    * OK - Nada a ser feito\n",
    "* [Coluna `source` sem valor à unidade de observação](#limpeza:twitter-arc:source)\n",
    "    * O conteúdo apresenta um link para download do App Twitter, portanto não agrega valor à unidade de observação, a coluna pode ser removida\n",
    "* [Nomes (`name`) não preenchidos com valor literal igual a `'None'`](#limpeza:twitter-arc:name)\n",
    "    * Alterar valores como 'None' para `np.nan`\n",
    "* [Coluna `expanded_urls` sem valor à unidade de observação](#limpeza:twitter-arc:expanded_urls)(#twitter-arc:expanded_urls)\n",
    "    * Não apresentam valor à unidade de observação, são URLs para os tweets em questão. Remover a coluna `expanded_urls`.\n",
    "* [Categorias \\[doggo, floofer, pupper, puppo\\] com literal `'None'`](#limpeza:twitter-arc:category)\n",
    "    * Aplicar valor `np.nan` para nomes iguais a 'None'   \n",
    "* [As colunas `in_reply_to_status_id`, `in_reply_to_user_id`, `retweeted_status_id`, `retweeted_status_user_id` estão em `float64`](#limpeza:twitter-arc:info)\n",
    "    * A coluna, `retweeted_status_id` ou `retweeted_status_user_id`, podem ser convertidas para `Boolean` como auxílio a identificação de tweets originais\n",
    "    * Após a criação de uma coluna indicando se o tweet é um retweet, as colunas de retweet, `retweeted_status_id`, `retweeted_status_user_id`, `retweeted_status_timestamp`, podem ser descartadas\n",
    "    * As colunas `in_reply_to_status_id` e `in_reply_to_user_id` serão retratadas no dataframe `df_tweets_api`\n",
    "* [As colunas `timestamp` e `retweet_status_timestamp` estão em `string` e deveriam ser do tipo `datetime`](#limpeza:twitter-arc:datetime)\n",
    "    * Converter valores para `datetime`\n",
    "* [Uma variável em várias colunas, `doggo`, `floofer`, `pupper` e `puppo`](#limpeza:twitter-arc:category-merge)\n",
    "    * Reduzir a variável para uma coluna, `category`\n",
    "\n",
    "\n",
    "#### `df_prediction` - Image prediction\n",
    "1. [Previsões \\[`p1`, `p2`, `p3`\\] com nomes não padronizados](#limpeza:image-prediction:names)\n",
    "    * Converter os valores para 'lower case' e substituir '_' por espaços\n",
    "* [Previsões repetidas sobre a mesma imagem](#limpeza:image-prediction:duplicated-urls)\n",
    "    * Descartar predições sobre imagens repetidas\n",
    "* [Colunas como variáveis na identificação das predições](#limpeza:image-prediction:info)\n",
    "    * Transpor as variáveis nas colunas para linhas\n",
    "\n",
    "\n",
    "#### `df_tweets_api` - Twitter API\n",
    "1. [Os nomes das colunas `id` e `media_url` estão fora do padrão dos demais dataframes, respectivamente `tweet_id` e `jpg_url` ](#limpeza:tweets-api:columns)\n",
    "* [Diferentes Tweets referenciando a mesma imagem, duplicidade](#limpeza:tweets-api:duplicated)\n",
    "* [Data de criação (`created_at`) como `string`](#limpeza:tweets-api:datetime)\n",
    "    * Converter datas em string para o formato `datetime`\n",
    "* [Valor do id na coluna `in_reply_to_status_id` e `in_reply_to_user_id` como `float`](#limpeza:tweets-api:info)\n",
    "    * Converter para Inteiro as colunas `in_reply_to_status_id` e `in_reply_to_user_id` e atribuir np.nan as que estiverem sem valor\n",
    "* [A coluna `media_url` está com o nome `jpg_url`nos demais dataframes](#limpeza:tweets-api:columns)"
   ]
  },
  {
   "cell_type": "markdown",
   "metadata": {},
   "source": [
    "<a id=\"limpeza:twitter-archive\"></a>\n",
    "\n",
    "## Limpeza: Twitter archive"
   ]
  },
  {
   "cell_type": "code",
   "execution_count": 35,
   "metadata": {},
   "outputs": [],
   "source": [
    "# Criar cópia do dataframe para a limpeza\n",
    "df_arch_clean = df_twitter_arc.copy()"
   ]
  },
  {
   "cell_type": "markdown",
   "metadata": {},
   "source": [
    "<a id=\"limpeza:twitter-arc:completeness\"></a>\n",
    "\n",
    "### 1. [Base incompleta, de 5000, apenas 2356 estão disponíveis](#limpeza:twitter-arc:completeness)\n",
    "Nada a ser feito"
   ]
  },
  {
   "cell_type": "code",
   "execution_count": 36,
   "metadata": {},
   "outputs": [
    {
     "data": {
      "text/plain": [
       "(2356, 17)"
      ]
     },
     "execution_count": 36,
     "metadata": {},
     "output_type": "execute_result"
    }
   ],
   "source": [
    "df_arch_clean.shape"
   ]
  },
  {
   "cell_type": "markdown",
   "metadata": {},
   "source": [
    "<a id=\"limpeza:twitter-arc:source\"></a>\n",
    "\n",
    "### 2. [Coluna `source` sem valor à unidade de observação](#limpeza:twitter-arc:source)\n",
    "* O conteúdo apresenta um link para download do App Twitter, portanto não agrega valor à unidade de observação, a coluna pode ser removida"
   ]
  },
  {
   "cell_type": "code",
   "execution_count": 37,
   "metadata": {},
   "outputs": [],
   "source": [
    "# Remoção da coluna `source`\n",
    "df_arch_clean.drop('source', axis='columns', inplace=True)"
   ]
  },
  {
   "cell_type": "markdown",
   "metadata": {},
   "source": [
    "#### Teste: Remoção coluna `source`"
   ]
  },
  {
   "cell_type": "code",
   "execution_count": 38,
   "metadata": {},
   "outputs": [
    {
     "data": {
      "text/plain": [
       "Index(['tweet_id', 'in_reply_to_status_id', 'in_reply_to_user_id', 'timestamp',\n",
       "       'text', 'retweeted_status_id', 'retweeted_status_user_id',\n",
       "       'retweeted_status_timestamp', 'expanded_urls', 'rating_numerator',\n",
       "       'rating_denominator', 'name', 'doggo', 'floofer', 'pupper', 'puppo'],\n",
       "      dtype='object')"
      ]
     },
     "execution_count": 38,
     "metadata": {},
     "output_type": "execute_result"
    }
   ],
   "source": [
    "# Conferir que a coluna `source` foi removida\n",
    "df_arch_clean.columns"
   ]
  },
  {
   "cell_type": "markdown",
   "metadata": {},
   "source": [
    "<a id=\"limpeza:twitter-arc:name\"></a>\n",
    "\n",
    "### 3. [Nomes (`name`) não preenchidos com valor literal igual a `'None'`](#limpeza:twitter-arc:name)\n",
    "    * Alterar valores como 'None' para `np.nan`"
   ]
  },
  {
   "cell_type": "code",
   "execution_count": 39,
   "metadata": {},
   "outputs": [
    {
     "data": {
      "text/plain": [
       "745"
      ]
     },
     "execution_count": 39,
     "metadata": {},
     "output_type": "execute_result"
    }
   ],
   "source": [
    "# Contagem de nomes iguais a 'None'\n",
    "df_arch_clean[df_arch_clean.name.str.lower() == 'none'].name.count()"
   ]
  },
  {
   "cell_type": "code",
   "execution_count": 40,
   "metadata": {},
   "outputs": [],
   "source": [
    "# Função para substituição de valores literais 'None' por np.nan\n",
    "def set_nan_at_none(value):\n",
    "    if str(value).lower() == 'none':\n",
    "        return np.nan\n",
    "    else:\n",
    "        return value"
   ]
  },
  {
   "cell_type": "code",
   "execution_count": 41,
   "metadata": {},
   "outputs": [],
   "source": [
    "# Aplicar `np.nan` aos nomes iguais a 'None'\n",
    "df_arch_clean.name = df_arch_clean.name.apply(set_nan_at_none)"
   ]
  },
  {
   "cell_type": "markdown",
   "metadata": {},
   "source": [
    "#### Teste: Aplicação de `np.nan` aos nomes como 'None'"
   ]
  },
  {
   "cell_type": "code",
   "execution_count": 42,
   "metadata": {},
   "outputs": [
    {
     "data": {
      "text/plain": [
       "745"
      ]
     },
     "execution_count": 42,
     "metadata": {},
     "output_type": "execute_result"
    }
   ],
   "source": [
    "df_arch_clean.name.isnull().sum()"
   ]
  },
  {
   "cell_type": "code",
   "execution_count": 43,
   "metadata": {},
   "outputs": [
    {
     "data": {
      "text/plain": [
       "0"
      ]
     },
     "execution_count": 43,
     "metadata": {},
     "output_type": "execute_result"
    }
   ],
   "source": [
    "df_arch_clean[df_arch_clean.name.str.lower() == 'none'].name.count()"
   ]
  },
  {
   "cell_type": "code",
   "execution_count": 44,
   "metadata": {},
   "outputs": [
    {
     "data": {
      "text/plain": [
       "1728      Rocco\n",
       "2325     Walter\n",
       "475        Jack\n",
       "186         NaN\n",
       "1305    Clarkus\n",
       "1940        NaN\n",
       "2089        NaN\n",
       "1222     Travis\n",
       "2346        the\n",
       "871      Sephie\n",
       "Name: name, dtype: object"
      ]
     },
     "execution_count": 44,
     "metadata": {},
     "output_type": "execute_result"
    }
   ],
   "source": [
    "df_arch_clean.name.sample(10)"
   ]
  },
  {
   "cell_type": "markdown",
   "metadata": {},
   "source": [
    "<a id=\"limpeza:twitter-arc:expanded_urls\"></a>\n",
    "\n",
    "### 4. [Coluna `expanded_urls` sem valor à unidade de observação](#limpeza:twitter-arc:expanded_urls)\n",
    "* Não apresentam valor à unidade de observação, são URLs para os tweets em questão. Remover a coluna `expanded_urls`"
   ]
  },
  {
   "cell_type": "code",
   "execution_count": 45,
   "metadata": {},
   "outputs": [],
   "source": [
    "df_arch_clean.drop('expanded_urls', axis='columns', inplace=True)"
   ]
  },
  {
   "cell_type": "markdown",
   "metadata": {},
   "source": [
    "#### Teste: Remoção da coluna `expanded_urls`"
   ]
  },
  {
   "cell_type": "code",
   "execution_count": 46,
   "metadata": {},
   "outputs": [
    {
     "data": {
      "text/plain": [
       "Index(['tweet_id', 'in_reply_to_status_id', 'in_reply_to_user_id', 'timestamp',\n",
       "       'text', 'retweeted_status_id', 'retweeted_status_user_id',\n",
       "       'retweeted_status_timestamp', 'rating_numerator', 'rating_denominator',\n",
       "       'name', 'doggo', 'floofer', 'pupper', 'puppo'],\n",
       "      dtype='object')"
      ]
     },
     "execution_count": 46,
     "metadata": {},
     "output_type": "execute_result"
    }
   ],
   "source": [
    "df_arch_clean.columns"
   ]
  },
  {
   "cell_type": "markdown",
   "metadata": {},
   "source": [
    "<a id=\"limpeza:twitter-arc:category\"></a>\n",
    "\n",
    "### 5. [Categorias \\[`doggo`, `floofer`, `pupper`, `puppo`\\] com literal `'None'`](#limpeza:twitter-arc:category)\n",
    "* Aplicar valor `np.nan` para nomes iguais a 'None'   "
   ]
  },
  {
   "cell_type": "code",
   "execution_count": 47,
   "metadata": {},
   "outputs": [
    {
     "data": {
      "text/plain": [
       "True     2259\n",
       "False      97\n",
       "Name: doggo, dtype: int64"
      ]
     },
     "execution_count": 47,
     "metadata": {},
     "output_type": "execute_result"
    }
   ],
   "source": [
    "# Trocar valores 'None' para np.nan nas colunas `doggo`, `floofer`, `pupper`, `puppo`\n",
    "df_arch_clean.doggo = df_arch_clean.doggo.apply(set_nan_at_none)\n",
    "df_arch_clean.doggo.isna().value_counts()"
   ]
  },
  {
   "cell_type": "code",
   "execution_count": 48,
   "metadata": {},
   "outputs": [
    {
     "data": {
      "text/plain": [
       "True     2346\n",
       "False      10\n",
       "Name: floofer, dtype: int64"
      ]
     },
     "execution_count": 48,
     "metadata": {},
     "output_type": "execute_result"
    }
   ],
   "source": [
    "df_arch_clean.floofer = df_arch_clean.floofer.apply(set_nan_at_none)\n",
    "df_arch_clean.floofer.isna().value_counts()"
   ]
  },
  {
   "cell_type": "code",
   "execution_count": 49,
   "metadata": {},
   "outputs": [
    {
     "data": {
      "text/plain": [
       "True     2099\n",
       "False     257\n",
       "Name: pupper, dtype: int64"
      ]
     },
     "execution_count": 49,
     "metadata": {},
     "output_type": "execute_result"
    }
   ],
   "source": [
    "df_arch_clean.pupper = df_arch_clean.pupper.apply(set_nan_at_none)\n",
    "df_arch_clean.pupper.isna().value_counts()"
   ]
  },
  {
   "cell_type": "code",
   "execution_count": 50,
   "metadata": {},
   "outputs": [
    {
     "data": {
      "text/plain": [
       "True     2326\n",
       "False      30\n",
       "Name: puppo, dtype: int64"
      ]
     },
     "execution_count": 50,
     "metadata": {},
     "output_type": "execute_result"
    }
   ],
   "source": [
    "df_arch_clean.puppo = df_arch_clean.puppo.apply(set_nan_at_none)\n",
    "df_arch_clean.puppo.isna().value_counts()"
   ]
  },
  {
   "cell_type": "code",
   "execution_count": 51,
   "metadata": {},
   "outputs": [
    {
     "data": {
      "text/plain": [
       "394"
      ]
     },
     "execution_count": 51,
     "metadata": {},
     "output_type": "execute_result"
    }
   ],
   "source": [
    "# Soma de valores preenchidos nas classificações\n",
    "sum_categories = 0\n",
    "sum_categories += df_arch_clean.doggo.notna().sum()\n",
    "sum_categories += df_arch_clean.floofer.notna().sum()\n",
    "sum_categories += df_arch_clean.pupper.notna().sum()\n",
    "sum_categories += df_arch_clean.puppo.notna().sum()\n",
    "\n",
    "sum_categories"
   ]
  },
  {
   "cell_type": "markdown",
   "metadata": {},
   "source": [
    "Apenas 394 dos 2346 registros foram classificados"
   ]
  },
  {
   "cell_type": "markdown",
   "metadata": {},
   "source": [
    "<a id=\"limpeza:twitter-arc:info\"></a>\n",
    "\n",
    "### 6. [As colunas `in_reply_to_status_id`, `in_reply_to_user_id`, `retweeted_status_id`, `retweeted_status_user_id` estão em `float64`](#limpeza:twitter-arc:info)\n",
    "* Linhas com algum valor para as colunas `retweeted_status_id` ou `retweeted_status_user_id` podem ser descartadas por indicarem retweet, e o objetivo é analisar somente tweets originais\n",
    "* Após a remoção retweets, as colunas `retweeted_status_id`, `retweeted_status_user_id`, `retweeted_status_timestamp`, podem ser descartadas\n",
    "* As colunas `in_reply_to_status_id` e `in_reply_to_user_id` serão retratadas no dataframe `df_tweets_api`"
   ]
  },
  {
   "cell_type": "markdown",
   "metadata": {},
   "source": [
    "#### Identificação dos tweets originais\n",
    "df_arch_clean.loc[:,'retweeted_status_id'].isna().value_counts()"
   ]
  },
  {
   "cell_type": "code",
   "execution_count": 52,
   "metadata": {},
   "outputs": [
    {
     "data": {
      "text/plain": [
       "2356"
      ]
     },
     "execution_count": 52,
     "metadata": {},
     "output_type": "execute_result"
    }
   ],
   "source": [
    "df_arch_clean.retweeted_status_id.size"
   ]
  },
  {
   "cell_type": "code",
   "execution_count": 53,
   "metadata": {},
   "outputs": [
    {
     "data": {
      "text/plain": [
       "True     2175\n",
       "False     181\n",
       "Name: retweeted_status_id, dtype: int64"
      ]
     },
     "execution_count": 53,
     "metadata": {},
     "output_type": "execute_result"
    }
   ],
   "source": [
    "df_arch_clean.loc[:,'retweeted_status_id'].isna().value_counts()"
   ]
  },
  {
   "cell_type": "markdown",
   "metadata": {},
   "source": [
    "Dos 2356 registros, 181 são retweets"
   ]
  },
  {
   "cell_type": "code",
   "execution_count": 54,
   "metadata": {},
   "outputs": [],
   "source": [
    "# Remoção dos retweets\n",
    "df_arch_clean.drop(df_arch_clean[df_arch_clean.retweeted_status_id.notna()].index, axis=0, inplace=True)"
   ]
  },
  {
   "cell_type": "markdown",
   "metadata": {},
   "source": [
    "#### Teste: Remoção de Retweets"
   ]
  },
  {
   "cell_type": "code",
   "execution_count": 55,
   "metadata": {},
   "outputs": [
    {
     "data": {
      "text/plain": [
       "True    2175\n",
       "Name: retweeted_status_id, dtype: int64"
      ]
     },
     "execution_count": 55,
     "metadata": {},
     "output_type": "execute_result"
    }
   ],
   "source": [
    "# Consultar a existência de colunas com retweet_status_preenchido\n",
    "df_arch_clean.loc[:,'retweeted_status_id'].isna().value_counts()"
   ]
  },
  {
   "cell_type": "markdown",
   "metadata": {},
   "source": [
    "Remoção das colunas referentes a retweets"
   ]
  },
  {
   "cell_type": "code",
   "execution_count": 56,
   "metadata": {},
   "outputs": [],
   "source": [
    "df_arch_clean.drop(['retweeted_status_id', 'retweeted_status_user_id', 'retweeted_status_timestamp'], axis='columns', inplace=True)"
   ]
  },
  {
   "cell_type": "markdown",
   "metadata": {},
   "source": [
    "#### Teste: Verificação da remoção das colunas referentes a retweets"
   ]
  },
  {
   "cell_type": "code",
   "execution_count": 57,
   "metadata": {},
   "outputs": [
    {
     "data": {
      "text/plain": [
       "Index(['tweet_id', 'in_reply_to_status_id', 'in_reply_to_user_id', 'timestamp',\n",
       "       'text', 'rating_numerator', 'rating_denominator', 'name', 'doggo',\n",
       "       'floofer', 'pupper', 'puppo'],\n",
       "      dtype='object')"
      ]
     },
     "execution_count": 57,
     "metadata": {},
     "output_type": "execute_result"
    }
   ],
   "source": [
    "df_arch_clean.columns"
   ]
  },
  {
   "cell_type": "markdown",
   "metadata": {},
   "source": [
    "<a id=\"limpeza:twitter-arc:datetime\"></a>\n",
    "\n",
    "### 7. [As colunas `timestamp` e `retweet_status_timestamp` estão em `string` e deveriam ser do tipo `datetime`](#limpeza:twitter-arc:datetime)\n",
    "* Converter valores para `datetime`\n",
    "\n",
    "Haja vista que a coluna `retweet_status_timestamp` foi removida no passo anterior, não será necessária a sua conversão"
   ]
  },
  {
   "cell_type": "code",
   "execution_count": 58,
   "metadata": {},
   "outputs": [
    {
     "name": "stdout",
     "output_type": "stream",
     "text": [
      "<class 'pandas.core.frame.DataFrame'>\n",
      "Int64Index: 2175 entries, 0 to 2355\n",
      "Data columns (total 1 columns):\n",
      "timestamp    2175 non-null object\n",
      "dtypes: object(1)\n",
      "memory usage: 34.0+ KB\n"
     ]
    }
   ],
   "source": [
    "df_arch_clean.loc[:, ['timestamp']].info()"
   ]
  },
  {
   "cell_type": "code",
   "execution_count": 59,
   "metadata": {},
   "outputs": [],
   "source": [
    "df_arch_clean.timestamp = pd.to_datetime(df_arch_clean.timestamp)"
   ]
  },
  {
   "cell_type": "markdown",
   "metadata": {},
   "source": [
    "#### Teste: Veriificação da conversão de `string` para `datetime`"
   ]
  },
  {
   "cell_type": "code",
   "execution_count": 60,
   "metadata": {},
   "outputs": [
    {
     "name": "stdout",
     "output_type": "stream",
     "text": [
      "<class 'pandas.core.frame.DataFrame'>\n",
      "Int64Index: 2175 entries, 0 to 2355\n",
      "Data columns (total 1 columns):\n",
      "timestamp    2175 non-null datetime64[ns, UTC]\n",
      "dtypes: datetime64[ns, UTC](1)\n",
      "memory usage: 34.0 KB\n"
     ]
    }
   ],
   "source": [
    "df_arch_clean.loc[:, ['timestamp']].info()"
   ]
  },
  {
   "cell_type": "markdown",
   "metadata": {},
   "source": [
    "<a id=\"limpeza:twitter-arc:category-merge\"></a>\n",
    "\n",
    "### 8. [Uma variável em várias colunas, `doggo`, `floofer`, `pupper` e `puppo`](#limpeza:twitter-arc:category-merge)\n",
    "* Reduzir a variável para uma coluna, `category`"
   ]
  },
  {
   "cell_type": "code",
   "execution_count": 61,
   "metadata": {},
   "outputs": [
    {
     "name": "stdout",
     "output_type": "stream",
     "text": [
      "<class 'pandas.core.frame.DataFrame'>\n",
      "Int64Index: 2175 entries, 0 to 2355\n",
      "Data columns (total 12 columns):\n",
      "tweet_id                 2175 non-null int64\n",
      "in_reply_to_status_id    78 non-null float64\n",
      "in_reply_to_user_id      78 non-null float64\n",
      "timestamp                2175 non-null datetime64[ns, UTC]\n",
      "text                     2175 non-null object\n",
      "rating_numerator         2175 non-null int64\n",
      "rating_denominator       2175 non-null int64\n",
      "name                     1495 non-null object\n",
      "doggo                    87 non-null object\n",
      "floofer                  10 non-null object\n",
      "pupper                   234 non-null object\n",
      "puppo                    25 non-null object\n",
      "dtypes: datetime64[ns, UTC](1), float64(2), int64(3), object(6)\n",
      "memory usage: 220.9+ KB\n"
     ]
    }
   ],
   "source": [
    "df_arch_clean.info()"
   ]
  },
  {
   "cell_type": "code",
   "execution_count": 62,
   "metadata": {},
   "outputs": [
    {
     "data": {
      "text/plain": [
       "doggo       87\n",
       "floofer     10\n",
       "pupper     234\n",
       "puppo       25\n",
       "dtype: int64"
      ]
     },
     "execution_count": 62,
     "metadata": {},
     "output_type": "execute_result"
    }
   ],
   "source": [
    "df_arch_clean.loc[:, 'doggo':].notna().sum()"
   ]
  },
  {
   "cell_type": "code",
   "execution_count": 63,
   "metadata": {},
   "outputs": [
    {
     "data": {
      "text/plain": [
       "356"
      ]
     },
     "execution_count": 63,
     "metadata": {},
     "output_type": "execute_result"
    }
   ],
   "source": [
    "df_arch_clean.loc[:, 'doggo':].notna().sum().sum()"
   ]
  },
  {
   "cell_type": "markdown",
   "metadata": {},
   "source": [
    "De **2175** registros, apenas **356** estão classificados"
   ]
  },
  {
   "cell_type": "markdown",
   "metadata": {},
   "source": [
    "Criar uma lista das categorias para mesclar as colunas, considerando a coluna a esquerda como prioritaria sobre valores nulos a direita."
   ]
  },
  {
   "cell_type": "code",
   "execution_count": 64,
   "metadata": {},
   "outputs": [],
   "source": [
    "category = df_arch_clean.doggo\n",
    "category = category.combine_first(df_arch_clean.floofer)\n",
    "category = category.combine_first(df_arch_clean.pupper)\n",
    "category = category.combine_first(df_arch_clean.puppo)\n",
    "\n",
    "df_arch_clean['category'] = category"
   ]
  },
  {
   "cell_type": "code",
   "execution_count": 65,
   "metadata": {},
   "outputs": [
    {
     "data": {
      "text/plain": [
       "344"
      ]
     },
     "execution_count": 65,
     "metadata": {},
     "output_type": "execute_result"
    }
   ],
   "source": [
    "df_arch_clean.category.notna().sum()"
   ]
  },
  {
   "cell_type": "markdown",
   "metadata": {},
   "source": [
    "Após a unificação das colunas de classificação, pode-se ver que resultou em apenas **344** registros, diferente dos **356** iniciais. O que indica que haviam registros com mais de uma classificação."
   ]
  },
  {
   "cell_type": "code",
   "execution_count": 66,
   "metadata": {},
   "outputs": [],
   "source": [
    "df_arch_clean.drop(['doggo', 'floofer', 'pupper', 'puppo'], axis='columns', inplace=True)"
   ]
  },
  {
   "cell_type": "markdown",
   "metadata": {},
   "source": [
    "#### Teste: Verificar a criação da coluna `category` a remoção das colunas `doggo`, `floofer`, `pupper` e `puppo`. "
   ]
  },
  {
   "cell_type": "code",
   "execution_count": 67,
   "metadata": {},
   "outputs": [
    {
     "name": "stdout",
     "output_type": "stream",
     "text": [
      "<class 'pandas.core.frame.DataFrame'>\n",
      "Int64Index: 2175 entries, 0 to 2355\n",
      "Data columns (total 9 columns):\n",
      "tweet_id                 2175 non-null int64\n",
      "in_reply_to_status_id    78 non-null float64\n",
      "in_reply_to_user_id      78 non-null float64\n",
      "timestamp                2175 non-null datetime64[ns, UTC]\n",
      "text                     2175 non-null object\n",
      "rating_numerator         2175 non-null int64\n",
      "rating_denominator       2175 non-null int64\n",
      "name                     1495 non-null object\n",
      "category                 344 non-null object\n",
      "dtypes: datetime64[ns, UTC](1), float64(2), int64(3), object(3)\n",
      "memory usage: 169.9+ KB\n"
     ]
    }
   ],
   "source": [
    "df_arch_clean.info()"
   ]
  },
  {
   "cell_type": "markdown",
   "metadata": {},
   "source": [
    "------\n",
    "<a id=\"limpeza:image-prediction\"></a>\n",
    "\n",
    "## Limpeza: Image prediction "
   ]
  },
  {
   "cell_type": "code",
   "execution_count": 68,
   "metadata": {},
   "outputs": [],
   "source": [
    "# Cópia do dataframe para limpeza\n",
    "df_predict_clean = df_prediction.copy()"
   ]
  },
  {
   "cell_type": "markdown",
   "metadata": {},
   "source": [
    "<a id=\"limpeza:image-prediction:names\"></a>\n",
    "\n",
    "### 1. [Previsões \\[`p1`, `p2`, `p3`\\] com nomes não padronizados](#limpeza:image-prediction:names)\n",
    "* Converter os valores para 'lower case' e substituir '_' por espaços"
   ]
  },
  {
   "cell_type": "code",
   "execution_count": 69,
   "metadata": {},
   "outputs": [],
   "source": [
    "clean_prediction_name = lambda value: str(value).lower().replace('_', ' ')"
   ]
  },
  {
   "cell_type": "code",
   "execution_count": 70,
   "metadata": {},
   "outputs": [
    {
     "data": {
      "text/html": [
       "<div>\n",
       "<style scoped>\n",
       "    .dataframe tbody tr th:only-of-type {\n",
       "        vertical-align: middle;\n",
       "    }\n",
       "\n",
       "    .dataframe tbody tr th {\n",
       "        vertical-align: top;\n",
       "    }\n",
       "\n",
       "    .dataframe thead th {\n",
       "        text-align: right;\n",
       "    }\n",
       "</style>\n",
       "<table border=\"1\" class=\"dataframe\">\n",
       "  <thead>\n",
       "    <tr style=\"text-align: right;\">\n",
       "      <th></th>\n",
       "      <th>p1</th>\n",
       "      <th>p2</th>\n",
       "      <th>p3</th>\n",
       "    </tr>\n",
       "  </thead>\n",
       "  <tbody>\n",
       "    <tr>\n",
       "      <th>547</th>\n",
       "      <td>beagle</td>\n",
       "      <td>boxer</td>\n",
       "      <td>French_bulldog</td>\n",
       "    </tr>\n",
       "    <tr>\n",
       "      <th>796</th>\n",
       "      <td>golden_retriever</td>\n",
       "      <td>Labrador_retriever</td>\n",
       "      <td>Saluki</td>\n",
       "    </tr>\n",
       "    <tr>\n",
       "      <th>1946</th>\n",
       "      <td>home_theater</td>\n",
       "      <td>studio_couch</td>\n",
       "      <td>barber_chair</td>\n",
       "    </tr>\n",
       "    <tr>\n",
       "      <th>1628</th>\n",
       "      <td>Tibetan_mastiff</td>\n",
       "      <td>German_shepherd</td>\n",
       "      <td>Leonberg</td>\n",
       "    </tr>\n",
       "    <tr>\n",
       "      <th>1231</th>\n",
       "      <td>Pekinese</td>\n",
       "      <td>Shih-Tzu</td>\n",
       "      <td>cocker_spaniel</td>\n",
       "    </tr>\n",
       "  </tbody>\n",
       "</table>\n",
       "</div>"
      ],
      "text/plain": [
       "                    p1                  p2              p3\n",
       "547             beagle               boxer  French_bulldog\n",
       "796   golden_retriever  Labrador_retriever          Saluki\n",
       "1946      home_theater        studio_couch    barber_chair\n",
       "1628   Tibetan_mastiff     German_shepherd        Leonberg\n",
       "1231          Pekinese            Shih-Tzu  cocker_spaniel"
      ]
     },
     "execution_count": 70,
     "metadata": {},
     "output_type": "execute_result"
    }
   ],
   "source": [
    "df_predict_clean.loc[:, ['p1', 'p2', 'p3']].sample(5)"
   ]
  },
  {
   "cell_type": "markdown",
   "metadata": {},
   "source": [
    "Aplicar a padronização dos nomes em cada uma das colunas de predição"
   ]
  },
  {
   "cell_type": "code",
   "execution_count": 71,
   "metadata": {},
   "outputs": [],
   "source": [
    "df_predict_clean.p1 = df_predict_clean.p1.apply(clean_prediction_name)"
   ]
  },
  {
   "cell_type": "code",
   "execution_count": 72,
   "metadata": {},
   "outputs": [],
   "source": [
    "df_predict_clean.p2 = df_predict_clean.p2.apply(clean_prediction_name)"
   ]
  },
  {
   "cell_type": "code",
   "execution_count": 73,
   "metadata": {},
   "outputs": [],
   "source": [
    "df_predict_clean.p3 = df_predict_clean.p3.apply(clean_prediction_name)"
   ]
  },
  {
   "cell_type": "markdown",
   "metadata": {},
   "source": [
    "#### Teste: Verificar padronização dos nomes das predições"
   ]
  },
  {
   "cell_type": "code",
   "execution_count": 74,
   "metadata": {},
   "outputs": [
    {
     "data": {
      "text/html": [
       "<div>\n",
       "<style scoped>\n",
       "    .dataframe tbody tr th:only-of-type {\n",
       "        vertical-align: middle;\n",
       "    }\n",
       "\n",
       "    .dataframe tbody tr th {\n",
       "        vertical-align: top;\n",
       "    }\n",
       "\n",
       "    .dataframe thead th {\n",
       "        text-align: right;\n",
       "    }\n",
       "</style>\n",
       "<table border=\"1\" class=\"dataframe\">\n",
       "  <thead>\n",
       "    <tr style=\"text-align: right;\">\n",
       "      <th></th>\n",
       "      <th>p1</th>\n",
       "      <th>p2</th>\n",
       "      <th>p3</th>\n",
       "    </tr>\n",
       "  </thead>\n",
       "  <tbody>\n",
       "    <tr>\n",
       "      <th>769</th>\n",
       "      <td>scotch terrier</td>\n",
       "      <td>affenpinscher</td>\n",
       "      <td>cairn</td>\n",
       "    </tr>\n",
       "    <tr>\n",
       "      <th>1241</th>\n",
       "      <td>labrador retriever</td>\n",
       "      <td>golden retriever</td>\n",
       "      <td>doormat</td>\n",
       "    </tr>\n",
       "    <tr>\n",
       "      <th>683</th>\n",
       "      <td>hog</td>\n",
       "      <td>mexican hairless</td>\n",
       "      <td>wild boar</td>\n",
       "    </tr>\n",
       "    <tr>\n",
       "      <th>881</th>\n",
       "      <td>brittany spaniel</td>\n",
       "      <td>welsh springer spaniel</td>\n",
       "      <td>beagle</td>\n",
       "    </tr>\n",
       "    <tr>\n",
       "      <th>1519</th>\n",
       "      <td>german shepherd</td>\n",
       "      <td>malinois</td>\n",
       "      <td>kelpie</td>\n",
       "    </tr>\n",
       "  </tbody>\n",
       "</table>\n",
       "</div>"
      ],
      "text/plain": [
       "                      p1                      p2         p3\n",
       "769       scotch terrier           affenpinscher      cairn\n",
       "1241  labrador retriever        golden retriever    doormat\n",
       "683                  hog        mexican hairless  wild boar\n",
       "881     brittany spaniel  welsh springer spaniel     beagle\n",
       "1519     german shepherd                malinois     kelpie"
      ]
     },
     "execution_count": 74,
     "metadata": {},
     "output_type": "execute_result"
    }
   ],
   "source": [
    "df_predict_clean.loc[:, ['p1', 'p2', 'p3']].sample(5)"
   ]
  },
  {
   "cell_type": "markdown",
   "metadata": {},
   "source": [
    "<a id=\"limpeza:image-prediction:duplicated-urls\"></a>\n",
    "\n",
    "### 2. [Predições repetidas sobre a mesma imagem](#limpeza:image-prediction:duplicated-urls)\n",
    "* Descartar predições sobre imagens repetidas"
   ]
  },
  {
   "cell_type": "code",
   "execution_count": 75,
   "metadata": {},
   "outputs": [
    {
     "name": "stdout",
     "output_type": "stream",
     "text": [
      "<class 'pandas.core.frame.DataFrame'>\n",
      "RangeIndex: 2075 entries, 0 to 2074\n",
      "Data columns (total 12 columns):\n",
      "tweet_id    2075 non-null int64\n",
      "jpg_url     2075 non-null object\n",
      "img_num     2075 non-null int64\n",
      "p1          2075 non-null object\n",
      "p1_conf     2075 non-null float64\n",
      "p1_dog      2075 non-null bool\n",
      "p2          2075 non-null object\n",
      "p2_conf     2075 non-null float64\n",
      "p2_dog      2075 non-null bool\n",
      "p3          2075 non-null object\n",
      "p3_conf     2075 non-null float64\n",
      "p3_dog      2075 non-null bool\n",
      "dtypes: bool(3), float64(3), int64(2), object(4)\n",
      "memory usage: 152.1+ KB\n"
     ]
    }
   ],
   "source": [
    "df_predict_clean.info()"
   ]
  },
  {
   "cell_type": "code",
   "execution_count": 76,
   "metadata": {},
   "outputs": [
    {
     "data": {
      "text/plain": [
       "False    2009\n",
       "True       66\n",
       "dtype: int64"
      ]
     },
     "execution_count": 76,
     "metadata": {},
     "output_type": "execute_result"
    }
   ],
   "source": [
    "df_predict_clean.loc[:, ['jpg_url', 'p1', 'p2', 'p3']].duplicated().value_counts()"
   ]
  },
  {
   "cell_type": "markdown",
   "metadata": {},
   "source": [
    "Dos **2075** registros, **66** são sobre a mesma imagem. Entretanto, seguindo o objetivo de trabalhar com apenas Tweets originais, além de descartar duplicidade é interessante também descartar as refêrencias a Retweets. Para isso, será feita uma consulta a seleção de Tweets originais, que foi efetuada no passo [6 da limpeza do Twitter Archive](#limpeza:twitter-arc:info)"
   ]
  },
  {
   "cell_type": "code",
   "execution_count": 77,
   "metadata": {},
   "outputs": [],
   "source": [
    "df_predict_clean = df_predict_clean.loc[df_predict_clean.tweet_id.isin(df_arch_clean.tweet_id)]"
   ]
  },
  {
   "cell_type": "markdown",
   "metadata": {},
   "source": [
    "#### Teste: Seleção de Tweets originais"
   ]
  },
  {
   "cell_type": "code",
   "execution_count": 78,
   "metadata": {},
   "outputs": [
    {
     "data": {
      "text/plain": [
       "True    1994\n",
       "Name: tweet_id, dtype: int64"
      ]
     },
     "execution_count": 78,
     "metadata": {},
     "output_type": "execute_result"
    }
   ],
   "source": [
    "df_predict_clean.tweet_id.isin(df_arch_clean.tweet_id).value_counts()"
   ]
  },
  {
   "cell_type": "markdown",
   "metadata": {},
   "source": [
    "Apenas dos **2075**, **1994** são de Tweets originais\n",
    "\n",
    "------"
   ]
  },
  {
   "cell_type": "markdown",
   "metadata": {},
   "source": [
    "Dos Tweets originai ainda é necessário verificar a existência de duplicidade de predições."
   ]
  },
  {
   "cell_type": "code",
   "execution_count": 79,
   "metadata": {},
   "outputs": [
    {
     "data": {
      "text/plain": [
       "False    1994\n",
       "dtype: int64"
      ]
     },
     "execution_count": 79,
     "metadata": {},
     "output_type": "execute_result"
    }
   ],
   "source": [
    "df_predict_clean.loc[:, ['jpg_url']].duplicated().value_counts()"
   ]
  },
  {
   "cell_type": "markdown",
   "metadata": {},
   "source": [
    "Nenhuma duplicidade foi encontrada após a remoção das referências de Retweets"
   ]
  },
  {
   "cell_type": "code",
   "execution_count": 80,
   "metadata": {},
   "outputs": [
    {
     "name": "stdout",
     "output_type": "stream",
     "text": [
      "<class 'pandas.core.frame.DataFrame'>\n",
      "Int64Index: 1994 entries, 0 to 2074\n",
      "Data columns (total 12 columns):\n",
      "tweet_id    1994 non-null int64\n",
      "jpg_url     1994 non-null object\n",
      "img_num     1994 non-null int64\n",
      "p1          1994 non-null object\n",
      "p1_conf     1994 non-null float64\n",
      "p1_dog      1994 non-null bool\n",
      "p2          1994 non-null object\n",
      "p2_conf     1994 non-null float64\n",
      "p2_dog      1994 non-null bool\n",
      "p3          1994 non-null object\n",
      "p3_conf     1994 non-null float64\n",
      "p3_dog      1994 non-null bool\n",
      "dtypes: bool(3), float64(3), int64(2), object(4)\n",
      "memory usage: 161.6+ KB\n"
     ]
    }
   ],
   "source": [
    "df_predict_clean.info()"
   ]
  },
  {
   "cell_type": "markdown",
   "metadata": {},
   "source": [
    "<a id=\"limpeza:image-prediction:info\"></a>\n",
    "\n",
    "### 3. [Colunas como variáveis na identificação das predições](#limpeza:image-prediction:info)\n",
    "* 3.1. Transpor as variáveis nas colunas para linhas:\n",
    "    * 3.1.1. [`[p1, p2, p3]`, para `prediction_try`](#limpeza:image-prediction:try)\n",
    "    * 3.1.2. [`[p1_conf, p2_conf, p3_conf]`, para `confidence`](#limpeza:image-prediction:conf)\n",
    "    * 3.1.3. [`[p1_dog, p2_dog, p3_dog]`, para `is_a_dog`](#limpeza:image-prediction:dog)\n",
    "* 3.2. [Unir os dataframes de prediction](#limpeza:image-prediction:merge)"
   ]
  },
  {
   "cell_type": "code",
   "execution_count": 81,
   "metadata": {},
   "outputs": [
    {
     "data": {
      "text/html": [
       "<div>\n",
       "<style scoped>\n",
       "    .dataframe tbody tr th:only-of-type {\n",
       "        vertical-align: middle;\n",
       "    }\n",
       "\n",
       "    .dataframe tbody tr th {\n",
       "        vertical-align: top;\n",
       "    }\n",
       "\n",
       "    .dataframe thead th {\n",
       "        text-align: right;\n",
       "    }\n",
       "</style>\n",
       "<table border=\"1\" class=\"dataframe\">\n",
       "  <thead>\n",
       "    <tr style=\"text-align: right;\">\n",
       "      <th></th>\n",
       "      <th>tweet_id</th>\n",
       "      <th>jpg_url</th>\n",
       "      <th>img_num</th>\n",
       "      <th>p1</th>\n",
       "      <th>p1_conf</th>\n",
       "      <th>p1_dog</th>\n",
       "      <th>p2</th>\n",
       "      <th>p2_conf</th>\n",
       "      <th>p2_dog</th>\n",
       "      <th>p3</th>\n",
       "      <th>p3_conf</th>\n",
       "      <th>p3_dog</th>\n",
       "    </tr>\n",
       "  </thead>\n",
       "  <tbody>\n",
       "    <tr>\n",
       "      <th>1060</th>\n",
       "      <td>715009755312439296</td>\n",
       "      <td>https://pbs.twimg.com/media/Cew5kyOWsAA8Y_o.jpg</td>\n",
       "      <td>1</td>\n",
       "      <td>dingo</td>\n",
       "      <td>0.310903</td>\n",
       "      <td>False</td>\n",
       "      <td>chihuahua</td>\n",
       "      <td>0.142288</td>\n",
       "      <td>True</td>\n",
       "      <td>cardigan</td>\n",
       "      <td>0.103945</td>\n",
       "      <td>True</td>\n",
       "    </tr>\n",
       "    <tr>\n",
       "      <th>1065</th>\n",
       "      <td>715680795826982913</td>\n",
       "      <td>https://pbs.twimg.com/media/Ce6b4MPWwAA22Xm.jpg</td>\n",
       "      <td>1</td>\n",
       "      <td>golden retriever</td>\n",
       "      <td>0.990715</td>\n",
       "      <td>True</td>\n",
       "      <td>labrador retriever</td>\n",
       "      <td>0.002228</td>\n",
       "      <td>True</td>\n",
       "      <td>chow</td>\n",
       "      <td>0.001197</td>\n",
       "      <td>True</td>\n",
       "    </tr>\n",
       "    <tr>\n",
       "      <th>124</th>\n",
       "      <td>668237644992782336</td>\n",
       "      <td>https://pbs.twimg.com/media/CUYOl0kW4AAVe_p.jpg</td>\n",
       "      <td>1</td>\n",
       "      <td>chow</td>\n",
       "      <td>0.809320</td>\n",
       "      <td>True</td>\n",
       "      <td>minivan</td>\n",
       "      <td>0.071311</td>\n",
       "      <td>False</td>\n",
       "      <td>pekinese</td>\n",
       "      <td>0.037870</td>\n",
       "      <td>True</td>\n",
       "    </tr>\n",
       "    <tr>\n",
       "      <th>523</th>\n",
       "      <td>676588346097852417</td>\n",
       "      <td>https://pbs.twimg.com/media/CWO5gmCUYAAX4WA.jpg</td>\n",
       "      <td>1</td>\n",
       "      <td>boston bull</td>\n",
       "      <td>0.976577</td>\n",
       "      <td>True</td>\n",
       "      <td>french bulldog</td>\n",
       "      <td>0.014324</td>\n",
       "      <td>True</td>\n",
       "      <td>chihuahua</td>\n",
       "      <td>0.002302</td>\n",
       "      <td>True</td>\n",
       "    </tr>\n",
       "    <tr>\n",
       "      <th>2052</th>\n",
       "      <td>887517139158093824</td>\n",
       "      <td>https://pbs.twimg.com/ext_tw_video_thumb/88751...</td>\n",
       "      <td>1</td>\n",
       "      <td>limousine</td>\n",
       "      <td>0.130432</td>\n",
       "      <td>False</td>\n",
       "      <td>tow truck</td>\n",
       "      <td>0.029175</td>\n",
       "      <td>False</td>\n",
       "      <td>shopping cart</td>\n",
       "      <td>0.026321</td>\n",
       "      <td>False</td>\n",
       "    </tr>\n",
       "  </tbody>\n",
       "</table>\n",
       "</div>"
      ],
      "text/plain": [
       "                tweet_id                                            jpg_url  \\\n",
       "1060  715009755312439296    https://pbs.twimg.com/media/Cew5kyOWsAA8Y_o.jpg   \n",
       "1065  715680795826982913    https://pbs.twimg.com/media/Ce6b4MPWwAA22Xm.jpg   \n",
       "124   668237644992782336    https://pbs.twimg.com/media/CUYOl0kW4AAVe_p.jpg   \n",
       "523   676588346097852417    https://pbs.twimg.com/media/CWO5gmCUYAAX4WA.jpg   \n",
       "2052  887517139158093824  https://pbs.twimg.com/ext_tw_video_thumb/88751...   \n",
       "\n",
       "      img_num                p1   p1_conf  p1_dog                  p2  \\\n",
       "1060        1             dingo  0.310903   False           chihuahua   \n",
       "1065        1  golden retriever  0.990715    True  labrador retriever   \n",
       "124         1              chow  0.809320    True             minivan   \n",
       "523         1       boston bull  0.976577    True      french bulldog   \n",
       "2052        1         limousine  0.130432   False           tow truck   \n",
       "\n",
       "       p2_conf  p2_dog             p3   p3_conf  p3_dog  \n",
       "1060  0.142288    True       cardigan  0.103945    True  \n",
       "1065  0.002228    True           chow  0.001197    True  \n",
       "124   0.071311   False       pekinese  0.037870    True  \n",
       "523   0.014324    True      chihuahua  0.002302    True  \n",
       "2052  0.029175   False  shopping cart  0.026321   False  "
      ]
     },
     "execution_count": 81,
     "metadata": {},
     "output_type": "execute_result"
    }
   ],
   "source": [
    "df_predict_clean.sample(5)"
   ]
  },
  {
   "cell_type": "markdown",
   "metadata": {},
   "source": [
    "<a id=\"limpeza:image-prediction:try\"></a>\n",
    "\n",
    "#### 3.1.1. [`[p1, p2, p3]`, para `prediction_try`](#limpeza:image-prediction:try)"
   ]
  },
  {
   "cell_type": "code",
   "execution_count": 82,
   "metadata": {},
   "outputs": [],
   "source": [
    "# Organizando as variáveis de tentativa de predição e seu palpite\n",
    "df_predict_try = pd.melt(df_predict_clean,\n",
    "        id_vars=['tweet_id', 'jpg_url'],\n",
    "        value_vars=['p1', 'p2', 'p3'],\n",
    "        var_name=['prediction_try'],\n",
    "        value_name='prediction'\n",
    "       )"
   ]
  },
  {
   "cell_type": "code",
   "execution_count": 83,
   "metadata": {},
   "outputs": [
    {
     "data": {
      "text/html": [
       "<div>\n",
       "<style scoped>\n",
       "    .dataframe tbody tr th:only-of-type {\n",
       "        vertical-align: middle;\n",
       "    }\n",
       "\n",
       "    .dataframe tbody tr th {\n",
       "        vertical-align: top;\n",
       "    }\n",
       "\n",
       "    .dataframe thead th {\n",
       "        text-align: right;\n",
       "    }\n",
       "</style>\n",
       "<table border=\"1\" class=\"dataframe\">\n",
       "  <thead>\n",
       "    <tr style=\"text-align: right;\">\n",
       "      <th></th>\n",
       "      <th>tweet_id</th>\n",
       "      <th>jpg_url</th>\n",
       "      <th>prediction_try</th>\n",
       "      <th>prediction</th>\n",
       "    </tr>\n",
       "  </thead>\n",
       "  <tbody>\n",
       "    <tr>\n",
       "      <th>5397</th>\n",
       "      <td>772152991789019136</td>\n",
       "      <td>https://pbs.twimg.com/media/Crc9DEoWEAE7RLH.jpg</td>\n",
       "      <td>p3</td>\n",
       "      <td>vizsla</td>\n",
       "    </tr>\n",
       "    <tr>\n",
       "      <th>2824</th>\n",
       "      <td>693647888581312512</td>\n",
       "      <td>https://pbs.twimg.com/media/CaBVE80WAAA8sGk.jpg</td>\n",
       "      <td>p2</td>\n",
       "      <td>doormat</td>\n",
       "    </tr>\n",
       "    <tr>\n",
       "      <th>741</th>\n",
       "      <td>687476254459715584</td>\n",
       "      <td>https://pbs.twimg.com/media/CYpoAZTWEAA6vDs.jpg</td>\n",
       "      <td>p1</td>\n",
       "      <td>wood rabbit</td>\n",
       "    </tr>\n",
       "    <tr>\n",
       "      <th>4609</th>\n",
       "      <td>680583894916304897</td>\n",
       "      <td>https://pbs.twimg.com/media/CXHrcFYWcAEE5_L.jpg</td>\n",
       "      <td>p3</td>\n",
       "      <td>hippopotamus</td>\n",
       "    </tr>\n",
       "    <tr>\n",
       "      <th>2176</th>\n",
       "      <td>669354382627049472</td>\n",
       "      <td>https://pbs.twimg.com/media/CUoGQjdXAAAkaz2.jpg</td>\n",
       "      <td>p2</td>\n",
       "      <td>french bulldog</td>\n",
       "    </tr>\n",
       "  </tbody>\n",
       "</table>\n",
       "</div>"
      ],
      "text/plain": [
       "                tweet_id                                          jpg_url  \\\n",
       "5397  772152991789019136  https://pbs.twimg.com/media/Crc9DEoWEAE7RLH.jpg   \n",
       "2824  693647888581312512  https://pbs.twimg.com/media/CaBVE80WAAA8sGk.jpg   \n",
       "741   687476254459715584  https://pbs.twimg.com/media/CYpoAZTWEAA6vDs.jpg   \n",
       "4609  680583894916304897  https://pbs.twimg.com/media/CXHrcFYWcAEE5_L.jpg   \n",
       "2176  669354382627049472  https://pbs.twimg.com/media/CUoGQjdXAAAkaz2.jpg   \n",
       "\n",
       "     prediction_try      prediction  \n",
       "5397             p3          vizsla  \n",
       "2824             p2         doormat  \n",
       "741              p1     wood rabbit  \n",
       "4609             p3    hippopotamus  \n",
       "2176             p2  french bulldog  "
      ]
     },
     "execution_count": 83,
     "metadata": {},
     "output_type": "execute_result"
    }
   ],
   "source": [
    "df_predict_try.sample(5)"
   ]
  },
  {
   "cell_type": "markdown",
   "metadata": {},
   "source": [
    "Conversão dos valores da tentativa para número inteiro"
   ]
  },
  {
   "cell_type": "code",
   "execution_count": 84,
   "metadata": {},
   "outputs": [],
   "source": [
    "# Metodo para retirar o índice da tentativa dos nomes das colunas\n",
    "get_prediction_index = lambda value: int(re.sub(r'[^\\d]', '', str(value)))"
   ]
  },
  {
   "cell_type": "code",
   "execution_count": 85,
   "metadata": {},
   "outputs": [],
   "source": [
    "df_predict_try.prediction_try = df_predict_try.prediction_try.apply(get_prediction_index)"
   ]
  },
  {
   "cell_type": "code",
   "execution_count": 86,
   "metadata": {},
   "outputs": [
    {
     "name": "stdout",
     "output_type": "stream",
     "text": [
      "<class 'pandas.core.frame.DataFrame'>\n",
      "RangeIndex: 5982 entries, 0 to 5981\n",
      "Data columns (total 4 columns):\n",
      "tweet_id          5982 non-null int64\n",
      "jpg_url           5982 non-null object\n",
      "prediction_try    5982 non-null int64\n",
      "prediction        5982 non-null object\n",
      "dtypes: int64(2), object(2)\n",
      "memory usage: 187.0+ KB\n"
     ]
    }
   ],
   "source": [
    "df_predict_try.info()"
   ]
  },
  {
   "cell_type": "code",
   "execution_count": 87,
   "metadata": {},
   "outputs": [
    {
     "data": {
      "text/html": [
       "<div>\n",
       "<style scoped>\n",
       "    .dataframe tbody tr th:only-of-type {\n",
       "        vertical-align: middle;\n",
       "    }\n",
       "\n",
       "    .dataframe tbody tr th {\n",
       "        vertical-align: top;\n",
       "    }\n",
       "\n",
       "    .dataframe thead th {\n",
       "        text-align: right;\n",
       "    }\n",
       "</style>\n",
       "<table border=\"1\" class=\"dataframe\">\n",
       "  <thead>\n",
       "    <tr style=\"text-align: right;\">\n",
       "      <th></th>\n",
       "      <th>tweet_id</th>\n",
       "      <th>jpg_url</th>\n",
       "      <th>prediction_try</th>\n",
       "      <th>prediction</th>\n",
       "    </tr>\n",
       "  </thead>\n",
       "  <tbody>\n",
       "    <tr>\n",
       "      <th>298</th>\n",
       "      <td>671488513339211776</td>\n",
       "      <td>https://pbs.twimg.com/media/CVGbPgrWIAAQ1fB.jpg</td>\n",
       "      <td>1</td>\n",
       "      <td>hermit crab</td>\n",
       "    </tr>\n",
       "    <tr>\n",
       "      <th>3719</th>\n",
       "      <td>829501995190984704</td>\n",
       "      <td>https://pbs.twimg.com/media/C4L7p19W8AA3Fs_.jpg</td>\n",
       "      <td>2</td>\n",
       "      <td>pekinese</td>\n",
       "    </tr>\n",
       "    <tr>\n",
       "      <th>4582</th>\n",
       "      <td>679527802031484928</td>\n",
       "      <td>https://pbs.twimg.com/media/CW4q7jDWkAA2y8g.jpg</td>\n",
       "      <td>3</td>\n",
       "      <td>cuirass</td>\n",
       "    </tr>\n",
       "    <tr>\n",
       "      <th>5835</th>\n",
       "      <td>856526610513747968</td>\n",
       "      <td>https://pbs.twimg.com/media/C-L-aIYXgAIR0jY.jpg</td>\n",
       "      <td>3</td>\n",
       "      <td>standard poodle</td>\n",
       "    </tr>\n",
       "    <tr>\n",
       "      <th>987</th>\n",
       "      <td>707969809498152960</td>\n",
       "      <td>https://pbs.twimg.com/media/CdM2xRpXEAUsR4k.jpg</td>\n",
       "      <td>1</td>\n",
       "      <td>toy poodle</td>\n",
       "    </tr>\n",
       "  </tbody>\n",
       "</table>\n",
       "</div>"
      ],
      "text/plain": [
       "                tweet_id                                          jpg_url  \\\n",
       "298   671488513339211776  https://pbs.twimg.com/media/CVGbPgrWIAAQ1fB.jpg   \n",
       "3719  829501995190984704  https://pbs.twimg.com/media/C4L7p19W8AA3Fs_.jpg   \n",
       "4582  679527802031484928  https://pbs.twimg.com/media/CW4q7jDWkAA2y8g.jpg   \n",
       "5835  856526610513747968  https://pbs.twimg.com/media/C-L-aIYXgAIR0jY.jpg   \n",
       "987   707969809498152960  https://pbs.twimg.com/media/CdM2xRpXEAUsR4k.jpg   \n",
       "\n",
       "      prediction_try       prediction  \n",
       "298                1      hermit crab  \n",
       "3719               2         pekinese  \n",
       "4582               3          cuirass  \n",
       "5835               3  standard poodle  \n",
       "987                1       toy poodle  "
      ]
     },
     "execution_count": 87,
     "metadata": {},
     "output_type": "execute_result"
    }
   ],
   "source": [
    "df_predict_try.sample(5)"
   ]
  },
  {
   "cell_type": "markdown",
   "metadata": {},
   "source": [
    "<a id=\"limpeza:image-prediction:conf\"></a>\n",
    "\n",
    "#### 3.1.2. [`[p1_conf, p2_conf, p3_conf]`, para `confidence`](#limpeza:image-prediction:conf)"
   ]
  },
  {
   "cell_type": "code",
   "execution_count": 88,
   "metadata": {},
   "outputs": [],
   "source": [
    "# Movendo o nível de confiança das predições para uma coluna apenas\n",
    "df_predict_conf = pd.melt(df_predict_clean,\n",
    "                         id_vars=['tweet_id', 'jpg_url'],\n",
    "                         value_vars=['p1_conf', 'p2_conf', 'p3_conf'],\n",
    "                         var_name=['prediction_try'],\n",
    "                         value_name='confidence'\n",
    "                        )"
   ]
  },
  {
   "cell_type": "code",
   "execution_count": 89,
   "metadata": {},
   "outputs": [
    {
     "data": {
      "text/html": [
       "<div>\n",
       "<style scoped>\n",
       "    .dataframe tbody tr th:only-of-type {\n",
       "        vertical-align: middle;\n",
       "    }\n",
       "\n",
       "    .dataframe tbody tr th {\n",
       "        vertical-align: top;\n",
       "    }\n",
       "\n",
       "    .dataframe thead th {\n",
       "        text-align: right;\n",
       "    }\n",
       "</style>\n",
       "<table border=\"1\" class=\"dataframe\">\n",
       "  <thead>\n",
       "    <tr style=\"text-align: right;\">\n",
       "      <th></th>\n",
       "      <th>tweet_id</th>\n",
       "      <th>jpg_url</th>\n",
       "      <th>prediction_try</th>\n",
       "      <th>confidence</th>\n",
       "    </tr>\n",
       "  </thead>\n",
       "  <tbody>\n",
       "    <tr>\n",
       "      <th>2087</th>\n",
       "      <td>667549055577362432</td>\n",
       "      <td>https://pbs.twimg.com/media/CUOcVCwWsAERUKY.jpg</td>\n",
       "      <td>p2_conf</td>\n",
       "      <td>0.007737</td>\n",
       "    </tr>\n",
       "    <tr>\n",
       "      <th>2990</th>\n",
       "      <td>708469915515297792</td>\n",
       "      <td>https://pbs.twimg.com/media/CdT9n7mW0AQcpZU.jpg</td>\n",
       "      <td>p2_conf</td>\n",
       "      <td>0.127717</td>\n",
       "    </tr>\n",
       "    <tr>\n",
       "      <th>1751</th>\n",
       "      <td>834086379323871233</td>\n",
       "      <td>https://pbs.twimg.com/media/C5NFIsjWQAEI93t.jpg</td>\n",
       "      <td>p1_conf</td>\n",
       "      <td>0.736759</td>\n",
       "    </tr>\n",
       "    <tr>\n",
       "      <th>2504</th>\n",
       "      <td>676215927814406144</td>\n",
       "      <td>https://pbs.twimg.com/media/CWJmzNsWUAE706Z.jpg</td>\n",
       "      <td>p2_conf</td>\n",
       "      <td>0.000158</td>\n",
       "    </tr>\n",
       "    <tr>\n",
       "      <th>663</th>\n",
       "      <td>682750546109968385</td>\n",
       "      <td>https://pbs.twimg.com/media/CXmd_bsWkAEEXck.jpg</td>\n",
       "      <td>p1_conf</td>\n",
       "      <td>0.947198</td>\n",
       "    </tr>\n",
       "  </tbody>\n",
       "</table>\n",
       "</div>"
      ],
      "text/plain": [
       "                tweet_id                                          jpg_url  \\\n",
       "2087  667549055577362432  https://pbs.twimg.com/media/CUOcVCwWsAERUKY.jpg   \n",
       "2990  708469915515297792  https://pbs.twimg.com/media/CdT9n7mW0AQcpZU.jpg   \n",
       "1751  834086379323871233  https://pbs.twimg.com/media/C5NFIsjWQAEI93t.jpg   \n",
       "2504  676215927814406144  https://pbs.twimg.com/media/CWJmzNsWUAE706Z.jpg   \n",
       "663   682750546109968385  https://pbs.twimg.com/media/CXmd_bsWkAEEXck.jpg   \n",
       "\n",
       "     prediction_try  confidence  \n",
       "2087        p2_conf    0.007737  \n",
       "2990        p2_conf    0.127717  \n",
       "1751        p1_conf    0.736759  \n",
       "2504        p2_conf    0.000158  \n",
       "663         p1_conf    0.947198  "
      ]
     },
     "execution_count": 89,
     "metadata": {},
     "output_type": "execute_result"
    }
   ],
   "source": [
    "df_predict_conf.sample(5)"
   ]
  },
  {
   "cell_type": "code",
   "execution_count": 90,
   "metadata": {},
   "outputs": [],
   "source": [
    "# Atribuir apenas valores inteiros aos indicadores de tentativas\n",
    "df_predict_conf.prediction_try = df_predict_conf.prediction_try.apply(get_prediction_index)"
   ]
  },
  {
   "cell_type": "code",
   "execution_count": 91,
   "metadata": {},
   "outputs": [
    {
     "data": {
      "text/html": [
       "<div>\n",
       "<style scoped>\n",
       "    .dataframe tbody tr th:only-of-type {\n",
       "        vertical-align: middle;\n",
       "    }\n",
       "\n",
       "    .dataframe tbody tr th {\n",
       "        vertical-align: top;\n",
       "    }\n",
       "\n",
       "    .dataframe thead th {\n",
       "        text-align: right;\n",
       "    }\n",
       "</style>\n",
       "<table border=\"1\" class=\"dataframe\">\n",
       "  <thead>\n",
       "    <tr style=\"text-align: right;\">\n",
       "      <th></th>\n",
       "      <th>tweet_id</th>\n",
       "      <th>jpg_url</th>\n",
       "      <th>prediction_try</th>\n",
       "      <th>confidence</th>\n",
       "    </tr>\n",
       "  </thead>\n",
       "  <tbody>\n",
       "    <tr>\n",
       "      <th>3061</th>\n",
       "      <td>716285507865542656</td>\n",
       "      <td>https://pbs.twimg.com/media/CfDB3aJXEAAEZNv.jpg</td>\n",
       "      <td>2</td>\n",
       "      <td>0.196769</td>\n",
       "    </tr>\n",
       "    <tr>\n",
       "      <th>1055</th>\n",
       "      <td>714957620017307648</td>\n",
       "      <td>https://pbs.twimg.com/media/CewKKiOWwAIe3pR.jpg</td>\n",
       "      <td>1</td>\n",
       "      <td>0.251516</td>\n",
       "    </tr>\n",
       "    <tr>\n",
       "      <th>3758</th>\n",
       "      <td>836260088725786625</td>\n",
       "      <td>https://pbs.twimg.com/media/C5r-G2IUwAA6KBY.jpg</td>\n",
       "      <td>2</td>\n",
       "      <td>0.078267</td>\n",
       "    </tr>\n",
       "    <tr>\n",
       "      <th>3563</th>\n",
       "      <td>801167903437357056</td>\n",
       "      <td>https://pbs.twimg.com/media/Cx5R8wPVEAALa9r.jpg</td>\n",
       "      <td>2</td>\n",
       "      <td>0.061604</td>\n",
       "    </tr>\n",
       "    <tr>\n",
       "      <th>1660</th>\n",
       "      <td>819004803107983360</td>\n",
       "      <td>https://pbs.twimg.com/media/C12whDoVEAALRxa.jpg</td>\n",
       "      <td>1</td>\n",
       "      <td>0.351308</td>\n",
       "    </tr>\n",
       "  </tbody>\n",
       "</table>\n",
       "</div>"
      ],
      "text/plain": [
       "                tweet_id                                          jpg_url  \\\n",
       "3061  716285507865542656  https://pbs.twimg.com/media/CfDB3aJXEAAEZNv.jpg   \n",
       "1055  714957620017307648  https://pbs.twimg.com/media/CewKKiOWwAIe3pR.jpg   \n",
       "3758  836260088725786625  https://pbs.twimg.com/media/C5r-G2IUwAA6KBY.jpg   \n",
       "3563  801167903437357056  https://pbs.twimg.com/media/Cx5R8wPVEAALa9r.jpg   \n",
       "1660  819004803107983360  https://pbs.twimg.com/media/C12whDoVEAALRxa.jpg   \n",
       "\n",
       "      prediction_try  confidence  \n",
       "3061               2    0.196769  \n",
       "1055               1    0.251516  \n",
       "3758               2    0.078267  \n",
       "3563               2    0.061604  \n",
       "1660               1    0.351308  "
      ]
     },
     "execution_count": 91,
     "metadata": {},
     "output_type": "execute_result"
    }
   ],
   "source": [
    "df_predict_conf.sample(5)"
   ]
  },
  {
   "cell_type": "code",
   "execution_count": 92,
   "metadata": {},
   "outputs": [
    {
     "data": {
      "text/plain": [
       "(5982, 4)"
      ]
     },
     "execution_count": 92,
     "metadata": {},
     "output_type": "execute_result"
    }
   ],
   "source": [
    "df_predict_conf.shape"
   ]
  },
  {
   "cell_type": "markdown",
   "metadata": {},
   "source": [
    "<a id=\"limpeza:image-prediction:dog\"></a>\n",
    "\n",
    "#### 3.1.3. [`[p1_dog, p2_dog, p3_dog]`, para `is_a_dog`](#limpeza:image-prediction:dog)"
   ]
  },
  {
   "cell_type": "code",
   "execution_count": 93,
   "metadata": {},
   "outputs": [],
   "source": [
    "# Movendo o resultado da predição, `p#_dog` para `is_a_dog`\n",
    "df_predict_dog = pd.melt(df_predict_clean,\n",
    "                        id_vars=['tweet_id', 'jpg_url'],\n",
    "                        value_vars=['p1_dog', 'p2_dog', 'p3_dog'],\n",
    "                        var_name=['prediction_try'],\n",
    "                        value_name='is_a_dog')"
   ]
  },
  {
   "cell_type": "code",
   "execution_count": 94,
   "metadata": {},
   "outputs": [
    {
     "data": {
      "text/html": [
       "<div>\n",
       "<style scoped>\n",
       "    .dataframe tbody tr th:only-of-type {\n",
       "        vertical-align: middle;\n",
       "    }\n",
       "\n",
       "    .dataframe tbody tr th {\n",
       "        vertical-align: top;\n",
       "    }\n",
       "\n",
       "    .dataframe thead th {\n",
       "        text-align: right;\n",
       "    }\n",
       "</style>\n",
       "<table border=\"1\" class=\"dataframe\">\n",
       "  <thead>\n",
       "    <tr style=\"text-align: right;\">\n",
       "      <th></th>\n",
       "      <th>tweet_id</th>\n",
       "      <th>jpg_url</th>\n",
       "      <th>prediction_try</th>\n",
       "      <th>is_a_dog</th>\n",
       "    </tr>\n",
       "  </thead>\n",
       "  <tbody>\n",
       "    <tr>\n",
       "      <th>3205</th>\n",
       "      <td>743253157753532416</td>\n",
       "      <td>https://pbs.twimg.com/media/ClCQzFUUYAA5vAu.jpg</td>\n",
       "      <td>p2_dog</td>\n",
       "      <td>True</td>\n",
       "    </tr>\n",
       "    <tr>\n",
       "      <th>2504</th>\n",
       "      <td>676215927814406144</td>\n",
       "      <td>https://pbs.twimg.com/media/CWJmzNsWUAE706Z.jpg</td>\n",
       "      <td>p2_dog</td>\n",
       "      <td>False</td>\n",
       "    </tr>\n",
       "    <tr>\n",
       "      <th>1423</th>\n",
       "      <td>774639387460112384</td>\n",
       "      <td>https://pbs.twimg.com/media/CsASZqRW8AA3Szw.jpg</td>\n",
       "      <td>p1_dog</td>\n",
       "      <td>True</td>\n",
       "    </tr>\n",
       "    <tr>\n",
       "      <th>3250</th>\n",
       "      <td>748699167502000129</td>\n",
       "      <td>https://pbs.twimg.com/media/CmPp5pOXgAAD_SG.jpg</td>\n",
       "      <td>p2_dog</td>\n",
       "      <td>True</td>\n",
       "    </tr>\n",
       "    <tr>\n",
       "      <th>1975</th>\n",
       "      <td>888554962724278272</td>\n",
       "      <td>https://pbs.twimg.com/media/DFTH_O-UQAACu20.jpg</td>\n",
       "      <td>p1_dog</td>\n",
       "      <td>True</td>\n",
       "    </tr>\n",
       "  </tbody>\n",
       "</table>\n",
       "</div>"
      ],
      "text/plain": [
       "                tweet_id                                          jpg_url  \\\n",
       "3205  743253157753532416  https://pbs.twimg.com/media/ClCQzFUUYAA5vAu.jpg   \n",
       "2504  676215927814406144  https://pbs.twimg.com/media/CWJmzNsWUAE706Z.jpg   \n",
       "1423  774639387460112384  https://pbs.twimg.com/media/CsASZqRW8AA3Szw.jpg   \n",
       "3250  748699167502000129  https://pbs.twimg.com/media/CmPp5pOXgAAD_SG.jpg   \n",
       "1975  888554962724278272  https://pbs.twimg.com/media/DFTH_O-UQAACu20.jpg   \n",
       "\n",
       "     prediction_try  is_a_dog  \n",
       "3205         p2_dog      True  \n",
       "2504         p2_dog     False  \n",
       "1423         p1_dog      True  \n",
       "3250         p2_dog      True  \n",
       "1975         p1_dog      True  "
      ]
     },
     "execution_count": 94,
     "metadata": {},
     "output_type": "execute_result"
    }
   ],
   "source": [
    "df_predict_dog.sample(5)"
   ]
  },
  {
   "cell_type": "code",
   "execution_count": 95,
   "metadata": {},
   "outputs": [],
   "source": [
    "# Atribuir apenas valores inteiros aos indicadores de tentativas\n",
    "df_predict_dog.prediction_try = df_predict_dog.prediction_try.apply(get_prediction_index)"
   ]
  },
  {
   "cell_type": "code",
   "execution_count": 96,
   "metadata": {},
   "outputs": [
    {
     "data": {
      "text/html": [
       "<div>\n",
       "<style scoped>\n",
       "    .dataframe tbody tr th:only-of-type {\n",
       "        vertical-align: middle;\n",
       "    }\n",
       "\n",
       "    .dataframe tbody tr th {\n",
       "        vertical-align: top;\n",
       "    }\n",
       "\n",
       "    .dataframe thead th {\n",
       "        text-align: right;\n",
       "    }\n",
       "</style>\n",
       "<table border=\"1\" class=\"dataframe\">\n",
       "  <thead>\n",
       "    <tr style=\"text-align: right;\">\n",
       "      <th></th>\n",
       "      <th>tweet_id</th>\n",
       "      <th>jpg_url</th>\n",
       "      <th>prediction_try</th>\n",
       "      <th>is_a_dog</th>\n",
       "    </tr>\n",
       "  </thead>\n",
       "  <tbody>\n",
       "    <tr>\n",
       "      <th>5497</th>\n",
       "      <td>790337589677002753</td>\n",
       "      <td>https://pbs.twimg.com/media/CvfX2AnWYAAQTay.jpg</td>\n",
       "      <td>3</td>\n",
       "      <td>True</td>\n",
       "    </tr>\n",
       "    <tr>\n",
       "      <th>5159</th>\n",
       "      <td>737322739594330112</td>\n",
       "      <td>https://pbs.twimg.com/media/Cjt_Hm6WsAAjkPG.jpg</td>\n",
       "      <td>3</td>\n",
       "      <td>False</td>\n",
       "    </tr>\n",
       "    <tr>\n",
       "      <th>5310</th>\n",
       "      <td>757393109802180609</td>\n",
       "      <td>https://pbs.twimg.com/media/CoLNAq6WAAAkmdJ.jpg</td>\n",
       "      <td>3</td>\n",
       "      <td>True</td>\n",
       "    </tr>\n",
       "    <tr>\n",
       "      <th>4623</th>\n",
       "      <td>681261549936340994</td>\n",
       "      <td>https://pbs.twimg.com/media/CXRTw_5WMAAUDVp.jpg</td>\n",
       "      <td>3</td>\n",
       "      <td>True</td>\n",
       "    </tr>\n",
       "    <tr>\n",
       "      <th>5887</th>\n",
       "      <td>870308999962521604</td>\n",
       "      <td>https://pbs.twimg.com/media/DBP1asiUAAEKZI5.jpg</td>\n",
       "      <td>3</td>\n",
       "      <td>True</td>\n",
       "    </tr>\n",
       "  </tbody>\n",
       "</table>\n",
       "</div>"
      ],
      "text/plain": [
       "                tweet_id                                          jpg_url  \\\n",
       "5497  790337589677002753  https://pbs.twimg.com/media/CvfX2AnWYAAQTay.jpg   \n",
       "5159  737322739594330112  https://pbs.twimg.com/media/Cjt_Hm6WsAAjkPG.jpg   \n",
       "5310  757393109802180609  https://pbs.twimg.com/media/CoLNAq6WAAAkmdJ.jpg   \n",
       "4623  681261549936340994  https://pbs.twimg.com/media/CXRTw_5WMAAUDVp.jpg   \n",
       "5887  870308999962521604  https://pbs.twimg.com/media/DBP1asiUAAEKZI5.jpg   \n",
       "\n",
       "      prediction_try  is_a_dog  \n",
       "5497               3      True  \n",
       "5159               3     False  \n",
       "5310               3      True  \n",
       "4623               3      True  \n",
       "5887               3      True  "
      ]
     },
     "execution_count": 96,
     "metadata": {},
     "output_type": "execute_result"
    }
   ],
   "source": [
    "df_predict_dog.sample(5)"
   ]
  },
  {
   "cell_type": "code",
   "execution_count": 97,
   "metadata": {},
   "outputs": [
    {
     "name": "stdout",
     "output_type": "stream",
     "text": [
      "<class 'pandas.core.frame.DataFrame'>\n",
      "RangeIndex: 5982 entries, 0 to 5981\n",
      "Data columns (total 4 columns):\n",
      "tweet_id          5982 non-null int64\n",
      "jpg_url           5982 non-null object\n",
      "prediction_try    5982 non-null int64\n",
      "is_a_dog          5982 non-null bool\n",
      "dtypes: bool(1), int64(2), object(1)\n",
      "memory usage: 146.1+ KB\n"
     ]
    }
   ],
   "source": [
    "df_predict_dog.info()"
   ]
  },
  {
   "cell_type": "markdown",
   "metadata": {},
   "source": [
    "<a id=\"limpeza:image-prediction:merge\"></a>\n",
    "\n",
    "#### 3.2. [Unir os dataframes de prediction](#limpeza:image-prediction:merge)"
   ]
  },
  {
   "cell_type": "code",
   "execution_count": 125,
   "metadata": {},
   "outputs": [],
   "source": [
    "# Merge\n",
    "df_predict_clean = pd.merge(df_predict_try, df_predict_conf, how='left', on=['tweet_id', 'jpg_url', 'prediction_try'])"
   ]
  },
  {
   "cell_type": "code",
   "execution_count": 127,
   "metadata": {},
   "outputs": [
    {
     "data": {
      "text/plain": [
       "(5982, 5)"
      ]
     },
     "execution_count": 127,
     "metadata": {},
     "output_type": "execute_result"
    }
   ],
   "source": [
    "df_predict_clean.shape"
   ]
  },
  {
   "cell_type": "code",
   "execution_count": 126,
   "metadata": {},
   "outputs": [
    {
     "data": {
      "text/html": [
       "<div>\n",
       "<style scoped>\n",
       "    .dataframe tbody tr th:only-of-type {\n",
       "        vertical-align: middle;\n",
       "    }\n",
       "\n",
       "    .dataframe tbody tr th {\n",
       "        vertical-align: top;\n",
       "    }\n",
       "\n",
       "    .dataframe thead th {\n",
       "        text-align: right;\n",
       "    }\n",
       "</style>\n",
       "<table border=\"1\" class=\"dataframe\">\n",
       "  <thead>\n",
       "    <tr style=\"text-align: right;\">\n",
       "      <th></th>\n",
       "      <th>tweet_id</th>\n",
       "      <th>jpg_url</th>\n",
       "      <th>prediction_try</th>\n",
       "      <th>prediction</th>\n",
       "      <th>confidence</th>\n",
       "    </tr>\n",
       "  </thead>\n",
       "  <tbody>\n",
       "    <tr>\n",
       "      <th>5467</th>\n",
       "      <td>784826020293709826</td>\n",
       "      <td>https://pbs.twimg.com/media/CuRDF-XWcAIZSer.jpg</td>\n",
       "      <td>3</td>\n",
       "      <td>irish setter</td>\n",
       "      <td>0.077456</td>\n",
       "    </tr>\n",
       "    <tr>\n",
       "      <th>5774</th>\n",
       "      <td>841314665196081154</td>\n",
       "      <td>https://pbs.twimg.com/ext_tw_video_thumb/84131...</td>\n",
       "      <td>3</td>\n",
       "      <td>bloodhound</td>\n",
       "      <td>0.026565</td>\n",
       "    </tr>\n",
       "    <tr>\n",
       "      <th>4054</th>\n",
       "      <td>667176164155375616</td>\n",
       "      <td>https://pbs.twimg.com/media/CUJJLtWWsAE-go5.jpg</td>\n",
       "      <td>3</td>\n",
       "      <td>toy poodle</td>\n",
       "      <td>0.106014</td>\n",
       "    </tr>\n",
       "    <tr>\n",
       "      <th>2261</th>\n",
       "      <td>670815497391357952</td>\n",
       "      <td>https://pbs.twimg.com/media/CU83IZ8W4AEIh4y.jpg</td>\n",
       "      <td>2</td>\n",
       "      <td>staffordshire bullterrier</td>\n",
       "      <td>0.073430</td>\n",
       "    </tr>\n",
       "    <tr>\n",
       "      <th>2113</th>\n",
       "      <td>668204964695683073</td>\n",
       "      <td>https://pbs.twimg.com/media/CUXw3qHWoAAk8HJ.jpg</td>\n",
       "      <td>2</td>\n",
       "      <td>golden retriever</td>\n",
       "      <td>0.107884</td>\n",
       "    </tr>\n",
       "  </tbody>\n",
       "</table>\n",
       "</div>"
      ],
      "text/plain": [
       "                tweet_id                                            jpg_url  \\\n",
       "5467  784826020293709826    https://pbs.twimg.com/media/CuRDF-XWcAIZSer.jpg   \n",
       "5774  841314665196081154  https://pbs.twimg.com/ext_tw_video_thumb/84131...   \n",
       "4054  667176164155375616    https://pbs.twimg.com/media/CUJJLtWWsAE-go5.jpg   \n",
       "2261  670815497391357952    https://pbs.twimg.com/media/CU83IZ8W4AEIh4y.jpg   \n",
       "2113  668204964695683073    https://pbs.twimg.com/media/CUXw3qHWoAAk8HJ.jpg   \n",
       "\n",
       "      prediction_try                 prediction  confidence  \n",
       "5467               3               irish setter    0.077456  \n",
       "5774               3                 bloodhound    0.026565  \n",
       "4054               3                 toy poodle    0.106014  \n",
       "2261               2  staffordshire bullterrier    0.073430  \n",
       "2113               2           golden retriever    0.107884  "
      ]
     },
     "execution_count": 126,
     "metadata": {},
     "output_type": "execute_result"
    }
   ],
   "source": [
    "df_predict_clean.sample(5)"
   ]
  },
  {
   "cell_type": "code",
   "execution_count": 128,
   "metadata": {},
   "outputs": [],
   "source": [
    "df_predict_clean = pd.merge(df_predict_clean, df_predict_dog, how='left', on=['tweet_id', 'jpg_url', 'prediction_try'])"
   ]
  },
  {
   "cell_type": "code",
   "execution_count": 130,
   "metadata": {},
   "outputs": [
    {
     "data": {
      "text/plain": [
       "(5982, 6)"
      ]
     },
     "execution_count": 130,
     "metadata": {},
     "output_type": "execute_result"
    }
   ],
   "source": [
    "df_predict_clean.shape"
   ]
  },
  {
   "cell_type": "markdown",
   "metadata": {},
   "source": [
    "**Teste: Verificar Merge dos dataframes de predição**"
   ]
  },
  {
   "cell_type": "code",
   "execution_count": 131,
   "metadata": {},
   "outputs": [
    {
     "data": {
      "text/html": [
       "<div>\n",
       "<style scoped>\n",
       "    .dataframe tbody tr th:only-of-type {\n",
       "        vertical-align: middle;\n",
       "    }\n",
       "\n",
       "    .dataframe tbody tr th {\n",
       "        vertical-align: top;\n",
       "    }\n",
       "\n",
       "    .dataframe thead th {\n",
       "        text-align: right;\n",
       "    }\n",
       "</style>\n",
       "<table border=\"1\" class=\"dataframe\">\n",
       "  <thead>\n",
       "    <tr style=\"text-align: right;\">\n",
       "      <th></th>\n",
       "      <th>tweet_id</th>\n",
       "      <th>jpg_url</th>\n",
       "      <th>prediction_try</th>\n",
       "      <th>prediction</th>\n",
       "      <th>confidence</th>\n",
       "      <th>is_a_dog</th>\n",
       "    </tr>\n",
       "  </thead>\n",
       "  <tbody>\n",
       "    <tr>\n",
       "      <th>2810</th>\n",
       "      <td>692901601640583168</td>\n",
       "      <td>https://pbs.twimg.com/media/CZ2uU37UcAANzmK.jpg</td>\n",
       "      <td>2</td>\n",
       "      <td>cocker spaniel</td>\n",
       "      <td>0.135164</td>\n",
       "      <td>True</td>\n",
       "    </tr>\n",
       "    <tr>\n",
       "      <th>1572</th>\n",
       "      <td>801958328846974976</td>\n",
       "      <td>https://pbs.twimg.com/media/CyEg2AXUsAA1Qpf.jpg</td>\n",
       "      <td>1</td>\n",
       "      <td>staffordshire bullterrier</td>\n",
       "      <td>0.327887</td>\n",
       "      <td>True</td>\n",
       "    </tr>\n",
       "    <tr>\n",
       "      <th>5463</th>\n",
       "      <td>783821107061198850</td>\n",
       "      <td>https://pbs.twimg.com/media/CuCxIzyWEAQTnQA.jpg</td>\n",
       "      <td>3</td>\n",
       "      <td>standard poodle</td>\n",
       "      <td>0.133534</td>\n",
       "      <td>True</td>\n",
       "    </tr>\n",
       "    <tr>\n",
       "      <th>197</th>\n",
       "      <td>669661792646373376</td>\n",
       "      <td>https://pbs.twimg.com/media/CUsd2TfWwAAmdjb.jpg</td>\n",
       "      <td>1</td>\n",
       "      <td>weasel</td>\n",
       "      <td>0.262802</td>\n",
       "      <td>False</td>\n",
       "    </tr>\n",
       "    <tr>\n",
       "      <th>1360</th>\n",
       "      <td>762316489655476224</td>\n",
       "      <td>https://pbs.twimg.com/media/CpRKzZKWAAABGh7.jpg</td>\n",
       "      <td>1</td>\n",
       "      <td>african grey</td>\n",
       "      <td>0.270468</td>\n",
       "      <td>False</td>\n",
       "    </tr>\n",
       "  </tbody>\n",
       "</table>\n",
       "</div>"
      ],
      "text/plain": [
       "                tweet_id                                          jpg_url  \\\n",
       "2810  692901601640583168  https://pbs.twimg.com/media/CZ2uU37UcAANzmK.jpg   \n",
       "1572  801958328846974976  https://pbs.twimg.com/media/CyEg2AXUsAA1Qpf.jpg   \n",
       "5463  783821107061198850  https://pbs.twimg.com/media/CuCxIzyWEAQTnQA.jpg   \n",
       "197   669661792646373376  https://pbs.twimg.com/media/CUsd2TfWwAAmdjb.jpg   \n",
       "1360  762316489655476224  https://pbs.twimg.com/media/CpRKzZKWAAABGh7.jpg   \n",
       "\n",
       "      prediction_try                 prediction  confidence  is_a_dog  \n",
       "2810               2             cocker spaniel    0.135164      True  \n",
       "1572               1  staffordshire bullterrier    0.327887      True  \n",
       "5463               3            standard poodle    0.133534      True  \n",
       "197                1                     weasel    0.262802     False  \n",
       "1360               1               african grey    0.270468     False  "
      ]
     },
     "execution_count": 131,
     "metadata": {},
     "output_type": "execute_result"
    }
   ],
   "source": [
    "df_predict_clean.sample(5)"
   ]
  },
  {
   "cell_type": "markdown",
   "metadata": {},
   "source": [
    "------\n",
    "<a id=\"limpeza:twitter-api\"></a>\n",
    "\n",
    "## Limpeza: Twitter API"
   ]
  },
  {
   "cell_type": "code",
   "execution_count": 132,
   "metadata": {},
   "outputs": [],
   "source": [
    "# Cópia do dataframe para limpeza\n",
    "df_api_clean = df_tweets_api.copy()"
   ]
  },
  {
   "cell_type": "code",
   "execution_count": 137,
   "metadata": {},
   "outputs": [
    {
     "data": {
      "text/html": [
       "<div>\n",
       "<style scoped>\n",
       "    .dataframe tbody tr th:only-of-type {\n",
       "        vertical-align: middle;\n",
       "    }\n",
       "\n",
       "    .dataframe tbody tr th {\n",
       "        vertical-align: top;\n",
       "    }\n",
       "\n",
       "    .dataframe thead th {\n",
       "        text-align: right;\n",
       "    }\n",
       "</style>\n",
       "<table border=\"1\" class=\"dataframe\">\n",
       "  <thead>\n",
       "    <tr style=\"text-align: right;\">\n",
       "      <th></th>\n",
       "      <th>id</th>\n",
       "      <th>created_at</th>\n",
       "      <th>in_reply_to_status_id</th>\n",
       "      <th>in_reply_to_user_id</th>\n",
       "      <th>is_quote_status</th>\n",
       "      <th>retweet_count</th>\n",
       "      <th>favorite_count</th>\n",
       "      <th>media_url</th>\n",
       "      <th>retweeted</th>\n",
       "      <th>favorited</th>\n",
       "    </tr>\n",
       "  </thead>\n",
       "  <tbody>\n",
       "    <tr>\n",
       "      <th>1713</th>\n",
       "      <td>667866724293877760</td>\n",
       "      <td>Sat Nov 21 00:46:50 +0000 2015</td>\n",
       "      <td>NaN</td>\n",
       "      <td>NaN</td>\n",
       "      <td>False</td>\n",
       "      <td>1041</td>\n",
       "      <td>3008</td>\n",
       "      <td>http://pbs.twimg.com/media/CUS9PlUWwAANeAD.jpg</td>\n",
       "      <td>False</td>\n",
       "      <td>False</td>\n",
       "    </tr>\n",
       "    <tr>\n",
       "      <th>957</th>\n",
       "      <td>697270446429966336</td>\n",
       "      <td>Wed Feb 10 04:06:43 +0000 2016</td>\n",
       "      <td>NaN</td>\n",
       "      <td>NaN</td>\n",
       "      <td>False</td>\n",
       "      <td>1965</td>\n",
       "      <td>4858</td>\n",
       "      <td>http://pbs.twimg.com/media/Ca0zxGjW8AEfyYl.jpg</td>\n",
       "      <td>False</td>\n",
       "      <td>False</td>\n",
       "    </tr>\n",
       "    <tr>\n",
       "      <th>492</th>\n",
       "      <td>757597904299253760</td>\n",
       "      <td>Mon Jul 25 15:26:30 +0000 2016</td>\n",
       "      <td>NaN</td>\n",
       "      <td>NaN</td>\n",
       "      <td>False</td>\n",
       "      <td>313</td>\n",
       "      <td>0</td>\n",
       "      <td>http://pbs.twimg.com/media/CoOGZjiWAAEMKGx.jpg</td>\n",
       "      <td>False</td>\n",
       "      <td>False</td>\n",
       "    </tr>\n",
       "  </tbody>\n",
       "</table>\n",
       "</div>"
      ],
      "text/plain": [
       "                      id                      created_at  \\\n",
       "1713  667866724293877760  Sat Nov 21 00:46:50 +0000 2015   \n",
       "957   697270446429966336  Wed Feb 10 04:06:43 +0000 2016   \n",
       "492   757597904299253760  Mon Jul 25 15:26:30 +0000 2016   \n",
       "\n",
       "      in_reply_to_status_id  in_reply_to_user_id  is_quote_status  \\\n",
       "1713                    NaN                  NaN            False   \n",
       "957                     NaN                  NaN            False   \n",
       "492                     NaN                  NaN            False   \n",
       "\n",
       "      retweet_count  favorite_count  \\\n",
       "1713           1041            3008   \n",
       "957            1965            4858   \n",
       "492             313               0   \n",
       "\n",
       "                                           media_url  retweeted  favorited  \n",
       "1713  http://pbs.twimg.com/media/CUS9PlUWwAANeAD.jpg      False      False  \n",
       "957   http://pbs.twimg.com/media/Ca0zxGjW8AEfyYl.jpg      False      False  \n",
       "492   http://pbs.twimg.com/media/CoOGZjiWAAEMKGx.jpg      False      False  "
      ]
     },
     "execution_count": 137,
     "metadata": {},
     "output_type": "execute_result"
    }
   ],
   "source": [
    "\n",
    "df_api_clean.sample(3)"
   ]
  },
  {
   "cell_type": "markdown",
   "metadata": {},
   "source": [
    "<a id=\"limpeza:tweets-api:columns\"></a>\n",
    "\n",
    "### 1. [Os nomes das colunas `id` e `media_url` estão fora do padrão dos demais dataframes, respectivamente `tweet_id` e `jpg_url` ](#limpeza:tweets-api:columns)"
   ]
  },
  {
   "cell_type": "code",
   "execution_count": 143,
   "metadata": {},
   "outputs": [],
   "source": [
    "df_api_clean.rename(columns={'id':'tweet_id', 'media_url': 'jpg_url'}, inplace=True)"
   ]
  },
  {
   "cell_type": "markdown",
   "metadata": {},
   "source": [
    "**Teste: Verificar colunas renomeadas**"
   ]
  },
  {
   "cell_type": "code",
   "execution_count": 144,
   "metadata": {},
   "outputs": [
    {
     "data": {
      "text/plain": [
       "Index(['tweet_id', 'created_at', 'in_reply_to_status_id',\n",
       "       'in_reply_to_user_id', 'is_quote_status', 'retweet_count',\n",
       "       'favorite_count', 'jpg_url', 'retweeted', 'favorited'],\n",
       "      dtype='object')"
      ]
     },
     "execution_count": 144,
     "metadata": {},
     "output_type": "execute_result"
    }
   ],
   "source": [
    "df_api_clean.columns"
   ]
  },
  {
   "cell_type": "markdown",
   "metadata": {},
   "source": [
    "<a id=\"limpeza:tweets-api:duplicated\"></a>\n",
    "\n",
    "### 2. [Diferentes Tweets referenciando a mesma imagem, duplicidade](#limpeza:tweets-api:duplicated)"
   ]
  },
  {
   "cell_type": "markdown",
   "metadata": {},
   "source": [
    "Assim como na [limpeza de duplicidade de imagens no dataframe de predições](#limpeza:image-prediction:duplicated-urls), é importante de remover os tweets não originais, os retweets. Com auxílio do dataframe `df_arch_clean`, que possui somente referências a tweets originais, será possível identifica-los e descartar os tweets indesejados."
   ]
  },
  {
   "cell_type": "code",
   "execution_count": 138,
   "metadata": {},
   "outputs": [
    {
     "data": {
      "text/plain": [
       "(1820, 10)"
      ]
     },
     "execution_count": 138,
     "metadata": {},
     "output_type": "execute_result"
    }
   ],
   "source": [
    "df_api_clean.shape"
   ]
  },
  {
   "cell_type": "code",
   "execution_count": 146,
   "metadata": {},
   "outputs": [],
   "source": [
    "df_api_clean = df_api_clean.loc[df_api_clean.tweet_id.isin(df_arch_clean.tweet_id)]"
   ]
  },
  {
   "cell_type": "code",
   "execution_count": 147,
   "metadata": {},
   "outputs": [
    {
     "data": {
      "text/plain": [
       "(1746, 10)"
      ]
     },
     "execution_count": 147,
     "metadata": {},
     "output_type": "execute_result"
    }
   ],
   "source": [
    "df_api_clean.shape"
   ]
  },
  {
   "cell_type": "markdown",
   "metadata": {},
   "source": [
    "Ao remover os ids que referenciavam a **retweets**, houve uma redução de 74 registros, de **1820** para **1746**"
   ]
  },
  {
   "cell_type": "markdown",
   "metadata": {},
   "source": [
    "<a id=\"limpeza:tweets-api:datetime\"></a>\n",
    "\n",
    "### 3. [Data de criação (`created_at`) como `string`](#limpeza:tweets-api:datetime)\n",
    "* Converter datas em string para o formato `datetime`"
   ]
  },
  {
   "cell_type": "code",
   "execution_count": 149,
   "metadata": {},
   "outputs": [],
   "source": [
    "df_api_clean.created_at = pd.to_datetime(df_api_clean.created_at)"
   ]
  },
  {
   "cell_type": "markdown",
   "metadata": {},
   "source": [
    "**Teste: Validar tipo de variável em `created_at`**"
   ]
  },
  {
   "cell_type": "code",
   "execution_count": 150,
   "metadata": {},
   "outputs": [
    {
     "name": "stdout",
     "output_type": "stream",
     "text": [
      "<class 'pandas.core.frame.DataFrame'>\n",
      "Int64Index: 1746 entries, 0 to 1819\n",
      "Data columns (total 10 columns):\n",
      "tweet_id                 1746 non-null int64\n",
      "created_at               1746 non-null datetime64[ns, UTC]\n",
      "in_reply_to_status_id    22 non-null float64\n",
      "in_reply_to_user_id      22 non-null float64\n",
      "is_quote_status          1746 non-null bool\n",
      "retweet_count            1746 non-null int64\n",
      "favorite_count           1746 non-null int64\n",
      "jpg_url                  1746 non-null object\n",
      "retweeted                1746 non-null bool\n",
      "favorited                1746 non-null bool\n",
      "dtypes: bool(3), datetime64[ns, UTC](1), float64(2), int64(3), object(1)\n",
      "memory usage: 114.2+ KB\n"
     ]
    }
   ],
   "source": [
    "df_api_clean.info()"
   ]
  },
  {
   "cell_type": "code",
   "execution_count": 151,
   "metadata": {},
   "outputs": [
    {
     "data": {
      "text/html": [
       "<div>\n",
       "<style scoped>\n",
       "    .dataframe tbody tr th:only-of-type {\n",
       "        vertical-align: middle;\n",
       "    }\n",
       "\n",
       "    .dataframe tbody tr th {\n",
       "        vertical-align: top;\n",
       "    }\n",
       "\n",
       "    .dataframe thead th {\n",
       "        text-align: right;\n",
       "    }\n",
       "</style>\n",
       "<table border=\"1\" class=\"dataframe\">\n",
       "  <thead>\n",
       "    <tr style=\"text-align: right;\">\n",
       "      <th></th>\n",
       "      <th>tweet_id</th>\n",
       "      <th>created_at</th>\n",
       "      <th>in_reply_to_status_id</th>\n",
       "      <th>in_reply_to_user_id</th>\n",
       "      <th>is_quote_status</th>\n",
       "      <th>retweet_count</th>\n",
       "      <th>favorite_count</th>\n",
       "      <th>jpg_url</th>\n",
       "      <th>retweeted</th>\n",
       "      <th>favorited</th>\n",
       "    </tr>\n",
       "  </thead>\n",
       "  <tbody>\n",
       "    <tr>\n",
       "      <th>1456</th>\n",
       "      <td>672877615439593473</td>\n",
       "      <td>2015-12-04 20:38:19+00:00</td>\n",
       "      <td>NaN</td>\n",
       "      <td>NaN</td>\n",
       "      <td>False</td>\n",
       "      <td>376</td>\n",
       "      <td>1043</td>\n",
       "      <td>http://pbs.twimg.com/media/CVaKn75XAAEU09u.jpg</td>\n",
       "      <td>False</td>\n",
       "      <td>False</td>\n",
       "    </tr>\n",
       "    <tr>\n",
       "      <th>151</th>\n",
       "      <td>819004803107983360</td>\n",
       "      <td>2017-01-11 02:15:36+00:00</td>\n",
       "      <td>NaN</td>\n",
       "      <td>NaN</td>\n",
       "      <td>False</td>\n",
       "      <td>39753</td>\n",
       "      <td>91537</td>\n",
       "      <td>http://pbs.twimg.com/media/C12whDoVEAALRxa.jpg</td>\n",
       "      <td>False</td>\n",
       "      <td>False</td>\n",
       "    </tr>\n",
       "    <tr>\n",
       "      <th>488</th>\n",
       "      <td>757741869644341248</td>\n",
       "      <td>2016-07-26 00:58:34+00:00</td>\n",
       "      <td>NaN</td>\n",
       "      <td>NaN</td>\n",
       "      <td>False</td>\n",
       "      <td>3480</td>\n",
       "      <td>7223</td>\n",
       "      <td>http://pbs.twimg.com/media/CoQKNY7XYAE_cuX.jpg</td>\n",
       "      <td>False</td>\n",
       "      <td>False</td>\n",
       "    </tr>\n",
       "    <tr>\n",
       "      <th>879</th>\n",
       "      <td>704113298707505153</td>\n",
       "      <td>2016-02-29 01:17:46+00:00</td>\n",
       "      <td>NaN</td>\n",
       "      <td>NaN</td>\n",
       "      <td>False</td>\n",
       "      <td>594</td>\n",
       "      <td>1923</td>\n",
       "      <td>http://pbs.twimg.com/media/CcWDTgOUcAA7Ia9.jpg</td>\n",
       "      <td>False</td>\n",
       "      <td>False</td>\n",
       "    </tr>\n",
       "    <tr>\n",
       "      <th>1199</th>\n",
       "      <td>680494726643068929</td>\n",
       "      <td>2015-12-25 21:06:00+00:00</td>\n",
       "      <td>NaN</td>\n",
       "      <td>NaN</td>\n",
       "      <td>False</td>\n",
       "      <td>510</td>\n",
       "      <td>1785</td>\n",
       "      <td>http://pbs.twimg.com/media/CXGaVxOWAAADjhF.jpg</td>\n",
       "      <td>False</td>\n",
       "      <td>False</td>\n",
       "    </tr>\n",
       "  </tbody>\n",
       "</table>\n",
       "</div>"
      ],
      "text/plain": [
       "                tweet_id                created_at  in_reply_to_status_id  \\\n",
       "1456  672877615439593473 2015-12-04 20:38:19+00:00                    NaN   \n",
       "151   819004803107983360 2017-01-11 02:15:36+00:00                    NaN   \n",
       "488   757741869644341248 2016-07-26 00:58:34+00:00                    NaN   \n",
       "879   704113298707505153 2016-02-29 01:17:46+00:00                    NaN   \n",
       "1199  680494726643068929 2015-12-25 21:06:00+00:00                    NaN   \n",
       "\n",
       "      in_reply_to_user_id  is_quote_status  retweet_count  favorite_count  \\\n",
       "1456                  NaN            False            376            1043   \n",
       "151                   NaN            False          39753           91537   \n",
       "488                   NaN            False           3480            7223   \n",
       "879                   NaN            False            594            1923   \n",
       "1199                  NaN            False            510            1785   \n",
       "\n",
       "                                             jpg_url  retweeted  favorited  \n",
       "1456  http://pbs.twimg.com/media/CVaKn75XAAEU09u.jpg      False      False  \n",
       "151   http://pbs.twimg.com/media/C12whDoVEAALRxa.jpg      False      False  \n",
       "488   http://pbs.twimg.com/media/CoQKNY7XYAE_cuX.jpg      False      False  \n",
       "879   http://pbs.twimg.com/media/CcWDTgOUcAA7Ia9.jpg      False      False  \n",
       "1199  http://pbs.twimg.com/media/CXGaVxOWAAADjhF.jpg      False      False  "
      ]
     },
     "execution_count": 151,
     "metadata": {},
     "output_type": "execute_result"
    }
   ],
   "source": [
    "df_api_clean.sample(5)"
   ]
  },
  {
   "cell_type": "markdown",
   "metadata": {},
   "source": [
    "<a id=\"limpeza:tweets-api:info\"></a>\n",
    "\n",
    "### 4. [Valor do id na coluna `in_reply_to_status_id` e `in_reply_to_user_id` como `float`](#limpeza:tweets-api:info)\n",
    "* Converter para Inteiro as colunas `in_reply_to_status_id` e `in_reply_to_user_id` e atribuir np.nan as que estiverem sem valor"
   ]
  },
  {
   "cell_type": "code",
   "execution_count": 156,
   "metadata": {},
   "outputs": [
    {
     "data": {
      "text/plain": [
       "8.558181e+17    1\n",
       "6.717299e+17    1\n",
       "6.747934e+17    1\n",
       "6.747522e+17    1\n",
       "7.468859e+17    1\n",
       "6.706684e+17    1\n",
       "6.844811e+17    1\n",
       "6.749998e+17    1\n",
       "6.842229e+17    1\n",
       "7.291135e+17    1\n",
       "6.753494e+17    1\n",
       "6.754971e+17    1\n",
       "6.715610e+17    1\n",
       "7.030419e+17    1\n",
       "6.757073e+17    1\n",
       "7.590995e+17    1\n",
       "6.914169e+17    1\n",
       "7.032559e+17    1\n",
       "6.678065e+17    1\n",
       "6.671522e+17    1\n",
       "6.920419e+17    1\n",
       "7.331095e+17    1\n",
       "Name: in_reply_to_status_id, dtype: int64"
      ]
     },
     "execution_count": 156,
     "metadata": {},
     "output_type": "execute_result"
    }
   ],
   "source": [
    "df_api_clean.in_reply_to_status_id.value_counts()"
   ]
  },
  {
   "cell_type": "markdown",
   "metadata": {},
   "source": [
    "------\n",
    "<a id=\"armazenamento\"></a>\n",
    "\n",
    "# Armazenamento"
   ]
  },
  {
   "cell_type": "markdown",
   "metadata": {},
   "source": [
    "# Relatórios"
   ]
  },
  {
   "cell_type": "markdown",
   "metadata": {},
   "source": [
    "* Data wrangling efforts\n",
    "* Analyses and visualizations"
   ]
  }
 ],
 "metadata": {
  "kernelspec": {
   "display_name": "Python 3",
   "language": "python",
   "name": "python3"
  },
  "language_info": {
   "codemirror_mode": {
    "name": "ipython",
    "version": 3
   },
   "file_extension": ".py",
   "mimetype": "text/x-python",
   "name": "python",
   "nbconvert_exporter": "python",
   "pygments_lexer": "ipython3",
   "version": "3.6.8"
  }
 },
 "nbformat": 4,
 "nbformat_minor": 2
}
