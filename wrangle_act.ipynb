{
 "cells": [
  {
   "cell_type": "code",
   "execution_count": 189,
   "metadata": {},
   "outputs": [],
   "source": [
    "import pandas as pd\n",
    "import numpy as np\n",
    "import requests\n",
    "import tweepy\n",
    "import json\n",
    "import os\n",
    "import re\n",
    "from IPython.display import clear_output"
   ]
  },
  {
   "cell_type": "markdown",
   "metadata": {},
   "source": [
    "------\n",
    "<a id=\"indice\"></a>\n",
    "\n",
    "# Índice"
   ]
  },
  {
   "cell_type": "markdown",
   "metadata": {},
   "source": [
    "1. **[Coleta](#coleta)**\n",
    "    * [Twitter Archive](#coleta:twitter-archive)\n",
    "    * [Image Prediction](#coleta:image-prediction)\n",
    "    * [Twitter API](#coleta:twitter-api)\n",
    "    \n",
    "    \n",
    "2. **[Avaliação](#avaliacao)**\n",
    "    * [Twitter Archive](#avaliacao:twitter-archive)\n",
    "    * [Image Prediction](#avaliacao:image-prediction)\n",
    "    * [Twitter API](#avaliacao:twitter-api)\n",
    "    * [Notas da avaliação](#avaliacao:anotacoes)\n",
    "    \n",
    "    \n",
    "3. **[Limpeza](#limpeza)**\n",
    "    * [Definição](#limpeza:definicao)\n",
    "    * [Twitter Archive](#limpeza:twitter-archive)\n",
    "    * [Image Prediction](#limpeza:image-prediction)\n",
    "    * [Twitter API](#limpeza:twitter-api)\n",
    "\n",
    "\n",
    "4. **[Armazenamento](#armazenamento)**"
   ]
  },
  {
   "cell_type": "markdown",
   "metadata": {},
   "source": [
    "------\n",
    "<a id=\"coleta\"></a>"
   ]
  },
  {
   "cell_type": "markdown",
   "metadata": {},
   "source": [
    "# Coleta"
   ]
  },
  {
   "cell_type": "markdown",
   "metadata": {},
   "source": [
    "<a id=\"coleta:twitter-archive\"></a>"
   ]
  },
  {
   "cell_type": "markdown",
   "metadata": {},
   "source": [
    "## Coleta: Twitter archive"
   ]
  },
  {
   "cell_type": "code",
   "execution_count": 2,
   "metadata": {},
   "outputs": [
    {
     "data": {
      "text/html": [
       "<div>\n",
       "<style scoped>\n",
       "    .dataframe tbody tr th:only-of-type {\n",
       "        vertical-align: middle;\n",
       "    }\n",
       "\n",
       "    .dataframe tbody tr th {\n",
       "        vertical-align: top;\n",
       "    }\n",
       "\n",
       "    .dataframe thead th {\n",
       "        text-align: right;\n",
       "    }\n",
       "</style>\n",
       "<table border=\"1\" class=\"dataframe\">\n",
       "  <thead>\n",
       "    <tr style=\"text-align: right;\">\n",
       "      <th></th>\n",
       "      <th>tweet_id</th>\n",
       "      <th>in_reply_to_status_id</th>\n",
       "      <th>in_reply_to_user_id</th>\n",
       "      <th>timestamp</th>\n",
       "      <th>source</th>\n",
       "      <th>text</th>\n",
       "      <th>retweeted_status_id</th>\n",
       "      <th>retweeted_status_user_id</th>\n",
       "      <th>retweeted_status_timestamp</th>\n",
       "      <th>expanded_urls</th>\n",
       "      <th>rating_numerator</th>\n",
       "      <th>rating_denominator</th>\n",
       "      <th>name</th>\n",
       "      <th>doggo</th>\n",
       "      <th>floofer</th>\n",
       "      <th>pupper</th>\n",
       "      <th>puppo</th>\n",
       "    </tr>\n",
       "  </thead>\n",
       "  <tbody>\n",
       "    <tr>\n",
       "      <th>297</th>\n",
       "      <td>837110210464448512</td>\n",
       "      <td>NaN</td>\n",
       "      <td>NaN</td>\n",
       "      <td>2017-03-02 01:20:01 +0000</td>\n",
       "      <td>&lt;a href=\"http://twitter.com/download/iphone\" r...</td>\n",
       "      <td>This is Clark. He passed pupper training today...</td>\n",
       "      <td>NaN</td>\n",
       "      <td>NaN</td>\n",
       "      <td>NaN</td>\n",
       "      <td>https://twitter.com/dog_rates/status/837110210...</td>\n",
       "      <td>13</td>\n",
       "      <td>10</td>\n",
       "      <td>Clark</td>\n",
       "      <td>None</td>\n",
       "      <td>None</td>\n",
       "      <td>pupper</td>\n",
       "      <td>None</td>\n",
       "    </tr>\n",
       "    <tr>\n",
       "      <th>246</th>\n",
       "      <td>845677943972139009</td>\n",
       "      <td>NaN</td>\n",
       "      <td>NaN</td>\n",
       "      <td>2017-03-25 16:45:08 +0000</td>\n",
       "      <td>&lt;a href=\"http://twitter.com/download/iphone\" r...</td>\n",
       "      <td>C'mon guys. Please only send in dogs. We only ...</td>\n",
       "      <td>NaN</td>\n",
       "      <td>NaN</td>\n",
       "      <td>NaN</td>\n",
       "      <td>https://twitter.com/dog_rates/status/845677943...</td>\n",
       "      <td>12</td>\n",
       "      <td>10</td>\n",
       "      <td>None</td>\n",
       "      <td>None</td>\n",
       "      <td>None</td>\n",
       "      <td>None</td>\n",
       "      <td>None</td>\n",
       "    </tr>\n",
       "  </tbody>\n",
       "</table>\n",
       "</div>"
      ],
      "text/plain": [
       "               tweet_id  in_reply_to_status_id  in_reply_to_user_id  \\\n",
       "297  837110210464448512                    NaN                  NaN   \n",
       "246  845677943972139009                    NaN                  NaN   \n",
       "\n",
       "                     timestamp  \\\n",
       "297  2017-03-02 01:20:01 +0000   \n",
       "246  2017-03-25 16:45:08 +0000   \n",
       "\n",
       "                                                source  \\\n",
       "297  <a href=\"http://twitter.com/download/iphone\" r...   \n",
       "246  <a href=\"http://twitter.com/download/iphone\" r...   \n",
       "\n",
       "                                                  text  retweeted_status_id  \\\n",
       "297  This is Clark. He passed pupper training today...                  NaN   \n",
       "246  C'mon guys. Please only send in dogs. We only ...                  NaN   \n",
       "\n",
       "     retweeted_status_user_id retweeted_status_timestamp  \\\n",
       "297                       NaN                        NaN   \n",
       "246                       NaN                        NaN   \n",
       "\n",
       "                                         expanded_urls  rating_numerator  \\\n",
       "297  https://twitter.com/dog_rates/status/837110210...                13   \n",
       "246  https://twitter.com/dog_rates/status/845677943...                12   \n",
       "\n",
       "     rating_denominator   name doggo floofer  pupper puppo  \n",
       "297                  10  Clark  None    None  pupper  None  \n",
       "246                  10   None  None    None    None  None  "
      ]
     },
     "execution_count": 2,
     "metadata": {},
     "output_type": "execute_result"
    }
   ],
   "source": [
    "df_twitter_arc = pd.read_csv('data/twitter-archive-enhanced.csv')\n",
    "df_twitter_arc.sample(2)"
   ]
  },
  {
   "cell_type": "markdown",
   "metadata": {},
   "source": [
    "<a id=\"coleta:image-prediction\"></a>"
   ]
  },
  {
   "cell_type": "markdown",
   "metadata": {},
   "source": [
    "## Coleta: Image prediction"
   ]
  },
  {
   "cell_type": "code",
   "execution_count": 3,
   "metadata": {},
   "outputs": [],
   "source": [
    "df_prediction = None\n",
    "\n",
    "r = requests.get('https://d17h27t6h515a5.cloudfront.net/topher/2017/August/599fd2ad_image-predictions/image-predictions.tsv')\n",
    "\n",
    "if r.status_code is 200:\n",
    "    df_prediction = pd.read_csv(pd.compat.StringIO(r.text), sep='\\t')    \n",
    "else:    \n",
    "    print('ERROR: Image prediction request returned {status_code} status code.'.format(status_code = r.status_code))"
   ]
  },
  {
   "cell_type": "code",
   "execution_count": 4,
   "metadata": {},
   "outputs": [
    {
     "data": {
      "text/html": [
       "<div>\n",
       "<style scoped>\n",
       "    .dataframe tbody tr th:only-of-type {\n",
       "        vertical-align: middle;\n",
       "    }\n",
       "\n",
       "    .dataframe tbody tr th {\n",
       "        vertical-align: top;\n",
       "    }\n",
       "\n",
       "    .dataframe thead th {\n",
       "        text-align: right;\n",
       "    }\n",
       "</style>\n",
       "<table border=\"1\" class=\"dataframe\">\n",
       "  <thead>\n",
       "    <tr style=\"text-align: right;\">\n",
       "      <th></th>\n",
       "      <th>tweet_id</th>\n",
       "      <th>jpg_url</th>\n",
       "      <th>img_num</th>\n",
       "      <th>p1</th>\n",
       "      <th>p1_conf</th>\n",
       "      <th>p1_dog</th>\n",
       "      <th>p2</th>\n",
       "      <th>p2_conf</th>\n",
       "      <th>p2_dog</th>\n",
       "      <th>p3</th>\n",
       "      <th>p3_conf</th>\n",
       "      <th>p3_dog</th>\n",
       "    </tr>\n",
       "  </thead>\n",
       "  <tbody>\n",
       "    <tr>\n",
       "      <th>1350</th>\n",
       "      <td>759793422261743616</td>\n",
       "      <td>https://pbs.twimg.com/media/CotUFZEWcAA2Pku.jpg</td>\n",
       "      <td>2</td>\n",
       "      <td>golden_retriever</td>\n",
       "      <td>0.985876</td>\n",
       "      <td>True</td>\n",
       "      <td>Labrador_retriever</td>\n",
       "      <td>0.001948</td>\n",
       "      <td>True</td>\n",
       "      <td>kuvasz</td>\n",
       "      <td>0.001752</td>\n",
       "      <td>True</td>\n",
       "    </tr>\n",
       "    <tr>\n",
       "      <th>1121</th>\n",
       "      <td>726887082820554753</td>\n",
       "      <td>https://pbs.twimg.com/media/ChZr8SdWIAAVQKt.jpg</td>\n",
       "      <td>1</td>\n",
       "      <td>soft-coated_wheaten_terrier</td>\n",
       "      <td>0.515919</td>\n",
       "      <td>True</td>\n",
       "      <td>Irish_terrier</td>\n",
       "      <td>0.162655</td>\n",
       "      <td>True</td>\n",
       "      <td>Chesapeake_Bay_retriever</td>\n",
       "      <td>0.125182</td>\n",
       "      <td>True</td>\n",
       "    </tr>\n",
       "  </tbody>\n",
       "</table>\n",
       "</div>"
      ],
      "text/plain": [
       "                tweet_id                                          jpg_url  \\\n",
       "1350  759793422261743616  https://pbs.twimg.com/media/CotUFZEWcAA2Pku.jpg   \n",
       "1121  726887082820554753  https://pbs.twimg.com/media/ChZr8SdWIAAVQKt.jpg   \n",
       "\n",
       "      img_num                           p1   p1_conf  p1_dog  \\\n",
       "1350        2             golden_retriever  0.985876    True   \n",
       "1121        1  soft-coated_wheaten_terrier  0.515919    True   \n",
       "\n",
       "                      p2   p2_conf  p2_dog                        p3  \\\n",
       "1350  Labrador_retriever  0.001948    True                    kuvasz   \n",
       "1121       Irish_terrier  0.162655    True  Chesapeake_Bay_retriever   \n",
       "\n",
       "       p3_conf  p3_dog  \n",
       "1350  0.001752    True  \n",
       "1121  0.125182    True  "
      ]
     },
     "execution_count": 4,
     "metadata": {},
     "output_type": "execute_result"
    }
   ],
   "source": [
    "df_prediction.sample(2)"
   ]
  },
  {
   "cell_type": "markdown",
   "metadata": {},
   "source": [
    "<a id=\"coleta:twitter-api\"></a>"
   ]
  },
  {
   "cell_type": "markdown",
   "metadata": {},
   "source": [
    "## Coleta: Twitter API"
   ]
  },
  {
   "cell_type": "code",
   "execution_count": 5,
   "metadata": {},
   "outputs": [],
   "source": [
    "# Carregar configuração do Twitter App\n",
    "with open('twitter_config.json', 'r', encoding='utf-8') as file:\n",
    "    app_config = json.load(file)"
   ]
  },
  {
   "cell_type": "code",
   "execution_count": 6,
   "metadata": {},
   "outputs": [],
   "source": [
    "# Atribuição da configurações a variaveis locais\n",
    "api_key = app_config['api_key']\n",
    "api_secret = app_config['api_secret']\n",
    "access_token = app_config['access_token']\n",
    "access_secret = app_config['access_secret']"
   ]
  },
  {
   "cell_type": "code",
   "execution_count": 7,
   "metadata": {},
   "outputs": [],
   "source": [
    "# Autentificação ao Twitter App\n",
    "auth = tweepy.OAuthHandler(api_key, api_secret)\n",
    "auth.set_access_token(access_token, access_secret)\n",
    "\n",
    "api = tweepy.API(auth, wait_on_rate_limit=True, wait_on_rate_limit_notify=True)"
   ]
  },
  {
   "cell_type": "markdown",
   "metadata": {},
   "source": [
    "Buscar dados do histórico de Tweets na API"
   ]
  },
  {
   "cell_type": "code",
   "execution_count": 8,
   "metadata": {},
   "outputs": [
    {
     "name": "stdout",
     "output_type": "stream",
     "text": [
      "Dados já salvos em disco, não serão executadas novas requisições à API do Twitter.\n"
     ]
    }
   ],
   "source": [
    "json_path = 'data/tweet_json.txt'\n",
    "error_log = 'data/tweet_error.log'\n",
    "\n",
    "# Salvar Tweets localmente\n",
    "if(not os.path.isfile(json_path)):\n",
    "    print('Aguarde. Dado o volume de requisições, a coleta de tweets pode demorar alguns minutos.')\n",
    "    tweet_count = 0\n",
    "    for tweet_id in df_twitter_arc.tweet_id:\n",
    "        print('{percent}%'.format(percent=int((++tweet_count/df_twitter_arc.tweet_id.size)*100)))\n",
    "        try:\n",
    "            status = api.get_status(tweet_id)\n",
    "            with open(json_path, 'a', newline='\\n') as file:\n",
    "                file.write(f'{json.dumps(status._json)}\\n')\n",
    "\n",
    "        except Exception as err:\n",
    "            with open(error_log, 'a', newline='\\n') as log:\n",
    "                log.write(f'{str(tweet_id)}: {str(err.args[0])}\\n')\n",
    "            print(f'{str(tweet_id)}: {str(err.args[0])}')\n",
    "        \n",
    "        clear_output(wait=True)\n",
    "else:\n",
    "    print('Dados já salvos em disco, não serão executadas novas requisições à API do Twitter.')\n",
    "        "
   ]
  },
  {
   "cell_type": "code",
   "execution_count": 9,
   "metadata": {},
   "outputs": [],
   "source": [
    "# Criar uma lista de Dictionaries com os Tweets carregados\n",
    "tweets = []\n",
    "\n",
    "with open(json_path, 'r') as file:\n",
    "    for line in file:\n",
    "        try:\n",
    "            tweet = json.loads(line)\n",
    "            \n",
    "            if(tweet.get('entities', False)):\n",
    "                if(tweet['entities'].get('media', False) and tweet['entities']['media'][0].get('media_url', False)):\n",
    "                    tweets.append({\n",
    "                        'id': tweet['id'],\n",
    "                        'created_at': tweet['created_at'],\n",
    "                        'in_reply_to_status_id': tweet['in_reply_to_status_id'],\n",
    "                        'in_reply_to_user_id': tweet['in_reply_to_user_id'],\n",
    "                        'is_quote_status': tweet['is_quote_status'],\n",
    "                        'retweet_count': tweet['retweet_count'],\n",
    "                        'favorite_count': tweet['favorite_count'],\n",
    "                        'media_url': tweet['entities']['media'][0]['media_url'],\n",
    "                        'retweeted': tweet['retweeted'],\n",
    "                        'favorited': tweet['favorited']\n",
    "                    })\n",
    "            \n",
    "            \n",
    "        except Exception as e:\n",
    "            print(e) \n",
    "            \n",
    "        "
   ]
  },
  {
   "cell_type": "code",
   "execution_count": 10,
   "metadata": {},
   "outputs": [],
   "source": [
    "# Criar dataframe de Tweets consultados na API\n",
    "columns = tweets[0].keys()\n",
    "df_tweets_api = pd.DataFrame(tweets, columns = columns)"
   ]
  },
  {
   "cell_type": "markdown",
   "metadata": {},
   "source": [
    "------\n",
    "<a id=\"avaliacao\"></a>\n",
    "\n",
    "# Avaliação"
   ]
  },
  {
   "cell_type": "markdown",
   "metadata": {},
   "source": [
    "<a id=\"avaliacao:twitter-archive\"></a>\n",
    "\n",
    "## Avaliação: Twitter data archive"
   ]
  },
  {
   "cell_type": "code",
   "execution_count": 11,
   "metadata": {},
   "outputs": [
    {
     "data": {
      "text/html": [
       "<div>\n",
       "<style scoped>\n",
       "    .dataframe tbody tr th:only-of-type {\n",
       "        vertical-align: middle;\n",
       "    }\n",
       "\n",
       "    .dataframe tbody tr th {\n",
       "        vertical-align: top;\n",
       "    }\n",
       "\n",
       "    .dataframe thead th {\n",
       "        text-align: right;\n",
       "    }\n",
       "</style>\n",
       "<table border=\"1\" class=\"dataframe\">\n",
       "  <thead>\n",
       "    <tr style=\"text-align: right;\">\n",
       "      <th></th>\n",
       "      <th>tweet_id</th>\n",
       "      <th>in_reply_to_status_id</th>\n",
       "      <th>in_reply_to_user_id</th>\n",
       "      <th>timestamp</th>\n",
       "      <th>source</th>\n",
       "      <th>text</th>\n",
       "      <th>retweeted_status_id</th>\n",
       "      <th>retweeted_status_user_id</th>\n",
       "      <th>retweeted_status_timestamp</th>\n",
       "      <th>expanded_urls</th>\n",
       "      <th>rating_numerator</th>\n",
       "      <th>rating_denominator</th>\n",
       "      <th>name</th>\n",
       "      <th>doggo</th>\n",
       "      <th>floofer</th>\n",
       "      <th>pupper</th>\n",
       "      <th>puppo</th>\n",
       "    </tr>\n",
       "  </thead>\n",
       "  <tbody>\n",
       "    <tr>\n",
       "      <th>195</th>\n",
       "      <td>855138241867124737</td>\n",
       "      <td>NaN</td>\n",
       "      <td>NaN</td>\n",
       "      <td>2017-04-20 19:16:59 +0000</td>\n",
       "      <td>&lt;a href=\"http://twitter.com/download/iphone\" r...</td>\n",
       "      <td>RT @frasercampbell_: oh my... what's that... b...</td>\n",
       "      <td>8.551225e+17</td>\n",
       "      <td>7.475543e+17</td>\n",
       "      <td>2017-04-20 18:14:33 +0000</td>\n",
       "      <td>https://twitter.com/frasercampbell_/status/855...</td>\n",
       "      <td>14</td>\n",
       "      <td>10</td>\n",
       "      <td>None</td>\n",
       "      <td>None</td>\n",
       "      <td>None</td>\n",
       "      <td>None</td>\n",
       "      <td>None</td>\n",
       "    </tr>\n",
       "    <tr>\n",
       "      <th>747</th>\n",
       "      <td>779834332596887552</td>\n",
       "      <td>NaN</td>\n",
       "      <td>NaN</td>\n",
       "      <td>2016-09-25 00:06:08 +0000</td>\n",
       "      <td>&lt;a href=\"http://twitter.com/download/iphone\" r...</td>\n",
       "      <td>This is Scout. He really wants to kiss himself...</td>\n",
       "      <td>NaN</td>\n",
       "      <td>NaN</td>\n",
       "      <td>NaN</td>\n",
       "      <td>https://twitter.com/dog_rates/status/779834332...</td>\n",
       "      <td>11</td>\n",
       "      <td>10</td>\n",
       "      <td>Scout</td>\n",
       "      <td>None</td>\n",
       "      <td>None</td>\n",
       "      <td>None</td>\n",
       "      <td>None</td>\n",
       "    </tr>\n",
       "    <tr>\n",
       "      <th>122</th>\n",
       "      <td>869227993411051520</td>\n",
       "      <td>NaN</td>\n",
       "      <td>NaN</td>\n",
       "      <td>2017-05-29 16:24:37 +0000</td>\n",
       "      <td>&lt;a href=\"http://twitter.com/download/iphone\" r...</td>\n",
       "      <td>This is Gizmo. His favorite thing is standing ...</td>\n",
       "      <td>NaN</td>\n",
       "      <td>NaN</td>\n",
       "      <td>NaN</td>\n",
       "      <td>https://twitter.com/dog_rates/status/869227993...</td>\n",
       "      <td>13</td>\n",
       "      <td>10</td>\n",
       "      <td>Gizmo</td>\n",
       "      <td>None</td>\n",
       "      <td>None</td>\n",
       "      <td>None</td>\n",
       "      <td>None</td>\n",
       "    </tr>\n",
       "    <tr>\n",
       "      <th>1830</th>\n",
       "      <td>676219687039057920</td>\n",
       "      <td>NaN</td>\n",
       "      <td>NaN</td>\n",
       "      <td>2015-12-14 01:58:31 +0000</td>\n",
       "      <td>&lt;a href=\"http://twitter.com/download/iphone\" r...</td>\n",
       "      <td>This is Kenneth. He's stuck in a bubble. 10/10...</td>\n",
       "      <td>NaN</td>\n",
       "      <td>NaN</td>\n",
       "      <td>NaN</td>\n",
       "      <td>https://twitter.com/dog_rates/status/676219687...</td>\n",
       "      <td>10</td>\n",
       "      <td>10</td>\n",
       "      <td>Kenneth</td>\n",
       "      <td>None</td>\n",
       "      <td>None</td>\n",
       "      <td>None</td>\n",
       "      <td>None</td>\n",
       "    </tr>\n",
       "    <tr>\n",
       "      <th>916</th>\n",
       "      <td>756998049151549440</td>\n",
       "      <td>NaN</td>\n",
       "      <td>NaN</td>\n",
       "      <td>2016-07-23 23:42:53 +0000</td>\n",
       "      <td>&lt;a href=\"http://twitter.com/download/iphone\" r...</td>\n",
       "      <td>This is Oliver. He's an English Creamschnitzel...</td>\n",
       "      <td>NaN</td>\n",
       "      <td>NaN</td>\n",
       "      <td>NaN</td>\n",
       "      <td>https://twitter.com/dog_rates/status/756998049...</td>\n",
       "      <td>11</td>\n",
       "      <td>10</td>\n",
       "      <td>Oliver</td>\n",
       "      <td>None</td>\n",
       "      <td>None</td>\n",
       "      <td>None</td>\n",
       "      <td>None</td>\n",
       "    </tr>\n",
       "  </tbody>\n",
       "</table>\n",
       "</div>"
      ],
      "text/plain": [
       "                tweet_id  in_reply_to_status_id  in_reply_to_user_id  \\\n",
       "195   855138241867124737                    NaN                  NaN   \n",
       "747   779834332596887552                    NaN                  NaN   \n",
       "122   869227993411051520                    NaN                  NaN   \n",
       "1830  676219687039057920                    NaN                  NaN   \n",
       "916   756998049151549440                    NaN                  NaN   \n",
       "\n",
       "                      timestamp  \\\n",
       "195   2017-04-20 19:16:59 +0000   \n",
       "747   2016-09-25 00:06:08 +0000   \n",
       "122   2017-05-29 16:24:37 +0000   \n",
       "1830  2015-12-14 01:58:31 +0000   \n",
       "916   2016-07-23 23:42:53 +0000   \n",
       "\n",
       "                                                 source  \\\n",
       "195   <a href=\"http://twitter.com/download/iphone\" r...   \n",
       "747   <a href=\"http://twitter.com/download/iphone\" r...   \n",
       "122   <a href=\"http://twitter.com/download/iphone\" r...   \n",
       "1830  <a href=\"http://twitter.com/download/iphone\" r...   \n",
       "916   <a href=\"http://twitter.com/download/iphone\" r...   \n",
       "\n",
       "                                                   text  retweeted_status_id  \\\n",
       "195   RT @frasercampbell_: oh my... what's that... b...         8.551225e+17   \n",
       "747   This is Scout. He really wants to kiss himself...                  NaN   \n",
       "122   This is Gizmo. His favorite thing is standing ...                  NaN   \n",
       "1830  This is Kenneth. He's stuck in a bubble. 10/10...                  NaN   \n",
       "916   This is Oliver. He's an English Creamschnitzel...                  NaN   \n",
       "\n",
       "      retweeted_status_user_id retweeted_status_timestamp  \\\n",
       "195               7.475543e+17  2017-04-20 18:14:33 +0000   \n",
       "747                        NaN                        NaN   \n",
       "122                        NaN                        NaN   \n",
       "1830                       NaN                        NaN   \n",
       "916                        NaN                        NaN   \n",
       "\n",
       "                                          expanded_urls  rating_numerator  \\\n",
       "195   https://twitter.com/frasercampbell_/status/855...                14   \n",
       "747   https://twitter.com/dog_rates/status/779834332...                11   \n",
       "122   https://twitter.com/dog_rates/status/869227993...                13   \n",
       "1830  https://twitter.com/dog_rates/status/676219687...                10   \n",
       "916   https://twitter.com/dog_rates/status/756998049...                11   \n",
       "\n",
       "      rating_denominator     name doggo floofer pupper puppo  \n",
       "195                   10     None  None    None   None  None  \n",
       "747                   10    Scout  None    None   None  None  \n",
       "122                   10    Gizmo  None    None   None  None  \n",
       "1830                  10  Kenneth  None    None   None  None  \n",
       "916                   10   Oliver  None    None   None  None  "
      ]
     },
     "execution_count": 11,
     "metadata": {},
     "output_type": "execute_result"
    }
   ],
   "source": [
    " df_twitter_arc.sample(5)"
   ]
  },
  {
   "cell_type": "code",
   "execution_count": 12,
   "metadata": {},
   "outputs": [
    {
     "data": {
      "text/html": [
       "<div>\n",
       "<style scoped>\n",
       "    .dataframe tbody tr th:only-of-type {\n",
       "        vertical-align: middle;\n",
       "    }\n",
       "\n",
       "    .dataframe tbody tr th {\n",
       "        vertical-align: top;\n",
       "    }\n",
       "\n",
       "    .dataframe thead th {\n",
       "        text-align: right;\n",
       "    }\n",
       "</style>\n",
       "<table border=\"1\" class=\"dataframe\">\n",
       "  <thead>\n",
       "    <tr style=\"text-align: right;\">\n",
       "      <th></th>\n",
       "      <th>tweet_id</th>\n",
       "      <th>in_reply_to_status_id</th>\n",
       "      <th>in_reply_to_user_id</th>\n",
       "      <th>retweeted_status_id</th>\n",
       "      <th>retweeted_status_user_id</th>\n",
       "      <th>rating_numerator</th>\n",
       "      <th>rating_denominator</th>\n",
       "    </tr>\n",
       "  </thead>\n",
       "  <tbody>\n",
       "    <tr>\n",
       "      <th>count</th>\n",
       "      <td>2.356000e+03</td>\n",
       "      <td>7.800000e+01</td>\n",
       "      <td>7.800000e+01</td>\n",
       "      <td>1.810000e+02</td>\n",
       "      <td>1.810000e+02</td>\n",
       "      <td>2356.000000</td>\n",
       "      <td>2356.000000</td>\n",
       "    </tr>\n",
       "    <tr>\n",
       "      <th>mean</th>\n",
       "      <td>7.427716e+17</td>\n",
       "      <td>7.455079e+17</td>\n",
       "      <td>2.014171e+16</td>\n",
       "      <td>7.720400e+17</td>\n",
       "      <td>1.241698e+16</td>\n",
       "      <td>13.126486</td>\n",
       "      <td>10.455433</td>\n",
       "    </tr>\n",
       "    <tr>\n",
       "      <th>std</th>\n",
       "      <td>6.856705e+16</td>\n",
       "      <td>7.582492e+16</td>\n",
       "      <td>1.252797e+17</td>\n",
       "      <td>6.236928e+16</td>\n",
       "      <td>9.599254e+16</td>\n",
       "      <td>45.876648</td>\n",
       "      <td>6.745237</td>\n",
       "    </tr>\n",
       "    <tr>\n",
       "      <th>min</th>\n",
       "      <td>6.660209e+17</td>\n",
       "      <td>6.658147e+17</td>\n",
       "      <td>1.185634e+07</td>\n",
       "      <td>6.661041e+17</td>\n",
       "      <td>7.832140e+05</td>\n",
       "      <td>0.000000</td>\n",
       "      <td>0.000000</td>\n",
       "    </tr>\n",
       "    <tr>\n",
       "      <th>25%</th>\n",
       "      <td>6.783989e+17</td>\n",
       "      <td>6.757419e+17</td>\n",
       "      <td>3.086374e+08</td>\n",
       "      <td>7.186315e+17</td>\n",
       "      <td>4.196984e+09</td>\n",
       "      <td>10.000000</td>\n",
       "      <td>10.000000</td>\n",
       "    </tr>\n",
       "    <tr>\n",
       "      <th>50%</th>\n",
       "      <td>7.196279e+17</td>\n",
       "      <td>7.038708e+17</td>\n",
       "      <td>4.196984e+09</td>\n",
       "      <td>7.804657e+17</td>\n",
       "      <td>4.196984e+09</td>\n",
       "      <td>11.000000</td>\n",
       "      <td>10.000000</td>\n",
       "    </tr>\n",
       "    <tr>\n",
       "      <th>75%</th>\n",
       "      <td>7.993373e+17</td>\n",
       "      <td>8.257804e+17</td>\n",
       "      <td>4.196984e+09</td>\n",
       "      <td>8.203146e+17</td>\n",
       "      <td>4.196984e+09</td>\n",
       "      <td>12.000000</td>\n",
       "      <td>10.000000</td>\n",
       "    </tr>\n",
       "    <tr>\n",
       "      <th>max</th>\n",
       "      <td>8.924206e+17</td>\n",
       "      <td>8.862664e+17</td>\n",
       "      <td>8.405479e+17</td>\n",
       "      <td>8.874740e+17</td>\n",
       "      <td>7.874618e+17</td>\n",
       "      <td>1776.000000</td>\n",
       "      <td>170.000000</td>\n",
       "    </tr>\n",
       "  </tbody>\n",
       "</table>\n",
       "</div>"
      ],
      "text/plain": [
       "           tweet_id  in_reply_to_status_id  in_reply_to_user_id  \\\n",
       "count  2.356000e+03           7.800000e+01         7.800000e+01   \n",
       "mean   7.427716e+17           7.455079e+17         2.014171e+16   \n",
       "std    6.856705e+16           7.582492e+16         1.252797e+17   \n",
       "min    6.660209e+17           6.658147e+17         1.185634e+07   \n",
       "25%    6.783989e+17           6.757419e+17         3.086374e+08   \n",
       "50%    7.196279e+17           7.038708e+17         4.196984e+09   \n",
       "75%    7.993373e+17           8.257804e+17         4.196984e+09   \n",
       "max    8.924206e+17           8.862664e+17         8.405479e+17   \n",
       "\n",
       "       retweeted_status_id  retweeted_status_user_id  rating_numerator  \\\n",
       "count         1.810000e+02              1.810000e+02       2356.000000   \n",
       "mean          7.720400e+17              1.241698e+16         13.126486   \n",
       "std           6.236928e+16              9.599254e+16         45.876648   \n",
       "min           6.661041e+17              7.832140e+05          0.000000   \n",
       "25%           7.186315e+17              4.196984e+09         10.000000   \n",
       "50%           7.804657e+17              4.196984e+09         11.000000   \n",
       "75%           8.203146e+17              4.196984e+09         12.000000   \n",
       "max           8.874740e+17              7.874618e+17       1776.000000   \n",
       "\n",
       "       rating_denominator  \n",
       "count         2356.000000  \n",
       "mean            10.455433  \n",
       "std              6.745237  \n",
       "min              0.000000  \n",
       "25%             10.000000  \n",
       "50%             10.000000  \n",
       "75%             10.000000  \n",
       "max            170.000000  "
      ]
     },
     "execution_count": 12,
     "metadata": {},
     "output_type": "execute_result"
    }
   ],
   "source": [
    "df_twitter_arc.describe()"
   ]
  },
  {
   "cell_type": "code",
   "execution_count": 13,
   "metadata": {},
   "outputs": [
    {
     "name": "stdout",
     "output_type": "stream",
     "text": [
      "<class 'pandas.core.frame.DataFrame'>\n",
      "RangeIndex: 2356 entries, 0 to 2355\n",
      "Data columns (total 17 columns):\n",
      "tweet_id                      2356 non-null int64\n",
      "in_reply_to_status_id         78 non-null float64\n",
      "in_reply_to_user_id           78 non-null float64\n",
      "timestamp                     2356 non-null object\n",
      "source                        2356 non-null object\n",
      "text                          2356 non-null object\n",
      "retweeted_status_id           181 non-null float64\n",
      "retweeted_status_user_id      181 non-null float64\n",
      "retweeted_status_timestamp    181 non-null object\n",
      "expanded_urls                 2297 non-null object\n",
      "rating_numerator              2356 non-null int64\n",
      "rating_denominator            2356 non-null int64\n",
      "name                          2356 non-null object\n",
      "doggo                         2356 non-null object\n",
      "floofer                       2356 non-null object\n",
      "pupper                        2356 non-null object\n",
      "puppo                         2356 non-null object\n",
      "dtypes: float64(4), int64(3), object(10)\n",
      "memory usage: 313.0+ KB\n"
     ]
    }
   ],
   "source": [
    "df_twitter_arc.info()"
   ]
  },
  {
   "cell_type": "markdown",
   "metadata": {},
   "source": [
    "<a id=\"twitter-arc:info\"></a>\n",
    "* Dados incompletos, contém apenas 2356 registros dos 5000 anunciados\n",
    "* `in_reply_to_status_id`, `in_reply_to_user_id`, `retweeted_status_id` e `retweeted_status_user_id` em `float`\n",
    "* `timestamp` e `retweeted_status_timestamp` em `string`"
   ]
  },
  {
   "cell_type": "code",
   "execution_count": 14,
   "metadata": {},
   "outputs": [
    {
     "data": {
      "text/html": [
       "<div>\n",
       "<style scoped>\n",
       "    .dataframe tbody tr th:only-of-type {\n",
       "        vertical-align: middle;\n",
       "    }\n",
       "\n",
       "    .dataframe tbody tr th {\n",
       "        vertical-align: top;\n",
       "    }\n",
       "\n",
       "    .dataframe thead th {\n",
       "        text-align: right;\n",
       "    }\n",
       "</style>\n",
       "<table border=\"1\" class=\"dataframe\">\n",
       "  <thead>\n",
       "    <tr style=\"text-align: right;\">\n",
       "      <th></th>\n",
       "      <th>tweet_id</th>\n",
       "      <th>in_reply_to_status_id</th>\n",
       "      <th>in_reply_to_user_id</th>\n",
       "      <th>timestamp</th>\n",
       "      <th>source</th>\n",
       "      <th>text</th>\n",
       "      <th>retweeted_status_id</th>\n",
       "      <th>retweeted_status_user_id</th>\n",
       "      <th>retweeted_status_timestamp</th>\n",
       "      <th>expanded_urls</th>\n",
       "      <th>rating_numerator</th>\n",
       "      <th>rating_denominator</th>\n",
       "      <th>name</th>\n",
       "      <th>doggo</th>\n",
       "      <th>floofer</th>\n",
       "      <th>pupper</th>\n",
       "      <th>puppo</th>\n",
       "    </tr>\n",
       "  </thead>\n",
       "  <tbody>\n",
       "  </tbody>\n",
       "</table>\n",
       "</div>"
      ],
      "text/plain": [
       "Empty DataFrame\n",
       "Columns: [tweet_id, in_reply_to_status_id, in_reply_to_user_id, timestamp, source, text, retweeted_status_id, retweeted_status_user_id, retweeted_status_timestamp, expanded_urls, rating_numerator, rating_denominator, name, doggo, floofer, pupper, puppo]\n",
       "Index: []"
      ]
     },
     "execution_count": 14,
     "metadata": {},
     "output_type": "execute_result"
    }
   ],
   "source": [
    "# Verificar se há IDs duplicados\n",
    "df_twitter_arc[df_twitter_arc.tweet_id.duplicated()]"
   ]
  },
  {
   "cell_type": "markdown",
   "metadata": {},
   "source": [
    "<a id=\"twitter-arc:source\"></a>"
   ]
  },
  {
   "cell_type": "code",
   "execution_count": 15,
   "metadata": {},
   "outputs": [
    {
     "data": {
      "text/plain": [
       "120     <a href=\"http://twitter.com/download/iphone\" r...\n",
       "1320    <a href=\"http://twitter.com/download/iphone\" r...\n",
       "1600    <a href=\"http://twitter.com/download/iphone\" r...\n",
       "1538    <a href=\"http://twitter.com/download/iphone\" r...\n",
       "2034    <a href=\"http://twitter.com/download/iphone\" r...\n",
       "660     <a href=\"http://twitter.com/download/iphone\" r...\n",
       "1848    <a href=\"http://twitter.com/download/iphone\" r...\n",
       "1568    <a href=\"http://twitter.com/download/iphone\" r...\n",
       "1348    <a href=\"http://twitter.com/download/iphone\" r...\n",
       "832     <a href=\"http://twitter.com/download/iphone\" r...\n",
       "Name: source, dtype: object"
      ]
     },
     "execution_count": 15,
     "metadata": {},
     "output_type": "execute_result"
    }
   ],
   "source": [
    "# Visualizar exemplos de dados da coluna `source`\n",
    "df_twitter_arc.loc[:, 'source'].sample(10)"
   ]
  },
  {
   "cell_type": "markdown",
   "metadata": {},
   "source": [
    "Variável `source` é uma URL para a Aplicação utilizada no tweet, sem valor para a unidade de observação"
   ]
  },
  {
   "cell_type": "markdown",
   "metadata": {},
   "source": [
    "<a id=\"twitter-arc:name\"></a>"
   ]
  },
  {
   "cell_type": "code",
   "execution_count": 16,
   "metadata": {},
   "outputs": [
    {
     "data": {
      "text/plain": [
       "447     Sunny\n",
       "1212    Oscar\n",
       "535      Cali\n",
       "603      None\n",
       "508      None\n",
       "891      Emma\n",
       "1789     None\n",
       "658      None\n",
       "298      None\n",
       "946      None\n",
       "Name: name, dtype: object"
      ]
     },
     "execution_count": 16,
     "metadata": {},
     "output_type": "execute_result"
    }
   ],
   "source": [
    "# Visualizar exemplos da coluna `name`\n",
    "df_twitter_arc.name.sample(10)"
   ]
  },
  {
   "cell_type": "code",
   "execution_count": 17,
   "metadata": {},
   "outputs": [
    {
     "data": {
      "text/plain": [
       "745"
      ]
     },
     "execution_count": 17,
     "metadata": {},
     "output_type": "execute_result"
    }
   ],
   "source": [
    "df_twitter_arc[df_twitter_arc.name == 'None'].name.count()"
   ]
  },
  {
   "cell_type": "markdown",
   "metadata": {},
   "source": [
    "* Nomes (`name`) preenchidos com valor literal igual a `'None'`, supostamente um valor não preenchido, vazio"
   ]
  },
  {
   "cell_type": "markdown",
   "metadata": {},
   "source": [
    "<a id=\"twitter-arc:category\"></id>"
   ]
  },
  {
   "cell_type": "code",
   "execution_count": 18,
   "metadata": {},
   "outputs": [
    {
     "data": {
      "text/html": [
       "<div>\n",
       "<style scoped>\n",
       "    .dataframe tbody tr th:only-of-type {\n",
       "        vertical-align: middle;\n",
       "    }\n",
       "\n",
       "    .dataframe tbody tr th {\n",
       "        vertical-align: top;\n",
       "    }\n",
       "\n",
       "    .dataframe thead th {\n",
       "        text-align: right;\n",
       "    }\n",
       "</style>\n",
       "<table border=\"1\" class=\"dataframe\">\n",
       "  <thead>\n",
       "    <tr style=\"text-align: right;\">\n",
       "      <th></th>\n",
       "      <th>doggo</th>\n",
       "      <th>floofer</th>\n",
       "      <th>pupper</th>\n",
       "      <th>puppo</th>\n",
       "    </tr>\n",
       "  </thead>\n",
       "  <tbody>\n",
       "    <tr>\n",
       "      <th>772</th>\n",
       "      <td>None</td>\n",
       "      <td>None</td>\n",
       "      <td>pupper</td>\n",
       "      <td>None</td>\n",
       "    </tr>\n",
       "    <tr>\n",
       "      <th>646</th>\n",
       "      <td>None</td>\n",
       "      <td>None</td>\n",
       "      <td>None</td>\n",
       "      <td>None</td>\n",
       "    </tr>\n",
       "    <tr>\n",
       "      <th>979</th>\n",
       "      <td>None</td>\n",
       "      <td>None</td>\n",
       "      <td>None</td>\n",
       "      <td>None</td>\n",
       "    </tr>\n",
       "    <tr>\n",
       "      <th>949</th>\n",
       "      <td>None</td>\n",
       "      <td>None</td>\n",
       "      <td>None</td>\n",
       "      <td>None</td>\n",
       "    </tr>\n",
       "    <tr>\n",
       "      <th>1626</th>\n",
       "      <td>None</td>\n",
       "      <td>None</td>\n",
       "      <td>None</td>\n",
       "      <td>None</td>\n",
       "    </tr>\n",
       "    <tr>\n",
       "      <th>1767</th>\n",
       "      <td>None</td>\n",
       "      <td>None</td>\n",
       "      <td>None</td>\n",
       "      <td>None</td>\n",
       "    </tr>\n",
       "    <tr>\n",
       "      <th>2026</th>\n",
       "      <td>None</td>\n",
       "      <td>None</td>\n",
       "      <td>None</td>\n",
       "      <td>None</td>\n",
       "    </tr>\n",
       "    <tr>\n",
       "      <th>710</th>\n",
       "      <td>None</td>\n",
       "      <td>None</td>\n",
       "      <td>None</td>\n",
       "      <td>None</td>\n",
       "    </tr>\n",
       "    <tr>\n",
       "      <th>1852</th>\n",
       "      <td>None</td>\n",
       "      <td>None</td>\n",
       "      <td>None</td>\n",
       "      <td>None</td>\n",
       "    </tr>\n",
       "    <tr>\n",
       "      <th>1474</th>\n",
       "      <td>None</td>\n",
       "      <td>None</td>\n",
       "      <td>None</td>\n",
       "      <td>None</td>\n",
       "    </tr>\n",
       "  </tbody>\n",
       "</table>\n",
       "</div>"
      ],
      "text/plain": [
       "     doggo floofer  pupper puppo\n",
       "772   None    None  pupper  None\n",
       "646   None    None    None  None\n",
       "979   None    None    None  None\n",
       "949   None    None    None  None\n",
       "1626  None    None    None  None\n",
       "1767  None    None    None  None\n",
       "2026  None    None    None  None\n",
       "710   None    None    None  None\n",
       "1852  None    None    None  None\n",
       "1474  None    None    None  None"
      ]
     },
     "execution_count": 18,
     "metadata": {},
     "output_type": "execute_result"
    }
   ],
   "source": [
    "# Visualizar exemplo de dados das colunas 'doggo' a 'puppo'\n",
    "df_twitter_arc.loc[:,'doggo':].sample(10)"
   ]
  },
  {
   "cell_type": "markdown",
   "metadata": {},
   "source": [
    "* Valores não preenchidos como 'None' literal"
   ]
  },
  {
   "cell_type": "markdown",
   "metadata": {},
   "source": [
    "Uma variável em várias colunas"
   ]
  },
  {
   "cell_type": "code",
   "execution_count": 19,
   "metadata": {},
   "outputs": [
    {
     "data": {
      "text/plain": [
       "doggo      2\n",
       "floofer    2\n",
       "pupper     2\n",
       "puppo      2\n",
       "dtype: int64"
      ]
     },
     "execution_count": 19,
     "metadata": {},
     "output_type": "execute_result"
    }
   ],
   "source": [
    "# Verificar padrão no preenchimento das classificações\n",
    "df_twitter_arc.loc[:,'doggo':].nunique()"
   ]
  },
  {
   "cell_type": "code",
   "execution_count": 20,
   "metadata": {},
   "outputs": [
    {
     "data": {
      "text/plain": [
       "doggo      0\n",
       "floofer    0\n",
       "pupper     0\n",
       "puppo      0\n",
       "dtype: int64"
      ]
     },
     "execution_count": 20,
     "metadata": {},
     "output_type": "execute_result"
    }
   ],
   "source": [
    "df_twitter_arc.loc[:, 'doggo':'puppo'].isna().sum()"
   ]
  },
  {
   "cell_type": "markdown",
   "metadata": {},
   "source": [
    "<a id=\"twitter-arc:expanded_urls\"></a>\n",
    "\n",
    "Exemplos da coluna `expanded_urls`"
   ]
  },
  {
   "cell_type": "code",
   "execution_count": 21,
   "metadata": {},
   "outputs": [
    {
     "data": {
      "text/plain": [
       "1839    https://twitter.com/dog_rates/status/675891555...\n",
       "878     https://twitter.com/dog_rates/status/760656994...\n",
       "444     http://us.blastingnews.com/news/2017/01/200-do...\n",
       "1722    https://twitter.com/dog_rates/status/680115823...\n",
       "1048    https://twitter.com/dog_rates/status/743253157...\n",
       "1298    https://twitter.com/dog_rates/status/707741517...\n",
       "739     https://twitter.com/dog_rates/status/780601303...\n",
       "777     https://twitter.com/dog_rates/status/776088319...\n",
       "451     https://twitter.com/dog_rates/status/818627210...\n",
       "591     https://twitter.com/dog_rates/status/799063482...\n",
       "577     https://twitter.com/littlewiewel/status/800852...\n",
       "1164    https://twitter.com/dog_rates/status/723179728...\n",
       "2101    https://twitter.com/dog_rates/status/670691627...\n",
       "278     https://twitter.com/dog_rates/status/840268004...\n",
       "1224    https://twitter.com/dog_rates/status/714214115...\n",
       "1481    https://twitter.com/dog_rates/status/693280720...\n",
       "1144    https://twitter.com/dog_rates/status/727286334...\n",
       "703     https://twitter.com/dog_rates/status/785927819...\n",
       "1877    https://twitter.com/dog_rates/status/675109292...\n",
       "1278                        https://vine.co/v/iHl2UDEBZ95\n",
       "Name: expanded_urls, dtype: object"
      ]
     },
     "execution_count": 21,
     "metadata": {},
     "output_type": "execute_result"
    }
   ],
   "source": [
    "df_twitter_arc.loc[:, 'expanded_urls'].sample(20)"
   ]
  },
  {
   "cell_type": "code",
   "execution_count": 22,
   "metadata": {},
   "outputs": [
    {
     "data": {
      "text/plain": [
       "False    2297\n",
       "True       59\n",
       "Name: expanded_urls, dtype: int64"
      ]
     },
     "execution_count": 22,
     "metadata": {},
     "output_type": "execute_result"
    }
   ],
   "source": [
    "df_twitter_arc.loc[:, 'expanded_urls'].isna().value_counts()"
   ]
  },
  {
   "cell_type": "markdown",
   "metadata": {},
   "source": [
    "* Registros de `expanded_urls` com URLs para os twittes originais. Não apresenta valor a unidade em observacão"
   ]
  },
  {
   "cell_type": "markdown",
   "metadata": {},
   "source": [
    "------\n",
    "<a id=\"avaliacao:image-prediction\"></a>\n",
    "\n",
    "## Avaliação: Image prediction"
   ]
  },
  {
   "cell_type": "code",
   "execution_count": 23,
   "metadata": {},
   "outputs": [
    {
     "data": {
      "text/html": [
       "<div>\n",
       "<style scoped>\n",
       "    .dataframe tbody tr th:only-of-type {\n",
       "        vertical-align: middle;\n",
       "    }\n",
       "\n",
       "    .dataframe tbody tr th {\n",
       "        vertical-align: top;\n",
       "    }\n",
       "\n",
       "    .dataframe thead th {\n",
       "        text-align: right;\n",
       "    }\n",
       "</style>\n",
       "<table border=\"1\" class=\"dataframe\">\n",
       "  <thead>\n",
       "    <tr style=\"text-align: right;\">\n",
       "      <th></th>\n",
       "      <th>tweet_id</th>\n",
       "      <th>img_num</th>\n",
       "      <th>p1_conf</th>\n",
       "      <th>p2_conf</th>\n",
       "      <th>p3_conf</th>\n",
       "    </tr>\n",
       "  </thead>\n",
       "  <tbody>\n",
       "    <tr>\n",
       "      <th>count</th>\n",
       "      <td>2.075000e+03</td>\n",
       "      <td>2075.000000</td>\n",
       "      <td>2075.000000</td>\n",
       "      <td>2.075000e+03</td>\n",
       "      <td>2.075000e+03</td>\n",
       "    </tr>\n",
       "    <tr>\n",
       "      <th>mean</th>\n",
       "      <td>7.384514e+17</td>\n",
       "      <td>1.203855</td>\n",
       "      <td>0.594548</td>\n",
       "      <td>1.345886e-01</td>\n",
       "      <td>6.032417e-02</td>\n",
       "    </tr>\n",
       "    <tr>\n",
       "      <th>std</th>\n",
       "      <td>6.785203e+16</td>\n",
       "      <td>0.561875</td>\n",
       "      <td>0.271174</td>\n",
       "      <td>1.006657e-01</td>\n",
       "      <td>5.090593e-02</td>\n",
       "    </tr>\n",
       "    <tr>\n",
       "      <th>min</th>\n",
       "      <td>6.660209e+17</td>\n",
       "      <td>1.000000</td>\n",
       "      <td>0.044333</td>\n",
       "      <td>1.011300e-08</td>\n",
       "      <td>1.740170e-10</td>\n",
       "    </tr>\n",
       "    <tr>\n",
       "      <th>25%</th>\n",
       "      <td>6.764835e+17</td>\n",
       "      <td>1.000000</td>\n",
       "      <td>0.364412</td>\n",
       "      <td>5.388625e-02</td>\n",
       "      <td>1.622240e-02</td>\n",
       "    </tr>\n",
       "    <tr>\n",
       "      <th>50%</th>\n",
       "      <td>7.119988e+17</td>\n",
       "      <td>1.000000</td>\n",
       "      <td>0.588230</td>\n",
       "      <td>1.181810e-01</td>\n",
       "      <td>4.944380e-02</td>\n",
       "    </tr>\n",
       "    <tr>\n",
       "      <th>75%</th>\n",
       "      <td>7.932034e+17</td>\n",
       "      <td>1.000000</td>\n",
       "      <td>0.843855</td>\n",
       "      <td>1.955655e-01</td>\n",
       "      <td>9.180755e-02</td>\n",
       "    </tr>\n",
       "    <tr>\n",
       "      <th>max</th>\n",
       "      <td>8.924206e+17</td>\n",
       "      <td>4.000000</td>\n",
       "      <td>1.000000</td>\n",
       "      <td>4.880140e-01</td>\n",
       "      <td>2.734190e-01</td>\n",
       "    </tr>\n",
       "  </tbody>\n",
       "</table>\n",
       "</div>"
      ],
      "text/plain": [
       "           tweet_id      img_num      p1_conf       p2_conf       p3_conf\n",
       "count  2.075000e+03  2075.000000  2075.000000  2.075000e+03  2.075000e+03\n",
       "mean   7.384514e+17     1.203855     0.594548  1.345886e-01  6.032417e-02\n",
       "std    6.785203e+16     0.561875     0.271174  1.006657e-01  5.090593e-02\n",
       "min    6.660209e+17     1.000000     0.044333  1.011300e-08  1.740170e-10\n",
       "25%    6.764835e+17     1.000000     0.364412  5.388625e-02  1.622240e-02\n",
       "50%    7.119988e+17     1.000000     0.588230  1.181810e-01  4.944380e-02\n",
       "75%    7.932034e+17     1.000000     0.843855  1.955655e-01  9.180755e-02\n",
       "max    8.924206e+17     4.000000     1.000000  4.880140e-01  2.734190e-01"
      ]
     },
     "execution_count": 23,
     "metadata": {},
     "output_type": "execute_result"
    }
   ],
   "source": [
    "df_prediction.describe()"
   ]
  },
  {
   "cell_type": "markdown",
   "metadata": {},
   "source": [
    "<a id=\"image-prediction:info\"></info>"
   ]
  },
  {
   "cell_type": "code",
   "execution_count": 24,
   "metadata": {},
   "outputs": [
    {
     "name": "stdout",
     "output_type": "stream",
     "text": [
      "<class 'pandas.core.frame.DataFrame'>\n",
      "RangeIndex: 2075 entries, 0 to 2074\n",
      "Data columns (total 12 columns):\n",
      "tweet_id    2075 non-null int64\n",
      "jpg_url     2075 non-null object\n",
      "img_num     2075 non-null int64\n",
      "p1          2075 non-null object\n",
      "p1_conf     2075 non-null float64\n",
      "p1_dog      2075 non-null bool\n",
      "p2          2075 non-null object\n",
      "p2_conf     2075 non-null float64\n",
      "p2_dog      2075 non-null bool\n",
      "p3          2075 non-null object\n",
      "p3_conf     2075 non-null float64\n",
      "p3_dog      2075 non-null bool\n",
      "dtypes: bool(3), float64(3), int64(2), object(4)\n",
      "memory usage: 152.1+ KB\n"
     ]
    }
   ],
   "source": [
    "df_prediction.info()"
   ]
  },
  {
   "cell_type": "code",
   "execution_count": 25,
   "metadata": {},
   "outputs": [
    {
     "data": {
      "text/html": [
       "<div>\n",
       "<style scoped>\n",
       "    .dataframe tbody tr th:only-of-type {\n",
       "        vertical-align: middle;\n",
       "    }\n",
       "\n",
       "    .dataframe tbody tr th {\n",
       "        vertical-align: top;\n",
       "    }\n",
       "\n",
       "    .dataframe thead th {\n",
       "        text-align: right;\n",
       "    }\n",
       "</style>\n",
       "<table border=\"1\" class=\"dataframe\">\n",
       "  <thead>\n",
       "    <tr style=\"text-align: right;\">\n",
       "      <th></th>\n",
       "      <th>tweet_id</th>\n",
       "      <th>jpg_url</th>\n",
       "      <th>img_num</th>\n",
       "      <th>p1</th>\n",
       "      <th>p1_conf</th>\n",
       "      <th>p1_dog</th>\n",
       "      <th>p2</th>\n",
       "      <th>p2_conf</th>\n",
       "      <th>p2_dog</th>\n",
       "      <th>p3</th>\n",
       "      <th>p3_conf</th>\n",
       "      <th>p3_dog</th>\n",
       "    </tr>\n",
       "  </thead>\n",
       "  <tbody>\n",
       "    <tr>\n",
       "      <th>809</th>\n",
       "      <td>692158366030913536</td>\n",
       "      <td>https://pbs.twimg.com/media/CZsKVxfWQAAXy2u.jpg</td>\n",
       "      <td>1</td>\n",
       "      <td>pug</td>\n",
       "      <td>0.956565</td>\n",
       "      <td>True</td>\n",
       "      <td>swing</td>\n",
       "      <td>0.018907</td>\n",
       "      <td>False</td>\n",
       "      <td>toy_poodle</td>\n",
       "      <td>0.013544</td>\n",
       "      <td>True</td>\n",
       "    </tr>\n",
       "    <tr>\n",
       "      <th>966</th>\n",
       "      <td>706291001778950144</td>\n",
       "      <td>https://pbs.twimg.com/media/Cc0_2tXXEAA2iTY.jpg</td>\n",
       "      <td>1</td>\n",
       "      <td>Border_terrier</td>\n",
       "      <td>0.587101</td>\n",
       "      <td>True</td>\n",
       "      <td>bull_mastiff</td>\n",
       "      <td>0.164087</td>\n",
       "      <td>True</td>\n",
       "      <td>Staffordshire_bullterrier</td>\n",
       "      <td>0.105011</td>\n",
       "      <td>True</td>\n",
       "    </tr>\n",
       "    <tr>\n",
       "      <th>993</th>\n",
       "      <td>708119489313951744</td>\n",
       "      <td>https://pbs.twimg.com/media/CdO-6x5W8AENSBJ.jpg</td>\n",
       "      <td>1</td>\n",
       "      <td>Norwich_terrier</td>\n",
       "      <td>0.264483</td>\n",
       "      <td>True</td>\n",
       "      <td>Norfolk_terrier</td>\n",
       "      <td>0.258786</td>\n",
       "      <td>True</td>\n",
       "      <td>chow</td>\n",
       "      <td>0.096899</td>\n",
       "      <td>True</td>\n",
       "    </tr>\n",
       "    <tr>\n",
       "      <th>358</th>\n",
       "      <td>672614745925664768</td>\n",
       "      <td>https://pbs.twimg.com/media/CVWbitUW4AAzclx.jpg</td>\n",
       "      <td>1</td>\n",
       "      <td>starfish</td>\n",
       "      <td>0.712717</td>\n",
       "      <td>False</td>\n",
       "      <td>goldfish</td>\n",
       "      <td>0.258865</td>\n",
       "      <td>False</td>\n",
       "      <td>sea_cucumber</td>\n",
       "      <td>0.002015</td>\n",
       "      <td>False</td>\n",
       "    </tr>\n",
       "    <tr>\n",
       "      <th>726</th>\n",
       "      <td>686358356425093120</td>\n",
       "      <td>https://pbs.twimg.com/media/CYZvRttWYAE_RXc.jpg</td>\n",
       "      <td>1</td>\n",
       "      <td>pug</td>\n",
       "      <td>0.985237</td>\n",
       "      <td>True</td>\n",
       "      <td>bull_mastiff</td>\n",
       "      <td>0.008841</td>\n",
       "      <td>True</td>\n",
       "      <td>boxer</td>\n",
       "      <td>0.002321</td>\n",
       "      <td>True</td>\n",
       "    </tr>\n",
       "    <tr>\n",
       "      <th>904</th>\n",
       "      <td>700143752053182464</td>\n",
       "      <td>https://pbs.twimg.com/media/CbdpBmLUYAY9SgQ.jpg</td>\n",
       "      <td>1</td>\n",
       "      <td>golden_retriever</td>\n",
       "      <td>0.532460</td>\n",
       "      <td>True</td>\n",
       "      <td>crossword_puzzle</td>\n",
       "      <td>0.103796</td>\n",
       "      <td>False</td>\n",
       "      <td>binder</td>\n",
       "      <td>0.100371</td>\n",
       "      <td>False</td>\n",
       "    </tr>\n",
       "    <tr>\n",
       "      <th>1080</th>\n",
       "      <td>718234618122661888</td>\n",
       "      <td>https://pbs.twimg.com/media/CfeukpmW4AEGjOE.jpg</td>\n",
       "      <td>1</td>\n",
       "      <td>malamute</td>\n",
       "      <td>0.370152</td>\n",
       "      <td>True</td>\n",
       "      <td>Siberian_husky</td>\n",
       "      <td>0.356398</td>\n",
       "      <td>True</td>\n",
       "      <td>Eskimo_dog</td>\n",
       "      <td>0.271042</td>\n",
       "      <td>True</td>\n",
       "    </tr>\n",
       "    <tr>\n",
       "      <th>1670</th>\n",
       "      <td>813081950185472002</td>\n",
       "      <td>https://pbs.twimg.com/media/C0ilsa1XUAEHK_k.jpg</td>\n",
       "      <td>2</td>\n",
       "      <td>Doberman</td>\n",
       "      <td>0.909951</td>\n",
       "      <td>True</td>\n",
       "      <td>kelpie</td>\n",
       "      <td>0.042649</td>\n",
       "      <td>True</td>\n",
       "      <td>miniature_pinscher</td>\n",
       "      <td>0.023004</td>\n",
       "      <td>True</td>\n",
       "    </tr>\n",
       "    <tr>\n",
       "      <th>2071</th>\n",
       "      <td>891689557279858688</td>\n",
       "      <td>https://pbs.twimg.com/media/DF_q7IAWsAEuuN8.jpg</td>\n",
       "      <td>1</td>\n",
       "      <td>paper_towel</td>\n",
       "      <td>0.170278</td>\n",
       "      <td>False</td>\n",
       "      <td>Labrador_retriever</td>\n",
       "      <td>0.168086</td>\n",
       "      <td>True</td>\n",
       "      <td>spatula</td>\n",
       "      <td>0.040836</td>\n",
       "      <td>False</td>\n",
       "    </tr>\n",
       "    <tr>\n",
       "      <th>496</th>\n",
       "      <td>675781562965868544</td>\n",
       "      <td>https://pbs.twimg.com/media/CWDbv2yU4AARfeH.jpg</td>\n",
       "      <td>1</td>\n",
       "      <td>Maltese_dog</td>\n",
       "      <td>0.921968</td>\n",
       "      <td>True</td>\n",
       "      <td>West_Highland_white_terrier</td>\n",
       "      <td>0.017811</td>\n",
       "      <td>True</td>\n",
       "      <td>toy_poodle</td>\n",
       "      <td>0.013555</td>\n",
       "      <td>True</td>\n",
       "    </tr>\n",
       "  </tbody>\n",
       "</table>\n",
       "</div>"
      ],
      "text/plain": [
       "                tweet_id                                          jpg_url  \\\n",
       "809   692158366030913536  https://pbs.twimg.com/media/CZsKVxfWQAAXy2u.jpg   \n",
       "966   706291001778950144  https://pbs.twimg.com/media/Cc0_2tXXEAA2iTY.jpg   \n",
       "993   708119489313951744  https://pbs.twimg.com/media/CdO-6x5W8AENSBJ.jpg   \n",
       "358   672614745925664768  https://pbs.twimg.com/media/CVWbitUW4AAzclx.jpg   \n",
       "726   686358356425093120  https://pbs.twimg.com/media/CYZvRttWYAE_RXc.jpg   \n",
       "904   700143752053182464  https://pbs.twimg.com/media/CbdpBmLUYAY9SgQ.jpg   \n",
       "1080  718234618122661888  https://pbs.twimg.com/media/CfeukpmW4AEGjOE.jpg   \n",
       "1670  813081950185472002  https://pbs.twimg.com/media/C0ilsa1XUAEHK_k.jpg   \n",
       "2071  891689557279858688  https://pbs.twimg.com/media/DF_q7IAWsAEuuN8.jpg   \n",
       "496   675781562965868544  https://pbs.twimg.com/media/CWDbv2yU4AARfeH.jpg   \n",
       "\n",
       "      img_num                p1   p1_conf  p1_dog  \\\n",
       "809         1               pug  0.956565    True   \n",
       "966         1    Border_terrier  0.587101    True   \n",
       "993         1   Norwich_terrier  0.264483    True   \n",
       "358         1          starfish  0.712717   False   \n",
       "726         1               pug  0.985237    True   \n",
       "904         1  golden_retriever  0.532460    True   \n",
       "1080        1          malamute  0.370152    True   \n",
       "1670        2          Doberman  0.909951    True   \n",
       "2071        1       paper_towel  0.170278   False   \n",
       "496         1       Maltese_dog  0.921968    True   \n",
       "\n",
       "                               p2   p2_conf  p2_dog  \\\n",
       "809                         swing  0.018907   False   \n",
       "966                  bull_mastiff  0.164087    True   \n",
       "993               Norfolk_terrier  0.258786    True   \n",
       "358                      goldfish  0.258865   False   \n",
       "726                  bull_mastiff  0.008841    True   \n",
       "904              crossword_puzzle  0.103796   False   \n",
       "1080               Siberian_husky  0.356398    True   \n",
       "1670                       kelpie  0.042649    True   \n",
       "2071           Labrador_retriever  0.168086    True   \n",
       "496   West_Highland_white_terrier  0.017811    True   \n",
       "\n",
       "                             p3   p3_conf  p3_dog  \n",
       "809                  toy_poodle  0.013544    True  \n",
       "966   Staffordshire_bullterrier  0.105011    True  \n",
       "993                        chow  0.096899    True  \n",
       "358                sea_cucumber  0.002015   False  \n",
       "726                       boxer  0.002321    True  \n",
       "904                      binder  0.100371   False  \n",
       "1080                 Eskimo_dog  0.271042    True  \n",
       "1670         miniature_pinscher  0.023004    True  \n",
       "2071                    spatula  0.040836   False  \n",
       "496                  toy_poodle  0.013555    True  "
      ]
     },
     "execution_count": 25,
     "metadata": {},
     "output_type": "execute_result"
    }
   ],
   "source": [
    "df_prediction.sample(10)"
   ]
  },
  {
   "cell_type": "markdown",
   "metadata": {},
   "source": [
    "<a id=\"image-prediction:p-values\"></a>\n",
    "\n",
    "Valores não padronizados para as variáveis `p1`, `p2` e `p3`"
   ]
  },
  {
   "cell_type": "code",
   "execution_count": 26,
   "metadata": {},
   "outputs": [
    {
     "data": {
      "text/html": [
       "<div>\n",
       "<style scoped>\n",
       "    .dataframe tbody tr th:only-of-type {\n",
       "        vertical-align: middle;\n",
       "    }\n",
       "\n",
       "    .dataframe tbody tr th {\n",
       "        vertical-align: top;\n",
       "    }\n",
       "\n",
       "    .dataframe thead th {\n",
       "        text-align: right;\n",
       "    }\n",
       "</style>\n",
       "<table border=\"1\" class=\"dataframe\">\n",
       "  <thead>\n",
       "    <tr style=\"text-align: right;\">\n",
       "      <th></th>\n",
       "      <th>p1</th>\n",
       "      <th>p2</th>\n",
       "      <th>p3</th>\n",
       "    </tr>\n",
       "  </thead>\n",
       "  <tbody>\n",
       "    <tr>\n",
       "      <th>263</th>\n",
       "      <td>brown_bear</td>\n",
       "      <td>toy_poodle</td>\n",
       "      <td>miniature_poodle</td>\n",
       "    </tr>\n",
       "    <tr>\n",
       "      <th>1543</th>\n",
       "      <td>Pembroke</td>\n",
       "      <td>Cardigan</td>\n",
       "      <td>basenji</td>\n",
       "    </tr>\n",
       "    <tr>\n",
       "      <th>728</th>\n",
       "      <td>Yorkshire_terrier</td>\n",
       "      <td>silky_terrier</td>\n",
       "      <td>Australian_terrier</td>\n",
       "    </tr>\n",
       "    <tr>\n",
       "      <th>1934</th>\n",
       "      <td>Labrador_retriever</td>\n",
       "      <td>golden_retriever</td>\n",
       "      <td>kuvasz</td>\n",
       "    </tr>\n",
       "    <tr>\n",
       "      <th>2019</th>\n",
       "      <td>golden_retriever</td>\n",
       "      <td>Labrador_retriever</td>\n",
       "      <td>cocker_spaniel</td>\n",
       "    </tr>\n",
       "  </tbody>\n",
       "</table>\n",
       "</div>"
      ],
      "text/plain": [
       "                      p1                  p2                  p3\n",
       "263           brown_bear          toy_poodle    miniature_poodle\n",
       "1543            Pembroke            Cardigan             basenji\n",
       "728    Yorkshire_terrier       silky_terrier  Australian_terrier\n",
       "1934  Labrador_retriever    golden_retriever              kuvasz\n",
       "2019    golden_retriever  Labrador_retriever      cocker_spaniel"
      ]
     },
     "execution_count": 26,
     "metadata": {},
     "output_type": "execute_result"
    }
   ],
   "source": [
    "# Visualização de exemplos de valores nas colunas `p1`, `p2` e `p3`\n",
    "df_prediction.loc[:, ['p1', 'p2', 'p3']].sample(5)"
   ]
  },
  {
   "cell_type": "markdown",
   "metadata": {},
   "source": [
    "<a id=\"image-prediction:duplicated-urls\"></a>\n",
    "\n",
    "Verificar a duplicidade de Tweet ID (`tweet_id`) e Imagens (`jpg_url`)"
   ]
  },
  {
   "cell_type": "code",
   "execution_count": 27,
   "metadata": {},
   "outputs": [
    {
     "data": {
      "text/plain": [
       "2075"
      ]
     },
     "execution_count": 27,
     "metadata": {},
     "output_type": "execute_result"
    }
   ],
   "source": [
    "# Verificar a duplicidade de IDs\n",
    "df_prediction.tweet_id.nunique()"
   ]
  },
  {
   "cell_type": "markdown",
   "metadata": {},
   "source": [
    "Verificar a duplicidade na coluna `jpg_url`"
   ]
  },
  {
   "cell_type": "code",
   "execution_count": 28,
   "metadata": {},
   "outputs": [
    {
     "data": {
      "text/plain": [
       "False    2009\n",
       "True       66\n",
       "Name: jpg_url, dtype: int64"
      ]
     },
     "execution_count": 28,
     "metadata": {},
     "output_type": "execute_result"
    }
   ],
   "source": [
    "df_prediction.jpg_url.duplicated().value_counts()"
   ]
  },
  {
   "cell_type": "markdown",
   "metadata": {},
   "source": [
    "Há 66 imagens duplicadas"
   ]
  },
  {
   "cell_type": "code",
   "execution_count": 29,
   "metadata": {},
   "outputs": [
    {
     "data": {
      "text/plain": [
       "p1_conf    1.000000\n",
       "p2_conf    0.488014\n",
       "p3_conf    0.273419\n",
       "dtype: float64"
      ]
     },
     "execution_count": 29,
     "metadata": {},
     "output_type": "execute_result"
    }
   ],
   "source": [
    "# Validar indicadores de confiabiliade da predição\n",
    "df_prediction.loc[:, ['p1_conf', 'p2_conf', 'p3_conf']].max()"
   ]
  },
  {
   "cell_type": "code",
   "execution_count": null,
   "metadata": {},
   "outputs": [],
   "source": []
  },
  {
   "cell_type": "markdown",
   "metadata": {},
   "source": [
    "------\n",
    "<a id=\"avaliacao:twitter-api\"></a>\n",
    "\n",
    "## Avaliação: Twitter API Requests"
   ]
  },
  {
   "cell_type": "code",
   "execution_count": 30,
   "metadata": {},
   "outputs": [
    {
     "data": {
      "text/html": [
       "<div>\n",
       "<style scoped>\n",
       "    .dataframe tbody tr th:only-of-type {\n",
       "        vertical-align: middle;\n",
       "    }\n",
       "\n",
       "    .dataframe tbody tr th {\n",
       "        vertical-align: top;\n",
       "    }\n",
       "\n",
       "    .dataframe thead th {\n",
       "        text-align: right;\n",
       "    }\n",
       "</style>\n",
       "<table border=\"1\" class=\"dataframe\">\n",
       "  <thead>\n",
       "    <tr style=\"text-align: right;\">\n",
       "      <th></th>\n",
       "      <th>id</th>\n",
       "      <th>in_reply_to_status_id</th>\n",
       "      <th>in_reply_to_user_id</th>\n",
       "      <th>retweet_count</th>\n",
       "      <th>favorite_count</th>\n",
       "    </tr>\n",
       "  </thead>\n",
       "  <tbody>\n",
       "    <tr>\n",
       "      <th>count</th>\n",
       "      <td>1.820000e+03</td>\n",
       "      <td>2.200000e+01</td>\n",
       "      <td>2.200000e+01</td>\n",
       "      <td>1820.000000</td>\n",
       "      <td>1820.000000</td>\n",
       "    </tr>\n",
       "    <tr>\n",
       "      <th>mean</th>\n",
       "      <td>7.237270e+17</td>\n",
       "      <td>6.992047e+17</td>\n",
       "      <td>4.196984e+09</td>\n",
       "      <td>2512.144505</td>\n",
       "      <td>6820.872527</td>\n",
       "    </tr>\n",
       "    <tr>\n",
       "      <th>std</th>\n",
       "      <td>5.777841e+16</td>\n",
       "      <td>4.409222e+16</td>\n",
       "      <td>0.000000e+00</td>\n",
       "      <td>4891.076169</td>\n",
       "      <td>11900.984651</td>\n",
       "    </tr>\n",
       "    <tr>\n",
       "      <th>min</th>\n",
       "      <td>6.660209e+17</td>\n",
       "      <td>6.671522e+17</td>\n",
       "      <td>4.196984e+09</td>\n",
       "      <td>11.000000</td>\n",
       "      <td>0.000000</td>\n",
       "    </tr>\n",
       "    <tr>\n",
       "      <th>25%</th>\n",
       "      <td>6.747671e+17</td>\n",
       "      <td>6.747625e+17</td>\n",
       "      <td>4.196984e+09</td>\n",
       "      <td>536.000000</td>\n",
       "      <td>1363.500000</td>\n",
       "    </tr>\n",
       "    <tr>\n",
       "      <th>50%</th>\n",
       "      <td>7.008223e+17</td>\n",
       "      <td>6.799651e+17</td>\n",
       "      <td>4.196984e+09</td>\n",
       "      <td>1118.000000</td>\n",
       "      <td>3153.000000</td>\n",
       "    </tr>\n",
       "    <tr>\n",
       "      <th>75%</th>\n",
       "      <td>7.617466e+17</td>\n",
       "      <td>7.032024e+17</td>\n",
       "      <td>4.196984e+09</td>\n",
       "      <td>2526.250000</td>\n",
       "      <td>7463.250000</td>\n",
       "    </tr>\n",
       "    <tr>\n",
       "      <th>max</th>\n",
       "      <td>8.924206e+17</td>\n",
       "      <td>8.558181e+17</td>\n",
       "      <td>4.196984e+09</td>\n",
       "      <td>82905.000000</td>\n",
       "      <td>163034.000000</td>\n",
       "    </tr>\n",
       "  </tbody>\n",
       "</table>\n",
       "</div>"
      ],
      "text/plain": [
       "                 id  in_reply_to_status_id  in_reply_to_user_id  \\\n",
       "count  1.820000e+03           2.200000e+01         2.200000e+01   \n",
       "mean   7.237270e+17           6.992047e+17         4.196984e+09   \n",
       "std    5.777841e+16           4.409222e+16         0.000000e+00   \n",
       "min    6.660209e+17           6.671522e+17         4.196984e+09   \n",
       "25%    6.747671e+17           6.747625e+17         4.196984e+09   \n",
       "50%    7.008223e+17           6.799651e+17         4.196984e+09   \n",
       "75%    7.617466e+17           7.032024e+17         4.196984e+09   \n",
       "max    8.924206e+17           8.558181e+17         4.196984e+09   \n",
       "\n",
       "       retweet_count  favorite_count  \n",
       "count    1820.000000     1820.000000  \n",
       "mean     2512.144505     6820.872527  \n",
       "std      4891.076169    11900.984651  \n",
       "min        11.000000        0.000000  \n",
       "25%       536.000000     1363.500000  \n",
       "50%      1118.000000     3153.000000  \n",
       "75%      2526.250000     7463.250000  \n",
       "max     82905.000000   163034.000000  "
      ]
     },
     "execution_count": 30,
     "metadata": {},
     "output_type": "execute_result"
    }
   ],
   "source": [
    "df_tweets_api.describe()"
   ]
  },
  {
   "cell_type": "markdown",
   "metadata": {},
   "source": [
    "<a id=\"tweets-api:info\"></a>"
   ]
  },
  {
   "cell_type": "code",
   "execution_count": 31,
   "metadata": {},
   "outputs": [
    {
     "name": "stdout",
     "output_type": "stream",
     "text": [
      "<class 'pandas.core.frame.DataFrame'>\n",
      "RangeIndex: 1820 entries, 0 to 1819\n",
      "Data columns (total 10 columns):\n",
      "id                       1820 non-null int64\n",
      "created_at               1820 non-null object\n",
      "in_reply_to_status_id    22 non-null float64\n",
      "in_reply_to_user_id      22 non-null float64\n",
      "is_quote_status          1820 non-null bool\n",
      "retweet_count            1820 non-null int64\n",
      "favorite_count           1820 non-null int64\n",
      "media_url                1820 non-null object\n",
      "retweeted                1820 non-null bool\n",
      "favorited                1820 non-null bool\n",
      "dtypes: bool(3), float64(2), int64(3), object(2)\n",
      "memory usage: 104.9+ KB\n"
     ]
    }
   ],
   "source": [
    "df_tweets_api.info()"
   ]
  },
  {
   "cell_type": "code",
   "execution_count": 32,
   "metadata": {},
   "outputs": [
    {
     "data": {
      "text/html": [
       "<div>\n",
       "<style scoped>\n",
       "    .dataframe tbody tr th:only-of-type {\n",
       "        vertical-align: middle;\n",
       "    }\n",
       "\n",
       "    .dataframe tbody tr th {\n",
       "        vertical-align: top;\n",
       "    }\n",
       "\n",
       "    .dataframe thead th {\n",
       "        text-align: right;\n",
       "    }\n",
       "</style>\n",
       "<table border=\"1\" class=\"dataframe\">\n",
       "  <thead>\n",
       "    <tr style=\"text-align: right;\">\n",
       "      <th></th>\n",
       "      <th>id</th>\n",
       "      <th>created_at</th>\n",
       "      <th>in_reply_to_status_id</th>\n",
       "      <th>in_reply_to_user_id</th>\n",
       "      <th>is_quote_status</th>\n",
       "      <th>retweet_count</th>\n",
       "      <th>favorite_count</th>\n",
       "      <th>media_url</th>\n",
       "      <th>retweeted</th>\n",
       "      <th>favorited</th>\n",
       "    </tr>\n",
       "  </thead>\n",
       "  <tbody>\n",
       "    <tr>\n",
       "      <th>5</th>\n",
       "      <td>888917238123831296</td>\n",
       "      <td>Sun Jul 23 00:22:39 +0000 2017</td>\n",
       "      <td>NaN</td>\n",
       "      <td>NaN</td>\n",
       "      <td>False</td>\n",
       "      <td>4366</td>\n",
       "      <td>28414</td>\n",
       "      <td>http://pbs.twimg.com/media/DFYRgsOUQAARGhO.jpg</td>\n",
       "      <td>False</td>\n",
       "      <td>False</td>\n",
       "    </tr>\n",
       "    <tr>\n",
       "      <th>202</th>\n",
       "      <td>810284430598270976</td>\n",
       "      <td>Sun Dec 18 00:43:57 +0000 2016</td>\n",
       "      <td>NaN</td>\n",
       "      <td>NaN</td>\n",
       "      <td>False</td>\n",
       "      <td>12378</td>\n",
       "      <td>37556</td>\n",
       "      <td>http://pbs.twimg.com/media/Cz61ZD4W8AAcJEU.jpg</td>\n",
       "      <td>False</td>\n",
       "      <td>False</td>\n",
       "    </tr>\n",
       "    <tr>\n",
       "      <th>1800</th>\n",
       "      <td>666273097616637952</td>\n",
       "      <td>Mon Nov 16 15:14:19 +0000 2015</td>\n",
       "      <td>NaN</td>\n",
       "      <td>NaN</td>\n",
       "      <td>False</td>\n",
       "      <td>76</td>\n",
       "      <td>170</td>\n",
       "      <td>http://pbs.twimg.com/media/CT8T1mtUwAA3aqm.jpg</td>\n",
       "      <td>False</td>\n",
       "      <td>False</td>\n",
       "    </tr>\n",
       "    <tr>\n",
       "      <th>1767</th>\n",
       "      <td>666996132027977728</td>\n",
       "      <td>Wed Nov 18 15:07:24 +0000 2015</td>\n",
       "      <td>NaN</td>\n",
       "      <td>NaN</td>\n",
       "      <td>False</td>\n",
       "      <td>94</td>\n",
       "      <td>244</td>\n",
       "      <td>http://pbs.twimg.com/media/CUGlb6iUwAITEbW.jpg</td>\n",
       "      <td>False</td>\n",
       "      <td>False</td>\n",
       "    </tr>\n",
       "    <tr>\n",
       "      <th>296</th>\n",
       "      <td>790581949425475584</td>\n",
       "      <td>Mon Oct 24 15:53:19 +0000 2016</td>\n",
       "      <td>NaN</td>\n",
       "      <td>NaN</td>\n",
       "      <td>False</td>\n",
       "      <td>7818</td>\n",
       "      <td>21980</td>\n",
       "      <td>http://pbs.twimg.com/media/Cvi2FiIWAAAoDHc.jpg</td>\n",
       "      <td>False</td>\n",
       "      <td>False</td>\n",
       "    </tr>\n",
       "  </tbody>\n",
       "</table>\n",
       "</div>"
      ],
      "text/plain": [
       "                      id                      created_at  \\\n",
       "5     888917238123831296  Sun Jul 23 00:22:39 +0000 2017   \n",
       "202   810284430598270976  Sun Dec 18 00:43:57 +0000 2016   \n",
       "1800  666273097616637952  Mon Nov 16 15:14:19 +0000 2015   \n",
       "1767  666996132027977728  Wed Nov 18 15:07:24 +0000 2015   \n",
       "296   790581949425475584  Mon Oct 24 15:53:19 +0000 2016   \n",
       "\n",
       "      in_reply_to_status_id  in_reply_to_user_id  is_quote_status  \\\n",
       "5                       NaN                  NaN            False   \n",
       "202                     NaN                  NaN            False   \n",
       "1800                    NaN                  NaN            False   \n",
       "1767                    NaN                  NaN            False   \n",
       "296                     NaN                  NaN            False   \n",
       "\n",
       "      retweet_count  favorite_count  \\\n",
       "5              4366           28414   \n",
       "202           12378           37556   \n",
       "1800             76             170   \n",
       "1767             94             244   \n",
       "296            7818           21980   \n",
       "\n",
       "                                           media_url  retweeted  favorited  \n",
       "5     http://pbs.twimg.com/media/DFYRgsOUQAARGhO.jpg      False      False  \n",
       "202   http://pbs.twimg.com/media/Cz61ZD4W8AAcJEU.jpg      False      False  \n",
       "1800  http://pbs.twimg.com/media/CT8T1mtUwAA3aqm.jpg      False      False  \n",
       "1767  http://pbs.twimg.com/media/CUGlb6iUwAITEbW.jpg      False      False  \n",
       "296   http://pbs.twimg.com/media/Cvi2FiIWAAAoDHc.jpg      False      False  "
      ]
     },
     "execution_count": 32,
     "metadata": {},
     "output_type": "execute_result"
    }
   ],
   "source": [
    "df_tweets_api.sample(5)"
   ]
  },
  {
   "cell_type": "markdown",
   "metadata": {},
   "source": [
    "* `created_at` como `string`\n",
    "* `in_reply_to_status_id` e `in_reply_to_userid` como `Float`"
   ]
  },
  {
   "cell_type": "markdown",
   "metadata": {},
   "source": [
    "<a id=\"tweets-api:duplicated\"></a>\n",
    "Verificar a duplicidade de valores"
   ]
  },
  {
   "cell_type": "code",
   "execution_count": 33,
   "metadata": {},
   "outputs": [
    {
     "data": {
      "text/plain": [
       "False    1820\n",
       "Name: id, dtype: int64"
      ]
     },
     "execution_count": 33,
     "metadata": {},
     "output_type": "execute_result"
    }
   ],
   "source": [
    "# Verificar se há IDs duplicados\n",
    "df_tweets_api.id.duplicated().value_counts()"
   ]
  },
  {
   "cell_type": "code",
   "execution_count": 34,
   "metadata": {},
   "outputs": [
    {
     "data": {
      "text/plain": [
       "False    1759\n",
       "True       61\n",
       "Name: media_url, dtype: int64"
      ]
     },
     "execution_count": 34,
     "metadata": {},
     "output_type": "execute_result"
    }
   ],
   "source": [
    "# Verificar se há imagens duplicadas\n",
    "df_tweets_api.media_url.duplicated().value_counts()"
   ]
  },
  {
   "cell_type": "markdown",
   "metadata": {},
   "source": [
    "Há tweets referenciando a mesma imagem"
   ]
  },
  {
   "cell_type": "markdown",
   "metadata": {},
   "source": [
    "------"
   ]
  },
  {
   "cell_type": "markdown",
   "metadata": {},
   "source": [
    "<a id=\"avaliacao:anotacoes\"></a>\n",
    "\n",
    "## Notas da avaliação\n",
    "### Qualidade\n",
    "\n",
    "#### `df_twitter_arc` - Twitter archive\n",
    "1. [Base incompleta, contém apenas **2356** registros dos **5000** anunciados](#twitter-arc:info)\n",
    "* [Coluna `source` sem valor à unidade de obsevação](#twitter-arc:source)\n",
    "* [Nomes (`name`) preenchidos com valor literal igual a `'None'`, vazio](#twitter-arc:name)\n",
    "* [Coluna `expanded_urls` sem valor à unidade de observação](#twitter-arc:expanded_urls)\n",
    "* [Categorias \\[`doggo`, `floofer`, `pupper`, `puppo`\\] com literal `'None'`](#twitter-arc:category)\n",
    "\n",
    "\n",
    "#### `df_prediction` - Image prediction\n",
    "1. [Previsões \\[`p1`, `p2`, `p3`\\] com nomes não padronizados](#image-prediction:p-values)\n",
    "* [Duplicidade na coluna `jgp_url`](#image-prediction:duplicated-urls)\n",
    "\n",
    "\n",
    "#### `df_tweets_api` - Twitter API\n",
    "* [Diferentes Tweets referenciando a mesma imagem, duplicidade](#tweets-api:duplicated)\n",
    "\n",
    "\n",
    "### Organização\n",
    "\n",
    "#### `df_twitter_arc` - Twitter archive\n",
    "1. [As colunas `in_reply_to_status_id`, `in_reply_to_user_id`, `retweeted_status_id`, `retweeted_status_user_id` estão em `float64`](#twitter-arc:info)\n",
    "* [As colunas `timestamp` e `retweet_status_timestamp` estão em `string`](#twitter-arc:info)\n",
    "* [Uma variável em várias colunas, `doggo`, `floofer`, `pupper` e `puppo`](#twitter-arc:category)\n",
    "\n",
    "\n",
    "#### `df_prediction` - Image prediction\n",
    "1. [Colunas como variáveis na identificação das predições](#image-prediction:info)\n",
    "\n",
    "\n",
    "#### `df_tweets_api` - Twitter API\n",
    "1. [Data de criação (`created_at`) como `string`](#tweets-api:info)\n",
    "* [Valor do id na coluna `in_reply_to_status_id` como `float`](#tweets-api:info)\n",
    "* [As colunas `in_reply_to_status_id`, `in_reply_to_user_id`, `retweeted_status_id`, `retweeted_status_user_id` estão em `float64`](#tweets-api:info)"
   ]
  },
  {
   "cell_type": "markdown",
   "metadata": {},
   "source": [
    "------"
   ]
  },
  {
   "cell_type": "markdown",
   "metadata": {},
   "source": [
    "<a id=\"limpeza\"></a>\n",
    "\n",
    "# Limpeza"
   ]
  },
  {
   "cell_type": "markdown",
   "metadata": {},
   "source": [
    "<a id=\"limpeza:definicao\"></a>\n",
    "\n",
    "## Limpeza: Definição \n",
    "\n",
    "#### `df_twitter_arc` - Twitter archive\n",
    "1. Base incompleta, de **5000**, apenas **2356** estão disponíveis\n",
    "    * OK - Nada a ser feito\n",
    "* [Coluna `source` sem valor à unidade de observação](#limpeza:twitter-arc:source)\n",
    "    * O conteúdo apresenta um link para download do App Twitter, portanto não agrega valor à unidade de observação, a coluna pode ser removida\n",
    "* [Nomes (`name`) não preenchidos com valor literal igual a `'None'`](#limpeza:twitter-arc:name)\n",
    "    * Alterar valores como 'None' para `np.nan`\n",
    "* [Coluna `expanded_urls` sem valor à unidade de observação](#limpeza:twitter-arc:expanded_urls)(#twitter-arc:expanded_urls)\n",
    "    * Não apresentam valor à unidade de observação, são URLs para os tweets em questão. Remover a coluna `expanded_urls`.\n",
    "* [Categorias \\[doggo, floofer, pupper, puppo\\] com literal `'None'`](#limpeza:twitter-arc:category)\n",
    "    * Aplicar valor `np.nan` para nomes iguais a 'None'   \n",
    "* [As colunas `in_reply_to_status_id`, `in_reply_to_user_id`, `retweeted_status_id`, `retweeted_status_user_id` estão em `float64`](#limpeza:twitter-arc:info)\n",
    "    * A coluna, `retweeted_status_id` ou `retweeted_status_user_id`, podem ser convertidas para `Boolean` como auxílio a identificação de tweets originais\n",
    "    * Após a criação de uma coluna indicando se o tweet é um retweet, as colunas de retweet, `retweeted_status_id`, `retweeted_status_user_id`, `retweeted_status_timestamp`, podem ser descartadas\n",
    "    * As colunas `in_reply_to_status_id` e `in_reply_to_user_id` serão retratadas no dataframe `df_tweets_api`\n",
    "* [As colunas `timestamp` e `retweet_status_timestamp` estão em `string` e deveriam ser do tipo `datetime`](#limpeza:twitter-arc:datetime)\n",
    "    * Converter valores para `datetime`\n",
    "* [Uma variável em várias colunas, `doggo`, `floofer`, `pupper` e `puppo`](#limpeza:twitter-arc:category-merge)\n",
    "    * Reduzir a variável para uma coluna, `category`\n",
    "\n",
    "\n",
    "#### `df_prediction` - Image prediction\n",
    "1. [Previsões \\[`p1`, `p2`, `p3`\\] com nomes não padronizados](#limpeza:image-prediction:names)\n",
    "    * Converter os valores para 'lower case' e substituir '_' por espaços\n",
    "* [Previsões repetidas sobre a mesma imagem](#limpeza:image-prediction:duplicated-urls)\n",
    "    * Descartar predições sobre imagens repetidas\n",
    "* [Colunas como variáveis na identificação das predições](#limpeza:image-prediction:info)\n",
    "    * Transpor as variáveis nas colunas para linhas\n",
    "\n",
    "\n",
    "#### `df_tweets_api` - Twitter API\n",
    "1. [Data de criação (`created_at`) como `string`](#tweets-api:info)\n",
    "    * Converter datas em string para o formato `datetime`\n",
    "* [Valor do id na coluna `in_reply_to_status_id` e `in_reply_to_user_id` como `float`](#tweets-api:info)\n",
    "    * Converter para Inteiro as colunas `in_reply_to_status_id` e `in_reply_to_user_id` e atribuir 0 as que estiverem sem valor\n"
   ]
  },
  {
   "cell_type": "markdown",
   "metadata": {},
   "source": [
    "<a id=\"limpeza:twitter-archive\"></a>\n",
    "\n",
    "## Limpeza: Twitter archive"
   ]
  },
  {
   "cell_type": "code",
   "execution_count": 35,
   "metadata": {},
   "outputs": [],
   "source": [
    "# Criar cópia do dataframe para a limpeza\n",
    "df_arch_clean = df_twitter_arc.copy()"
   ]
  },
  {
   "cell_type": "markdown",
   "metadata": {},
   "source": [
    "<a id=\"limpeza:twitter-arc:source\"></a>\n",
    "\n",
    "#### 2. [Coluna `source` sem valor à unidade de observação](#limpeza:twitter-arc:source)\n",
    "* O conteúdo apresenta um link para download do App Twitter, portanto não agrega valor à unidade de observação, a coluna pode ser removida"
   ]
  },
  {
   "cell_type": "code",
   "execution_count": 36,
   "metadata": {},
   "outputs": [],
   "source": [
    "# Remoção da coluna `source`\n",
    "df_arch_clean.drop('source', axis='columns', inplace=True)"
   ]
  },
  {
   "cell_type": "markdown",
   "metadata": {},
   "source": [
    "#### Teste: Remoção coluna `source`"
   ]
  },
  {
   "cell_type": "code",
   "execution_count": 37,
   "metadata": {},
   "outputs": [
    {
     "data": {
      "text/plain": [
       "Index(['tweet_id', 'in_reply_to_status_id', 'in_reply_to_user_id', 'timestamp',\n",
       "       'text', 'retweeted_status_id', 'retweeted_status_user_id',\n",
       "       'retweeted_status_timestamp', 'expanded_urls', 'rating_numerator',\n",
       "       'rating_denominator', 'name', 'doggo', 'floofer', 'pupper', 'puppo'],\n",
       "      dtype='object')"
      ]
     },
     "execution_count": 37,
     "metadata": {},
     "output_type": "execute_result"
    }
   ],
   "source": [
    "# Conferir que a coluna `source` foi removida\n",
    "df_arch_clean.columns"
   ]
  },
  {
   "cell_type": "markdown",
   "metadata": {},
   "source": [
    "<a id=\"limpeza:twitter-arc:name\"></a>\n",
    "\n",
    "#### 3. [Nomes (`name`) não preenchidos com valor literal igual a `'None'`](#limpeza:twitter-arc:name)\n",
    "    * Alterar valores como 'None' para `np.nan`"
   ]
  },
  {
   "cell_type": "code",
   "execution_count": 38,
   "metadata": {},
   "outputs": [
    {
     "data": {
      "text/plain": [
       "745"
      ]
     },
     "execution_count": 38,
     "metadata": {},
     "output_type": "execute_result"
    }
   ],
   "source": [
    "# Contagem de nomes iguais a 'None'\n",
    "df_arch_clean[df_arch_clean.name.str.lower() == 'none'].name.count()"
   ]
  },
  {
   "cell_type": "code",
   "execution_count": 39,
   "metadata": {},
   "outputs": [],
   "source": [
    "# Função para substituição de valores literais 'None' por np.nan\n",
    "def set_nan_at_none(value):\n",
    "    if str(value).lower() == 'none':\n",
    "        return np.nan\n",
    "    else:\n",
    "        return value"
   ]
  },
  {
   "cell_type": "code",
   "execution_count": 40,
   "metadata": {},
   "outputs": [],
   "source": [
    "# Aplicar `np.nan` aos nomes iguais a 'None'\n",
    "df_arch_clean.name = df_arch_clean.name.apply(set_nan_at_none)"
   ]
  },
  {
   "cell_type": "markdown",
   "metadata": {},
   "source": [
    "#### Teste: Aplicação de `np.nan` aos nomes como 'None'"
   ]
  },
  {
   "cell_type": "code",
   "execution_count": 41,
   "metadata": {},
   "outputs": [
    {
     "data": {
      "text/plain": [
       "745"
      ]
     },
     "execution_count": 41,
     "metadata": {},
     "output_type": "execute_result"
    }
   ],
   "source": [
    "df_arch_clean.name.isnull().sum()"
   ]
  },
  {
   "cell_type": "code",
   "execution_count": 42,
   "metadata": {},
   "outputs": [
    {
     "data": {
      "text/plain": [
       "0"
      ]
     },
     "execution_count": 42,
     "metadata": {},
     "output_type": "execute_result"
    }
   ],
   "source": [
    "df_arch_clean[df_arch_clean.name.str.lower() == 'none'].name.count()"
   ]
  },
  {
   "cell_type": "code",
   "execution_count": 43,
   "metadata": {},
   "outputs": [
    {
     "data": {
      "text/plain": [
       "1331         NaN\n",
       "1905         NaN\n",
       "1974    Fletcher\n",
       "1071     getting\n",
       "1286         NaN\n",
       "1617     Gerbald\n",
       "1818         NaN\n",
       "1737           a\n",
       "738         Koda\n",
       "718         Finn\n",
       "Name: name, dtype: object"
      ]
     },
     "execution_count": 43,
     "metadata": {},
     "output_type": "execute_result"
    }
   ],
   "source": [
    "df_arch_clean.name.sample(10)"
   ]
  },
  {
   "cell_type": "markdown",
   "metadata": {},
   "source": [
    "<a id=\"limpeza:twitter-arc:expanded_urls\"></a>\n",
    "\n",
    "#### 4. [Coluna `expanded_urls` sem valor à unidade de observação](#limpeza:twitter-arc:expanded_urls)\n",
    "* Não apresentam valor à unidade de observação, são URLs para os tweets em questão. Remover a coluna `expanded_urls`"
   ]
  },
  {
   "cell_type": "code",
   "execution_count": 44,
   "metadata": {},
   "outputs": [],
   "source": [
    "df_arch_clean.drop('expanded_urls', axis='columns', inplace=True)"
   ]
  },
  {
   "cell_type": "markdown",
   "metadata": {},
   "source": [
    "#### Teste: Remoção da coluna `expanded_urls`"
   ]
  },
  {
   "cell_type": "code",
   "execution_count": 45,
   "metadata": {},
   "outputs": [
    {
     "data": {
      "text/plain": [
       "Index(['tweet_id', 'in_reply_to_status_id', 'in_reply_to_user_id', 'timestamp',\n",
       "       'text', 'retweeted_status_id', 'retweeted_status_user_id',\n",
       "       'retweeted_status_timestamp', 'rating_numerator', 'rating_denominator',\n",
       "       'name', 'doggo', 'floofer', 'pupper', 'puppo'],\n",
       "      dtype='object')"
      ]
     },
     "execution_count": 45,
     "metadata": {},
     "output_type": "execute_result"
    }
   ],
   "source": [
    "df_arch_clean.columns"
   ]
  },
  {
   "cell_type": "markdown",
   "metadata": {},
   "source": [
    "<a id=\"limpeza:twitter-arc:category\"></a>\n",
    "\n",
    "#### 5. [Categorias \\[`doggo`, `floofer`, `pupper`, `puppo`\\] com literal `'None'`](#limpeza:twitter-arc:category)\n",
    "* Aplicar valor `np.nan` para nomes iguais a 'None'   "
   ]
  },
  {
   "cell_type": "code",
   "execution_count": 46,
   "metadata": {},
   "outputs": [
    {
     "data": {
      "text/plain": [
       "True     2259\n",
       "False      97\n",
       "Name: doggo, dtype: int64"
      ]
     },
     "execution_count": 46,
     "metadata": {},
     "output_type": "execute_result"
    }
   ],
   "source": [
    "# Trocar valores 'None' para np.nan nas colunas `doggo`, `floofer`, `pupper`, `puppo`\n",
    "df_arch_clean.doggo = df_arch_clean.doggo.apply(set_nan_at_none)\n",
    "df_arch_clean.doggo.isna().value_counts()"
   ]
  },
  {
   "cell_type": "code",
   "execution_count": 47,
   "metadata": {},
   "outputs": [
    {
     "data": {
      "text/plain": [
       "True     2346\n",
       "False      10\n",
       "Name: floofer, dtype: int64"
      ]
     },
     "execution_count": 47,
     "metadata": {},
     "output_type": "execute_result"
    }
   ],
   "source": [
    "df_arch_clean.floofer = df_arch_clean.floofer.apply(set_nan_at_none)\n",
    "df_arch_clean.floofer.isna().value_counts()"
   ]
  },
  {
   "cell_type": "code",
   "execution_count": 48,
   "metadata": {},
   "outputs": [
    {
     "data": {
      "text/plain": [
       "True     2099\n",
       "False     257\n",
       "Name: pupper, dtype: int64"
      ]
     },
     "execution_count": 48,
     "metadata": {},
     "output_type": "execute_result"
    }
   ],
   "source": [
    "df_arch_clean.pupper = df_arch_clean.pupper.apply(set_nan_at_none)\n",
    "df_arch_clean.pupper.isna().value_counts()"
   ]
  },
  {
   "cell_type": "code",
   "execution_count": 49,
   "metadata": {},
   "outputs": [
    {
     "data": {
      "text/plain": [
       "True     2326\n",
       "False      30\n",
       "Name: puppo, dtype: int64"
      ]
     },
     "execution_count": 49,
     "metadata": {},
     "output_type": "execute_result"
    }
   ],
   "source": [
    "df_arch_clean.puppo = df_arch_clean.puppo.apply(set_nan_at_none)\n",
    "df_arch_clean.puppo.isna().value_counts()"
   ]
  },
  {
   "cell_type": "code",
   "execution_count": 50,
   "metadata": {},
   "outputs": [
    {
     "data": {
      "text/plain": [
       "394"
      ]
     },
     "execution_count": 50,
     "metadata": {},
     "output_type": "execute_result"
    }
   ],
   "source": [
    "# Soma de valores preenchidos nas classificações\n",
    "sum_categories = 0\n",
    "sum_categories += df_arch_clean.doggo.notna().sum()\n",
    "sum_categories += df_arch_clean.floofer.notna().sum()\n",
    "sum_categories += df_arch_clean.pupper.notna().sum()\n",
    "sum_categories += df_arch_clean.puppo.notna().sum()\n",
    "\n",
    "sum_categories"
   ]
  },
  {
   "cell_type": "markdown",
   "metadata": {},
   "source": [
    "Apenas 394 dos 2346 registros foram classificados"
   ]
  },
  {
   "cell_type": "markdown",
   "metadata": {},
   "source": [
    "<a id=\"limpeza:twitter-arc:info\"></a>\n",
    "\n",
    "#### 6. [As colunas `in_reply_to_status_id`, `in_reply_to_user_id`, `retweeted_status_id`, `retweeted_status_user_id` estão em `float64`](#limpeza:twitter-arc:info)\n",
    "* Linhas com algum valor para as colunas `retweeted_status_id` ou `retweeted_status_user_id` podem ser descartadas por indicarem retweet, e o objetivo é analisar somente tweets originais\n",
    "* Após a remoção retweets, as colunas `retweeted_status_id`, `retweeted_status_user_id`, `retweeted_status_timestamp`, podem ser descartadas\n",
    "* As colunas `in_reply_to_status_id` e `in_reply_to_user_id` serão retratadas no dataframe `df_tweets_api`"
   ]
  },
  {
   "cell_type": "markdown",
   "metadata": {},
   "source": [
    "#### Identificação dos tweets originais\n",
    "df_arch_clean.loc[:,'retweeted_status_id'].isna().value_counts()"
   ]
  },
  {
   "cell_type": "code",
   "execution_count": 51,
   "metadata": {},
   "outputs": [
    {
     "data": {
      "text/plain": [
       "2356"
      ]
     },
     "execution_count": 51,
     "metadata": {},
     "output_type": "execute_result"
    }
   ],
   "source": [
    "df_arch_clean.retweeted_status_id.size"
   ]
  },
  {
   "cell_type": "code",
   "execution_count": 52,
   "metadata": {},
   "outputs": [
    {
     "data": {
      "text/plain": [
       "True     2175\n",
       "False     181\n",
       "Name: retweeted_status_id, dtype: int64"
      ]
     },
     "execution_count": 52,
     "metadata": {},
     "output_type": "execute_result"
    }
   ],
   "source": [
    "df_arch_clean.loc[:,'retweeted_status_id'].isna().value_counts()"
   ]
  },
  {
   "cell_type": "markdown",
   "metadata": {},
   "source": [
    "Dos 2356 registros, 181 são retweets"
   ]
  },
  {
   "cell_type": "code",
   "execution_count": 53,
   "metadata": {},
   "outputs": [],
   "source": [
    "# Remoção dos retweets\n",
    "df_arch_clean.drop(df_arch_clean[df_arch_clean.retweeted_status_id.notna()].index, axis=0, inplace=True)"
   ]
  },
  {
   "cell_type": "markdown",
   "metadata": {},
   "source": [
    "#### Teste: Remoção de Retweets"
   ]
  },
  {
   "cell_type": "code",
   "execution_count": 54,
   "metadata": {},
   "outputs": [
    {
     "data": {
      "text/plain": [
       "True    2175\n",
       "Name: retweeted_status_id, dtype: int64"
      ]
     },
     "execution_count": 54,
     "metadata": {},
     "output_type": "execute_result"
    }
   ],
   "source": [
    "# Consultar a existência de colunas com retweet_status_preenchido\n",
    "df_arch_clean.loc[:,'retweeted_status_id'].isna().value_counts()"
   ]
  },
  {
   "cell_type": "markdown",
   "metadata": {},
   "source": [
    "Remoção das colunas referentes a retweets"
   ]
  },
  {
   "cell_type": "code",
   "execution_count": 55,
   "metadata": {},
   "outputs": [],
   "source": [
    "df_arch_clean.drop(['retweeted_status_id', 'retweeted_status_user_id', 'retweeted_status_timestamp'], axis='columns', inplace=True)"
   ]
  },
  {
   "cell_type": "markdown",
   "metadata": {},
   "source": [
    "#### Teste: Verificação da remoção das colunas referentes a retweets"
   ]
  },
  {
   "cell_type": "code",
   "execution_count": 56,
   "metadata": {},
   "outputs": [
    {
     "data": {
      "text/plain": [
       "Index(['tweet_id', 'in_reply_to_status_id', 'in_reply_to_user_id', 'timestamp',\n",
       "       'text', 'rating_numerator', 'rating_denominator', 'name', 'doggo',\n",
       "       'floofer', 'pupper', 'puppo'],\n",
       "      dtype='object')"
      ]
     },
     "execution_count": 56,
     "metadata": {},
     "output_type": "execute_result"
    }
   ],
   "source": [
    "df_arch_clean.columns"
   ]
  },
  {
   "cell_type": "markdown",
   "metadata": {},
   "source": [
    "<a id=\"limpeza:twitter-arc:datetime\"></a>\n",
    "\n",
    "#### 7. [As colunas `timestamp` e `retweet_status_timestamp` estão em `string` e deveriam ser do tipo `datetime`](#limpeza:twitter-arc:datetime)\n",
    "* Converter valores para `datetime`\n",
    "\n",
    "Haja vista que a coluna `retweet_status_timestamp` foi removida no passo anterior, não será necessária a sua conversão"
   ]
  },
  {
   "cell_type": "code",
   "execution_count": 57,
   "metadata": {},
   "outputs": [
    {
     "name": "stdout",
     "output_type": "stream",
     "text": [
      "<class 'pandas.core.frame.DataFrame'>\n",
      "Int64Index: 2175 entries, 0 to 2355\n",
      "Data columns (total 1 columns):\n",
      "timestamp    2175 non-null object\n",
      "dtypes: object(1)\n",
      "memory usage: 34.0+ KB\n"
     ]
    }
   ],
   "source": [
    "df_arch_clean.loc[:, ['timestamp']].info()"
   ]
  },
  {
   "cell_type": "code",
   "execution_count": 58,
   "metadata": {},
   "outputs": [],
   "source": [
    "df_arch_clean.timestamp = pd.to_datetime(df_arch_clean.timestamp)"
   ]
  },
  {
   "cell_type": "markdown",
   "metadata": {},
   "source": [
    "#### Teste: Veriificação da conversão de `string` para `datetime`"
   ]
  },
  {
   "cell_type": "code",
   "execution_count": 59,
   "metadata": {},
   "outputs": [
    {
     "name": "stdout",
     "output_type": "stream",
     "text": [
      "<class 'pandas.core.frame.DataFrame'>\n",
      "Int64Index: 2175 entries, 0 to 2355\n",
      "Data columns (total 1 columns):\n",
      "timestamp    2175 non-null datetime64[ns, UTC]\n",
      "dtypes: datetime64[ns, UTC](1)\n",
      "memory usage: 34.0 KB\n"
     ]
    }
   ],
   "source": [
    "df_arch_clean.loc[:, ['timestamp']].info()"
   ]
  },
  {
   "cell_type": "markdown",
   "metadata": {},
   "source": [
    "<a id=\"limpeza:twitter-arc:category-merge\"></a>\n",
    "\n",
    "#### 8. [Uma variável em várias colunas, `doggo`, `floofer`, `pupper` e `puppo`](#limpeza:twitter-arc:category-merge)\n",
    "* Reduzir a variável para uma coluna, `category`"
   ]
  },
  {
   "cell_type": "code",
   "execution_count": 60,
   "metadata": {},
   "outputs": [
    {
     "name": "stdout",
     "output_type": "stream",
     "text": [
      "<class 'pandas.core.frame.DataFrame'>\n",
      "Int64Index: 2175 entries, 0 to 2355\n",
      "Data columns (total 12 columns):\n",
      "tweet_id                 2175 non-null int64\n",
      "in_reply_to_status_id    78 non-null float64\n",
      "in_reply_to_user_id      78 non-null float64\n",
      "timestamp                2175 non-null datetime64[ns, UTC]\n",
      "text                     2175 non-null object\n",
      "rating_numerator         2175 non-null int64\n",
      "rating_denominator       2175 non-null int64\n",
      "name                     1495 non-null object\n",
      "doggo                    87 non-null object\n",
      "floofer                  10 non-null object\n",
      "pupper                   234 non-null object\n",
      "puppo                    25 non-null object\n",
      "dtypes: datetime64[ns, UTC](1), float64(2), int64(3), object(6)\n",
      "memory usage: 220.9+ KB\n"
     ]
    }
   ],
   "source": [
    "df_arch_clean.info()"
   ]
  },
  {
   "cell_type": "code",
   "execution_count": 61,
   "metadata": {},
   "outputs": [
    {
     "data": {
      "text/plain": [
       "doggo       87\n",
       "floofer     10\n",
       "pupper     234\n",
       "puppo       25\n",
       "dtype: int64"
      ]
     },
     "execution_count": 61,
     "metadata": {},
     "output_type": "execute_result"
    }
   ],
   "source": [
    "df_arch_clean.loc[:, 'doggo':].notna().sum()"
   ]
  },
  {
   "cell_type": "code",
   "execution_count": 62,
   "metadata": {},
   "outputs": [
    {
     "data": {
      "text/plain": [
       "356"
      ]
     },
     "execution_count": 62,
     "metadata": {},
     "output_type": "execute_result"
    }
   ],
   "source": [
    "df_arch_clean.loc[:, 'doggo':].notna().sum().sum()"
   ]
  },
  {
   "cell_type": "markdown",
   "metadata": {},
   "source": [
    "De **2175** registros, apenas **356** estão classificados"
   ]
  },
  {
   "cell_type": "markdown",
   "metadata": {},
   "source": [
    "Criar uma lista das categorias para mesclar as colunas, considerando a coluna a esquerda como prioritaria sobre valores nulos a direita."
   ]
  },
  {
   "cell_type": "code",
   "execution_count": 63,
   "metadata": {},
   "outputs": [],
   "source": [
    "category = df_arch_clean.doggo\n",
    "category = category.combine_first(df_arch_clean.floofer)\n",
    "category = category.combine_first(df_arch_clean.pupper)\n",
    "category = category.combine_first(df_arch_clean.puppo)\n",
    "\n",
    "df_arch_clean['category'] = category"
   ]
  },
  {
   "cell_type": "code",
   "execution_count": 64,
   "metadata": {},
   "outputs": [
    {
     "data": {
      "text/plain": [
       "344"
      ]
     },
     "execution_count": 64,
     "metadata": {},
     "output_type": "execute_result"
    }
   ],
   "source": [
    "df_arch_clean.category.notna().sum()"
   ]
  },
  {
   "cell_type": "markdown",
   "metadata": {},
   "source": [
    "Após a unificação das colunas de classificação, pode-se ver que resultou em apenas **344** registros, diferente dos **356** iniciais. O que indica que haviam registros com mais de uma classificação."
   ]
  },
  {
   "cell_type": "code",
   "execution_count": 65,
   "metadata": {},
   "outputs": [],
   "source": [
    "df_arch_clean.drop(['doggo', 'floofer', 'pupper', 'puppo'], axis='columns', inplace=True)"
   ]
  },
  {
   "cell_type": "markdown",
   "metadata": {},
   "source": [
    "#### Teste: Verificar a criação da coluna `category` a remoção das colunas `doggo`, `floofer`, `pupper` e `puppo`. "
   ]
  },
  {
   "cell_type": "code",
   "execution_count": 66,
   "metadata": {},
   "outputs": [
    {
     "name": "stdout",
     "output_type": "stream",
     "text": [
      "<class 'pandas.core.frame.DataFrame'>\n",
      "Int64Index: 2175 entries, 0 to 2355\n",
      "Data columns (total 9 columns):\n",
      "tweet_id                 2175 non-null int64\n",
      "in_reply_to_status_id    78 non-null float64\n",
      "in_reply_to_user_id      78 non-null float64\n",
      "timestamp                2175 non-null datetime64[ns, UTC]\n",
      "text                     2175 non-null object\n",
      "rating_numerator         2175 non-null int64\n",
      "rating_denominator       2175 non-null int64\n",
      "name                     1495 non-null object\n",
      "category                 344 non-null object\n",
      "dtypes: datetime64[ns, UTC](1), float64(2), int64(3), object(3)\n",
      "memory usage: 169.9+ KB\n"
     ]
    }
   ],
   "source": [
    "df_arch_clean.info()"
   ]
  },
  {
   "cell_type": "markdown",
   "metadata": {},
   "source": [
    "------\n",
    "<a id=\"limpeza:image-prediction\"></a>\n",
    "\n",
    "## Limpeza: Image prediction "
   ]
  },
  {
   "cell_type": "code",
   "execution_count": 129,
   "metadata": {},
   "outputs": [],
   "source": [
    "# Cópia do dataframe para limpeza\n",
    "df_predict_clean = df_prediction.copy()"
   ]
  },
  {
   "cell_type": "markdown",
   "metadata": {},
   "source": [
    "<a id=\"limpeza:image-prediction:names\"></a>\n",
    "\n",
    "#### 1. [Previsões \\[`p1`, `p2`, `p3`\\] com nomes não padronizados](#limpeza:image-prediction:names)\n",
    "* Converter os valores para 'lower case' e substituir '_' por espaços"
   ]
  },
  {
   "cell_type": "code",
   "execution_count": 130,
   "metadata": {},
   "outputs": [],
   "source": [
    "clean_prediction_name = lambda value: str(value).lower().replace('_', ' ')"
   ]
  },
  {
   "cell_type": "code",
   "execution_count": 131,
   "metadata": {},
   "outputs": [
    {
     "data": {
      "text/html": [
       "<div>\n",
       "<style scoped>\n",
       "    .dataframe tbody tr th:only-of-type {\n",
       "        vertical-align: middle;\n",
       "    }\n",
       "\n",
       "    .dataframe tbody tr th {\n",
       "        vertical-align: top;\n",
       "    }\n",
       "\n",
       "    .dataframe thead th {\n",
       "        text-align: right;\n",
       "    }\n",
       "</style>\n",
       "<table border=\"1\" class=\"dataframe\">\n",
       "  <thead>\n",
       "    <tr style=\"text-align: right;\">\n",
       "      <th></th>\n",
       "      <th>p1</th>\n",
       "      <th>p2</th>\n",
       "      <th>p3</th>\n",
       "    </tr>\n",
       "  </thead>\n",
       "  <tbody>\n",
       "    <tr>\n",
       "      <th>950</th>\n",
       "      <td>pug</td>\n",
       "      <td>teddy</td>\n",
       "      <td>mitten</td>\n",
       "    </tr>\n",
       "    <tr>\n",
       "      <th>1294</th>\n",
       "      <td>chow</td>\n",
       "      <td>Pomeranian</td>\n",
       "      <td>Siamese_cat</td>\n",
       "    </tr>\n",
       "    <tr>\n",
       "      <th>990</th>\n",
       "      <td>agama</td>\n",
       "      <td>Gila_monster</td>\n",
       "      <td>lumbermill</td>\n",
       "    </tr>\n",
       "    <tr>\n",
       "      <th>410</th>\n",
       "      <td>Brabancon_griffon</td>\n",
       "      <td>Chihuahua</td>\n",
       "      <td>golden_retriever</td>\n",
       "    </tr>\n",
       "    <tr>\n",
       "      <th>1672</th>\n",
       "      <td>dingo</td>\n",
       "      <td>Pembroke</td>\n",
       "      <td>basenji</td>\n",
       "    </tr>\n",
       "  </tbody>\n",
       "</table>\n",
       "</div>"
      ],
      "text/plain": [
       "                     p1            p2                p3\n",
       "950                 pug         teddy            mitten\n",
       "1294               chow    Pomeranian       Siamese_cat\n",
       "990               agama  Gila_monster        lumbermill\n",
       "410   Brabancon_griffon     Chihuahua  golden_retriever\n",
       "1672              dingo      Pembroke           basenji"
      ]
     },
     "execution_count": 131,
     "metadata": {},
     "output_type": "execute_result"
    }
   ],
   "source": [
    "df_predict_clean.loc[:, ['p1', 'p2', 'p3']].sample(5)"
   ]
  },
  {
   "cell_type": "markdown",
   "metadata": {},
   "source": [
    "Aplicar a padronização dos nomes em cada uma das colunas de predição"
   ]
  },
  {
   "cell_type": "code",
   "execution_count": 132,
   "metadata": {},
   "outputs": [],
   "source": [
    "df_predict_clean.p1 = df_predict_clean.p1.apply(clean_prediction_name)"
   ]
  },
  {
   "cell_type": "code",
   "execution_count": 133,
   "metadata": {},
   "outputs": [],
   "source": [
    "df_predict_clean.p2 = df_predict_clean.p2.apply(clean_prediction_name)"
   ]
  },
  {
   "cell_type": "code",
   "execution_count": 134,
   "metadata": {},
   "outputs": [],
   "source": [
    "df_predict_clean.p3 = df_predict_clean.p3.apply(clean_prediction_name)"
   ]
  },
  {
   "cell_type": "markdown",
   "metadata": {},
   "source": [
    "#### Teste: Verificar padronização dos nomes das predições"
   ]
  },
  {
   "cell_type": "code",
   "execution_count": 135,
   "metadata": {},
   "outputs": [
    {
     "data": {
      "text/html": [
       "<div>\n",
       "<style scoped>\n",
       "    .dataframe tbody tr th:only-of-type {\n",
       "        vertical-align: middle;\n",
       "    }\n",
       "\n",
       "    .dataframe tbody tr th {\n",
       "        vertical-align: top;\n",
       "    }\n",
       "\n",
       "    .dataframe thead th {\n",
       "        text-align: right;\n",
       "    }\n",
       "</style>\n",
       "<table border=\"1\" class=\"dataframe\">\n",
       "  <thead>\n",
       "    <tr style=\"text-align: right;\">\n",
       "      <th></th>\n",
       "      <th>p1</th>\n",
       "      <th>p2</th>\n",
       "      <th>p3</th>\n",
       "    </tr>\n",
       "  </thead>\n",
       "  <tbody>\n",
       "    <tr>\n",
       "      <th>1916</th>\n",
       "      <td>chihuahua</td>\n",
       "      <td>toy poodle</td>\n",
       "      <td>labrador retriever</td>\n",
       "    </tr>\n",
       "    <tr>\n",
       "      <th>1906</th>\n",
       "      <td>barbell</td>\n",
       "      <td>dumbbell</td>\n",
       "      <td>go-kart</td>\n",
       "    </tr>\n",
       "    <tr>\n",
       "      <th>1958</th>\n",
       "      <td>chesapeake bay retriever</td>\n",
       "      <td>labrador retriever</td>\n",
       "      <td>weimaraner</td>\n",
       "    </tr>\n",
       "    <tr>\n",
       "      <th>596</th>\n",
       "      <td>mailbox</td>\n",
       "      <td>cannon</td>\n",
       "      <td>cuirass</td>\n",
       "    </tr>\n",
       "    <tr>\n",
       "      <th>1241</th>\n",
       "      <td>labrador retriever</td>\n",
       "      <td>golden retriever</td>\n",
       "      <td>doormat</td>\n",
       "    </tr>\n",
       "  </tbody>\n",
       "</table>\n",
       "</div>"
      ],
      "text/plain": [
       "                            p1                  p2                  p3\n",
       "1916                 chihuahua          toy poodle  labrador retriever\n",
       "1906                   barbell            dumbbell             go-kart\n",
       "1958  chesapeake bay retriever  labrador retriever          weimaraner\n",
       "596                    mailbox              cannon             cuirass\n",
       "1241        labrador retriever    golden retriever             doormat"
      ]
     },
     "execution_count": 135,
     "metadata": {},
     "output_type": "execute_result"
    }
   ],
   "source": [
    "df_predict_clean.loc[:, ['p1', 'p2', 'p3']].sample(5)"
   ]
  },
  {
   "cell_type": "markdown",
   "metadata": {},
   "source": [
    "<a id=\"limpeza:image-prediction:duplicated-urls\"></a>\n",
    "\n",
    "#### 2. [Predições repetidas sobre a mesma imagem](#limpeza:image-prediction:duplicated-urls)\n",
    "* Descartar predições sobre imagens repetidas"
   ]
  },
  {
   "cell_type": "code",
   "execution_count": 126,
   "metadata": {},
   "outputs": [
    {
     "name": "stdout",
     "output_type": "stream",
     "text": [
      "<class 'pandas.core.frame.DataFrame'>\n",
      "RangeIndex: 2075 entries, 0 to 2074\n",
      "Data columns (total 12 columns):\n",
      "tweet_id    2075 non-null int64\n",
      "jpg_url     2075 non-null object\n",
      "img_num     2075 non-null int64\n",
      "p1          2075 non-null object\n",
      "p1_conf     2075 non-null float64\n",
      "p1_dog      2075 non-null bool\n",
      "p2          2075 non-null object\n",
      "p2_conf     2075 non-null float64\n",
      "p2_dog      2075 non-null bool\n",
      "p3          2075 non-null object\n",
      "p3_conf     2075 non-null float64\n",
      "p3_dog      2075 non-null bool\n",
      "dtypes: bool(3), float64(3), int64(2), object(4)\n",
      "memory usage: 152.1+ KB\n"
     ]
    }
   ],
   "source": [
    "df_predict_clean.info()"
   ]
  },
  {
   "cell_type": "code",
   "execution_count": 136,
   "metadata": {},
   "outputs": [
    {
     "data": {
      "text/plain": [
       "False    2009\n",
       "True       66\n",
       "dtype: int64"
      ]
     },
     "execution_count": 136,
     "metadata": {},
     "output_type": "execute_result"
    }
   ],
   "source": [
    "df_predict_clean.loc[:, ['jpg_url', 'p1', 'p2', 'p3']].duplicated().value_counts()"
   ]
  },
  {
   "cell_type": "markdown",
   "metadata": {},
   "source": [
    "Dos **2075** registros, **66** são sobre a mesma imagem. Entretanto, seguindo o objetivo de trabalhar com apenas Tweets originais, além de descartar duplicidade é interessante também descartar as refêrencias a Retweets. Para isso, será feita uma consulta a seleção de Tweets originais, que foi efetuada no passo [6 da limpeza do Twitter Archive](#limpeza:twitter-arc:info)"
   ]
  },
  {
   "cell_type": "code",
   "execution_count": 137,
   "metadata": {},
   "outputs": [],
   "source": [
    "df_predict_clean = df_predict_clean.loc[df_predict_clean.tweet_id.isin(df_arch_clean.tweet_id)]"
   ]
  },
  {
   "cell_type": "markdown",
   "metadata": {},
   "source": [
    "#### Teste: Seleção de Tweets originais"
   ]
  },
  {
   "cell_type": "code",
   "execution_count": 140,
   "metadata": {},
   "outputs": [
    {
     "data": {
      "text/plain": [
       "True    1994\n",
       "Name: tweet_id, dtype: int64"
      ]
     },
     "execution_count": 140,
     "metadata": {},
     "output_type": "execute_result"
    }
   ],
   "source": [
    "df_predict_clean.tweet_id.isin(df_arch_clean.tweet_id).value_counts()"
   ]
  },
  {
   "cell_type": "markdown",
   "metadata": {},
   "source": [
    "Apenas dos **2075**, **1994** são de Tweets originais\n",
    "\n",
    "------"
   ]
  },
  {
   "cell_type": "markdown",
   "metadata": {},
   "source": [
    "Dos Tweets originai ainda é necessário verificar a existência de duplicidade de predições."
   ]
  },
  {
   "cell_type": "code",
   "execution_count": 143,
   "metadata": {},
   "outputs": [
    {
     "data": {
      "text/plain": [
       "False    1994\n",
       "dtype: int64"
      ]
     },
     "execution_count": 143,
     "metadata": {},
     "output_type": "execute_result"
    }
   ],
   "source": [
    "df_predict_clean.loc[:, ['jpg_url']].duplicated().value_counts()"
   ]
  },
  {
   "cell_type": "markdown",
   "metadata": {},
   "source": [
    "Nenhuma duplicidade foi encontrada após a remoção das referências de Retweets"
   ]
  },
  {
   "cell_type": "code",
   "execution_count": 144,
   "metadata": {},
   "outputs": [
    {
     "name": "stdout",
     "output_type": "stream",
     "text": [
      "<class 'pandas.core.frame.DataFrame'>\n",
      "Int64Index: 1994 entries, 0 to 2074\n",
      "Data columns (total 12 columns):\n",
      "tweet_id    1994 non-null int64\n",
      "jpg_url     1994 non-null object\n",
      "img_num     1994 non-null int64\n",
      "p1          1994 non-null object\n",
      "p1_conf     1994 non-null float64\n",
      "p1_dog      1994 non-null bool\n",
      "p2          1994 non-null object\n",
      "p2_conf     1994 non-null float64\n",
      "p2_dog      1994 non-null bool\n",
      "p3          1994 non-null object\n",
      "p3_conf     1994 non-null float64\n",
      "p3_dog      1994 non-null bool\n",
      "dtypes: bool(3), float64(3), int64(2), object(4)\n",
      "memory usage: 161.6+ KB\n"
     ]
    }
   ],
   "source": [
    "df_predict_clean.info()"
   ]
  },
  {
   "cell_type": "markdown",
   "metadata": {},
   "source": [
    "<a id=\"limpeza:image-prediction:info\"></a>\n",
    "\n",
    "#### 3. [Colunas como variáveis na identificação das predições](#limpeza:image-prediction:info)\n",
    "* Transpor as variáveis nas colunas para linhas:\n",
    "    1. `[p1, p2, p3]`, para `prediction`\n",
    "    * `[p1_conf, p2_conf, p3_conf]`, para `confidence`\n",
    "    * `[p1_dog, p2_dog, p3_dog]`, para `is_a_dog`"
   ]
  },
  {
   "cell_type": "code",
   "execution_count": 222,
   "metadata": {},
   "outputs": [
    {
     "data": {
      "text/html": [
       "<div>\n",
       "<style scoped>\n",
       "    .dataframe tbody tr th:only-of-type {\n",
       "        vertical-align: middle;\n",
       "    }\n",
       "\n",
       "    .dataframe tbody tr th {\n",
       "        vertical-align: top;\n",
       "    }\n",
       "\n",
       "    .dataframe thead th {\n",
       "        text-align: right;\n",
       "    }\n",
       "</style>\n",
       "<table border=\"1\" class=\"dataframe\">\n",
       "  <thead>\n",
       "    <tr style=\"text-align: right;\">\n",
       "      <th></th>\n",
       "      <th>tweet_id</th>\n",
       "      <th>jpg_url</th>\n",
       "      <th>img_num</th>\n",
       "      <th>p1</th>\n",
       "      <th>p1_conf</th>\n",
       "      <th>p1_dog</th>\n",
       "      <th>p2</th>\n",
       "      <th>p2_conf</th>\n",
       "      <th>p2_dog</th>\n",
       "      <th>p3</th>\n",
       "      <th>p3_conf</th>\n",
       "      <th>p3_dog</th>\n",
       "    </tr>\n",
       "  </thead>\n",
       "  <tbody>\n",
       "    <tr>\n",
       "      <th>1632</th>\n",
       "      <td>805826884734976000</td>\n",
       "      <td>https://pbs.twimg.com/ext_tw_video_thumb/80582...</td>\n",
       "      <td>1</td>\n",
       "      <td>siberian husky</td>\n",
       "      <td>0.248926</td>\n",
       "      <td>True</td>\n",
       "      <td>american staffordshire terrier</td>\n",
       "      <td>0.098313</td>\n",
       "      <td>True</td>\n",
       "      <td>eskimo dog</td>\n",
       "      <td>0.080188</td>\n",
       "      <td>True</td>\n",
       "    </tr>\n",
       "    <tr>\n",
       "      <th>1905</th>\n",
       "      <td>852226086759018497</td>\n",
       "      <td>https://pbs.twimg.com/ext_tw_video_thumb/85222...</td>\n",
       "      <td>1</td>\n",
       "      <td>prison</td>\n",
       "      <td>0.352793</td>\n",
       "      <td>False</td>\n",
       "      <td>dishwasher</td>\n",
       "      <td>0.110723</td>\n",
       "      <td>False</td>\n",
       "      <td>file</td>\n",
       "      <td>0.094112</td>\n",
       "      <td>False</td>\n",
       "    </tr>\n",
       "    <tr>\n",
       "      <th>264</th>\n",
       "      <td>670797304698376195</td>\n",
       "      <td>https://pbs.twimg.com/media/CU8mlhoVAAAteS5.jpg</td>\n",
       "      <td>1</td>\n",
       "      <td>pembroke</td>\n",
       "      <td>0.472197</td>\n",
       "      <td>True</td>\n",
       "      <td>beagle</td>\n",
       "      <td>0.090938</td>\n",
       "      <td>True</td>\n",
       "      <td>german shepherd</td>\n",
       "      <td>0.064366</td>\n",
       "      <td>True</td>\n",
       "    </tr>\n",
       "    <tr>\n",
       "      <th>437</th>\n",
       "      <td>674416750885273600</td>\n",
       "      <td>https://pbs.twimg.com/media/CVwCdCFW4AUHY4D.jpg</td>\n",
       "      <td>1</td>\n",
       "      <td>chihuahua</td>\n",
       "      <td>0.287201</td>\n",
       "      <td>True</td>\n",
       "      <td>boston bull</td>\n",
       "      <td>0.250920</td>\n",
       "      <td>True</td>\n",
       "      <td>whippet</td>\n",
       "      <td>0.141012</td>\n",
       "      <td>True</td>\n",
       "    </tr>\n",
       "    <tr>\n",
       "      <th>1312</th>\n",
       "      <td>754482103782404096</td>\n",
       "      <td>https://pbs.twimg.com/ext_tw_video_thumb/75448...</td>\n",
       "      <td>1</td>\n",
       "      <td>tub</td>\n",
       "      <td>0.596796</td>\n",
       "      <td>False</td>\n",
       "      <td>bathtub</td>\n",
       "      <td>0.381098</td>\n",
       "      <td>False</td>\n",
       "      <td>shower curtain</td>\n",
       "      <td>0.017629</td>\n",
       "      <td>False</td>\n",
       "    </tr>\n",
       "  </tbody>\n",
       "</table>\n",
       "</div>"
      ],
      "text/plain": [
       "                tweet_id                                            jpg_url  \\\n",
       "1632  805826884734976000  https://pbs.twimg.com/ext_tw_video_thumb/80582...   \n",
       "1905  852226086759018497  https://pbs.twimg.com/ext_tw_video_thumb/85222...   \n",
       "264   670797304698376195    https://pbs.twimg.com/media/CU8mlhoVAAAteS5.jpg   \n",
       "437   674416750885273600    https://pbs.twimg.com/media/CVwCdCFW4AUHY4D.jpg   \n",
       "1312  754482103782404096  https://pbs.twimg.com/ext_tw_video_thumb/75448...   \n",
       "\n",
       "      img_num              p1   p1_conf  p1_dog  \\\n",
       "1632        1  siberian husky  0.248926    True   \n",
       "1905        1          prison  0.352793   False   \n",
       "264         1        pembroke  0.472197    True   \n",
       "437         1       chihuahua  0.287201    True   \n",
       "1312        1             tub  0.596796   False   \n",
       "\n",
       "                                  p2   p2_conf  p2_dog               p3  \\\n",
       "1632  american staffordshire terrier  0.098313    True       eskimo dog   \n",
       "1905                      dishwasher  0.110723   False             file   \n",
       "264                           beagle  0.090938    True  german shepherd   \n",
       "437                      boston bull  0.250920    True          whippet   \n",
       "1312                         bathtub  0.381098   False   shower curtain   \n",
       "\n",
       "       p3_conf  p3_dog  \n",
       "1632  0.080188    True  \n",
       "1905  0.094112   False  \n",
       "264   0.064366    True  \n",
       "437   0.141012    True  \n",
       "1312  0.017629   False  "
      ]
     },
     "execution_count": 222,
     "metadata": {},
     "output_type": "execute_result"
    }
   ],
   "source": [
    "df_predict_clean.sample(5)"
   ]
  },
  {
   "cell_type": "markdown",
   "metadata": {},
   "source": [
    "**1. `[p1, p2, p3]`, para `prediction`**"
   ]
  },
  {
   "cell_type": "code",
   "execution_count": 232,
   "metadata": {},
   "outputs": [],
   "source": [
    "# Organizando as variáveis de tentativa de predição para uma coluna apenas\n",
    "df_predic_try = pd.melt(df_predict_clean,\n",
    "        id_vars=['tweet_id', 'jpg_url'],\n",
    "        value_vars=['p1', 'p2', 'p3'],\n",
    "        var_name=['prediction_try'],\n",
    "        value_name='prediction'\n",
    "       )"
   ]
  },
  {
   "cell_type": "code",
   "execution_count": 233,
   "metadata": {},
   "outputs": [
    {
     "data": {
      "text/html": [
       "<div>\n",
       "<style scoped>\n",
       "    .dataframe tbody tr th:only-of-type {\n",
       "        vertical-align: middle;\n",
       "    }\n",
       "\n",
       "    .dataframe tbody tr th {\n",
       "        vertical-align: top;\n",
       "    }\n",
       "\n",
       "    .dataframe thead th {\n",
       "        text-align: right;\n",
       "    }\n",
       "</style>\n",
       "<table border=\"1\" class=\"dataframe\">\n",
       "  <thead>\n",
       "    <tr style=\"text-align: right;\">\n",
       "      <th></th>\n",
       "      <th>tweet_id</th>\n",
       "      <th>jpg_url</th>\n",
       "      <th>prediction_try</th>\n",
       "      <th>prediction</th>\n",
       "    </tr>\n",
       "  </thead>\n",
       "  <tbody>\n",
       "    <tr>\n",
       "      <th>5549</th>\n",
       "      <td>799757965289017345</td>\n",
       "      <td>https://pbs.twimg.com/media/CxlPnoSUcAEXf1i.jpg</td>\n",
       "      <td>p3</td>\n",
       "      <td>shetland sheepdog</td>\n",
       "    </tr>\n",
       "    <tr>\n",
       "      <th>4998</th>\n",
       "      <td>709519240576036864</td>\n",
       "      <td>https://pbs.twimg.com/media/Cdi3-f7W8AUOm9T.jpg</td>\n",
       "      <td>p3</td>\n",
       "      <td>flat-coated retriever</td>\n",
       "    </tr>\n",
       "    <tr>\n",
       "      <th>1940</th>\n",
       "      <td>880465832366813184</td>\n",
       "      <td>https://pbs.twimg.com/media/DDgK-J4XUAIEV9W.jpg</td>\n",
       "      <td>p1</td>\n",
       "      <td>golden retriever</td>\n",
       "    </tr>\n",
       "    <tr>\n",
       "      <th>2449</th>\n",
       "      <td>674781762103414784</td>\n",
       "      <td>https://pbs.twimg.com/media/CV1ObvEWcAA7c6i.jpg</td>\n",
       "      <td>p2</td>\n",
       "      <td>hamster</td>\n",
       "    </tr>\n",
       "    <tr>\n",
       "      <th>5979</th>\n",
       "      <td>891815181378084864</td>\n",
       "      <td>https://pbs.twimg.com/media/DGBdLU1WsAANxJ9.jpg</td>\n",
       "      <td>p3</td>\n",
       "      <td>kelpie</td>\n",
       "    </tr>\n",
       "  </tbody>\n",
       "</table>\n",
       "</div>"
      ],
      "text/plain": [
       "                tweet_id                                          jpg_url  \\\n",
       "5549  799757965289017345  https://pbs.twimg.com/media/CxlPnoSUcAEXf1i.jpg   \n",
       "4998  709519240576036864  https://pbs.twimg.com/media/Cdi3-f7W8AUOm9T.jpg   \n",
       "1940  880465832366813184  https://pbs.twimg.com/media/DDgK-J4XUAIEV9W.jpg   \n",
       "2449  674781762103414784  https://pbs.twimg.com/media/CV1ObvEWcAA7c6i.jpg   \n",
       "5979  891815181378084864  https://pbs.twimg.com/media/DGBdLU1WsAANxJ9.jpg   \n",
       "\n",
       "     prediction_try             prediction  \n",
       "5549             p3      shetland sheepdog  \n",
       "4998             p3  flat-coated retriever  \n",
       "1940             p1       golden retriever  \n",
       "2449             p2                hamster  \n",
       "5979             p3                 kelpie  "
      ]
     },
     "execution_count": 233,
     "metadata": {},
     "output_type": "execute_result"
    }
   ],
   "source": [
    "df_predic_try.sample(5)"
   ]
  },
  {
   "cell_type": "markdown",
   "metadata": {},
   "source": [
    "Conversão dos valores da tentativa para número inteiro"
   ]
  },
  {
   "cell_type": "code",
   "execution_count": 234,
   "metadata": {},
   "outputs": [],
   "source": [
    "# Metodo para retirar o índice da tentativa dos nomes das colunas\n",
    "get_prediction_index = lambda value: int(re.sub(r'[^\\d]', '', value))"
   ]
  },
  {
   "cell_type": "code",
   "execution_count": 235,
   "metadata": {},
   "outputs": [],
   "source": [
    "df_predic_try.prediction_try = df_predic_try.prediction_try.apply(get_prediction_index)"
   ]
  },
  {
   "cell_type": "code",
   "execution_count": 236,
   "metadata": {},
   "outputs": [
    {
     "name": "stdout",
     "output_type": "stream",
     "text": [
      "<class 'pandas.core.frame.DataFrame'>\n",
      "RangeIndex: 5982 entries, 0 to 5981\n",
      "Data columns (total 4 columns):\n",
      "tweet_id          5982 non-null int64\n",
      "jpg_url           5982 non-null object\n",
      "prediction_try    5982 non-null int64\n",
      "prediction        5982 non-null object\n",
      "dtypes: int64(2), object(2)\n",
      "memory usage: 187.0+ KB\n"
     ]
    }
   ],
   "source": [
    "df_predic_try.info()"
   ]
  },
  {
   "cell_type": "code",
   "execution_count": 237,
   "metadata": {},
   "outputs": [
    {
     "data": {
      "text/html": [
       "<div>\n",
       "<style scoped>\n",
       "    .dataframe tbody tr th:only-of-type {\n",
       "        vertical-align: middle;\n",
       "    }\n",
       "\n",
       "    .dataframe tbody tr th {\n",
       "        vertical-align: top;\n",
       "    }\n",
       "\n",
       "    .dataframe thead th {\n",
       "        text-align: right;\n",
       "    }\n",
       "</style>\n",
       "<table border=\"1\" class=\"dataframe\">\n",
       "  <thead>\n",
       "    <tr style=\"text-align: right;\">\n",
       "      <th></th>\n",
       "      <th>tweet_id</th>\n",
       "      <th>jpg_url</th>\n",
       "      <th>prediction_try</th>\n",
       "      <th>prediction</th>\n",
       "    </tr>\n",
       "  </thead>\n",
       "  <tbody>\n",
       "    <tr>\n",
       "      <th>5734</th>\n",
       "      <td>833124694597443584</td>\n",
       "      <td>https://pbs.twimg.com/media/C4_ad1IUoAEspsk.jpg</td>\n",
       "      <td>3</td>\n",
       "      <td>shopping cart</td>\n",
       "    </tr>\n",
       "    <tr>\n",
       "      <th>4894</th>\n",
       "      <td>700505138482569216</td>\n",
       "      <td>https://pbs.twimg.com/media/Cbixs3vUUAAqHHN.jpg</td>\n",
       "      <td>3</td>\n",
       "      <td>great dane</td>\n",
       "    </tr>\n",
       "    <tr>\n",
       "      <th>5052</th>\n",
       "      <td>715733265223708672</td>\n",
       "      <td>https://pbs.twimg.com/media/Ce7LlUeUUAEQkQl.jpg</td>\n",
       "      <td>3</td>\n",
       "      <td>toy poodle</td>\n",
       "    </tr>\n",
       "    <tr>\n",
       "      <th>1605</th>\n",
       "      <td>810284430598270976</td>\n",
       "      <td>https://pbs.twimg.com/media/Cz61ZD4W8AAcJEU.jpg</td>\n",
       "      <td>1</td>\n",
       "      <td>malamute</td>\n",
       "    </tr>\n",
       "    <tr>\n",
       "      <th>1963</th>\n",
       "      <td>885984800019947520</td>\n",
       "      <td>https://pbs.twimg.com/media/DEumeWWV0AA-Z61.jpg</td>\n",
       "      <td>1</td>\n",
       "      <td>blenheim spaniel</td>\n",
       "    </tr>\n",
       "  </tbody>\n",
       "</table>\n",
       "</div>"
      ],
      "text/plain": [
       "                tweet_id                                          jpg_url  \\\n",
       "5734  833124694597443584  https://pbs.twimg.com/media/C4_ad1IUoAEspsk.jpg   \n",
       "4894  700505138482569216  https://pbs.twimg.com/media/Cbixs3vUUAAqHHN.jpg   \n",
       "5052  715733265223708672  https://pbs.twimg.com/media/Ce7LlUeUUAEQkQl.jpg   \n",
       "1605  810284430598270976  https://pbs.twimg.com/media/Cz61ZD4W8AAcJEU.jpg   \n",
       "1963  885984800019947520  https://pbs.twimg.com/media/DEumeWWV0AA-Z61.jpg   \n",
       "\n",
       "      prediction_try        prediction  \n",
       "5734               3     shopping cart  \n",
       "4894               3        great dane  \n",
       "5052               3        toy poodle  \n",
       "1605               1          malamute  \n",
       "1963               1  blenheim spaniel  "
      ]
     },
     "execution_count": 237,
     "metadata": {},
     "output_type": "execute_result"
    }
   ],
   "source": [
    "df_predic_try.sample(5)"
   ]
  },
  {
   "cell_type": "markdown",
   "metadata": {},
   "source": [
    "**2. `[p1_conf, p2_conf, p3_conf]`, para `confidence`**"
   ]
  },
  {
   "cell_type": "code",
   "execution_count": 249,
   "metadata": {},
   "outputs": [],
   "source": [
    "# Movendo o nível de confiança das predições para uma coluna apenas\n",
    "df_predic_conf = pd.melt(df_predic_clean,\n",
    "                         id_vars=['tweet_id', 'jpg_url'],\n",
    "                         value_vars=['p1_conf', 'p2_conf', 'p3_conf'],\n",
    "                         var_name=['prediction_try'],\n",
    "                         value_name='confidence'\n",
    "                        )"
   ]
  },
  {
   "cell_type": "code",
   "execution_count": 250,
   "metadata": {},
   "outputs": [
    {
     "data": {
      "text/html": [
       "<div>\n",
       "<style scoped>\n",
       "    .dataframe tbody tr th:only-of-type {\n",
       "        vertical-align: middle;\n",
       "    }\n",
       "\n",
       "    .dataframe tbody tr th {\n",
       "        vertical-align: top;\n",
       "    }\n",
       "\n",
       "    .dataframe thead th {\n",
       "        text-align: right;\n",
       "    }\n",
       "</style>\n",
       "<table border=\"1\" class=\"dataframe\">\n",
       "  <thead>\n",
       "    <tr style=\"text-align: right;\">\n",
       "      <th></th>\n",
       "      <th>tweet_id</th>\n",
       "      <th>jpg_url</th>\n",
       "      <th>prediction_try</th>\n",
       "      <th>confidence</th>\n",
       "    </tr>\n",
       "  </thead>\n",
       "  <tbody>\n",
       "    <tr>\n",
       "      <th>83</th>\n",
       "      <td>667495797102141441</td>\n",
       "      <td>https://pbs.twimg.com/media/CUNr4-7UwAAg2lq.jpg</td>\n",
       "      <td>p1_conf</td>\n",
       "      <td>0.143957</td>\n",
       "    </tr>\n",
       "    <tr>\n",
       "      <th>1799</th>\n",
       "      <td>831670449226514432</td>\n",
       "      <td>https://pbs.twimg.com/media/C4qv3JUW8AADirb.jpg</td>\n",
       "      <td>p1_conf</td>\n",
       "      <td>0.624802</td>\n",
       "    </tr>\n",
       "    <tr>\n",
       "      <th>3440</th>\n",
       "      <td>761599872357261312</td>\n",
       "      <td>https://pbs.twimg.com/media/CpG_CrlWYAYyuP3.jpg</td>\n",
       "      <td>p2_conf</td>\n",
       "      <td>0.224269</td>\n",
       "    </tr>\n",
       "    <tr>\n",
       "      <th>5516</th>\n",
       "      <td>761672994376806400</td>\n",
       "      <td>https://pbs.twimg.com/ext_tw_video_thumb/76167...</td>\n",
       "      <td>p3_conf</td>\n",
       "      <td>0.111565</td>\n",
       "    </tr>\n",
       "    <tr>\n",
       "      <th>3066</th>\n",
       "      <td>708026248782585858</td>\n",
       "      <td>https://pbs.twimg.com/ext_tw_video_thumb/70802...</td>\n",
       "      <td>p2_conf</td>\n",
       "      <td>0.068979</td>\n",
       "    </tr>\n",
       "  </tbody>\n",
       "</table>\n",
       "</div>"
      ],
      "text/plain": [
       "                tweet_id                                            jpg_url  \\\n",
       "83    667495797102141441    https://pbs.twimg.com/media/CUNr4-7UwAAg2lq.jpg   \n",
       "1799  831670449226514432    https://pbs.twimg.com/media/C4qv3JUW8AADirb.jpg   \n",
       "3440  761599872357261312    https://pbs.twimg.com/media/CpG_CrlWYAYyuP3.jpg   \n",
       "5516  761672994376806400  https://pbs.twimg.com/ext_tw_video_thumb/76167...   \n",
       "3066  708026248782585858  https://pbs.twimg.com/ext_tw_video_thumb/70802...   \n",
       "\n",
       "     prediction_try  confidence  \n",
       "83          p1_conf    0.143957  \n",
       "1799        p1_conf    0.624802  \n",
       "3440        p2_conf    0.224269  \n",
       "5516        p3_conf    0.111565  \n",
       "3066        p2_conf    0.068979  "
      ]
     },
     "execution_count": 250,
     "metadata": {},
     "output_type": "execute_result"
    }
   ],
   "source": [
    "df_predic_conf.sample(5)"
   ]
  },
  {
   "cell_type": "code",
   "execution_count": 252,
   "metadata": {},
   "outputs": [],
   "source": [
    "# Atribuir apenas valores inteiros aos indicadores de tentativa\n",
    "df_predic_conf.prediction_try = df_predic_conf.prediction_try.apply(get_prediction_index)"
   ]
  },
  {
   "cell_type": "code",
   "execution_count": 253,
   "metadata": {},
   "outputs": [
    {
     "data": {
      "text/html": [
       "<div>\n",
       "<style scoped>\n",
       "    .dataframe tbody tr th:only-of-type {\n",
       "        vertical-align: middle;\n",
       "    }\n",
       "\n",
       "    .dataframe tbody tr th {\n",
       "        vertical-align: top;\n",
       "    }\n",
       "\n",
       "    .dataframe thead th {\n",
       "        text-align: right;\n",
       "    }\n",
       "</style>\n",
       "<table border=\"1\" class=\"dataframe\">\n",
       "  <thead>\n",
       "    <tr style=\"text-align: right;\">\n",
       "      <th></th>\n",
       "      <th>tweet_id</th>\n",
       "      <th>jpg_url</th>\n",
       "      <th>prediction_try</th>\n",
       "      <th>confidence</th>\n",
       "    </tr>\n",
       "  </thead>\n",
       "  <tbody>\n",
       "    <tr>\n",
       "      <th>3476</th>\n",
       "      <td>768855141948723200</td>\n",
       "      <td>https://pbs.twimg.com/media/CquFrCKWAAAr32m.jpg</td>\n",
       "      <td>2</td>\n",
       "      <td>0.058365</td>\n",
       "    </tr>\n",
       "    <tr>\n",
       "      <th>5789</th>\n",
       "      <td>807010152071229440</td>\n",
       "      <td>https://pbs.twimg.com/media/CzMTcZoXUAEKqEt.jpg</td>\n",
       "      <td>3</td>\n",
       "      <td>0.031887</td>\n",
       "    </tr>\n",
       "    <tr>\n",
       "      <th>5893</th>\n",
       "      <td>822859134160621569</td>\n",
       "      <td>https://pbs.twimg.com/media/C2tiAzGXgAIFdqi.jpg</td>\n",
       "      <td>3</td>\n",
       "      <td>0.047745</td>\n",
       "    </tr>\n",
       "    <tr>\n",
       "      <th>2878</th>\n",
       "      <td>691483041324204033</td>\n",
       "      <td>https://pbs.twimg.com/media/CZikKBIWYAA40Az.jpg</td>\n",
       "      <td>2</td>\n",
       "      <td>0.077420</td>\n",
       "    </tr>\n",
       "    <tr>\n",
       "      <th>5796</th>\n",
       "      <td>808501579447930884</td>\n",
       "      <td>https://pbs.twimg.com/media/Czhf4XtVQAAIqpd.jpg</td>\n",
       "      <td>3</td>\n",
       "      <td>0.093193</td>\n",
       "    </tr>\n",
       "  </tbody>\n",
       "</table>\n",
       "</div>"
      ],
      "text/plain": [
       "                tweet_id                                          jpg_url  \\\n",
       "3476  768855141948723200  https://pbs.twimg.com/media/CquFrCKWAAAr32m.jpg   \n",
       "5789  807010152071229440  https://pbs.twimg.com/media/CzMTcZoXUAEKqEt.jpg   \n",
       "5893  822859134160621569  https://pbs.twimg.com/media/C2tiAzGXgAIFdqi.jpg   \n",
       "2878  691483041324204033  https://pbs.twimg.com/media/CZikKBIWYAA40Az.jpg   \n",
       "5796  808501579447930884  https://pbs.twimg.com/media/Czhf4XtVQAAIqpd.jpg   \n",
       "\n",
       "      prediction_try  confidence  \n",
       "3476               2    0.058365  \n",
       "5789               3    0.031887  \n",
       "5893               3    0.047745  \n",
       "2878               2    0.077420  \n",
       "5796               3    0.093193  "
      ]
     },
     "execution_count": 253,
     "metadata": {},
     "output_type": "execute_result"
    }
   ],
   "source": [
    "df_predic_conf.sample(5)"
   ]
  },
  {
   "cell_type": "markdown",
   "metadata": {},
   "source": [
    "**3. `[p1_dog, p2_dog, p3_dog]`, para `is_a_dog`**"
   ]
  },
  {
   "cell_type": "code",
   "execution_count": null,
   "metadata": {},
   "outputs": [],
   "source": [
    "# Resultado "
   ]
  },
  {
   "cell_type": "markdown",
   "metadata": {},
   "source": [
    "------\n",
    "<a id=\"limpeza:twitter-api\"></a>\n",
    "\n",
    "## Limpeza: Twitter API"
   ]
  },
  {
   "cell_type": "markdown",
   "metadata": {},
   "source": [
    "------\n",
    "<a id=\"armazenamento\"></a>\n",
    "\n",
    "# Armazenamento"
   ]
  },
  {
   "cell_type": "markdown",
   "metadata": {},
   "source": [
    "# Relatórios"
   ]
  },
  {
   "cell_type": "markdown",
   "metadata": {},
   "source": [
    "* Data wrangling efforts\n",
    "* Analyses and visualizations"
   ]
  }
 ],
 "metadata": {
  "kernelspec": {
   "display_name": "Python 3",
   "language": "python",
   "name": "python3"
  },
  "language_info": {
   "codemirror_mode": {
    "name": "ipython",
    "version": 3
   },
   "file_extension": ".py",
   "mimetype": "text/x-python",
   "name": "python",
   "nbconvert_exporter": "python",
   "pygments_lexer": "ipython3",
   "version": "3.6.8"
  }
 },
 "nbformat": 4,
 "nbformat_minor": 2
}
