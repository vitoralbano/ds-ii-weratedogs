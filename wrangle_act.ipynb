{
 "cells": [
  {
   "cell_type": "code",
   "execution_count": 1,
   "metadata": {},
   "outputs": [],
   "source": [
    "import matplotlib.pyplot as plt\n",
    "import pandas as pd\n",
    "import numpy as np\n",
    "import requests\n",
    "import tweepy\n",
    "import json\n",
    "import os\n",
    "import re\n",
    "\n",
    "from IPython.display import clear_output\n",
    "\n",
    "%matplotlib inline"
   ]
  },
  {
   "cell_type": "markdown",
   "metadata": {},
   "source": [
    "------\n",
    "<a id=\"indice\"></a>\n",
    "\n",
    "# Índice"
   ]
  },
  {
   "cell_type": "markdown",
   "metadata": {},
   "source": [
    "1. **[Coleta](#coleta)**\n",
    "    * [Twitter Archive](#coleta:twitter-archive)\n",
    "    * [Image Prediction](#coleta:image-prediction)\n",
    "    * [Twitter API](#coleta:twitter-api)\n",
    "    \n",
    "    \n",
    "2. **[Avaliação](#avaliacao)**\n",
    "    * [Twitter Archive](#avaliacao:twitter-archive)\n",
    "    * [Image Prediction](#avaliacao:image-prediction)\n",
    "    * [Twitter API](#avaliacao:twitter-api)\n",
    "    * [Notas da avaliação](#avaliacao:anotacoes)\n",
    "    \n",
    "    \n",
    "3. **[Limpeza](#limpeza)**\n",
    "    * [Definição](#limpeza:definicao)\n",
    "    * [Twitter Archive](#limpeza:twitter-archive)\n",
    "    * [Image Prediction](#limpeza:image-prediction)\n",
    "    * [Twitter API](#limpeza:twitter-api)\n",
    "    \n",
    "    \n",
    "4. **[Master dataframe](#master-dataframe)**\n",
    "\n",
    "\n",
    "5. **[Armazenamento](#armazenamento)**\n",
    "\n",
    "\n",
    "6. **[Insights](#insights)**"
   ]
  },
  {
   "cell_type": "markdown",
   "metadata": {},
   "source": [
    "------\n",
    "<a id=\"coleta\"></a>"
   ]
  },
  {
   "cell_type": "markdown",
   "metadata": {},
   "source": [
    "# Coleta"
   ]
  },
  {
   "cell_type": "markdown",
   "metadata": {},
   "source": [
    "<a id=\"coleta:twitter-archive\"></a>"
   ]
  },
  {
   "cell_type": "markdown",
   "metadata": {},
   "source": [
    "## Coleta: Twitter archive"
   ]
  },
  {
   "cell_type": "code",
   "execution_count": 2,
   "metadata": {},
   "outputs": [
    {
     "data": {
      "text/html": [
       "<div>\n",
       "<style scoped>\n",
       "    .dataframe tbody tr th:only-of-type {\n",
       "        vertical-align: middle;\n",
       "    }\n",
       "\n",
       "    .dataframe tbody tr th {\n",
       "        vertical-align: top;\n",
       "    }\n",
       "\n",
       "    .dataframe thead th {\n",
       "        text-align: right;\n",
       "    }\n",
       "</style>\n",
       "<table border=\"1\" class=\"dataframe\">\n",
       "  <thead>\n",
       "    <tr style=\"text-align: right;\">\n",
       "      <th></th>\n",
       "      <th>tweet_id</th>\n",
       "      <th>in_reply_to_status_id</th>\n",
       "      <th>in_reply_to_user_id</th>\n",
       "      <th>timestamp</th>\n",
       "      <th>source</th>\n",
       "      <th>text</th>\n",
       "      <th>retweeted_status_id</th>\n",
       "      <th>retweeted_status_user_id</th>\n",
       "      <th>retweeted_status_timestamp</th>\n",
       "      <th>expanded_urls</th>\n",
       "      <th>rating_numerator</th>\n",
       "      <th>rating_denominator</th>\n",
       "      <th>name</th>\n",
       "      <th>doggo</th>\n",
       "      <th>floofer</th>\n",
       "      <th>pupper</th>\n",
       "      <th>puppo</th>\n",
       "    </tr>\n",
       "  </thead>\n",
       "  <tbody>\n",
       "    <tr>\n",
       "      <th>563</th>\n",
       "      <td>802572683846291456</td>\n",
       "      <td>NaN</td>\n",
       "      <td>NaN</td>\n",
       "      <td>2016-11-26 18:00:13 +0000</td>\n",
       "      <td>&lt;a href=\"http://twitter.com/download/iphone\" r...</td>\n",
       "      <td>This is Winnie. She's h*ckin ferocious. Dandel...</td>\n",
       "      <td>NaN</td>\n",
       "      <td>NaN</td>\n",
       "      <td>NaN</td>\n",
       "      <td>https://twitter.com/dog_rates/status/802572683...</td>\n",
       "      <td>12</td>\n",
       "      <td>10</td>\n",
       "      <td>Winnie</td>\n",
       "      <td>None</td>\n",
       "      <td>None</td>\n",
       "      <td>None</td>\n",
       "      <td>None</td>\n",
       "    </tr>\n",
       "    <tr>\n",
       "      <th>320</th>\n",
       "      <td>834458053273591808</td>\n",
       "      <td>NaN</td>\n",
       "      <td>NaN</td>\n",
       "      <td>2017-02-22 17:41:18 +0000</td>\n",
       "      <td>&lt;a href=\"http://twitter.com/download/iphone\" r...</td>\n",
       "      <td>Meet Chester (bottom) &amp;amp; Harold (top). They...</td>\n",
       "      <td>NaN</td>\n",
       "      <td>NaN</td>\n",
       "      <td>NaN</td>\n",
       "      <td>https://twitter.com/dog_rates/status/834458053...</td>\n",
       "      <td>12</td>\n",
       "      <td>10</td>\n",
       "      <td>Chester</td>\n",
       "      <td>None</td>\n",
       "      <td>None</td>\n",
       "      <td>None</td>\n",
       "      <td>None</td>\n",
       "    </tr>\n",
       "  </tbody>\n",
       "</table>\n",
       "</div>"
      ],
      "text/plain": [
       "               tweet_id  in_reply_to_status_id  in_reply_to_user_id  \\\n",
       "563  802572683846291456                    NaN                  NaN   \n",
       "320  834458053273591808                    NaN                  NaN   \n",
       "\n",
       "                     timestamp  \\\n",
       "563  2016-11-26 18:00:13 +0000   \n",
       "320  2017-02-22 17:41:18 +0000   \n",
       "\n",
       "                                                source  \\\n",
       "563  <a href=\"http://twitter.com/download/iphone\" r...   \n",
       "320  <a href=\"http://twitter.com/download/iphone\" r...   \n",
       "\n",
       "                                                  text  retweeted_status_id  \\\n",
       "563  This is Winnie. She's h*ckin ferocious. Dandel...                  NaN   \n",
       "320  Meet Chester (bottom) &amp; Harold (top). They...                  NaN   \n",
       "\n",
       "     retweeted_status_user_id retweeted_status_timestamp  \\\n",
       "563                       NaN                        NaN   \n",
       "320                       NaN                        NaN   \n",
       "\n",
       "                                         expanded_urls  rating_numerator  \\\n",
       "563  https://twitter.com/dog_rates/status/802572683...                12   \n",
       "320  https://twitter.com/dog_rates/status/834458053...                12   \n",
       "\n",
       "     rating_denominator     name doggo floofer pupper puppo  \n",
       "563                  10   Winnie  None    None   None  None  \n",
       "320                  10  Chester  None    None   None  None  "
      ]
     },
     "execution_count": 2,
     "metadata": {},
     "output_type": "execute_result"
    }
   ],
   "source": [
    "df_twitter_arc = pd.read_csv('data/twitter-archive-enhanced.csv')\n",
    "df_twitter_arc.sample(2)"
   ]
  },
  {
   "cell_type": "markdown",
   "metadata": {},
   "source": [
    "<a id=\"coleta:image-prediction\"></a>"
   ]
  },
  {
   "cell_type": "markdown",
   "metadata": {},
   "source": [
    "## Coleta: Image prediction"
   ]
  },
  {
   "cell_type": "code",
   "execution_count": 3,
   "metadata": {},
   "outputs": [],
   "source": [
    "df_prediction = None\n",
    "\n",
    "r = requests.get('https://d17h27t6h515a5.cloudfront.net/topher/2017/August/599fd2ad_image-predictions/image-predictions.tsv')\n",
    "\n",
    "if r.status_code is 200:\n",
    "    df_prediction = pd.read_csv(pd.compat.StringIO(r.text), sep='\\t')    \n",
    "else:    \n",
    "    print('ERROR: Image prediction request returned {status_code} status code.'.format(status_code = r.status_code))"
   ]
  },
  {
   "cell_type": "code",
   "execution_count": 4,
   "metadata": {},
   "outputs": [
    {
     "data": {
      "text/html": [
       "<div>\n",
       "<style scoped>\n",
       "    .dataframe tbody tr th:only-of-type {\n",
       "        vertical-align: middle;\n",
       "    }\n",
       "\n",
       "    .dataframe tbody tr th {\n",
       "        vertical-align: top;\n",
       "    }\n",
       "\n",
       "    .dataframe thead th {\n",
       "        text-align: right;\n",
       "    }\n",
       "</style>\n",
       "<table border=\"1\" class=\"dataframe\">\n",
       "  <thead>\n",
       "    <tr style=\"text-align: right;\">\n",
       "      <th></th>\n",
       "      <th>tweet_id</th>\n",
       "      <th>jpg_url</th>\n",
       "      <th>img_num</th>\n",
       "      <th>p1</th>\n",
       "      <th>p1_conf</th>\n",
       "      <th>p1_dog</th>\n",
       "      <th>p2</th>\n",
       "      <th>p2_conf</th>\n",
       "      <th>p2_dog</th>\n",
       "      <th>p3</th>\n",
       "      <th>p3_conf</th>\n",
       "      <th>p3_dog</th>\n",
       "    </tr>\n",
       "  </thead>\n",
       "  <tbody>\n",
       "    <tr>\n",
       "      <th>965</th>\n",
       "      <td>706265994973601792</td>\n",
       "      <td>https://pbs.twimg.com/media/Cc0pLU0WAAEfGEw.jpg</td>\n",
       "      <td>1</td>\n",
       "      <td>papillon</td>\n",
       "      <td>0.743715</td>\n",
       "      <td>True</td>\n",
       "      <td>Pekinese</td>\n",
       "      <td>0.114042</td>\n",
       "      <td>True</td>\n",
       "      <td>Saint_Bernard</td>\n",
       "      <td>0.047715</td>\n",
       "      <td>True</td>\n",
       "    </tr>\n",
       "    <tr>\n",
       "      <th>1378</th>\n",
       "      <td>764259802650378240</td>\n",
       "      <td>https://pbs.twimg.com/media/CpsyNtXWgAAqvs3.jpg</td>\n",
       "      <td>1</td>\n",
       "      <td>German_shepherd</td>\n",
       "      <td>0.973677</td>\n",
       "      <td>True</td>\n",
       "      <td>malinois</td>\n",
       "      <td>0.025950</td>\n",
       "      <td>True</td>\n",
       "      <td>kelpie</td>\n",
       "      <td>0.000192</td>\n",
       "      <td>True</td>\n",
       "    </tr>\n",
       "  </tbody>\n",
       "</table>\n",
       "</div>"
      ],
      "text/plain": [
       "                tweet_id                                          jpg_url  \\\n",
       "965   706265994973601792  https://pbs.twimg.com/media/Cc0pLU0WAAEfGEw.jpg   \n",
       "1378  764259802650378240  https://pbs.twimg.com/media/CpsyNtXWgAAqvs3.jpg   \n",
       "\n",
       "      img_num               p1   p1_conf  p1_dog        p2   p2_conf  p2_dog  \\\n",
       "965         1         papillon  0.743715    True  Pekinese  0.114042    True   \n",
       "1378        1  German_shepherd  0.973677    True  malinois  0.025950    True   \n",
       "\n",
       "                 p3   p3_conf  p3_dog  \n",
       "965   Saint_Bernard  0.047715    True  \n",
       "1378         kelpie  0.000192    True  "
      ]
     },
     "execution_count": 4,
     "metadata": {},
     "output_type": "execute_result"
    }
   ],
   "source": [
    "df_prediction.sample(2)"
   ]
  },
  {
   "cell_type": "code",
   "execution_count": 5,
   "metadata": {},
   "outputs": [],
   "source": [
    "df_prediction.to_csv('data/image_predictions.tsv')"
   ]
  },
  {
   "cell_type": "markdown",
   "metadata": {},
   "source": [
    "<a id=\"coleta:twitter-api\"></a>"
   ]
  },
  {
   "cell_type": "markdown",
   "metadata": {},
   "source": [
    "## Coleta: Twitter API"
   ]
  },
  {
   "cell_type": "code",
   "execution_count": 6,
   "metadata": {},
   "outputs": [],
   "source": [
    "# Carregar configuração do Twitter App\n",
    "with open('twitter_config.json', 'r', encoding='utf-8') as file:\n",
    "    app_config = json.load(file)"
   ]
  },
  {
   "cell_type": "code",
   "execution_count": 7,
   "metadata": {},
   "outputs": [],
   "source": [
    "# Atribuição da configurações a variaveis locais\n",
    "api_key = app_config['api_key']\n",
    "api_secret = app_config['api_secret']\n",
    "access_token = app_config['access_token']\n",
    "access_secret = app_config['access_secret']"
   ]
  },
  {
   "cell_type": "code",
   "execution_count": 8,
   "metadata": {},
   "outputs": [],
   "source": [
    "# Autentificação ao Twitter App\n",
    "auth = tweepy.OAuthHandler(api_key, api_secret)\n",
    "auth.set_access_token(access_token, access_secret)\n",
    "\n",
    "api = tweepy.API(auth, wait_on_rate_limit=True, wait_on_rate_limit_notify=True)"
   ]
  },
  {
   "cell_type": "markdown",
   "metadata": {},
   "source": [
    "Buscar dados do histórico de Tweets na API"
   ]
  },
  {
   "cell_type": "code",
   "execution_count": 9,
   "metadata": {},
   "outputs": [
    {
     "name": "stdout",
     "output_type": "stream",
     "text": [
      "Dados já salvos em disco, não serão executadas novas requisições à API do Twitter.\n"
     ]
    }
   ],
   "source": [
    "json_path = 'data/tweet_json.txt'\n",
    "error_log = 'data/tweet_error.log'\n",
    "\n",
    "# Salvar Tweets localmente\n",
    "if(not os.path.isfile(json_path)):\n",
    "    print('Aguarde. Dado o volume de requisições, a coleta de tweets pode demorar alguns minutos.')\n",
    "    tweet_count = 0\n",
    "    for tweet_id in df_twitter_arc.tweet_id:\n",
    "        print('{percent}%'.format(percent=int((++tweet_count/df_twitter_arc.tweet_id.size)*100)))\n",
    "        try:\n",
    "            status = api.get_status(tweet_id)\n",
    "            with open(json_path, 'a', newline='\\n') as file:\n",
    "                file.write(f'{json.dumps(status._json)}\\n')\n",
    "\n",
    "        except Exception as err:\n",
    "            with open(error_log, 'a', newline='\\n') as log:\n",
    "                log.write(f'{str(tweet_id)}: {str(err.args[0])}\\n')\n",
    "            print(f'{str(tweet_id)}: {str(err.args[0])}')\n",
    "        \n",
    "        clear_output(wait=True)\n",
    "else:\n",
    "    print('Dados já salvos em disco, não serão executadas novas requisições à API do Twitter.')\n",
    "        "
   ]
  },
  {
   "cell_type": "code",
   "execution_count": 10,
   "metadata": {},
   "outputs": [],
   "source": [
    "# Criar uma lista de Dictionaries com os Tweets carregados\n",
    "tweets = []\n",
    "\n",
    "with open(json_path, 'r') as file:\n",
    "    for line in file:\n",
    "        try:\n",
    "            tweet = json.loads(line)\n",
    "            \n",
    "            if(tweet.get('entities', False)):\n",
    "                if(tweet['entities'].get('media', False) and tweet['entities']['media'][0].get('media_url', False)):\n",
    "                    tweets.append({\n",
    "                        'id': int(tweet['id']),\n",
    "                        'created_at': tweet['created_at'],\n",
    "                        'in_reply_to_status_id': str(tweet['in_reply_to_status_id']),\n",
    "                        'in_reply_to_user_id': str(tweet['in_reply_to_user_id']),\n",
    "                        'is_quote_status': tweet['is_quote_status'],\n",
    "                        'retweet_count': int(tweet['retweet_count']),\n",
    "                        'favorite_count': int(tweet['favorite_count']),\n",
    "                        'media_url': tweet['entities']['media'][0]['media_url'],\n",
    "                        'retweeted': tweet['retweeted'],\n",
    "                        'favorited': tweet['favorited']\n",
    "                    })\n",
    "            \n",
    "            \n",
    "        except Exception as e:\n",
    "            print(e) \n",
    "            \n",
    "        "
   ]
  },
  {
   "cell_type": "code",
   "execution_count": 11,
   "metadata": {},
   "outputs": [],
   "source": [
    "# Criar dataframe de Tweets consultados na API\n",
    "columns = tweets[0].keys()\n",
    "df_tweets_api = pd.DataFrame(tweets, columns = columns)"
   ]
  },
  {
   "cell_type": "markdown",
   "metadata": {},
   "source": [
    "------\n",
    "<a id=\"avaliacao\"></a>\n",
    "\n",
    "# Avaliação"
   ]
  },
  {
   "cell_type": "markdown",
   "metadata": {},
   "source": [
    "<a id=\"avaliacao:twitter-archive\"></a>\n",
    "\n",
    "## Avaliação: Twitter data archive"
   ]
  },
  {
   "cell_type": "code",
   "execution_count": 12,
   "metadata": {},
   "outputs": [
    {
     "data": {
      "text/html": [
       "<div>\n",
       "<style scoped>\n",
       "    .dataframe tbody tr th:only-of-type {\n",
       "        vertical-align: middle;\n",
       "    }\n",
       "\n",
       "    .dataframe tbody tr th {\n",
       "        vertical-align: top;\n",
       "    }\n",
       "\n",
       "    .dataframe thead th {\n",
       "        text-align: right;\n",
       "    }\n",
       "</style>\n",
       "<table border=\"1\" class=\"dataframe\">\n",
       "  <thead>\n",
       "    <tr style=\"text-align: right;\">\n",
       "      <th></th>\n",
       "      <th>tweet_id</th>\n",
       "      <th>in_reply_to_status_id</th>\n",
       "      <th>in_reply_to_user_id</th>\n",
       "      <th>timestamp</th>\n",
       "      <th>source</th>\n",
       "      <th>text</th>\n",
       "      <th>retweeted_status_id</th>\n",
       "      <th>retweeted_status_user_id</th>\n",
       "      <th>retweeted_status_timestamp</th>\n",
       "      <th>expanded_urls</th>\n",
       "      <th>rating_numerator</th>\n",
       "      <th>rating_denominator</th>\n",
       "      <th>name</th>\n",
       "      <th>doggo</th>\n",
       "      <th>floofer</th>\n",
       "      <th>pupper</th>\n",
       "      <th>puppo</th>\n",
       "    </tr>\n",
       "  </thead>\n",
       "  <tbody>\n",
       "    <tr>\n",
       "      <th>1658</th>\n",
       "      <td>683111407806746624</td>\n",
       "      <td>NaN</td>\n",
       "      <td>NaN</td>\n",
       "      <td>2016-01-02 02:23:45 +0000</td>\n",
       "      <td>&lt;a href=\"http://twitter.com/download/iphone\" r...</td>\n",
       "      <td>This is Larry. He thought the New Year's parti...</td>\n",
       "      <td>NaN</td>\n",
       "      <td>NaN</td>\n",
       "      <td>NaN</td>\n",
       "      <td>https://twitter.com/dog_rates/status/683111407...</td>\n",
       "      <td>10</td>\n",
       "      <td>10</td>\n",
       "      <td>Larry</td>\n",
       "      <td>None</td>\n",
       "      <td>None</td>\n",
       "      <td>pupper</td>\n",
       "      <td>None</td>\n",
       "    </tr>\n",
       "    <tr>\n",
       "      <th>1489</th>\n",
       "      <td>692905862751522816</td>\n",
       "      <td>NaN</td>\n",
       "      <td>NaN</td>\n",
       "      <td>2016-01-29 03:03:25 +0000</td>\n",
       "      <td>&lt;a href=\"http://twitter.com/download/iphone\" r...</td>\n",
       "      <td>This is Wally. He's being abducted by aliens. ...</td>\n",
       "      <td>NaN</td>\n",
       "      <td>NaN</td>\n",
       "      <td>NaN</td>\n",
       "      <td>https://twitter.com/dog_rates/status/692905862...</td>\n",
       "      <td>10</td>\n",
       "      <td>10</td>\n",
       "      <td>Wally</td>\n",
       "      <td>None</td>\n",
       "      <td>None</td>\n",
       "      <td>pupper</td>\n",
       "      <td>None</td>\n",
       "    </tr>\n",
       "    <tr>\n",
       "      <th>678</th>\n",
       "      <td>789268448748703744</td>\n",
       "      <td>NaN</td>\n",
       "      <td>NaN</td>\n",
       "      <td>2016-10-21 00:53:56 +0000</td>\n",
       "      <td>&lt;a href=\"http://twitter.com/download/iphone\" r...</td>\n",
       "      <td>This is Stella. She's happier than I will ever...</td>\n",
       "      <td>NaN</td>\n",
       "      <td>NaN</td>\n",
       "      <td>NaN</td>\n",
       "      <td>https://twitter.com/dog_rates/status/789268448...</td>\n",
       "      <td>10</td>\n",
       "      <td>10</td>\n",
       "      <td>Stella</td>\n",
       "      <td>None</td>\n",
       "      <td>None</td>\n",
       "      <td>None</td>\n",
       "      <td>None</td>\n",
       "    </tr>\n",
       "    <tr>\n",
       "      <th>2125</th>\n",
       "      <td>670361874861563904</td>\n",
       "      <td>NaN</td>\n",
       "      <td>NaN</td>\n",
       "      <td>2015-11-27 22:01:40 +0000</td>\n",
       "      <td>&lt;a href=\"http://twitter.com/download/iphone\" r...</td>\n",
       "      <td>This is a Rich Mahogany Seltzer named Cherokee...</td>\n",
       "      <td>NaN</td>\n",
       "      <td>NaN</td>\n",
       "      <td>NaN</td>\n",
       "      <td>https://twitter.com/dog_rates/status/670361874...</td>\n",
       "      <td>9</td>\n",
       "      <td>10</td>\n",
       "      <td>a</td>\n",
       "      <td>None</td>\n",
       "      <td>None</td>\n",
       "      <td>None</td>\n",
       "      <td>None</td>\n",
       "    </tr>\n",
       "    <tr>\n",
       "      <th>986</th>\n",
       "      <td>749064354620928000</td>\n",
       "      <td>NaN</td>\n",
       "      <td>NaN</td>\n",
       "      <td>2016-07-02 02:17:13 +0000</td>\n",
       "      <td>&lt;a href=\"http://twitter.com/download/iphone\" r...</td>\n",
       "      <td>Meet Winston. He's pupset because I forgot to ...</td>\n",
       "      <td>NaN</td>\n",
       "      <td>NaN</td>\n",
       "      <td>NaN</td>\n",
       "      <td>https://twitter.com/dog_rates/status/749064354...</td>\n",
       "      <td>11</td>\n",
       "      <td>10</td>\n",
       "      <td>Winston</td>\n",
       "      <td>None</td>\n",
       "      <td>None</td>\n",
       "      <td>None</td>\n",
       "      <td>None</td>\n",
       "    </tr>\n",
       "  </tbody>\n",
       "</table>\n",
       "</div>"
      ],
      "text/plain": [
       "                tweet_id  in_reply_to_status_id  in_reply_to_user_id  \\\n",
       "1658  683111407806746624                    NaN                  NaN   \n",
       "1489  692905862751522816                    NaN                  NaN   \n",
       "678   789268448748703744                    NaN                  NaN   \n",
       "2125  670361874861563904                    NaN                  NaN   \n",
       "986   749064354620928000                    NaN                  NaN   \n",
       "\n",
       "                      timestamp  \\\n",
       "1658  2016-01-02 02:23:45 +0000   \n",
       "1489  2016-01-29 03:03:25 +0000   \n",
       "678   2016-10-21 00:53:56 +0000   \n",
       "2125  2015-11-27 22:01:40 +0000   \n",
       "986   2016-07-02 02:17:13 +0000   \n",
       "\n",
       "                                                 source  \\\n",
       "1658  <a href=\"http://twitter.com/download/iphone\" r...   \n",
       "1489  <a href=\"http://twitter.com/download/iphone\" r...   \n",
       "678   <a href=\"http://twitter.com/download/iphone\" r...   \n",
       "2125  <a href=\"http://twitter.com/download/iphone\" r...   \n",
       "986   <a href=\"http://twitter.com/download/iphone\" r...   \n",
       "\n",
       "                                                   text  retweeted_status_id  \\\n",
       "1658  This is Larry. He thought the New Year's parti...                  NaN   \n",
       "1489  This is Wally. He's being abducted by aliens. ...                  NaN   \n",
       "678   This is Stella. She's happier than I will ever...                  NaN   \n",
       "2125  This is a Rich Mahogany Seltzer named Cherokee...                  NaN   \n",
       "986   Meet Winston. He's pupset because I forgot to ...                  NaN   \n",
       "\n",
       "      retweeted_status_user_id retweeted_status_timestamp  \\\n",
       "1658                       NaN                        NaN   \n",
       "1489                       NaN                        NaN   \n",
       "678                        NaN                        NaN   \n",
       "2125                       NaN                        NaN   \n",
       "986                        NaN                        NaN   \n",
       "\n",
       "                                          expanded_urls  rating_numerator  \\\n",
       "1658  https://twitter.com/dog_rates/status/683111407...                10   \n",
       "1489  https://twitter.com/dog_rates/status/692905862...                10   \n",
       "678   https://twitter.com/dog_rates/status/789268448...                10   \n",
       "2125  https://twitter.com/dog_rates/status/670361874...                 9   \n",
       "986   https://twitter.com/dog_rates/status/749064354...                11   \n",
       "\n",
       "      rating_denominator     name doggo floofer  pupper puppo  \n",
       "1658                  10    Larry  None    None  pupper  None  \n",
       "1489                  10    Wally  None    None  pupper  None  \n",
       "678                   10   Stella  None    None    None  None  \n",
       "2125                  10        a  None    None    None  None  \n",
       "986                   10  Winston  None    None    None  None  "
      ]
     },
     "execution_count": 12,
     "metadata": {},
     "output_type": "execute_result"
    }
   ],
   "source": [
    " df_twitter_arc.sample(5)"
   ]
  },
  {
   "cell_type": "code",
   "execution_count": 13,
   "metadata": {},
   "outputs": [
    {
     "data": {
      "text/html": [
       "<div>\n",
       "<style scoped>\n",
       "    .dataframe tbody tr th:only-of-type {\n",
       "        vertical-align: middle;\n",
       "    }\n",
       "\n",
       "    .dataframe tbody tr th {\n",
       "        vertical-align: top;\n",
       "    }\n",
       "\n",
       "    .dataframe thead th {\n",
       "        text-align: right;\n",
       "    }\n",
       "</style>\n",
       "<table border=\"1\" class=\"dataframe\">\n",
       "  <thead>\n",
       "    <tr style=\"text-align: right;\">\n",
       "      <th></th>\n",
       "      <th>tweet_id</th>\n",
       "      <th>in_reply_to_status_id</th>\n",
       "      <th>in_reply_to_user_id</th>\n",
       "      <th>retweeted_status_id</th>\n",
       "      <th>retweeted_status_user_id</th>\n",
       "      <th>rating_numerator</th>\n",
       "      <th>rating_denominator</th>\n",
       "    </tr>\n",
       "  </thead>\n",
       "  <tbody>\n",
       "    <tr>\n",
       "      <th>count</th>\n",
       "      <td>2.356000e+03</td>\n",
       "      <td>7.800000e+01</td>\n",
       "      <td>7.800000e+01</td>\n",
       "      <td>1.810000e+02</td>\n",
       "      <td>1.810000e+02</td>\n",
       "      <td>2356.000000</td>\n",
       "      <td>2356.000000</td>\n",
       "    </tr>\n",
       "    <tr>\n",
       "      <th>mean</th>\n",
       "      <td>7.427716e+17</td>\n",
       "      <td>7.455079e+17</td>\n",
       "      <td>2.014171e+16</td>\n",
       "      <td>7.720400e+17</td>\n",
       "      <td>1.241698e+16</td>\n",
       "      <td>13.126486</td>\n",
       "      <td>10.455433</td>\n",
       "    </tr>\n",
       "    <tr>\n",
       "      <th>std</th>\n",
       "      <td>6.856705e+16</td>\n",
       "      <td>7.582492e+16</td>\n",
       "      <td>1.252797e+17</td>\n",
       "      <td>6.236928e+16</td>\n",
       "      <td>9.599254e+16</td>\n",
       "      <td>45.876648</td>\n",
       "      <td>6.745237</td>\n",
       "    </tr>\n",
       "    <tr>\n",
       "      <th>min</th>\n",
       "      <td>6.660209e+17</td>\n",
       "      <td>6.658147e+17</td>\n",
       "      <td>1.185634e+07</td>\n",
       "      <td>6.661041e+17</td>\n",
       "      <td>7.832140e+05</td>\n",
       "      <td>0.000000</td>\n",
       "      <td>0.000000</td>\n",
       "    </tr>\n",
       "    <tr>\n",
       "      <th>25%</th>\n",
       "      <td>6.783989e+17</td>\n",
       "      <td>6.757419e+17</td>\n",
       "      <td>3.086374e+08</td>\n",
       "      <td>7.186315e+17</td>\n",
       "      <td>4.196984e+09</td>\n",
       "      <td>10.000000</td>\n",
       "      <td>10.000000</td>\n",
       "    </tr>\n",
       "    <tr>\n",
       "      <th>50%</th>\n",
       "      <td>7.196279e+17</td>\n",
       "      <td>7.038708e+17</td>\n",
       "      <td>4.196984e+09</td>\n",
       "      <td>7.804657e+17</td>\n",
       "      <td>4.196984e+09</td>\n",
       "      <td>11.000000</td>\n",
       "      <td>10.000000</td>\n",
       "    </tr>\n",
       "    <tr>\n",
       "      <th>75%</th>\n",
       "      <td>7.993373e+17</td>\n",
       "      <td>8.257804e+17</td>\n",
       "      <td>4.196984e+09</td>\n",
       "      <td>8.203146e+17</td>\n",
       "      <td>4.196984e+09</td>\n",
       "      <td>12.000000</td>\n",
       "      <td>10.000000</td>\n",
       "    </tr>\n",
       "    <tr>\n",
       "      <th>max</th>\n",
       "      <td>8.924206e+17</td>\n",
       "      <td>8.862664e+17</td>\n",
       "      <td>8.405479e+17</td>\n",
       "      <td>8.874740e+17</td>\n",
       "      <td>7.874618e+17</td>\n",
       "      <td>1776.000000</td>\n",
       "      <td>170.000000</td>\n",
       "    </tr>\n",
       "  </tbody>\n",
       "</table>\n",
       "</div>"
      ],
      "text/plain": [
       "           tweet_id  in_reply_to_status_id  in_reply_to_user_id  \\\n",
       "count  2.356000e+03           7.800000e+01         7.800000e+01   \n",
       "mean   7.427716e+17           7.455079e+17         2.014171e+16   \n",
       "std    6.856705e+16           7.582492e+16         1.252797e+17   \n",
       "min    6.660209e+17           6.658147e+17         1.185634e+07   \n",
       "25%    6.783989e+17           6.757419e+17         3.086374e+08   \n",
       "50%    7.196279e+17           7.038708e+17         4.196984e+09   \n",
       "75%    7.993373e+17           8.257804e+17         4.196984e+09   \n",
       "max    8.924206e+17           8.862664e+17         8.405479e+17   \n",
       "\n",
       "       retweeted_status_id  retweeted_status_user_id  rating_numerator  \\\n",
       "count         1.810000e+02              1.810000e+02       2356.000000   \n",
       "mean          7.720400e+17              1.241698e+16         13.126486   \n",
       "std           6.236928e+16              9.599254e+16         45.876648   \n",
       "min           6.661041e+17              7.832140e+05          0.000000   \n",
       "25%           7.186315e+17              4.196984e+09         10.000000   \n",
       "50%           7.804657e+17              4.196984e+09         11.000000   \n",
       "75%           8.203146e+17              4.196984e+09         12.000000   \n",
       "max           8.874740e+17              7.874618e+17       1776.000000   \n",
       "\n",
       "       rating_denominator  \n",
       "count         2356.000000  \n",
       "mean            10.455433  \n",
       "std              6.745237  \n",
       "min              0.000000  \n",
       "25%             10.000000  \n",
       "50%             10.000000  \n",
       "75%             10.000000  \n",
       "max            170.000000  "
      ]
     },
     "execution_count": 13,
     "metadata": {},
     "output_type": "execute_result"
    }
   ],
   "source": [
    "df_twitter_arc.describe()"
   ]
  },
  {
   "cell_type": "code",
   "execution_count": 14,
   "metadata": {},
   "outputs": [
    {
     "name": "stdout",
     "output_type": "stream",
     "text": [
      "<class 'pandas.core.frame.DataFrame'>\n",
      "RangeIndex: 2356 entries, 0 to 2355\n",
      "Data columns (total 17 columns):\n",
      "tweet_id                      2356 non-null int64\n",
      "in_reply_to_status_id         78 non-null float64\n",
      "in_reply_to_user_id           78 non-null float64\n",
      "timestamp                     2356 non-null object\n",
      "source                        2356 non-null object\n",
      "text                          2356 non-null object\n",
      "retweeted_status_id           181 non-null float64\n",
      "retweeted_status_user_id      181 non-null float64\n",
      "retweeted_status_timestamp    181 non-null object\n",
      "expanded_urls                 2297 non-null object\n",
      "rating_numerator              2356 non-null int64\n",
      "rating_denominator            2356 non-null int64\n",
      "name                          2356 non-null object\n",
      "doggo                         2356 non-null object\n",
      "floofer                       2356 non-null object\n",
      "pupper                        2356 non-null object\n",
      "puppo                         2356 non-null object\n",
      "dtypes: float64(4), int64(3), object(10)\n",
      "memory usage: 313.0+ KB\n"
     ]
    }
   ],
   "source": [
    "df_twitter_arc.info()"
   ]
  },
  {
   "cell_type": "markdown",
   "metadata": {},
   "source": [
    "<a id=\"twitter-arc:info\"></a>\n",
    "* Dados incompletos, contém apenas 2356 registros dos 5000 anunciados\n",
    "* `in_reply_to_status_id`, `in_reply_to_user_id`, `retweeted_status_id` e `retweeted_status_user_id` em `float`\n",
    "* `timestamp` e `retweeted_status_timestamp` em `string`"
   ]
  },
  {
   "cell_type": "code",
   "execution_count": 15,
   "metadata": {},
   "outputs": [
    {
     "data": {
      "text/html": [
       "<div>\n",
       "<style scoped>\n",
       "    .dataframe tbody tr th:only-of-type {\n",
       "        vertical-align: middle;\n",
       "    }\n",
       "\n",
       "    .dataframe tbody tr th {\n",
       "        vertical-align: top;\n",
       "    }\n",
       "\n",
       "    .dataframe thead th {\n",
       "        text-align: right;\n",
       "    }\n",
       "</style>\n",
       "<table border=\"1\" class=\"dataframe\">\n",
       "  <thead>\n",
       "    <tr style=\"text-align: right;\">\n",
       "      <th></th>\n",
       "      <th>tweet_id</th>\n",
       "      <th>in_reply_to_status_id</th>\n",
       "      <th>in_reply_to_user_id</th>\n",
       "      <th>timestamp</th>\n",
       "      <th>source</th>\n",
       "      <th>text</th>\n",
       "      <th>retweeted_status_id</th>\n",
       "      <th>retweeted_status_user_id</th>\n",
       "      <th>retweeted_status_timestamp</th>\n",
       "      <th>expanded_urls</th>\n",
       "      <th>rating_numerator</th>\n",
       "      <th>rating_denominator</th>\n",
       "      <th>name</th>\n",
       "      <th>doggo</th>\n",
       "      <th>floofer</th>\n",
       "      <th>pupper</th>\n",
       "      <th>puppo</th>\n",
       "    </tr>\n",
       "  </thead>\n",
       "  <tbody>\n",
       "  </tbody>\n",
       "</table>\n",
       "</div>"
      ],
      "text/plain": [
       "Empty DataFrame\n",
       "Columns: [tweet_id, in_reply_to_status_id, in_reply_to_user_id, timestamp, source, text, retweeted_status_id, retweeted_status_user_id, retweeted_status_timestamp, expanded_urls, rating_numerator, rating_denominator, name, doggo, floofer, pupper, puppo]\n",
       "Index: []"
      ]
     },
     "execution_count": 15,
     "metadata": {},
     "output_type": "execute_result"
    }
   ],
   "source": [
    "# Verificar se há IDs duplicados\n",
    "df_twitter_arc[df_twitter_arc.tweet_id.duplicated()]"
   ]
  },
  {
   "cell_type": "markdown",
   "metadata": {},
   "source": [
    "<a id=\"twitter-arc:source\"></a>"
   ]
  },
  {
   "cell_type": "code",
   "execution_count": 16,
   "metadata": {},
   "outputs": [
    {
     "data": {
      "text/plain": [
       "1613    <a href=\"http://twitter.com/download/iphone\" r...\n",
       "486     <a href=\"http://twitter.com/download/iphone\" r...\n",
       "275     <a href=\"http://twitter.com/download/iphone\" r...\n",
       "1192    <a href=\"http://twitter.com/download/iphone\" r...\n",
       "1557    <a href=\"http://twitter.com/download/iphone\" r...\n",
       "1012    <a href=\"http://twitter.com/download/iphone\" r...\n",
       "238     <a href=\"http://twitter.com/download/iphone\" r...\n",
       "324     <a href=\"http://twitter.com/download/iphone\" r...\n",
       "1296    <a href=\"http://twitter.com/download/iphone\" r...\n",
       "717     <a href=\"http://twitter.com/download/iphone\" r...\n",
       "Name: source, dtype: object"
      ]
     },
     "execution_count": 16,
     "metadata": {},
     "output_type": "execute_result"
    }
   ],
   "source": [
    "# Visualizar exemplos de dados da coluna `source`\n",
    "df_twitter_arc.loc[:, 'source'].sample(10)"
   ]
  },
  {
   "cell_type": "markdown",
   "metadata": {},
   "source": [
    "Variável `source` é uma URL para a Aplicação utilizada no tweet, sem valor para a unidade de observação"
   ]
  },
  {
   "cell_type": "markdown",
   "metadata": {},
   "source": [
    "<a id=\"twitter-arc:name\"></a>"
   ]
  },
  {
   "cell_type": "code",
   "execution_count": 17,
   "metadata": {},
   "outputs": [
    {
     "data": {
      "text/plain": [
       "1128    Stefan\n",
       "1349      None\n",
       "1270     Karma\n",
       "1907      None\n",
       "247       None\n",
       "96        None\n",
       "1788      None\n",
       "879       Theo\n",
       "1998     Darby\n",
       "750     Reggie\n",
       "Name: name, dtype: object"
      ]
     },
     "execution_count": 17,
     "metadata": {},
     "output_type": "execute_result"
    }
   ],
   "source": [
    "# Visualizar exemplos da coluna `name`\n",
    "df_twitter_arc.name.sample(10)"
   ]
  },
  {
   "cell_type": "code",
   "execution_count": 18,
   "metadata": {},
   "outputs": [
    {
     "data": {
      "text/plain": [
       "745"
      ]
     },
     "execution_count": 18,
     "metadata": {},
     "output_type": "execute_result"
    }
   ],
   "source": [
    "df_twitter_arc[df_twitter_arc.name == 'None'].name.count()"
   ]
  },
  {
   "cell_type": "markdown",
   "metadata": {},
   "source": [
    "* Nomes (`name`) preenchidos com valor literal igual a `'None'`, supostamente um valor não preenchido, vazio"
   ]
  },
  {
   "cell_type": "markdown",
   "metadata": {},
   "source": [
    "<a id=\"twitter-arc:category\"></id>"
   ]
  },
  {
   "cell_type": "code",
   "execution_count": 19,
   "metadata": {},
   "outputs": [
    {
     "data": {
      "text/html": [
       "<div>\n",
       "<style scoped>\n",
       "    .dataframe tbody tr th:only-of-type {\n",
       "        vertical-align: middle;\n",
       "    }\n",
       "\n",
       "    .dataframe tbody tr th {\n",
       "        vertical-align: top;\n",
       "    }\n",
       "\n",
       "    .dataframe thead th {\n",
       "        text-align: right;\n",
       "    }\n",
       "</style>\n",
       "<table border=\"1\" class=\"dataframe\">\n",
       "  <thead>\n",
       "    <tr style=\"text-align: right;\">\n",
       "      <th></th>\n",
       "      <th>doggo</th>\n",
       "      <th>floofer</th>\n",
       "      <th>pupper</th>\n",
       "      <th>puppo</th>\n",
       "    </tr>\n",
       "  </thead>\n",
       "  <tbody>\n",
       "    <tr>\n",
       "      <th>988</th>\n",
       "      <td>None</td>\n",
       "      <td>None</td>\n",
       "      <td>None</td>\n",
       "      <td>None</td>\n",
       "    </tr>\n",
       "    <tr>\n",
       "      <th>2169</th>\n",
       "      <td>None</td>\n",
       "      <td>None</td>\n",
       "      <td>None</td>\n",
       "      <td>None</td>\n",
       "    </tr>\n",
       "    <tr>\n",
       "      <th>1420</th>\n",
       "      <td>None</td>\n",
       "      <td>None</td>\n",
       "      <td>None</td>\n",
       "      <td>None</td>\n",
       "    </tr>\n",
       "    <tr>\n",
       "      <th>1110</th>\n",
       "      <td>None</td>\n",
       "      <td>floofer</td>\n",
       "      <td>None</td>\n",
       "      <td>None</td>\n",
       "    </tr>\n",
       "    <tr>\n",
       "      <th>1101</th>\n",
       "      <td>None</td>\n",
       "      <td>None</td>\n",
       "      <td>None</td>\n",
       "      <td>None</td>\n",
       "    </tr>\n",
       "    <tr>\n",
       "      <th>757</th>\n",
       "      <td>None</td>\n",
       "      <td>None</td>\n",
       "      <td>None</td>\n",
       "      <td>None</td>\n",
       "    </tr>\n",
       "    <tr>\n",
       "      <th>1663</th>\n",
       "      <td>None</td>\n",
       "      <td>None</td>\n",
       "      <td>None</td>\n",
       "      <td>None</td>\n",
       "    </tr>\n",
       "    <tr>\n",
       "      <th>270</th>\n",
       "      <td>None</td>\n",
       "      <td>None</td>\n",
       "      <td>None</td>\n",
       "      <td>None</td>\n",
       "    </tr>\n",
       "    <tr>\n",
       "      <th>232</th>\n",
       "      <td>None</td>\n",
       "      <td>None</td>\n",
       "      <td>None</td>\n",
       "      <td>None</td>\n",
       "    </tr>\n",
       "    <tr>\n",
       "      <th>831</th>\n",
       "      <td>None</td>\n",
       "      <td>None</td>\n",
       "      <td>None</td>\n",
       "      <td>None</td>\n",
       "    </tr>\n",
       "  </tbody>\n",
       "</table>\n",
       "</div>"
      ],
      "text/plain": [
       "     doggo  floofer pupper puppo\n",
       "988   None     None   None  None\n",
       "2169  None     None   None  None\n",
       "1420  None     None   None  None\n",
       "1110  None  floofer   None  None\n",
       "1101  None     None   None  None\n",
       "757   None     None   None  None\n",
       "1663  None     None   None  None\n",
       "270   None     None   None  None\n",
       "232   None     None   None  None\n",
       "831   None     None   None  None"
      ]
     },
     "execution_count": 19,
     "metadata": {},
     "output_type": "execute_result"
    }
   ],
   "source": [
    "# Visualizar exemplo de dados das colunas 'doggo' a 'puppo'\n",
    "df_twitter_arc.loc[:,'doggo':].sample(10)"
   ]
  },
  {
   "cell_type": "markdown",
   "metadata": {},
   "source": [
    "* Valores não preenchidos como 'None' literal"
   ]
  },
  {
   "cell_type": "markdown",
   "metadata": {},
   "source": [
    "Uma variável em várias colunas"
   ]
  },
  {
   "cell_type": "code",
   "execution_count": 20,
   "metadata": {},
   "outputs": [
    {
     "data": {
      "text/plain": [
       "doggo      2\n",
       "floofer    2\n",
       "pupper     2\n",
       "puppo      2\n",
       "dtype: int64"
      ]
     },
     "execution_count": 20,
     "metadata": {},
     "output_type": "execute_result"
    }
   ],
   "source": [
    "# Verificar padrão no preenchimento das classificações\n",
    "df_twitter_arc.loc[:,'doggo':].nunique()"
   ]
  },
  {
   "cell_type": "code",
   "execution_count": 21,
   "metadata": {},
   "outputs": [
    {
     "data": {
      "text/plain": [
       "doggo      0\n",
       "floofer    0\n",
       "pupper     0\n",
       "puppo      0\n",
       "dtype: int64"
      ]
     },
     "execution_count": 21,
     "metadata": {},
     "output_type": "execute_result"
    }
   ],
   "source": [
    "df_twitter_arc.loc[:, 'doggo':'puppo'].isna().sum()"
   ]
  },
  {
   "cell_type": "markdown",
   "metadata": {},
   "source": [
    "<a id=\"twitter-arc:expanded_urls\"></a>\n",
    "\n",
    "Exemplos da coluna `expanded_urls`"
   ]
  },
  {
   "cell_type": "code",
   "execution_count": 22,
   "metadata": {},
   "outputs": [
    {
     "data": {
      "text/plain": [
       "949     https://twitter.com/dog_rates/status/675354435...\n",
       "64                                                    NaN\n",
       "791     https://twitter.com/dog_rates/status/773704687...\n",
       "1252    https://twitter.com/dog_rates/status/710844581...\n",
       "1484    https://twitter.com/dog_rates/status/693231807...\n",
       "565     https://twitter.com/dog_rates/status/802265048...\n",
       "1972    https://twitter.com/dog_rates/status/673240798...\n",
       "2299    https://twitter.com/dog_rates/status/667065535...\n",
       "1206                        https://vine.co/v/hYdLVKDpAFu\n",
       "1640                        https://vine.co/v/ib2nTOEuuOI\n",
       "1356    https://twitter.com/dog_rates/status/703425003...\n",
       "485     https://twitter.com/dog_rates/status/698195409...\n",
       "637     https://twitter.com/dog_rates/status/793286476...\n",
       "1632    https://twitter.com/dog_rates/status/684460069...\n",
       "261     https://twitter.com/dog_rates/status/842846295...\n",
       "1069    https://twitter.com/dog_rates/status/740365076...\n",
       "249     https://twitter.com/dog_rates/status/845306882...\n",
       "1063    https://twitter.com/dog_rates/status/741067306...\n",
       "2334    https://twitter.com/dog_rates/status/666293911...\n",
       "1798    https://twitter.com/dog_rates/status/677228873...\n",
       "Name: expanded_urls, dtype: object"
      ]
     },
     "execution_count": 22,
     "metadata": {},
     "output_type": "execute_result"
    }
   ],
   "source": [
    "df_twitter_arc.loc[:, 'expanded_urls'].sample(20)"
   ]
  },
  {
   "cell_type": "code",
   "execution_count": 23,
   "metadata": {},
   "outputs": [
    {
     "data": {
      "text/plain": [
       "False    2297\n",
       "True       59\n",
       "Name: expanded_urls, dtype: int64"
      ]
     },
     "execution_count": 23,
     "metadata": {},
     "output_type": "execute_result"
    }
   ],
   "source": [
    "df_twitter_arc.loc[:, 'expanded_urls'].isna().value_counts()"
   ]
  },
  {
   "cell_type": "markdown",
   "metadata": {},
   "source": [
    "* Registros de `expanded_urls` com URLs para os twittes originais. Não apresenta valor a unidade em observacão"
   ]
  },
  {
   "cell_type": "markdown",
   "metadata": {},
   "source": [
    "------\n",
    "<a id=\"avaliacao:image-prediction\"></a>\n",
    "\n",
    "## Avaliação: Image prediction"
   ]
  },
  {
   "cell_type": "code",
   "execution_count": 24,
   "metadata": {},
   "outputs": [
    {
     "data": {
      "text/html": [
       "<div>\n",
       "<style scoped>\n",
       "    .dataframe tbody tr th:only-of-type {\n",
       "        vertical-align: middle;\n",
       "    }\n",
       "\n",
       "    .dataframe tbody tr th {\n",
       "        vertical-align: top;\n",
       "    }\n",
       "\n",
       "    .dataframe thead th {\n",
       "        text-align: right;\n",
       "    }\n",
       "</style>\n",
       "<table border=\"1\" class=\"dataframe\">\n",
       "  <thead>\n",
       "    <tr style=\"text-align: right;\">\n",
       "      <th></th>\n",
       "      <th>tweet_id</th>\n",
       "      <th>img_num</th>\n",
       "      <th>p1_conf</th>\n",
       "      <th>p2_conf</th>\n",
       "      <th>p3_conf</th>\n",
       "    </tr>\n",
       "  </thead>\n",
       "  <tbody>\n",
       "    <tr>\n",
       "      <th>count</th>\n",
       "      <td>2.075000e+03</td>\n",
       "      <td>2075.000000</td>\n",
       "      <td>2075.000000</td>\n",
       "      <td>2.075000e+03</td>\n",
       "      <td>2.075000e+03</td>\n",
       "    </tr>\n",
       "    <tr>\n",
       "      <th>mean</th>\n",
       "      <td>7.384514e+17</td>\n",
       "      <td>1.203855</td>\n",
       "      <td>0.594548</td>\n",
       "      <td>1.345886e-01</td>\n",
       "      <td>6.032417e-02</td>\n",
       "    </tr>\n",
       "    <tr>\n",
       "      <th>std</th>\n",
       "      <td>6.785203e+16</td>\n",
       "      <td>0.561875</td>\n",
       "      <td>0.271174</td>\n",
       "      <td>1.006657e-01</td>\n",
       "      <td>5.090593e-02</td>\n",
       "    </tr>\n",
       "    <tr>\n",
       "      <th>min</th>\n",
       "      <td>6.660209e+17</td>\n",
       "      <td>1.000000</td>\n",
       "      <td>0.044333</td>\n",
       "      <td>1.011300e-08</td>\n",
       "      <td>1.740170e-10</td>\n",
       "    </tr>\n",
       "    <tr>\n",
       "      <th>25%</th>\n",
       "      <td>6.764835e+17</td>\n",
       "      <td>1.000000</td>\n",
       "      <td>0.364412</td>\n",
       "      <td>5.388625e-02</td>\n",
       "      <td>1.622240e-02</td>\n",
       "    </tr>\n",
       "    <tr>\n",
       "      <th>50%</th>\n",
       "      <td>7.119988e+17</td>\n",
       "      <td>1.000000</td>\n",
       "      <td>0.588230</td>\n",
       "      <td>1.181810e-01</td>\n",
       "      <td>4.944380e-02</td>\n",
       "    </tr>\n",
       "    <tr>\n",
       "      <th>75%</th>\n",
       "      <td>7.932034e+17</td>\n",
       "      <td>1.000000</td>\n",
       "      <td>0.843855</td>\n",
       "      <td>1.955655e-01</td>\n",
       "      <td>9.180755e-02</td>\n",
       "    </tr>\n",
       "    <tr>\n",
       "      <th>max</th>\n",
       "      <td>8.924206e+17</td>\n",
       "      <td>4.000000</td>\n",
       "      <td>1.000000</td>\n",
       "      <td>4.880140e-01</td>\n",
       "      <td>2.734190e-01</td>\n",
       "    </tr>\n",
       "  </tbody>\n",
       "</table>\n",
       "</div>"
      ],
      "text/plain": [
       "           tweet_id      img_num      p1_conf       p2_conf       p3_conf\n",
       "count  2.075000e+03  2075.000000  2075.000000  2.075000e+03  2.075000e+03\n",
       "mean   7.384514e+17     1.203855     0.594548  1.345886e-01  6.032417e-02\n",
       "std    6.785203e+16     0.561875     0.271174  1.006657e-01  5.090593e-02\n",
       "min    6.660209e+17     1.000000     0.044333  1.011300e-08  1.740170e-10\n",
       "25%    6.764835e+17     1.000000     0.364412  5.388625e-02  1.622240e-02\n",
       "50%    7.119988e+17     1.000000     0.588230  1.181810e-01  4.944380e-02\n",
       "75%    7.932034e+17     1.000000     0.843855  1.955655e-01  9.180755e-02\n",
       "max    8.924206e+17     4.000000     1.000000  4.880140e-01  2.734190e-01"
      ]
     },
     "execution_count": 24,
     "metadata": {},
     "output_type": "execute_result"
    }
   ],
   "source": [
    "df_prediction.describe()"
   ]
  },
  {
   "cell_type": "markdown",
   "metadata": {},
   "source": [
    "<a id=\"image-prediction:info\"></info>"
   ]
  },
  {
   "cell_type": "code",
   "execution_count": 25,
   "metadata": {},
   "outputs": [
    {
     "name": "stdout",
     "output_type": "stream",
     "text": [
      "<class 'pandas.core.frame.DataFrame'>\n",
      "RangeIndex: 2075 entries, 0 to 2074\n",
      "Data columns (total 12 columns):\n",
      "tweet_id    2075 non-null int64\n",
      "jpg_url     2075 non-null object\n",
      "img_num     2075 non-null int64\n",
      "p1          2075 non-null object\n",
      "p1_conf     2075 non-null float64\n",
      "p1_dog      2075 non-null bool\n",
      "p2          2075 non-null object\n",
      "p2_conf     2075 non-null float64\n",
      "p2_dog      2075 non-null bool\n",
      "p3          2075 non-null object\n",
      "p3_conf     2075 non-null float64\n",
      "p3_dog      2075 non-null bool\n",
      "dtypes: bool(3), float64(3), int64(2), object(4)\n",
      "memory usage: 152.1+ KB\n"
     ]
    }
   ],
   "source": [
    "df_prediction.info()"
   ]
  },
  {
   "cell_type": "code",
   "execution_count": 26,
   "metadata": {},
   "outputs": [
    {
     "data": {
      "text/html": [
       "<div>\n",
       "<style scoped>\n",
       "    .dataframe tbody tr th:only-of-type {\n",
       "        vertical-align: middle;\n",
       "    }\n",
       "\n",
       "    .dataframe tbody tr th {\n",
       "        vertical-align: top;\n",
       "    }\n",
       "\n",
       "    .dataframe thead th {\n",
       "        text-align: right;\n",
       "    }\n",
       "</style>\n",
       "<table border=\"1\" class=\"dataframe\">\n",
       "  <thead>\n",
       "    <tr style=\"text-align: right;\">\n",
       "      <th></th>\n",
       "      <th>tweet_id</th>\n",
       "      <th>jpg_url</th>\n",
       "      <th>img_num</th>\n",
       "      <th>p1</th>\n",
       "      <th>p1_conf</th>\n",
       "      <th>p1_dog</th>\n",
       "      <th>p2</th>\n",
       "      <th>p2_conf</th>\n",
       "      <th>p2_dog</th>\n",
       "      <th>p3</th>\n",
       "      <th>p3_conf</th>\n",
       "      <th>p3_dog</th>\n",
       "    </tr>\n",
       "  </thead>\n",
       "  <tbody>\n",
       "    <tr>\n",
       "      <th>127</th>\n",
       "      <td>668268907921326080</td>\n",
       "      <td>https://pbs.twimg.com/media/CUYrBNQUkAA-zx4.jpg</td>\n",
       "      <td>1</td>\n",
       "      <td>Pembroke</td>\n",
       "      <td>0.484830</td>\n",
       "      <td>True</td>\n",
       "      <td>Cardigan</td>\n",
       "      <td>0.425303</td>\n",
       "      <td>True</td>\n",
       "      <td>basenji</td>\n",
       "      <td>0.014753</td>\n",
       "      <td>True</td>\n",
       "    </tr>\n",
       "    <tr>\n",
       "      <th>929</th>\n",
       "      <td>702932127499816960</td>\n",
       "      <td>https://pbs.twimg.com/media/CcFRCfRW4AA5a72.jpg</td>\n",
       "      <td>1</td>\n",
       "      <td>wallaby</td>\n",
       "      <td>0.410710</td>\n",
       "      <td>False</td>\n",
       "      <td>wombat</td>\n",
       "      <td>0.239332</td>\n",
       "      <td>False</td>\n",
       "      <td>beaver</td>\n",
       "      <td>0.149605</td>\n",
       "      <td>False</td>\n",
       "    </tr>\n",
       "    <tr>\n",
       "      <th>1652</th>\n",
       "      <td>809808892968534016</td>\n",
       "      <td>https://pbs.twimg.com/media/CwS4aqZXUAAe3IO.jpg</td>\n",
       "      <td>1</td>\n",
       "      <td>Labrador_retriever</td>\n",
       "      <td>0.861651</td>\n",
       "      <td>True</td>\n",
       "      <td>golden_retriever</td>\n",
       "      <td>0.044462</td>\n",
       "      <td>True</td>\n",
       "      <td>Staffordshire_bullterrier</td>\n",
       "      <td>0.016497</td>\n",
       "      <td>True</td>\n",
       "    </tr>\n",
       "    <tr>\n",
       "      <th>1421</th>\n",
       "      <td>772102971039580160</td>\n",
       "      <td>https://pbs.twimg.com/media/CrcPjh0WcAA_SPT.jpg</td>\n",
       "      <td>1</td>\n",
       "      <td>Pembroke</td>\n",
       "      <td>0.541780</td>\n",
       "      <td>True</td>\n",
       "      <td>Cardigan</td>\n",
       "      <td>0.260504</td>\n",
       "      <td>True</td>\n",
       "      <td>Shetland_sheepdog</td>\n",
       "      <td>0.063703</td>\n",
       "      <td>True</td>\n",
       "    </tr>\n",
       "    <tr>\n",
       "      <th>576</th>\n",
       "      <td>678675843183484930</td>\n",
       "      <td>https://pbs.twimg.com/media/CWskEqnWUAAQZW_.jpg</td>\n",
       "      <td>1</td>\n",
       "      <td>maze</td>\n",
       "      <td>0.339850</td>\n",
       "      <td>False</td>\n",
       "      <td>streetcar</td>\n",
       "      <td>0.099688</td>\n",
       "      <td>False</td>\n",
       "      <td>sundial</td>\n",
       "      <td>0.084808</td>\n",
       "      <td>False</td>\n",
       "    </tr>\n",
       "    <tr>\n",
       "      <th>609</th>\n",
       "      <td>680085611152338944</td>\n",
       "      <td>https://pbs.twimg.com/media/CXAiiHUWkAIN_28.jpg</td>\n",
       "      <td>3</td>\n",
       "      <td>pillow</td>\n",
       "      <td>0.778113</td>\n",
       "      <td>False</td>\n",
       "      <td>apron</td>\n",
       "      <td>0.095023</td>\n",
       "      <td>False</td>\n",
       "      <td>wallet</td>\n",
       "      <td>0.049326</td>\n",
       "      <td>False</td>\n",
       "    </tr>\n",
       "    <tr>\n",
       "      <th>1037</th>\n",
       "      <td>711998809858043904</td>\n",
       "      <td>https://pbs.twimg.com/tweet_video_thumb/CeGGkW...</td>\n",
       "      <td>1</td>\n",
       "      <td>comic_book</td>\n",
       "      <td>0.105171</td>\n",
       "      <td>False</td>\n",
       "      <td>kuvasz</td>\n",
       "      <td>0.059895</td>\n",
       "      <td>True</td>\n",
       "      <td>book_jacket</td>\n",
       "      <td>0.046638</td>\n",
       "      <td>False</td>\n",
       "    </tr>\n",
       "    <tr>\n",
       "      <th>311</th>\n",
       "      <td>671544874165002241</td>\n",
       "      <td>https://pbs.twimg.com/media/CVHOgDvU4AAfrXD.jpg</td>\n",
       "      <td>1</td>\n",
       "      <td>feather_boa</td>\n",
       "      <td>0.240858</td>\n",
       "      <td>False</td>\n",
       "      <td>wig</td>\n",
       "      <td>0.085946</td>\n",
       "      <td>False</td>\n",
       "      <td>wool</td>\n",
       "      <td>0.040674</td>\n",
       "      <td>False</td>\n",
       "    </tr>\n",
       "    <tr>\n",
       "      <th>1444</th>\n",
       "      <td>775733305207554048</td>\n",
       "      <td>https://pbs.twimg.com/media/CsP1UvaW8AExVSA.jpg</td>\n",
       "      <td>1</td>\n",
       "      <td>long-horned_beetle</td>\n",
       "      <td>0.613852</td>\n",
       "      <td>False</td>\n",
       "      <td>ox</td>\n",
       "      <td>0.029473</td>\n",
       "      <td>False</td>\n",
       "      <td>rhinoceros_beetle</td>\n",
       "      <td>0.027806</td>\n",
       "      <td>False</td>\n",
       "    </tr>\n",
       "    <tr>\n",
       "      <th>732</th>\n",
       "      <td>686730991906516992</td>\n",
       "      <td>https://pbs.twimg.com/media/CYfCMdFWAAA44YA.jpg</td>\n",
       "      <td>1</td>\n",
       "      <td>Tibetan_mastiff</td>\n",
       "      <td>0.338812</td>\n",
       "      <td>True</td>\n",
       "      <td>Newfoundland</td>\n",
       "      <td>0.180925</td>\n",
       "      <td>True</td>\n",
       "      <td>golden_retriever</td>\n",
       "      <td>0.180023</td>\n",
       "      <td>True</td>\n",
       "    </tr>\n",
       "  </tbody>\n",
       "</table>\n",
       "</div>"
      ],
      "text/plain": [
       "                tweet_id                                            jpg_url  \\\n",
       "127   668268907921326080    https://pbs.twimg.com/media/CUYrBNQUkAA-zx4.jpg   \n",
       "929   702932127499816960    https://pbs.twimg.com/media/CcFRCfRW4AA5a72.jpg   \n",
       "1652  809808892968534016    https://pbs.twimg.com/media/CwS4aqZXUAAe3IO.jpg   \n",
       "1421  772102971039580160    https://pbs.twimg.com/media/CrcPjh0WcAA_SPT.jpg   \n",
       "576   678675843183484930    https://pbs.twimg.com/media/CWskEqnWUAAQZW_.jpg   \n",
       "609   680085611152338944    https://pbs.twimg.com/media/CXAiiHUWkAIN_28.jpg   \n",
       "1037  711998809858043904  https://pbs.twimg.com/tweet_video_thumb/CeGGkW...   \n",
       "311   671544874165002241    https://pbs.twimg.com/media/CVHOgDvU4AAfrXD.jpg   \n",
       "1444  775733305207554048    https://pbs.twimg.com/media/CsP1UvaW8AExVSA.jpg   \n",
       "732   686730991906516992    https://pbs.twimg.com/media/CYfCMdFWAAA44YA.jpg   \n",
       "\n",
       "      img_num                  p1   p1_conf  p1_dog                p2  \\\n",
       "127         1            Pembroke  0.484830    True          Cardigan   \n",
       "929         1             wallaby  0.410710   False            wombat   \n",
       "1652        1  Labrador_retriever  0.861651    True  golden_retriever   \n",
       "1421        1            Pembroke  0.541780    True          Cardigan   \n",
       "576         1                maze  0.339850   False         streetcar   \n",
       "609         3              pillow  0.778113   False             apron   \n",
       "1037        1          comic_book  0.105171   False            kuvasz   \n",
       "311         1         feather_boa  0.240858   False               wig   \n",
       "1444        1  long-horned_beetle  0.613852   False                ox   \n",
       "732         1     Tibetan_mastiff  0.338812    True      Newfoundland   \n",
       "\n",
       "       p2_conf  p2_dog                         p3   p3_conf  p3_dog  \n",
       "127   0.425303    True                    basenji  0.014753    True  \n",
       "929   0.239332   False                     beaver  0.149605   False  \n",
       "1652  0.044462    True  Staffordshire_bullterrier  0.016497    True  \n",
       "1421  0.260504    True          Shetland_sheepdog  0.063703    True  \n",
       "576   0.099688   False                    sundial  0.084808   False  \n",
       "609   0.095023   False                     wallet  0.049326   False  \n",
       "1037  0.059895    True                book_jacket  0.046638   False  \n",
       "311   0.085946   False                       wool  0.040674   False  \n",
       "1444  0.029473   False          rhinoceros_beetle  0.027806   False  \n",
       "732   0.180925    True           golden_retriever  0.180023    True  "
      ]
     },
     "execution_count": 26,
     "metadata": {},
     "output_type": "execute_result"
    }
   ],
   "source": [
    "df_prediction.sample(10)"
   ]
  },
  {
   "cell_type": "markdown",
   "metadata": {},
   "source": [
    "<a id=\"image-prediction:p-values\"></a>\n",
    "\n",
    "Valores não padronizados para as variáveis `p1`, `p2` e `p3`"
   ]
  },
  {
   "cell_type": "code",
   "execution_count": 27,
   "metadata": {},
   "outputs": [
    {
     "data": {
      "text/html": [
       "<div>\n",
       "<style scoped>\n",
       "    .dataframe tbody tr th:only-of-type {\n",
       "        vertical-align: middle;\n",
       "    }\n",
       "\n",
       "    .dataframe tbody tr th {\n",
       "        vertical-align: top;\n",
       "    }\n",
       "\n",
       "    .dataframe thead th {\n",
       "        text-align: right;\n",
       "    }\n",
       "</style>\n",
       "<table border=\"1\" class=\"dataframe\">\n",
       "  <thead>\n",
       "    <tr style=\"text-align: right;\">\n",
       "      <th></th>\n",
       "      <th>p1</th>\n",
       "      <th>p2</th>\n",
       "      <th>p3</th>\n",
       "    </tr>\n",
       "  </thead>\n",
       "  <tbody>\n",
       "    <tr>\n",
       "      <th>1881</th>\n",
       "      <td>white_wolf</td>\n",
       "      <td>American_Staffordshire_terrier</td>\n",
       "      <td>dingo</td>\n",
       "    </tr>\n",
       "    <tr>\n",
       "      <th>391</th>\n",
       "      <td>teddy</td>\n",
       "      <td>Christmas_stocking</td>\n",
       "      <td>pajama</td>\n",
       "    </tr>\n",
       "    <tr>\n",
       "      <th>2039</th>\n",
       "      <td>Italian_greyhound</td>\n",
       "      <td>American_Staffordshire_terrier</td>\n",
       "      <td>Staffordshire_bullterrier</td>\n",
       "    </tr>\n",
       "    <tr>\n",
       "      <th>554</th>\n",
       "      <td>Chihuahua</td>\n",
       "      <td>Italian_greyhound</td>\n",
       "      <td>swing</td>\n",
       "    </tr>\n",
       "    <tr>\n",
       "      <th>1712</th>\n",
       "      <td>Norwegian_elkhound</td>\n",
       "      <td>Chesapeake_Bay_retriever</td>\n",
       "      <td>malamute</td>\n",
       "    </tr>\n",
       "  </tbody>\n",
       "</table>\n",
       "</div>"
      ],
      "text/plain": [
       "                      p1                              p2  \\\n",
       "1881          white_wolf  American_Staffordshire_terrier   \n",
       "391                teddy              Christmas_stocking   \n",
       "2039   Italian_greyhound  American_Staffordshire_terrier   \n",
       "554            Chihuahua               Italian_greyhound   \n",
       "1712  Norwegian_elkhound        Chesapeake_Bay_retriever   \n",
       "\n",
       "                             p3  \n",
       "1881                      dingo  \n",
       "391                      pajama  \n",
       "2039  Staffordshire_bullterrier  \n",
       "554                       swing  \n",
       "1712                   malamute  "
      ]
     },
     "execution_count": 27,
     "metadata": {},
     "output_type": "execute_result"
    }
   ],
   "source": [
    "# Visualização de exemplos de valores nas colunas `p1`, `p2` e `p3`\n",
    "df_prediction.loc[:, ['p1', 'p2', 'p3']].sample(5)"
   ]
  },
  {
   "cell_type": "markdown",
   "metadata": {},
   "source": [
    "<a id=\"image-prediction:duplicated-urls\"></a>\n",
    "\n",
    "Verificar a duplicidade de Tweet ID (`tweet_id`) e Imagens (`jpg_url`)"
   ]
  },
  {
   "cell_type": "code",
   "execution_count": 28,
   "metadata": {},
   "outputs": [
    {
     "data": {
      "text/plain": [
       "2075"
      ]
     },
     "execution_count": 28,
     "metadata": {},
     "output_type": "execute_result"
    }
   ],
   "source": [
    "# Verificar a duplicidade de IDs\n",
    "df_prediction.tweet_id.nunique()"
   ]
  },
  {
   "cell_type": "markdown",
   "metadata": {},
   "source": [
    "Verificar a duplicidade na coluna `jpg_url`"
   ]
  },
  {
   "cell_type": "code",
   "execution_count": 29,
   "metadata": {},
   "outputs": [
    {
     "data": {
      "text/plain": [
       "False    2009\n",
       "True       66\n",
       "Name: jpg_url, dtype: int64"
      ]
     },
     "execution_count": 29,
     "metadata": {},
     "output_type": "execute_result"
    }
   ],
   "source": [
    "df_prediction.jpg_url.duplicated().value_counts()"
   ]
  },
  {
   "cell_type": "markdown",
   "metadata": {},
   "source": [
    "Há 66 imagens duplicadas"
   ]
  },
  {
   "cell_type": "code",
   "execution_count": 30,
   "metadata": {},
   "outputs": [
    {
     "data": {
      "text/plain": [
       "p1_conf    1.000000\n",
       "p2_conf    0.488014\n",
       "p3_conf    0.273419\n",
       "dtype: float64"
      ]
     },
     "execution_count": 30,
     "metadata": {},
     "output_type": "execute_result"
    }
   ],
   "source": [
    "# Validar indicadores de confiabiliade da predição\n",
    "df_prediction.loc[:, ['p1_conf', 'p2_conf', 'p3_conf']].max()"
   ]
  },
  {
   "cell_type": "markdown",
   "metadata": {},
   "source": [
    "------\n",
    "<a id=\"avaliacao:twitter-api\"></a>\n",
    "\n",
    "## Avaliação: Twitter API Requests"
   ]
  },
  {
   "cell_type": "code",
   "execution_count": 31,
   "metadata": {},
   "outputs": [
    {
     "data": {
      "text/html": [
       "<div>\n",
       "<style scoped>\n",
       "    .dataframe tbody tr th:only-of-type {\n",
       "        vertical-align: middle;\n",
       "    }\n",
       "\n",
       "    .dataframe tbody tr th {\n",
       "        vertical-align: top;\n",
       "    }\n",
       "\n",
       "    .dataframe thead th {\n",
       "        text-align: right;\n",
       "    }\n",
       "</style>\n",
       "<table border=\"1\" class=\"dataframe\">\n",
       "  <thead>\n",
       "    <tr style=\"text-align: right;\">\n",
       "      <th></th>\n",
       "      <th>id</th>\n",
       "      <th>retweet_count</th>\n",
       "      <th>favorite_count</th>\n",
       "    </tr>\n",
       "  </thead>\n",
       "  <tbody>\n",
       "    <tr>\n",
       "      <th>count</th>\n",
       "      <td>1.820000e+03</td>\n",
       "      <td>1820.000000</td>\n",
       "      <td>1820.000000</td>\n",
       "    </tr>\n",
       "    <tr>\n",
       "      <th>mean</th>\n",
       "      <td>7.237270e+17</td>\n",
       "      <td>2512.144505</td>\n",
       "      <td>6820.872527</td>\n",
       "    </tr>\n",
       "    <tr>\n",
       "      <th>std</th>\n",
       "      <td>5.777841e+16</td>\n",
       "      <td>4891.076169</td>\n",
       "      <td>11900.984651</td>\n",
       "    </tr>\n",
       "    <tr>\n",
       "      <th>min</th>\n",
       "      <td>6.660209e+17</td>\n",
       "      <td>11.000000</td>\n",
       "      <td>0.000000</td>\n",
       "    </tr>\n",
       "    <tr>\n",
       "      <th>25%</th>\n",
       "      <td>6.747671e+17</td>\n",
       "      <td>536.000000</td>\n",
       "      <td>1363.500000</td>\n",
       "    </tr>\n",
       "    <tr>\n",
       "      <th>50%</th>\n",
       "      <td>7.008223e+17</td>\n",
       "      <td>1118.000000</td>\n",
       "      <td>3153.000000</td>\n",
       "    </tr>\n",
       "    <tr>\n",
       "      <th>75%</th>\n",
       "      <td>7.617466e+17</td>\n",
       "      <td>2526.250000</td>\n",
       "      <td>7463.250000</td>\n",
       "    </tr>\n",
       "    <tr>\n",
       "      <th>max</th>\n",
       "      <td>8.924206e+17</td>\n",
       "      <td>82905.000000</td>\n",
       "      <td>163034.000000</td>\n",
       "    </tr>\n",
       "  </tbody>\n",
       "</table>\n",
       "</div>"
      ],
      "text/plain": [
       "                 id  retweet_count  favorite_count\n",
       "count  1.820000e+03    1820.000000     1820.000000\n",
       "mean   7.237270e+17    2512.144505     6820.872527\n",
       "std    5.777841e+16    4891.076169    11900.984651\n",
       "min    6.660209e+17      11.000000        0.000000\n",
       "25%    6.747671e+17     536.000000     1363.500000\n",
       "50%    7.008223e+17    1118.000000     3153.000000\n",
       "75%    7.617466e+17    2526.250000     7463.250000\n",
       "max    8.924206e+17   82905.000000   163034.000000"
      ]
     },
     "execution_count": 31,
     "metadata": {},
     "output_type": "execute_result"
    }
   ],
   "source": [
    "df_tweets_api.describe()"
   ]
  },
  {
   "cell_type": "markdown",
   "metadata": {},
   "source": [
    "<a id=\"tweets-api:info\"></a>"
   ]
  },
  {
   "cell_type": "code",
   "execution_count": 32,
   "metadata": {},
   "outputs": [
    {
     "name": "stdout",
     "output_type": "stream",
     "text": [
      "<class 'pandas.core.frame.DataFrame'>\n",
      "RangeIndex: 1820 entries, 0 to 1819\n",
      "Data columns (total 10 columns):\n",
      "id                       1820 non-null int64\n",
      "created_at               1820 non-null object\n",
      "in_reply_to_status_id    1820 non-null object\n",
      "in_reply_to_user_id      1820 non-null object\n",
      "is_quote_status          1820 non-null bool\n",
      "retweet_count            1820 non-null int64\n",
      "favorite_count           1820 non-null int64\n",
      "media_url                1820 non-null object\n",
      "retweeted                1820 non-null bool\n",
      "favorited                1820 non-null bool\n",
      "dtypes: bool(3), int64(3), object(4)\n",
      "memory usage: 104.9+ KB\n"
     ]
    }
   ],
   "source": [
    "df_tweets_api.info()"
   ]
  },
  {
   "cell_type": "markdown",
   "metadata": {},
   "source": [
    "Os nomes das colunas `id` e `media_url` estão fora do padrão dos demais dataframes, respectivamente `tweet_id` e `jpg_url` "
   ]
  },
  {
   "cell_type": "code",
   "execution_count": 33,
   "metadata": {},
   "outputs": [
    {
     "data": {
      "text/html": [
       "<div>\n",
       "<style scoped>\n",
       "    .dataframe tbody tr th:only-of-type {\n",
       "        vertical-align: middle;\n",
       "    }\n",
       "\n",
       "    .dataframe tbody tr th {\n",
       "        vertical-align: top;\n",
       "    }\n",
       "\n",
       "    .dataframe thead th {\n",
       "        text-align: right;\n",
       "    }\n",
       "</style>\n",
       "<table border=\"1\" class=\"dataframe\">\n",
       "  <thead>\n",
       "    <tr style=\"text-align: right;\">\n",
       "      <th></th>\n",
       "      <th>id</th>\n",
       "      <th>created_at</th>\n",
       "      <th>in_reply_to_status_id</th>\n",
       "      <th>in_reply_to_user_id</th>\n",
       "      <th>is_quote_status</th>\n",
       "      <th>retweet_count</th>\n",
       "      <th>favorite_count</th>\n",
       "      <th>media_url</th>\n",
       "      <th>retweeted</th>\n",
       "      <th>favorited</th>\n",
       "    </tr>\n",
       "  </thead>\n",
       "  <tbody>\n",
       "    <tr>\n",
       "      <th>73</th>\n",
       "      <td>844979544864018432</td>\n",
       "      <td>Thu Mar 23 18:29:57 +0000 2017</td>\n",
       "      <td>759099523532779520</td>\n",
       "      <td>4196983835</td>\n",
       "      <td>False</td>\n",
       "      <td>2705</td>\n",
       "      <td>14070</td>\n",
       "      <td>http://pbs.twimg.com/media/C7n4aQ5VsAAc1LN.jpg</td>\n",
       "      <td>False</td>\n",
       "      <td>False</td>\n",
       "    </tr>\n",
       "    <tr>\n",
       "      <th>615</th>\n",
       "      <td>742150209887731712</td>\n",
       "      <td>Mon Jun 13 00:22:53 +0000 2016</td>\n",
       "      <td>None</td>\n",
       "      <td>None</td>\n",
       "      <td>False</td>\n",
       "      <td>1645</td>\n",
       "      <td>5339</td>\n",
       "      <td>http://pbs.twimg.com/media/CkylrVWWsAAiXJE.jpg</td>\n",
       "      <td>False</td>\n",
       "      <td>False</td>\n",
       "    </tr>\n",
       "    <tr>\n",
       "      <th>1215</th>\n",
       "      <td>679854723806179328</td>\n",
       "      <td>Thu Dec 24 02:42:51 +0000 2015</td>\n",
       "      <td>None</td>\n",
       "      <td>None</td>\n",
       "      <td>False</td>\n",
       "      <td>1304</td>\n",
       "      <td>2969</td>\n",
       "      <td>http://pbs.twimg.com/media/CW9UQ7oWkAAErmU.jpg</td>\n",
       "      <td>False</td>\n",
       "      <td>False</td>\n",
       "    </tr>\n",
       "    <tr>\n",
       "      <th>106</th>\n",
       "      <td>830956169170665475</td>\n",
       "      <td>Mon Feb 13 01:46:03 +0000 2017</td>\n",
       "      <td>None</td>\n",
       "      <td>None</td>\n",
       "      <td>False</td>\n",
       "      <td>1595</td>\n",
       "      <td>8338</td>\n",
       "      <td>http://pbs.twimg.com/ext_tw_video_thumb/830956...</td>\n",
       "      <td>False</td>\n",
       "      <td>False</td>\n",
       "    </tr>\n",
       "    <tr>\n",
       "      <th>1754</th>\n",
       "      <td>667174963120574464</td>\n",
       "      <td>Thu Nov 19 02:58:01 +0000 2015</td>\n",
       "      <td>None</td>\n",
       "      <td>None</td>\n",
       "      <td>False</td>\n",
       "      <td>83</td>\n",
       "      <td>241</td>\n",
       "      <td>http://pbs.twimg.com/media/CUJIFoJWsAAL3Dc.jpg</td>\n",
       "      <td>False</td>\n",
       "      <td>False</td>\n",
       "    </tr>\n",
       "  </tbody>\n",
       "</table>\n",
       "</div>"
      ],
      "text/plain": [
       "                      id                      created_at  \\\n",
       "73    844979544864018432  Thu Mar 23 18:29:57 +0000 2017   \n",
       "615   742150209887731712  Mon Jun 13 00:22:53 +0000 2016   \n",
       "1215  679854723806179328  Thu Dec 24 02:42:51 +0000 2015   \n",
       "106   830956169170665475  Mon Feb 13 01:46:03 +0000 2017   \n",
       "1754  667174963120574464  Thu Nov 19 02:58:01 +0000 2015   \n",
       "\n",
       "     in_reply_to_status_id in_reply_to_user_id  is_quote_status  \\\n",
       "73      759099523532779520          4196983835            False   \n",
       "615                   None                None            False   \n",
       "1215                  None                None            False   \n",
       "106                   None                None            False   \n",
       "1754                  None                None            False   \n",
       "\n",
       "      retweet_count  favorite_count  \\\n",
       "73             2705           14070   \n",
       "615            1645            5339   \n",
       "1215           1304            2969   \n",
       "106            1595            8338   \n",
       "1754             83             241   \n",
       "\n",
       "                                              media_url  retweeted  favorited  \n",
       "73       http://pbs.twimg.com/media/C7n4aQ5VsAAc1LN.jpg      False      False  \n",
       "615      http://pbs.twimg.com/media/CkylrVWWsAAiXJE.jpg      False      False  \n",
       "1215     http://pbs.twimg.com/media/CW9UQ7oWkAAErmU.jpg      False      False  \n",
       "106   http://pbs.twimg.com/ext_tw_video_thumb/830956...      False      False  \n",
       "1754     http://pbs.twimg.com/media/CUJIFoJWsAAL3Dc.jpg      False      False  "
      ]
     },
     "execution_count": 33,
     "metadata": {},
     "output_type": "execute_result"
    }
   ],
   "source": [
    "df_tweets_api.sample(5)"
   ]
  },
  {
   "cell_type": "markdown",
   "metadata": {},
   "source": [
    "* `created_at` como `string`\n",
    "* `in_reply_to_status_id` e `in_reply_to_userid` como `string`"
   ]
  },
  {
   "cell_type": "markdown",
   "metadata": {},
   "source": [
    "<a id=\"tweets-api:duplicated\"></a>\n",
    "Verificar a duplicidade de valores"
   ]
  },
  {
   "cell_type": "code",
   "execution_count": 34,
   "metadata": {},
   "outputs": [
    {
     "data": {
      "text/plain": [
       "False    1820\n",
       "Name: id, dtype: int64"
      ]
     },
     "execution_count": 34,
     "metadata": {},
     "output_type": "execute_result"
    }
   ],
   "source": [
    "# Verificar se há IDs duplicados\n",
    "df_tweets_api.id.duplicated().value_counts()"
   ]
  },
  {
   "cell_type": "code",
   "execution_count": 35,
   "metadata": {},
   "outputs": [
    {
     "data": {
      "text/plain": [
       "False    1759\n",
       "True       61\n",
       "Name: media_url, dtype: int64"
      ]
     },
     "execution_count": 35,
     "metadata": {},
     "output_type": "execute_result"
    }
   ],
   "source": [
    "# Verificar se há imagens duplicadas\n",
    "df_tweets_api.media_url.duplicated().value_counts()"
   ]
  },
  {
   "cell_type": "markdown",
   "metadata": {},
   "source": [
    "Há tweets referenciando a mesma imagem"
   ]
  },
  {
   "cell_type": "markdown",
   "metadata": {},
   "source": [
    "------"
   ]
  },
  {
   "cell_type": "markdown",
   "metadata": {},
   "source": [
    "<a id=\"avaliacao:anotacoes\"></a>\n",
    "\n",
    "## Notas da avaliação\n",
    "### Qualidade\n",
    "\n",
    "#### `df_twitter_arc` - Twitter archive\n",
    "1. [Base incompleta, contém apenas **2356** registros dos **5000** anunciados](#twitter-arc:info)\n",
    "* [Coluna `source` sem valor à unidade de obsevação](#twitter-arc:source)\n",
    "* [Nomes (`name`) preenchidos com valor literal igual a `'None'`, vazio](#twitter-arc:name)\n",
    "* [Coluna `expanded_urls` sem valor à unidade de observação](#twitter-arc:expanded_urls)\n",
    "* [Categorias \\[`doggo`, `floofer`, `pupper`, `puppo`\\] com literal `'None'`](#twitter-arc:category)\n",
    "\n",
    "\n",
    "#### `df_prediction` - Image prediction\n",
    "1. [Previsões \\[`p1`, `p2`, `p3`\\] com nomes não padronizados](#image-prediction:p-values)\n",
    "* [Duplicidade na coluna `jgp_url`](#image-prediction:duplicated-urls)\n",
    "\n",
    "\n",
    "#### `df_tweets_api` - Twitter API\n",
    "1. [Diferentes Tweets referenciando a mesma imagem, duplicidade](#tweets-api:duplicated)\n",
    "\n",
    "\n",
    "### Organização\n",
    "\n",
    "#### `df_twitter_arc` - Twitter archive\n",
    "1. [As colunas `in_reply_to_status_id`, `in_reply_to_user_id`, `retweeted_status_id`, `retweeted_status_user_id` estão em `float64`](#twitter-arc:info)\n",
    "* [As colunas `timestamp` e `retweet_status_timestamp` estão em `string`](#twitter-arc:info)\n",
    "* [Uma variável em várias colunas, `doggo`, `floofer`, `pupper` e `puppo`](#twitter-arc:category)\n",
    "\n",
    "\n",
    "#### `df_prediction` - Image prediction\n",
    "1. [Colunas como variáveis na identificação das predições](#image-prediction:info)\n",
    "\n",
    "\n",
    "#### `df_tweets_api` - Twitter API\n",
    "1. [Os nomes das colunas `id` e `media_url` estão fora do padrão dos demais dataframes, respectivamente `tweet_id` e `jpg_url` ](#tweets-api:info)\n",
    "* [Data de criação (`created_at`) como `string`](#tweets-api:info)\n",
    "* [As colunas `in_reply_to_status_id` e `in_reply_to_user_id` em `string`](#tweets-api:info)"
   ]
  },
  {
   "cell_type": "markdown",
   "metadata": {},
   "source": [
    "------"
   ]
  },
  {
   "cell_type": "markdown",
   "metadata": {},
   "source": [
    "<a id=\"limpeza\"></a>\n",
    "\n",
    "# Limpeza"
   ]
  },
  {
   "cell_type": "markdown",
   "metadata": {},
   "source": [
    "<a id=\"limpeza:definicao\"></a>\n",
    "\n",
    "## Limpeza: Definição \n",
    "\n",
    "#### `df_twitter_arc` - Twitter archive\n",
    "1. [Base incompleta, de **5000**, apenas **2356** estão disponíveis](#limpeza:twitter-arc:completeness)\n",
    "    * OK - Nada a ser feito\n",
    "* [Coluna `source` sem valor à unidade de observação](#limpeza:twitter-arc:source)\n",
    "    * O conteúdo apresenta um link para download do App Twitter, portanto não agrega valor à unidade de observação, a coluna pode ser removida\n",
    "* [Nomes (`name`) não preenchidos com valor literal igual a `'None'`](#limpeza:twitter-arc:name)\n",
    "    * Alterar valores como 'None' para `np.nan`\n",
    "* [Coluna `expanded_urls` sem valor à unidade de observação](#limpeza:twitter-arc:expanded_urls)(#twitter-arc:expanded_urls)\n",
    "    * Não apresentam valor à unidade de observação, são URLs para os tweets em questão. Remover a coluna `expanded_urls`.\n",
    "* [Categorias \\[doggo, floofer, pupper, puppo\\] com literal `'None'`](#limpeza:twitter-arc:category)\n",
    "    * Aplicar valor `np.nan` para nomes iguais a 'None'   \n",
    "* [As colunas `in_reply_to_status_id`, `in_reply_to_user_id`, `retweeted_status_id`, `retweeted_status_user_id` estão em `float64`](#limpeza:twitter-arc:info)\n",
    "    * Linhas com valor para as colunas `retweeted_status_id` ou `retweeted_status_user_id` podem ser descartadas por indicarem retweet, o objetivo é analisar somente tweets originais\n",
    "    * Após a remoção retweets, as colunas `retweeted_status_id`, `retweeted_status_user_id`, `retweeted_status_timestamp`, podem ser descartadas\n",
    "    * As colunas `in_reply_to_status_id` e `in_reply_to_user_id` serão retratadas no dataframe `df_tweets_api`\n",
    "* [As colunas `timestamp` e `retweet_status_timestamp` estão em `string` e deveriam ser do tipo `datetime`](#limpeza:twitter-arc:datetime)\n",
    "    * Converter valores para `datetime`\n",
    "* [Uma variável em várias colunas, `doggo`, `floofer`, `pupper` e `puppo`](#limpeza:twitter-arc:category-merge)\n",
    "    * Cada variável em apenas uma coluna,  `category`\n",
    "\n",
    "\n",
    "#### `df_prediction` - Image prediction\n",
    "1. [Previsões \\[`p1`, `p2`, `p3`\\] com nomes não padronizados](#limpeza:image-prediction:names)\n",
    "    * Converter os valores para 'lower case' e substituir '_' por espaços\n",
    "* [Previsões repetidas sobre a mesma imagem](#limpeza:image-prediction:duplicated-urls)\n",
    "    * Descartar predições sobre imagens repetidas\n",
    "* [Colunas como variáveis na identificação das predições](#limpeza:image-prediction:info)\n",
    "    * Transpor as variáveis nas colunas para linhas\n",
    "\n",
    "\n",
    "#### `df_tweets_api` - Twitter API\n",
    "1. [Os nomes das colunas `id` e `media_url` estão fora do padrão dos demais dataframes, respectivamente `tweet_id` e `jpg_url` ](#limpeza:tweets-api:columns)\n",
    "* [Diferentes Tweets referenciando a mesma imagem, duplicidade](#limpeza:tweets-api:duplicated)\n",
    "* [Data de criação (`created_at`) como `string`](#limpeza:tweets-api:datetime)\n",
    "    * Converter datas em string para o formato `datetime`\n",
    "* [Valor do id na coluna `in_reply_to_status_id` e `in_reply_to_user_id` como `string`](#limpeza:tweets-api:info)\n",
    "    * Converter para Inteiro as colunas `in_reply_to_status_id` e `in_reply_to_user_id` e atribuir np.nan as que estiverem sem valor"
   ]
  },
  {
   "cell_type": "markdown",
   "metadata": {},
   "source": [
    "<a id=\"limpeza:twitter-archive\"></a>\n",
    "\n",
    "## Limpeza: Twitter archive"
   ]
  },
  {
   "cell_type": "code",
   "execution_count": 36,
   "metadata": {},
   "outputs": [],
   "source": [
    "# Criar cópia do dataframe para a limpeza\n",
    "df_arch_clean = df_twitter_arc.copy()"
   ]
  },
  {
   "cell_type": "markdown",
   "metadata": {},
   "source": [
    "<a id=\"limpeza:twitter-arc:completeness\"></a>\n",
    "\n",
    "### 1. [Base incompleta, de 5000, apenas 2356 estão disponíveis](#limpeza:twitter-arc:completeness)\n",
    "Nada a ser feito"
   ]
  },
  {
   "cell_type": "code",
   "execution_count": 37,
   "metadata": {},
   "outputs": [
    {
     "data": {
      "text/plain": [
       "(2356, 17)"
      ]
     },
     "execution_count": 37,
     "metadata": {},
     "output_type": "execute_result"
    }
   ],
   "source": [
    "df_arch_clean.shape"
   ]
  },
  {
   "cell_type": "markdown",
   "metadata": {},
   "source": [
    "<a id=\"limpeza:twitter-arc:source\"></a>\n",
    "\n",
    "### 2. [Coluna `source` sem valor à unidade de observação](#limpeza:twitter-arc:source)\n",
    "* O conteúdo apresenta um link para download do App Twitter, portanto não agrega valor à unidade de observação, a coluna pode ser removida"
   ]
  },
  {
   "cell_type": "code",
   "execution_count": 38,
   "metadata": {},
   "outputs": [],
   "source": [
    "# Remoção da coluna `source`\n",
    "df_arch_clean.drop('source', axis='columns', inplace=True)"
   ]
  },
  {
   "cell_type": "markdown",
   "metadata": {},
   "source": [
    "#### Teste: Remoção coluna `source`"
   ]
  },
  {
   "cell_type": "code",
   "execution_count": 39,
   "metadata": {},
   "outputs": [
    {
     "data": {
      "text/plain": [
       "Index(['tweet_id', 'in_reply_to_status_id', 'in_reply_to_user_id', 'timestamp',\n",
       "       'text', 'retweeted_status_id', 'retweeted_status_user_id',\n",
       "       'retweeted_status_timestamp', 'expanded_urls', 'rating_numerator',\n",
       "       'rating_denominator', 'name', 'doggo', 'floofer', 'pupper', 'puppo'],\n",
       "      dtype='object')"
      ]
     },
     "execution_count": 39,
     "metadata": {},
     "output_type": "execute_result"
    }
   ],
   "source": [
    "# Conferir que a coluna `source` foi removida\n",
    "df_arch_clean.columns"
   ]
  },
  {
   "cell_type": "markdown",
   "metadata": {},
   "source": [
    "<a id=\"limpeza:twitter-arc:name\"></a>\n",
    "\n",
    "### 3. [Nomes (`name`) não preenchidos com valor literal igual a `'None'`](#limpeza:twitter-arc:name)\n",
    "    * Alterar valores como 'None' para `np.nan`"
   ]
  },
  {
   "cell_type": "code",
   "execution_count": 40,
   "metadata": {},
   "outputs": [
    {
     "data": {
      "text/plain": [
       "745"
      ]
     },
     "execution_count": 40,
     "metadata": {},
     "output_type": "execute_result"
    }
   ],
   "source": [
    "# Contagem de nomes iguais a 'None'\n",
    "df_arch_clean[df_arch_clean.name.str.lower() == 'none'].name.count()"
   ]
  },
  {
   "cell_type": "code",
   "execution_count": 41,
   "metadata": {},
   "outputs": [],
   "source": [
    "# Função para substituição de valores literais 'None' por np.nan\n",
    "def set_nan_at_none(value):\n",
    "    if str(value).lower() == 'none':\n",
    "        return np.nan\n",
    "    else:\n",
    "        return value"
   ]
  },
  {
   "cell_type": "code",
   "execution_count": 42,
   "metadata": {},
   "outputs": [],
   "source": [
    "# Aplicar `np.nan` aos nomes iguais a 'None'\n",
    "df_arch_clean.name = df_arch_clean.name.apply(set_nan_at_none)"
   ]
  },
  {
   "cell_type": "markdown",
   "metadata": {},
   "source": [
    "#### Teste: Aplicação de `np.nan` aos nomes como 'None'"
   ]
  },
  {
   "cell_type": "code",
   "execution_count": 43,
   "metadata": {},
   "outputs": [
    {
     "data": {
      "text/plain": [
       "745"
      ]
     },
     "execution_count": 43,
     "metadata": {},
     "output_type": "execute_result"
    }
   ],
   "source": [
    "df_arch_clean.name.isnull().sum()"
   ]
  },
  {
   "cell_type": "code",
   "execution_count": 44,
   "metadata": {},
   "outputs": [
    {
     "data": {
      "text/plain": [
       "0"
      ]
     },
     "execution_count": 44,
     "metadata": {},
     "output_type": "execute_result"
    }
   ],
   "source": [
    "df_arch_clean[df_arch_clean.name.str.lower() == 'none'].name.count()"
   ]
  },
  {
   "cell_type": "code",
   "execution_count": 45,
   "metadata": {},
   "outputs": [
    {
     "data": {
      "text/plain": [
       "393         Mo\n",
       "306        NaN\n",
       "2071     Phred\n",
       "307       Rory\n",
       "384       Loki\n",
       "2228    Jareld\n",
       "1847       NaN\n",
       "370       Mutt\n",
       "930        Dex\n",
       "857        NaN\n",
       "Name: name, dtype: object"
      ]
     },
     "execution_count": 45,
     "metadata": {},
     "output_type": "execute_result"
    }
   ],
   "source": [
    "df_arch_clean.name.sample(10)"
   ]
  },
  {
   "cell_type": "markdown",
   "metadata": {},
   "source": [
    "<a id=\"limpeza:twitter-arc:expanded_urls\"></a>\n",
    "\n",
    "### 4. [Coluna `expanded_urls` sem valor à unidade de observação](#limpeza:twitter-arc:expanded_urls)\n",
    "* Não apresentam valor à unidade de observação, são URLs para os tweets em questão. Remover a coluna `expanded_urls`"
   ]
  },
  {
   "cell_type": "code",
   "execution_count": 46,
   "metadata": {},
   "outputs": [],
   "source": [
    "df_arch_clean.drop('expanded_urls', axis='columns', inplace=True)"
   ]
  },
  {
   "cell_type": "markdown",
   "metadata": {},
   "source": [
    "#### Teste: Remoção da coluna `expanded_urls`"
   ]
  },
  {
   "cell_type": "code",
   "execution_count": 47,
   "metadata": {},
   "outputs": [
    {
     "data": {
      "text/plain": [
       "Index(['tweet_id', 'in_reply_to_status_id', 'in_reply_to_user_id', 'timestamp',\n",
       "       'text', 'retweeted_status_id', 'retweeted_status_user_id',\n",
       "       'retweeted_status_timestamp', 'rating_numerator', 'rating_denominator',\n",
       "       'name', 'doggo', 'floofer', 'pupper', 'puppo'],\n",
       "      dtype='object')"
      ]
     },
     "execution_count": 47,
     "metadata": {},
     "output_type": "execute_result"
    }
   ],
   "source": [
    "df_arch_clean.columns"
   ]
  },
  {
   "cell_type": "markdown",
   "metadata": {},
   "source": [
    "<a id=\"limpeza:twitter-arc:category\"></a>\n",
    "\n",
    "### 5. [Categorias \\[`doggo`, `floofer`, `pupper`, `puppo`\\] com literal `'None'`](#limpeza:twitter-arc:category)\n",
    "* Aplicar valor `np.nan` para nomes iguais a 'None'   "
   ]
  },
  {
   "cell_type": "code",
   "execution_count": 48,
   "metadata": {},
   "outputs": [
    {
     "data": {
      "text/plain": [
       "True     2259\n",
       "False      97\n",
       "Name: doggo, dtype: int64"
      ]
     },
     "execution_count": 48,
     "metadata": {},
     "output_type": "execute_result"
    }
   ],
   "source": [
    "# Trocar valores 'None' para np.nan nas colunas `doggo`, `floofer`, `pupper`, `puppo`\n",
    "df_arch_clean.doggo = df_arch_clean.doggo.apply(set_nan_at_none)\n",
    "df_arch_clean.doggo.isna().value_counts()"
   ]
  },
  {
   "cell_type": "code",
   "execution_count": 49,
   "metadata": {},
   "outputs": [
    {
     "data": {
      "text/plain": [
       "True     2346\n",
       "False      10\n",
       "Name: floofer, dtype: int64"
      ]
     },
     "execution_count": 49,
     "metadata": {},
     "output_type": "execute_result"
    }
   ],
   "source": [
    "df_arch_clean.floofer = df_arch_clean.floofer.apply(set_nan_at_none)\n",
    "df_arch_clean.floofer.isna().value_counts()"
   ]
  },
  {
   "cell_type": "code",
   "execution_count": 50,
   "metadata": {},
   "outputs": [
    {
     "data": {
      "text/plain": [
       "True     2099\n",
       "False     257\n",
       "Name: pupper, dtype: int64"
      ]
     },
     "execution_count": 50,
     "metadata": {},
     "output_type": "execute_result"
    }
   ],
   "source": [
    "df_arch_clean.pupper = df_arch_clean.pupper.apply(set_nan_at_none)\n",
    "df_arch_clean.pupper.isna().value_counts()"
   ]
  },
  {
   "cell_type": "code",
   "execution_count": 51,
   "metadata": {},
   "outputs": [
    {
     "data": {
      "text/plain": [
       "True     2326\n",
       "False      30\n",
       "Name: puppo, dtype: int64"
      ]
     },
     "execution_count": 51,
     "metadata": {},
     "output_type": "execute_result"
    }
   ],
   "source": [
    "df_arch_clean.puppo = df_arch_clean.puppo.apply(set_nan_at_none)\n",
    "df_arch_clean.puppo.isna().value_counts()"
   ]
  },
  {
   "cell_type": "code",
   "execution_count": 52,
   "metadata": {},
   "outputs": [
    {
     "data": {
      "text/plain": [
       "394"
      ]
     },
     "execution_count": 52,
     "metadata": {},
     "output_type": "execute_result"
    }
   ],
   "source": [
    "# Soma de valores preenchidos nas classificações\n",
    "sum_categories = 0\n",
    "sum_categories += df_arch_clean.doggo.notna().sum()\n",
    "sum_categories += df_arch_clean.floofer.notna().sum()\n",
    "sum_categories += df_arch_clean.pupper.notna().sum()\n",
    "sum_categories += df_arch_clean.puppo.notna().sum()\n",
    "\n",
    "sum_categories"
   ]
  },
  {
   "cell_type": "markdown",
   "metadata": {},
   "source": [
    "Apenas 394 dos 2346 registros foram classificados"
   ]
  },
  {
   "cell_type": "markdown",
   "metadata": {},
   "source": [
    "<a id=\"limpeza:twitter-arc:info\"></a>\n",
    "\n",
    "### 6. [As colunas `in_reply_to_status_id`, `in_reply_to_user_id`, `retweeted_status_id`, `retweeted_status_user_id` estão em `float64`](#limpeza:twitter-arc:info)\n",
    "* Linhas com algum valor para as colunas `retweeted_status_id` ou `retweeted_status_user_id` podem ser descartadas por indicarem retweet, e o objetivo é analisar somente tweets originais\n",
    "* Após a remoção retweets, as colunas `retweeted_status_id`, `retweeted_status_user_id`, `retweeted_status_timestamp`, podem ser descartadas\n",
    "* As colunas `in_reply_to_status_id` e `in_reply_to_user_id` serão retratadas no dataframe `df_tweets_api`"
   ]
  },
  {
   "cell_type": "markdown",
   "metadata": {},
   "source": [
    "#### Identificação dos tweets originais\n",
    "df_arch_clean.loc[:,'retweeted_status_id'].isna().value_counts()"
   ]
  },
  {
   "cell_type": "code",
   "execution_count": 53,
   "metadata": {},
   "outputs": [
    {
     "data": {
      "text/plain": [
       "2356"
      ]
     },
     "execution_count": 53,
     "metadata": {},
     "output_type": "execute_result"
    }
   ],
   "source": [
    "df_arch_clean.retweeted_status_id.size"
   ]
  },
  {
   "cell_type": "code",
   "execution_count": 54,
   "metadata": {},
   "outputs": [
    {
     "data": {
      "text/plain": [
       "True     2175\n",
       "False     181\n",
       "Name: retweeted_status_id, dtype: int64"
      ]
     },
     "execution_count": 54,
     "metadata": {},
     "output_type": "execute_result"
    }
   ],
   "source": [
    "df_arch_clean.loc[:,'retweeted_status_id'].isna().value_counts()"
   ]
  },
  {
   "cell_type": "markdown",
   "metadata": {},
   "source": [
    "Dos 2356 registros, 181 são retweets"
   ]
  },
  {
   "cell_type": "code",
   "execution_count": 55,
   "metadata": {},
   "outputs": [],
   "source": [
    "# Remoção dos retweets\n",
    "df_arch_clean.drop(df_arch_clean[df_arch_clean.retweeted_status_id.notna()].index, axis=0, inplace=True)"
   ]
  },
  {
   "cell_type": "markdown",
   "metadata": {},
   "source": [
    "#### Teste: Remoção de Retweets"
   ]
  },
  {
   "cell_type": "code",
   "execution_count": 56,
   "metadata": {},
   "outputs": [
    {
     "data": {
      "text/plain": [
       "True    2175\n",
       "Name: retweeted_status_id, dtype: int64"
      ]
     },
     "execution_count": 56,
     "metadata": {},
     "output_type": "execute_result"
    }
   ],
   "source": [
    "# Consultar a existência de colunas com retweet_status_preenchido\n",
    "df_arch_clean.loc[:,'retweeted_status_id'].isna().value_counts()"
   ]
  },
  {
   "cell_type": "markdown",
   "metadata": {},
   "source": [
    "Remoção das colunas referentes a retweets"
   ]
  },
  {
   "cell_type": "code",
   "execution_count": 57,
   "metadata": {},
   "outputs": [],
   "source": [
    "df_arch_clean.drop(['retweeted_status_id', 'retweeted_status_user_id', 'retweeted_status_timestamp'], axis='columns', inplace=True)"
   ]
  },
  {
   "cell_type": "markdown",
   "metadata": {},
   "source": [
    "#### Teste: Verificação da remoção das colunas referentes a retweets"
   ]
  },
  {
   "cell_type": "code",
   "execution_count": 58,
   "metadata": {},
   "outputs": [
    {
     "data": {
      "text/plain": [
       "Index(['tweet_id', 'in_reply_to_status_id', 'in_reply_to_user_id', 'timestamp',\n",
       "       'text', 'rating_numerator', 'rating_denominator', 'name', 'doggo',\n",
       "       'floofer', 'pupper', 'puppo'],\n",
       "      dtype='object')"
      ]
     },
     "execution_count": 58,
     "metadata": {},
     "output_type": "execute_result"
    }
   ],
   "source": [
    "df_arch_clean.columns"
   ]
  },
  {
   "cell_type": "markdown",
   "metadata": {},
   "source": [
    "<a id=\"limpeza:twitter-arc:datetime\"></a>\n",
    "\n",
    "### 7. [As colunas `timestamp` e `retweet_status_timestamp` estão em `string` e deveriam ser do tipo `datetime`](#limpeza:twitter-arc:datetime)\n",
    "* Converter valores para `datetime`\n",
    "\n",
    "Haja vista que a coluna `retweet_status_timestamp` foi removida no passo anterior, não será necessária a sua conversão"
   ]
  },
  {
   "cell_type": "code",
   "execution_count": 59,
   "metadata": {},
   "outputs": [
    {
     "name": "stdout",
     "output_type": "stream",
     "text": [
      "<class 'pandas.core.frame.DataFrame'>\n",
      "Int64Index: 2175 entries, 0 to 2355\n",
      "Data columns (total 1 columns):\n",
      "timestamp    2175 non-null object\n",
      "dtypes: object(1)\n",
      "memory usage: 34.0+ KB\n"
     ]
    }
   ],
   "source": [
    "df_arch_clean.loc[:, ['timestamp']].info()"
   ]
  },
  {
   "cell_type": "code",
   "execution_count": 60,
   "metadata": {},
   "outputs": [],
   "source": [
    "df_arch_clean.timestamp = pd.to_datetime(df_arch_clean.timestamp)"
   ]
  },
  {
   "cell_type": "markdown",
   "metadata": {},
   "source": [
    "#### Teste: Veriificação da conversão de `string` para `datetime`"
   ]
  },
  {
   "cell_type": "code",
   "execution_count": 61,
   "metadata": {},
   "outputs": [
    {
     "name": "stdout",
     "output_type": "stream",
     "text": [
      "<class 'pandas.core.frame.DataFrame'>\n",
      "Int64Index: 2175 entries, 0 to 2355\n",
      "Data columns (total 1 columns):\n",
      "timestamp    2175 non-null datetime64[ns, UTC]\n",
      "dtypes: datetime64[ns, UTC](1)\n",
      "memory usage: 34.0 KB\n"
     ]
    }
   ],
   "source": [
    "df_arch_clean.loc[:, ['timestamp']].info()"
   ]
  },
  {
   "cell_type": "markdown",
   "metadata": {},
   "source": [
    "<a id=\"limpeza:twitter-arc:category-merge\"></a>\n",
    "\n",
    "### 8. [Uma variável em várias colunas, `doggo`, `floofer`, `pupper` e `puppo`](#limpeza:twitter-arc:category-merge)\n",
    "* Cada variável em apenas uma coluna, reduzi-las a coluna `category`"
   ]
  },
  {
   "cell_type": "code",
   "execution_count": 62,
   "metadata": {},
   "outputs": [
    {
     "name": "stdout",
     "output_type": "stream",
     "text": [
      "<class 'pandas.core.frame.DataFrame'>\n",
      "Int64Index: 2175 entries, 0 to 2355\n",
      "Data columns (total 12 columns):\n",
      "tweet_id                 2175 non-null int64\n",
      "in_reply_to_status_id    78 non-null float64\n",
      "in_reply_to_user_id      78 non-null float64\n",
      "timestamp                2175 non-null datetime64[ns, UTC]\n",
      "text                     2175 non-null object\n",
      "rating_numerator         2175 non-null int64\n",
      "rating_denominator       2175 non-null int64\n",
      "name                     1495 non-null object\n",
      "doggo                    87 non-null object\n",
      "floofer                  10 non-null object\n",
      "pupper                   234 non-null object\n",
      "puppo                    25 non-null object\n",
      "dtypes: datetime64[ns, UTC](1), float64(2), int64(3), object(6)\n",
      "memory usage: 220.9+ KB\n"
     ]
    }
   ],
   "source": [
    "df_arch_clean.info()"
   ]
  },
  {
   "cell_type": "code",
   "execution_count": 63,
   "metadata": {},
   "outputs": [
    {
     "data": {
      "text/plain": [
       "doggo       87\n",
       "floofer     10\n",
       "pupper     234\n",
       "puppo       25\n",
       "dtype: int64"
      ]
     },
     "execution_count": 63,
     "metadata": {},
     "output_type": "execute_result"
    }
   ],
   "source": [
    "df_arch_clean.loc[:, 'doggo':].notna().sum()"
   ]
  },
  {
   "cell_type": "code",
   "execution_count": 64,
   "metadata": {},
   "outputs": [
    {
     "data": {
      "text/plain": [
       "356"
      ]
     },
     "execution_count": 64,
     "metadata": {},
     "output_type": "execute_result"
    }
   ],
   "source": [
    "df_arch_clean.loc[:, 'doggo':].notna().sum().sum()"
   ]
  },
  {
   "cell_type": "markdown",
   "metadata": {},
   "source": [
    "De **2175** registros, apenas **356** estão classificados"
   ]
  },
  {
   "cell_type": "markdown",
   "metadata": {},
   "source": [
    "Criar uma lista das categorias para mesclar as colunas, considerando a coluna a esquerda como prioritaria sobre valores nulos a direita."
   ]
  },
  {
   "cell_type": "code",
   "execution_count": 65,
   "metadata": {},
   "outputs": [],
   "source": [
    "category = df_arch_clean.doggo\n",
    "category = category.combine_first(df_arch_clean.floofer)\n",
    "category = category.combine_first(df_arch_clean.pupper)\n",
    "category = category.combine_first(df_arch_clean.puppo)\n",
    "\n",
    "df_arch_clean['category'] = category"
   ]
  },
  {
   "cell_type": "code",
   "execution_count": 66,
   "metadata": {},
   "outputs": [
    {
     "data": {
      "text/plain": [
       "344"
      ]
     },
     "execution_count": 66,
     "metadata": {},
     "output_type": "execute_result"
    }
   ],
   "source": [
    "df_arch_clean.category.notna().sum()"
   ]
  },
  {
   "cell_type": "markdown",
   "metadata": {},
   "source": [
    "Após a unificação das colunas de classificação, pode-se ver que resultou em apenas **344** registros, diferente dos **356** iniciais. O que indica que haviam registros com mais de uma classificação."
   ]
  },
  {
   "cell_type": "code",
   "execution_count": 67,
   "metadata": {},
   "outputs": [],
   "source": [
    "df_arch_clean.drop(['doggo', 'floofer', 'pupper', 'puppo'], axis='columns', inplace=True)"
   ]
  },
  {
   "cell_type": "markdown",
   "metadata": {},
   "source": [
    "#### Teste: Verificar a criação da coluna `category` a remoção das colunas `doggo`, `floofer`, `pupper` e `puppo`. "
   ]
  },
  {
   "cell_type": "code",
   "execution_count": 68,
   "metadata": {},
   "outputs": [
    {
     "name": "stdout",
     "output_type": "stream",
     "text": [
      "<class 'pandas.core.frame.DataFrame'>\n",
      "Int64Index: 2175 entries, 0 to 2355\n",
      "Data columns (total 9 columns):\n",
      "tweet_id                 2175 non-null int64\n",
      "in_reply_to_status_id    78 non-null float64\n",
      "in_reply_to_user_id      78 non-null float64\n",
      "timestamp                2175 non-null datetime64[ns, UTC]\n",
      "text                     2175 non-null object\n",
      "rating_numerator         2175 non-null int64\n",
      "rating_denominator       2175 non-null int64\n",
      "name                     1495 non-null object\n",
      "category                 344 non-null object\n",
      "dtypes: datetime64[ns, UTC](1), float64(2), int64(3), object(3)\n",
      "memory usage: 169.9+ KB\n"
     ]
    }
   ],
   "source": [
    "df_arch_clean.info()"
   ]
  },
  {
   "cell_type": "markdown",
   "metadata": {},
   "source": [
    "------\n",
    "<a id=\"limpeza:image-prediction\"></a>\n",
    "\n",
    "## Limpeza: Image prediction "
   ]
  },
  {
   "cell_type": "code",
   "execution_count": 69,
   "metadata": {},
   "outputs": [],
   "source": [
    "# Cópia do dataframe para limpeza\n",
    "df_predict_clean = df_prediction.copy()"
   ]
  },
  {
   "cell_type": "markdown",
   "metadata": {},
   "source": [
    "<a id=\"limpeza:image-prediction:names\"></a>\n",
    "\n",
    "### 1. [Previsões \\[`p1`, `p2`, `p3`\\] com nomes não padronizados](#limpeza:image-prediction:names)\n",
    "* Converter os valores para 'lower case' e substituir '_' por espaços"
   ]
  },
  {
   "cell_type": "code",
   "execution_count": 70,
   "metadata": {},
   "outputs": [],
   "source": [
    "clean_prediction_name = lambda value: str(value).lower().replace('_', ' ')"
   ]
  },
  {
   "cell_type": "code",
   "execution_count": 71,
   "metadata": {},
   "outputs": [
    {
     "data": {
      "text/html": [
       "<div>\n",
       "<style scoped>\n",
       "    .dataframe tbody tr th:only-of-type {\n",
       "        vertical-align: middle;\n",
       "    }\n",
       "\n",
       "    .dataframe tbody tr th {\n",
       "        vertical-align: top;\n",
       "    }\n",
       "\n",
       "    .dataframe thead th {\n",
       "        text-align: right;\n",
       "    }\n",
       "</style>\n",
       "<table border=\"1\" class=\"dataframe\">\n",
       "  <thead>\n",
       "    <tr style=\"text-align: right;\">\n",
       "      <th></th>\n",
       "      <th>p1</th>\n",
       "      <th>p2</th>\n",
       "      <th>p3</th>\n",
       "    </tr>\n",
       "  </thead>\n",
       "  <tbody>\n",
       "    <tr>\n",
       "      <th>455</th>\n",
       "      <td>shower_curtain</td>\n",
       "      <td>sarong</td>\n",
       "      <td>kimono</td>\n",
       "    </tr>\n",
       "    <tr>\n",
       "      <th>1747</th>\n",
       "      <td>cowboy_boot</td>\n",
       "      <td>Chihuahua</td>\n",
       "      <td>papillon</td>\n",
       "    </tr>\n",
       "    <tr>\n",
       "      <th>1260</th>\n",
       "      <td>tiger_shark</td>\n",
       "      <td>great_white_shark</td>\n",
       "      <td>scuba_diver</td>\n",
       "    </tr>\n",
       "    <tr>\n",
       "      <th>1326</th>\n",
       "      <td>Italian_greyhound</td>\n",
       "      <td>whippet</td>\n",
       "      <td>ice_lolly</td>\n",
       "    </tr>\n",
       "    <tr>\n",
       "      <th>474</th>\n",
       "      <td>golden_retriever</td>\n",
       "      <td>Labrador_retriever</td>\n",
       "      <td>flat-coated_retriever</td>\n",
       "    </tr>\n",
       "  </tbody>\n",
       "</table>\n",
       "</div>"
      ],
      "text/plain": [
       "                     p1                  p2                     p3\n",
       "455      shower_curtain              sarong                 kimono\n",
       "1747        cowboy_boot           Chihuahua               papillon\n",
       "1260        tiger_shark   great_white_shark            scuba_diver\n",
       "1326  Italian_greyhound             whippet              ice_lolly\n",
       "474    golden_retriever  Labrador_retriever  flat-coated_retriever"
      ]
     },
     "execution_count": 71,
     "metadata": {},
     "output_type": "execute_result"
    }
   ],
   "source": [
    "df_predict_clean.loc[:, ['p1', 'p2', 'p3']].sample(5)"
   ]
  },
  {
   "cell_type": "markdown",
   "metadata": {},
   "source": [
    "Aplicar a padronização dos nomes em cada uma das colunas de predição"
   ]
  },
  {
   "cell_type": "code",
   "execution_count": 72,
   "metadata": {},
   "outputs": [],
   "source": [
    "df_predict_clean.p1 = df_predict_clean.p1.apply(clean_prediction_name)"
   ]
  },
  {
   "cell_type": "code",
   "execution_count": 73,
   "metadata": {},
   "outputs": [],
   "source": [
    "df_predict_clean.p2 = df_predict_clean.p2.apply(clean_prediction_name)"
   ]
  },
  {
   "cell_type": "code",
   "execution_count": 74,
   "metadata": {},
   "outputs": [],
   "source": [
    "df_predict_clean.p3 = df_predict_clean.p3.apply(clean_prediction_name)"
   ]
  },
  {
   "cell_type": "markdown",
   "metadata": {},
   "source": [
    "#### Teste: Verificar padronização dos nomes das predições"
   ]
  },
  {
   "cell_type": "code",
   "execution_count": 75,
   "metadata": {},
   "outputs": [
    {
     "data": {
      "text/html": [
       "<div>\n",
       "<style scoped>\n",
       "    .dataframe tbody tr th:only-of-type {\n",
       "        vertical-align: middle;\n",
       "    }\n",
       "\n",
       "    .dataframe tbody tr th {\n",
       "        vertical-align: top;\n",
       "    }\n",
       "\n",
       "    .dataframe thead th {\n",
       "        text-align: right;\n",
       "    }\n",
       "</style>\n",
       "<table border=\"1\" class=\"dataframe\">\n",
       "  <thead>\n",
       "    <tr style=\"text-align: right;\">\n",
       "      <th></th>\n",
       "      <th>p1</th>\n",
       "      <th>p2</th>\n",
       "      <th>p3</th>\n",
       "    </tr>\n",
       "  </thead>\n",
       "  <tbody>\n",
       "    <tr>\n",
       "      <th>1896</th>\n",
       "      <td>tennis ball</td>\n",
       "      <td>kelpie</td>\n",
       "      <td>malinois</td>\n",
       "    </tr>\n",
       "    <tr>\n",
       "      <th>893</th>\n",
       "      <td>pug</td>\n",
       "      <td>french bulldog</td>\n",
       "      <td>bull mastiff</td>\n",
       "    </tr>\n",
       "    <tr>\n",
       "      <th>91</th>\n",
       "      <td>pomeranian</td>\n",
       "      <td>pembroke</td>\n",
       "      <td>chihuahua</td>\n",
       "    </tr>\n",
       "    <tr>\n",
       "      <th>1517</th>\n",
       "      <td>seat belt</td>\n",
       "      <td>golden retriever</td>\n",
       "      <td>dingo</td>\n",
       "    </tr>\n",
       "    <tr>\n",
       "      <th>1546</th>\n",
       "      <td>cocker spaniel</td>\n",
       "      <td>irish setter</td>\n",
       "      <td>miniature poodle</td>\n",
       "    </tr>\n",
       "  </tbody>\n",
       "</table>\n",
       "</div>"
      ],
      "text/plain": [
       "                  p1                p2                p3\n",
       "1896     tennis ball            kelpie          malinois\n",
       "893              pug    french bulldog      bull mastiff\n",
       "91        pomeranian          pembroke         chihuahua\n",
       "1517       seat belt  golden retriever             dingo\n",
       "1546  cocker spaniel      irish setter  miniature poodle"
      ]
     },
     "execution_count": 75,
     "metadata": {},
     "output_type": "execute_result"
    }
   ],
   "source": [
    "df_predict_clean.loc[:, ['p1', 'p2', 'p3']].sample(5)"
   ]
  },
  {
   "cell_type": "markdown",
   "metadata": {},
   "source": [
    "<a id=\"limpeza:image-prediction:duplicated-urls\"></a>\n",
    "\n",
    "### 2. [Predições repetidas sobre a mesma imagem](#limpeza:image-prediction:duplicated-urls)\n",
    "* Descartar predições sobre imagens repetidas"
   ]
  },
  {
   "cell_type": "code",
   "execution_count": 76,
   "metadata": {},
   "outputs": [
    {
     "name": "stdout",
     "output_type": "stream",
     "text": [
      "<class 'pandas.core.frame.DataFrame'>\n",
      "RangeIndex: 2075 entries, 0 to 2074\n",
      "Data columns (total 12 columns):\n",
      "tweet_id    2075 non-null int64\n",
      "jpg_url     2075 non-null object\n",
      "img_num     2075 non-null int64\n",
      "p1          2075 non-null object\n",
      "p1_conf     2075 non-null float64\n",
      "p1_dog      2075 non-null bool\n",
      "p2          2075 non-null object\n",
      "p2_conf     2075 non-null float64\n",
      "p2_dog      2075 non-null bool\n",
      "p3          2075 non-null object\n",
      "p3_conf     2075 non-null float64\n",
      "p3_dog      2075 non-null bool\n",
      "dtypes: bool(3), float64(3), int64(2), object(4)\n",
      "memory usage: 152.1+ KB\n"
     ]
    }
   ],
   "source": [
    "df_predict_clean.info()"
   ]
  },
  {
   "cell_type": "code",
   "execution_count": 77,
   "metadata": {},
   "outputs": [
    {
     "data": {
      "text/plain": [
       "False    2009\n",
       "True       66\n",
       "dtype: int64"
      ]
     },
     "execution_count": 77,
     "metadata": {},
     "output_type": "execute_result"
    }
   ],
   "source": [
    "df_predict_clean.loc[:, ['jpg_url', 'p1', 'p2', 'p3']].duplicated().value_counts()"
   ]
  },
  {
   "cell_type": "markdown",
   "metadata": {},
   "source": [
    "Dos **2075** registros, **66** são sobre a mesma imagem. Entretanto, seguindo o objetivo de trabalhar com apenas Tweets originais, além de descartar duplicidade é interessante também descartar as refêrencias a Retweets. Para isso, será feita uma consulta a seleção de Tweets originais, que foi efetuada no passo [6 da limpeza do Twitter Archive](#limpeza:twitter-arc:info)"
   ]
  },
  {
   "cell_type": "code",
   "execution_count": 78,
   "metadata": {},
   "outputs": [],
   "source": [
    "df_predict_clean = df_predict_clean.loc[df_predict_clean.tweet_id.isin(df_arch_clean.tweet_id)]"
   ]
  },
  {
   "cell_type": "markdown",
   "metadata": {},
   "source": [
    "#### Teste: Seleção de Tweets originais"
   ]
  },
  {
   "cell_type": "code",
   "execution_count": 79,
   "metadata": {},
   "outputs": [
    {
     "data": {
      "text/plain": [
       "True    1994\n",
       "Name: tweet_id, dtype: int64"
      ]
     },
     "execution_count": 79,
     "metadata": {},
     "output_type": "execute_result"
    }
   ],
   "source": [
    "df_predict_clean.tweet_id.isin(df_arch_clean.tweet_id).value_counts()"
   ]
  },
  {
   "cell_type": "markdown",
   "metadata": {},
   "source": [
    "Apenas dos **2075**, **1994** são de Tweets originais\n",
    "\n",
    "------"
   ]
  },
  {
   "cell_type": "markdown",
   "metadata": {},
   "source": [
    "Dos Tweets originai ainda é necessário verificar a existência de duplicidade de predições."
   ]
  },
  {
   "cell_type": "code",
   "execution_count": 80,
   "metadata": {},
   "outputs": [
    {
     "data": {
      "text/plain": [
       "False    1994\n",
       "dtype: int64"
      ]
     },
     "execution_count": 80,
     "metadata": {},
     "output_type": "execute_result"
    }
   ],
   "source": [
    "df_predict_clean.loc[:, ['jpg_url']].duplicated().value_counts()"
   ]
  },
  {
   "cell_type": "markdown",
   "metadata": {},
   "source": [
    "Nenhuma duplicidade foi encontrada após a remoção das referências de Retweets"
   ]
  },
  {
   "cell_type": "code",
   "execution_count": 81,
   "metadata": {},
   "outputs": [
    {
     "name": "stdout",
     "output_type": "stream",
     "text": [
      "<class 'pandas.core.frame.DataFrame'>\n",
      "Int64Index: 1994 entries, 0 to 2074\n",
      "Data columns (total 12 columns):\n",
      "tweet_id    1994 non-null int64\n",
      "jpg_url     1994 non-null object\n",
      "img_num     1994 non-null int64\n",
      "p1          1994 non-null object\n",
      "p1_conf     1994 non-null float64\n",
      "p1_dog      1994 non-null bool\n",
      "p2          1994 non-null object\n",
      "p2_conf     1994 non-null float64\n",
      "p2_dog      1994 non-null bool\n",
      "p3          1994 non-null object\n",
      "p3_conf     1994 non-null float64\n",
      "p3_dog      1994 non-null bool\n",
      "dtypes: bool(3), float64(3), int64(2), object(4)\n",
      "memory usage: 161.6+ KB\n"
     ]
    }
   ],
   "source": [
    "df_predict_clean.info()"
   ]
  },
  {
   "cell_type": "markdown",
   "metadata": {},
   "source": [
    "<a id=\"limpeza:image-prediction:info\"></a>\n",
    "\n",
    "### 3. [Colunas como variáveis na identificação das predições](#limpeza:image-prediction:info)\n",
    "* 3.1. Transpor as variáveis nas colunas para linhas:\n",
    "    * 3.1.1. [`[p1, p2, p3]`, para `prediction_try` e seus valores para `prediction_breed`](#limpeza:image-prediction:try)\n",
    "    * 3.1.2. [`[p1_conf, p2_conf, p3_conf]`, para `confidence`](#limpeza:image-prediction:conf)\n",
    "    * 3.1.3. [`[p1_dog, p2_dog, p3_dog]`, para `is_a_dog`](#limpeza:image-prediction:dog)\n",
    "* 3.2. [Unir os dataframes de prediction](#limpeza:image-prediction:merge)"
   ]
  },
  {
   "cell_type": "code",
   "execution_count": 82,
   "metadata": {},
   "outputs": [
    {
     "data": {
      "text/html": [
       "<div>\n",
       "<style scoped>\n",
       "    .dataframe tbody tr th:only-of-type {\n",
       "        vertical-align: middle;\n",
       "    }\n",
       "\n",
       "    .dataframe tbody tr th {\n",
       "        vertical-align: top;\n",
       "    }\n",
       "\n",
       "    .dataframe thead th {\n",
       "        text-align: right;\n",
       "    }\n",
       "</style>\n",
       "<table border=\"1\" class=\"dataframe\">\n",
       "  <thead>\n",
       "    <tr style=\"text-align: right;\">\n",
       "      <th></th>\n",
       "      <th>tweet_id</th>\n",
       "      <th>jpg_url</th>\n",
       "      <th>img_num</th>\n",
       "      <th>p1</th>\n",
       "      <th>p1_conf</th>\n",
       "      <th>p1_dog</th>\n",
       "      <th>p2</th>\n",
       "      <th>p2_conf</th>\n",
       "      <th>p2_dog</th>\n",
       "      <th>p3</th>\n",
       "      <th>p3_conf</th>\n",
       "      <th>p3_dog</th>\n",
       "    </tr>\n",
       "  </thead>\n",
       "  <tbody>\n",
       "    <tr>\n",
       "      <th>821</th>\n",
       "      <td>693095443459342336</td>\n",
       "      <td>https://pbs.twimg.com/media/CZ5entwWYAAocEg.jpg</td>\n",
       "      <td>1</td>\n",
       "      <td>ice lolly</td>\n",
       "      <td>0.660099</td>\n",
       "      <td>False</td>\n",
       "      <td>neck brace</td>\n",
       "      <td>0.039563</td>\n",
       "      <td>False</td>\n",
       "      <td>yorkshire terrier</td>\n",
       "      <td>0.033488</td>\n",
       "      <td>True</td>\n",
       "    </tr>\n",
       "    <tr>\n",
       "      <th>1690</th>\n",
       "      <td>815736392542261248</td>\n",
       "      <td>https://pbs.twimg.com/media/C1IT6rVXUAIvwYT.jpg</td>\n",
       "      <td>3</td>\n",
       "      <td>border collie</td>\n",
       "      <td>0.548907</td>\n",
       "      <td>True</td>\n",
       "      <td>cardigan</td>\n",
       "      <td>0.178523</td>\n",
       "      <td>True</td>\n",
       "      <td>collie</td>\n",
       "      <td>0.146351</td>\n",
       "      <td>True</td>\n",
       "    </tr>\n",
       "    <tr>\n",
       "      <th>334</th>\n",
       "      <td>672169685991993344</td>\n",
       "      <td>https://pbs.twimg.com/media/CVQGv-vUwAEUjCj.jpg</td>\n",
       "      <td>1</td>\n",
       "      <td>cocker spaniel</td>\n",
       "      <td>0.991011</td>\n",
       "      <td>True</td>\n",
       "      <td>sussex spaniel</td>\n",
       "      <td>0.004032</td>\n",
       "      <td>True</td>\n",
       "      <td>miniature poodle</td>\n",
       "      <td>0.001276</td>\n",
       "      <td>True</td>\n",
       "    </tr>\n",
       "    <tr>\n",
       "      <th>1085</th>\n",
       "      <td>718613305783398402</td>\n",
       "      <td>https://pbs.twimg.com/media/CfkG_PMWsAAH0MZ.jpg</td>\n",
       "      <td>1</td>\n",
       "      <td>labrador retriever</td>\n",
       "      <td>0.584580</td>\n",
       "      <td>True</td>\n",
       "      <td>german short-haired pointer</td>\n",
       "      <td>0.340657</td>\n",
       "      <td>True</td>\n",
       "      <td>chesapeake bay retriever</td>\n",
       "      <td>0.031975</td>\n",
       "      <td>True</td>\n",
       "    </tr>\n",
       "    <tr>\n",
       "      <th>1518</th>\n",
       "      <td>787397959788929025</td>\n",
       "      <td>https://pbs.twimg.com/media/Cu1mQsDWEAAU_VQ.jpg</td>\n",
       "      <td>1</td>\n",
       "      <td>chihuahua</td>\n",
       "      <td>0.900483</td>\n",
       "      <td>True</td>\n",
       "      <td>toy terrier</td>\n",
       "      <td>0.021084</td>\n",
       "      <td>True</td>\n",
       "      <td>miniature pinscher</td>\n",
       "      <td>0.019484</td>\n",
       "      <td>True</td>\n",
       "    </tr>\n",
       "  </tbody>\n",
       "</table>\n",
       "</div>"
      ],
      "text/plain": [
       "                tweet_id                                          jpg_url  \\\n",
       "821   693095443459342336  https://pbs.twimg.com/media/CZ5entwWYAAocEg.jpg   \n",
       "1690  815736392542261248  https://pbs.twimg.com/media/C1IT6rVXUAIvwYT.jpg   \n",
       "334   672169685991993344  https://pbs.twimg.com/media/CVQGv-vUwAEUjCj.jpg   \n",
       "1085  718613305783398402  https://pbs.twimg.com/media/CfkG_PMWsAAH0MZ.jpg   \n",
       "1518  787397959788929025  https://pbs.twimg.com/media/Cu1mQsDWEAAU_VQ.jpg   \n",
       "\n",
       "      img_num                  p1   p1_conf  p1_dog  \\\n",
       "821         1           ice lolly  0.660099   False   \n",
       "1690        3       border collie  0.548907    True   \n",
       "334         1      cocker spaniel  0.991011    True   \n",
       "1085        1  labrador retriever  0.584580    True   \n",
       "1518        1           chihuahua  0.900483    True   \n",
       "\n",
       "                               p2   p2_conf  p2_dog                        p3  \\\n",
       "821                    neck brace  0.039563   False         yorkshire terrier   \n",
       "1690                     cardigan  0.178523    True                    collie   \n",
       "334                sussex spaniel  0.004032    True          miniature poodle   \n",
       "1085  german short-haired pointer  0.340657    True  chesapeake bay retriever   \n",
       "1518                  toy terrier  0.021084    True        miniature pinscher   \n",
       "\n",
       "       p3_conf  p3_dog  \n",
       "821   0.033488    True  \n",
       "1690  0.146351    True  \n",
       "334   0.001276    True  \n",
       "1085  0.031975    True  \n",
       "1518  0.019484    True  "
      ]
     },
     "execution_count": 82,
     "metadata": {},
     "output_type": "execute_result"
    }
   ],
   "source": [
    "df_predict_clean.sample(5)"
   ]
  },
  {
   "cell_type": "markdown",
   "metadata": {},
   "source": [
    "<a id=\"limpeza:image-prediction:try\"></a>\n",
    "\n",
    "#### 3.1.1. [Organização das colunas `[p1, p2, p3]`, para `prediction_try` e seus valores para `prediction_breed` ](#limpeza:image-prediction:try)"
   ]
  },
  {
   "cell_type": "code",
   "execution_count": 83,
   "metadata": {},
   "outputs": [],
   "source": [
    "# Organizando as variáveis de tentativa de predição e seu palpite\n",
    "df_predict_try = pd.melt(df_predict_clean,\n",
    "        id_vars=['tweet_id', 'jpg_url'],\n",
    "        value_vars=['p1', 'p2', 'p3'],\n",
    "        var_name=['prediction_try'],\n",
    "        value_name='prediction_breed'\n",
    "       )"
   ]
  },
  {
   "cell_type": "code",
   "execution_count": 84,
   "metadata": {},
   "outputs": [
    {
     "data": {
      "text/html": [
       "<div>\n",
       "<style scoped>\n",
       "    .dataframe tbody tr th:only-of-type {\n",
       "        vertical-align: middle;\n",
       "    }\n",
       "\n",
       "    .dataframe tbody tr th {\n",
       "        vertical-align: top;\n",
       "    }\n",
       "\n",
       "    .dataframe thead th {\n",
       "        text-align: right;\n",
       "    }\n",
       "</style>\n",
       "<table border=\"1\" class=\"dataframe\">\n",
       "  <thead>\n",
       "    <tr style=\"text-align: right;\">\n",
       "      <th></th>\n",
       "      <th>tweet_id</th>\n",
       "      <th>jpg_url</th>\n",
       "      <th>prediction_try</th>\n",
       "      <th>prediction_breed</th>\n",
       "    </tr>\n",
       "  </thead>\n",
       "  <tbody>\n",
       "    <tr>\n",
       "      <th>4342</th>\n",
       "      <td>672604026190569472</td>\n",
       "      <td>https://pbs.twimg.com/media/CVWRyylWIAAMltv.jpg</td>\n",
       "      <td>p3</td>\n",
       "      <td>toilet tissue</td>\n",
       "    </tr>\n",
       "    <tr>\n",
       "      <th>517</th>\n",
       "      <td>676496375194980353</td>\n",
       "      <td>https://pbs.twimg.com/media/CWNl3S9WcAARN34.jpg</td>\n",
       "      <td>p1</td>\n",
       "      <td>pug</td>\n",
       "    </tr>\n",
       "    <tr>\n",
       "      <th>2014</th>\n",
       "      <td>666287406224695296</td>\n",
       "      <td>https://pbs.twimg.com/media/CT8g3BpUEAAuFjg.jpg</td>\n",
       "      <td>p2</td>\n",
       "      <td>toy poodle</td>\n",
       "    </tr>\n",
       "    <tr>\n",
       "      <th>3800</th>\n",
       "      <td>846042936437604353</td>\n",
       "      <td>https://pbs.twimg.com/media/C72_iaUVUAEhZSn.jpg</td>\n",
       "      <td>p2</td>\n",
       "      <td>labrador retriever</td>\n",
       "    </tr>\n",
       "    <tr>\n",
       "      <th>4218</th>\n",
       "      <td>670417414769758208</td>\n",
       "      <td>https://pbs.twimg.com/media/CU3NE8EWUAEVdPD.jpg</td>\n",
       "      <td>p3</td>\n",
       "      <td>cardoon</td>\n",
       "    </tr>\n",
       "  </tbody>\n",
       "</table>\n",
       "</div>"
      ],
      "text/plain": [
       "                tweet_id                                          jpg_url  \\\n",
       "4342  672604026190569472  https://pbs.twimg.com/media/CVWRyylWIAAMltv.jpg   \n",
       "517   676496375194980353  https://pbs.twimg.com/media/CWNl3S9WcAARN34.jpg   \n",
       "2014  666287406224695296  https://pbs.twimg.com/media/CT8g3BpUEAAuFjg.jpg   \n",
       "3800  846042936437604353  https://pbs.twimg.com/media/C72_iaUVUAEhZSn.jpg   \n",
       "4218  670417414769758208  https://pbs.twimg.com/media/CU3NE8EWUAEVdPD.jpg   \n",
       "\n",
       "     prediction_try    prediction_breed  \n",
       "4342             p3       toilet tissue  \n",
       "517              p1                 pug  \n",
       "2014             p2          toy poodle  \n",
       "3800             p2  labrador retriever  \n",
       "4218             p3             cardoon  "
      ]
     },
     "execution_count": 84,
     "metadata": {},
     "output_type": "execute_result"
    }
   ],
   "source": [
    "df_predict_try.sample(5)"
   ]
  },
  {
   "cell_type": "markdown",
   "metadata": {},
   "source": [
    "Conversão dos valores da tentativa para número inteiro"
   ]
  },
  {
   "cell_type": "code",
   "execution_count": 85,
   "metadata": {},
   "outputs": [],
   "source": [
    "# Metodo para retirar o índice da tentativa dos nomes das colunas\n",
    "get_prediction_index = lambda value: int(re.sub(r'[^\\d]', '', str(value)))"
   ]
  },
  {
   "cell_type": "code",
   "execution_count": 86,
   "metadata": {},
   "outputs": [],
   "source": [
    "df_predict_try.prediction_try = df_predict_try.prediction_try.apply(get_prediction_index)"
   ]
  },
  {
   "cell_type": "code",
   "execution_count": 87,
   "metadata": {},
   "outputs": [
    {
     "name": "stdout",
     "output_type": "stream",
     "text": [
      "<class 'pandas.core.frame.DataFrame'>\n",
      "RangeIndex: 5982 entries, 0 to 5981\n",
      "Data columns (total 4 columns):\n",
      "tweet_id            5982 non-null int64\n",
      "jpg_url             5982 non-null object\n",
      "prediction_try      5982 non-null int64\n",
      "prediction_breed    5982 non-null object\n",
      "dtypes: int64(2), object(2)\n",
      "memory usage: 187.0+ KB\n"
     ]
    }
   ],
   "source": [
    "df_predict_try.info()"
   ]
  },
  {
   "cell_type": "code",
   "execution_count": 88,
   "metadata": {},
   "outputs": [
    {
     "data": {
      "text/html": [
       "<div>\n",
       "<style scoped>\n",
       "    .dataframe tbody tr th:only-of-type {\n",
       "        vertical-align: middle;\n",
       "    }\n",
       "\n",
       "    .dataframe tbody tr th {\n",
       "        vertical-align: top;\n",
       "    }\n",
       "\n",
       "    .dataframe thead th {\n",
       "        text-align: right;\n",
       "    }\n",
       "</style>\n",
       "<table border=\"1\" class=\"dataframe\">\n",
       "  <thead>\n",
       "    <tr style=\"text-align: right;\">\n",
       "      <th></th>\n",
       "      <th>tweet_id</th>\n",
       "      <th>jpg_url</th>\n",
       "      <th>prediction_try</th>\n",
       "      <th>prediction_breed</th>\n",
       "    </tr>\n",
       "  </thead>\n",
       "  <tbody>\n",
       "    <tr>\n",
       "      <th>2793</th>\n",
       "      <td>691444869282295808</td>\n",
       "      <td>https://pbs.twimg.com/media/CZiBcJhWQAATXNK.jpg</td>\n",
       "      <td>2</td>\n",
       "      <td>border collie</td>\n",
       "    </tr>\n",
       "    <tr>\n",
       "      <th>1023</th>\n",
       "      <td>710658690886586372</td>\n",
       "      <td>https://pbs.twimg.com/media/CdzETn4W4AAVU5N.jpg</td>\n",
       "      <td>1</td>\n",
       "      <td>soft-coated wheaten terrier</td>\n",
       "    </tr>\n",
       "    <tr>\n",
       "      <th>546</th>\n",
       "      <td>677334615166730240</td>\n",
       "      <td>https://pbs.twimg.com/media/CWZgPPUWUAAUOvu.jpg</td>\n",
       "      <td>1</td>\n",
       "      <td>lakeland terrier</td>\n",
       "    </tr>\n",
       "    <tr>\n",
       "      <th>2707</th>\n",
       "      <td>685547936038666240</td>\n",
       "      <td>https://pbs.twimg.com/media/CYOONfZW8AA7IOA.jpg</td>\n",
       "      <td>2</td>\n",
       "      <td>oscilloscope</td>\n",
       "    </tr>\n",
       "    <tr>\n",
       "      <th>2339</th>\n",
       "      <td>672475084225949696</td>\n",
       "      <td>https://pbs.twimg.com/media/CVUchRHXAAE4rtp.jpg</td>\n",
       "      <td>2</td>\n",
       "      <td>cockroach</td>\n",
       "    </tr>\n",
       "  </tbody>\n",
       "</table>\n",
       "</div>"
      ],
      "text/plain": [
       "                tweet_id                                          jpg_url  \\\n",
       "2793  691444869282295808  https://pbs.twimg.com/media/CZiBcJhWQAATXNK.jpg   \n",
       "1023  710658690886586372  https://pbs.twimg.com/media/CdzETn4W4AAVU5N.jpg   \n",
       "546   677334615166730240  https://pbs.twimg.com/media/CWZgPPUWUAAUOvu.jpg   \n",
       "2707  685547936038666240  https://pbs.twimg.com/media/CYOONfZW8AA7IOA.jpg   \n",
       "2339  672475084225949696  https://pbs.twimg.com/media/CVUchRHXAAE4rtp.jpg   \n",
       "\n",
       "      prediction_try             prediction_breed  \n",
       "2793               2                border collie  \n",
       "1023               1  soft-coated wheaten terrier  \n",
       "546                1             lakeland terrier  \n",
       "2707               2                 oscilloscope  \n",
       "2339               2                    cockroach  "
      ]
     },
     "execution_count": 88,
     "metadata": {},
     "output_type": "execute_result"
    }
   ],
   "source": [
    "df_predict_try.sample(5)"
   ]
  },
  {
   "cell_type": "markdown",
   "metadata": {},
   "source": [
    "<a id=\"limpeza:image-prediction:conf\"></a>\n",
    "\n",
    "#### 3.1.2. [`[p1_conf, p2_conf, p3_conf]`, para `confidence`](#limpeza:image-prediction:conf)"
   ]
  },
  {
   "cell_type": "code",
   "execution_count": 89,
   "metadata": {},
   "outputs": [],
   "source": [
    "# Movendo o nível de confiança das predições para uma coluna apenas\n",
    "df_predict_conf = pd.melt(df_predict_clean,\n",
    "                         id_vars=['tweet_id', 'jpg_url'],\n",
    "                         value_vars=['p1_conf', 'p2_conf', 'p3_conf'],\n",
    "                         var_name=['prediction_try'],\n",
    "                         value_name='confidence'\n",
    "                        )"
   ]
  },
  {
   "cell_type": "code",
   "execution_count": 90,
   "metadata": {},
   "outputs": [
    {
     "data": {
      "text/html": [
       "<div>\n",
       "<style scoped>\n",
       "    .dataframe tbody tr th:only-of-type {\n",
       "        vertical-align: middle;\n",
       "    }\n",
       "\n",
       "    .dataframe tbody tr th {\n",
       "        vertical-align: top;\n",
       "    }\n",
       "\n",
       "    .dataframe thead th {\n",
       "        text-align: right;\n",
       "    }\n",
       "</style>\n",
       "<table border=\"1\" class=\"dataframe\">\n",
       "  <thead>\n",
       "    <tr style=\"text-align: right;\">\n",
       "      <th></th>\n",
       "      <th>tweet_id</th>\n",
       "      <th>jpg_url</th>\n",
       "      <th>prediction_try</th>\n",
       "      <th>confidence</th>\n",
       "    </tr>\n",
       "  </thead>\n",
       "  <tbody>\n",
       "    <tr>\n",
       "      <th>3973</th>\n",
       "      <td>889531135344209921</td>\n",
       "      <td>https://pbs.twimg.com/media/DFg_2PVW0AEHN3p.jpg</td>\n",
       "      <td>p2_conf</td>\n",
       "      <td>0.013834</td>\n",
       "    </tr>\n",
       "    <tr>\n",
       "      <th>2530</th>\n",
       "      <td>676949632774234114</td>\n",
       "      <td>https://pbs.twimg.com/media/CWUCGMtWEAAjXnS.jpg</td>\n",
       "      <td>p2_conf</td>\n",
       "      <td>0.139339</td>\n",
       "    </tr>\n",
       "    <tr>\n",
       "      <th>1738</th>\n",
       "      <td>831939777352105988</td>\n",
       "      <td>https://pbs.twimg.com/media/C4uk0EWWQAAaZm1.jpg</td>\n",
       "      <td>p1_conf</td>\n",
       "      <td>0.153862</td>\n",
       "    </tr>\n",
       "    <tr>\n",
       "      <th>2462</th>\n",
       "      <td>675113801096802304</td>\n",
       "      <td>https://pbs.twimg.com/media/CV58a4nXAAApywo.jpg</td>\n",
       "      <td>p2_conf</td>\n",
       "      <td>0.108807</td>\n",
       "    </tr>\n",
       "    <tr>\n",
       "      <th>2768</th>\n",
       "      <td>689661964914655233</td>\n",
       "      <td>https://pbs.twimg.com/media/CZIr5gFUsAAvnif.jpg</td>\n",
       "      <td>p2_conf</td>\n",
       "      <td>0.246966</td>\n",
       "    </tr>\n",
       "  </tbody>\n",
       "</table>\n",
       "</div>"
      ],
      "text/plain": [
       "                tweet_id                                          jpg_url  \\\n",
       "3973  889531135344209921  https://pbs.twimg.com/media/DFg_2PVW0AEHN3p.jpg   \n",
       "2530  676949632774234114  https://pbs.twimg.com/media/CWUCGMtWEAAjXnS.jpg   \n",
       "1738  831939777352105988  https://pbs.twimg.com/media/C4uk0EWWQAAaZm1.jpg   \n",
       "2462  675113801096802304  https://pbs.twimg.com/media/CV58a4nXAAApywo.jpg   \n",
       "2768  689661964914655233  https://pbs.twimg.com/media/CZIr5gFUsAAvnif.jpg   \n",
       "\n",
       "     prediction_try  confidence  \n",
       "3973        p2_conf    0.013834  \n",
       "2530        p2_conf    0.139339  \n",
       "1738        p1_conf    0.153862  \n",
       "2462        p2_conf    0.108807  \n",
       "2768        p2_conf    0.246966  "
      ]
     },
     "execution_count": 90,
     "metadata": {},
     "output_type": "execute_result"
    }
   ],
   "source": [
    "df_predict_conf.sample(5)"
   ]
  },
  {
   "cell_type": "code",
   "execution_count": 91,
   "metadata": {},
   "outputs": [],
   "source": [
    "# Atribuir apenas valores inteiros aos indicadores de tentativas\n",
    "df_predict_conf.prediction_try = df_predict_conf.prediction_try.apply(get_prediction_index)"
   ]
  },
  {
   "cell_type": "code",
   "execution_count": 92,
   "metadata": {},
   "outputs": [
    {
     "data": {
      "text/html": [
       "<div>\n",
       "<style scoped>\n",
       "    .dataframe tbody tr th:only-of-type {\n",
       "        vertical-align: middle;\n",
       "    }\n",
       "\n",
       "    .dataframe tbody tr th {\n",
       "        vertical-align: top;\n",
       "    }\n",
       "\n",
       "    .dataframe thead th {\n",
       "        text-align: right;\n",
       "    }\n",
       "</style>\n",
       "<table border=\"1\" class=\"dataframe\">\n",
       "  <thead>\n",
       "    <tr style=\"text-align: right;\">\n",
       "      <th></th>\n",
       "      <th>tweet_id</th>\n",
       "      <th>jpg_url</th>\n",
       "      <th>prediction_try</th>\n",
       "      <th>confidence</th>\n",
       "    </tr>\n",
       "  </thead>\n",
       "  <tbody>\n",
       "    <tr>\n",
       "      <th>3530</th>\n",
       "      <td>793845145112371200</td>\n",
       "      <td>https://pbs.twimg.com/media/CwRN8H6WgAASe4X.jpg</td>\n",
       "      <td>2</td>\n",
       "      <td>0.112753</td>\n",
       "    </tr>\n",
       "    <tr>\n",
       "      <th>175</th>\n",
       "      <td>669214165781868544</td>\n",
       "      <td>https://pbs.twimg.com/media/CUmGu7-UcAA0r3O.jpg</td>\n",
       "      <td>1</td>\n",
       "      <td>0.435396</td>\n",
       "    </tr>\n",
       "    <tr>\n",
       "      <th>5256</th>\n",
       "      <td>749996283729883136</td>\n",
       "      <td>https://pbs.twimg.com/media/CmfoyrrW8AA8v7w.jpg</td>\n",
       "      <td>3</td>\n",
       "      <td>0.056420</td>\n",
       "    </tr>\n",
       "    <tr>\n",
       "      <th>3081</th>\n",
       "      <td>719339463458033665</td>\n",
       "      <td>https://pbs.twimg.com/media/Cfuba6NW4AIeMHk.jpg</td>\n",
       "      <td>2</td>\n",
       "      <td>0.071148</td>\n",
       "    </tr>\n",
       "    <tr>\n",
       "      <th>2474</th>\n",
       "      <td>675372240448454658</td>\n",
       "      <td>https://pbs.twimg.com/media/CV9nd30XAAAEba5.jpg</td>\n",
       "      <td>2</td>\n",
       "      <td>0.102933</td>\n",
       "    </tr>\n",
       "  </tbody>\n",
       "</table>\n",
       "</div>"
      ],
      "text/plain": [
       "                tweet_id                                          jpg_url  \\\n",
       "3530  793845145112371200  https://pbs.twimg.com/media/CwRN8H6WgAASe4X.jpg   \n",
       "175   669214165781868544  https://pbs.twimg.com/media/CUmGu7-UcAA0r3O.jpg   \n",
       "5256  749996283729883136  https://pbs.twimg.com/media/CmfoyrrW8AA8v7w.jpg   \n",
       "3081  719339463458033665  https://pbs.twimg.com/media/Cfuba6NW4AIeMHk.jpg   \n",
       "2474  675372240448454658  https://pbs.twimg.com/media/CV9nd30XAAAEba5.jpg   \n",
       "\n",
       "      prediction_try  confidence  \n",
       "3530               2    0.112753  \n",
       "175                1    0.435396  \n",
       "5256               3    0.056420  \n",
       "3081               2    0.071148  \n",
       "2474               2    0.102933  "
      ]
     },
     "execution_count": 92,
     "metadata": {},
     "output_type": "execute_result"
    }
   ],
   "source": [
    "df_predict_conf.sample(5)"
   ]
  },
  {
   "cell_type": "code",
   "execution_count": 93,
   "metadata": {},
   "outputs": [
    {
     "data": {
      "text/plain": [
       "(5982, 4)"
      ]
     },
     "execution_count": 93,
     "metadata": {},
     "output_type": "execute_result"
    }
   ],
   "source": [
    "df_predict_conf.shape"
   ]
  },
  {
   "cell_type": "markdown",
   "metadata": {},
   "source": [
    "<a id=\"limpeza:image-prediction:dog\"></a>\n",
    "\n",
    "#### 3.1.3. [`[p1_dog, p2_dog, p3_dog]`, para `is_a_dog`](#limpeza:image-prediction:dog)"
   ]
  },
  {
   "cell_type": "code",
   "execution_count": 94,
   "metadata": {},
   "outputs": [],
   "source": [
    "# Movendo o resultado da predição, `p#_dog` para `is_a_dog`\n",
    "df_predict_dog = pd.melt(df_predict_clean,\n",
    "                        id_vars=['tweet_id', 'jpg_url'],\n",
    "                        value_vars=['p1_dog', 'p2_dog', 'p3_dog'],\n",
    "                        var_name=['prediction_try'],\n",
    "                        value_name='is_a_dog')"
   ]
  },
  {
   "cell_type": "code",
   "execution_count": 95,
   "metadata": {},
   "outputs": [
    {
     "data": {
      "text/html": [
       "<div>\n",
       "<style scoped>\n",
       "    .dataframe tbody tr th:only-of-type {\n",
       "        vertical-align: middle;\n",
       "    }\n",
       "\n",
       "    .dataframe tbody tr th {\n",
       "        vertical-align: top;\n",
       "    }\n",
       "\n",
       "    .dataframe thead th {\n",
       "        text-align: right;\n",
       "    }\n",
       "</style>\n",
       "<table border=\"1\" class=\"dataframe\">\n",
       "  <thead>\n",
       "    <tr style=\"text-align: right;\">\n",
       "      <th></th>\n",
       "      <th>tweet_id</th>\n",
       "      <th>jpg_url</th>\n",
       "      <th>prediction_try</th>\n",
       "      <th>is_a_dog</th>\n",
       "    </tr>\n",
       "  </thead>\n",
       "  <tbody>\n",
       "    <tr>\n",
       "      <th>2291</th>\n",
       "      <td>671486386088865792</td>\n",
       "      <td>https://pbs.twimg.com/media/CVGZTboUsAATohd.jpg</td>\n",
       "      <td>p2_dog</td>\n",
       "      <td>True</td>\n",
       "    </tr>\n",
       "    <tr>\n",
       "      <th>5260</th>\n",
       "      <td>750056684286914561</td>\n",
       "      <td>https://pbs.twimg.com/media/Cmfx2oNW8AAGg4H.jpg</td>\n",
       "      <td>p3_dog</td>\n",
       "      <td>True</td>\n",
       "    </tr>\n",
       "    <tr>\n",
       "      <th>2361</th>\n",
       "      <td>672970152493887488</td>\n",
       "      <td>https://pbs.twimg.com/media/CVbeyGUU8AEq300.jpg</td>\n",
       "      <td>p2_dog</td>\n",
       "      <td>False</td>\n",
       "    </tr>\n",
       "    <tr>\n",
       "      <th>4722</th>\n",
       "      <td>687102708889812993</td>\n",
       "      <td>https://pbs.twimg.com/media/CYkURJjW8AEamoI.jpg</td>\n",
       "      <td>p3_dog</td>\n",
       "      <td>False</td>\n",
       "    </tr>\n",
       "    <tr>\n",
       "      <th>1328</th>\n",
       "      <td>758041019896193024</td>\n",
       "      <td>https://pbs.twimg.com/media/CoUaSKEXYAAYsAl.jpg</td>\n",
       "      <td>p1_dog</td>\n",
       "      <td>False</td>\n",
       "    </tr>\n",
       "  </tbody>\n",
       "</table>\n",
       "</div>"
      ],
      "text/plain": [
       "                tweet_id                                          jpg_url  \\\n",
       "2291  671486386088865792  https://pbs.twimg.com/media/CVGZTboUsAATohd.jpg   \n",
       "5260  750056684286914561  https://pbs.twimg.com/media/Cmfx2oNW8AAGg4H.jpg   \n",
       "2361  672970152493887488  https://pbs.twimg.com/media/CVbeyGUU8AEq300.jpg   \n",
       "4722  687102708889812993  https://pbs.twimg.com/media/CYkURJjW8AEamoI.jpg   \n",
       "1328  758041019896193024  https://pbs.twimg.com/media/CoUaSKEXYAAYsAl.jpg   \n",
       "\n",
       "     prediction_try  is_a_dog  \n",
       "2291         p2_dog      True  \n",
       "5260         p3_dog      True  \n",
       "2361         p2_dog     False  \n",
       "4722         p3_dog     False  \n",
       "1328         p1_dog     False  "
      ]
     },
     "execution_count": 95,
     "metadata": {},
     "output_type": "execute_result"
    }
   ],
   "source": [
    "df_predict_dog.sample(5)"
   ]
  },
  {
   "cell_type": "code",
   "execution_count": 96,
   "metadata": {},
   "outputs": [],
   "source": [
    "# Atribuir apenas valores inteiros aos indicadores de tentativas\n",
    "df_predict_dog.prediction_try = df_predict_dog.prediction_try.apply(get_prediction_index)"
   ]
  },
  {
   "cell_type": "code",
   "execution_count": 97,
   "metadata": {},
   "outputs": [
    {
     "data": {
      "text/html": [
       "<div>\n",
       "<style scoped>\n",
       "    .dataframe tbody tr th:only-of-type {\n",
       "        vertical-align: middle;\n",
       "    }\n",
       "\n",
       "    .dataframe tbody tr th {\n",
       "        vertical-align: top;\n",
       "    }\n",
       "\n",
       "    .dataframe thead th {\n",
       "        text-align: right;\n",
       "    }\n",
       "</style>\n",
       "<table border=\"1\" class=\"dataframe\">\n",
       "  <thead>\n",
       "    <tr style=\"text-align: right;\">\n",
       "      <th></th>\n",
       "      <th>tweet_id</th>\n",
       "      <th>jpg_url</th>\n",
       "      <th>prediction_try</th>\n",
       "      <th>is_a_dog</th>\n",
       "    </tr>\n",
       "  </thead>\n",
       "  <tbody>\n",
       "    <tr>\n",
       "      <th>901</th>\n",
       "      <td>700062718104104960</td>\n",
       "      <td>https://pbs.twimg.com/media/CbcfUxoUAAAlHGK.jpg</td>\n",
       "      <td>1</td>\n",
       "      <td>False</td>\n",
       "    </tr>\n",
       "    <tr>\n",
       "      <th>344</th>\n",
       "      <td>672466075045466113</td>\n",
       "      <td>https://pbs.twimg.com/media/CVUUU_EWoAAxABV.jpg</td>\n",
       "      <td>1</td>\n",
       "      <td>True</td>\n",
       "    </tr>\n",
       "    <tr>\n",
       "      <th>452</th>\n",
       "      <td>674764817387900928</td>\n",
       "      <td>https://pbs.twimg.com/media/CV0_BSuWIAIvE9k.jpg</td>\n",
       "      <td>1</td>\n",
       "      <td>True</td>\n",
       "    </tr>\n",
       "    <tr>\n",
       "      <th>4835</th>\n",
       "      <td>695629776980148225</td>\n",
       "      <td>https://pbs.twimg.com/media/Cadfl6zWcAEZqIW.jpg</td>\n",
       "      <td>3</td>\n",
       "      <td>True</td>\n",
       "    </tr>\n",
       "    <tr>\n",
       "      <th>4469</th>\n",
       "      <td>675432746517426176</td>\n",
       "      <td>https://pbs.twimg.com/media/CV-ef64WoAAbh0I.jpg</td>\n",
       "      <td>3</td>\n",
       "      <td>True</td>\n",
       "    </tr>\n",
       "  </tbody>\n",
       "</table>\n",
       "</div>"
      ],
      "text/plain": [
       "                tweet_id                                          jpg_url  \\\n",
       "901   700062718104104960  https://pbs.twimg.com/media/CbcfUxoUAAAlHGK.jpg   \n",
       "344   672466075045466113  https://pbs.twimg.com/media/CVUUU_EWoAAxABV.jpg   \n",
       "452   674764817387900928  https://pbs.twimg.com/media/CV0_BSuWIAIvE9k.jpg   \n",
       "4835  695629776980148225  https://pbs.twimg.com/media/Cadfl6zWcAEZqIW.jpg   \n",
       "4469  675432746517426176  https://pbs.twimg.com/media/CV-ef64WoAAbh0I.jpg   \n",
       "\n",
       "      prediction_try  is_a_dog  \n",
       "901                1     False  \n",
       "344                1      True  \n",
       "452                1      True  \n",
       "4835               3      True  \n",
       "4469               3      True  "
      ]
     },
     "execution_count": 97,
     "metadata": {},
     "output_type": "execute_result"
    }
   ],
   "source": [
    "df_predict_dog.sample(5)"
   ]
  },
  {
   "cell_type": "code",
   "execution_count": 98,
   "metadata": {},
   "outputs": [
    {
     "name": "stdout",
     "output_type": "stream",
     "text": [
      "<class 'pandas.core.frame.DataFrame'>\n",
      "RangeIndex: 5982 entries, 0 to 5981\n",
      "Data columns (total 4 columns):\n",
      "tweet_id          5982 non-null int64\n",
      "jpg_url           5982 non-null object\n",
      "prediction_try    5982 non-null int64\n",
      "is_a_dog          5982 non-null bool\n",
      "dtypes: bool(1), int64(2), object(1)\n",
      "memory usage: 146.1+ KB\n"
     ]
    }
   ],
   "source": [
    "df_predict_dog.info()"
   ]
  },
  {
   "cell_type": "markdown",
   "metadata": {},
   "source": [
    "<a id=\"limpeza:image-prediction:merge\"></a>\n",
    "\n",
    "#### 3.2. [Unir os dataframes de prediction](#limpeza:image-prediction:merge)"
   ]
  },
  {
   "cell_type": "code",
   "execution_count": 99,
   "metadata": {},
   "outputs": [],
   "source": [
    "# Merge\n",
    "df_predict_clean = pd.merge(df_predict_try, df_predict_conf, how='left', on=['tweet_id', 'jpg_url', 'prediction_try'])"
   ]
  },
  {
   "cell_type": "code",
   "execution_count": 100,
   "metadata": {},
   "outputs": [
    {
     "data": {
      "text/plain": [
       "(5982, 5)"
      ]
     },
     "execution_count": 100,
     "metadata": {},
     "output_type": "execute_result"
    }
   ],
   "source": [
    "df_predict_clean.shape"
   ]
  },
  {
   "cell_type": "code",
   "execution_count": 101,
   "metadata": {},
   "outputs": [
    {
     "data": {
      "text/html": [
       "<div>\n",
       "<style scoped>\n",
       "    .dataframe tbody tr th:only-of-type {\n",
       "        vertical-align: middle;\n",
       "    }\n",
       "\n",
       "    .dataframe tbody tr th {\n",
       "        vertical-align: top;\n",
       "    }\n",
       "\n",
       "    .dataframe thead th {\n",
       "        text-align: right;\n",
       "    }\n",
       "</style>\n",
       "<table border=\"1\" class=\"dataframe\">\n",
       "  <thead>\n",
       "    <tr style=\"text-align: right;\">\n",
       "      <th></th>\n",
       "      <th>tweet_id</th>\n",
       "      <th>jpg_url</th>\n",
       "      <th>prediction_try</th>\n",
       "      <th>prediction_breed</th>\n",
       "      <th>confidence</th>\n",
       "    </tr>\n",
       "  </thead>\n",
       "  <tbody>\n",
       "    <tr>\n",
       "      <th>1235</th>\n",
       "      <td>746818907684614144</td>\n",
       "      <td>https://pbs.twimg.com/media/Cl071YVWEAAlF7N.jpg</td>\n",
       "      <td>1</td>\n",
       "      <td>dingo</td>\n",
       "      <td>0.175518</td>\n",
       "    </tr>\n",
       "    <tr>\n",
       "      <th>3723</th>\n",
       "      <td>830956169170665475</td>\n",
       "      <td>https://pbs.twimg.com/ext_tw_video_thumb/83095...</td>\n",
       "      <td>2</td>\n",
       "      <td>golden retriever</td>\n",
       "      <td>0.317196</td>\n",
       "    </tr>\n",
       "    <tr>\n",
       "      <th>5452</th>\n",
       "      <td>781955203444699136</td>\n",
       "      <td>https://pbs.twimg.com/media/CtoQGu4XgAQgv5m.jpg</td>\n",
       "      <td>3</td>\n",
       "      <td>microwave</td>\n",
       "      <td>0.033690</td>\n",
       "    </tr>\n",
       "    <tr>\n",
       "      <th>5232</th>\n",
       "      <td>747600769478692864</td>\n",
       "      <td>https://pbs.twimg.com/media/CmAC7ehXEAAqSuW.jpg</td>\n",
       "      <td>3</td>\n",
       "      <td>labrador retriever</td>\n",
       "      <td>0.043268</td>\n",
       "    </tr>\n",
       "    <tr>\n",
       "      <th>1788</th>\n",
       "      <td>841680585030541313</td>\n",
       "      <td>https://pbs.twimg.com/media/C65AA7_WoAEGqA9.jpg</td>\n",
       "      <td>1</td>\n",
       "      <td>chihuahua</td>\n",
       "      <td>0.547401</td>\n",
       "    </tr>\n",
       "  </tbody>\n",
       "</table>\n",
       "</div>"
      ],
      "text/plain": [
       "                tweet_id                                            jpg_url  \\\n",
       "1235  746818907684614144    https://pbs.twimg.com/media/Cl071YVWEAAlF7N.jpg   \n",
       "3723  830956169170665475  https://pbs.twimg.com/ext_tw_video_thumb/83095...   \n",
       "5452  781955203444699136    https://pbs.twimg.com/media/CtoQGu4XgAQgv5m.jpg   \n",
       "5232  747600769478692864    https://pbs.twimg.com/media/CmAC7ehXEAAqSuW.jpg   \n",
       "1788  841680585030541313    https://pbs.twimg.com/media/C65AA7_WoAEGqA9.jpg   \n",
       "\n",
       "      prediction_try    prediction_breed  confidence  \n",
       "1235               1               dingo    0.175518  \n",
       "3723               2    golden retriever    0.317196  \n",
       "5452               3           microwave    0.033690  \n",
       "5232               3  labrador retriever    0.043268  \n",
       "1788               1           chihuahua    0.547401  "
      ]
     },
     "execution_count": 101,
     "metadata": {},
     "output_type": "execute_result"
    }
   ],
   "source": [
    "df_predict_clean.sample(5)"
   ]
  },
  {
   "cell_type": "code",
   "execution_count": 102,
   "metadata": {},
   "outputs": [],
   "source": [
    "df_predict_clean = pd.merge(df_predict_clean, df_predict_dog, how='left', on=['tweet_id', 'jpg_url', 'prediction_try'])"
   ]
  },
  {
   "cell_type": "code",
   "execution_count": 103,
   "metadata": {},
   "outputs": [
    {
     "data": {
      "text/plain": [
       "(5982, 6)"
      ]
     },
     "execution_count": 103,
     "metadata": {},
     "output_type": "execute_result"
    }
   ],
   "source": [
    "df_predict_clean.shape"
   ]
  },
  {
   "cell_type": "markdown",
   "metadata": {},
   "source": [
    "**Teste: Verificar Merge dos dataframes de predição**"
   ]
  },
  {
   "cell_type": "code",
   "execution_count": 104,
   "metadata": {},
   "outputs": [
    {
     "data": {
      "text/html": [
       "<div>\n",
       "<style scoped>\n",
       "    .dataframe tbody tr th:only-of-type {\n",
       "        vertical-align: middle;\n",
       "    }\n",
       "\n",
       "    .dataframe tbody tr th {\n",
       "        vertical-align: top;\n",
       "    }\n",
       "\n",
       "    .dataframe thead th {\n",
       "        text-align: right;\n",
       "    }\n",
       "</style>\n",
       "<table border=\"1\" class=\"dataframe\">\n",
       "  <thead>\n",
       "    <tr style=\"text-align: right;\">\n",
       "      <th></th>\n",
       "      <th>tweet_id</th>\n",
       "      <th>jpg_url</th>\n",
       "      <th>prediction_try</th>\n",
       "      <th>prediction_breed</th>\n",
       "      <th>confidence</th>\n",
       "      <th>is_a_dog</th>\n",
       "    </tr>\n",
       "  </thead>\n",
       "  <tbody>\n",
       "    <tr>\n",
       "      <th>5330</th>\n",
       "      <td>759846353224826880</td>\n",
       "      <td>https://pbs.twimg.com/media/CouEOZhWAAAgFpE.jpg</td>\n",
       "      <td>3</td>\n",
       "      <td>otterhound</td>\n",
       "      <td>0.092198</td>\n",
       "      <td>True</td>\n",
       "    </tr>\n",
       "    <tr>\n",
       "      <th>5143</th>\n",
       "      <td>733822306246479872</td>\n",
       "      <td>https://pbs.twimg.com/media/Ci8Pfg_UUAA2m9i.jpg</td>\n",
       "      <td>3</td>\n",
       "      <td>tibetan terrier</td>\n",
       "      <td>0.048359</td>\n",
       "      <td>True</td>\n",
       "    </tr>\n",
       "    <tr>\n",
       "      <th>5311</th>\n",
       "      <td>757400162377592832</td>\n",
       "      <td>https://pbs.twimg.com/media/CoLTbbzXYAElNM6.jpg</td>\n",
       "      <td>3</td>\n",
       "      <td>tibetan mastiff</td>\n",
       "      <td>0.075127</td>\n",
       "      <td>True</td>\n",
       "    </tr>\n",
       "    <tr>\n",
       "      <th>3562</th>\n",
       "      <td>801115127852503040</td>\n",
       "      <td>https://pbs.twimg.com/media/Cx4h7zHUsAAqaJd.jpg</td>\n",
       "      <td>2</td>\n",
       "      <td>english setter</td>\n",
       "      <td>0.094602</td>\n",
       "      <td>True</td>\n",
       "    </tr>\n",
       "    <tr>\n",
       "      <th>816</th>\n",
       "      <td>692901601640583168</td>\n",
       "      <td>https://pbs.twimg.com/media/CZ2uU37UcAANzmK.jpg</td>\n",
       "      <td>1</td>\n",
       "      <td>soft-coated wheaten terrier</td>\n",
       "      <td>0.403496</td>\n",
       "      <td>True</td>\n",
       "    </tr>\n",
       "  </tbody>\n",
       "</table>\n",
       "</div>"
      ],
      "text/plain": [
       "                tweet_id                                          jpg_url  \\\n",
       "5330  759846353224826880  https://pbs.twimg.com/media/CouEOZhWAAAgFpE.jpg   \n",
       "5143  733822306246479872  https://pbs.twimg.com/media/Ci8Pfg_UUAA2m9i.jpg   \n",
       "5311  757400162377592832  https://pbs.twimg.com/media/CoLTbbzXYAElNM6.jpg   \n",
       "3562  801115127852503040  https://pbs.twimg.com/media/Cx4h7zHUsAAqaJd.jpg   \n",
       "816   692901601640583168  https://pbs.twimg.com/media/CZ2uU37UcAANzmK.jpg   \n",
       "\n",
       "      prediction_try             prediction_breed  confidence  is_a_dog  \n",
       "5330               3                   otterhound    0.092198      True  \n",
       "5143               3              tibetan terrier    0.048359      True  \n",
       "5311               3              tibetan mastiff    0.075127      True  \n",
       "3562               2               english setter    0.094602      True  \n",
       "816                1  soft-coated wheaten terrier    0.403496      True  "
      ]
     },
     "execution_count": 104,
     "metadata": {},
     "output_type": "execute_result"
    }
   ],
   "source": [
    "df_predict_clean.sample(5)"
   ]
  },
  {
   "cell_type": "markdown",
   "metadata": {},
   "source": [
    "------\n",
    "<a id=\"limpeza:twitter-api\"></a>\n",
    "\n",
    "## Limpeza: Twitter API"
   ]
  },
  {
   "cell_type": "code",
   "execution_count": 105,
   "metadata": {},
   "outputs": [],
   "source": [
    "# Cópia do dataframe para limpeza\n",
    "df_api_clean = df_tweets_api.copy()"
   ]
  },
  {
   "cell_type": "code",
   "execution_count": 106,
   "metadata": {},
   "outputs": [
    {
     "data": {
      "text/html": [
       "<div>\n",
       "<style scoped>\n",
       "    .dataframe tbody tr th:only-of-type {\n",
       "        vertical-align: middle;\n",
       "    }\n",
       "\n",
       "    .dataframe tbody tr th {\n",
       "        vertical-align: top;\n",
       "    }\n",
       "\n",
       "    .dataframe thead th {\n",
       "        text-align: right;\n",
       "    }\n",
       "</style>\n",
       "<table border=\"1\" class=\"dataframe\">\n",
       "  <thead>\n",
       "    <tr style=\"text-align: right;\">\n",
       "      <th></th>\n",
       "      <th>id</th>\n",
       "      <th>created_at</th>\n",
       "      <th>in_reply_to_status_id</th>\n",
       "      <th>in_reply_to_user_id</th>\n",
       "      <th>is_quote_status</th>\n",
       "      <th>retweet_count</th>\n",
       "      <th>favorite_count</th>\n",
       "      <th>media_url</th>\n",
       "      <th>retweeted</th>\n",
       "      <th>favorited</th>\n",
       "    </tr>\n",
       "  </thead>\n",
       "  <tbody>\n",
       "    <tr>\n",
       "      <th>510</th>\n",
       "      <td>754482103782404096</td>\n",
       "      <td>Sun Jul 17 01:05:25 +0000 2016</td>\n",
       "      <td>None</td>\n",
       "      <td>None</td>\n",
       "      <td>False</td>\n",
       "      <td>2085</td>\n",
       "      <td>5556</td>\n",
       "      <td>http://pbs.twimg.com/ext_tw_video_thumb/754481...</td>\n",
       "      <td>False</td>\n",
       "      <td>False</td>\n",
       "    </tr>\n",
       "    <tr>\n",
       "      <th>1819</th>\n",
       "      <td>666020888022790149</td>\n",
       "      <td>Sun Nov 15 22:32:08 +0000 2015</td>\n",
       "      <td>None</td>\n",
       "      <td>None</td>\n",
       "      <td>False</td>\n",
       "      <td>498</td>\n",
       "      <td>2523</td>\n",
       "      <td>http://pbs.twimg.com/media/CT4udn0WwAA0aMy.jpg</td>\n",
       "      <td>False</td>\n",
       "      <td>False</td>\n",
       "    </tr>\n",
       "    <tr>\n",
       "      <th>8</th>\n",
       "      <td>887473957103951883</td>\n",
       "      <td>Wed Jul 19 00:47:34 +0000 2017</td>\n",
       "      <td>None</td>\n",
       "      <td>None</td>\n",
       "      <td>False</td>\n",
       "      <td>17607</td>\n",
       "      <td>67284</td>\n",
       "      <td>http://pbs.twimg.com/media/DFDw2tsUAAEw7XW.jpg</td>\n",
       "      <td>False</td>\n",
       "      <td>False</td>\n",
       "    </tr>\n",
       "  </tbody>\n",
       "</table>\n",
       "</div>"
      ],
      "text/plain": [
       "                      id                      created_at  \\\n",
       "510   754482103782404096  Sun Jul 17 01:05:25 +0000 2016   \n",
       "1819  666020888022790149  Sun Nov 15 22:32:08 +0000 2015   \n",
       "8     887473957103951883  Wed Jul 19 00:47:34 +0000 2017   \n",
       "\n",
       "     in_reply_to_status_id in_reply_to_user_id  is_quote_status  \\\n",
       "510                   None                None            False   \n",
       "1819                  None                None            False   \n",
       "8                     None                None            False   \n",
       "\n",
       "      retweet_count  favorite_count  \\\n",
       "510            2085            5556   \n",
       "1819            498            2523   \n",
       "8             17607           67284   \n",
       "\n",
       "                                              media_url  retweeted  favorited  \n",
       "510   http://pbs.twimg.com/ext_tw_video_thumb/754481...      False      False  \n",
       "1819     http://pbs.twimg.com/media/CT4udn0WwAA0aMy.jpg      False      False  \n",
       "8        http://pbs.twimg.com/media/DFDw2tsUAAEw7XW.jpg      False      False  "
      ]
     },
     "execution_count": 106,
     "metadata": {},
     "output_type": "execute_result"
    }
   ],
   "source": [
    "\n",
    "df_api_clean.sample(3)"
   ]
  },
  {
   "cell_type": "markdown",
   "metadata": {},
   "source": [
    "<a id=\"limpeza:tweets-api:columns\"></a>\n",
    "\n",
    "### 1. [Os nomes das colunas `id` e `media_url` estão fora do padrão dos demais dataframes, respectivamente `tweet_id` e `jpg_url` ](#limpeza:tweets-api:columns)"
   ]
  },
  {
   "cell_type": "code",
   "execution_count": 107,
   "metadata": {},
   "outputs": [],
   "source": [
    "df_api_clean.rename(columns={'id':'tweet_id', 'media_url': 'jpg_url'}, inplace=True)"
   ]
  },
  {
   "cell_type": "markdown",
   "metadata": {},
   "source": [
    "**Teste: Verificar colunas renomeadas**"
   ]
  },
  {
   "cell_type": "code",
   "execution_count": 108,
   "metadata": {},
   "outputs": [
    {
     "data": {
      "text/plain": [
       "Index(['tweet_id', 'created_at', 'in_reply_to_status_id',\n",
       "       'in_reply_to_user_id', 'is_quote_status', 'retweet_count',\n",
       "       'favorite_count', 'jpg_url', 'retweeted', 'favorited'],\n",
       "      dtype='object')"
      ]
     },
     "execution_count": 108,
     "metadata": {},
     "output_type": "execute_result"
    }
   ],
   "source": [
    "df_api_clean.columns"
   ]
  },
  {
   "cell_type": "markdown",
   "metadata": {},
   "source": [
    "<a id=\"limpeza:tweets-api:duplicated\"></a>\n",
    "\n",
    "### 2. [Diferentes Tweets referenciando a mesma imagem, duplicidade](#limpeza:tweets-api:duplicated)"
   ]
  },
  {
   "cell_type": "markdown",
   "metadata": {},
   "source": [
    "Assim como na [limpeza de duplicidade de imagens no dataframe de predições](#limpeza:image-prediction:duplicated-urls), é importante de remover os tweets não originais, os retweets. Com auxílio do dataframe `df_arch_clean`, que possui somente referências a tweets originais, será possível identifica-los e descartar os tweets indesejados."
   ]
  },
  {
   "cell_type": "code",
   "execution_count": 109,
   "metadata": {},
   "outputs": [
    {
     "data": {
      "text/plain": [
       "(1820, 10)"
      ]
     },
     "execution_count": 109,
     "metadata": {},
     "output_type": "execute_result"
    }
   ],
   "source": [
    "df_api_clean.shape"
   ]
  },
  {
   "cell_type": "code",
   "execution_count": 110,
   "metadata": {},
   "outputs": [],
   "source": [
    "df_api_clean = df_api_clean.loc[df_api_clean.tweet_id.isin(df_arch_clean.tweet_id)]"
   ]
  },
  {
   "cell_type": "code",
   "execution_count": 111,
   "metadata": {},
   "outputs": [
    {
     "data": {
      "text/plain": [
       "(1746, 10)"
      ]
     },
     "execution_count": 111,
     "metadata": {},
     "output_type": "execute_result"
    }
   ],
   "source": [
    "df_api_clean.shape"
   ]
  },
  {
   "cell_type": "markdown",
   "metadata": {},
   "source": [
    "Ao remover os ids que referenciavam a **retweets**, houve uma redução de **74** registros, de **1820** para **1746**"
   ]
  },
  {
   "cell_type": "markdown",
   "metadata": {},
   "source": [
    "<a id=\"limpeza:tweets-api:datetime\"></a>\n",
    "\n",
    "### 3. [Data de criação (`created_at`) como `string`](#limpeza:tweets-api:datetime)\n",
    "* Converter datas em string para o formato `datetime`"
   ]
  },
  {
   "cell_type": "code",
   "execution_count": 112,
   "metadata": {},
   "outputs": [],
   "source": [
    "df_api_clean.created_at = pd.to_datetime(df_api_clean.created_at)"
   ]
  },
  {
   "cell_type": "markdown",
   "metadata": {},
   "source": [
    "**Teste: Validar tipo de variável em `created_at`**"
   ]
  },
  {
   "cell_type": "code",
   "execution_count": 113,
   "metadata": {},
   "outputs": [
    {
     "name": "stdout",
     "output_type": "stream",
     "text": [
      "<class 'pandas.core.frame.DataFrame'>\n",
      "Int64Index: 1746 entries, 0 to 1819\n",
      "Data columns (total 10 columns):\n",
      "tweet_id                 1746 non-null int64\n",
      "created_at               1746 non-null datetime64[ns, UTC]\n",
      "in_reply_to_status_id    1746 non-null object\n",
      "in_reply_to_user_id      1746 non-null object\n",
      "is_quote_status          1746 non-null bool\n",
      "retweet_count            1746 non-null int64\n",
      "favorite_count           1746 non-null int64\n",
      "jpg_url                  1746 non-null object\n",
      "retweeted                1746 non-null bool\n",
      "favorited                1746 non-null bool\n",
      "dtypes: bool(3), datetime64[ns, UTC](1), int64(3), object(3)\n",
      "memory usage: 114.2+ KB\n"
     ]
    }
   ],
   "source": [
    "df_api_clean.info()"
   ]
  },
  {
   "cell_type": "code",
   "execution_count": 114,
   "metadata": {},
   "outputs": [
    {
     "data": {
      "text/html": [
       "<div>\n",
       "<style scoped>\n",
       "    .dataframe tbody tr th:only-of-type {\n",
       "        vertical-align: middle;\n",
       "    }\n",
       "\n",
       "    .dataframe tbody tr th {\n",
       "        vertical-align: top;\n",
       "    }\n",
       "\n",
       "    .dataframe thead th {\n",
       "        text-align: right;\n",
       "    }\n",
       "</style>\n",
       "<table border=\"1\" class=\"dataframe\">\n",
       "  <thead>\n",
       "    <tr style=\"text-align: right;\">\n",
       "      <th></th>\n",
       "      <th>tweet_id</th>\n",
       "      <th>created_at</th>\n",
       "      <th>in_reply_to_status_id</th>\n",
       "      <th>in_reply_to_user_id</th>\n",
       "      <th>is_quote_status</th>\n",
       "      <th>retweet_count</th>\n",
       "      <th>favorite_count</th>\n",
       "      <th>jpg_url</th>\n",
       "      <th>retweeted</th>\n",
       "      <th>favorited</th>\n",
       "    </tr>\n",
       "  </thead>\n",
       "  <tbody>\n",
       "    <tr>\n",
       "      <th>652</th>\n",
       "      <td>736010884653420544</td>\n",
       "      <td>2016-05-27 01:47:23+00:00</td>\n",
       "      <td>None</td>\n",
       "      <td>None</td>\n",
       "      <td>False</td>\n",
       "      <td>3140</td>\n",
       "      <td>8188</td>\n",
       "      <td>http://pbs.twimg.com/media/CjbV-kjXEAE6I-f.jpg</td>\n",
       "      <td>False</td>\n",
       "      <td>False</td>\n",
       "    </tr>\n",
       "    <tr>\n",
       "      <th>1014</th>\n",
       "      <td>691820333922455552</td>\n",
       "      <td>2016-01-26 03:09:55+00:00</td>\n",
       "      <td>None</td>\n",
       "      <td>None</td>\n",
       "      <td>False</td>\n",
       "      <td>1755</td>\n",
       "      <td>4107</td>\n",
       "      <td>http://pbs.twimg.com/media/CZnW7JGW0AA83mn.jpg</td>\n",
       "      <td>False</td>\n",
       "      <td>False</td>\n",
       "    </tr>\n",
       "    <tr>\n",
       "      <th>1650</th>\n",
       "      <td>668989615043424256</td>\n",
       "      <td>2015-11-24 03:08:48+00:00</td>\n",
       "      <td>None</td>\n",
       "      <td>None</td>\n",
       "      <td>False</td>\n",
       "      <td>334</td>\n",
       "      <td>685</td>\n",
       "      <td>http://pbs.twimg.com/media/CUi6geuUYAIvE9n.jpg</td>\n",
       "      <td>False</td>\n",
       "      <td>False</td>\n",
       "    </tr>\n",
       "    <tr>\n",
       "      <th>1554</th>\n",
       "      <td>670803562457407488</td>\n",
       "      <td>2015-11-29 03:16:46+00:00</td>\n",
       "      <td>None</td>\n",
       "      <td>None</td>\n",
       "      <td>False</td>\n",
       "      <td>88</td>\n",
       "      <td>347</td>\n",
       "      <td>http://pbs.twimg.com/media/CU8sSAvXIAAB1Py.jpg</td>\n",
       "      <td>False</td>\n",
       "      <td>False</td>\n",
       "    </tr>\n",
       "    <tr>\n",
       "      <th>1254</th>\n",
       "      <td>678278586130948096</td>\n",
       "      <td>2015-12-19 18:19:51+00:00</td>\n",
       "      <td>None</td>\n",
       "      <td>None</td>\n",
       "      <td>False</td>\n",
       "      <td>6399</td>\n",
       "      <td>11835</td>\n",
       "      <td>http://pbs.twimg.com/media/CWm6xySUEAAqfFU.jpg</td>\n",
       "      <td>False</td>\n",
       "      <td>False</td>\n",
       "    </tr>\n",
       "  </tbody>\n",
       "</table>\n",
       "</div>"
      ],
      "text/plain": [
       "                tweet_id                created_at in_reply_to_status_id  \\\n",
       "652   736010884653420544 2016-05-27 01:47:23+00:00                  None   \n",
       "1014  691820333922455552 2016-01-26 03:09:55+00:00                  None   \n",
       "1650  668989615043424256 2015-11-24 03:08:48+00:00                  None   \n",
       "1554  670803562457407488 2015-11-29 03:16:46+00:00                  None   \n",
       "1254  678278586130948096 2015-12-19 18:19:51+00:00                  None   \n",
       "\n",
       "     in_reply_to_user_id  is_quote_status  retweet_count  favorite_count  \\\n",
       "652                 None            False           3140            8188   \n",
       "1014                None            False           1755            4107   \n",
       "1650                None            False            334             685   \n",
       "1554                None            False             88             347   \n",
       "1254                None            False           6399           11835   \n",
       "\n",
       "                                             jpg_url  retweeted  favorited  \n",
       "652   http://pbs.twimg.com/media/CjbV-kjXEAE6I-f.jpg      False      False  \n",
       "1014  http://pbs.twimg.com/media/CZnW7JGW0AA83mn.jpg      False      False  \n",
       "1650  http://pbs.twimg.com/media/CUi6geuUYAIvE9n.jpg      False      False  \n",
       "1554  http://pbs.twimg.com/media/CU8sSAvXIAAB1Py.jpg      False      False  \n",
       "1254  http://pbs.twimg.com/media/CWm6xySUEAAqfFU.jpg      False      False  "
      ]
     },
     "execution_count": 114,
     "metadata": {},
     "output_type": "execute_result"
    }
   ],
   "source": [
    "df_api_clean.sample(5)"
   ]
  },
  {
   "cell_type": "markdown",
   "metadata": {},
   "source": [
    "<a id=\"limpeza:tweets-api:info\"></a>\n",
    "\n",
    "### 4. [Valor do id na coluna `in_reply_to_status_id` e `in_reply_to_user_id` como `string`](#limpeza:tweets-api:info)\n",
    "* Converter para Inteiro as colunas `in_reply_to_status_id` e `in_reply_to_user_id` e atribuir np.nan as que estiverem sem valor"
   ]
  },
  {
   "cell_type": "code",
   "execution_count": 115,
   "metadata": {},
   "outputs": [
    {
     "name": "stdout",
     "output_type": "stream",
     "text": [
      "<class 'pandas.core.frame.DataFrame'>\n",
      "Int64Index: 1746 entries, 0 to 1819\n",
      "Data columns (total 10 columns):\n",
      "tweet_id                 1746 non-null int64\n",
      "created_at               1746 non-null datetime64[ns, UTC]\n",
      "in_reply_to_status_id    1746 non-null object\n",
      "in_reply_to_user_id      1746 non-null object\n",
      "is_quote_status          1746 non-null bool\n",
      "retweet_count            1746 non-null int64\n",
      "favorite_count           1746 non-null int64\n",
      "jpg_url                  1746 non-null object\n",
      "retweeted                1746 non-null bool\n",
      "favorited                1746 non-null bool\n",
      "dtypes: bool(3), datetime64[ns, UTC](1), int64(3), object(3)\n",
      "memory usage: 114.2+ KB\n"
     ]
    }
   ],
   "source": [
    "df_api_clean.info()"
   ]
  },
  {
   "cell_type": "markdown",
   "metadata": {},
   "source": [
    "Converter os valores em `None` para np.nan em `in_reply_to_status_id` e `in_reply_to_user_id`"
   ]
  },
  {
   "cell_type": "code",
   "execution_count": 116,
   "metadata": {},
   "outputs": [],
   "source": [
    "def set_zero_at_none(value):\n",
    "    if str(value).lower() == 'none':\n",
    "        return '0'\n",
    "    else:\n",
    "        return value"
   ]
  },
  {
   "cell_type": "code",
   "execution_count": 117,
   "metadata": {},
   "outputs": [],
   "source": [
    "df_api_clean.in_reply_to_status_id = df_api_clean.in_reply_to_status_id.apply(set_zero_at_none)"
   ]
  },
  {
   "cell_type": "code",
   "execution_count": 118,
   "metadata": {},
   "outputs": [],
   "source": [
    "df_api_clean.in_reply_to_user_id = df_api_clean.in_reply_to_user_id.apply(set_zero_at_none)"
   ]
  },
  {
   "cell_type": "code",
   "execution_count": 119,
   "metadata": {},
   "outputs": [],
   "source": [
    "df_api_clean.loc[:, ['in_reply_to_user_id', 'in_reply_to_status_id']] = df_api_clean.loc[:, ['in_reply_to_user_id', 'in_reply_to_status_id']].astype('int64')"
   ]
  },
  {
   "cell_type": "markdown",
   "metadata": {},
   "source": [
    "Listar exemplos com valores 'None'substituídos por '0' e convertidos para `int64`"
   ]
  },
  {
   "cell_type": "code",
   "execution_count": 120,
   "metadata": {},
   "outputs": [
    {
     "data": {
      "text/html": [
       "<div>\n",
       "<style scoped>\n",
       "    .dataframe tbody tr th:only-of-type {\n",
       "        vertical-align: middle;\n",
       "    }\n",
       "\n",
       "    .dataframe tbody tr th {\n",
       "        vertical-align: top;\n",
       "    }\n",
       "\n",
       "    .dataframe thead th {\n",
       "        text-align: right;\n",
       "    }\n",
       "</style>\n",
       "<table border=\"1\" class=\"dataframe\">\n",
       "  <thead>\n",
       "    <tr style=\"text-align: right;\">\n",
       "      <th></th>\n",
       "      <th>in_reply_to_user_id</th>\n",
       "      <th>in_reply_to_status_id</th>\n",
       "    </tr>\n",
       "  </thead>\n",
       "  <tbody>\n",
       "    <tr>\n",
       "      <th>901</th>\n",
       "      <td>0</td>\n",
       "      <td>0</td>\n",
       "    </tr>\n",
       "    <tr>\n",
       "      <th>244</th>\n",
       "      <td>0</td>\n",
       "      <td>0</td>\n",
       "    </tr>\n",
       "    <tr>\n",
       "      <th>286</th>\n",
       "      <td>0</td>\n",
       "      <td>0</td>\n",
       "    </tr>\n",
       "    <tr>\n",
       "      <th>1276</th>\n",
       "      <td>0</td>\n",
       "      <td>0</td>\n",
       "    </tr>\n",
       "    <tr>\n",
       "      <th>1386</th>\n",
       "      <td>0</td>\n",
       "      <td>0</td>\n",
       "    </tr>\n",
       "  </tbody>\n",
       "</table>\n",
       "</div>"
      ],
      "text/plain": [
       "      in_reply_to_user_id  in_reply_to_status_id\n",
       "901                     0                      0\n",
       "244                     0                      0\n",
       "286                     0                      0\n",
       "1276                    0                      0\n",
       "1386                    0                      0"
      ]
     },
     "execution_count": 120,
     "metadata": {},
     "output_type": "execute_result"
    }
   ],
   "source": [
    "df_api_clean.loc[:, ['in_reply_to_user_id', 'in_reply_to_status_id']].sample(5)"
   ]
  },
  {
   "cell_type": "markdown",
   "metadata": {},
   "source": [
    "Converter valores iguais a 0 por `np.nan`"
   ]
  },
  {
   "cell_type": "code",
   "execution_count": 121,
   "metadata": {},
   "outputs": [],
   "source": [
    "# Função para conversão de np.nan para 0\n",
    "set_nan_at_zero = lambda value: np.nan if value is 0 else value"
   ]
  },
  {
   "cell_type": "code",
   "execution_count": 122,
   "metadata": {},
   "outputs": [],
   "source": [
    "df_api_clean.in_reply_to_status_id = df_api_clean.in_reply_to_status_id.apply(set_nan_at_zero)"
   ]
  },
  {
   "cell_type": "code",
   "execution_count": 123,
   "metadata": {},
   "outputs": [],
   "source": [
    "df_api_clean.in_reply_to_user_id = df_api_clean.in_reply_to_user_id.apply(set_nan_at_zero)"
   ]
  },
  {
   "cell_type": "markdown",
   "metadata": {},
   "source": [
    "**Teste: Confirmar conversão para inteiro das colunas `in_reply_to_status_id` e `in_reply_to_user_id`**"
   ]
  },
  {
   "cell_type": "code",
   "execution_count": 124,
   "metadata": {},
   "outputs": [
    {
     "name": "stdout",
     "output_type": "stream",
     "text": [
      "<class 'pandas.core.frame.DataFrame'>\n",
      "Int64Index: 1746 entries, 0 to 1819\n",
      "Data columns (total 10 columns):\n",
      "tweet_id                 1746 non-null int64\n",
      "created_at               1746 non-null datetime64[ns, UTC]\n",
      "in_reply_to_status_id    22 non-null float64\n",
      "in_reply_to_user_id      22 non-null float64\n",
      "is_quote_status          1746 non-null bool\n",
      "retweet_count            1746 non-null int64\n",
      "favorite_count           1746 non-null int64\n",
      "jpg_url                  1746 non-null object\n",
      "retweeted                1746 non-null bool\n",
      "favorited                1746 non-null bool\n",
      "dtypes: bool(3), datetime64[ns, UTC](1), float64(2), int64(3), object(1)\n",
      "memory usage: 114.2+ KB\n"
     ]
    }
   ],
   "source": [
    "df_api_clean.info()"
   ]
  },
  {
   "cell_type": "markdown",
   "metadata": {},
   "source": [
    "------\n",
    "<a id=\"master-dataframe\"></a>\n",
    "\n",
    "# Master dataframe"
   ]
  },
  {
   "cell_type": "markdown",
   "metadata": {},
   "source": [
    "### Tweets archive"
   ]
  },
  {
   "cell_type": "code",
   "execution_count": 125,
   "metadata": {},
   "outputs": [
    {
     "data": {
      "text/html": [
       "<div>\n",
       "<style scoped>\n",
       "    .dataframe tbody tr th:only-of-type {\n",
       "        vertical-align: middle;\n",
       "    }\n",
       "\n",
       "    .dataframe tbody tr th {\n",
       "        vertical-align: top;\n",
       "    }\n",
       "\n",
       "    .dataframe thead th {\n",
       "        text-align: right;\n",
       "    }\n",
       "</style>\n",
       "<table border=\"1\" class=\"dataframe\">\n",
       "  <thead>\n",
       "    <tr style=\"text-align: right;\">\n",
       "      <th></th>\n",
       "      <th>tweet_id</th>\n",
       "      <th>in_reply_to_status_id</th>\n",
       "      <th>in_reply_to_user_id</th>\n",
       "      <th>timestamp</th>\n",
       "      <th>text</th>\n",
       "      <th>rating_numerator</th>\n",
       "      <th>rating_denominator</th>\n",
       "      <th>name</th>\n",
       "      <th>category</th>\n",
       "    </tr>\n",
       "  </thead>\n",
       "  <tbody>\n",
       "    <tr>\n",
       "      <th>1794</th>\n",
       "      <td>677328882937298944</td>\n",
       "      <td>NaN</td>\n",
       "      <td>NaN</td>\n",
       "      <td>2015-12-17 03:26:04+00:00</td>\n",
       "      <td>This is Derek. All the dogs adore Derek. He's ...</td>\n",
       "      <td>10</td>\n",
       "      <td>10</td>\n",
       "      <td>Derek</td>\n",
       "      <td>NaN</td>\n",
       "    </tr>\n",
       "    <tr>\n",
       "      <th>472</th>\n",
       "      <td>816450570814898180</td>\n",
       "      <td>NaN</td>\n",
       "      <td>NaN</td>\n",
       "      <td>2017-01-04 01:05:59+00:00</td>\n",
       "      <td>Meet Moose. He doesn't want his friend to go b...</td>\n",
       "      <td>13</td>\n",
       "      <td>10</td>\n",
       "      <td>Moose</td>\n",
       "      <td>NaN</td>\n",
       "    </tr>\n",
       "  </tbody>\n",
       "</table>\n",
       "</div>"
      ],
      "text/plain": [
       "                tweet_id  in_reply_to_status_id  in_reply_to_user_id  \\\n",
       "1794  677328882937298944                    NaN                  NaN   \n",
       "472   816450570814898180                    NaN                  NaN   \n",
       "\n",
       "                     timestamp  \\\n",
       "1794 2015-12-17 03:26:04+00:00   \n",
       "472  2017-01-04 01:05:59+00:00   \n",
       "\n",
       "                                                   text  rating_numerator  \\\n",
       "1794  This is Derek. All the dogs adore Derek. He's ...                10   \n",
       "472   Meet Moose. He doesn't want his friend to go b...                13   \n",
       "\n",
       "      rating_denominator   name category  \n",
       "1794                  10  Derek      NaN  \n",
       "472                   10  Moose      NaN  "
      ]
     },
     "execution_count": 125,
     "metadata": {},
     "output_type": "execute_result"
    }
   ],
   "source": [
    "df_arch_clean.sample(2)"
   ]
  },
  {
   "cell_type": "code",
   "execution_count": 126,
   "metadata": {},
   "outputs": [
    {
     "name": "stdout",
     "output_type": "stream",
     "text": [
      "<class 'pandas.core.frame.DataFrame'>\n",
      "Int64Index: 2175 entries, 0 to 2355\n",
      "Data columns (total 9 columns):\n",
      "tweet_id                 2175 non-null int64\n",
      "in_reply_to_status_id    78 non-null float64\n",
      "in_reply_to_user_id      78 non-null float64\n",
      "timestamp                2175 non-null datetime64[ns, UTC]\n",
      "text                     2175 non-null object\n",
      "rating_numerator         2175 non-null int64\n",
      "rating_denominator       2175 non-null int64\n",
      "name                     1495 non-null object\n",
      "category                 344 non-null object\n",
      "dtypes: datetime64[ns, UTC](1), float64(2), int64(3), object(3)\n",
      "memory usage: 169.9+ KB\n"
     ]
    }
   ],
   "source": [
    "df_arch_clean.info()"
   ]
  },
  {
   "cell_type": "markdown",
   "metadata": {},
   "source": [
    "### Twitter API"
   ]
  },
  {
   "cell_type": "code",
   "execution_count": 127,
   "metadata": {},
   "outputs": [
    {
     "data": {
      "text/html": [
       "<div>\n",
       "<style scoped>\n",
       "    .dataframe tbody tr th:only-of-type {\n",
       "        vertical-align: middle;\n",
       "    }\n",
       "\n",
       "    .dataframe tbody tr th {\n",
       "        vertical-align: top;\n",
       "    }\n",
       "\n",
       "    .dataframe thead th {\n",
       "        text-align: right;\n",
       "    }\n",
       "</style>\n",
       "<table border=\"1\" class=\"dataframe\">\n",
       "  <thead>\n",
       "    <tr style=\"text-align: right;\">\n",
       "      <th></th>\n",
       "      <th>tweet_id</th>\n",
       "      <th>created_at</th>\n",
       "      <th>in_reply_to_status_id</th>\n",
       "      <th>in_reply_to_user_id</th>\n",
       "      <th>is_quote_status</th>\n",
       "      <th>retweet_count</th>\n",
       "      <th>favorite_count</th>\n",
       "      <th>jpg_url</th>\n",
       "      <th>retweeted</th>\n",
       "      <th>favorited</th>\n",
       "    </tr>\n",
       "  </thead>\n",
       "  <tbody>\n",
       "    <tr>\n",
       "      <th>391</th>\n",
       "      <td>773247561583001600</td>\n",
       "      <td>2016-09-06 19:52:39+00:00</td>\n",
       "      <td>NaN</td>\n",
       "      <td>NaN</td>\n",
       "      <td>False</td>\n",
       "      <td>3465</td>\n",
       "      <td>9943</td>\n",
       "      <td>http://pbs.twimg.com/media/Crsgi9dWEAApQd8.jpg</td>\n",
       "      <td>False</td>\n",
       "      <td>False</td>\n",
       "    </tr>\n",
       "    <tr>\n",
       "      <th>1374</th>\n",
       "      <td>674646392044941312</td>\n",
       "      <td>2015-12-09 17:46:48+00:00</td>\n",
       "      <td>NaN</td>\n",
       "      <td>NaN</td>\n",
       "      <td>False</td>\n",
       "      <td>513</td>\n",
       "      <td>1456</td>\n",
       "      <td>http://pbs.twimg.com/media/CVzTUGrW4AAirJH.jpg</td>\n",
       "      <td>False</td>\n",
       "      <td>False</td>\n",
       "    </tr>\n",
       "  </tbody>\n",
       "</table>\n",
       "</div>"
      ],
      "text/plain": [
       "                tweet_id                created_at  in_reply_to_status_id  \\\n",
       "391   773247561583001600 2016-09-06 19:52:39+00:00                    NaN   \n",
       "1374  674646392044941312 2015-12-09 17:46:48+00:00                    NaN   \n",
       "\n",
       "      in_reply_to_user_id  is_quote_status  retweet_count  favorite_count  \\\n",
       "391                   NaN            False           3465            9943   \n",
       "1374                  NaN            False            513            1456   \n",
       "\n",
       "                                             jpg_url  retweeted  favorited  \n",
       "391   http://pbs.twimg.com/media/Crsgi9dWEAApQd8.jpg      False      False  \n",
       "1374  http://pbs.twimg.com/media/CVzTUGrW4AAirJH.jpg      False      False  "
      ]
     },
     "execution_count": 127,
     "metadata": {},
     "output_type": "execute_result"
    }
   ],
   "source": [
    "df_api_clean.sample(2)"
   ]
  },
  {
   "cell_type": "code",
   "execution_count": 128,
   "metadata": {},
   "outputs": [
    {
     "name": "stdout",
     "output_type": "stream",
     "text": [
      "<class 'pandas.core.frame.DataFrame'>\n",
      "Int64Index: 1746 entries, 0 to 1819\n",
      "Data columns (total 10 columns):\n",
      "tweet_id                 1746 non-null int64\n",
      "created_at               1746 non-null datetime64[ns, UTC]\n",
      "in_reply_to_status_id    22 non-null float64\n",
      "in_reply_to_user_id      22 non-null float64\n",
      "is_quote_status          1746 non-null bool\n",
      "retweet_count            1746 non-null int64\n",
      "favorite_count           1746 non-null int64\n",
      "jpg_url                  1746 non-null object\n",
      "retweeted                1746 non-null bool\n",
      "favorited                1746 non-null bool\n",
      "dtypes: bool(3), datetime64[ns, UTC](1), float64(2), int64(3), object(1)\n",
      "memory usage: 114.2+ KB\n"
     ]
    }
   ],
   "source": [
    "df_api_clean.info()"
   ]
  },
  {
   "cell_type": "markdown",
   "metadata": {},
   "source": [
    "### Image prediction"
   ]
  },
  {
   "cell_type": "code",
   "execution_count": 129,
   "metadata": {},
   "outputs": [
    {
     "data": {
      "text/html": [
       "<div>\n",
       "<style scoped>\n",
       "    .dataframe tbody tr th:only-of-type {\n",
       "        vertical-align: middle;\n",
       "    }\n",
       "\n",
       "    .dataframe tbody tr th {\n",
       "        vertical-align: top;\n",
       "    }\n",
       "\n",
       "    .dataframe thead th {\n",
       "        text-align: right;\n",
       "    }\n",
       "</style>\n",
       "<table border=\"1\" class=\"dataframe\">\n",
       "  <thead>\n",
       "    <tr style=\"text-align: right;\">\n",
       "      <th></th>\n",
       "      <th>tweet_id</th>\n",
       "      <th>jpg_url</th>\n",
       "      <th>prediction_try</th>\n",
       "      <th>prediction_breed</th>\n",
       "      <th>confidence</th>\n",
       "      <th>is_a_dog</th>\n",
       "    </tr>\n",
       "  </thead>\n",
       "  <tbody>\n",
       "    <tr>\n",
       "      <th>3</th>\n",
       "      <td>666044226329800704</td>\n",
       "      <td>https://pbs.twimg.com/media/CT5Dr8HUEAA-lEu.jpg</td>\n",
       "      <td>1</td>\n",
       "      <td>rhodesian ridgeback</td>\n",
       "      <td>0.408143</td>\n",
       "      <td>True</td>\n",
       "    </tr>\n",
       "    <tr>\n",
       "      <th>1942</th>\n",
       "      <td>880935762899988482</td>\n",
       "      <td>https://pbs.twimg.com/media/DDm2Z5aXUAEDS2u.jpg</td>\n",
       "      <td>1</td>\n",
       "      <td>street sign</td>\n",
       "      <td>0.251801</td>\n",
       "      <td>False</td>\n",
       "    </tr>\n",
       "    <tr>\n",
       "      <th>152</th>\n",
       "      <td>668779399630725120</td>\n",
       "      <td>https://pbs.twimg.com/media/CUf7UIaWUAEuKFr.jpg</td>\n",
       "      <td>1</td>\n",
       "      <td>chesapeake bay retriever</td>\n",
       "      <td>0.285508</td>\n",
       "      <td>True</td>\n",
       "    </tr>\n",
       "    <tr>\n",
       "      <th>2131</th>\n",
       "      <td>668542336805281792</td>\n",
       "      <td>https://pbs.twimg.com/media/CUcjtL8WUAAAJoz.jpg</td>\n",
       "      <td>2</td>\n",
       "      <td>french bulldog</td>\n",
       "      <td>0.254050</td>\n",
       "      <td>True</td>\n",
       "    </tr>\n",
       "    <tr>\n",
       "      <th>1205</th>\n",
       "      <td>742385895052087300</td>\n",
       "      <td>https://pbs.twimg.com/media/Ck18CFcXIAAUWoy.jpg</td>\n",
       "      <td>1</td>\n",
       "      <td>cardigan</td>\n",
       "      <td>0.566911</td>\n",
       "      <td>True</td>\n",
       "    </tr>\n",
       "  </tbody>\n",
       "</table>\n",
       "</div>"
      ],
      "text/plain": [
       "                tweet_id                                          jpg_url  \\\n",
       "3     666044226329800704  https://pbs.twimg.com/media/CT5Dr8HUEAA-lEu.jpg   \n",
       "1942  880935762899988482  https://pbs.twimg.com/media/DDm2Z5aXUAEDS2u.jpg   \n",
       "152   668779399630725120  https://pbs.twimg.com/media/CUf7UIaWUAEuKFr.jpg   \n",
       "2131  668542336805281792  https://pbs.twimg.com/media/CUcjtL8WUAAAJoz.jpg   \n",
       "1205  742385895052087300  https://pbs.twimg.com/media/Ck18CFcXIAAUWoy.jpg   \n",
       "\n",
       "      prediction_try          prediction_breed  confidence  is_a_dog  \n",
       "3                  1       rhodesian ridgeback    0.408143      True  \n",
       "1942               1               street sign    0.251801     False  \n",
       "152                1  chesapeake bay retriever    0.285508      True  \n",
       "2131               2            french bulldog    0.254050      True  \n",
       "1205               1                  cardigan    0.566911      True  "
      ]
     },
     "execution_count": 129,
     "metadata": {},
     "output_type": "execute_result"
    }
   ],
   "source": [
    "df_predict_clean.sample(5)"
   ]
  },
  {
   "cell_type": "code",
   "execution_count": 130,
   "metadata": {},
   "outputs": [
    {
     "name": "stdout",
     "output_type": "stream",
     "text": [
      "<class 'pandas.core.frame.DataFrame'>\n",
      "Int64Index: 5982 entries, 0 to 5981\n",
      "Data columns (total 6 columns):\n",
      "tweet_id            5982 non-null int64\n",
      "jpg_url             5982 non-null object\n",
      "prediction_try      5982 non-null int64\n",
      "prediction_breed    5982 non-null object\n",
      "confidence          5982 non-null float64\n",
      "is_a_dog            5982 non-null bool\n",
      "dtypes: bool(1), float64(1), int64(2), object(2)\n",
      "memory usage: 286.2+ KB\n"
     ]
    }
   ],
   "source": [
    "df_predict_clean.info()"
   ]
  },
  {
   "cell_type": "markdown",
   "metadata": {},
   "source": [
    "### Criação do *dataframe master*"
   ]
  },
  {
   "cell_type": "markdown",
   "metadata": {},
   "source": [
    "União dos dataframes `df_arch_clean` e `df_api_clean`"
   ]
  },
  {
   "cell_type": "code",
   "execution_count": 131,
   "metadata": {},
   "outputs": [],
   "source": [
    "df_twitter_master = pd.merge(df_arch_clean, df_api_clean.loc[:, ['tweet_id', 'retweet_count', 'favorite_count']], how='inner', on=['tweet_id'])"
   ]
  },
  {
   "cell_type": "code",
   "execution_count": 132,
   "metadata": {},
   "outputs": [
    {
     "data": {
      "text/plain": [
       "0"
      ]
     },
     "execution_count": 132,
     "metadata": {},
     "output_type": "execute_result"
    }
   ],
   "source": [
    "df_twitter_master.retweet_count.isna().sum()"
   ]
  },
  {
   "cell_type": "code",
   "execution_count": 133,
   "metadata": {},
   "outputs": [
    {
     "name": "stdout",
     "output_type": "stream",
     "text": [
      "<class 'pandas.core.frame.DataFrame'>\n",
      "Int64Index: 1746 entries, 0 to 1745\n",
      "Data columns (total 11 columns):\n",
      "tweet_id                 1746 non-null int64\n",
      "in_reply_to_status_id    22 non-null float64\n",
      "in_reply_to_user_id      22 non-null float64\n",
      "timestamp                1746 non-null datetime64[ns, UTC]\n",
      "text                     1746 non-null object\n",
      "rating_numerator         1746 non-null int64\n",
      "rating_denominator       1746 non-null int64\n",
      "name                     1244 non-null object\n",
      "category                 257 non-null object\n",
      "retweet_count            1746 non-null int64\n",
      "favorite_count           1746 non-null int64\n",
      "dtypes: datetime64[ns, UTC](1), float64(2), int64(5), object(3)\n",
      "memory usage: 163.7+ KB\n"
     ]
    }
   ],
   "source": [
    "df_twitter_master.info()"
   ]
  },
  {
   "cell_type": "markdown",
   "metadata": {},
   "source": [
    "União dos dataframes `df_twitter_master` e `df_predict_clean`"
   ]
  },
  {
   "cell_type": "code",
   "execution_count": 134,
   "metadata": {},
   "outputs": [],
   "source": [
    "# Seleção dos registros marcados como cães identificados nas fotos\n",
    "df_trusted_dogs = df_predict_clean.loc[(df_predict_clean.is_a_dog), ['tweet_id', 'prediction_breed']]"
   ]
  },
  {
   "cell_type": "code",
   "execution_count": 135,
   "metadata": {},
   "outputs": [
    {
     "data": {
      "text/html": [
       "<div>\n",
       "<style scoped>\n",
       "    .dataframe tbody tr th:only-of-type {\n",
       "        vertical-align: middle;\n",
       "    }\n",
       "\n",
       "    .dataframe tbody tr th {\n",
       "        vertical-align: top;\n",
       "    }\n",
       "\n",
       "    .dataframe thead th {\n",
       "        text-align: right;\n",
       "    }\n",
       "</style>\n",
       "<table border=\"1\" class=\"dataframe\">\n",
       "  <thead>\n",
       "    <tr style=\"text-align: right;\">\n",
       "      <th></th>\n",
       "      <th>tweet_id</th>\n",
       "      <th>prediction_breed</th>\n",
       "    </tr>\n",
       "  </thead>\n",
       "  <tbody>\n",
       "    <tr>\n",
       "      <th>1004</th>\n",
       "      <td>709158332880297985</td>\n",
       "      <td>siberian husky</td>\n",
       "    </tr>\n",
       "    <tr>\n",
       "      <th>573</th>\n",
       "      <td>678643457146150913</td>\n",
       "      <td>labrador retriever</td>\n",
       "    </tr>\n",
       "    <tr>\n",
       "      <th>2802</th>\n",
       "      <td>692187005137076224</td>\n",
       "      <td>malamute</td>\n",
       "    </tr>\n",
       "    <tr>\n",
       "      <th>2095</th>\n",
       "      <td>667806454573760512</td>\n",
       "      <td>chihuahua</td>\n",
       "    </tr>\n",
       "    <tr>\n",
       "      <th>4102</th>\n",
       "      <td>668113020489474048</td>\n",
       "      <td>collie</td>\n",
       "    </tr>\n",
       "  </tbody>\n",
       "</table>\n",
       "</div>"
      ],
      "text/plain": [
       "                tweet_id    prediction_breed\n",
       "1004  709158332880297985      siberian husky\n",
       "573   678643457146150913  labrador retriever\n",
       "2802  692187005137076224            malamute\n",
       "2095  667806454573760512           chihuahua\n",
       "4102  668113020489474048              collie"
      ]
     },
     "execution_count": 135,
     "metadata": {},
     "output_type": "execute_result"
    }
   ],
   "source": [
    "df_trusted_dogs.sample(5)"
   ]
  },
  {
   "cell_type": "code",
   "execution_count": 136,
   "metadata": {},
   "outputs": [],
   "source": [
    "df_trusted_dogs.drop_duplicates(subset='tweet_id', inplace=True)"
   ]
  },
  {
   "cell_type": "code",
   "execution_count": 137,
   "metadata": {},
   "outputs": [
    {
     "name": "stdout",
     "output_type": "stream",
     "text": [
      "<class 'pandas.core.frame.DataFrame'>\n",
      "Int64Index: 1686 entries, 0 to 5935\n",
      "Data columns (total 2 columns):\n",
      "tweet_id            1686 non-null int64\n",
      "prediction_breed    1686 non-null object\n",
      "dtypes: int64(1), object(1)\n",
      "memory usage: 39.5+ KB\n"
     ]
    }
   ],
   "source": [
    "df_trusted_dogs.info()"
   ]
  },
  {
   "cell_type": "code",
   "execution_count": 138,
   "metadata": {},
   "outputs": [],
   "source": [
    "# Mesclagem do dataframe master com a seleção de predições confiáveis de cães\n",
    "df_twitter_master = pd.merge(df_twitter_master, df_trusted_dogs, how='left', on=['tweet_id'])"
   ]
  },
  {
   "cell_type": "code",
   "execution_count": 139,
   "metadata": {},
   "outputs": [
    {
     "name": "stdout",
     "output_type": "stream",
     "text": [
      "<class 'pandas.core.frame.DataFrame'>\n",
      "Int64Index: 1746 entries, 0 to 1745\n",
      "Data columns (total 12 columns):\n",
      "tweet_id                 1746 non-null int64\n",
      "in_reply_to_status_id    22 non-null float64\n",
      "in_reply_to_user_id      22 non-null float64\n",
      "timestamp                1746 non-null datetime64[ns, UTC]\n",
      "text                     1746 non-null object\n",
      "rating_numerator         1746 non-null int64\n",
      "rating_denominator       1746 non-null int64\n",
      "name                     1244 non-null object\n",
      "category                 257 non-null object\n",
      "retweet_count            1746 non-null int64\n",
      "favorite_count           1746 non-null int64\n",
      "prediction_breed         1467 non-null object\n",
      "dtypes: datetime64[ns, UTC](1), float64(2), int64(5), object(4)\n",
      "memory usage: 177.3+ KB\n"
     ]
    }
   ],
   "source": [
    "df_twitter_master.info()"
   ]
  },
  {
   "cell_type": "markdown",
   "metadata": {},
   "source": [
    "#### Teste: Verificar dataframe final"
   ]
  },
  {
   "cell_type": "code",
   "execution_count": 140,
   "metadata": {},
   "outputs": [
    {
     "data": {
      "text/html": [
       "<div>\n",
       "<style scoped>\n",
       "    .dataframe tbody tr th:only-of-type {\n",
       "        vertical-align: middle;\n",
       "    }\n",
       "\n",
       "    .dataframe tbody tr th {\n",
       "        vertical-align: top;\n",
       "    }\n",
       "\n",
       "    .dataframe thead th {\n",
       "        text-align: right;\n",
       "    }\n",
       "</style>\n",
       "<table border=\"1\" class=\"dataframe\">\n",
       "  <thead>\n",
       "    <tr style=\"text-align: right;\">\n",
       "      <th></th>\n",
       "      <th>tweet_id</th>\n",
       "      <th>in_reply_to_status_id</th>\n",
       "      <th>in_reply_to_user_id</th>\n",
       "      <th>timestamp</th>\n",
       "      <th>text</th>\n",
       "      <th>rating_numerator</th>\n",
       "      <th>rating_denominator</th>\n",
       "      <th>name</th>\n",
       "      <th>category</th>\n",
       "      <th>retweet_count</th>\n",
       "      <th>favorite_count</th>\n",
       "      <th>prediction_breed</th>\n",
       "    </tr>\n",
       "  </thead>\n",
       "  <tbody>\n",
       "    <tr>\n",
       "      <th>913</th>\n",
       "      <td>694206574471057408</td>\n",
       "      <td>NaN</td>\n",
       "      <td>NaN</td>\n",
       "      <td>2016-02-01 17:11:59+00:00</td>\n",
       "      <td>\"Martha come take a look at this. I'm so fed u...</td>\n",
       "      <td>10</td>\n",
       "      <td>10</td>\n",
       "      <td>NaN</td>\n",
       "      <td>NaN</td>\n",
       "      <td>2141</td>\n",
       "      <td>4355</td>\n",
       "      <td>shih-tzu</td>\n",
       "    </tr>\n",
       "    <tr>\n",
       "      <th>352</th>\n",
       "      <td>770414278348247044</td>\n",
       "      <td>NaN</td>\n",
       "      <td>NaN</td>\n",
       "      <td>2016-08-30 00:14:12+00:00</td>\n",
       "      <td>Meet Al Cabone. He's a gangsta puppa. Rather h...</td>\n",
       "      <td>11</td>\n",
       "      <td>10</td>\n",
       "      <td>Al</td>\n",
       "      <td>NaN</td>\n",
       "      <td>2223</td>\n",
       "      <td>6627</td>\n",
       "      <td>golden retriever</td>\n",
       "    </tr>\n",
       "    <tr>\n",
       "      <th>1016</th>\n",
       "      <td>686730991906516992</td>\n",
       "      <td>NaN</td>\n",
       "      <td>NaN</td>\n",
       "      <td>2016-01-12 02:06:41+00:00</td>\n",
       "      <td>I just love this picture. 12/10 lovely af http...</td>\n",
       "      <td>12</td>\n",
       "      <td>10</td>\n",
       "      <td>NaN</td>\n",
       "      <td>NaN</td>\n",
       "      <td>1269</td>\n",
       "      <td>4322</td>\n",
       "      <td>tibetan mastiff</td>\n",
       "    </tr>\n",
       "    <tr>\n",
       "      <th>1591</th>\n",
       "      <td>668826086256599040</td>\n",
       "      <td>NaN</td>\n",
       "      <td>NaN</td>\n",
       "      <td>2015-11-23 16:18:59+00:00</td>\n",
       "      <td>This is Banditt. He is a brown LaBeouf retriev...</td>\n",
       "      <td>10</td>\n",
       "      <td>10</td>\n",
       "      <td>Banditt</td>\n",
       "      <td>NaN</td>\n",
       "      <td>140</td>\n",
       "      <td>436</td>\n",
       "      <td>malinois</td>\n",
       "    </tr>\n",
       "    <tr>\n",
       "      <th>29</th>\n",
       "      <td>879008229531029506</td>\n",
       "      <td>NaN</td>\n",
       "      <td>NaN</td>\n",
       "      <td>2017-06-25 16:07:47+00:00</td>\n",
       "      <td>This is Beau. That is Beau's balloon. He takes...</td>\n",
       "      <td>13</td>\n",
       "      <td>10</td>\n",
       "      <td>Beau</td>\n",
       "      <td>NaN</td>\n",
       "      <td>2619</td>\n",
       "      <td>18533</td>\n",
       "      <td>vizsla</td>\n",
       "    </tr>\n",
       "  </tbody>\n",
       "</table>\n",
       "</div>"
      ],
      "text/plain": [
       "                tweet_id  in_reply_to_status_id  in_reply_to_user_id  \\\n",
       "913   694206574471057408                    NaN                  NaN   \n",
       "352   770414278348247044                    NaN                  NaN   \n",
       "1016  686730991906516992                    NaN                  NaN   \n",
       "1591  668826086256599040                    NaN                  NaN   \n",
       "29    879008229531029506                    NaN                  NaN   \n",
       "\n",
       "                     timestamp  \\\n",
       "913  2016-02-01 17:11:59+00:00   \n",
       "352  2016-08-30 00:14:12+00:00   \n",
       "1016 2016-01-12 02:06:41+00:00   \n",
       "1591 2015-11-23 16:18:59+00:00   \n",
       "29   2017-06-25 16:07:47+00:00   \n",
       "\n",
       "                                                   text  rating_numerator  \\\n",
       "913   \"Martha come take a look at this. I'm so fed u...                10   \n",
       "352   Meet Al Cabone. He's a gangsta puppa. Rather h...                11   \n",
       "1016  I just love this picture. 12/10 lovely af http...                12   \n",
       "1591  This is Banditt. He is a brown LaBeouf retriev...                10   \n",
       "29    This is Beau. That is Beau's balloon. He takes...                13   \n",
       "\n",
       "      rating_denominator     name category  retweet_count  favorite_count  \\\n",
       "913                   10      NaN      NaN           2141            4355   \n",
       "352                   10       Al      NaN           2223            6627   \n",
       "1016                  10      NaN      NaN           1269            4322   \n",
       "1591                  10  Banditt      NaN            140             436   \n",
       "29                    10     Beau      NaN           2619           18533   \n",
       "\n",
       "      prediction_breed  \n",
       "913           shih-tzu  \n",
       "352   golden retriever  \n",
       "1016   tibetan mastiff  \n",
       "1591          malinois  \n",
       "29              vizsla  "
      ]
     },
     "execution_count": 140,
     "metadata": {},
     "output_type": "execute_result"
    }
   ],
   "source": [
    "df_twitter_master.sample(5)"
   ]
  },
  {
   "cell_type": "code",
   "execution_count": 141,
   "metadata": {},
   "outputs": [
    {
     "name": "stdout",
     "output_type": "stream",
     "text": [
      "<class 'pandas.core.frame.DataFrame'>\n",
      "Int64Index: 1746 entries, 0 to 1745\n",
      "Data columns (total 12 columns):\n",
      "tweet_id                 1746 non-null int64\n",
      "in_reply_to_status_id    22 non-null float64\n",
      "in_reply_to_user_id      22 non-null float64\n",
      "timestamp                1746 non-null datetime64[ns, UTC]\n",
      "text                     1746 non-null object\n",
      "rating_numerator         1746 non-null int64\n",
      "rating_denominator       1746 non-null int64\n",
      "name                     1244 non-null object\n",
      "category                 257 non-null object\n",
      "retweet_count            1746 non-null int64\n",
      "favorite_count           1746 non-null int64\n",
      "prediction_breed         1467 non-null object\n",
      "dtypes: datetime64[ns, UTC](1), float64(2), int64(5), object(4)\n",
      "memory usage: 177.3+ KB\n"
     ]
    }
   ],
   "source": [
    "df_twitter_master.info()"
   ]
  },
  {
   "cell_type": "markdown",
   "metadata": {},
   "source": [
    "Conversão das colunas `in_reply_to_status_id`, `in_reply_to_user_id`, `retweet_count` e `favorite_count` para `pd.Int64Dtype()`"
   ]
  },
  {
   "cell_type": "code",
   "execution_count": 142,
   "metadata": {},
   "outputs": [],
   "source": [
    "df_twitter_master.loc[:, 'in_reply_to_status_id'] = df_twitter_master.loc[:, 'in_reply_to_status_id'].astype(pd.Int64Dtype())\n",
    "df_twitter_master.loc[:, 'in_reply_to_user_id'] = df_twitter_master.loc[:, 'in_reply_to_user_id'].astype(pd.Int64Dtype())"
   ]
  },
  {
   "cell_type": "code",
   "execution_count": 143,
   "metadata": {},
   "outputs": [],
   "source": [
    "df_twitter_master.loc[:, ['retweet_count', 'favorite_count']] = df_twitter_master.loc[:, ['retweet_count', 'favorite_count']].astype(pd.Int64Dtype())"
   ]
  },
  {
   "cell_type": "code",
   "execution_count": 144,
   "metadata": {},
   "outputs": [
    {
     "name": "stdout",
     "output_type": "stream",
     "text": [
      "<class 'pandas.core.frame.DataFrame'>\n",
      "Int64Index: 1746 entries, 0 to 1745\n",
      "Data columns (total 12 columns):\n",
      "tweet_id                 1746 non-null int64\n",
      "in_reply_to_status_id    22 non-null Int64\n",
      "in_reply_to_user_id      22 non-null Int64\n",
      "timestamp                1746 non-null datetime64[ns, UTC]\n",
      "text                     1746 non-null object\n",
      "rating_numerator         1746 non-null int64\n",
      "rating_denominator       1746 non-null int64\n",
      "name                     1244 non-null object\n",
      "category                 257 non-null object\n",
      "retweet_count            1746 non-null Int64\n",
      "favorite_count           1746 non-null Int64\n",
      "prediction_breed         1467 non-null object\n",
      "dtypes: Int64(4), datetime64[ns, UTC](1), int64(3), object(4)\n",
      "memory usage: 184.1+ KB\n"
     ]
    }
   ],
   "source": [
    "df_twitter_master.info()"
   ]
  },
  {
   "cell_type": "code",
   "execution_count": 145,
   "metadata": {},
   "outputs": [
    {
     "data": {
      "text/plain": [
       "(1746, 12)"
      ]
     },
     "execution_count": 145,
     "metadata": {},
     "output_type": "execute_result"
    }
   ],
   "source": [
    "df_twitter_master.shape"
   ]
  },
  {
   "cell_type": "code",
   "execution_count": 146,
   "metadata": {},
   "outputs": [
    {
     "data": {
      "text/plain": [
       "1746"
      ]
     },
     "execution_count": 146,
     "metadata": {},
     "output_type": "execute_result"
    }
   ],
   "source": [
    "df_twitter_master.tweet_id.nunique()"
   ]
  },
  {
   "cell_type": "markdown",
   "metadata": {},
   "source": [
    "------\n",
    "<a id=\"armazenamento\"></a>\n",
    "\n",
    "# Armazenamento"
   ]
  },
  {
   "cell_type": "markdown",
   "metadata": {},
   "source": [
    "Salvar os dataframes limpos"
   ]
  },
  {
   "cell_type": "code",
   "execution_count": 147,
   "metadata": {},
   "outputs": [],
   "source": [
    "data_folder_path = 'data'"
   ]
  },
  {
   "cell_type": "code",
   "execution_count": 148,
   "metadata": {},
   "outputs": [],
   "source": [
    "# Dataframe clean: Twitter Archive\n",
    "df_arch_clean.to_csv(os.path.join(data_folder_path, 'twitter_archive_clean.csv'), index=None, header=True)"
   ]
  },
  {
   "cell_type": "code",
   "execution_count": 149,
   "metadata": {},
   "outputs": [],
   "source": [
    "# Dataframe clean: Tweet image prediction\n",
    "df_predict_clean.to_csv(os.path.join(data_folder_path, 'tweet_image_prediction_clean.csv'), index=None, header=True)"
   ]
  },
  {
   "cell_type": "code",
   "execution_count": 150,
   "metadata": {},
   "outputs": [],
   "source": [
    "# Dataframe clean: API requested Tweets\n",
    "df_api_clean.to_csv(os.path.join(data_folder_path, 'twitter_api_clean.csv'), index=None, header=True)"
   ]
  },
  {
   "cell_type": "code",
   "execution_count": 151,
   "metadata": {},
   "outputs": [],
   "source": [
    "# Dataframe Principal: Twitter Master \n",
    "df_twitter_master.to_csv(os.path.join(data_folder_path, 'twitter_archive_master.csv'), index=None, header=True)"
   ]
  },
  {
   "cell_type": "markdown",
   "metadata": {},
   "source": [
    "------\n",
    "<a id=\"insights\"></a>\n",
    "\n",
    "# Insights"
   ]
  },
  {
   "cell_type": "code",
   "execution_count": 152,
   "metadata": {},
   "outputs": [
    {
     "data": {
      "text/html": [
       "<div>\n",
       "<style scoped>\n",
       "    .dataframe tbody tr th:only-of-type {\n",
       "        vertical-align: middle;\n",
       "    }\n",
       "\n",
       "    .dataframe tbody tr th {\n",
       "        vertical-align: top;\n",
       "    }\n",
       "\n",
       "    .dataframe thead th {\n",
       "        text-align: right;\n",
       "    }\n",
       "</style>\n",
       "<table border=\"1\" class=\"dataframe\">\n",
       "  <thead>\n",
       "    <tr style=\"text-align: right;\">\n",
       "      <th></th>\n",
       "      <th>tweet_id</th>\n",
       "      <th>in_reply_to_status_id</th>\n",
       "      <th>in_reply_to_user_id</th>\n",
       "      <th>rating_numerator</th>\n",
       "      <th>rating_denominator</th>\n",
       "      <th>retweet_count</th>\n",
       "      <th>favorite_count</th>\n",
       "    </tr>\n",
       "  </thead>\n",
       "  <tbody>\n",
       "    <tr>\n",
       "      <th>count</th>\n",
       "      <td>1.746000e+03</td>\n",
       "      <td>2.200000e+01</td>\n",
       "      <td>2.200000e+01</td>\n",
       "      <td>1746.000000</td>\n",
       "      <td>1746.000000</td>\n",
       "      <td>1746.000000</td>\n",
       "      <td>1746.000000</td>\n",
       "    </tr>\n",
       "    <tr>\n",
       "      <th>mean</th>\n",
       "      <td>7.205774e+17</td>\n",
       "      <td>6.992047e+17</td>\n",
       "      <td>4.196984e+09</td>\n",
       "      <td>12.258877</td>\n",
       "      <td>10.609393</td>\n",
       "      <td>2329.066438</td>\n",
       "      <td>7109.958763</td>\n",
       "    </tr>\n",
       "    <tr>\n",
       "      <th>std</th>\n",
       "      <td>5.634393e+16</td>\n",
       "      <td>4.409222e+16</td>\n",
       "      <td>0.000000e+00</td>\n",
       "      <td>44.344774</td>\n",
       "      <td>7.820244</td>\n",
       "      <td>4714.436460</td>\n",
       "      <td>12065.782123</td>\n",
       "    </tr>\n",
       "    <tr>\n",
       "      <th>min</th>\n",
       "      <td>6.660209e+17</td>\n",
       "      <td>6.671522e+17</td>\n",
       "      <td>4.196984e+09</td>\n",
       "      <td>0.000000</td>\n",
       "      <td>2.000000</td>\n",
       "      <td>11.000000</td>\n",
       "      <td>77.000000</td>\n",
       "    </tr>\n",
       "    <tr>\n",
       "      <th>25%</th>\n",
       "      <td>6.744260e+17</td>\n",
       "      <td>6.747625e+17</td>\n",
       "      <td>4.196984e+09</td>\n",
       "      <td>10.000000</td>\n",
       "      <td>10.000000</td>\n",
       "      <td>531.000000</td>\n",
       "      <td>1570.250000</td>\n",
       "    </tr>\n",
       "    <tr>\n",
       "      <th>50%</th>\n",
       "      <td>6.983023e+17</td>\n",
       "      <td>6.799651e+17</td>\n",
       "      <td>4.196984e+09</td>\n",
       "      <td>11.000000</td>\n",
       "      <td>10.000000</td>\n",
       "      <td>1082.000000</td>\n",
       "      <td>3314.000000</td>\n",
       "    </tr>\n",
       "    <tr>\n",
       "      <th>75%</th>\n",
       "      <td>7.551826e+17</td>\n",
       "      <td>7.032024e+17</td>\n",
       "      <td>4.196984e+09</td>\n",
       "      <td>12.000000</td>\n",
       "      <td>10.000000</td>\n",
       "      <td>2302.750000</td>\n",
       "      <td>7832.250000</td>\n",
       "    </tr>\n",
       "    <tr>\n",
       "      <th>max</th>\n",
       "      <td>8.924206e+17</td>\n",
       "      <td>8.558181e+17</td>\n",
       "      <td>4.196984e+09</td>\n",
       "      <td>1776.000000</td>\n",
       "      <td>170.000000</td>\n",
       "      <td>82905.000000</td>\n",
       "      <td>163034.000000</td>\n",
       "    </tr>\n",
       "  </tbody>\n",
       "</table>\n",
       "</div>"
      ],
      "text/plain": [
       "           tweet_id  in_reply_to_status_id  in_reply_to_user_id  \\\n",
       "count  1.746000e+03           2.200000e+01         2.200000e+01   \n",
       "mean   7.205774e+17           6.992047e+17         4.196984e+09   \n",
       "std    5.634393e+16           4.409222e+16         0.000000e+00   \n",
       "min    6.660209e+17           6.671522e+17         4.196984e+09   \n",
       "25%    6.744260e+17           6.747625e+17         4.196984e+09   \n",
       "50%    6.983023e+17           6.799651e+17         4.196984e+09   \n",
       "75%    7.551826e+17           7.032024e+17         4.196984e+09   \n",
       "max    8.924206e+17           8.558181e+17         4.196984e+09   \n",
       "\n",
       "       rating_numerator  rating_denominator  retweet_count  favorite_count  \n",
       "count       1746.000000         1746.000000    1746.000000     1746.000000  \n",
       "mean          12.258877           10.609393    2329.066438     7109.958763  \n",
       "std           44.344774            7.820244    4714.436460    12065.782123  \n",
       "min            0.000000            2.000000      11.000000       77.000000  \n",
       "25%           10.000000           10.000000     531.000000     1570.250000  \n",
       "50%           11.000000           10.000000    1082.000000     3314.000000  \n",
       "75%           12.000000           10.000000    2302.750000     7832.250000  \n",
       "max         1776.000000          170.000000   82905.000000   163034.000000  "
      ]
     },
     "execution_count": 152,
     "metadata": {},
     "output_type": "execute_result"
    }
   ],
   "source": [
    "df_twitter_master.describe()"
   ]
  },
  {
   "cell_type": "code",
   "execution_count": 153,
   "metadata": {
    "scrolled": true
   },
   "outputs": [
    {
     "name": "stdout",
     "output_type": "stream",
     "text": [
      "<class 'pandas.core.frame.DataFrame'>\n",
      "Int64Index: 1746 entries, 0 to 1745\n",
      "Data columns (total 12 columns):\n",
      "tweet_id                 1746 non-null int64\n",
      "in_reply_to_status_id    22 non-null Int64\n",
      "in_reply_to_user_id      22 non-null Int64\n",
      "timestamp                1746 non-null datetime64[ns, UTC]\n",
      "text                     1746 non-null object\n",
      "rating_numerator         1746 non-null int64\n",
      "rating_denominator       1746 non-null int64\n",
      "name                     1244 non-null object\n",
      "category                 257 non-null object\n",
      "retweet_count            1746 non-null Int64\n",
      "favorite_count           1746 non-null Int64\n",
      "prediction_breed         1467 non-null object\n",
      "dtypes: Int64(4), datetime64[ns, UTC](1), int64(3), object(4)\n",
      "memory usage: 184.1+ KB\n"
     ]
    }
   ],
   "source": [
    "df_twitter_master.info()"
   ]
  },
  {
   "cell_type": "code",
   "execution_count": 154,
   "metadata": {},
   "outputs": [
    {
     "data": {
      "text/plain": [
       "NaN        1489\n",
       "pupper      188\n",
       "doggo        50\n",
       "puppo        13\n",
       "floofer       6\n",
       "Name: category, dtype: int64"
      ]
     },
     "execution_count": 154,
     "metadata": {},
     "output_type": "execute_result"
    }
   ],
   "source": [
    "df_twitter_master.category.value_counts(dropna=False)"
   ]
  },
  {
   "cell_type": "code",
   "execution_count": 155,
   "metadata": {},
   "outputs": [
    {
     "data": {
      "text/plain": [
       "False    1489\n",
       "True      257\n",
       "Name: category, dtype: int64"
      ]
     },
     "execution_count": 155,
     "metadata": {},
     "output_type": "execute_result"
    }
   ],
   "source": [
    "df_twitter_master.category.notna().value_counts()"
   ]
  },
  {
   "cell_type": "markdown",
   "metadata": {},
   "source": [
    "Dos **1746** registros, **1489** não foram categorizados. Apenas **257** estão com a coluna `category` preenchida."
   ]
  },
  {
   "cell_type": "markdown",
   "metadata": {},
   "source": [
    "Dos animais categorizados, qual é distribuição por categoria?"
   ]
  },
  {
   "cell_type": "code",
   "execution_count": 156,
   "metadata": {},
   "outputs": [],
   "source": [
    "df_categorized = df_twitter_master[df_twitter_master.category.notna()]"
   ]
  },
  {
   "cell_type": "code",
   "execution_count": 157,
   "metadata": {},
   "outputs": [
    {
     "data": {
      "text/plain": [
       "pupper     188\n",
       "doggo       50\n",
       "puppo       13\n",
       "floofer      6\n",
       "Name: category, dtype: int64"
      ]
     },
     "execution_count": 157,
     "metadata": {},
     "output_type": "execute_result"
    }
   ],
   "source": [
    "df_categorized.category.value_counts()"
   ]
  },
  {
   "cell_type": "code",
   "execution_count": 158,
   "metadata": {},
   "outputs": [
    {
     "data": {
      "image/png": "[encoded data removed]",
      "text/plain": [
       "<Figure size 432x288 with 1 Axes>"
      ]
     },
     "metadata": {
      "needs_background": "light"
     },
     "output_type": "display_data"
    }
   ],
   "source": [
    "df_categorized.category.value_counts().plot(kind='bar');\n",
    "plt.title('Quantidade de animais por categoria');\n",
    "plt.xlabel('Categoria');\n",
    "plt.ylabel('Quantidade');"
   ]
  },
  {
   "cell_type": "markdown",
   "metadata": {},
   "source": [
    "Qual é a média de notas (`rating_numerator`) das categorias?"
   ]
  },
  {
   "cell_type": "code",
   "execution_count": 159,
   "metadata": {},
   "outputs": [
    {
     "data": {
      "text/html": [
       "<div>\n",
       "<style scoped>\n",
       "    .dataframe tbody tr th:only-of-type {\n",
       "        vertical-align: middle;\n",
       "    }\n",
       "\n",
       "    .dataframe tbody tr th {\n",
       "        vertical-align: top;\n",
       "    }\n",
       "\n",
       "    .dataframe thead th {\n",
       "        text-align: right;\n",
       "    }\n",
       "</style>\n",
       "<table border=\"1\" class=\"dataframe\">\n",
       "  <thead>\n",
       "    <tr style=\"text-align: right;\">\n",
       "      <th></th>\n",
       "      <th>min</th>\n",
       "      <th>max</th>\n",
       "      <th>mean</th>\n",
       "    </tr>\n",
       "    <tr>\n",
       "      <th>category</th>\n",
       "      <th></th>\n",
       "      <th></th>\n",
       "      <th></th>\n",
       "    </tr>\n",
       "  </thead>\n",
       "  <tbody>\n",
       "    <tr>\n",
       "      <th>doggo</th>\n",
       "      <td>5</td>\n",
       "      <td>14</td>\n",
       "      <td>11.520000</td>\n",
       "    </tr>\n",
       "    <tr>\n",
       "      <th>floofer</th>\n",
       "      <td>10</td>\n",
       "      <td>13</td>\n",
       "      <td>11.833333</td>\n",
       "    </tr>\n",
       "    <tr>\n",
       "      <th>pupper</th>\n",
       "      <td>3</td>\n",
       "      <td>14</td>\n",
       "      <td>10.484043</td>\n",
       "    </tr>\n",
       "    <tr>\n",
       "      <th>puppo</th>\n",
       "      <td>9</td>\n",
       "      <td>13</td>\n",
       "      <td>11.461538</td>\n",
       "    </tr>\n",
       "  </tbody>\n",
       "</table>\n",
       "</div>"
      ],
      "text/plain": [
       "          min  max       mean\n",
       "category                     \n",
       "doggo       5   14  11.520000\n",
       "floofer    10   13  11.833333\n",
       "pupper      3   14  10.484043\n",
       "puppo       9   13  11.461538"
      ]
     },
     "execution_count": 159,
     "metadata": {},
     "output_type": "execute_result"
    }
   ],
   "source": [
    "df_categorized.groupby('category').rating_numerator.agg(['min', 'max', 'mean'])"
   ]
  },
  {
   "cell_type": "code",
   "execution_count": 160,
   "metadata": {},
   "outputs": [
    {
     "data": {
      "image/png": "[encoded data removed]",
      "text/plain": [
       "<Figure size 432x288 with 1 Axes>"
      ]
     },
     "metadata": {
      "needs_background": "light"
     },
     "output_type": "display_data"
    }
   ],
   "source": [
    "df_categorized.groupby('category').rating_numerator.agg(['min', 'max', 'mean']).plot(kind='bar');\n",
    "plt.title('Mínima, máxima e média das notas por Categoria');\n",
    "plt.xlabel('Categoria');\n",
    "plt.ylabel('Nota');"
   ]
  },
  {
   "cell_type": "markdown",
   "metadata": {},
   "source": [
    "Qual a média, máximo e minimo da contagem de tweets marcados como **favoritos** (`favorite_count`) entre as categorias?"
   ]
  },
  {
   "cell_type": "code",
   "execution_count": 161,
   "metadata": {},
   "outputs": [
    {
     "data": {
      "text/html": [
       "<div>\n",
       "<style scoped>\n",
       "    .dataframe tbody tr th:only-of-type {\n",
       "        vertical-align: middle;\n",
       "    }\n",
       "\n",
       "    .dataframe tbody tr th {\n",
       "        vertical-align: top;\n",
       "    }\n",
       "\n",
       "    .dataframe thead th {\n",
       "        text-align: right;\n",
       "    }\n",
       "</style>\n",
       "<table border=\"1\" class=\"dataframe\">\n",
       "  <thead>\n",
       "    <tr style=\"text-align: right;\">\n",
       "      <th></th>\n",
       "      <th>min</th>\n",
       "      <th>max</th>\n",
       "      <th>mean</th>\n",
       "    </tr>\n",
       "    <tr>\n",
       "      <th>category</th>\n",
       "      <th></th>\n",
       "      <th></th>\n",
       "      <th></th>\n",
       "    </tr>\n",
       "  </thead>\n",
       "  <tbody>\n",
       "    <tr>\n",
       "      <th>doggo</th>\n",
       "      <td>2458</td>\n",
       "      <td>163034</td>\n",
       "      <td>19408.920000</td>\n",
       "    </tr>\n",
       "    <tr>\n",
       "      <th>floofer</th>\n",
       "      <td>2152</td>\n",
       "      <td>31685</td>\n",
       "      <td>10981.666667</td>\n",
       "    </tr>\n",
       "    <tr>\n",
       "      <th>pupper</th>\n",
       "      <td>661</td>\n",
       "      <td>121093</td>\n",
       "      <td>6033.872340</td>\n",
       "    </tr>\n",
       "    <tr>\n",
       "      <th>puppo</th>\n",
       "      <td>3093</td>\n",
       "      <td>139348</td>\n",
       "      <td>22861.538462</td>\n",
       "    </tr>\n",
       "  </tbody>\n",
       "</table>\n",
       "</div>"
      ],
      "text/plain": [
       "           min     max          mean\n",
       "category                            \n",
       "doggo     2458  163034  19408.920000\n",
       "floofer   2152   31685  10981.666667\n",
       "pupper     661  121093   6033.872340\n",
       "puppo     3093  139348  22861.538462"
      ]
     },
     "execution_count": 161,
     "metadata": {},
     "output_type": "execute_result"
    }
   ],
   "source": [
    "df_categorized.groupby('category').favorite_count.agg(['min', 'max', 'mean'])"
   ]
  },
  {
   "cell_type": "code",
   "execution_count": 162,
   "metadata": {},
   "outputs": [
    {
     "data": {
      "image/png": "[encoded data removed]",
      "text/plain": [
       "<Figure size 432x288 with 1 Axes>"
      ]
     },
     "metadata": {
      "needs_background": "light"
     },
     "output_type": "display_data"
    }
   ],
   "source": [
    "df_categorized.groupby('category').favorite_count.agg(['min', 'max', 'mean']).plot(kind='bar');\n",
    "plt.title('Mínimo, máximo e média de Tweets marcados como favoritos');\n",
    "plt.xlabel('Categoria');\n",
    "plt.ylabel('Quantidade');"
   ]
  },
  {
   "cell_type": "code",
   "execution_count": 163,
   "metadata": {},
   "outputs": [
    {
     "data": {
      "text/html": [
       "<div>\n",
       "<style scoped>\n",
       "    .dataframe tbody tr th:only-of-type {\n",
       "        vertical-align: middle;\n",
       "    }\n",
       "\n",
       "    .dataframe tbody tr th {\n",
       "        vertical-align: top;\n",
       "    }\n",
       "\n",
       "    .dataframe thead th {\n",
       "        text-align: right;\n",
       "    }\n",
       "</style>\n",
       "<table border=\"1\" class=\"dataframe\">\n",
       "  <thead>\n",
       "    <tr style=\"text-align: right;\">\n",
       "      <th></th>\n",
       "      <th>min</th>\n",
       "      <th>max</th>\n",
       "      <th>mean</th>\n",
       "    </tr>\n",
       "    <tr>\n",
       "      <th>category</th>\n",
       "      <th></th>\n",
       "      <th></th>\n",
       "      <th></th>\n",
       "    </tr>\n",
       "  </thead>\n",
       "  <tbody>\n",
       "    <tr>\n",
       "      <th>doggo</th>\n",
       "      <td>675</td>\n",
       "      <td>82905</td>\n",
       "      <td>7675.860000</td>\n",
       "    </tr>\n",
       "    <tr>\n",
       "      <th>floofer</th>\n",
       "      <td>465</td>\n",
       "      <td>17234</td>\n",
       "      <td>4813.833333</td>\n",
       "    </tr>\n",
       "    <tr>\n",
       "      <th>pupper</th>\n",
       "      <td>96</td>\n",
       "      <td>35138</td>\n",
       "      <td>2004.739362</td>\n",
       "    </tr>\n",
       "    <tr>\n",
       "      <th>puppo</th>\n",
       "      <td>658</td>\n",
       "      <td>47253</td>\n",
       "      <td>7113.769231</td>\n",
       "    </tr>\n",
       "  </tbody>\n",
       "</table>\n",
       "</div>"
      ],
      "text/plain": [
       "          min    max         mean\n",
       "category                         \n",
       "doggo     675  82905  7675.860000\n",
       "floofer   465  17234  4813.833333\n",
       "pupper     96  35138  2004.739362\n",
       "puppo     658  47253  7113.769231"
      ]
     },
     "execution_count": 163,
     "metadata": {},
     "output_type": "execute_result"
    }
   ],
   "source": [
    "df_twitter_master.groupby('category').retweet_count.agg(['min', 'max', 'mean'])"
   ]
  },
  {
   "cell_type": "code",
   "execution_count": 164,
   "metadata": {},
   "outputs": [
    {
     "data": {
      "image/png": "[encoded data removed]",
      "text/plain": [
       "<Figure size 432x288 with 1 Axes>"
      ]
     },
     "metadata": {
      "needs_background": "light"
     },
     "output_type": "display_data"
    }
   ],
   "source": [
    "df_twitter_master.groupby('category').retweet_count.agg(['min', 'max', 'mean']).plot(kind='bar');\n",
    "plt.title('Contagem de Retweets\\npor categoria');\n",
    "plt.xlabel('Categoria');\n",
    "plt.ylabel('Contagem');"
   ]
  },
  {
   "cell_type": "code",
   "execution_count": 165,
   "metadata": {},
   "outputs": [
    {
     "data": {
      "image/png": "[encoded data removed]",
      "text/plain": [
       "<Figure size 720x360 with 1 Axes>"
      ]
     },
     "metadata": {
      "needs_background": "light"
     },
     "output_type": "display_data"
    }
   ],
   "source": [
    "df_categorized.prediction_breed.value_counts().head(10).plot(kind='bar', figsize=(10, 5));\n",
    "plt.title('10 raças mais comuns');\n",
    "plt.xlabel('Raças');\n",
    "plt.ylabel('Quantidade');"
   ]
  },
  {
   "cell_type": "code",
   "execution_count": 166,
   "metadata": {},
   "outputs": [
    {
     "data": {
      "text/plain": [
       "golden retriever      28\n",
       "labrador retriever    16\n",
       "pug                   11\n",
       "pembroke              11\n",
       "toy poodle             8\n",
       "pomeranian             8\n",
       "chihuahua              8\n",
       "lakeland terrier       6\n",
       "samoyed                5\n",
       "cocker spaniel         5\n",
       "Name: prediction_breed, dtype: int64"
      ]
     },
     "execution_count": 166,
     "metadata": {},
     "output_type": "execute_result"
    }
   ],
   "source": [
    "df_categorized.prediction_breed.value_counts().head(10)"
   ]
  },
  {
   "cell_type": "code",
   "execution_count": 167,
   "metadata": {},
   "outputs": [
    {
     "data": {
      "image/png": "[encoded data removed]",
      "text/plain": [
       "<Figure size 432x288 with 1 Axes>"
      ]
     },
     "metadata": {
      "needs_background": "light"
     },
     "output_type": "display_data"
    }
   ],
   "source": [
    "df_categorized.loc[df_twitter_master.prediction_breed == 'golden retriever', ['category', 'prediction_breed']].groupby('category').agg('count').plot(kind='bar');\n",
    "plt.title('Número de cães da raça Golden Retriver\\npor Categoria');\n",
    "plt.xlabel('Categoria');\n",
    "plt.ylabel('Quantidade');\n"
   ]
  },
  {
   "cell_type": "code",
   "execution_count": 168,
   "metadata": {},
   "outputs": [
    {
     "data": {
      "text/html": [
       "<div>\n",
       "<style scoped>\n",
       "    .dataframe tbody tr th:only-of-type {\n",
       "        vertical-align: middle;\n",
       "    }\n",
       "\n",
       "    .dataframe tbody tr th {\n",
       "        vertical-align: top;\n",
       "    }\n",
       "\n",
       "    .dataframe thead th {\n",
       "        text-align: right;\n",
       "    }\n",
       "</style>\n",
       "<table border=\"1\" class=\"dataframe\">\n",
       "  <thead>\n",
       "    <tr style=\"text-align: right;\">\n",
       "      <th></th>\n",
       "      <th>prediction_breed</th>\n",
       "    </tr>\n",
       "    <tr>\n",
       "      <th>category</th>\n",
       "      <th></th>\n",
       "    </tr>\n",
       "  </thead>\n",
       "  <tbody>\n",
       "    <tr>\n",
       "      <th>doggo</th>\n",
       "      <td>11</td>\n",
       "    </tr>\n",
       "    <tr>\n",
       "      <th>floofer</th>\n",
       "      <td>1</td>\n",
       "    </tr>\n",
       "    <tr>\n",
       "      <th>pupper</th>\n",
       "      <td>15</td>\n",
       "    </tr>\n",
       "    <tr>\n",
       "      <th>puppo</th>\n",
       "      <td>1</td>\n",
       "    </tr>\n",
       "  </tbody>\n",
       "</table>\n",
       "</div>"
      ],
      "text/plain": [
       "          prediction_breed\n",
       "category                  \n",
       "doggo                   11\n",
       "floofer                  1\n",
       "pupper                  15\n",
       "puppo                    1"
      ]
     },
     "execution_count": 168,
     "metadata": {},
     "output_type": "execute_result"
    }
   ],
   "source": [
    "df_categorized.loc[df_twitter_master.prediction_breed == 'golden retriever', ['category', 'prediction_breed']].groupby('category').agg('count')"
   ]
  },
  {
   "cell_type": "code",
   "execution_count": 169,
   "metadata": {},
   "outputs": [
    {
     "data": {
      "text/plain": [
       "golden retriever      141\n",
       "labrador retriever     91\n",
       "chihuahua              81\n",
       "pembroke               80\n",
       "pug                    58\n",
       "toy poodle             49\n",
       "chow                   43\n",
       "pomeranian             37\n",
       "samoyed                34\n",
       "cocker spaniel         29\n",
       "Name: prediction_breed, dtype: int64"
      ]
     },
     "execution_count": 169,
     "metadata": {},
     "output_type": "execute_result"
    }
   ],
   "source": [
    "df_twitter_master.prediction_breed.value_counts().head(10)"
   ]
  },
  {
   "cell_type": "code",
   "execution_count": 170,
   "metadata": {},
   "outputs": [
    {
     "data": {
      "text/plain": [
       "Text(0, 0.5, 'retweet_count')"
      ]
     },
     "execution_count": 170,
     "metadata": {},
     "output_type": "execute_result"
    },
    {
     "data": {
      "image/png": "[encoded data removed]",
      "text/plain": [
       "<Figure size 432x288 with 1 Axes>"
      ]
     },
     "metadata": {
      "needs_background": "light"
     },
     "output_type": "display_data"
    }
   ],
   "source": [
    "plt.scatter('favorite_count', 'retweet_count', data=df_twitter_master)\n",
    "plt.xlabel('favorite_count')\n",
    "plt.ylabel('retweet_count')"
   ]
  },
  {
   "cell_type": "markdown",
   "metadata": {},
   "source": [
    "# Relatórios"
   ]
  },
  {
   "cell_type": "markdown",
   "metadata": {},
   "source": [
    "* Data wrangling efforts\n",
    "* Analyses and visualizations"
   ]
  }
 ],
 "metadata": {
  "kernelspec": {
   "display_name": "Python 3",
   "language": "python",
   "name": "python3"
  },
  "language_info": {
   "codemirror_mode": {
    "name": "ipython",
    "version": 3
   },
   "file_extension": ".py",
   "mimetype": "text/x-python",
   "name": "python",
   "nbconvert_exporter": "python",
   "pygments_lexer": "ipython3",
   "version": "3.6.8"
  }
 },
 "nbformat": 4,
 "nbformat_minor": 2
}
