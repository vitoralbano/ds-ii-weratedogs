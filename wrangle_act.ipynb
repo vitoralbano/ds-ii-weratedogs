{
 "cells": [
  {
   "cell_type": "code",
   "execution_count": 1,
   "metadata": {},
   "outputs": [],
   "source": [
    "import pandas as pd\n",
    "import numpy as np\n",
    "import requests\n",
    "import tweepy\n",
    "import json\n",
    "import os\n",
    "import re\n",
    "from IPython.display import clear_output"
   ]
  },
  {
   "cell_type": "markdown",
   "metadata": {},
   "source": [
    "------\n",
    "<a id=\"indice\"></a>\n",
    "\n",
    "# Índice"
   ]
  },
  {
   "cell_type": "markdown",
   "metadata": {},
   "source": [
    "1. **[Coleta](#coleta)**\n",
    "    * [Twitter Archive](#coleta:twitter-archive)\n",
    "    * [Image Prediction](#coleta:image-prediction)\n",
    "    * [Twitter API](#coleta:twitter-api)\n",
    "    \n",
    "    \n",
    "2. **[Avaliação](#avaliacao)**\n",
    "    * [Twitter Archive](#avaliacao:twitter-archive)\n",
    "    * [Image Prediction](#avaliacao:image-prediction)\n",
    "    * [Twitter API](#avaliacao:twitter-api)\n",
    "    * [Notas da avaliação](#avaliacao:anotacoes)\n",
    "    \n",
    "    \n",
    "3. **[Limpeza](#limpeza)**\n",
    "    * [Definição](#limpeza:definicao)\n",
    "    * [Twitter Archive](#limpeza:twitter-archive)\n",
    "    * [Image Prediction](#limpeza:image-prediction)\n",
    "    * [Twitter API](#limpeza:twitter-api)\n",
    "\n",
    "\n",
    "4. **[Armazenamento](#armazenamento)**"
   ]
  },
  {
   "cell_type": "markdown",
   "metadata": {},
   "source": [
    "------\n",
    "<a id=\"coleta\"></a>"
   ]
  },
  {
   "cell_type": "markdown",
   "metadata": {},
   "source": [
    "# Coleta"
   ]
  },
  {
   "cell_type": "markdown",
   "metadata": {},
   "source": [
    "<a id=\"coleta:twitter-archive\"></a>"
   ]
  },
  {
   "cell_type": "markdown",
   "metadata": {},
   "source": [
    "## Coleta: Twitter archive"
   ]
  },
  {
   "cell_type": "code",
   "execution_count": 2,
   "metadata": {},
   "outputs": [
    {
     "data": {
      "text/html": [
       "<div>\n",
       "<style scoped>\n",
       "    .dataframe tbody tr th:only-of-type {\n",
       "        vertical-align: middle;\n",
       "    }\n",
       "\n",
       "    .dataframe tbody tr th {\n",
       "        vertical-align: top;\n",
       "    }\n",
       "\n",
       "    .dataframe thead th {\n",
       "        text-align: right;\n",
       "    }\n",
       "</style>\n",
       "<table border=\"1\" class=\"dataframe\">\n",
       "  <thead>\n",
       "    <tr style=\"text-align: right;\">\n",
       "      <th></th>\n",
       "      <th>tweet_id</th>\n",
       "      <th>in_reply_to_status_id</th>\n",
       "      <th>in_reply_to_user_id</th>\n",
       "      <th>timestamp</th>\n",
       "      <th>source</th>\n",
       "      <th>text</th>\n",
       "      <th>retweeted_status_id</th>\n",
       "      <th>retweeted_status_user_id</th>\n",
       "      <th>retweeted_status_timestamp</th>\n",
       "      <th>expanded_urls</th>\n",
       "      <th>rating_numerator</th>\n",
       "      <th>rating_denominator</th>\n",
       "      <th>name</th>\n",
       "      <th>doggo</th>\n",
       "      <th>floofer</th>\n",
       "      <th>pupper</th>\n",
       "      <th>puppo</th>\n",
       "    </tr>\n",
       "  </thead>\n",
       "  <tbody>\n",
       "    <tr>\n",
       "      <th>1845</th>\n",
       "      <td>675845657354215424</td>\n",
       "      <td>NaN</td>\n",
       "      <td>NaN</td>\n",
       "      <td>2015-12-13 01:12:15 +0000</td>\n",
       "      <td>&lt;a href=\"http://twitter.com/download/iphone\" r...</td>\n",
       "      <td>This is Pepper. She's not fully comfortable ri...</td>\n",
       "      <td>NaN</td>\n",
       "      <td>NaN</td>\n",
       "      <td>NaN</td>\n",
       "      <td>https://twitter.com/dog_rates/status/675845657...</td>\n",
       "      <td>10</td>\n",
       "      <td>10</td>\n",
       "      <td>Pepper</td>\n",
       "      <td>None</td>\n",
       "      <td>None</td>\n",
       "      <td>pupper</td>\n",
       "      <td>None</td>\n",
       "    </tr>\n",
       "    <tr>\n",
       "      <th>1352</th>\n",
       "      <td>703774238772166656</td>\n",
       "      <td>NaN</td>\n",
       "      <td>NaN</td>\n",
       "      <td>2016-02-28 02:50:28 +0000</td>\n",
       "      <td>&lt;a href=\"http://twitter.com/download/iphone\" r...</td>\n",
       "      <td>\"YOU CAN'T HANDLE THE TRUTH\" both 10/10 https:...</td>\n",
       "      <td>NaN</td>\n",
       "      <td>NaN</td>\n",
       "      <td>NaN</td>\n",
       "      <td>https://twitter.com/dog_rates/status/703774238...</td>\n",
       "      <td>10</td>\n",
       "      <td>10</td>\n",
       "      <td>None</td>\n",
       "      <td>None</td>\n",
       "      <td>None</td>\n",
       "      <td>None</td>\n",
       "      <td>None</td>\n",
       "    </tr>\n",
       "  </tbody>\n",
       "</table>\n",
       "</div>"
      ],
      "text/plain": [
       "                tweet_id  in_reply_to_status_id  in_reply_to_user_id  \\\n",
       "1845  675845657354215424                    NaN                  NaN   \n",
       "1352  703774238772166656                    NaN                  NaN   \n",
       "\n",
       "                      timestamp  \\\n",
       "1845  2015-12-13 01:12:15 +0000   \n",
       "1352  2016-02-28 02:50:28 +0000   \n",
       "\n",
       "                                                 source  \\\n",
       "1845  <a href=\"http://twitter.com/download/iphone\" r...   \n",
       "1352  <a href=\"http://twitter.com/download/iphone\" r...   \n",
       "\n",
       "                                                   text  retweeted_status_id  \\\n",
       "1845  This is Pepper. She's not fully comfortable ri...                  NaN   \n",
       "1352  \"YOU CAN'T HANDLE THE TRUTH\" both 10/10 https:...                  NaN   \n",
       "\n",
       "      retweeted_status_user_id retweeted_status_timestamp  \\\n",
       "1845                       NaN                        NaN   \n",
       "1352                       NaN                        NaN   \n",
       "\n",
       "                                          expanded_urls  rating_numerator  \\\n",
       "1845  https://twitter.com/dog_rates/status/675845657...                10   \n",
       "1352  https://twitter.com/dog_rates/status/703774238...                10   \n",
       "\n",
       "      rating_denominator    name doggo floofer  pupper puppo  \n",
       "1845                  10  Pepper  None    None  pupper  None  \n",
       "1352                  10    None  None    None    None  None  "
      ]
     },
     "execution_count": 2,
     "metadata": {},
     "output_type": "execute_result"
    }
   ],
   "source": [
    "df_twitter_arc = pd.read_csv('data/twitter-archive-enhanced.csv')\n",
    "df_twitter_arc.sample(2)"
   ]
  },
  {
   "cell_type": "markdown",
   "metadata": {},
   "source": [
    "<a id=\"coleta:image-prediction\"></a>"
   ]
  },
  {
   "cell_type": "markdown",
   "metadata": {},
   "source": [
    "## Coleta: Image prediction"
   ]
  },
  {
   "cell_type": "code",
   "execution_count": 3,
   "metadata": {},
   "outputs": [],
   "source": [
    "df_prediction = None\n",
    "\n",
    "r = requests.get('https://d17h27t6h515a5.cloudfront.net/topher/2017/August/599fd2ad_image-predictions/image-predictions.tsv')\n",
    "\n",
    "if r.status_code is 200:\n",
    "    df_prediction = pd.read_csv(pd.compat.StringIO(r.text), sep='\\t')    \n",
    "else:    \n",
    "    print('ERROR: Image prediction request returned {status_code} status code.'.format(status_code = r.status_code))"
   ]
  },
  {
   "cell_type": "code",
   "execution_count": 4,
   "metadata": {},
   "outputs": [
    {
     "data": {
      "text/html": [
       "<div>\n",
       "<style scoped>\n",
       "    .dataframe tbody tr th:only-of-type {\n",
       "        vertical-align: middle;\n",
       "    }\n",
       "\n",
       "    .dataframe tbody tr th {\n",
       "        vertical-align: top;\n",
       "    }\n",
       "\n",
       "    .dataframe thead th {\n",
       "        text-align: right;\n",
       "    }\n",
       "</style>\n",
       "<table border=\"1\" class=\"dataframe\">\n",
       "  <thead>\n",
       "    <tr style=\"text-align: right;\">\n",
       "      <th></th>\n",
       "      <th>tweet_id</th>\n",
       "      <th>jpg_url</th>\n",
       "      <th>img_num</th>\n",
       "      <th>p1</th>\n",
       "      <th>p1_conf</th>\n",
       "      <th>p1_dog</th>\n",
       "      <th>p2</th>\n",
       "      <th>p2_conf</th>\n",
       "      <th>p2_dog</th>\n",
       "      <th>p3</th>\n",
       "      <th>p3_conf</th>\n",
       "      <th>p3_dog</th>\n",
       "    </tr>\n",
       "  </thead>\n",
       "  <tbody>\n",
       "    <tr>\n",
       "      <th>2065</th>\n",
       "      <td>890240255349198849</td>\n",
       "      <td>https://pbs.twimg.com/media/DFrEyVuW0AAO3t9.jpg</td>\n",
       "      <td>1</td>\n",
       "      <td>Pembroke</td>\n",
       "      <td>0.511319</td>\n",
       "      <td>True</td>\n",
       "      <td>Cardigan</td>\n",
       "      <td>0.451038</td>\n",
       "      <td>True</td>\n",
       "      <td>Chihuahua</td>\n",
       "      <td>0.029248</td>\n",
       "      <td>True</td>\n",
       "    </tr>\n",
       "    <tr>\n",
       "      <th>84</th>\n",
       "      <td>667502640335572993</td>\n",
       "      <td>https://pbs.twimg.com/media/CUNyHTMUYAAQVch.jpg</td>\n",
       "      <td>1</td>\n",
       "      <td>Labrador_retriever</td>\n",
       "      <td>0.996709</td>\n",
       "      <td>True</td>\n",
       "      <td>golden_retriever</td>\n",
       "      <td>0.001688</td>\n",
       "      <td>True</td>\n",
       "      <td>beagle</td>\n",
       "      <td>0.000712</td>\n",
       "      <td>True</td>\n",
       "    </tr>\n",
       "  </tbody>\n",
       "</table>\n",
       "</div>"
      ],
      "text/plain": [
       "                tweet_id                                          jpg_url  \\\n",
       "2065  890240255349198849  https://pbs.twimg.com/media/DFrEyVuW0AAO3t9.jpg   \n",
       "84    667502640335572993  https://pbs.twimg.com/media/CUNyHTMUYAAQVch.jpg   \n",
       "\n",
       "      img_num                  p1   p1_conf  p1_dog                p2  \\\n",
       "2065        1            Pembroke  0.511319    True          Cardigan   \n",
       "84          1  Labrador_retriever  0.996709    True  golden_retriever   \n",
       "\n",
       "       p2_conf  p2_dog         p3   p3_conf  p3_dog  \n",
       "2065  0.451038    True  Chihuahua  0.029248    True  \n",
       "84    0.001688    True     beagle  0.000712    True  "
      ]
     },
     "execution_count": 4,
     "metadata": {},
     "output_type": "execute_result"
    }
   ],
   "source": [
    "df_prediction.sample(2)"
   ]
  },
  {
   "cell_type": "markdown",
   "metadata": {},
   "source": [
    "<a id=\"coleta:twitter-api\"></a>"
   ]
  },
  {
   "cell_type": "markdown",
   "metadata": {},
   "source": [
    "## Coleta: Twitter API"
   ]
  },
  {
   "cell_type": "code",
   "execution_count": 5,
   "metadata": {},
   "outputs": [],
   "source": [
    "# Carregar configuração do Twitter App\n",
    "with open('twitter_config.json', 'r', encoding='utf-8') as file:\n",
    "    app_config = json.load(file)"
   ]
  },
  {
   "cell_type": "code",
   "execution_count": 6,
   "metadata": {},
   "outputs": [],
   "source": [
    "# Atribuição da configurações a variaveis locais\n",
    "api_key = app_config['api_key']\n",
    "api_secret = app_config['api_secret']\n",
    "access_token = app_config['access_token']\n",
    "access_secret = app_config['access_secret']"
   ]
  },
  {
   "cell_type": "code",
   "execution_count": 7,
   "metadata": {},
   "outputs": [],
   "source": [
    "# Autentificação ao Twitter App\n",
    "auth = tweepy.OAuthHandler(api_key, api_secret)\n",
    "auth.set_access_token(access_token, access_secret)\n",
    "\n",
    "api = tweepy.API(auth, wait_on_rate_limit=True, wait_on_rate_limit_notify=True)"
   ]
  },
  {
   "cell_type": "markdown",
   "metadata": {},
   "source": [
    "Buscar dados do histórico de Tweets na API"
   ]
  },
  {
   "cell_type": "code",
   "execution_count": 8,
   "metadata": {},
   "outputs": [
    {
     "name": "stdout",
     "output_type": "stream",
     "text": [
      "Dados já salvos em disco, não serão executadas novas requisições à API do Twitter.\n"
     ]
    }
   ],
   "source": [
    "json_path = 'data/tweet_json.txt'\n",
    "error_log = 'data/tweet_error.log'\n",
    "\n",
    "# Salvar Tweets localmente\n",
    "if(not os.path.isfile(json_path)):\n",
    "    print('Aguarde. Dado o volume de requisições, a coleta de tweets pode demorar alguns minutos.')\n",
    "    tweet_count = 0\n",
    "    for tweet_id in df_twitter_arc.tweet_id:\n",
    "        print('{percent}%'.format(percent=int((++tweet_count/df_twitter_arc.tweet_id.size)*100)))\n",
    "        try:\n",
    "            status = api.get_status(tweet_id)\n",
    "            with open(json_path, 'a', newline='\\n') as file:\n",
    "                file.write(f'{json.dumps(status._json)}\\n')\n",
    "\n",
    "        except Exception as err:\n",
    "            with open(error_log, 'a', newline='\\n') as log:\n",
    "                log.write(f'{str(tweet_id)}: {str(err.args[0])}\\n')\n",
    "            print(f'{str(tweet_id)}: {str(err.args[0])}')\n",
    "        \n",
    "        clear_output(wait=True)\n",
    "else:\n",
    "    print('Dados já salvos em disco, não serão executadas novas requisições à API do Twitter.')\n",
    "        "
   ]
  },
  {
   "cell_type": "code",
   "execution_count": 9,
   "metadata": {},
   "outputs": [],
   "source": [
    "# Criar uma lista de Dictionaries com os Tweets carregados\n",
    "tweets = []\n",
    "\n",
    "with open(json_path, 'r') as file:\n",
    "    for line in file:\n",
    "        try:\n",
    "            tweet = json.loads(line)\n",
    "            \n",
    "            if(tweet.get('entities', False)):\n",
    "                if(tweet['entities'].get('media', False) and tweet['entities']['media'][0].get('media_url', False)):\n",
    "                    tweets.append({\n",
    "                        'id': int(tweet['id']),\n",
    "                        'created_at': tweet['created_at'],\n",
    "                        'in_reply_to_status_id': str(tweet['in_reply_to_status_id']),\n",
    "                        'in_reply_to_user_id': str(tweet['in_reply_to_user_id']),\n",
    "                        'is_quote_status': tweet['is_quote_status'],\n",
    "                        'retweet_count': int(tweet['retweet_count']),\n",
    "                        'favorite_count': int(tweet['favorite_count']),\n",
    "                        'media_url': tweet['entities']['media'][0]['media_url'],\n",
    "                        'retweeted': tweet['retweeted'],\n",
    "                        'favorited': tweet['favorited']\n",
    "                    })\n",
    "            \n",
    "            \n",
    "        except Exception as e:\n",
    "            print(e) \n",
    "            \n",
    "        "
   ]
  },
  {
   "cell_type": "code",
   "execution_count": 10,
   "metadata": {},
   "outputs": [],
   "source": [
    "# Criar dataframe de Tweets consultados na API\n",
    "columns = tweets[0].keys()\n",
    "df_tweets_api = pd.DataFrame(tweets, columns = columns)"
   ]
  },
  {
   "cell_type": "markdown",
   "metadata": {},
   "source": [
    "------\n",
    "<a id=\"avaliacao\"></a>\n",
    "\n",
    "# Avaliação"
   ]
  },
  {
   "cell_type": "markdown",
   "metadata": {},
   "source": [
    "<a id=\"avaliacao:twitter-archive\"></a>\n",
    "\n",
    "## Avaliação: Twitter data archive"
   ]
  },
  {
   "cell_type": "code",
   "execution_count": 11,
   "metadata": {},
   "outputs": [
    {
     "data": {
      "text/html": [
       "<div>\n",
       "<style scoped>\n",
       "    .dataframe tbody tr th:only-of-type {\n",
       "        vertical-align: middle;\n",
       "    }\n",
       "\n",
       "    .dataframe tbody tr th {\n",
       "        vertical-align: top;\n",
       "    }\n",
       "\n",
       "    .dataframe thead th {\n",
       "        text-align: right;\n",
       "    }\n",
       "</style>\n",
       "<table border=\"1\" class=\"dataframe\">\n",
       "  <thead>\n",
       "    <tr style=\"text-align: right;\">\n",
       "      <th></th>\n",
       "      <th>tweet_id</th>\n",
       "      <th>in_reply_to_status_id</th>\n",
       "      <th>in_reply_to_user_id</th>\n",
       "      <th>timestamp</th>\n",
       "      <th>source</th>\n",
       "      <th>text</th>\n",
       "      <th>retweeted_status_id</th>\n",
       "      <th>retweeted_status_user_id</th>\n",
       "      <th>retweeted_status_timestamp</th>\n",
       "      <th>expanded_urls</th>\n",
       "      <th>rating_numerator</th>\n",
       "      <th>rating_denominator</th>\n",
       "      <th>name</th>\n",
       "      <th>doggo</th>\n",
       "      <th>floofer</th>\n",
       "      <th>pupper</th>\n",
       "      <th>puppo</th>\n",
       "    </tr>\n",
       "  </thead>\n",
       "  <tbody>\n",
       "    <tr>\n",
       "      <th>186</th>\n",
       "      <td>856288084350160898</td>\n",
       "      <td>8.562860e+17</td>\n",
       "      <td>279280991.0</td>\n",
       "      <td>2017-04-23 23:26:03 +0000</td>\n",
       "      <td>&lt;a href=\"http://twitter.com/download/iphone\" r...</td>\n",
       "      <td>@xianmcguire @Jenna_Marbles Kardashians wouldn...</td>\n",
       "      <td>NaN</td>\n",
       "      <td>NaN</td>\n",
       "      <td>NaN</td>\n",
       "      <td>NaN</td>\n",
       "      <td>14</td>\n",
       "      <td>10</td>\n",
       "      <td>None</td>\n",
       "      <td>None</td>\n",
       "      <td>None</td>\n",
       "      <td>None</td>\n",
       "      <td>None</td>\n",
       "    </tr>\n",
       "    <tr>\n",
       "      <th>1802</th>\n",
       "      <td>676949632774234114</td>\n",
       "      <td>NaN</td>\n",
       "      <td>NaN</td>\n",
       "      <td>2015-12-16 02:19:04 +0000</td>\n",
       "      <td>&lt;a href=\"http://twitter.com/download/iphone\" r...</td>\n",
       "      <td>This is Tyrus. He's a Speckled Centennial Tico...</td>\n",
       "      <td>NaN</td>\n",
       "      <td>NaN</td>\n",
       "      <td>NaN</td>\n",
       "      <td>https://twitter.com/dog_rates/status/676949632...</td>\n",
       "      <td>8</td>\n",
       "      <td>10</td>\n",
       "      <td>Tyrus</td>\n",
       "      <td>None</td>\n",
       "      <td>None</td>\n",
       "      <td>None</td>\n",
       "      <td>None</td>\n",
       "    </tr>\n",
       "    <tr>\n",
       "      <th>134</th>\n",
       "      <td>866686824827068416</td>\n",
       "      <td>NaN</td>\n",
       "      <td>NaN</td>\n",
       "      <td>2017-05-22 16:06:55 +0000</td>\n",
       "      <td>&lt;a href=\"http://twitter.com/download/iphone\" r...</td>\n",
       "      <td>This is Lili. She can't believe you betrayed h...</td>\n",
       "      <td>NaN</td>\n",
       "      <td>NaN</td>\n",
       "      <td>NaN</td>\n",
       "      <td>https://twitter.com/dog_rates/status/866686824...</td>\n",
       "      <td>12</td>\n",
       "      <td>10</td>\n",
       "      <td>Lili</td>\n",
       "      <td>None</td>\n",
       "      <td>None</td>\n",
       "      <td>None</td>\n",
       "      <td>None</td>\n",
       "    </tr>\n",
       "    <tr>\n",
       "      <th>2338</th>\n",
       "      <td>666104133288665088</td>\n",
       "      <td>NaN</td>\n",
       "      <td>NaN</td>\n",
       "      <td>2015-11-16 04:02:55 +0000</td>\n",
       "      <td>&lt;a href=\"http://twitter.com/download/iphone\" r...</td>\n",
       "      <td>Not familiar with this breed. No tail (weird)....</td>\n",
       "      <td>NaN</td>\n",
       "      <td>NaN</td>\n",
       "      <td>NaN</td>\n",
       "      <td>https://twitter.com/dog_rates/status/666104133...</td>\n",
       "      <td>1</td>\n",
       "      <td>10</td>\n",
       "      <td>None</td>\n",
       "      <td>None</td>\n",
       "      <td>None</td>\n",
       "      <td>None</td>\n",
       "      <td>None</td>\n",
       "    </tr>\n",
       "    <tr>\n",
       "      <th>2319</th>\n",
       "      <td>666447344410484738</td>\n",
       "      <td>NaN</td>\n",
       "      <td>NaN</td>\n",
       "      <td>2015-11-17 02:46:43 +0000</td>\n",
       "      <td>&lt;a href=\"http://twitter.com/download/iphone\" r...</td>\n",
       "      <td>This is Scout. She is a black Downton Abbey. I...</td>\n",
       "      <td>NaN</td>\n",
       "      <td>NaN</td>\n",
       "      <td>NaN</td>\n",
       "      <td>https://twitter.com/dog_rates/status/666447344...</td>\n",
       "      <td>9</td>\n",
       "      <td>10</td>\n",
       "      <td>Scout</td>\n",
       "      <td>None</td>\n",
       "      <td>None</td>\n",
       "      <td>None</td>\n",
       "      <td>None</td>\n",
       "    </tr>\n",
       "  </tbody>\n",
       "</table>\n",
       "</div>"
      ],
      "text/plain": [
       "                tweet_id  in_reply_to_status_id  in_reply_to_user_id  \\\n",
       "186   856288084350160898           8.562860e+17          279280991.0   \n",
       "1802  676949632774234114                    NaN                  NaN   \n",
       "134   866686824827068416                    NaN                  NaN   \n",
       "2338  666104133288665088                    NaN                  NaN   \n",
       "2319  666447344410484738                    NaN                  NaN   \n",
       "\n",
       "                      timestamp  \\\n",
       "186   2017-04-23 23:26:03 +0000   \n",
       "1802  2015-12-16 02:19:04 +0000   \n",
       "134   2017-05-22 16:06:55 +0000   \n",
       "2338  2015-11-16 04:02:55 +0000   \n",
       "2319  2015-11-17 02:46:43 +0000   \n",
       "\n",
       "                                                 source  \\\n",
       "186   <a href=\"http://twitter.com/download/iphone\" r...   \n",
       "1802  <a href=\"http://twitter.com/download/iphone\" r...   \n",
       "134   <a href=\"http://twitter.com/download/iphone\" r...   \n",
       "2338  <a href=\"http://twitter.com/download/iphone\" r...   \n",
       "2319  <a href=\"http://twitter.com/download/iphone\" r...   \n",
       "\n",
       "                                                   text  retweeted_status_id  \\\n",
       "186   @xianmcguire @Jenna_Marbles Kardashians wouldn...                  NaN   \n",
       "1802  This is Tyrus. He's a Speckled Centennial Tico...                  NaN   \n",
       "134   This is Lili. She can't believe you betrayed h...                  NaN   \n",
       "2338  Not familiar with this breed. No tail (weird)....                  NaN   \n",
       "2319  This is Scout. She is a black Downton Abbey. I...                  NaN   \n",
       "\n",
       "      retweeted_status_user_id retweeted_status_timestamp  \\\n",
       "186                        NaN                        NaN   \n",
       "1802                       NaN                        NaN   \n",
       "134                        NaN                        NaN   \n",
       "2338                       NaN                        NaN   \n",
       "2319                       NaN                        NaN   \n",
       "\n",
       "                                          expanded_urls  rating_numerator  \\\n",
       "186                                                 NaN                14   \n",
       "1802  https://twitter.com/dog_rates/status/676949632...                 8   \n",
       "134   https://twitter.com/dog_rates/status/866686824...                12   \n",
       "2338  https://twitter.com/dog_rates/status/666104133...                 1   \n",
       "2319  https://twitter.com/dog_rates/status/666447344...                 9   \n",
       "\n",
       "      rating_denominator   name doggo floofer pupper puppo  \n",
       "186                   10   None  None    None   None  None  \n",
       "1802                  10  Tyrus  None    None   None  None  \n",
       "134                   10   Lili  None    None   None  None  \n",
       "2338                  10   None  None    None   None  None  \n",
       "2319                  10  Scout  None    None   None  None  "
      ]
     },
     "execution_count": 11,
     "metadata": {},
     "output_type": "execute_result"
    }
   ],
   "source": [
    " df_twitter_arc.sample(5)"
   ]
  },
  {
   "cell_type": "code",
   "execution_count": 12,
   "metadata": {},
   "outputs": [
    {
     "data": {
      "text/html": [
       "<div>\n",
       "<style scoped>\n",
       "    .dataframe tbody tr th:only-of-type {\n",
       "        vertical-align: middle;\n",
       "    }\n",
       "\n",
       "    .dataframe tbody tr th {\n",
       "        vertical-align: top;\n",
       "    }\n",
       "\n",
       "    .dataframe thead th {\n",
       "        text-align: right;\n",
       "    }\n",
       "</style>\n",
       "<table border=\"1\" class=\"dataframe\">\n",
       "  <thead>\n",
       "    <tr style=\"text-align: right;\">\n",
       "      <th></th>\n",
       "      <th>tweet_id</th>\n",
       "      <th>in_reply_to_status_id</th>\n",
       "      <th>in_reply_to_user_id</th>\n",
       "      <th>retweeted_status_id</th>\n",
       "      <th>retweeted_status_user_id</th>\n",
       "      <th>rating_numerator</th>\n",
       "      <th>rating_denominator</th>\n",
       "    </tr>\n",
       "  </thead>\n",
       "  <tbody>\n",
       "    <tr>\n",
       "      <th>count</th>\n",
       "      <td>2.356000e+03</td>\n",
       "      <td>7.800000e+01</td>\n",
       "      <td>7.800000e+01</td>\n",
       "      <td>1.810000e+02</td>\n",
       "      <td>1.810000e+02</td>\n",
       "      <td>2356.000000</td>\n",
       "      <td>2356.000000</td>\n",
       "    </tr>\n",
       "    <tr>\n",
       "      <th>mean</th>\n",
       "      <td>7.427716e+17</td>\n",
       "      <td>7.455079e+17</td>\n",
       "      <td>2.014171e+16</td>\n",
       "      <td>7.720400e+17</td>\n",
       "      <td>1.241698e+16</td>\n",
       "      <td>13.126486</td>\n",
       "      <td>10.455433</td>\n",
       "    </tr>\n",
       "    <tr>\n",
       "      <th>std</th>\n",
       "      <td>6.856705e+16</td>\n",
       "      <td>7.582492e+16</td>\n",
       "      <td>1.252797e+17</td>\n",
       "      <td>6.236928e+16</td>\n",
       "      <td>9.599254e+16</td>\n",
       "      <td>45.876648</td>\n",
       "      <td>6.745237</td>\n",
       "    </tr>\n",
       "    <tr>\n",
       "      <th>min</th>\n",
       "      <td>6.660209e+17</td>\n",
       "      <td>6.658147e+17</td>\n",
       "      <td>1.185634e+07</td>\n",
       "      <td>6.661041e+17</td>\n",
       "      <td>7.832140e+05</td>\n",
       "      <td>0.000000</td>\n",
       "      <td>0.000000</td>\n",
       "    </tr>\n",
       "    <tr>\n",
       "      <th>25%</th>\n",
       "      <td>6.783989e+17</td>\n",
       "      <td>6.757419e+17</td>\n",
       "      <td>3.086374e+08</td>\n",
       "      <td>7.186315e+17</td>\n",
       "      <td>4.196984e+09</td>\n",
       "      <td>10.000000</td>\n",
       "      <td>10.000000</td>\n",
       "    </tr>\n",
       "    <tr>\n",
       "      <th>50%</th>\n",
       "      <td>7.196279e+17</td>\n",
       "      <td>7.038708e+17</td>\n",
       "      <td>4.196984e+09</td>\n",
       "      <td>7.804657e+17</td>\n",
       "      <td>4.196984e+09</td>\n",
       "      <td>11.000000</td>\n",
       "      <td>10.000000</td>\n",
       "    </tr>\n",
       "    <tr>\n",
       "      <th>75%</th>\n",
       "      <td>7.993373e+17</td>\n",
       "      <td>8.257804e+17</td>\n",
       "      <td>4.196984e+09</td>\n",
       "      <td>8.203146e+17</td>\n",
       "      <td>4.196984e+09</td>\n",
       "      <td>12.000000</td>\n",
       "      <td>10.000000</td>\n",
       "    </tr>\n",
       "    <tr>\n",
       "      <th>max</th>\n",
       "      <td>8.924206e+17</td>\n",
       "      <td>8.862664e+17</td>\n",
       "      <td>8.405479e+17</td>\n",
       "      <td>8.874740e+17</td>\n",
       "      <td>7.874618e+17</td>\n",
       "      <td>1776.000000</td>\n",
       "      <td>170.000000</td>\n",
       "    </tr>\n",
       "  </tbody>\n",
       "</table>\n",
       "</div>"
      ],
      "text/plain": [
       "           tweet_id  in_reply_to_status_id  in_reply_to_user_id  \\\n",
       "count  2.356000e+03           7.800000e+01         7.800000e+01   \n",
       "mean   7.427716e+17           7.455079e+17         2.014171e+16   \n",
       "std    6.856705e+16           7.582492e+16         1.252797e+17   \n",
       "min    6.660209e+17           6.658147e+17         1.185634e+07   \n",
       "25%    6.783989e+17           6.757419e+17         3.086374e+08   \n",
       "50%    7.196279e+17           7.038708e+17         4.196984e+09   \n",
       "75%    7.993373e+17           8.257804e+17         4.196984e+09   \n",
       "max    8.924206e+17           8.862664e+17         8.405479e+17   \n",
       "\n",
       "       retweeted_status_id  retweeted_status_user_id  rating_numerator  \\\n",
       "count         1.810000e+02              1.810000e+02       2356.000000   \n",
       "mean          7.720400e+17              1.241698e+16         13.126486   \n",
       "std           6.236928e+16              9.599254e+16         45.876648   \n",
       "min           6.661041e+17              7.832140e+05          0.000000   \n",
       "25%           7.186315e+17              4.196984e+09         10.000000   \n",
       "50%           7.804657e+17              4.196984e+09         11.000000   \n",
       "75%           8.203146e+17              4.196984e+09         12.000000   \n",
       "max           8.874740e+17              7.874618e+17       1776.000000   \n",
       "\n",
       "       rating_denominator  \n",
       "count         2356.000000  \n",
       "mean            10.455433  \n",
       "std              6.745237  \n",
       "min              0.000000  \n",
       "25%             10.000000  \n",
       "50%             10.000000  \n",
       "75%             10.000000  \n",
       "max            170.000000  "
      ]
     },
     "execution_count": 12,
     "metadata": {},
     "output_type": "execute_result"
    }
   ],
   "source": [
    "df_twitter_arc.describe()"
   ]
  },
  {
   "cell_type": "code",
   "execution_count": 13,
   "metadata": {},
   "outputs": [
    {
     "name": "stdout",
     "output_type": "stream",
     "text": [
      "<class 'pandas.core.frame.DataFrame'>\n",
      "RangeIndex: 2356 entries, 0 to 2355\n",
      "Data columns (total 17 columns):\n",
      "tweet_id                      2356 non-null int64\n",
      "in_reply_to_status_id         78 non-null float64\n",
      "in_reply_to_user_id           78 non-null float64\n",
      "timestamp                     2356 non-null object\n",
      "source                        2356 non-null object\n",
      "text                          2356 non-null object\n",
      "retweeted_status_id           181 non-null float64\n",
      "retweeted_status_user_id      181 non-null float64\n",
      "retweeted_status_timestamp    181 non-null object\n",
      "expanded_urls                 2297 non-null object\n",
      "rating_numerator              2356 non-null int64\n",
      "rating_denominator            2356 non-null int64\n",
      "name                          2356 non-null object\n",
      "doggo                         2356 non-null object\n",
      "floofer                       2356 non-null object\n",
      "pupper                        2356 non-null object\n",
      "puppo                         2356 non-null object\n",
      "dtypes: float64(4), int64(3), object(10)\n",
      "memory usage: 313.0+ KB\n"
     ]
    }
   ],
   "source": [
    "df_twitter_arc.info()"
   ]
  },
  {
   "cell_type": "markdown",
   "metadata": {},
   "source": [
    "<a id=\"twitter-arc:info\"></a>\n",
    "* Dados incompletos, contém apenas 2356 registros dos 5000 anunciados\n",
    "* `in_reply_to_status_id`, `in_reply_to_user_id`, `retweeted_status_id` e `retweeted_status_user_id` em `float`\n",
    "* `timestamp` e `retweeted_status_timestamp` em `string`"
   ]
  },
  {
   "cell_type": "code",
   "execution_count": 14,
   "metadata": {},
   "outputs": [
    {
     "data": {
      "text/html": [
       "<div>\n",
       "<style scoped>\n",
       "    .dataframe tbody tr th:only-of-type {\n",
       "        vertical-align: middle;\n",
       "    }\n",
       "\n",
       "    .dataframe tbody tr th {\n",
       "        vertical-align: top;\n",
       "    }\n",
       "\n",
       "    .dataframe thead th {\n",
       "        text-align: right;\n",
       "    }\n",
       "</style>\n",
       "<table border=\"1\" class=\"dataframe\">\n",
       "  <thead>\n",
       "    <tr style=\"text-align: right;\">\n",
       "      <th></th>\n",
       "      <th>tweet_id</th>\n",
       "      <th>in_reply_to_status_id</th>\n",
       "      <th>in_reply_to_user_id</th>\n",
       "      <th>timestamp</th>\n",
       "      <th>source</th>\n",
       "      <th>text</th>\n",
       "      <th>retweeted_status_id</th>\n",
       "      <th>retweeted_status_user_id</th>\n",
       "      <th>retweeted_status_timestamp</th>\n",
       "      <th>expanded_urls</th>\n",
       "      <th>rating_numerator</th>\n",
       "      <th>rating_denominator</th>\n",
       "      <th>name</th>\n",
       "      <th>doggo</th>\n",
       "      <th>floofer</th>\n",
       "      <th>pupper</th>\n",
       "      <th>puppo</th>\n",
       "    </tr>\n",
       "  </thead>\n",
       "  <tbody>\n",
       "  </tbody>\n",
       "</table>\n",
       "</div>"
      ],
      "text/plain": [
       "Empty DataFrame\n",
       "Columns: [tweet_id, in_reply_to_status_id, in_reply_to_user_id, timestamp, source, text, retweeted_status_id, retweeted_status_user_id, retweeted_status_timestamp, expanded_urls, rating_numerator, rating_denominator, name, doggo, floofer, pupper, puppo]\n",
       "Index: []"
      ]
     },
     "execution_count": 14,
     "metadata": {},
     "output_type": "execute_result"
    }
   ],
   "source": [
    "# Verificar se há IDs duplicados\n",
    "df_twitter_arc[df_twitter_arc.tweet_id.duplicated()]"
   ]
  },
  {
   "cell_type": "markdown",
   "metadata": {},
   "source": [
    "<a id=\"twitter-arc:source\"></a>"
   ]
  },
  {
   "cell_type": "code",
   "execution_count": 15,
   "metadata": {},
   "outputs": [
    {
     "data": {
      "text/plain": [
       "2269    <a href=\"http://twitter.com\" rel=\"nofollow\">Tw...\n",
       "1403    <a href=\"http://twitter.com/download/iphone\" r...\n",
       "105     <a href=\"http://twitter.com/download/iphone\" r...\n",
       "915     <a href=\"http://twitter.com/download/iphone\" r...\n",
       "1073    <a href=\"http://twitter.com/download/iphone\" r...\n",
       "448     <a href=\"http://twitter.com/download/iphone\" r...\n",
       "476     <a href=\"http://twitter.com/download/iphone\" r...\n",
       "1669    <a href=\"http://twitter.com/download/iphone\" r...\n",
       "921     <a href=\"http://twitter.com/download/iphone\" r...\n",
       "429     <a href=\"http://twitter.com/download/iphone\" r...\n",
       "Name: source, dtype: object"
      ]
     },
     "execution_count": 15,
     "metadata": {},
     "output_type": "execute_result"
    }
   ],
   "source": [
    "# Visualizar exemplos de dados da coluna `source`\n",
    "df_twitter_arc.loc[:, 'source'].sample(10)"
   ]
  },
  {
   "cell_type": "markdown",
   "metadata": {},
   "source": [
    "Variável `source` é uma URL para a Aplicação utilizada no tweet, sem valor para a unidade de observação"
   ]
  },
  {
   "cell_type": "markdown",
   "metadata": {},
   "source": [
    "<a id=\"twitter-arc:name\"></a>"
   ]
  },
  {
   "cell_type": "code",
   "execution_count": 16,
   "metadata": {},
   "outputs": [
    {
     "data": {
      "text/plain": [
       "1610       None\n",
       "2126    Butters\n",
       "1510     Bailey\n",
       "298        None\n",
       "1291     Cooper\n",
       "280     Winston\n",
       "2140    Raphael\n",
       "576        None\n",
       "2004      Franq\n",
       "352        None\n",
       "Name: name, dtype: object"
      ]
     },
     "execution_count": 16,
     "metadata": {},
     "output_type": "execute_result"
    }
   ],
   "source": [
    "# Visualizar exemplos da coluna `name`\n",
    "df_twitter_arc.name.sample(10)"
   ]
  },
  {
   "cell_type": "code",
   "execution_count": 17,
   "metadata": {},
   "outputs": [
    {
     "data": {
      "text/plain": [
       "745"
      ]
     },
     "execution_count": 17,
     "metadata": {},
     "output_type": "execute_result"
    }
   ],
   "source": [
    "df_twitter_arc[df_twitter_arc.name == 'None'].name.count()"
   ]
  },
  {
   "cell_type": "markdown",
   "metadata": {},
   "source": [
    "* Nomes (`name`) preenchidos com valor literal igual a `'None'`, supostamente um valor não preenchido, vazio"
   ]
  },
  {
   "cell_type": "markdown",
   "metadata": {},
   "source": [
    "<a id=\"twitter-arc:category\"></id>"
   ]
  },
  {
   "cell_type": "code",
   "execution_count": 18,
   "metadata": {},
   "outputs": [
    {
     "data": {
      "text/html": [
       "<div>\n",
       "<style scoped>\n",
       "    .dataframe tbody tr th:only-of-type {\n",
       "        vertical-align: middle;\n",
       "    }\n",
       "\n",
       "    .dataframe tbody tr th {\n",
       "        vertical-align: top;\n",
       "    }\n",
       "\n",
       "    .dataframe thead th {\n",
       "        text-align: right;\n",
       "    }\n",
       "</style>\n",
       "<table border=\"1\" class=\"dataframe\">\n",
       "  <thead>\n",
       "    <tr style=\"text-align: right;\">\n",
       "      <th></th>\n",
       "      <th>doggo</th>\n",
       "      <th>floofer</th>\n",
       "      <th>pupper</th>\n",
       "      <th>puppo</th>\n",
       "    </tr>\n",
       "  </thead>\n",
       "  <tbody>\n",
       "    <tr>\n",
       "      <th>2074</th>\n",
       "      <td>None</td>\n",
       "      <td>None</td>\n",
       "      <td>None</td>\n",
       "      <td>None</td>\n",
       "    </tr>\n",
       "    <tr>\n",
       "      <th>1043</th>\n",
       "      <td>None</td>\n",
       "      <td>None</td>\n",
       "      <td>None</td>\n",
       "      <td>None</td>\n",
       "    </tr>\n",
       "    <tr>\n",
       "      <th>1209</th>\n",
       "      <td>None</td>\n",
       "      <td>None</td>\n",
       "      <td>None</td>\n",
       "      <td>None</td>\n",
       "    </tr>\n",
       "    <tr>\n",
       "      <th>254</th>\n",
       "      <td>None</td>\n",
       "      <td>None</td>\n",
       "      <td>None</td>\n",
       "      <td>None</td>\n",
       "    </tr>\n",
       "    <tr>\n",
       "      <th>317</th>\n",
       "      <td>None</td>\n",
       "      <td>None</td>\n",
       "      <td>None</td>\n",
       "      <td>None</td>\n",
       "    </tr>\n",
       "    <tr>\n",
       "      <th>136</th>\n",
       "      <td>None</td>\n",
       "      <td>None</td>\n",
       "      <td>None</td>\n",
       "      <td>None</td>\n",
       "    </tr>\n",
       "    <tr>\n",
       "      <th>2177</th>\n",
       "      <td>None</td>\n",
       "      <td>None</td>\n",
       "      <td>None</td>\n",
       "      <td>None</td>\n",
       "    </tr>\n",
       "    <tr>\n",
       "      <th>2204</th>\n",
       "      <td>None</td>\n",
       "      <td>None</td>\n",
       "      <td>None</td>\n",
       "      <td>None</td>\n",
       "    </tr>\n",
       "    <tr>\n",
       "      <th>1807</th>\n",
       "      <td>None</td>\n",
       "      <td>None</td>\n",
       "      <td>pupper</td>\n",
       "      <td>None</td>\n",
       "    </tr>\n",
       "    <tr>\n",
       "      <th>431</th>\n",
       "      <td>None</td>\n",
       "      <td>None</td>\n",
       "      <td>None</td>\n",
       "      <td>None</td>\n",
       "    </tr>\n",
       "  </tbody>\n",
       "</table>\n",
       "</div>"
      ],
      "text/plain": [
       "     doggo floofer  pupper puppo\n",
       "2074  None    None    None  None\n",
       "1043  None    None    None  None\n",
       "1209  None    None    None  None\n",
       "254   None    None    None  None\n",
       "317   None    None    None  None\n",
       "136   None    None    None  None\n",
       "2177  None    None    None  None\n",
       "2204  None    None    None  None\n",
       "1807  None    None  pupper  None\n",
       "431   None    None    None  None"
      ]
     },
     "execution_count": 18,
     "metadata": {},
     "output_type": "execute_result"
    }
   ],
   "source": [
    "# Visualizar exemplo de dados das colunas 'doggo' a 'puppo'\n",
    "df_twitter_arc.loc[:,'doggo':].sample(10)"
   ]
  },
  {
   "cell_type": "markdown",
   "metadata": {},
   "source": [
    "* Valores não preenchidos como 'None' literal"
   ]
  },
  {
   "cell_type": "markdown",
   "metadata": {},
   "source": [
    "Uma variável em várias colunas"
   ]
  },
  {
   "cell_type": "code",
   "execution_count": 19,
   "metadata": {},
   "outputs": [
    {
     "data": {
      "text/plain": [
       "doggo      2\n",
       "floofer    2\n",
       "pupper     2\n",
       "puppo      2\n",
       "dtype: int64"
      ]
     },
     "execution_count": 19,
     "metadata": {},
     "output_type": "execute_result"
    }
   ],
   "source": [
    "# Verificar padrão no preenchimento das classificações\n",
    "df_twitter_arc.loc[:,'doggo':].nunique()"
   ]
  },
  {
   "cell_type": "code",
   "execution_count": 20,
   "metadata": {},
   "outputs": [
    {
     "data": {
      "text/plain": [
       "doggo      0\n",
       "floofer    0\n",
       "pupper     0\n",
       "puppo      0\n",
       "dtype: int64"
      ]
     },
     "execution_count": 20,
     "metadata": {},
     "output_type": "execute_result"
    }
   ],
   "source": [
    "df_twitter_arc.loc[:, 'doggo':'puppo'].isna().sum()"
   ]
  },
  {
   "cell_type": "markdown",
   "metadata": {},
   "source": [
    "<a id=\"twitter-arc:expanded_urls\"></a>\n",
    "\n",
    "Exemplos da coluna `expanded_urls`"
   ]
  },
  {
   "cell_type": "code",
   "execution_count": 21,
   "metadata": {},
   "outputs": [
    {
     "data": {
      "text/plain": [
       "1882    https://twitter.com/dog_rates/status/674999807...\n",
       "1135    https://twitter.com/dog_rates/status/728409960...\n",
       "1006                        https://vine.co/v/iqIZFtOxEMB\n",
       "2106    https://twitter.com/dog_rates/status/670468609...\n",
       "510     https://twitter.com/dog_rates/status/812372279...\n",
       "1609    https://twitter.com/dog_rates/status/685547936...\n",
       "1412    https://twitter.com/dog_rates/status/698953797...\n",
       "729     https://twitter.com/dog_rates/status/781955203...\n",
       "32      https://twitter.com/dog_rates/status/886053434...\n",
       "1697    https://twitter.com/dog_rates/status/681231109...\n",
       "842     https://twitter.com/dog_rates/status/766793450...\n",
       "418     https://twitter.com/dog_rates/status/822462944...\n",
       "1469    https://twitter.com/dog_rates/status/694183373...\n",
       "447     https://twitter.com/dog_rates/status/819006400...\n",
       "1970    https://twitter.com/dog_rates/status/673295268...\n",
       "1931    https://twitter.com/dog_rates/status/674036086...\n",
       "36      https://twitter.com/dog_rates/status/830583320...\n",
       "905                         https://vine.co/v/hQJbaj1VpIz\n",
       "262     https://www.gofundme.com/get-indie-home/,https...\n",
       "2244    https://twitter.com/dog_rates/status/667886921...\n",
       "Name: expanded_urls, dtype: object"
      ]
     },
     "execution_count": 21,
     "metadata": {},
     "output_type": "execute_result"
    }
   ],
   "source": [
    "df_twitter_arc.loc[:, 'expanded_urls'].sample(20)"
   ]
  },
  {
   "cell_type": "code",
   "execution_count": 22,
   "metadata": {},
   "outputs": [
    {
     "data": {
      "text/plain": [
       "False    2297\n",
       "True       59\n",
       "Name: expanded_urls, dtype: int64"
      ]
     },
     "execution_count": 22,
     "metadata": {},
     "output_type": "execute_result"
    }
   ],
   "source": [
    "df_twitter_arc.loc[:, 'expanded_urls'].isna().value_counts()"
   ]
  },
  {
   "cell_type": "markdown",
   "metadata": {},
   "source": [
    "* Registros de `expanded_urls` com URLs para os twittes originais. Não apresenta valor a unidade em observacão"
   ]
  },
  {
   "cell_type": "markdown",
   "metadata": {},
   "source": [
    "------\n",
    "<a id=\"avaliacao:image-prediction\"></a>\n",
    "\n",
    "## Avaliação: Image prediction"
   ]
  },
  {
   "cell_type": "code",
   "execution_count": 23,
   "metadata": {},
   "outputs": [
    {
     "data": {
      "text/html": [
       "<div>\n",
       "<style scoped>\n",
       "    .dataframe tbody tr th:only-of-type {\n",
       "        vertical-align: middle;\n",
       "    }\n",
       "\n",
       "    .dataframe tbody tr th {\n",
       "        vertical-align: top;\n",
       "    }\n",
       "\n",
       "    .dataframe thead th {\n",
       "        text-align: right;\n",
       "    }\n",
       "</style>\n",
       "<table border=\"1\" class=\"dataframe\">\n",
       "  <thead>\n",
       "    <tr style=\"text-align: right;\">\n",
       "      <th></th>\n",
       "      <th>tweet_id</th>\n",
       "      <th>img_num</th>\n",
       "      <th>p1_conf</th>\n",
       "      <th>p2_conf</th>\n",
       "      <th>p3_conf</th>\n",
       "    </tr>\n",
       "  </thead>\n",
       "  <tbody>\n",
       "    <tr>\n",
       "      <th>count</th>\n",
       "      <td>2.075000e+03</td>\n",
       "      <td>2075.000000</td>\n",
       "      <td>2075.000000</td>\n",
       "      <td>2.075000e+03</td>\n",
       "      <td>2.075000e+03</td>\n",
       "    </tr>\n",
       "    <tr>\n",
       "      <th>mean</th>\n",
       "      <td>7.384514e+17</td>\n",
       "      <td>1.203855</td>\n",
       "      <td>0.594548</td>\n",
       "      <td>1.345886e-01</td>\n",
       "      <td>6.032417e-02</td>\n",
       "    </tr>\n",
       "    <tr>\n",
       "      <th>std</th>\n",
       "      <td>6.785203e+16</td>\n",
       "      <td>0.561875</td>\n",
       "      <td>0.271174</td>\n",
       "      <td>1.006657e-01</td>\n",
       "      <td>5.090593e-02</td>\n",
       "    </tr>\n",
       "    <tr>\n",
       "      <th>min</th>\n",
       "      <td>6.660209e+17</td>\n",
       "      <td>1.000000</td>\n",
       "      <td>0.044333</td>\n",
       "      <td>1.011300e-08</td>\n",
       "      <td>1.740170e-10</td>\n",
       "    </tr>\n",
       "    <tr>\n",
       "      <th>25%</th>\n",
       "      <td>6.764835e+17</td>\n",
       "      <td>1.000000</td>\n",
       "      <td>0.364412</td>\n",
       "      <td>5.388625e-02</td>\n",
       "      <td>1.622240e-02</td>\n",
       "    </tr>\n",
       "    <tr>\n",
       "      <th>50%</th>\n",
       "      <td>7.119988e+17</td>\n",
       "      <td>1.000000</td>\n",
       "      <td>0.588230</td>\n",
       "      <td>1.181810e-01</td>\n",
       "      <td>4.944380e-02</td>\n",
       "    </tr>\n",
       "    <tr>\n",
       "      <th>75%</th>\n",
       "      <td>7.932034e+17</td>\n",
       "      <td>1.000000</td>\n",
       "      <td>0.843855</td>\n",
       "      <td>1.955655e-01</td>\n",
       "      <td>9.180755e-02</td>\n",
       "    </tr>\n",
       "    <tr>\n",
       "      <th>max</th>\n",
       "      <td>8.924206e+17</td>\n",
       "      <td>4.000000</td>\n",
       "      <td>1.000000</td>\n",
       "      <td>4.880140e-01</td>\n",
       "      <td>2.734190e-01</td>\n",
       "    </tr>\n",
       "  </tbody>\n",
       "</table>\n",
       "</div>"
      ],
      "text/plain": [
       "           tweet_id      img_num      p1_conf       p2_conf       p3_conf\n",
       "count  2.075000e+03  2075.000000  2075.000000  2.075000e+03  2.075000e+03\n",
       "mean   7.384514e+17     1.203855     0.594548  1.345886e-01  6.032417e-02\n",
       "std    6.785203e+16     0.561875     0.271174  1.006657e-01  5.090593e-02\n",
       "min    6.660209e+17     1.000000     0.044333  1.011300e-08  1.740170e-10\n",
       "25%    6.764835e+17     1.000000     0.364412  5.388625e-02  1.622240e-02\n",
       "50%    7.119988e+17     1.000000     0.588230  1.181810e-01  4.944380e-02\n",
       "75%    7.932034e+17     1.000000     0.843855  1.955655e-01  9.180755e-02\n",
       "max    8.924206e+17     4.000000     1.000000  4.880140e-01  2.734190e-01"
      ]
     },
     "execution_count": 23,
     "metadata": {},
     "output_type": "execute_result"
    }
   ],
   "source": [
    "df_prediction.describe()"
   ]
  },
  {
   "cell_type": "markdown",
   "metadata": {},
   "source": [
    "<a id=\"image-prediction:info\"></info>"
   ]
  },
  {
   "cell_type": "code",
   "execution_count": 24,
   "metadata": {},
   "outputs": [
    {
     "name": "stdout",
     "output_type": "stream",
     "text": [
      "<class 'pandas.core.frame.DataFrame'>\n",
      "RangeIndex: 2075 entries, 0 to 2074\n",
      "Data columns (total 12 columns):\n",
      "tweet_id    2075 non-null int64\n",
      "jpg_url     2075 non-null object\n",
      "img_num     2075 non-null int64\n",
      "p1          2075 non-null object\n",
      "p1_conf     2075 non-null float64\n",
      "p1_dog      2075 non-null bool\n",
      "p2          2075 non-null object\n",
      "p2_conf     2075 non-null float64\n",
      "p2_dog      2075 non-null bool\n",
      "p3          2075 non-null object\n",
      "p3_conf     2075 non-null float64\n",
      "p3_dog      2075 non-null bool\n",
      "dtypes: bool(3), float64(3), int64(2), object(4)\n",
      "memory usage: 152.1+ KB\n"
     ]
    }
   ],
   "source": [
    "df_prediction.info()"
   ]
  },
  {
   "cell_type": "code",
   "execution_count": 25,
   "metadata": {},
   "outputs": [
    {
     "data": {
      "text/html": [
       "<div>\n",
       "<style scoped>\n",
       "    .dataframe tbody tr th:only-of-type {\n",
       "        vertical-align: middle;\n",
       "    }\n",
       "\n",
       "    .dataframe tbody tr th {\n",
       "        vertical-align: top;\n",
       "    }\n",
       "\n",
       "    .dataframe thead th {\n",
       "        text-align: right;\n",
       "    }\n",
       "</style>\n",
       "<table border=\"1\" class=\"dataframe\">\n",
       "  <thead>\n",
       "    <tr style=\"text-align: right;\">\n",
       "      <th></th>\n",
       "      <th>tweet_id</th>\n",
       "      <th>jpg_url</th>\n",
       "      <th>img_num</th>\n",
       "      <th>p1</th>\n",
       "      <th>p1_conf</th>\n",
       "      <th>p1_dog</th>\n",
       "      <th>p2</th>\n",
       "      <th>p2_conf</th>\n",
       "      <th>p2_dog</th>\n",
       "      <th>p3</th>\n",
       "      <th>p3_conf</th>\n",
       "      <th>p3_dog</th>\n",
       "    </tr>\n",
       "  </thead>\n",
       "  <tbody>\n",
       "    <tr>\n",
       "      <th>723</th>\n",
       "      <td>686007916130873345</td>\n",
       "      <td>https://pbs.twimg.com/media/CYUwjz-UAAEcdi8.jpg</td>\n",
       "      <td>1</td>\n",
       "      <td>Rhodesian_ridgeback</td>\n",
       "      <td>0.885301</td>\n",
       "      <td>True</td>\n",
       "      <td>redbone</td>\n",
       "      <td>0.042335</td>\n",
       "      <td>True</td>\n",
       "      <td>seat_belt</td>\n",
       "      <td>0.010493</td>\n",
       "      <td>False</td>\n",
       "    </tr>\n",
       "    <tr>\n",
       "      <th>1918</th>\n",
       "      <td>855459453768019968</td>\n",
       "      <td>https://pbs.twimg.com/media/C98z1ZAXsAEIFFn.jpg</td>\n",
       "      <td>2</td>\n",
       "      <td>Blenheim_spaniel</td>\n",
       "      <td>0.389513</td>\n",
       "      <td>True</td>\n",
       "      <td>Pekinese</td>\n",
       "      <td>0.188220</td>\n",
       "      <td>True</td>\n",
       "      <td>Japanese_spaniel</td>\n",
       "      <td>0.082628</td>\n",
       "      <td>True</td>\n",
       "    </tr>\n",
       "    <tr>\n",
       "      <th>1986</th>\n",
       "      <td>872486979161796608</td>\n",
       "      <td>https://pbs.twimg.com/media/DBuyRlTUwAAYhG9.jpg</td>\n",
       "      <td>1</td>\n",
       "      <td>Pembroke</td>\n",
       "      <td>0.931861</td>\n",
       "      <td>True</td>\n",
       "      <td>Cardigan</td>\n",
       "      <td>0.037721</td>\n",
       "      <td>True</td>\n",
       "      <td>Chihuahua</td>\n",
       "      <td>0.011967</td>\n",
       "      <td>True</td>\n",
       "    </tr>\n",
       "    <tr>\n",
       "      <th>1236</th>\n",
       "      <td>746726898085036033</td>\n",
       "      <td>https://pbs.twimg.com/media/ClzoJz7WYAELHSf.jpg</td>\n",
       "      <td>1</td>\n",
       "      <td>golden_retriever</td>\n",
       "      <td>0.256505</td>\n",
       "      <td>True</td>\n",
       "      <td>Labrador_retriever</td>\n",
       "      <td>0.252417</td>\n",
       "      <td>True</td>\n",
       "      <td>seat_belt</td>\n",
       "      <td>0.203163</td>\n",
       "      <td>False</td>\n",
       "    </tr>\n",
       "    <tr>\n",
       "      <th>359</th>\n",
       "      <td>672622327801233409</td>\n",
       "      <td>https://pbs.twimg.com/media/CVWicBbUYAIomjC.jpg</td>\n",
       "      <td>1</td>\n",
       "      <td>golden_retriever</td>\n",
       "      <td>0.952773</td>\n",
       "      <td>True</td>\n",
       "      <td>Labrador_retriever</td>\n",
       "      <td>0.010835</td>\n",
       "      <td>True</td>\n",
       "      <td>clumber</td>\n",
       "      <td>0.008786</td>\n",
       "      <td>True</td>\n",
       "    </tr>\n",
       "    <tr>\n",
       "      <th>2056</th>\n",
       "      <td>888554962724278272</td>\n",
       "      <td>https://pbs.twimg.com/media/DFTH_O-UQAACu20.jpg</td>\n",
       "      <td>3</td>\n",
       "      <td>Siberian_husky</td>\n",
       "      <td>0.700377</td>\n",
       "      <td>True</td>\n",
       "      <td>Eskimo_dog</td>\n",
       "      <td>0.166511</td>\n",
       "      <td>True</td>\n",
       "      <td>malamute</td>\n",
       "      <td>0.111411</td>\n",
       "      <td>True</td>\n",
       "    </tr>\n",
       "    <tr>\n",
       "      <th>1212</th>\n",
       "      <td>743210557239623680</td>\n",
       "      <td>https://pbs.twimg.com/media/ClBqDuDWkAALK2e.jpg</td>\n",
       "      <td>1</td>\n",
       "      <td>golden_retriever</td>\n",
       "      <td>0.930705</td>\n",
       "      <td>True</td>\n",
       "      <td>Chesapeake_Bay_retriever</td>\n",
       "      <td>0.025934</td>\n",
       "      <td>True</td>\n",
       "      <td>Labrador_retriever</td>\n",
       "      <td>0.007535</td>\n",
       "      <td>True</td>\n",
       "    </tr>\n",
       "    <tr>\n",
       "      <th>1848</th>\n",
       "      <td>839549326359670784</td>\n",
       "      <td>https://pbs.twimg.com/media/C6atpTLWYAIL7bU.jpg</td>\n",
       "      <td>1</td>\n",
       "      <td>swing</td>\n",
       "      <td>0.393527</td>\n",
       "      <td>False</td>\n",
       "      <td>Norwich_terrier</td>\n",
       "      <td>0.052480</td>\n",
       "      <td>True</td>\n",
       "      <td>Pembroke</td>\n",
       "      <td>0.049901</td>\n",
       "      <td>True</td>\n",
       "    </tr>\n",
       "    <tr>\n",
       "      <th>974</th>\n",
       "      <td>706901761596989440</td>\n",
       "      <td>https://pbs.twimg.com/media/Cc9rZlBWwAA56Ra.jpg</td>\n",
       "      <td>1</td>\n",
       "      <td>wild_boar</td>\n",
       "      <td>0.859499</td>\n",
       "      <td>False</td>\n",
       "      <td>hog</td>\n",
       "      <td>0.128981</td>\n",
       "      <td>False</td>\n",
       "      <td>warthog</td>\n",
       "      <td>0.011318</td>\n",
       "      <td>False</td>\n",
       "    </tr>\n",
       "    <tr>\n",
       "      <th>201</th>\n",
       "      <td>669682095984410625</td>\n",
       "      <td>https://pbs.twimg.com/media/CUswUBRUAAAahAo.jpg</td>\n",
       "      <td>1</td>\n",
       "      <td>Christmas_stocking</td>\n",
       "      <td>0.188397</td>\n",
       "      <td>False</td>\n",
       "      <td>studio_couch</td>\n",
       "      <td>0.086887</td>\n",
       "      <td>False</td>\n",
       "      <td>bookcase</td>\n",
       "      <td>0.082599</td>\n",
       "      <td>False</td>\n",
       "    </tr>\n",
       "  </tbody>\n",
       "</table>\n",
       "</div>"
      ],
      "text/plain": [
       "                tweet_id                                          jpg_url  \\\n",
       "723   686007916130873345  https://pbs.twimg.com/media/CYUwjz-UAAEcdi8.jpg   \n",
       "1918  855459453768019968  https://pbs.twimg.com/media/C98z1ZAXsAEIFFn.jpg   \n",
       "1986  872486979161796608  https://pbs.twimg.com/media/DBuyRlTUwAAYhG9.jpg   \n",
       "1236  746726898085036033  https://pbs.twimg.com/media/ClzoJz7WYAELHSf.jpg   \n",
       "359   672622327801233409  https://pbs.twimg.com/media/CVWicBbUYAIomjC.jpg   \n",
       "2056  888554962724278272  https://pbs.twimg.com/media/DFTH_O-UQAACu20.jpg   \n",
       "1212  743210557239623680  https://pbs.twimg.com/media/ClBqDuDWkAALK2e.jpg   \n",
       "1848  839549326359670784  https://pbs.twimg.com/media/C6atpTLWYAIL7bU.jpg   \n",
       "974   706901761596989440  https://pbs.twimg.com/media/Cc9rZlBWwAA56Ra.jpg   \n",
       "201   669682095984410625  https://pbs.twimg.com/media/CUswUBRUAAAahAo.jpg   \n",
       "\n",
       "      img_num                   p1   p1_conf  p1_dog  \\\n",
       "723         1  Rhodesian_ridgeback  0.885301    True   \n",
       "1918        2     Blenheim_spaniel  0.389513    True   \n",
       "1986        1             Pembroke  0.931861    True   \n",
       "1236        1     golden_retriever  0.256505    True   \n",
       "359         1     golden_retriever  0.952773    True   \n",
       "2056        3       Siberian_husky  0.700377    True   \n",
       "1212        1     golden_retriever  0.930705    True   \n",
       "1848        1                swing  0.393527   False   \n",
       "974         1            wild_boar  0.859499   False   \n",
       "201         1   Christmas_stocking  0.188397   False   \n",
       "\n",
       "                            p2   p2_conf  p2_dog                  p3  \\\n",
       "723                    redbone  0.042335    True           seat_belt   \n",
       "1918                  Pekinese  0.188220    True    Japanese_spaniel   \n",
       "1986                  Cardigan  0.037721    True           Chihuahua   \n",
       "1236        Labrador_retriever  0.252417    True           seat_belt   \n",
       "359         Labrador_retriever  0.010835    True             clumber   \n",
       "2056                Eskimo_dog  0.166511    True            malamute   \n",
       "1212  Chesapeake_Bay_retriever  0.025934    True  Labrador_retriever   \n",
       "1848           Norwich_terrier  0.052480    True            Pembroke   \n",
       "974                        hog  0.128981   False             warthog   \n",
       "201               studio_couch  0.086887   False            bookcase   \n",
       "\n",
       "       p3_conf  p3_dog  \n",
       "723   0.010493   False  \n",
       "1918  0.082628    True  \n",
       "1986  0.011967    True  \n",
       "1236  0.203163   False  \n",
       "359   0.008786    True  \n",
       "2056  0.111411    True  \n",
       "1212  0.007535    True  \n",
       "1848  0.049901    True  \n",
       "974   0.011318   False  \n",
       "201   0.082599   False  "
      ]
     },
     "execution_count": 25,
     "metadata": {},
     "output_type": "execute_result"
    }
   ],
   "source": [
    "df_prediction.sample(10)"
   ]
  },
  {
   "cell_type": "markdown",
   "metadata": {},
   "source": [
    "<a id=\"image-prediction:p-values\"></a>\n",
    "\n",
    "Valores não padronizados para as variáveis `p1`, `p2` e `p3`"
   ]
  },
  {
   "cell_type": "code",
   "execution_count": 26,
   "metadata": {},
   "outputs": [
    {
     "data": {
      "text/html": [
       "<div>\n",
       "<style scoped>\n",
       "    .dataframe tbody tr th:only-of-type {\n",
       "        vertical-align: middle;\n",
       "    }\n",
       "\n",
       "    .dataframe tbody tr th {\n",
       "        vertical-align: top;\n",
       "    }\n",
       "\n",
       "    .dataframe thead th {\n",
       "        text-align: right;\n",
       "    }\n",
       "</style>\n",
       "<table border=\"1\" class=\"dataframe\">\n",
       "  <thead>\n",
       "    <tr style=\"text-align: right;\">\n",
       "      <th></th>\n",
       "      <th>p1</th>\n",
       "      <th>p2</th>\n",
       "      <th>p3</th>\n",
       "    </tr>\n",
       "  </thead>\n",
       "  <tbody>\n",
       "    <tr>\n",
       "      <th>1412</th>\n",
       "      <td>Bernese_mountain_dog</td>\n",
       "      <td>Greater_Swiss_Mountain_dog</td>\n",
       "      <td>EntleBucher</td>\n",
       "    </tr>\n",
       "    <tr>\n",
       "      <th>1975</th>\n",
       "      <td>comic_book</td>\n",
       "      <td>envelope</td>\n",
       "      <td>book_jacket</td>\n",
       "    </tr>\n",
       "    <tr>\n",
       "      <th>282</th>\n",
       "      <td>Shih-Tzu</td>\n",
       "      <td>golden_retriever</td>\n",
       "      <td>Labrador_retriever</td>\n",
       "    </tr>\n",
       "    <tr>\n",
       "      <th>1356</th>\n",
       "      <td>Samoyed</td>\n",
       "      <td>malamute</td>\n",
       "      <td>West_Highland_white_terrier</td>\n",
       "    </tr>\n",
       "    <tr>\n",
       "      <th>185</th>\n",
       "      <td>Labrador_retriever</td>\n",
       "      <td>German_short-haired_pointer</td>\n",
       "      <td>Chesapeake_Bay_retriever</td>\n",
       "    </tr>\n",
       "  </tbody>\n",
       "</table>\n",
       "</div>"
      ],
      "text/plain": [
       "                        p1                           p2  \\\n",
       "1412  Bernese_mountain_dog   Greater_Swiss_Mountain_dog   \n",
       "1975            comic_book                     envelope   \n",
       "282               Shih-Tzu             golden_retriever   \n",
       "1356               Samoyed                     malamute   \n",
       "185     Labrador_retriever  German_short-haired_pointer   \n",
       "\n",
       "                               p3  \n",
       "1412                  EntleBucher  \n",
       "1975                  book_jacket  \n",
       "282            Labrador_retriever  \n",
       "1356  West_Highland_white_terrier  \n",
       "185      Chesapeake_Bay_retriever  "
      ]
     },
     "execution_count": 26,
     "metadata": {},
     "output_type": "execute_result"
    }
   ],
   "source": [
    "# Visualização de exemplos de valores nas colunas `p1`, `p2` e `p3`\n",
    "df_prediction.loc[:, ['p1', 'p2', 'p3']].sample(5)"
   ]
  },
  {
   "cell_type": "markdown",
   "metadata": {},
   "source": [
    "<a id=\"image-prediction:duplicated-urls\"></a>\n",
    "\n",
    "Verificar a duplicidade de Tweet ID (`tweet_id`) e Imagens (`jpg_url`)"
   ]
  },
  {
   "cell_type": "code",
   "execution_count": 27,
   "metadata": {},
   "outputs": [
    {
     "data": {
      "text/plain": [
       "2075"
      ]
     },
     "execution_count": 27,
     "metadata": {},
     "output_type": "execute_result"
    }
   ],
   "source": [
    "# Verificar a duplicidade de IDs\n",
    "df_prediction.tweet_id.nunique()"
   ]
  },
  {
   "cell_type": "markdown",
   "metadata": {},
   "source": [
    "Verificar a duplicidade na coluna `jpg_url`"
   ]
  },
  {
   "cell_type": "code",
   "execution_count": 28,
   "metadata": {},
   "outputs": [
    {
     "data": {
      "text/plain": [
       "False    2009\n",
       "True       66\n",
       "Name: jpg_url, dtype: int64"
      ]
     },
     "execution_count": 28,
     "metadata": {},
     "output_type": "execute_result"
    }
   ],
   "source": [
    "df_prediction.jpg_url.duplicated().value_counts()"
   ]
  },
  {
   "cell_type": "markdown",
   "metadata": {},
   "source": [
    "Há 66 imagens duplicadas"
   ]
  },
  {
   "cell_type": "code",
   "execution_count": 29,
   "metadata": {},
   "outputs": [
    {
     "data": {
      "text/plain": [
       "p1_conf    1.000000\n",
       "p2_conf    0.488014\n",
       "p3_conf    0.273419\n",
       "dtype: float64"
      ]
     },
     "execution_count": 29,
     "metadata": {},
     "output_type": "execute_result"
    }
   ],
   "source": [
    "# Validar indicadores de confiabiliade da predição\n",
    "df_prediction.loc[:, ['p1_conf', 'p2_conf', 'p3_conf']].max()"
   ]
  },
  {
   "cell_type": "markdown",
   "metadata": {},
   "source": [
    "------\n",
    "<a id=\"avaliacao:twitter-api\"></a>\n",
    "\n",
    "## Avaliação: Twitter API Requests"
   ]
  },
  {
   "cell_type": "code",
   "execution_count": 30,
   "metadata": {},
   "outputs": [
    {
     "data": {
      "text/html": [
       "<div>\n",
       "<style scoped>\n",
       "    .dataframe tbody tr th:only-of-type {\n",
       "        vertical-align: middle;\n",
       "    }\n",
       "\n",
       "    .dataframe tbody tr th {\n",
       "        vertical-align: top;\n",
       "    }\n",
       "\n",
       "    .dataframe thead th {\n",
       "        text-align: right;\n",
       "    }\n",
       "</style>\n",
       "<table border=\"1\" class=\"dataframe\">\n",
       "  <thead>\n",
       "    <tr style=\"text-align: right;\">\n",
       "      <th></th>\n",
       "      <th>id</th>\n",
       "      <th>retweet_count</th>\n",
       "      <th>favorite_count</th>\n",
       "    </tr>\n",
       "  </thead>\n",
       "  <tbody>\n",
       "    <tr>\n",
       "      <th>count</th>\n",
       "      <td>1.820000e+03</td>\n",
       "      <td>1820.000000</td>\n",
       "      <td>1820.000000</td>\n",
       "    </tr>\n",
       "    <tr>\n",
       "      <th>mean</th>\n",
       "      <td>7.237270e+17</td>\n",
       "      <td>2512.144505</td>\n",
       "      <td>6820.872527</td>\n",
       "    </tr>\n",
       "    <tr>\n",
       "      <th>std</th>\n",
       "      <td>5.777841e+16</td>\n",
       "      <td>4891.076169</td>\n",
       "      <td>11900.984651</td>\n",
       "    </tr>\n",
       "    <tr>\n",
       "      <th>min</th>\n",
       "      <td>6.660209e+17</td>\n",
       "      <td>11.000000</td>\n",
       "      <td>0.000000</td>\n",
       "    </tr>\n",
       "    <tr>\n",
       "      <th>25%</th>\n",
       "      <td>6.747671e+17</td>\n",
       "      <td>536.000000</td>\n",
       "      <td>1363.500000</td>\n",
       "    </tr>\n",
       "    <tr>\n",
       "      <th>50%</th>\n",
       "      <td>7.008223e+17</td>\n",
       "      <td>1118.000000</td>\n",
       "      <td>3153.000000</td>\n",
       "    </tr>\n",
       "    <tr>\n",
       "      <th>75%</th>\n",
       "      <td>7.617466e+17</td>\n",
       "      <td>2526.250000</td>\n",
       "      <td>7463.250000</td>\n",
       "    </tr>\n",
       "    <tr>\n",
       "      <th>max</th>\n",
       "      <td>8.924206e+17</td>\n",
       "      <td>82905.000000</td>\n",
       "      <td>163034.000000</td>\n",
       "    </tr>\n",
       "  </tbody>\n",
       "</table>\n",
       "</div>"
      ],
      "text/plain": [
       "                 id  retweet_count  favorite_count\n",
       "count  1.820000e+03    1820.000000     1820.000000\n",
       "mean   7.237270e+17    2512.144505     6820.872527\n",
       "std    5.777841e+16    4891.076169    11900.984651\n",
       "min    6.660209e+17      11.000000        0.000000\n",
       "25%    6.747671e+17     536.000000     1363.500000\n",
       "50%    7.008223e+17    1118.000000     3153.000000\n",
       "75%    7.617466e+17    2526.250000     7463.250000\n",
       "max    8.924206e+17   82905.000000   163034.000000"
      ]
     },
     "execution_count": 30,
     "metadata": {},
     "output_type": "execute_result"
    }
   ],
   "source": [
    "df_tweets_api.describe()"
   ]
  },
  {
   "cell_type": "markdown",
   "metadata": {},
   "source": [
    "<a id=\"tweets-api:info\"></a>"
   ]
  },
  {
   "cell_type": "code",
   "execution_count": 31,
   "metadata": {},
   "outputs": [
    {
     "name": "stdout",
     "output_type": "stream",
     "text": [
      "<class 'pandas.core.frame.DataFrame'>\n",
      "RangeIndex: 1820 entries, 0 to 1819\n",
      "Data columns (total 10 columns):\n",
      "id                       1820 non-null int64\n",
      "created_at               1820 non-null object\n",
      "in_reply_to_status_id    1820 non-null object\n",
      "in_reply_to_user_id      1820 non-null object\n",
      "is_quote_status          1820 non-null bool\n",
      "retweet_count            1820 non-null int64\n",
      "favorite_count           1820 non-null int64\n",
      "media_url                1820 non-null object\n",
      "retweeted                1820 non-null bool\n",
      "favorited                1820 non-null bool\n",
      "dtypes: bool(3), int64(3), object(4)\n",
      "memory usage: 104.9+ KB\n"
     ]
    }
   ],
   "source": [
    "df_tweets_api.info()"
   ]
  },
  {
   "cell_type": "markdown",
   "metadata": {},
   "source": [
    "Os nomes das colunas `id` e `media_url` estão fora do padrão dos demais dataframes, respectivamente `tweet_id` e `jpg_url` "
   ]
  },
  {
   "cell_type": "code",
   "execution_count": 32,
   "metadata": {},
   "outputs": [
    {
     "data": {
      "text/html": [
       "<div>\n",
       "<style scoped>\n",
       "    .dataframe tbody tr th:only-of-type {\n",
       "        vertical-align: middle;\n",
       "    }\n",
       "\n",
       "    .dataframe tbody tr th {\n",
       "        vertical-align: top;\n",
       "    }\n",
       "\n",
       "    .dataframe thead th {\n",
       "        text-align: right;\n",
       "    }\n",
       "</style>\n",
       "<table border=\"1\" class=\"dataframe\">\n",
       "  <thead>\n",
       "    <tr style=\"text-align: right;\">\n",
       "      <th></th>\n",
       "      <th>id</th>\n",
       "      <th>created_at</th>\n",
       "      <th>in_reply_to_status_id</th>\n",
       "      <th>in_reply_to_user_id</th>\n",
       "      <th>is_quote_status</th>\n",
       "      <th>retweet_count</th>\n",
       "      <th>favorite_count</th>\n",
       "      <th>media_url</th>\n",
       "      <th>retweeted</th>\n",
       "      <th>favorited</th>\n",
       "    </tr>\n",
       "  </thead>\n",
       "  <tbody>\n",
       "    <tr>\n",
       "      <th>704</th>\n",
       "      <td>725786712245440512</td>\n",
       "      <td>Thu Apr 28 20:40:11 +0000 2016</td>\n",
       "      <td>None</td>\n",
       "      <td>None</td>\n",
       "      <td>False</td>\n",
       "      <td>1431</td>\n",
       "      <td>4311</td>\n",
       "      <td>http://pbs.twimg.com/media/ChKDKmIWIAIJP_e.jpg</td>\n",
       "      <td>False</td>\n",
       "      <td>False</td>\n",
       "    </tr>\n",
       "    <tr>\n",
       "      <th>1084</th>\n",
       "      <td>687102708889812993</td>\n",
       "      <td>Wed Jan 13 02:43:46 +0000 2016</td>\n",
       "      <td>None</td>\n",
       "      <td>None</td>\n",
       "      <td>False</td>\n",
       "      <td>1044</td>\n",
       "      <td>2433</td>\n",
       "      <td>http://pbs.twimg.com/media/CYkURJjW8AEamoI.jpg</td>\n",
       "      <td>False</td>\n",
       "      <td>False</td>\n",
       "    </tr>\n",
       "    <tr>\n",
       "      <th>913</th>\n",
       "      <td>700505138482569216</td>\n",
       "      <td>Fri Feb 19 02:20:14 +0000 2016</td>\n",
       "      <td>None</td>\n",
       "      <td>None</td>\n",
       "      <td>False</td>\n",
       "      <td>599</td>\n",
       "      <td>2377</td>\n",
       "      <td>http://pbs.twimg.com/media/Cbixs3vUUAAqHHN.jpg</td>\n",
       "      <td>False</td>\n",
       "      <td>False</td>\n",
       "    </tr>\n",
       "    <tr>\n",
       "      <th>1760</th>\n",
       "      <td>667119796878725120</td>\n",
       "      <td>Wed Nov 18 23:18:48 +0000 2015</td>\n",
       "      <td>None</td>\n",
       "      <td>None</td>\n",
       "      <td>False</td>\n",
       "      <td>127</td>\n",
       "      <td>327</td>\n",
       "      <td>http://pbs.twimg.com/media/CUIV6F7XIAA1tAM.jpg</td>\n",
       "      <td>False</td>\n",
       "      <td>False</td>\n",
       "    </tr>\n",
       "    <tr>\n",
       "      <th>13</th>\n",
       "      <td>885528943205470208</td>\n",
       "      <td>Thu Jul 13 15:58:47 +0000 2017</td>\n",
       "      <td>None</td>\n",
       "      <td>None</td>\n",
       "      <td>False</td>\n",
       "      <td>6230</td>\n",
       "      <td>35088</td>\n",
       "      <td>http://pbs.twimg.com/media/DEoH3yvXgAAzQtS.jpg</td>\n",
       "      <td>False</td>\n",
       "      <td>False</td>\n",
       "    </tr>\n",
       "  </tbody>\n",
       "</table>\n",
       "</div>"
      ],
      "text/plain": [
       "                      id                      created_at  \\\n",
       "704   725786712245440512  Thu Apr 28 20:40:11 +0000 2016   \n",
       "1084  687102708889812993  Wed Jan 13 02:43:46 +0000 2016   \n",
       "913   700505138482569216  Fri Feb 19 02:20:14 +0000 2016   \n",
       "1760  667119796878725120  Wed Nov 18 23:18:48 +0000 2015   \n",
       "13    885528943205470208  Thu Jul 13 15:58:47 +0000 2017   \n",
       "\n",
       "     in_reply_to_status_id in_reply_to_user_id  is_quote_status  \\\n",
       "704                   None                None            False   \n",
       "1084                  None                None            False   \n",
       "913                   None                None            False   \n",
       "1760                  None                None            False   \n",
       "13                    None                None            False   \n",
       "\n",
       "      retweet_count  favorite_count  \\\n",
       "704            1431            4311   \n",
       "1084           1044            2433   \n",
       "913             599            2377   \n",
       "1760            127             327   \n",
       "13             6230           35088   \n",
       "\n",
       "                                           media_url  retweeted  favorited  \n",
       "704   http://pbs.twimg.com/media/ChKDKmIWIAIJP_e.jpg      False      False  \n",
       "1084  http://pbs.twimg.com/media/CYkURJjW8AEamoI.jpg      False      False  \n",
       "913   http://pbs.twimg.com/media/Cbixs3vUUAAqHHN.jpg      False      False  \n",
       "1760  http://pbs.twimg.com/media/CUIV6F7XIAA1tAM.jpg      False      False  \n",
       "13    http://pbs.twimg.com/media/DEoH3yvXgAAzQtS.jpg      False      False  "
      ]
     },
     "execution_count": 32,
     "metadata": {},
     "output_type": "execute_result"
    }
   ],
   "source": [
    "df_tweets_api.sample(5)"
   ]
  },
  {
   "cell_type": "markdown",
   "metadata": {},
   "source": [
    "* `created_at` como `string`\n",
    "* `in_reply_to_status_id` e `in_reply_to_userid` como `string`"
   ]
  },
  {
   "cell_type": "markdown",
   "metadata": {},
   "source": [
    "<a id=\"tweets-api:duplicated\"></a>\n",
    "Verificar a duplicidade de valores"
   ]
  },
  {
   "cell_type": "code",
   "execution_count": 33,
   "metadata": {},
   "outputs": [
    {
     "data": {
      "text/plain": [
       "False    1820\n",
       "Name: id, dtype: int64"
      ]
     },
     "execution_count": 33,
     "metadata": {},
     "output_type": "execute_result"
    }
   ],
   "source": [
    "# Verificar se há IDs duplicados\n",
    "df_tweets_api.id.duplicated().value_counts()"
   ]
  },
  {
   "cell_type": "code",
   "execution_count": 34,
   "metadata": {},
   "outputs": [
    {
     "data": {
      "text/plain": [
       "False    1759\n",
       "True       61\n",
       "Name: media_url, dtype: int64"
      ]
     },
     "execution_count": 34,
     "metadata": {},
     "output_type": "execute_result"
    }
   ],
   "source": [
    "# Verificar se há imagens duplicadas\n",
    "df_tweets_api.media_url.duplicated().value_counts()"
   ]
  },
  {
   "cell_type": "markdown",
   "metadata": {},
   "source": [
    "Há tweets referenciando a mesma imagem"
   ]
  },
  {
   "cell_type": "markdown",
   "metadata": {},
   "source": [
    "------"
   ]
  },
  {
   "cell_type": "markdown",
   "metadata": {},
   "source": [
    "<a id=\"avaliacao:anotacoes\"></a>\n",
    "\n",
    "## Notas da avaliação\n",
    "### Qualidade\n",
    "\n",
    "#### `df_twitter_arc` - Twitter archive\n",
    "1. [Base incompleta, contém apenas **2356** registros dos **5000** anunciados](#twitter-arc:info)\n",
    "* [Coluna `source` sem valor à unidade de obsevação](#twitter-arc:source)\n",
    "* [Nomes (`name`) preenchidos com valor literal igual a `'None'`, vazio](#twitter-arc:name)\n",
    "* [Coluna `expanded_urls` sem valor à unidade de observação](#twitter-arc:expanded_urls)\n",
    "* [Categorias \\[`doggo`, `floofer`, `pupper`, `puppo`\\] com literal `'None'`](#twitter-arc:category)\n",
    "\n",
    "\n",
    "#### `df_prediction` - Image prediction\n",
    "1. [Previsões \\[`p1`, `p2`, `p3`\\] com nomes não padronizados](#image-prediction:p-values)\n",
    "* [Duplicidade na coluna `jgp_url`](#image-prediction:duplicated-urls)\n",
    "\n",
    "\n",
    "#### `df_tweets_api` - Twitter API\n",
    "1. [Diferentes Tweets referenciando a mesma imagem, duplicidade](#tweets-api:duplicated)\n",
    "\n",
    "\n",
    "### Organização\n",
    "\n",
    "#### `df_twitter_arc` - Twitter archive\n",
    "1. [As colunas `in_reply_to_status_id`, `in_reply_to_user_id`, `retweeted_status_id`, `retweeted_status_user_id` estão em `float64`](#twitter-arc:info)\n",
    "* [As colunas `timestamp` e `retweet_status_timestamp` estão em `string`](#twitter-arc:info)\n",
    "* [Uma variável em várias colunas, `doggo`, `floofer`, `pupper` e `puppo`](#twitter-arc:category)\n",
    "\n",
    "\n",
    "#### `df_prediction` - Image prediction\n",
    "1. [Colunas como variáveis na identificação das predições](#image-prediction:info)\n",
    "\n",
    "\n",
    "#### `df_tweets_api` - Twitter API\n",
    "1. [Os nomes das colunas `id` e `media_url` estão fora do padrão dos demais dataframes, respectivamente `tweet_id` e `jpg_url` ](#tweets-api:info)\n",
    "* [Data de criação (`created_at`) como `string`](#tweets-api:info)\n",
    "* [As colunas `in_reply_to_status_id` e `in_reply_to_user_id` em `string`](#tweets-api:info)"
   ]
  },
  {
   "cell_type": "markdown",
   "metadata": {},
   "source": [
    "------"
   ]
  },
  {
   "cell_type": "markdown",
   "metadata": {},
   "source": [
    "<a id=\"limpeza\"></a>\n",
    "\n",
    "# Limpeza"
   ]
  },
  {
   "cell_type": "markdown",
   "metadata": {},
   "source": [
    "<a id=\"limpeza:definicao\"></a>\n",
    "\n",
    "## Limpeza: Definição \n",
    "\n",
    "#### `df_twitter_arc` - Twitter archive\n",
    "1. [Base incompleta, de **5000**, apenas **2356** estão disponíveis](#limpeza:twitter-arc:completeness)\n",
    "    * OK - Nada a ser feito\n",
    "* [Coluna `source` sem valor à unidade de observação](#limpeza:twitter-arc:source)\n",
    "    * O conteúdo apresenta um link para download do App Twitter, portanto não agrega valor à unidade de observação, a coluna pode ser removida\n",
    "* [Nomes (`name`) não preenchidos com valor literal igual a `'None'`](#limpeza:twitter-arc:name)\n",
    "    * Alterar valores como 'None' para `np.nan`\n",
    "* [Coluna `expanded_urls` sem valor à unidade de observação](#limpeza:twitter-arc:expanded_urls)(#twitter-arc:expanded_urls)\n",
    "    * Não apresentam valor à unidade de observação, são URLs para os tweets em questão. Remover a coluna `expanded_urls`.\n",
    "* [Categorias \\[doggo, floofer, pupper, puppo\\] com literal `'None'`](#limpeza:twitter-arc:category)\n",
    "    * Aplicar valor `np.nan` para nomes iguais a 'None'   \n",
    "* [As colunas `in_reply_to_status_id`, `in_reply_to_user_id`, `retweeted_status_id`, `retweeted_status_user_id` estão em `float64`](#limpeza:twitter-arc:info)\n",
    "    * Linhas com valor para as colunas `retweeted_status_id` ou `retweeted_status_user_id` podem ser descartadas por indicarem retweet, o objetivo é analisar somente tweets originais\n",
    "    * Após a remoção retweets, as colunas `retweeted_status_id`, `retweeted_status_user_id`, `retweeted_status_timestamp`, podem ser descartadas\n",
    "    * As colunas `in_reply_to_status_id` e `in_reply_to_user_id` serão retratadas no dataframe `df_tweets_api`\n",
    "* [As colunas `timestamp` e `retweet_status_timestamp` estão em `string` e deveriam ser do tipo `datetime`](#limpeza:twitter-arc:datetime)\n",
    "    * Converter valores para `datetime`\n",
    "* [Uma variável em várias colunas, `doggo`, `floofer`, `pupper` e `puppo`](#limpeza:twitter-arc:category-merge)\n",
    "    * Cada variável em apenas uma coluna,  `category`\n",
    "\n",
    "\n",
    "#### `df_prediction` - Image prediction\n",
    "1. [Previsões \\[`p1`, `p2`, `p3`\\] com nomes não padronizados](#limpeza:image-prediction:names)\n",
    "    * Converter os valores para 'lower case' e substituir '_' por espaços\n",
    "* [Previsões repetidas sobre a mesma imagem](#limpeza:image-prediction:duplicated-urls)\n",
    "    * Descartar predições sobre imagens repetidas\n",
    "* [Colunas como variáveis na identificação das predições](#limpeza:image-prediction:info)\n",
    "    * Transpor as variáveis nas colunas para linhas\n",
    "\n",
    "\n",
    "#### `df_tweets_api` - Twitter API\n",
    "1. [Os nomes das colunas `id` e `media_url` estão fora do padrão dos demais dataframes, respectivamente `tweet_id` e `jpg_url` ](#limpeza:tweets-api:columns)\n",
    "* [Diferentes Tweets referenciando a mesma imagem, duplicidade](#limpeza:tweets-api:duplicated)\n",
    "* [Data de criação (`created_at`) como `string`](#limpeza:tweets-api:datetime)\n",
    "    * Converter datas em string para o formato `datetime`\n",
    "* [Valor do id na coluna `in_reply_to_status_id` e `in_reply_to_user_id` como `string`](#limpeza:tweets-api:info)\n",
    "    * Converter para Inteiro as colunas `in_reply_to_status_id` e `in_reply_to_user_id` e atribuir np.nan as que estiverem sem valor"
   ]
  },
  {
   "cell_type": "markdown",
   "metadata": {},
   "source": [
    "<a id=\"limpeza:twitter-archive\"></a>\n",
    "\n",
    "## Limpeza: Twitter archive"
   ]
  },
  {
   "cell_type": "code",
   "execution_count": 35,
   "metadata": {},
   "outputs": [],
   "source": [
    "# Criar cópia do dataframe para a limpeza\n",
    "df_arch_clean = df_twitter_arc.copy()"
   ]
  },
  {
   "cell_type": "markdown",
   "metadata": {},
   "source": [
    "<a id=\"limpeza:twitter-arc:completeness\"></a>\n",
    "\n",
    "### 1. [Base incompleta, de 5000, apenas 2356 estão disponíveis](#limpeza:twitter-arc:completeness)\n",
    "Nada a ser feito"
   ]
  },
  {
   "cell_type": "code",
   "execution_count": 36,
   "metadata": {},
   "outputs": [
    {
     "data": {
      "text/plain": [
       "(2356, 17)"
      ]
     },
     "execution_count": 36,
     "metadata": {},
     "output_type": "execute_result"
    }
   ],
   "source": [
    "df_arch_clean.shape"
   ]
  },
  {
   "cell_type": "markdown",
   "metadata": {},
   "source": [
    "<a id=\"limpeza:twitter-arc:source\"></a>\n",
    "\n",
    "### 2. [Coluna `source` sem valor à unidade de observação](#limpeza:twitter-arc:source)\n",
    "* O conteúdo apresenta um link para download do App Twitter, portanto não agrega valor à unidade de observação, a coluna pode ser removida"
   ]
  },
  {
   "cell_type": "code",
   "execution_count": 37,
   "metadata": {},
   "outputs": [],
   "source": [
    "# Remoção da coluna `source`\n",
    "df_arch_clean.drop('source', axis='columns', inplace=True)"
   ]
  },
  {
   "cell_type": "markdown",
   "metadata": {},
   "source": [
    "#### Teste: Remoção coluna `source`"
   ]
  },
  {
   "cell_type": "code",
   "execution_count": 38,
   "metadata": {},
   "outputs": [
    {
     "data": {
      "text/plain": [
       "Index(['tweet_id', 'in_reply_to_status_id', 'in_reply_to_user_id', 'timestamp',\n",
       "       'text', 'retweeted_status_id', 'retweeted_status_user_id',\n",
       "       'retweeted_status_timestamp', 'expanded_urls', 'rating_numerator',\n",
       "       'rating_denominator', 'name', 'doggo', 'floofer', 'pupper', 'puppo'],\n",
       "      dtype='object')"
      ]
     },
     "execution_count": 38,
     "metadata": {},
     "output_type": "execute_result"
    }
   ],
   "source": [
    "# Conferir que a coluna `source` foi removida\n",
    "df_arch_clean.columns"
   ]
  },
  {
   "cell_type": "markdown",
   "metadata": {},
   "source": [
    "<a id=\"limpeza:twitter-arc:name\"></a>\n",
    "\n",
    "### 3. [Nomes (`name`) não preenchidos com valor literal igual a `'None'`](#limpeza:twitter-arc:name)\n",
    "    * Alterar valores como 'None' para `np.nan`"
   ]
  },
  {
   "cell_type": "code",
   "execution_count": 39,
   "metadata": {},
   "outputs": [
    {
     "data": {
      "text/plain": [
       "745"
      ]
     },
     "execution_count": 39,
     "metadata": {},
     "output_type": "execute_result"
    }
   ],
   "source": [
    "# Contagem de nomes iguais a 'None'\n",
    "df_arch_clean[df_arch_clean.name.str.lower() == 'none'].name.count()"
   ]
  },
  {
   "cell_type": "code",
   "execution_count": 40,
   "metadata": {},
   "outputs": [],
   "source": [
    "# Função para substituição de valores literais 'None' por np.nan\n",
    "def set_nan_at_none(value):\n",
    "    if str(value).lower() == 'none':\n",
    "        return np.nan\n",
    "    else:\n",
    "        return value"
   ]
  },
  {
   "cell_type": "code",
   "execution_count": 41,
   "metadata": {},
   "outputs": [],
   "source": [
    "# Aplicar `np.nan` aos nomes iguais a 'None'\n",
    "df_arch_clean.name = df_arch_clean.name.apply(set_nan_at_none)"
   ]
  },
  {
   "cell_type": "markdown",
   "metadata": {},
   "source": [
    "#### Teste: Aplicação de `np.nan` aos nomes como 'None'"
   ]
  },
  {
   "cell_type": "code",
   "execution_count": 42,
   "metadata": {},
   "outputs": [
    {
     "data": {
      "text/plain": [
       "745"
      ]
     },
     "execution_count": 42,
     "metadata": {},
     "output_type": "execute_result"
    }
   ],
   "source": [
    "df_arch_clean.name.isnull().sum()"
   ]
  },
  {
   "cell_type": "code",
   "execution_count": 43,
   "metadata": {},
   "outputs": [
    {
     "data": {
      "text/plain": [
       "0"
      ]
     },
     "execution_count": 43,
     "metadata": {},
     "output_type": "execute_result"
    }
   ],
   "source": [
    "df_arch_clean[df_arch_clean.name.str.lower() == 'none'].name.count()"
   ]
  },
  {
   "cell_type": "code",
   "execution_count": 44,
   "metadata": {},
   "outputs": [
    {
     "data": {
      "text/plain": [
       "1509         Leo\n",
       "392          Ike\n",
       "1000         NaN\n",
       "1870         NaN\n",
       "1093         NaN\n",
       "1199    Jennifur\n",
       "1307    Finnegus\n",
       "1338       Reese\n",
       "222       Gidget\n",
       "1171         NaN\n",
       "Name: name, dtype: object"
      ]
     },
     "execution_count": 44,
     "metadata": {},
     "output_type": "execute_result"
    }
   ],
   "source": [
    "df_arch_clean.name.sample(10)"
   ]
  },
  {
   "cell_type": "markdown",
   "metadata": {},
   "source": [
    "<a id=\"limpeza:twitter-arc:expanded_urls\"></a>\n",
    "\n",
    "### 4. [Coluna `expanded_urls` sem valor à unidade de observação](#limpeza:twitter-arc:expanded_urls)\n",
    "* Não apresentam valor à unidade de observação, são URLs para os tweets em questão. Remover a coluna `expanded_urls`"
   ]
  },
  {
   "cell_type": "code",
   "execution_count": 45,
   "metadata": {},
   "outputs": [],
   "source": [
    "df_arch_clean.drop('expanded_urls', axis='columns', inplace=True)"
   ]
  },
  {
   "cell_type": "markdown",
   "metadata": {},
   "source": [
    "#### Teste: Remoção da coluna `expanded_urls`"
   ]
  },
  {
   "cell_type": "code",
   "execution_count": 46,
   "metadata": {},
   "outputs": [
    {
     "data": {
      "text/plain": [
       "Index(['tweet_id', 'in_reply_to_status_id', 'in_reply_to_user_id', 'timestamp',\n",
       "       'text', 'retweeted_status_id', 'retweeted_status_user_id',\n",
       "       'retweeted_status_timestamp', 'rating_numerator', 'rating_denominator',\n",
       "       'name', 'doggo', 'floofer', 'pupper', 'puppo'],\n",
       "      dtype='object')"
      ]
     },
     "execution_count": 46,
     "metadata": {},
     "output_type": "execute_result"
    }
   ],
   "source": [
    "df_arch_clean.columns"
   ]
  },
  {
   "cell_type": "markdown",
   "metadata": {},
   "source": [
    "<a id=\"limpeza:twitter-arc:category\"></a>\n",
    "\n",
    "### 5. [Categorias \\[`doggo`, `floofer`, `pupper`, `puppo`\\] com literal `'None'`](#limpeza:twitter-arc:category)\n",
    "* Aplicar valor `np.nan` para nomes iguais a 'None'   "
   ]
  },
  {
   "cell_type": "code",
   "execution_count": 47,
   "metadata": {},
   "outputs": [
    {
     "data": {
      "text/plain": [
       "True     2259\n",
       "False      97\n",
       "Name: doggo, dtype: int64"
      ]
     },
     "execution_count": 47,
     "metadata": {},
     "output_type": "execute_result"
    }
   ],
   "source": [
    "# Trocar valores 'None' para np.nan nas colunas `doggo`, `floofer`, `pupper`, `puppo`\n",
    "df_arch_clean.doggo = df_arch_clean.doggo.apply(set_nan_at_none)\n",
    "df_arch_clean.doggo.isna().value_counts()"
   ]
  },
  {
   "cell_type": "code",
   "execution_count": 48,
   "metadata": {},
   "outputs": [
    {
     "data": {
      "text/plain": [
       "True     2346\n",
       "False      10\n",
       "Name: floofer, dtype: int64"
      ]
     },
     "execution_count": 48,
     "metadata": {},
     "output_type": "execute_result"
    }
   ],
   "source": [
    "df_arch_clean.floofer = df_arch_clean.floofer.apply(set_nan_at_none)\n",
    "df_arch_clean.floofer.isna().value_counts()"
   ]
  },
  {
   "cell_type": "code",
   "execution_count": 49,
   "metadata": {},
   "outputs": [
    {
     "data": {
      "text/plain": [
       "True     2099\n",
       "False     257\n",
       "Name: pupper, dtype: int64"
      ]
     },
     "execution_count": 49,
     "metadata": {},
     "output_type": "execute_result"
    }
   ],
   "source": [
    "df_arch_clean.pupper = df_arch_clean.pupper.apply(set_nan_at_none)\n",
    "df_arch_clean.pupper.isna().value_counts()"
   ]
  },
  {
   "cell_type": "code",
   "execution_count": 50,
   "metadata": {},
   "outputs": [
    {
     "data": {
      "text/plain": [
       "True     2326\n",
       "False      30\n",
       "Name: puppo, dtype: int64"
      ]
     },
     "execution_count": 50,
     "metadata": {},
     "output_type": "execute_result"
    }
   ],
   "source": [
    "df_arch_clean.puppo = df_arch_clean.puppo.apply(set_nan_at_none)\n",
    "df_arch_clean.puppo.isna().value_counts()"
   ]
  },
  {
   "cell_type": "code",
   "execution_count": 51,
   "metadata": {},
   "outputs": [
    {
     "data": {
      "text/plain": [
       "394"
      ]
     },
     "execution_count": 51,
     "metadata": {},
     "output_type": "execute_result"
    }
   ],
   "source": [
    "# Soma de valores preenchidos nas classificações\n",
    "sum_categories = 0\n",
    "sum_categories += df_arch_clean.doggo.notna().sum()\n",
    "sum_categories += df_arch_clean.floofer.notna().sum()\n",
    "sum_categories += df_arch_clean.pupper.notna().sum()\n",
    "sum_categories += df_arch_clean.puppo.notna().sum()\n",
    "\n",
    "sum_categories"
   ]
  },
  {
   "cell_type": "markdown",
   "metadata": {},
   "source": [
    "Apenas 394 dos 2346 registros foram classificados"
   ]
  },
  {
   "cell_type": "markdown",
   "metadata": {},
   "source": [
    "<a id=\"limpeza:twitter-arc:info\"></a>\n",
    "\n",
    "### 6. [As colunas `in_reply_to_status_id`, `in_reply_to_user_id`, `retweeted_status_id`, `retweeted_status_user_id` estão em `float64`](#limpeza:twitter-arc:info)\n",
    "* Linhas com algum valor para as colunas `retweeted_status_id` ou `retweeted_status_user_id` podem ser descartadas por indicarem retweet, e o objetivo é analisar somente tweets originais\n",
    "* Após a remoção retweets, as colunas `retweeted_status_id`, `retweeted_status_user_id`, `retweeted_status_timestamp`, podem ser descartadas\n",
    "* As colunas `in_reply_to_status_id` e `in_reply_to_user_id` serão retratadas no dataframe `df_tweets_api`"
   ]
  },
  {
   "cell_type": "markdown",
   "metadata": {},
   "source": [
    "#### Identificação dos tweets originais\n",
    "df_arch_clean.loc[:,'retweeted_status_id'].isna().value_counts()"
   ]
  },
  {
   "cell_type": "code",
   "execution_count": 52,
   "metadata": {},
   "outputs": [
    {
     "data": {
      "text/plain": [
       "2356"
      ]
     },
     "execution_count": 52,
     "metadata": {},
     "output_type": "execute_result"
    }
   ],
   "source": [
    "df_arch_clean.retweeted_status_id.size"
   ]
  },
  {
   "cell_type": "code",
   "execution_count": 53,
   "metadata": {},
   "outputs": [
    {
     "data": {
      "text/plain": [
       "True     2175\n",
       "False     181\n",
       "Name: retweeted_status_id, dtype: int64"
      ]
     },
     "execution_count": 53,
     "metadata": {},
     "output_type": "execute_result"
    }
   ],
   "source": [
    "df_arch_clean.loc[:,'retweeted_status_id'].isna().value_counts()"
   ]
  },
  {
   "cell_type": "markdown",
   "metadata": {},
   "source": [
    "Dos 2356 registros, 181 são retweets"
   ]
  },
  {
   "cell_type": "code",
   "execution_count": 54,
   "metadata": {},
   "outputs": [],
   "source": [
    "# Remoção dos retweets\n",
    "df_arch_clean.drop(df_arch_clean[df_arch_clean.retweeted_status_id.notna()].index, axis=0, inplace=True)"
   ]
  },
  {
   "cell_type": "markdown",
   "metadata": {},
   "source": [
    "#### Teste: Remoção de Retweets"
   ]
  },
  {
   "cell_type": "code",
   "execution_count": 55,
   "metadata": {},
   "outputs": [
    {
     "data": {
      "text/plain": [
       "True    2175\n",
       "Name: retweeted_status_id, dtype: int64"
      ]
     },
     "execution_count": 55,
     "metadata": {},
     "output_type": "execute_result"
    }
   ],
   "source": [
    "# Consultar a existência de colunas com retweet_status_preenchido\n",
    "df_arch_clean.loc[:,'retweeted_status_id'].isna().value_counts()"
   ]
  },
  {
   "cell_type": "markdown",
   "metadata": {},
   "source": [
    "Remoção das colunas referentes a retweets"
   ]
  },
  {
   "cell_type": "code",
   "execution_count": 56,
   "metadata": {},
   "outputs": [],
   "source": [
    "df_arch_clean.drop(['retweeted_status_id', 'retweeted_status_user_id', 'retweeted_status_timestamp'], axis='columns', inplace=True)"
   ]
  },
  {
   "cell_type": "markdown",
   "metadata": {},
   "source": [
    "#### Teste: Verificação da remoção das colunas referentes a retweets"
   ]
  },
  {
   "cell_type": "code",
   "execution_count": 57,
   "metadata": {},
   "outputs": [
    {
     "data": {
      "text/plain": [
       "Index(['tweet_id', 'in_reply_to_status_id', 'in_reply_to_user_id', 'timestamp',\n",
       "       'text', 'rating_numerator', 'rating_denominator', 'name', 'doggo',\n",
       "       'floofer', 'pupper', 'puppo'],\n",
       "      dtype='object')"
      ]
     },
     "execution_count": 57,
     "metadata": {},
     "output_type": "execute_result"
    }
   ],
   "source": [
    "df_arch_clean.columns"
   ]
  },
  {
   "cell_type": "markdown",
   "metadata": {},
   "source": [
    "<a id=\"limpeza:twitter-arc:datetime\"></a>\n",
    "\n",
    "### 7. [As colunas `timestamp` e `retweet_status_timestamp` estão em `string` e deveriam ser do tipo `datetime`](#limpeza:twitter-arc:datetime)\n",
    "* Converter valores para `datetime`\n",
    "\n",
    "Haja vista que a coluna `retweet_status_timestamp` foi removida no passo anterior, não será necessária a sua conversão"
   ]
  },
  {
   "cell_type": "code",
   "execution_count": 58,
   "metadata": {},
   "outputs": [
    {
     "name": "stdout",
     "output_type": "stream",
     "text": [
      "<class 'pandas.core.frame.DataFrame'>\n",
      "Int64Index: 2175 entries, 0 to 2355\n",
      "Data columns (total 1 columns):\n",
      "timestamp    2175 non-null object\n",
      "dtypes: object(1)\n",
      "memory usage: 34.0+ KB\n"
     ]
    }
   ],
   "source": [
    "df_arch_clean.loc[:, ['timestamp']].info()"
   ]
  },
  {
   "cell_type": "code",
   "execution_count": 59,
   "metadata": {},
   "outputs": [],
   "source": [
    "df_arch_clean.timestamp = pd.to_datetime(df_arch_clean.timestamp)"
   ]
  },
  {
   "cell_type": "markdown",
   "metadata": {},
   "source": [
    "#### Teste: Veriificação da conversão de `string` para `datetime`"
   ]
  },
  {
   "cell_type": "code",
   "execution_count": 60,
   "metadata": {},
   "outputs": [
    {
     "name": "stdout",
     "output_type": "stream",
     "text": [
      "<class 'pandas.core.frame.DataFrame'>\n",
      "Int64Index: 2175 entries, 0 to 2355\n",
      "Data columns (total 1 columns):\n",
      "timestamp    2175 non-null datetime64[ns, UTC]\n",
      "dtypes: datetime64[ns, UTC](1)\n",
      "memory usage: 34.0 KB\n"
     ]
    }
   ],
   "source": [
    "df_arch_clean.loc[:, ['timestamp']].info()"
   ]
  },
  {
   "cell_type": "markdown",
   "metadata": {},
   "source": [
    "<a id=\"limpeza:twitter-arc:category-merge\"></a>\n",
    "\n",
    "### 8. [Uma variável em várias colunas, `doggo`, `floofer`, `pupper` e `puppo`](#limpeza:twitter-arc:category-merge)\n",
    "* Cada variável em apenas uma coluna, reduzi-las a coluna `category`"
   ]
  },
  {
   "cell_type": "code",
   "execution_count": 61,
   "metadata": {},
   "outputs": [
    {
     "name": "stdout",
     "output_type": "stream",
     "text": [
      "<class 'pandas.core.frame.DataFrame'>\n",
      "Int64Index: 2175 entries, 0 to 2355\n",
      "Data columns (total 12 columns):\n",
      "tweet_id                 2175 non-null int64\n",
      "in_reply_to_status_id    78 non-null float64\n",
      "in_reply_to_user_id      78 non-null float64\n",
      "timestamp                2175 non-null datetime64[ns, UTC]\n",
      "text                     2175 non-null object\n",
      "rating_numerator         2175 non-null int64\n",
      "rating_denominator       2175 non-null int64\n",
      "name                     1495 non-null object\n",
      "doggo                    87 non-null object\n",
      "floofer                  10 non-null object\n",
      "pupper                   234 non-null object\n",
      "puppo                    25 non-null object\n",
      "dtypes: datetime64[ns, UTC](1), float64(2), int64(3), object(6)\n",
      "memory usage: 220.9+ KB\n"
     ]
    }
   ],
   "source": [
    "df_arch_clean.info()"
   ]
  },
  {
   "cell_type": "code",
   "execution_count": 62,
   "metadata": {},
   "outputs": [
    {
     "data": {
      "text/plain": [
       "doggo       87\n",
       "floofer     10\n",
       "pupper     234\n",
       "puppo       25\n",
       "dtype: int64"
      ]
     },
     "execution_count": 62,
     "metadata": {},
     "output_type": "execute_result"
    }
   ],
   "source": [
    "df_arch_clean.loc[:, 'doggo':].notna().sum()"
   ]
  },
  {
   "cell_type": "code",
   "execution_count": 63,
   "metadata": {},
   "outputs": [
    {
     "data": {
      "text/plain": [
       "356"
      ]
     },
     "execution_count": 63,
     "metadata": {},
     "output_type": "execute_result"
    }
   ],
   "source": [
    "df_arch_clean.loc[:, 'doggo':].notna().sum().sum()"
   ]
  },
  {
   "cell_type": "markdown",
   "metadata": {},
   "source": [
    "De **2175** registros, apenas **356** estão classificados"
   ]
  },
  {
   "cell_type": "markdown",
   "metadata": {},
   "source": [
    "Criar uma lista das categorias para mesclar as colunas, considerando a coluna a esquerda como prioritaria sobre valores nulos a direita."
   ]
  },
  {
   "cell_type": "code",
   "execution_count": 64,
   "metadata": {},
   "outputs": [],
   "source": [
    "category = df_arch_clean.doggo\n",
    "category = category.combine_first(df_arch_clean.floofer)\n",
    "category = category.combine_first(df_arch_clean.pupper)\n",
    "category = category.combine_first(df_arch_clean.puppo)\n",
    "\n",
    "df_arch_clean['category'] = category"
   ]
  },
  {
   "cell_type": "code",
   "execution_count": 65,
   "metadata": {},
   "outputs": [
    {
     "data": {
      "text/plain": [
       "344"
      ]
     },
     "execution_count": 65,
     "metadata": {},
     "output_type": "execute_result"
    }
   ],
   "source": [
    "df_arch_clean.category.notna().sum()"
   ]
  },
  {
   "cell_type": "markdown",
   "metadata": {},
   "source": [
    "Após a unificação das colunas de classificação, pode-se ver que resultou em apenas **344** registros, diferente dos **356** iniciais. O que indica que haviam registros com mais de uma classificação."
   ]
  },
  {
   "cell_type": "code",
   "execution_count": 66,
   "metadata": {},
   "outputs": [],
   "source": [
    "df_arch_clean.drop(['doggo', 'floofer', 'pupper', 'puppo'], axis='columns', inplace=True)"
   ]
  },
  {
   "cell_type": "markdown",
   "metadata": {},
   "source": [
    "#### Teste: Verificar a criação da coluna `category` a remoção das colunas `doggo`, `floofer`, `pupper` e `puppo`. "
   ]
  },
  {
   "cell_type": "code",
   "execution_count": 67,
   "metadata": {},
   "outputs": [
    {
     "name": "stdout",
     "output_type": "stream",
     "text": [
      "<class 'pandas.core.frame.DataFrame'>\n",
      "Int64Index: 2175 entries, 0 to 2355\n",
      "Data columns (total 9 columns):\n",
      "tweet_id                 2175 non-null int64\n",
      "in_reply_to_status_id    78 non-null float64\n",
      "in_reply_to_user_id      78 non-null float64\n",
      "timestamp                2175 non-null datetime64[ns, UTC]\n",
      "text                     2175 non-null object\n",
      "rating_numerator         2175 non-null int64\n",
      "rating_denominator       2175 non-null int64\n",
      "name                     1495 non-null object\n",
      "category                 344 non-null object\n",
      "dtypes: datetime64[ns, UTC](1), float64(2), int64(3), object(3)\n",
      "memory usage: 169.9+ KB\n"
     ]
    }
   ],
   "source": [
    "df_arch_clean.info()"
   ]
  },
  {
   "cell_type": "markdown",
   "metadata": {},
   "source": [
    "------\n",
    "<a id=\"limpeza:image-prediction\"></a>\n",
    "\n",
    "## Limpeza: Image prediction "
   ]
  },
  {
   "cell_type": "code",
   "execution_count": 68,
   "metadata": {},
   "outputs": [],
   "source": [
    "# Cópia do dataframe para limpeza\n",
    "df_predict_clean = df_prediction.copy()"
   ]
  },
  {
   "cell_type": "markdown",
   "metadata": {},
   "source": [
    "<a id=\"limpeza:image-prediction:names\"></a>\n",
    "\n",
    "### 1. [Previsões \\[`p1`, `p2`, `p3`\\] com nomes não padronizados](#limpeza:image-prediction:names)\n",
    "* Converter os valores para 'lower case' e substituir '_' por espaços"
   ]
  },
  {
   "cell_type": "code",
   "execution_count": 69,
   "metadata": {},
   "outputs": [],
   "source": [
    "clean_prediction_name = lambda value: str(value).lower().replace('_', ' ')"
   ]
  },
  {
   "cell_type": "code",
   "execution_count": 70,
   "metadata": {},
   "outputs": [
    {
     "data": {
      "text/html": [
       "<div>\n",
       "<style scoped>\n",
       "    .dataframe tbody tr th:only-of-type {\n",
       "        vertical-align: middle;\n",
       "    }\n",
       "\n",
       "    .dataframe tbody tr th {\n",
       "        vertical-align: top;\n",
       "    }\n",
       "\n",
       "    .dataframe thead th {\n",
       "        text-align: right;\n",
       "    }\n",
       "</style>\n",
       "<table border=\"1\" class=\"dataframe\">\n",
       "  <thead>\n",
       "    <tr style=\"text-align: right;\">\n",
       "      <th></th>\n",
       "      <th>p1</th>\n",
       "      <th>p2</th>\n",
       "      <th>p3</th>\n",
       "    </tr>\n",
       "  </thead>\n",
       "  <tbody>\n",
       "    <tr>\n",
       "      <th>1408</th>\n",
       "      <td>Italian_greyhound</td>\n",
       "      <td>Mexican_hairless</td>\n",
       "      <td>whippet</td>\n",
       "    </tr>\n",
       "    <tr>\n",
       "      <th>1099</th>\n",
       "      <td>Rottweiler</td>\n",
       "      <td>black-and-tan_coonhound</td>\n",
       "      <td>American_black_bear</td>\n",
       "    </tr>\n",
       "    <tr>\n",
       "      <th>1541</th>\n",
       "      <td>malamute</td>\n",
       "      <td>jean</td>\n",
       "      <td>keeshond</td>\n",
       "    </tr>\n",
       "    <tr>\n",
       "      <th>1770</th>\n",
       "      <td>Pembroke</td>\n",
       "      <td>golden_retriever</td>\n",
       "      <td>Labrador_retriever</td>\n",
       "    </tr>\n",
       "    <tr>\n",
       "      <th>419</th>\n",
       "      <td>Eskimo_dog</td>\n",
       "      <td>Norwegian_elkhound</td>\n",
       "      <td>malamute</td>\n",
       "    </tr>\n",
       "  </tbody>\n",
       "</table>\n",
       "</div>"
      ],
      "text/plain": [
       "                     p1                       p2                   p3\n",
       "1408  Italian_greyhound         Mexican_hairless              whippet\n",
       "1099         Rottweiler  black-and-tan_coonhound  American_black_bear\n",
       "1541           malamute                     jean             keeshond\n",
       "1770           Pembroke         golden_retriever   Labrador_retriever\n",
       "419          Eskimo_dog       Norwegian_elkhound             malamute"
      ]
     },
     "execution_count": 70,
     "metadata": {},
     "output_type": "execute_result"
    }
   ],
   "source": [
    "df_predict_clean.loc[:, ['p1', 'p2', 'p3']].sample(5)"
   ]
  },
  {
   "cell_type": "markdown",
   "metadata": {},
   "source": [
    "Aplicar a padronização dos nomes em cada uma das colunas de predição"
   ]
  },
  {
   "cell_type": "code",
   "execution_count": 71,
   "metadata": {},
   "outputs": [],
   "source": [
    "df_predict_clean.p1 = df_predict_clean.p1.apply(clean_prediction_name)"
   ]
  },
  {
   "cell_type": "code",
   "execution_count": 72,
   "metadata": {},
   "outputs": [],
   "source": [
    "df_predict_clean.p2 = df_predict_clean.p2.apply(clean_prediction_name)"
   ]
  },
  {
   "cell_type": "code",
   "execution_count": 73,
   "metadata": {},
   "outputs": [],
   "source": [
    "df_predict_clean.p3 = df_predict_clean.p3.apply(clean_prediction_name)"
   ]
  },
  {
   "cell_type": "markdown",
   "metadata": {},
   "source": [
    "#### Teste: Verificar padronização dos nomes das predições"
   ]
  },
  {
   "cell_type": "code",
   "execution_count": 74,
   "metadata": {},
   "outputs": [
    {
     "data": {
      "text/html": [
       "<div>\n",
       "<style scoped>\n",
       "    .dataframe tbody tr th:only-of-type {\n",
       "        vertical-align: middle;\n",
       "    }\n",
       "\n",
       "    .dataframe tbody tr th {\n",
       "        vertical-align: top;\n",
       "    }\n",
       "\n",
       "    .dataframe thead th {\n",
       "        text-align: right;\n",
       "    }\n",
       "</style>\n",
       "<table border=\"1\" class=\"dataframe\">\n",
       "  <thead>\n",
       "    <tr style=\"text-align: right;\">\n",
       "      <th></th>\n",
       "      <th>p1</th>\n",
       "      <th>p2</th>\n",
       "      <th>p3</th>\n",
       "    </tr>\n",
       "  </thead>\n",
       "  <tbody>\n",
       "    <tr>\n",
       "      <th>712</th>\n",
       "      <td>boston bull</td>\n",
       "      <td>french bulldog</td>\n",
       "      <td>boxer</td>\n",
       "    </tr>\n",
       "    <tr>\n",
       "      <th>600</th>\n",
       "      <td>french bulldog</td>\n",
       "      <td>chihuahua</td>\n",
       "      <td>cardigan</td>\n",
       "    </tr>\n",
       "    <tr>\n",
       "      <th>1781</th>\n",
       "      <td>hippopotamus</td>\n",
       "      <td>mexican hairless</td>\n",
       "      <td>ice lolly</td>\n",
       "    </tr>\n",
       "    <tr>\n",
       "      <th>1433</th>\n",
       "      <td>norwegian elkhound</td>\n",
       "      <td>chesapeake bay retriever</td>\n",
       "      <td>malamute</td>\n",
       "    </tr>\n",
       "    <tr>\n",
       "      <th>1738</th>\n",
       "      <td>samoyed</td>\n",
       "      <td>pomeranian</td>\n",
       "      <td>arctic fox</td>\n",
       "    </tr>\n",
       "  </tbody>\n",
       "</table>\n",
       "</div>"
      ],
      "text/plain": [
       "                      p1                        p2          p3\n",
       "712          boston bull            french bulldog       boxer\n",
       "600       french bulldog                 chihuahua    cardigan\n",
       "1781        hippopotamus          mexican hairless   ice lolly\n",
       "1433  norwegian elkhound  chesapeake bay retriever    malamute\n",
       "1738             samoyed                pomeranian  arctic fox"
      ]
     },
     "execution_count": 74,
     "metadata": {},
     "output_type": "execute_result"
    }
   ],
   "source": [
    "df_predict_clean.loc[:, ['p1', 'p2', 'p3']].sample(5)"
   ]
  },
  {
   "cell_type": "markdown",
   "metadata": {},
   "source": [
    "<a id=\"limpeza:image-prediction:duplicated-urls\"></a>\n",
    "\n",
    "### 2. [Predições repetidas sobre a mesma imagem](#limpeza:image-prediction:duplicated-urls)\n",
    "* Descartar predições sobre imagens repetidas"
   ]
  },
  {
   "cell_type": "code",
   "execution_count": 75,
   "metadata": {},
   "outputs": [
    {
     "name": "stdout",
     "output_type": "stream",
     "text": [
      "<class 'pandas.core.frame.DataFrame'>\n",
      "RangeIndex: 2075 entries, 0 to 2074\n",
      "Data columns (total 12 columns):\n",
      "tweet_id    2075 non-null int64\n",
      "jpg_url     2075 non-null object\n",
      "img_num     2075 non-null int64\n",
      "p1          2075 non-null object\n",
      "p1_conf     2075 non-null float64\n",
      "p1_dog      2075 non-null bool\n",
      "p2          2075 non-null object\n",
      "p2_conf     2075 non-null float64\n",
      "p2_dog      2075 non-null bool\n",
      "p3          2075 non-null object\n",
      "p3_conf     2075 non-null float64\n",
      "p3_dog      2075 non-null bool\n",
      "dtypes: bool(3), float64(3), int64(2), object(4)\n",
      "memory usage: 152.1+ KB\n"
     ]
    }
   ],
   "source": [
    "df_predict_clean.info()"
   ]
  },
  {
   "cell_type": "code",
   "execution_count": 76,
   "metadata": {},
   "outputs": [
    {
     "data": {
      "text/plain": [
       "False    2009\n",
       "True       66\n",
       "dtype: int64"
      ]
     },
     "execution_count": 76,
     "metadata": {},
     "output_type": "execute_result"
    }
   ],
   "source": [
    "df_predict_clean.loc[:, ['jpg_url', 'p1', 'p2', 'p3']].duplicated().value_counts()"
   ]
  },
  {
   "cell_type": "markdown",
   "metadata": {},
   "source": [
    "Dos **2075** registros, **66** são sobre a mesma imagem. Entretanto, seguindo o objetivo de trabalhar com apenas Tweets originais, além de descartar duplicidade é interessante também descartar as refêrencias a Retweets. Para isso, será feita uma consulta a seleção de Tweets originais, que foi efetuada no passo [6 da limpeza do Twitter Archive](#limpeza:twitter-arc:info)"
   ]
  },
  {
   "cell_type": "code",
   "execution_count": 77,
   "metadata": {},
   "outputs": [],
   "source": [
    "df_predict_clean = df_predict_clean.loc[df_predict_clean.tweet_id.isin(df_arch_clean.tweet_id)]"
   ]
  },
  {
   "cell_type": "markdown",
   "metadata": {},
   "source": [
    "#### Teste: Seleção de Tweets originais"
   ]
  },
  {
   "cell_type": "code",
   "execution_count": 78,
   "metadata": {},
   "outputs": [
    {
     "data": {
      "text/plain": [
       "True    1994\n",
       "Name: tweet_id, dtype: int64"
      ]
     },
     "execution_count": 78,
     "metadata": {},
     "output_type": "execute_result"
    }
   ],
   "source": [
    "df_predict_clean.tweet_id.isin(df_arch_clean.tweet_id).value_counts()"
   ]
  },
  {
   "cell_type": "markdown",
   "metadata": {},
   "source": [
    "Apenas dos **2075**, **1994** são de Tweets originais\n",
    "\n",
    "------"
   ]
  },
  {
   "cell_type": "markdown",
   "metadata": {},
   "source": [
    "Dos Tweets originai ainda é necessário verificar a existência de duplicidade de predições."
   ]
  },
  {
   "cell_type": "code",
   "execution_count": 79,
   "metadata": {},
   "outputs": [
    {
     "data": {
      "text/plain": [
       "False    1994\n",
       "dtype: int64"
      ]
     },
     "execution_count": 79,
     "metadata": {},
     "output_type": "execute_result"
    }
   ],
   "source": [
    "df_predict_clean.loc[:, ['jpg_url']].duplicated().value_counts()"
   ]
  },
  {
   "cell_type": "markdown",
   "metadata": {},
   "source": [
    "Nenhuma duplicidade foi encontrada após a remoção das referências de Retweets"
   ]
  },
  {
   "cell_type": "code",
   "execution_count": 80,
   "metadata": {},
   "outputs": [
    {
     "name": "stdout",
     "output_type": "stream",
     "text": [
      "<class 'pandas.core.frame.DataFrame'>\n",
      "Int64Index: 1994 entries, 0 to 2074\n",
      "Data columns (total 12 columns):\n",
      "tweet_id    1994 non-null int64\n",
      "jpg_url     1994 non-null object\n",
      "img_num     1994 non-null int64\n",
      "p1          1994 non-null object\n",
      "p1_conf     1994 non-null float64\n",
      "p1_dog      1994 non-null bool\n",
      "p2          1994 non-null object\n",
      "p2_conf     1994 non-null float64\n",
      "p2_dog      1994 non-null bool\n",
      "p3          1994 non-null object\n",
      "p3_conf     1994 non-null float64\n",
      "p3_dog      1994 non-null bool\n",
      "dtypes: bool(3), float64(3), int64(2), object(4)\n",
      "memory usage: 161.6+ KB\n"
     ]
    }
   ],
   "source": [
    "df_predict_clean.info()"
   ]
  },
  {
   "cell_type": "markdown",
   "metadata": {},
   "source": [
    "<a id=\"limpeza:image-prediction:info\"></a>\n",
    "\n",
    "### 3. [Colunas como variáveis na identificação das predições](#limpeza:image-prediction:info)\n",
    "* 3.1. Transpor as variáveis nas colunas para linhas:\n",
    "    * 3.1.1. [`[p1, p2, p3]`, para `prediction_try`](#limpeza:image-prediction:try)\n",
    "    * 3.1.2. [`[p1_conf, p2_conf, p3_conf]`, para `confidence`](#limpeza:image-prediction:conf)\n",
    "    * 3.1.3. [`[p1_dog, p2_dog, p3_dog]`, para `is_a_dog`](#limpeza:image-prediction:dog)\n",
    "* 3.2. [Unir os dataframes de prediction](#limpeza:image-prediction:merge)"
   ]
  },
  {
   "cell_type": "code",
   "execution_count": 81,
   "metadata": {},
   "outputs": [
    {
     "data": {
      "text/html": [
       "<div>\n",
       "<style scoped>\n",
       "    .dataframe tbody tr th:only-of-type {\n",
       "        vertical-align: middle;\n",
       "    }\n",
       "\n",
       "    .dataframe tbody tr th {\n",
       "        vertical-align: top;\n",
       "    }\n",
       "\n",
       "    .dataframe thead th {\n",
       "        text-align: right;\n",
       "    }\n",
       "</style>\n",
       "<table border=\"1\" class=\"dataframe\">\n",
       "  <thead>\n",
       "    <tr style=\"text-align: right;\">\n",
       "      <th></th>\n",
       "      <th>tweet_id</th>\n",
       "      <th>jpg_url</th>\n",
       "      <th>img_num</th>\n",
       "      <th>p1</th>\n",
       "      <th>p1_conf</th>\n",
       "      <th>p1_dog</th>\n",
       "      <th>p2</th>\n",
       "      <th>p2_conf</th>\n",
       "      <th>p2_dog</th>\n",
       "      <th>p3</th>\n",
       "      <th>p3_conf</th>\n",
       "      <th>p3_dog</th>\n",
       "    </tr>\n",
       "  </thead>\n",
       "  <tbody>\n",
       "    <tr>\n",
       "      <th>1961</th>\n",
       "      <td>866450705531457537</td>\n",
       "      <td>https://pbs.twimg.com/media/DAZAUfBXcAAG_Nn.jpg</td>\n",
       "      <td>2</td>\n",
       "      <td>french bulldog</td>\n",
       "      <td>0.905334</td>\n",
       "      <td>True</td>\n",
       "      <td>boston bull</td>\n",
       "      <td>0.078060</td>\n",
       "      <td>True</td>\n",
       "      <td>pug</td>\n",
       "      <td>0.001771</td>\n",
       "      <td>True</td>\n",
       "    </tr>\n",
       "    <tr>\n",
       "      <th>915</th>\n",
       "      <td>701214700881756160</td>\n",
       "      <td>https://pbs.twimg.com/media/Cbs3DOAXIAAp3Bd.jpg</td>\n",
       "      <td>1</td>\n",
       "      <td>chihuahua</td>\n",
       "      <td>0.615163</td>\n",
       "      <td>True</td>\n",
       "      <td>pembroke</td>\n",
       "      <td>0.159509</td>\n",
       "      <td>True</td>\n",
       "      <td>basenji</td>\n",
       "      <td>0.084466</td>\n",
       "      <td>True</td>\n",
       "    </tr>\n",
       "    <tr>\n",
       "      <th>416</th>\n",
       "      <td>674019345211760640</td>\n",
       "      <td>https://pbs.twimg.com/media/CVqZBO8WUAAd931.jpg</td>\n",
       "      <td>1</td>\n",
       "      <td>collie</td>\n",
       "      <td>0.992732</td>\n",
       "      <td>True</td>\n",
       "      <td>borzoi</td>\n",
       "      <td>0.005043</td>\n",
       "      <td>True</td>\n",
       "      <td>shetland sheepdog</td>\n",
       "      <td>0.001725</td>\n",
       "      <td>True</td>\n",
       "    </tr>\n",
       "    <tr>\n",
       "      <th>1873</th>\n",
       "      <td>845306882940190720</td>\n",
       "      <td>https://pbs.twimg.com/media/C7siH5DXkAACnDT.jpg</td>\n",
       "      <td>1</td>\n",
       "      <td>irish water spaniel</td>\n",
       "      <td>0.567475</td>\n",
       "      <td>True</td>\n",
       "      <td>labrador retriever</td>\n",
       "      <td>0.169496</td>\n",
       "      <td>True</td>\n",
       "      <td>curly-coated retriever</td>\n",
       "      <td>0.101518</td>\n",
       "      <td>True</td>\n",
       "    </tr>\n",
       "    <tr>\n",
       "      <th>1308</th>\n",
       "      <td>753655901052166144</td>\n",
       "      <td>https://pbs.twimg.com/media/CnWGCpdWgAAWZTI.jpg</td>\n",
       "      <td>1</td>\n",
       "      <td>miniature pinscher</td>\n",
       "      <td>0.456092</td>\n",
       "      <td>True</td>\n",
       "      <td>toy terrier</td>\n",
       "      <td>0.153126</td>\n",
       "      <td>True</td>\n",
       "      <td>italian greyhound</td>\n",
       "      <td>0.144147</td>\n",
       "      <td>True</td>\n",
       "    </tr>\n",
       "  </tbody>\n",
       "</table>\n",
       "</div>"
      ],
      "text/plain": [
       "                tweet_id                                          jpg_url  \\\n",
       "1961  866450705531457537  https://pbs.twimg.com/media/DAZAUfBXcAAG_Nn.jpg   \n",
       "915   701214700881756160  https://pbs.twimg.com/media/Cbs3DOAXIAAp3Bd.jpg   \n",
       "416   674019345211760640  https://pbs.twimg.com/media/CVqZBO8WUAAd931.jpg   \n",
       "1873  845306882940190720  https://pbs.twimg.com/media/C7siH5DXkAACnDT.jpg   \n",
       "1308  753655901052166144  https://pbs.twimg.com/media/CnWGCpdWgAAWZTI.jpg   \n",
       "\n",
       "      img_num                   p1   p1_conf  p1_dog                  p2  \\\n",
       "1961        2       french bulldog  0.905334    True         boston bull   \n",
       "915         1            chihuahua  0.615163    True            pembroke   \n",
       "416         1               collie  0.992732    True              borzoi   \n",
       "1873        1  irish water spaniel  0.567475    True  labrador retriever   \n",
       "1308        1   miniature pinscher  0.456092    True         toy terrier   \n",
       "\n",
       "       p2_conf  p2_dog                      p3   p3_conf  p3_dog  \n",
       "1961  0.078060    True                     pug  0.001771    True  \n",
       "915   0.159509    True                 basenji  0.084466    True  \n",
       "416   0.005043    True       shetland sheepdog  0.001725    True  \n",
       "1873  0.169496    True  curly-coated retriever  0.101518    True  \n",
       "1308  0.153126    True       italian greyhound  0.144147    True  "
      ]
     },
     "execution_count": 81,
     "metadata": {},
     "output_type": "execute_result"
    }
   ],
   "source": [
    "df_predict_clean.sample(5)"
   ]
  },
  {
   "cell_type": "markdown",
   "metadata": {},
   "source": [
    "<a id=\"limpeza:image-prediction:try\"></a>\n",
    "\n",
    "#### 3.1.1. [`[p1, p2, p3]`, para `prediction_try`](#limpeza:image-prediction:try)"
   ]
  },
  {
   "cell_type": "code",
   "execution_count": 82,
   "metadata": {},
   "outputs": [],
   "source": [
    "# Organizando as variáveis de tentativa de predição e seu palpite\n",
    "df_predict_try = pd.melt(df_predict_clean,\n",
    "        id_vars=['tweet_id', 'jpg_url'],\n",
    "        value_vars=['p1', 'p2', 'p3'],\n",
    "        var_name=['prediction_try'],\n",
    "        value_name='prediction'\n",
    "       )"
   ]
  },
  {
   "cell_type": "code",
   "execution_count": 83,
   "metadata": {},
   "outputs": [
    {
     "data": {
      "text/html": [
       "<div>\n",
       "<style scoped>\n",
       "    .dataframe tbody tr th:only-of-type {\n",
       "        vertical-align: middle;\n",
       "    }\n",
       "\n",
       "    .dataframe tbody tr th {\n",
       "        vertical-align: top;\n",
       "    }\n",
       "\n",
       "    .dataframe thead th {\n",
       "        text-align: right;\n",
       "    }\n",
       "</style>\n",
       "<table border=\"1\" class=\"dataframe\">\n",
       "  <thead>\n",
       "    <tr style=\"text-align: right;\">\n",
       "      <th></th>\n",
       "      <th>tweet_id</th>\n",
       "      <th>jpg_url</th>\n",
       "      <th>prediction_try</th>\n",
       "      <th>prediction</th>\n",
       "    </tr>\n",
       "  </thead>\n",
       "  <tbody>\n",
       "    <tr>\n",
       "      <th>3432</th>\n",
       "      <td>777684233540206592</td>\n",
       "      <td>https://pbs.twimg.com/media/CsrjryzWgAAZY00.jpg</td>\n",
       "      <td>p2</td>\n",
       "      <td>golden retriever</td>\n",
       "    </tr>\n",
       "    <tr>\n",
       "      <th>1400</th>\n",
       "      <td>771014301343748096</td>\n",
       "      <td>https://pbs.twimg.com/media/CrMxZzgWIAQUxzx.jpg</td>\n",
       "      <td>p1</td>\n",
       "      <td>meerkat</td>\n",
       "    </tr>\n",
       "    <tr>\n",
       "      <th>2301</th>\n",
       "      <td>671538301157904385</td>\n",
       "      <td>https://pbs.twimg.com/media/CVHIhi2WsAEgdKk.jpg</td>\n",
       "      <td>p2</td>\n",
       "      <td>water bottle</td>\n",
       "    </tr>\n",
       "    <tr>\n",
       "      <th>3508</th>\n",
       "      <td>791312159183634433</td>\n",
       "      <td>https://pbs.twimg.com/media/CvtONV4WAAAQ3Rn.jpg</td>\n",
       "      <td>p2</td>\n",
       "      <td>toy terrier</td>\n",
       "    </tr>\n",
       "    <tr>\n",
       "      <th>5610</th>\n",
       "      <td>813112105746448384</td>\n",
       "      <td>https://pbs.twimg.com/media/C0jBJZVWQAA2_-X.jpg</td>\n",
       "      <td>p3</td>\n",
       "      <td>basenji</td>\n",
       "    </tr>\n",
       "  </tbody>\n",
       "</table>\n",
       "</div>"
      ],
      "text/plain": [
       "                tweet_id                                          jpg_url  \\\n",
       "3432  777684233540206592  https://pbs.twimg.com/media/CsrjryzWgAAZY00.jpg   \n",
       "1400  771014301343748096  https://pbs.twimg.com/media/CrMxZzgWIAQUxzx.jpg   \n",
       "2301  671538301157904385  https://pbs.twimg.com/media/CVHIhi2WsAEgdKk.jpg   \n",
       "3508  791312159183634433  https://pbs.twimg.com/media/CvtONV4WAAAQ3Rn.jpg   \n",
       "5610  813112105746448384  https://pbs.twimg.com/media/C0jBJZVWQAA2_-X.jpg   \n",
       "\n",
       "     prediction_try        prediction  \n",
       "3432             p2  golden retriever  \n",
       "1400             p1           meerkat  \n",
       "2301             p2      water bottle  \n",
       "3508             p2       toy terrier  \n",
       "5610             p3           basenji  "
      ]
     },
     "execution_count": 83,
     "metadata": {},
     "output_type": "execute_result"
    }
   ],
   "source": [
    "df_predict_try.sample(5)"
   ]
  },
  {
   "cell_type": "markdown",
   "metadata": {},
   "source": [
    "Conversão dos valores da tentativa para número inteiro"
   ]
  },
  {
   "cell_type": "code",
   "execution_count": 84,
   "metadata": {},
   "outputs": [],
   "source": [
    "# Metodo para retirar o índice da tentativa dos nomes das colunas\n",
    "get_prediction_index = lambda value: int(re.sub(r'[^\\d]', '', str(value)))"
   ]
  },
  {
   "cell_type": "code",
   "execution_count": 85,
   "metadata": {},
   "outputs": [],
   "source": [
    "df_predict_try.prediction_try = df_predict_try.prediction_try.apply(get_prediction_index)"
   ]
  },
  {
   "cell_type": "code",
   "execution_count": 86,
   "metadata": {},
   "outputs": [
    {
     "name": "stdout",
     "output_type": "stream",
     "text": [
      "<class 'pandas.core.frame.DataFrame'>\n",
      "RangeIndex: 5982 entries, 0 to 5981\n",
      "Data columns (total 4 columns):\n",
      "tweet_id          5982 non-null int64\n",
      "jpg_url           5982 non-null object\n",
      "prediction_try    5982 non-null int64\n",
      "prediction        5982 non-null object\n",
      "dtypes: int64(2), object(2)\n",
      "memory usage: 187.0+ KB\n"
     ]
    }
   ],
   "source": [
    "df_predict_try.info()"
   ]
  },
  {
   "cell_type": "code",
   "execution_count": 87,
   "metadata": {},
   "outputs": [
    {
     "data": {
      "text/html": [
       "<div>\n",
       "<style scoped>\n",
       "    .dataframe tbody tr th:only-of-type {\n",
       "        vertical-align: middle;\n",
       "    }\n",
       "\n",
       "    .dataframe tbody tr th {\n",
       "        vertical-align: top;\n",
       "    }\n",
       "\n",
       "    .dataframe thead th {\n",
       "        text-align: right;\n",
       "    }\n",
       "</style>\n",
       "<table border=\"1\" class=\"dataframe\">\n",
       "  <thead>\n",
       "    <tr style=\"text-align: right;\">\n",
       "      <th></th>\n",
       "      <th>tweet_id</th>\n",
       "      <th>jpg_url</th>\n",
       "      <th>prediction_try</th>\n",
       "      <th>prediction</th>\n",
       "    </tr>\n",
       "  </thead>\n",
       "  <tbody>\n",
       "    <tr>\n",
       "      <th>5514</th>\n",
       "      <td>793180763617361921</td>\n",
       "      <td>https://pbs.twimg.com/media/CwHxsdYVMAAqGCJ.jpg</td>\n",
       "      <td>3</td>\n",
       "      <td>airedale</td>\n",
       "    </tr>\n",
       "    <tr>\n",
       "      <th>1500</th>\n",
       "      <td>788765914992902144</td>\n",
       "      <td>https://pbs.twimg.com/media/CvJCabcWgAIoUxW.jpg</td>\n",
       "      <td>1</td>\n",
       "      <td>cocker spaniel</td>\n",
       "    </tr>\n",
       "    <tr>\n",
       "      <th>1266</th>\n",
       "      <td>749774190421639168</td>\n",
       "      <td>https://pbs.twimg.com/media/Cme7pg2XEAATMnP.jpg</td>\n",
       "      <td>1</td>\n",
       "      <td>pekinese</td>\n",
       "    </tr>\n",
       "    <tr>\n",
       "      <th>5961</th>\n",
       "      <td>887705289381826560</td>\n",
       "      <td>https://pbs.twimg.com/media/DFHDQBbXgAEqY7t.jpg</td>\n",
       "      <td>3</td>\n",
       "      <td>weimaraner</td>\n",
       "    </tr>\n",
       "    <tr>\n",
       "      <th>5071</th>\n",
       "      <td>718631497683582976</td>\n",
       "      <td>https://pbs.twimg.com/media/CfkXiX6W4AAmICF.jpg</td>\n",
       "      <td>3</td>\n",
       "      <td>persian cat</td>\n",
       "    </tr>\n",
       "  </tbody>\n",
       "</table>\n",
       "</div>"
      ],
      "text/plain": [
       "                tweet_id                                          jpg_url  \\\n",
       "5514  793180763617361921  https://pbs.twimg.com/media/CwHxsdYVMAAqGCJ.jpg   \n",
       "1500  788765914992902144  https://pbs.twimg.com/media/CvJCabcWgAIoUxW.jpg   \n",
       "1266  749774190421639168  https://pbs.twimg.com/media/Cme7pg2XEAATMnP.jpg   \n",
       "5961  887705289381826560  https://pbs.twimg.com/media/DFHDQBbXgAEqY7t.jpg   \n",
       "5071  718631497683582976  https://pbs.twimg.com/media/CfkXiX6W4AAmICF.jpg   \n",
       "\n",
       "      prediction_try      prediction  \n",
       "5514               3        airedale  \n",
       "1500               1  cocker spaniel  \n",
       "1266               1        pekinese  \n",
       "5961               3      weimaraner  \n",
       "5071               3     persian cat  "
      ]
     },
     "execution_count": 87,
     "metadata": {},
     "output_type": "execute_result"
    }
   ],
   "source": [
    "df_predict_try.sample(5)"
   ]
  },
  {
   "cell_type": "markdown",
   "metadata": {},
   "source": [
    "<a id=\"limpeza:image-prediction:conf\"></a>\n",
    "\n",
    "#### 3.1.2. [`[p1_conf, p2_conf, p3_conf]`, para `confidence`](#limpeza:image-prediction:conf)"
   ]
  },
  {
   "cell_type": "code",
   "execution_count": 88,
   "metadata": {},
   "outputs": [],
   "source": [
    "# Movendo o nível de confiança das predições para uma coluna apenas\n",
    "df_predict_conf = pd.melt(df_predict_clean,\n",
    "                         id_vars=['tweet_id', 'jpg_url'],\n",
    "                         value_vars=['p1_conf', 'p2_conf', 'p3_conf'],\n",
    "                         var_name=['prediction_try'],\n",
    "                         value_name='confidence'\n",
    "                        )"
   ]
  },
  {
   "cell_type": "code",
   "execution_count": 89,
   "metadata": {},
   "outputs": [
    {
     "data": {
      "text/html": [
       "<div>\n",
       "<style scoped>\n",
       "    .dataframe tbody tr th:only-of-type {\n",
       "        vertical-align: middle;\n",
       "    }\n",
       "\n",
       "    .dataframe tbody tr th {\n",
       "        vertical-align: top;\n",
       "    }\n",
       "\n",
       "    .dataframe thead th {\n",
       "        text-align: right;\n",
       "    }\n",
       "</style>\n",
       "<table border=\"1\" class=\"dataframe\">\n",
       "  <thead>\n",
       "    <tr style=\"text-align: right;\">\n",
       "      <th></th>\n",
       "      <th>tweet_id</th>\n",
       "      <th>jpg_url</th>\n",
       "      <th>prediction_try</th>\n",
       "      <th>confidence</th>\n",
       "    </tr>\n",
       "  </thead>\n",
       "  <tbody>\n",
       "    <tr>\n",
       "      <th>613</th>\n",
       "      <td>680176173301628928</td>\n",
       "      <td>https://pbs.twimg.com/media/CXB4nWnWEAAhLTX.jpg</td>\n",
       "      <td>p1_conf</td>\n",
       "      <td>0.207547</td>\n",
       "    </tr>\n",
       "    <tr>\n",
       "      <th>4515</th>\n",
       "      <td>676811746707918848</td>\n",
       "      <td>https://pbs.twimg.com/media/CWSEsO9WwAAX-fZ.jpg</td>\n",
       "      <td>p3_conf</td>\n",
       "      <td>0.060331</td>\n",
       "    </tr>\n",
       "    <tr>\n",
       "      <th>201</th>\n",
       "      <td>669749430875258880</td>\n",
       "      <td>https://pbs.twimg.com/media/CUttjYtWcAAdPgI.jpg</td>\n",
       "      <td>p1_conf</td>\n",
       "      <td>0.245794</td>\n",
       "    </tr>\n",
       "    <tr>\n",
       "      <th>1810</th>\n",
       "      <td>847116187444137987</td>\n",
       "      <td>https://pbs.twimg.com/media/C8GPrNDW4AAkLde.jpg</td>\n",
       "      <td>p1_conf</td>\n",
       "      <td>0.128935</td>\n",
       "    </tr>\n",
       "    <tr>\n",
       "      <th>2051</th>\n",
       "      <td>667073648344346624</td>\n",
       "      <td>https://pbs.twimg.com/media/CUHr8WbWEAEBPgf.jpg</td>\n",
       "      <td>p2_conf</td>\n",
       "      <td>0.092494</td>\n",
       "    </tr>\n",
       "  </tbody>\n",
       "</table>\n",
       "</div>"
      ],
      "text/plain": [
       "                tweet_id                                          jpg_url  \\\n",
       "613   680176173301628928  https://pbs.twimg.com/media/CXB4nWnWEAAhLTX.jpg   \n",
       "4515  676811746707918848  https://pbs.twimg.com/media/CWSEsO9WwAAX-fZ.jpg   \n",
       "201   669749430875258880  https://pbs.twimg.com/media/CUttjYtWcAAdPgI.jpg   \n",
       "1810  847116187444137987  https://pbs.twimg.com/media/C8GPrNDW4AAkLde.jpg   \n",
       "2051  667073648344346624  https://pbs.twimg.com/media/CUHr8WbWEAEBPgf.jpg   \n",
       "\n",
       "     prediction_try  confidence  \n",
       "613         p1_conf    0.207547  \n",
       "4515        p3_conf    0.060331  \n",
       "201         p1_conf    0.245794  \n",
       "1810        p1_conf    0.128935  \n",
       "2051        p2_conf    0.092494  "
      ]
     },
     "execution_count": 89,
     "metadata": {},
     "output_type": "execute_result"
    }
   ],
   "source": [
    "df_predict_conf.sample(5)"
   ]
  },
  {
   "cell_type": "code",
   "execution_count": 90,
   "metadata": {},
   "outputs": [],
   "source": [
    "# Atribuir apenas valores inteiros aos indicadores de tentativas\n",
    "df_predict_conf.prediction_try = df_predict_conf.prediction_try.apply(get_prediction_index)"
   ]
  },
  {
   "cell_type": "code",
   "execution_count": 91,
   "metadata": {},
   "outputs": [
    {
     "data": {
      "text/html": [
       "<div>\n",
       "<style scoped>\n",
       "    .dataframe tbody tr th:only-of-type {\n",
       "        vertical-align: middle;\n",
       "    }\n",
       "\n",
       "    .dataframe tbody tr th {\n",
       "        vertical-align: top;\n",
       "    }\n",
       "\n",
       "    .dataframe thead th {\n",
       "        text-align: right;\n",
       "    }\n",
       "</style>\n",
       "<table border=\"1\" class=\"dataframe\">\n",
       "  <thead>\n",
       "    <tr style=\"text-align: right;\">\n",
       "      <th></th>\n",
       "      <th>tweet_id</th>\n",
       "      <th>jpg_url</th>\n",
       "      <th>prediction_try</th>\n",
       "      <th>confidence</th>\n",
       "    </tr>\n",
       "  </thead>\n",
       "  <tbody>\n",
       "    <tr>\n",
       "      <th>4127</th>\n",
       "      <td>668567822092664832</td>\n",
       "      <td>https://pbs.twimg.com/media/CUc64knWoAkZt70.jpg</td>\n",
       "      <td>3</td>\n",
       "      <td>0.003053</td>\n",
       "    </tr>\n",
       "    <tr>\n",
       "      <th>5260</th>\n",
       "      <td>750056684286914561</td>\n",
       "      <td>https://pbs.twimg.com/media/Cmfx2oNW8AAGg4H.jpg</td>\n",
       "      <td>3</td>\n",
       "      <td>0.077004</td>\n",
       "    </tr>\n",
       "    <tr>\n",
       "      <th>3971</th>\n",
       "      <td>888917238123831296</td>\n",
       "      <td>https://pbs.twimg.com/media/DFYRgsOUQAARGhO.jpg</td>\n",
       "      <td>2</td>\n",
       "      <td>0.120184</td>\n",
       "    </tr>\n",
       "    <tr>\n",
       "      <th>1434</th>\n",
       "      <td>776477788987613185</td>\n",
       "      <td>https://pbs.twimg.com/media/CsaaaaxWgAEfzM7.jpg</td>\n",
       "      <td>1</td>\n",
       "      <td>0.884839</td>\n",
       "    </tr>\n",
       "    <tr>\n",
       "      <th>4607</th>\n",
       "      <td>680494726643068929</td>\n",
       "      <td>https://pbs.twimg.com/media/CXGaVxOWAAADjhF.jpg</td>\n",
       "      <td>3</td>\n",
       "      <td>0.064061</td>\n",
       "    </tr>\n",
       "  </tbody>\n",
       "</table>\n",
       "</div>"
      ],
      "text/plain": [
       "                tweet_id                                          jpg_url  \\\n",
       "4127  668567822092664832  https://pbs.twimg.com/media/CUc64knWoAkZt70.jpg   \n",
       "5260  750056684286914561  https://pbs.twimg.com/media/Cmfx2oNW8AAGg4H.jpg   \n",
       "3971  888917238123831296  https://pbs.twimg.com/media/DFYRgsOUQAARGhO.jpg   \n",
       "1434  776477788987613185  https://pbs.twimg.com/media/CsaaaaxWgAEfzM7.jpg   \n",
       "4607  680494726643068929  https://pbs.twimg.com/media/CXGaVxOWAAADjhF.jpg   \n",
       "\n",
       "      prediction_try  confidence  \n",
       "4127               3    0.003053  \n",
       "5260               3    0.077004  \n",
       "3971               2    0.120184  \n",
       "1434               1    0.884839  \n",
       "4607               3    0.064061  "
      ]
     },
     "execution_count": 91,
     "metadata": {},
     "output_type": "execute_result"
    }
   ],
   "source": [
    "df_predict_conf.sample(5)"
   ]
  },
  {
   "cell_type": "code",
   "execution_count": 92,
   "metadata": {},
   "outputs": [
    {
     "data": {
      "text/plain": [
       "(5982, 4)"
      ]
     },
     "execution_count": 92,
     "metadata": {},
     "output_type": "execute_result"
    }
   ],
   "source": [
    "df_predict_conf.shape"
   ]
  },
  {
   "cell_type": "markdown",
   "metadata": {},
   "source": [
    "<a id=\"limpeza:image-prediction:dog\"></a>\n",
    "\n",
    "#### 3.1.3. [`[p1_dog, p2_dog, p3_dog]`, para `is_a_dog`](#limpeza:image-prediction:dog)"
   ]
  },
  {
   "cell_type": "code",
   "execution_count": 93,
   "metadata": {},
   "outputs": [],
   "source": [
    "# Movendo o resultado da predição, `p#_dog` para `is_a_dog`\n",
    "df_predict_dog = pd.melt(df_predict_clean,\n",
    "                        id_vars=['tweet_id', 'jpg_url'],\n",
    "                        value_vars=['p1_dog', 'p2_dog', 'p3_dog'],\n",
    "                        var_name=['prediction_try'],\n",
    "                        value_name='is_a_dog')"
   ]
  },
  {
   "cell_type": "code",
   "execution_count": 94,
   "metadata": {},
   "outputs": [
    {
     "data": {
      "text/html": [
       "<div>\n",
       "<style scoped>\n",
       "    .dataframe tbody tr th:only-of-type {\n",
       "        vertical-align: middle;\n",
       "    }\n",
       "\n",
       "    .dataframe tbody tr th {\n",
       "        vertical-align: top;\n",
       "    }\n",
       "\n",
       "    .dataframe thead th {\n",
       "        text-align: right;\n",
       "    }\n",
       "</style>\n",
       "<table border=\"1\" class=\"dataframe\">\n",
       "  <thead>\n",
       "    <tr style=\"text-align: right;\">\n",
       "      <th></th>\n",
       "      <th>tweet_id</th>\n",
       "      <th>jpg_url</th>\n",
       "      <th>prediction_try</th>\n",
       "      <th>is_a_dog</th>\n",
       "    </tr>\n",
       "  </thead>\n",
       "  <tbody>\n",
       "    <tr>\n",
       "      <th>2549</th>\n",
       "      <td>677687604918272002</td>\n",
       "      <td>https://pbs.twimg.com/media/CWehRdEWIAAySyO.jpg</td>\n",
       "      <td>p2_dog</td>\n",
       "      <td>False</td>\n",
       "    </tr>\n",
       "    <tr>\n",
       "      <th>592</th>\n",
       "      <td>679503373272485890</td>\n",
       "      <td>https://pbs.twimg.com/media/CW4UtmYWsAAEjqA.jpg</td>\n",
       "      <td>p1_dog</td>\n",
       "      <td>False</td>\n",
       "    </tr>\n",
       "    <tr>\n",
       "      <th>2934</th>\n",
       "      <td>704113298707505153</td>\n",
       "      <td>https://pbs.twimg.com/media/CcWDTerUAAALORn.jpg</td>\n",
       "      <td>p2_dog</td>\n",
       "      <td>False</td>\n",
       "    </tr>\n",
       "    <tr>\n",
       "      <th>3101</th>\n",
       "      <td>724004602748780546</td>\n",
       "      <td>https://pbs.twimg.com/media/CgwuWCeW4AAsgbD.jpg</td>\n",
       "      <td>p2_dog</td>\n",
       "      <td>True</td>\n",
       "    </tr>\n",
       "    <tr>\n",
       "      <th>1057</th>\n",
       "      <td>715009755312439296</td>\n",
       "      <td>https://pbs.twimg.com/media/Cew5kyOWsAA8Y_o.jpg</td>\n",
       "      <td>p1_dog</td>\n",
       "      <td>False</td>\n",
       "    </tr>\n",
       "  </tbody>\n",
       "</table>\n",
       "</div>"
      ],
      "text/plain": [
       "                tweet_id                                          jpg_url  \\\n",
       "2549  677687604918272002  https://pbs.twimg.com/media/CWehRdEWIAAySyO.jpg   \n",
       "592   679503373272485890  https://pbs.twimg.com/media/CW4UtmYWsAAEjqA.jpg   \n",
       "2934  704113298707505153  https://pbs.twimg.com/media/CcWDTerUAAALORn.jpg   \n",
       "3101  724004602748780546  https://pbs.twimg.com/media/CgwuWCeW4AAsgbD.jpg   \n",
       "1057  715009755312439296  https://pbs.twimg.com/media/Cew5kyOWsAA8Y_o.jpg   \n",
       "\n",
       "     prediction_try  is_a_dog  \n",
       "2549         p2_dog     False  \n",
       "592          p1_dog     False  \n",
       "2934         p2_dog     False  \n",
       "3101         p2_dog      True  \n",
       "1057         p1_dog     False  "
      ]
     },
     "execution_count": 94,
     "metadata": {},
     "output_type": "execute_result"
    }
   ],
   "source": [
    "df_predict_dog.sample(5)"
   ]
  },
  {
   "cell_type": "code",
   "execution_count": 95,
   "metadata": {},
   "outputs": [],
   "source": [
    "# Atribuir apenas valores inteiros aos indicadores de tentativas\n",
    "df_predict_dog.prediction_try = df_predict_dog.prediction_try.apply(get_prediction_index)"
   ]
  },
  {
   "cell_type": "code",
   "execution_count": 96,
   "metadata": {},
   "outputs": [
    {
     "data": {
      "text/html": [
       "<div>\n",
       "<style scoped>\n",
       "    .dataframe tbody tr th:only-of-type {\n",
       "        vertical-align: middle;\n",
       "    }\n",
       "\n",
       "    .dataframe tbody tr th {\n",
       "        vertical-align: top;\n",
       "    }\n",
       "\n",
       "    .dataframe thead th {\n",
       "        text-align: right;\n",
       "    }\n",
       "</style>\n",
       "<table border=\"1\" class=\"dataframe\">\n",
       "  <thead>\n",
       "    <tr style=\"text-align: right;\">\n",
       "      <th></th>\n",
       "      <th>tweet_id</th>\n",
       "      <th>jpg_url</th>\n",
       "      <th>prediction_try</th>\n",
       "      <th>is_a_dog</th>\n",
       "    </tr>\n",
       "  </thead>\n",
       "  <tbody>\n",
       "    <tr>\n",
       "      <th>5691</th>\n",
       "      <td>826598365270007810</td>\n",
       "      <td>https://pbs.twimg.com/media/C3iq0EEXUAAdBYC.jpg</td>\n",
       "      <td>3</td>\n",
       "      <td>False</td>\n",
       "    </tr>\n",
       "    <tr>\n",
       "      <th>5752</th>\n",
       "      <td>836260088725786625</td>\n",
       "      <td>https://pbs.twimg.com/media/C5r-G2IUwAA6KBY.jpg</td>\n",
       "      <td>3</td>\n",
       "      <td>True</td>\n",
       "    </tr>\n",
       "    <tr>\n",
       "      <th>3738</th>\n",
       "      <td>832757312314028032</td>\n",
       "      <td>https://pbs.twimg.com/media/C46MWnFVYAUg1RK.jpg</td>\n",
       "      <td>2</td>\n",
       "      <td>True</td>\n",
       "    </tr>\n",
       "    <tr>\n",
       "      <th>4473</th>\n",
       "      <td>675501075957489664</td>\n",
       "      <td>https://pbs.twimg.com/media/CV_cnjHWUAADc-c.jpg</td>\n",
       "      <td>3</td>\n",
       "      <td>False</td>\n",
       "    </tr>\n",
       "    <tr>\n",
       "      <th>4801</th>\n",
       "      <td>692752401762250755</td>\n",
       "      <td>https://pbs.twimg.com/tweet_video_thumb/CZ0mhd...</td>\n",
       "      <td>3</td>\n",
       "      <td>True</td>\n",
       "    </tr>\n",
       "  </tbody>\n",
       "</table>\n",
       "</div>"
      ],
      "text/plain": [
       "                tweet_id                                            jpg_url  \\\n",
       "5691  826598365270007810    https://pbs.twimg.com/media/C3iq0EEXUAAdBYC.jpg   \n",
       "5752  836260088725786625    https://pbs.twimg.com/media/C5r-G2IUwAA6KBY.jpg   \n",
       "3738  832757312314028032    https://pbs.twimg.com/media/C46MWnFVYAUg1RK.jpg   \n",
       "4473  675501075957489664    https://pbs.twimg.com/media/CV_cnjHWUAADc-c.jpg   \n",
       "4801  692752401762250755  https://pbs.twimg.com/tweet_video_thumb/CZ0mhd...   \n",
       "\n",
       "      prediction_try  is_a_dog  \n",
       "5691               3     False  \n",
       "5752               3      True  \n",
       "3738               2      True  \n",
       "4473               3     False  \n",
       "4801               3      True  "
      ]
     },
     "execution_count": 96,
     "metadata": {},
     "output_type": "execute_result"
    }
   ],
   "source": [
    "df_predict_dog.sample(5)"
   ]
  },
  {
   "cell_type": "code",
   "execution_count": 97,
   "metadata": {},
   "outputs": [
    {
     "name": "stdout",
     "output_type": "stream",
     "text": [
      "<class 'pandas.core.frame.DataFrame'>\n",
      "RangeIndex: 5982 entries, 0 to 5981\n",
      "Data columns (total 4 columns):\n",
      "tweet_id          5982 non-null int64\n",
      "jpg_url           5982 non-null object\n",
      "prediction_try    5982 non-null int64\n",
      "is_a_dog          5982 non-null bool\n",
      "dtypes: bool(1), int64(2), object(1)\n",
      "memory usage: 146.1+ KB\n"
     ]
    }
   ],
   "source": [
    "df_predict_dog.info()"
   ]
  },
  {
   "cell_type": "markdown",
   "metadata": {},
   "source": [
    "<a id=\"limpeza:image-prediction:merge\"></a>\n",
    "\n",
    "#### 3.2. [Unir os dataframes de prediction](#limpeza:image-prediction:merge)"
   ]
  },
  {
   "cell_type": "code",
   "execution_count": 98,
   "metadata": {},
   "outputs": [],
   "source": [
    "# Merge\n",
    "df_predict_clean = pd.merge(df_predict_try, df_predict_conf, how='left', on=['tweet_id', 'jpg_url', 'prediction_try'])"
   ]
  },
  {
   "cell_type": "code",
   "execution_count": 99,
   "metadata": {},
   "outputs": [
    {
     "data": {
      "text/plain": [
       "(5982, 5)"
      ]
     },
     "execution_count": 99,
     "metadata": {},
     "output_type": "execute_result"
    }
   ],
   "source": [
    "df_predict_clean.shape"
   ]
  },
  {
   "cell_type": "code",
   "execution_count": 100,
   "metadata": {},
   "outputs": [
    {
     "data": {
      "text/html": [
       "<div>\n",
       "<style scoped>\n",
       "    .dataframe tbody tr th:only-of-type {\n",
       "        vertical-align: middle;\n",
       "    }\n",
       "\n",
       "    .dataframe tbody tr th {\n",
       "        vertical-align: top;\n",
       "    }\n",
       "\n",
       "    .dataframe thead th {\n",
       "        text-align: right;\n",
       "    }\n",
       "</style>\n",
       "<table border=\"1\" class=\"dataframe\">\n",
       "  <thead>\n",
       "    <tr style=\"text-align: right;\">\n",
       "      <th></th>\n",
       "      <th>tweet_id</th>\n",
       "      <th>jpg_url</th>\n",
       "      <th>prediction_try</th>\n",
       "      <th>prediction</th>\n",
       "      <th>confidence</th>\n",
       "    </tr>\n",
       "  </thead>\n",
       "  <tbody>\n",
       "    <tr>\n",
       "      <th>3605</th>\n",
       "      <td>811744202451197953</td>\n",
       "      <td>https://pbs.twimg.com/media/C0PlCQjXAAA9TIh.jpg</td>\n",
       "      <td>2</td>\n",
       "      <td>labrador retriever</td>\n",
       "      <td>0.202862</td>\n",
       "    </tr>\n",
       "    <tr>\n",
       "      <th>5412</th>\n",
       "      <td>774757898236878852</td>\n",
       "      <td>https://pbs.twimg.com/media/CsB-MYiXgAEQU20.jpg</td>\n",
       "      <td>3</td>\n",
       "      <td>lakeland terrier</td>\n",
       "      <td>0.007008</td>\n",
       "    </tr>\n",
       "    <tr>\n",
       "      <th>5754</th>\n",
       "      <td>836677758902222849</td>\n",
       "      <td>https://pbs.twimg.com/media/C5x57-TWUAEawQh.jpg</td>\n",
       "      <td>3</td>\n",
       "      <td>snow leopard</td>\n",
       "      <td>0.079694</td>\n",
       "    </tr>\n",
       "    <tr>\n",
       "      <th>5410</th>\n",
       "      <td>774314403806253056</td>\n",
       "      <td>https://pbs.twimg.com/media/Cr7q1VxWIAA5Nm7.jpg</td>\n",
       "      <td>3</td>\n",
       "      <td>saluki</td>\n",
       "      <td>0.036325</td>\n",
       "    </tr>\n",
       "    <tr>\n",
       "      <th>325</th>\n",
       "      <td>671896809300709376</td>\n",
       "      <td>https://pbs.twimg.com/media/CVMOlMiWwAA4Yxl.jpg</td>\n",
       "      <td>1</td>\n",
       "      <td>chow</td>\n",
       "      <td>0.243529</td>\n",
       "    </tr>\n",
       "  </tbody>\n",
       "</table>\n",
       "</div>"
      ],
      "text/plain": [
       "                tweet_id                                          jpg_url  \\\n",
       "3605  811744202451197953  https://pbs.twimg.com/media/C0PlCQjXAAA9TIh.jpg   \n",
       "5412  774757898236878852  https://pbs.twimg.com/media/CsB-MYiXgAEQU20.jpg   \n",
       "5754  836677758902222849  https://pbs.twimg.com/media/C5x57-TWUAEawQh.jpg   \n",
       "5410  774314403806253056  https://pbs.twimg.com/media/Cr7q1VxWIAA5Nm7.jpg   \n",
       "325   671896809300709376  https://pbs.twimg.com/media/CVMOlMiWwAA4Yxl.jpg   \n",
       "\n",
       "      prediction_try          prediction  confidence  \n",
       "3605               2  labrador retriever    0.202862  \n",
       "5412               3    lakeland terrier    0.007008  \n",
       "5754               3        snow leopard    0.079694  \n",
       "5410               3              saluki    0.036325  \n",
       "325                1                chow    0.243529  "
      ]
     },
     "execution_count": 100,
     "metadata": {},
     "output_type": "execute_result"
    }
   ],
   "source": [
    "df_predict_clean.sample(5)"
   ]
  },
  {
   "cell_type": "code",
   "execution_count": 101,
   "metadata": {},
   "outputs": [],
   "source": [
    "df_predict_clean = pd.merge(df_predict_clean, df_predict_dog, how='left', on=['tweet_id', 'jpg_url', 'prediction_try'])"
   ]
  },
  {
   "cell_type": "code",
   "execution_count": 102,
   "metadata": {},
   "outputs": [
    {
     "data": {
      "text/plain": [
       "(5982, 6)"
      ]
     },
     "execution_count": 102,
     "metadata": {},
     "output_type": "execute_result"
    }
   ],
   "source": [
    "df_predict_clean.shape"
   ]
  },
  {
   "cell_type": "markdown",
   "metadata": {},
   "source": [
    "**Teste: Verificar Merge dos dataframes de predição**"
   ]
  },
  {
   "cell_type": "code",
   "execution_count": 103,
   "metadata": {},
   "outputs": [
    {
     "data": {
      "text/html": [
       "<div>\n",
       "<style scoped>\n",
       "    .dataframe tbody tr th:only-of-type {\n",
       "        vertical-align: middle;\n",
       "    }\n",
       "\n",
       "    .dataframe tbody tr th {\n",
       "        vertical-align: top;\n",
       "    }\n",
       "\n",
       "    .dataframe thead th {\n",
       "        text-align: right;\n",
       "    }\n",
       "</style>\n",
       "<table border=\"1\" class=\"dataframe\">\n",
       "  <thead>\n",
       "    <tr style=\"text-align: right;\">\n",
       "      <th></th>\n",
       "      <th>tweet_id</th>\n",
       "      <th>jpg_url</th>\n",
       "      <th>prediction_try</th>\n",
       "      <th>prediction</th>\n",
       "      <th>confidence</th>\n",
       "      <th>is_a_dog</th>\n",
       "    </tr>\n",
       "  </thead>\n",
       "  <tbody>\n",
       "    <tr>\n",
       "      <th>220</th>\n",
       "      <td>670290420111441920</td>\n",
       "      <td>https://pbs.twimg.com/media/CU1Zgk7UcAAjw2t.jpg</td>\n",
       "      <td>1</td>\n",
       "      <td>chihuahua</td>\n",
       "      <td>0.368876</td>\n",
       "      <td>True</td>\n",
       "    </tr>\n",
       "    <tr>\n",
       "      <th>289</th>\n",
       "      <td>671182547775299584</td>\n",
       "      <td>https://pbs.twimg.com/media/CVCE9uYXIAEtSzR.jpg</td>\n",
       "      <td>1</td>\n",
       "      <td>rottweiler</td>\n",
       "      <td>0.331179</td>\n",
       "      <td>True</td>\n",
       "    </tr>\n",
       "    <tr>\n",
       "      <th>5066</th>\n",
       "      <td>718246886998687744</td>\n",
       "      <td>https://pbs.twimg.com/media/Cfe5tLWXEAIaoFO.jpg</td>\n",
       "      <td>3</td>\n",
       "      <td>siberian husky</td>\n",
       "      <td>0.057498</td>\n",
       "      <td>True</td>\n",
       "    </tr>\n",
       "    <tr>\n",
       "      <th>3610</th>\n",
       "      <td>812709060537683968</td>\n",
       "      <td>https://pbs.twimg.com/media/C0dSk98WEAALyya.jpg</td>\n",
       "      <td>2</td>\n",
       "      <td>golden retriever</td>\n",
       "      <td>0.182610</td>\n",
       "      <td>True</td>\n",
       "    </tr>\n",
       "    <tr>\n",
       "      <th>2717</th>\n",
       "      <td>686050296934563840</td>\n",
       "      <td>https://pbs.twimg.com/media/CYVXBb9WsAAwL3p.jpg</td>\n",
       "      <td>2</td>\n",
       "      <td>keeshond</td>\n",
       "      <td>0.004083</td>\n",
       "      <td>True</td>\n",
       "    </tr>\n",
       "  </tbody>\n",
       "</table>\n",
       "</div>"
      ],
      "text/plain": [
       "                tweet_id                                          jpg_url  \\\n",
       "220   670290420111441920  https://pbs.twimg.com/media/CU1Zgk7UcAAjw2t.jpg   \n",
       "289   671182547775299584  https://pbs.twimg.com/media/CVCE9uYXIAEtSzR.jpg   \n",
       "5066  718246886998687744  https://pbs.twimg.com/media/Cfe5tLWXEAIaoFO.jpg   \n",
       "3610  812709060537683968  https://pbs.twimg.com/media/C0dSk98WEAALyya.jpg   \n",
       "2717  686050296934563840  https://pbs.twimg.com/media/CYVXBb9WsAAwL3p.jpg   \n",
       "\n",
       "      prediction_try        prediction  confidence  is_a_dog  \n",
       "220                1         chihuahua    0.368876      True  \n",
       "289                1        rottweiler    0.331179      True  \n",
       "5066               3    siberian husky    0.057498      True  \n",
       "3610               2  golden retriever    0.182610      True  \n",
       "2717               2          keeshond    0.004083      True  "
      ]
     },
     "execution_count": 103,
     "metadata": {},
     "output_type": "execute_result"
    }
   ],
   "source": [
    "df_predict_clean.sample(5)"
   ]
  },
  {
   "cell_type": "markdown",
   "metadata": {},
   "source": [
    "------\n",
    "<a id=\"limpeza:twitter-api\"></a>\n",
    "\n",
    "## Limpeza: Twitter API"
   ]
  },
  {
   "cell_type": "code",
   "execution_count": 104,
   "metadata": {},
   "outputs": [],
   "source": [
    "# Cópia do dataframe para limpeza\n",
    "df_api_clean = df_tweets_api.copy()"
   ]
  },
  {
   "cell_type": "code",
   "execution_count": 105,
   "metadata": {},
   "outputs": [
    {
     "data": {
      "text/html": [
       "<div>\n",
       "<style scoped>\n",
       "    .dataframe tbody tr th:only-of-type {\n",
       "        vertical-align: middle;\n",
       "    }\n",
       "\n",
       "    .dataframe tbody tr th {\n",
       "        vertical-align: top;\n",
       "    }\n",
       "\n",
       "    .dataframe thead th {\n",
       "        text-align: right;\n",
       "    }\n",
       "</style>\n",
       "<table border=\"1\" class=\"dataframe\">\n",
       "  <thead>\n",
       "    <tr style=\"text-align: right;\">\n",
       "      <th></th>\n",
       "      <th>id</th>\n",
       "      <th>created_at</th>\n",
       "      <th>in_reply_to_status_id</th>\n",
       "      <th>in_reply_to_user_id</th>\n",
       "      <th>is_quote_status</th>\n",
       "      <th>retweet_count</th>\n",
       "      <th>favorite_count</th>\n",
       "      <th>media_url</th>\n",
       "      <th>retweeted</th>\n",
       "      <th>favorited</th>\n",
       "    </tr>\n",
       "  </thead>\n",
       "  <tbody>\n",
       "    <tr>\n",
       "      <th>918</th>\n",
       "      <td>700062718104104960</td>\n",
       "      <td>Wed Feb 17 21:02:13 +0000 2016</td>\n",
       "      <td>None</td>\n",
       "      <td>None</td>\n",
       "      <td>False</td>\n",
       "      <td>731</td>\n",
       "      <td>2754</td>\n",
       "      <td>http://pbs.twimg.com/media/CbcfUxoUAAAlHGK.jpg</td>\n",
       "      <td>False</td>\n",
       "      <td>False</td>\n",
       "    </tr>\n",
       "    <tr>\n",
       "      <th>163</th>\n",
       "      <td>816829038950027264</td>\n",
       "      <td>Thu Jan 05 02:09:53 +0000 2017</td>\n",
       "      <td>None</td>\n",
       "      <td>None</td>\n",
       "      <td>False</td>\n",
       "      <td>5103</td>\n",
       "      <td>0</td>\n",
       "      <td>http://pbs.twimg.com/media/CvoBPWRWgAA4het.jpg</td>\n",
       "      <td>False</td>\n",
       "      <td>False</td>\n",
       "    </tr>\n",
       "    <tr>\n",
       "      <th>1804</th>\n",
       "      <td>666099513787052032</td>\n",
       "      <td>Mon Nov 16 03:44:34 +0000 2015</td>\n",
       "      <td>None</td>\n",
       "      <td>None</td>\n",
       "      <td>False</td>\n",
       "      <td>66</td>\n",
       "      <td>150</td>\n",
       "      <td>http://pbs.twimg.com/media/CT51-JJUEAA6hV8.jpg</td>\n",
       "      <td>False</td>\n",
       "      <td>False</td>\n",
       "    </tr>\n",
       "  </tbody>\n",
       "</table>\n",
       "</div>"
      ],
      "text/plain": [
       "                      id                      created_at  \\\n",
       "918   700062718104104960  Wed Feb 17 21:02:13 +0000 2016   \n",
       "163   816829038950027264  Thu Jan 05 02:09:53 +0000 2017   \n",
       "1804  666099513787052032  Mon Nov 16 03:44:34 +0000 2015   \n",
       "\n",
       "     in_reply_to_status_id in_reply_to_user_id  is_quote_status  \\\n",
       "918                   None                None            False   \n",
       "163                   None                None            False   \n",
       "1804                  None                None            False   \n",
       "\n",
       "      retweet_count  favorite_count  \\\n",
       "918             731            2754   \n",
       "163            5103               0   \n",
       "1804             66             150   \n",
       "\n",
       "                                           media_url  retweeted  favorited  \n",
       "918   http://pbs.twimg.com/media/CbcfUxoUAAAlHGK.jpg      False      False  \n",
       "163   http://pbs.twimg.com/media/CvoBPWRWgAA4het.jpg      False      False  \n",
       "1804  http://pbs.twimg.com/media/CT51-JJUEAA6hV8.jpg      False      False  "
      ]
     },
     "execution_count": 105,
     "metadata": {},
     "output_type": "execute_result"
    }
   ],
   "source": [
    "\n",
    "df_api_clean.sample(3)"
   ]
  },
  {
   "cell_type": "markdown",
   "metadata": {},
   "source": [
    "<a id=\"limpeza:tweets-api:columns\"></a>\n",
    "\n",
    "### 1. [Os nomes das colunas `id` e `media_url` estão fora do padrão dos demais dataframes, respectivamente `tweet_id` e `jpg_url` ](#limpeza:tweets-api:columns)"
   ]
  },
  {
   "cell_type": "code",
   "execution_count": 106,
   "metadata": {},
   "outputs": [],
   "source": [
    "df_api_clean.rename(columns={'id':'tweet_id', 'media_url': 'jpg_url'}, inplace=True)"
   ]
  },
  {
   "cell_type": "markdown",
   "metadata": {},
   "source": [
    "**Teste: Verificar colunas renomeadas**"
   ]
  },
  {
   "cell_type": "code",
   "execution_count": 107,
   "metadata": {},
   "outputs": [
    {
     "data": {
      "text/plain": [
       "Index(['tweet_id', 'created_at', 'in_reply_to_status_id',\n",
       "       'in_reply_to_user_id', 'is_quote_status', 'retweet_count',\n",
       "       'favorite_count', 'jpg_url', 'retweeted', 'favorited'],\n",
       "      dtype='object')"
      ]
     },
     "execution_count": 107,
     "metadata": {},
     "output_type": "execute_result"
    }
   ],
   "source": [
    "df_api_clean.columns"
   ]
  },
  {
   "cell_type": "markdown",
   "metadata": {},
   "source": [
    "<a id=\"limpeza:tweets-api:duplicated\"></a>\n",
    "\n",
    "### 2. [Diferentes Tweets referenciando a mesma imagem, duplicidade](#limpeza:tweets-api:duplicated)"
   ]
  },
  {
   "cell_type": "markdown",
   "metadata": {},
   "source": [
    "Assim como na [limpeza de duplicidade de imagens no dataframe de predições](#limpeza:image-prediction:duplicated-urls), é importante de remover os tweets não originais, os retweets. Com auxílio do dataframe `df_arch_clean`, que possui somente referências a tweets originais, será possível identifica-los e descartar os tweets indesejados."
   ]
  },
  {
   "cell_type": "code",
   "execution_count": 108,
   "metadata": {},
   "outputs": [
    {
     "data": {
      "text/plain": [
       "(1820, 10)"
      ]
     },
     "execution_count": 108,
     "metadata": {},
     "output_type": "execute_result"
    }
   ],
   "source": [
    "df_api_clean.shape"
   ]
  },
  {
   "cell_type": "code",
   "execution_count": 109,
   "metadata": {},
   "outputs": [],
   "source": [
    "df_api_clean = df_api_clean.loc[df_api_clean.tweet_id.isin(df_arch_clean.tweet_id)]"
   ]
  },
  {
   "cell_type": "code",
   "execution_count": 110,
   "metadata": {},
   "outputs": [
    {
     "data": {
      "text/plain": [
       "(1746, 10)"
      ]
     },
     "execution_count": 110,
     "metadata": {},
     "output_type": "execute_result"
    }
   ],
   "source": [
    "df_api_clean.shape"
   ]
  },
  {
   "cell_type": "markdown",
   "metadata": {},
   "source": [
    "Ao remover os ids que referenciavam a **retweets**, houve uma redução de **74** registros, de **1820** para **1746**"
   ]
  },
  {
   "cell_type": "markdown",
   "metadata": {},
   "source": [
    "<a id=\"limpeza:tweets-api:datetime\"></a>\n",
    "\n",
    "### 3. [Data de criação (`created_at`) como `string`](#limpeza:tweets-api:datetime)\n",
    "* Converter datas em string para o formato `datetime`"
   ]
  },
  {
   "cell_type": "code",
   "execution_count": 111,
   "metadata": {},
   "outputs": [],
   "source": [
    "df_api_clean.created_at = pd.to_datetime(df_api_clean.created_at)"
   ]
  },
  {
   "cell_type": "markdown",
   "metadata": {},
   "source": [
    "**Teste: Validar tipo de variável em `created_at`**"
   ]
  },
  {
   "cell_type": "code",
   "execution_count": 112,
   "metadata": {},
   "outputs": [
    {
     "name": "stdout",
     "output_type": "stream",
     "text": [
      "<class 'pandas.core.frame.DataFrame'>\n",
      "Int64Index: 1746 entries, 0 to 1819\n",
      "Data columns (total 10 columns):\n",
      "tweet_id                 1746 non-null int64\n",
      "created_at               1746 non-null datetime64[ns, UTC]\n",
      "in_reply_to_status_id    1746 non-null object\n",
      "in_reply_to_user_id      1746 non-null object\n",
      "is_quote_status          1746 non-null bool\n",
      "retweet_count            1746 non-null int64\n",
      "favorite_count           1746 non-null int64\n",
      "jpg_url                  1746 non-null object\n",
      "retweeted                1746 non-null bool\n",
      "favorited                1746 non-null bool\n",
      "dtypes: bool(3), datetime64[ns, UTC](1), int64(3), object(3)\n",
      "memory usage: 114.2+ KB\n"
     ]
    }
   ],
   "source": [
    "df_api_clean.info()"
   ]
  },
  {
   "cell_type": "code",
   "execution_count": 113,
   "metadata": {},
   "outputs": [
    {
     "data": {
      "text/html": [
       "<div>\n",
       "<style scoped>\n",
       "    .dataframe tbody tr th:only-of-type {\n",
       "        vertical-align: middle;\n",
       "    }\n",
       "\n",
       "    .dataframe tbody tr th {\n",
       "        vertical-align: top;\n",
       "    }\n",
       "\n",
       "    .dataframe thead th {\n",
       "        text-align: right;\n",
       "    }\n",
       "</style>\n",
       "<table border=\"1\" class=\"dataframe\">\n",
       "  <thead>\n",
       "    <tr style=\"text-align: right;\">\n",
       "      <th></th>\n",
       "      <th>tweet_id</th>\n",
       "      <th>created_at</th>\n",
       "      <th>in_reply_to_status_id</th>\n",
       "      <th>in_reply_to_user_id</th>\n",
       "      <th>is_quote_status</th>\n",
       "      <th>retweet_count</th>\n",
       "      <th>favorite_count</th>\n",
       "      <th>jpg_url</th>\n",
       "      <th>retweeted</th>\n",
       "      <th>favorited</th>\n",
       "    </tr>\n",
       "  </thead>\n",
       "  <tbody>\n",
       "    <tr>\n",
       "      <th>20</th>\n",
       "      <td>882762694511734784</td>\n",
       "      <td>2017-07-06 00:46:41+00:00</td>\n",
       "      <td>None</td>\n",
       "      <td>None</td>\n",
       "      <td>False</td>\n",
       "      <td>4759</td>\n",
       "      <td>27617</td>\n",
       "      <td>http://pbs.twimg.com/media/DEAz_HHXsAA-p_z.jpg</td>\n",
       "      <td>False</td>\n",
       "      <td>False</td>\n",
       "    </tr>\n",
       "    <tr>\n",
       "      <th>1444</th>\n",
       "      <td>672997845381865473</td>\n",
       "      <td>2015-12-05 04:36:04+00:00</td>\n",
       "      <td>None</td>\n",
       "      <td>None</td>\n",
       "      <td>False</td>\n",
       "      <td>735</td>\n",
       "      <td>1984</td>\n",
       "      <td>http://pbs.twimg.com/media/CVb39_1XIAAMoIv.jpg</td>\n",
       "      <td>False</td>\n",
       "      <td>False</td>\n",
       "    </tr>\n",
       "    <tr>\n",
       "      <th>1512</th>\n",
       "      <td>671533943490011136</td>\n",
       "      <td>2015-12-01 03:39:03+00:00</td>\n",
       "      <td>None</td>\n",
       "      <td>None</td>\n",
       "      <td>False</td>\n",
       "      <td>590</td>\n",
       "      <td>1031</td>\n",
       "      <td>http://pbs.twimg.com/media/CVHEju0XAAEUZRY.jpg</td>\n",
       "      <td>False</td>\n",
       "      <td>False</td>\n",
       "    </tr>\n",
       "    <tr>\n",
       "      <th>1682</th>\n",
       "      <td>668528771708952576</td>\n",
       "      <td>2015-11-22 20:37:34+00:00</td>\n",
       "      <td>None</td>\n",
       "      <td>None</td>\n",
       "      <td>False</td>\n",
       "      <td>232</td>\n",
       "      <td>463</td>\n",
       "      <td>http://pbs.twimg.com/media/CUcXXpxWUAAUJ__.jpg</td>\n",
       "      <td>False</td>\n",
       "      <td>False</td>\n",
       "    </tr>\n",
       "    <tr>\n",
       "      <th>1041</th>\n",
       "      <td>689905486972461056</td>\n",
       "      <td>2016-01-20 20:21:00+00:00</td>\n",
       "      <td>None</td>\n",
       "      <td>None</td>\n",
       "      <td>False</td>\n",
       "      <td>731</td>\n",
       "      <td>2524</td>\n",
       "      <td>http://pbs.twimg.com/media/CZMJYAkUMAATdcm.jpg</td>\n",
       "      <td>False</td>\n",
       "      <td>False</td>\n",
       "    </tr>\n",
       "  </tbody>\n",
       "</table>\n",
       "</div>"
      ],
      "text/plain": [
       "                tweet_id                created_at in_reply_to_status_id  \\\n",
       "20    882762694511734784 2017-07-06 00:46:41+00:00                  None   \n",
       "1444  672997845381865473 2015-12-05 04:36:04+00:00                  None   \n",
       "1512  671533943490011136 2015-12-01 03:39:03+00:00                  None   \n",
       "1682  668528771708952576 2015-11-22 20:37:34+00:00                  None   \n",
       "1041  689905486972461056 2016-01-20 20:21:00+00:00                  None   \n",
       "\n",
       "     in_reply_to_user_id  is_quote_status  retweet_count  favorite_count  \\\n",
       "20                  None            False           4759           27617   \n",
       "1444                None            False            735            1984   \n",
       "1512                None            False            590            1031   \n",
       "1682                None            False            232             463   \n",
       "1041                None            False            731            2524   \n",
       "\n",
       "                                             jpg_url  retweeted  favorited  \n",
       "20    http://pbs.twimg.com/media/DEAz_HHXsAA-p_z.jpg      False      False  \n",
       "1444  http://pbs.twimg.com/media/CVb39_1XIAAMoIv.jpg      False      False  \n",
       "1512  http://pbs.twimg.com/media/CVHEju0XAAEUZRY.jpg      False      False  \n",
       "1682  http://pbs.twimg.com/media/CUcXXpxWUAAUJ__.jpg      False      False  \n",
       "1041  http://pbs.twimg.com/media/CZMJYAkUMAATdcm.jpg      False      False  "
      ]
     },
     "execution_count": 113,
     "metadata": {},
     "output_type": "execute_result"
    }
   ],
   "source": [
    "df_api_clean.sample(5)"
   ]
  },
  {
   "cell_type": "markdown",
   "metadata": {},
   "source": [
    "<a id=\"limpeza:tweets-api:info\"></a>\n",
    "\n",
    "### 4. [Valor do id na coluna `in_reply_to_status_id` e `in_reply_to_user_id` como `string`](#limpeza:tweets-api:info)\n",
    "* Converter para Inteiro as colunas `in_reply_to_status_id` e `in_reply_to_user_id` e atribuir np.nan as que estiverem sem valor"
   ]
  },
  {
   "cell_type": "code",
   "execution_count": 114,
   "metadata": {},
   "outputs": [
    {
     "name": "stdout",
     "output_type": "stream",
     "text": [
      "<class 'pandas.core.frame.DataFrame'>\n",
      "Int64Index: 1746 entries, 0 to 1819\n",
      "Data columns (total 10 columns):\n",
      "tweet_id                 1746 non-null int64\n",
      "created_at               1746 non-null datetime64[ns, UTC]\n",
      "in_reply_to_status_id    1746 non-null object\n",
      "in_reply_to_user_id      1746 non-null object\n",
      "is_quote_status          1746 non-null bool\n",
      "retweet_count            1746 non-null int64\n",
      "favorite_count           1746 non-null int64\n",
      "jpg_url                  1746 non-null object\n",
      "retweeted                1746 non-null bool\n",
      "favorited                1746 non-null bool\n",
      "dtypes: bool(3), datetime64[ns, UTC](1), int64(3), object(3)\n",
      "memory usage: 114.2+ KB\n"
     ]
    }
   ],
   "source": [
    "df_api_clean.info()"
   ]
  },
  {
   "cell_type": "markdown",
   "metadata": {},
   "source": [
    "Converter os valores em `None` para np.nan em `in_reply_to_status_id` e `in_reply_to_user_id`"
   ]
  },
  {
   "cell_type": "code",
   "execution_count": 115,
   "metadata": {},
   "outputs": [],
   "source": [
    "def set_zero_at_none(value):\n",
    "    if str(value).lower() == 'none':\n",
    "        return '0'\n",
    "    else:\n",
    "        return value"
   ]
  },
  {
   "cell_type": "code",
   "execution_count": 116,
   "metadata": {},
   "outputs": [],
   "source": [
    "df_api_clean.in_reply_to_status_id = df_api_clean.in_reply_to_status_id.apply(set_zero_at_none)"
   ]
  },
  {
   "cell_type": "code",
   "execution_count": 117,
   "metadata": {},
   "outputs": [],
   "source": [
    "df_api_clean.in_reply_to_user_id = df_api_clean.in_reply_to_user_id.apply(set_zero_at_none)"
   ]
  },
  {
   "cell_type": "code",
   "execution_count": 118,
   "metadata": {},
   "outputs": [],
   "source": [
    "df_api_clean.loc[:, ['in_reply_to_user_id', 'in_reply_to_status_id']] = df_api_clean.loc[:, ['in_reply_to_user_id', 'in_reply_to_status_id']].astype('int64')"
   ]
  },
  {
   "cell_type": "markdown",
   "metadata": {},
   "source": [
    "Listar exemplos com valores 'None'substituídos por '0' e convertidos para `int64`"
   ]
  },
  {
   "cell_type": "code",
   "execution_count": 119,
   "metadata": {},
   "outputs": [
    {
     "data": {
      "text/html": [
       "<div>\n",
       "<style scoped>\n",
       "    .dataframe tbody tr th:only-of-type {\n",
       "        vertical-align: middle;\n",
       "    }\n",
       "\n",
       "    .dataframe tbody tr th {\n",
       "        vertical-align: top;\n",
       "    }\n",
       "\n",
       "    .dataframe thead th {\n",
       "        text-align: right;\n",
       "    }\n",
       "</style>\n",
       "<table border=\"1\" class=\"dataframe\">\n",
       "  <thead>\n",
       "    <tr style=\"text-align: right;\">\n",
       "      <th></th>\n",
       "      <th>in_reply_to_user_id</th>\n",
       "      <th>in_reply_to_status_id</th>\n",
       "    </tr>\n",
       "  </thead>\n",
       "  <tbody>\n",
       "    <tr>\n",
       "      <th>39</th>\n",
       "      <td>0</td>\n",
       "      <td>0</td>\n",
       "    </tr>\n",
       "    <tr>\n",
       "      <th>1098</th>\n",
       "      <td>0</td>\n",
       "      <td>0</td>\n",
       "    </tr>\n",
       "    <tr>\n",
       "      <th>782</th>\n",
       "      <td>0</td>\n",
       "      <td>0</td>\n",
       "    </tr>\n",
       "    <tr>\n",
       "      <th>1056</th>\n",
       "      <td>0</td>\n",
       "      <td>0</td>\n",
       "    </tr>\n",
       "    <tr>\n",
       "      <th>885</th>\n",
       "      <td>4196983835</td>\n",
       "      <td>703041949650034688</td>\n",
       "    </tr>\n",
       "  </tbody>\n",
       "</table>\n",
       "</div>"
      ],
      "text/plain": [
       "      in_reply_to_user_id  in_reply_to_status_id\n",
       "39                      0                      0\n",
       "1098                    0                      0\n",
       "782                     0                      0\n",
       "1056                    0                      0\n",
       "885            4196983835     703041949650034688"
      ]
     },
     "execution_count": 119,
     "metadata": {},
     "output_type": "execute_result"
    }
   ],
   "source": [
    "df_api_clean.loc[:, ['in_reply_to_user_id', 'in_reply_to_status_id']].sample(5)"
   ]
  },
  {
   "cell_type": "markdown",
   "metadata": {},
   "source": [
    "Converter valores iguais a 0 por `np.nan`"
   ]
  },
  {
   "cell_type": "code",
   "execution_count": 120,
   "metadata": {},
   "outputs": [],
   "source": [
    "# Função para conversão de np.nan para 0\n",
    "set_nan_at_zero = lambda value: np.nan if value is 0 else value"
   ]
  },
  {
   "cell_type": "code",
   "execution_count": 121,
   "metadata": {},
   "outputs": [],
   "source": [
    "df_api_clean.in_reply_to_status_id = df_api_clean.in_reply_to_status_id.apply(set_nan_at_zero)"
   ]
  },
  {
   "cell_type": "code",
   "execution_count": 122,
   "metadata": {},
   "outputs": [],
   "source": [
    "df_api_clean.in_reply_to_user_id = df_api_clean.in_reply_to_user_id.apply(set_nan_at_zero)"
   ]
  },
  {
   "cell_type": "markdown",
   "metadata": {},
   "source": [
    "**Teste: Confirmar conversão para inteiro das colunas `in_reply_to_status_id` e `in_reply_to_user_id`**"
   ]
  },
  {
   "cell_type": "code",
   "execution_count": 123,
   "metadata": {},
   "outputs": [
    {
     "name": "stdout",
     "output_type": "stream",
     "text": [
      "<class 'pandas.core.frame.DataFrame'>\n",
      "Int64Index: 1746 entries, 0 to 1819\n",
      "Data columns (total 10 columns):\n",
      "tweet_id                 1746 non-null int64\n",
      "created_at               1746 non-null datetime64[ns, UTC]\n",
      "in_reply_to_status_id    22 non-null float64\n",
      "in_reply_to_user_id      22 non-null float64\n",
      "is_quote_status          1746 non-null bool\n",
      "retweet_count            1746 non-null int64\n",
      "favorite_count           1746 non-null int64\n",
      "jpg_url                  1746 non-null object\n",
      "retweeted                1746 non-null bool\n",
      "favorited                1746 non-null bool\n",
      "dtypes: bool(3), datetime64[ns, UTC](1), float64(2), int64(3), object(1)\n",
      "memory usage: 114.2+ KB\n"
     ]
    }
   ],
   "source": [
    "df_api_clean.info()"
   ]
  },
  {
   "cell_type": "markdown",
   "metadata": {},
   "source": [
    "# Dataframe principal"
   ]
  },
  {
   "cell_type": "code",
   "execution_count": 124,
   "metadata": {},
   "outputs": [
    {
     "data": {
      "text/html": [
       "<div>\n",
       "<style scoped>\n",
       "    .dataframe tbody tr th:only-of-type {\n",
       "        vertical-align: middle;\n",
       "    }\n",
       "\n",
       "    .dataframe tbody tr th {\n",
       "        vertical-align: top;\n",
       "    }\n",
       "\n",
       "    .dataframe thead th {\n",
       "        text-align: right;\n",
       "    }\n",
       "</style>\n",
       "<table border=\"1\" class=\"dataframe\">\n",
       "  <thead>\n",
       "    <tr style=\"text-align: right;\">\n",
       "      <th></th>\n",
       "      <th>tweet_id</th>\n",
       "      <th>in_reply_to_status_id</th>\n",
       "      <th>in_reply_to_user_id</th>\n",
       "      <th>timestamp</th>\n",
       "      <th>text</th>\n",
       "      <th>rating_numerator</th>\n",
       "      <th>rating_denominator</th>\n",
       "      <th>name</th>\n",
       "      <th>category</th>\n",
       "    </tr>\n",
       "  </thead>\n",
       "  <tbody>\n",
       "    <tr>\n",
       "      <th>1794</th>\n",
       "      <td>677328882937298944</td>\n",
       "      <td>NaN</td>\n",
       "      <td>NaN</td>\n",
       "      <td>2015-12-17 03:26:04+00:00</td>\n",
       "      <td>This is Derek. All the dogs adore Derek. He's ...</td>\n",
       "      <td>10</td>\n",
       "      <td>10</td>\n",
       "      <td>Derek</td>\n",
       "      <td>NaN</td>\n",
       "    </tr>\n",
       "    <tr>\n",
       "      <th>1292</th>\n",
       "      <td>708109389455101952</td>\n",
       "      <td>NaN</td>\n",
       "      <td>NaN</td>\n",
       "      <td>2016-03-11 01:56:49+00:00</td>\n",
       "      <td>This is Remington. He was caught off guard by ...</td>\n",
       "      <td>10</td>\n",
       "      <td>10</td>\n",
       "      <td>Remington</td>\n",
       "      <td>NaN</td>\n",
       "    </tr>\n",
       "    <tr>\n",
       "      <th>15</th>\n",
       "      <td>889278841981685760</td>\n",
       "      <td>NaN</td>\n",
       "      <td>NaN</td>\n",
       "      <td>2017-07-24 00:19:32+00:00</td>\n",
       "      <td>This is Oliver. You're witnessing one of his m...</td>\n",
       "      <td>13</td>\n",
       "      <td>10</td>\n",
       "      <td>Oliver</td>\n",
       "      <td>NaN</td>\n",
       "    </tr>\n",
       "    <tr>\n",
       "      <th>1843</th>\n",
       "      <td>675853064436391936</td>\n",
       "      <td>NaN</td>\n",
       "      <td>NaN</td>\n",
       "      <td>2015-12-13 01:41:41+00:00</td>\n",
       "      <td>Here we have an entire platoon of puppers. Tot...</td>\n",
       "      <td>88</td>\n",
       "      <td>80</td>\n",
       "      <td>NaN</td>\n",
       "      <td>NaN</td>\n",
       "    </tr>\n",
       "    <tr>\n",
       "      <th>1166</th>\n",
       "      <td>722613351520608256</td>\n",
       "      <td>NaN</td>\n",
       "      <td>NaN</td>\n",
       "      <td>2016-04-20 02:30:23+00:00</td>\n",
       "      <td>Meet Schnitzel. He's a Tropicana Floofboop. Ge...</td>\n",
       "      <td>12</td>\n",
       "      <td>10</td>\n",
       "      <td>Schnitzel</td>\n",
       "      <td>NaN</td>\n",
       "    </tr>\n",
       "  </tbody>\n",
       "</table>\n",
       "</div>"
      ],
      "text/plain": [
       "                tweet_id  in_reply_to_status_id  in_reply_to_user_id  \\\n",
       "1794  677328882937298944                    NaN                  NaN   \n",
       "1292  708109389455101952                    NaN                  NaN   \n",
       "15    889278841981685760                    NaN                  NaN   \n",
       "1843  675853064436391936                    NaN                  NaN   \n",
       "1166  722613351520608256                    NaN                  NaN   \n",
       "\n",
       "                     timestamp  \\\n",
       "1794 2015-12-17 03:26:04+00:00   \n",
       "1292 2016-03-11 01:56:49+00:00   \n",
       "15   2017-07-24 00:19:32+00:00   \n",
       "1843 2015-12-13 01:41:41+00:00   \n",
       "1166 2016-04-20 02:30:23+00:00   \n",
       "\n",
       "                                                   text  rating_numerator  \\\n",
       "1794  This is Derek. All the dogs adore Derek. He's ...                10   \n",
       "1292  This is Remington. He was caught off guard by ...                10   \n",
       "15    This is Oliver. You're witnessing one of his m...                13   \n",
       "1843  Here we have an entire platoon of puppers. Tot...                88   \n",
       "1166  Meet Schnitzel. He's a Tropicana Floofboop. Ge...                12   \n",
       "\n",
       "      rating_denominator       name category  \n",
       "1794                  10      Derek      NaN  \n",
       "1292                  10  Remington      NaN  \n",
       "15                    10     Oliver      NaN  \n",
       "1843                  80        NaN      NaN  \n",
       "1166                  10  Schnitzel      NaN  "
      ]
     },
     "execution_count": 124,
     "metadata": {},
     "output_type": "execute_result"
    }
   ],
   "source": [
    "df_arch_clean.sample(5)"
   ]
  },
  {
   "cell_type": "code",
   "execution_count": 125,
   "metadata": {},
   "outputs": [
    {
     "data": {
      "text/html": [
       "<div>\n",
       "<style scoped>\n",
       "    .dataframe tbody tr th:only-of-type {\n",
       "        vertical-align: middle;\n",
       "    }\n",
       "\n",
       "    .dataframe tbody tr th {\n",
       "        vertical-align: top;\n",
       "    }\n",
       "\n",
       "    .dataframe thead th {\n",
       "        text-align: right;\n",
       "    }\n",
       "</style>\n",
       "<table border=\"1\" class=\"dataframe\">\n",
       "  <thead>\n",
       "    <tr style=\"text-align: right;\">\n",
       "      <th></th>\n",
       "      <th>tweet_id</th>\n",
       "      <th>created_at</th>\n",
       "      <th>in_reply_to_status_id</th>\n",
       "      <th>in_reply_to_user_id</th>\n",
       "      <th>is_quote_status</th>\n",
       "      <th>retweet_count</th>\n",
       "      <th>favorite_count</th>\n",
       "      <th>jpg_url</th>\n",
       "      <th>retweeted</th>\n",
       "      <th>favorited</th>\n",
       "    </tr>\n",
       "  </thead>\n",
       "  <tbody>\n",
       "    <tr>\n",
       "      <th>1642</th>\n",
       "      <td>669214165781868544</td>\n",
       "      <td>2015-11-24 18:01:05+00:00</td>\n",
       "      <td>NaN</td>\n",
       "      <td>NaN</td>\n",
       "      <td>False</td>\n",
       "      <td>170</td>\n",
       "      <td>441</td>\n",
       "      <td>http://pbs.twimg.com/media/CUmGu7-UcAA0r3O.jpg</td>\n",
       "      <td>False</td>\n",
       "      <td>False</td>\n",
       "    </tr>\n",
       "    <tr>\n",
       "      <th>1386</th>\n",
       "      <td>674318007229923329</td>\n",
       "      <td>2015-12-08 20:01:55+00:00</td>\n",
       "      <td>NaN</td>\n",
       "      <td>NaN</td>\n",
       "      <td>False</td>\n",
       "      <td>529</td>\n",
       "      <td>1436</td>\n",
       "      <td>http://pbs.twimg.com/media/CVuopr8WwAExw_T.jpg</td>\n",
       "      <td>False</td>\n",
       "      <td>False</td>\n",
       "    </tr>\n",
       "    <tr>\n",
       "      <th>90</th>\n",
       "      <td>837110210464448512</td>\n",
       "      <td>2017-03-02 01:20:01+00:00</td>\n",
       "      <td>NaN</td>\n",
       "      <td>NaN</td>\n",
       "      <td>False</td>\n",
       "      <td>2539</td>\n",
       "      <td>16681</td>\n",
       "      <td>http://pbs.twimg.com/media/C54DS1kXQAEU5pS.jpg</td>\n",
       "      <td>False</td>\n",
       "      <td>False</td>\n",
       "    </tr>\n",
       "    <tr>\n",
       "      <th>1240</th>\n",
       "      <td>678764513869611008</td>\n",
       "      <td>2015-12-21 02:30:45+00:00</td>\n",
       "      <td>NaN</td>\n",
       "      <td>NaN</td>\n",
       "      <td>False</td>\n",
       "      <td>503</td>\n",
       "      <td>1694</td>\n",
       "      <td>http://pbs.twimg.com/media/CWt0ubZWcAAkFER.jpg</td>\n",
       "      <td>False</td>\n",
       "      <td>False</td>\n",
       "    </tr>\n",
       "    <tr>\n",
       "      <th>624</th>\n",
       "      <td>740676976021798912</td>\n",
       "      <td>2016-06-08 22:48:46+00:00</td>\n",
       "      <td>NaN</td>\n",
       "      <td>NaN</td>\n",
       "      <td>False</td>\n",
       "      <td>7176</td>\n",
       "      <td>18874</td>\n",
       "      <td>http://pbs.twimg.com/media/Ckdpx5KWsAANF6b.jpg</td>\n",
       "      <td>False</td>\n",
       "      <td>False</td>\n",
       "    </tr>\n",
       "  </tbody>\n",
       "</table>\n",
       "</div>"
      ],
      "text/plain": [
       "                tweet_id                created_at  in_reply_to_status_id  \\\n",
       "1642  669214165781868544 2015-11-24 18:01:05+00:00                    NaN   \n",
       "1386  674318007229923329 2015-12-08 20:01:55+00:00                    NaN   \n",
       "90    837110210464448512 2017-03-02 01:20:01+00:00                    NaN   \n",
       "1240  678764513869611008 2015-12-21 02:30:45+00:00                    NaN   \n",
       "624   740676976021798912 2016-06-08 22:48:46+00:00                    NaN   \n",
       "\n",
       "      in_reply_to_user_id  is_quote_status  retweet_count  favorite_count  \\\n",
       "1642                  NaN            False            170             441   \n",
       "1386                  NaN            False            529            1436   \n",
       "90                    NaN            False           2539           16681   \n",
       "1240                  NaN            False            503            1694   \n",
       "624                   NaN            False           7176           18874   \n",
       "\n",
       "                                             jpg_url  retweeted  favorited  \n",
       "1642  http://pbs.twimg.com/media/CUmGu7-UcAA0r3O.jpg      False      False  \n",
       "1386  http://pbs.twimg.com/media/CVuopr8WwAExw_T.jpg      False      False  \n",
       "90    http://pbs.twimg.com/media/C54DS1kXQAEU5pS.jpg      False      False  \n",
       "1240  http://pbs.twimg.com/media/CWt0ubZWcAAkFER.jpg      False      False  \n",
       "624   http://pbs.twimg.com/media/Ckdpx5KWsAANF6b.jpg      False      False  "
      ]
     },
     "execution_count": 125,
     "metadata": {},
     "output_type": "execute_result"
    }
   ],
   "source": [
    "df_api_clean.sample(5)"
   ]
  },
  {
   "cell_type": "code",
   "execution_count": 127,
   "metadata": {},
   "outputs": [],
   "source": [
    "df_twitter_master = pd.merge(df_arch_clean, df_api_clean.loc[:, ['tweet_id', 'retweet_count', 'favorite_count']], how='left', on=['tweet_id'])"
   ]
  },
  {
   "cell_type": "code",
   "execution_count": 128,
   "metadata": {},
   "outputs": [
    {
     "data": {
      "text/html": [
       "<div>\n",
       "<style scoped>\n",
       "    .dataframe tbody tr th:only-of-type {\n",
       "        vertical-align: middle;\n",
       "    }\n",
       "\n",
       "    .dataframe tbody tr th {\n",
       "        vertical-align: top;\n",
       "    }\n",
       "\n",
       "    .dataframe thead th {\n",
       "        text-align: right;\n",
       "    }\n",
       "</style>\n",
       "<table border=\"1\" class=\"dataframe\">\n",
       "  <thead>\n",
       "    <tr style=\"text-align: right;\">\n",
       "      <th></th>\n",
       "      <th>tweet_id</th>\n",
       "      <th>in_reply_to_status_id</th>\n",
       "      <th>in_reply_to_user_id</th>\n",
       "      <th>timestamp</th>\n",
       "      <th>text</th>\n",
       "      <th>rating_numerator</th>\n",
       "      <th>rating_denominator</th>\n",
       "      <th>name</th>\n",
       "      <th>category</th>\n",
       "      <th>retweet_count</th>\n",
       "      <th>favorite_count</th>\n",
       "    </tr>\n",
       "  </thead>\n",
       "  <tbody>\n",
       "    <tr>\n",
       "      <th>1619</th>\n",
       "      <td>677228873407442944</td>\n",
       "      <td>NaN</td>\n",
       "      <td>NaN</td>\n",
       "      <td>2015-12-16 20:48:40+00:00</td>\n",
       "      <td>Say hello to Chuq. He just wants to fit in. 11...</td>\n",
       "      <td>11</td>\n",
       "      <td>10</td>\n",
       "      <td>Chuq</td>\n",
       "      <td>NaN</td>\n",
       "      <td>1719.0</td>\n",
       "      <td>3642.0</td>\n",
       "    </tr>\n",
       "    <tr>\n",
       "      <th>2046</th>\n",
       "      <td>668286279830867968</td>\n",
       "      <td>NaN</td>\n",
       "      <td>NaN</td>\n",
       "      <td>2015-11-22 04:33:59+00:00</td>\n",
       "      <td>Meet Rusty. Rusty's dreaming of a world where ...</td>\n",
       "      <td>11</td>\n",
       "      <td>10</td>\n",
       "      <td>Rusty</td>\n",
       "      <td>NaN</td>\n",
       "      <td>139.0</td>\n",
       "      <td>506.0</td>\n",
       "    </tr>\n",
       "    <tr>\n",
       "      <th>687</th>\n",
       "      <td>765719909049503744</td>\n",
       "      <td>NaN</td>\n",
       "      <td>NaN</td>\n",
       "      <td>2016-08-17 01:20:27+00:00</td>\n",
       "      <td>This is Brat. He has a hard time being ferocio...</td>\n",
       "      <td>12</td>\n",
       "      <td>10</td>\n",
       "      <td>Brat</td>\n",
       "      <td>NaN</td>\n",
       "      <td>2302.0</td>\n",
       "      <td>7616.0</td>\n",
       "    </tr>\n",
       "    <tr>\n",
       "      <th>1463</th>\n",
       "      <td>684097758874210310</td>\n",
       "      <td>NaN</td>\n",
       "      <td>NaN</td>\n",
       "      <td>2016-01-04 19:43:10+00:00</td>\n",
       "      <td>Say hello to Lupe. This is how she sleeps. 10/...</td>\n",
       "      <td>10</td>\n",
       "      <td>10</td>\n",
       "      <td>Lupe</td>\n",
       "      <td>NaN</td>\n",
       "      <td>1523.0</td>\n",
       "      <td>4272.0</td>\n",
       "    </tr>\n",
       "    <tr>\n",
       "      <th>1732</th>\n",
       "      <td>674410619106390016</td>\n",
       "      <td>NaN</td>\n",
       "      <td>NaN</td>\n",
       "      <td>2015-12-09 02:09:56+00:00</td>\n",
       "      <td>This is Lenny. He wants to be a sprinkler. 10/...</td>\n",
       "      <td>10</td>\n",
       "      <td>10</td>\n",
       "      <td>Lenny</td>\n",
       "      <td>NaN</td>\n",
       "      <td>481.0</td>\n",
       "      <td>1218.0</td>\n",
       "    </tr>\n",
       "  </tbody>\n",
       "</table>\n",
       "</div>"
      ],
      "text/plain": [
       "                tweet_id  in_reply_to_status_id  in_reply_to_user_id  \\\n",
       "1619  677228873407442944                    NaN                  NaN   \n",
       "2046  668286279830867968                    NaN                  NaN   \n",
       "687   765719909049503744                    NaN                  NaN   \n",
       "1463  684097758874210310                    NaN                  NaN   \n",
       "1732  674410619106390016                    NaN                  NaN   \n",
       "\n",
       "                     timestamp  \\\n",
       "1619 2015-12-16 20:48:40+00:00   \n",
       "2046 2015-11-22 04:33:59+00:00   \n",
       "687  2016-08-17 01:20:27+00:00   \n",
       "1463 2016-01-04 19:43:10+00:00   \n",
       "1732 2015-12-09 02:09:56+00:00   \n",
       "\n",
       "                                                   text  rating_numerator  \\\n",
       "1619  Say hello to Chuq. He just wants to fit in. 11...                11   \n",
       "2046  Meet Rusty. Rusty's dreaming of a world where ...                11   \n",
       "687   This is Brat. He has a hard time being ferocio...                12   \n",
       "1463  Say hello to Lupe. This is how she sleeps. 10/...                10   \n",
       "1732  This is Lenny. He wants to be a sprinkler. 10/...                10   \n",
       "\n",
       "      rating_denominator   name category  retweet_count  favorite_count  \n",
       "1619                  10   Chuq      NaN         1719.0          3642.0  \n",
       "2046                  10  Rusty      NaN          139.0           506.0  \n",
       "687                   10   Brat      NaN         2302.0          7616.0  \n",
       "1463                  10   Lupe      NaN         1523.0          4272.0  \n",
       "1732                  10  Lenny      NaN          481.0          1218.0  "
      ]
     },
     "execution_count": 128,
     "metadata": {},
     "output_type": "execute_result"
    }
   ],
   "source": [
    "df_twitter_master.sample(5)"
   ]
  },
  {
   "cell_type": "markdown",
   "metadata": {},
   "source": [
    "------\n",
    "<a id=\"armazenamento\"></a>\n",
    "\n",
    "# Armazenamento"
   ]
  },
  {
   "cell_type": "markdown",
   "metadata": {},
   "source": [
    "Salvar os dataframes limpos"
   ]
  },
  {
   "cell_type": "code",
   "execution_count": 129,
   "metadata": {},
   "outputs": [],
   "source": [
    "data_folder_path = 'data'"
   ]
  },
  {
   "cell_type": "code",
   "execution_count": 130,
   "metadata": {},
   "outputs": [],
   "source": [
    "# Dataframe clean: Twitter Archive\n",
    "df_arch_clean.to_csv(os.path.join(data_folder_path, 'twitter_archive_clean.csv'), index=None, header=True)"
   ]
  },
  {
   "cell_type": "code",
   "execution_count": 131,
   "metadata": {},
   "outputs": [],
   "source": [
    "# Dataframe clean: Tweet image prediction\n",
    "df_predict_clean.to_csv(os.path.join(data_folder_path, 'tweet_image_prediction_clean.csv'), index=None, header=True)"
   ]
  },
  {
   "cell_type": "code",
   "execution_count": 132,
   "metadata": {},
   "outputs": [],
   "source": [
    "# Dataframe clean: API requested Tweets\n",
    "df_api_clean.to_csv(os.path.join(data_folder_path, 'twitter_api_clean.csv'), index=None, header=True)"
   ]
  },
  {
   "cell_type": "code",
   "execution_count": 133,
   "metadata": {},
   "outputs": [],
   "source": [
    "# Dataframe Principal: Twitter Master \n",
    "df_twitter_master.to_csv(os.path.join(data_folder_path, 'twitter_archive_master.csv'), index=None, header=True)"
   ]
  },
  {
   "cell_type": "markdown",
   "metadata": {},
   "source": [
    "# Relatórios"
   ]
  },
  {
   "cell_type": "markdown",
   "metadata": {},
   "source": [
    "* Data wrangling efforts\n",
    "* Analyses and visualizations"
   ]
  }
 ],
 "metadata": {
  "kernelspec": {
   "display_name": "Python 3",
   "language": "python",
   "name": "python3"
  },
  "language_info": {
   "codemirror_mode": {
    "name": "ipython",
    "version": 3
   },
   "file_extension": ".py",
   "mimetype": "text/x-python",
   "name": "python",
   "nbconvert_exporter": "python",
   "pygments_lexer": "ipython3",
   "version": "3.6.8"
  }
 },
 "nbformat": 4,
 "nbformat_minor": 2
}
